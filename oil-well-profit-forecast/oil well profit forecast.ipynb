{
 "cells": [
  {
   "cell_type": "markdown",
   "metadata": {},
   "source": [
    "# Выбор локации для скважины"
   ]
  },
  {
   "cell_type": "markdown",
   "metadata": {},
   "source": [
    "Задача: на основании данных нефтеразведки необходимо провести анализ и принять решение о выборе места разработки новой скважины.\n",
    "\n",
    "Данные для анализа -  пробы нефти в трёх регионах: в каждом 10 000 месторождений, где измерили качество нефти и объём её запасов. Требуется Построить модель машинного обучения, которая поможет определить регион, где добыча принесёт наибольшую прибыль. Анализ возможной прибыли и рисков проводится техникой *Bootstrap.*\n",
    "\n",
    "Шаги для выбора локации:\n",
    "\n",
    "- В избранном регионе ищут месторождения, для каждого определяют значения признаков;\n",
    "- Строят модель и оценивают объём запасов;\n",
    "- Выбирают месторождения с самым высокими оценками значений; количество месторождений зависит от бюджета компании и стоимости разработки одной скважины;\n",
    "- Прибыль равна суммарной прибыли отобранных месторождений."
   ]
  },
  {
   "cell_type": "markdown",
   "metadata": {},
   "source": [
    "## Загрузка и подготовка данных"
   ]
  },
  {
   "cell_type": "code",
   "execution_count": 1,
   "metadata": {},
   "outputs": [],
   "source": [
    "import matplotlib.pyplot as plt #импоpт необходимых библиотек и методов\n",
    "import numpy as np\n",
    "import pandas as pd \n",
    "import pandas_profiling\n",
    "import seaborn as sns\n",
    "import warnings\n",
    "\n",
    "from numpy.random import RandomState\n",
    "from pandas_profiling import ProfileReport\n",
    "from sklearn.linear_model import LinearRegression\n",
    "from sklearn.metrics import mean_squared_error\n",
    "from sklearn.metrics import r2_score\n",
    "from sklearn.model_selection import train_test_split"
   ]
  },
  {
   "cell_type": "code",
   "execution_count": 2,
   "metadata": {},
   "outputs": [],
   "source": [
    "%matplotlib inline"
   ]
  },
  {
   "cell_type": "code",
   "execution_count": 3,
   "metadata": {},
   "outputs": [],
   "source": [
    "warnings.simplefilter('ignore')#отключение предупреждений"
   ]
  },
  {
   "cell_type": "markdown",
   "metadata": {},
   "source": [
    "### Загрузка данных геологоразведки для исследуемых регионов"
   ]
  },
  {
   "cell_type": "code",
   "execution_count": 4,
   "metadata": {},
   "outputs": [],
   "source": [
    "data_0 = pd.read_csv(r'C:\\Users\\lebeda\\Yandex_Practicum\\Yandex_projects\\data_sets\\prjkt_8(sp11)\\geo_data_0.csv') #чтение файла данных геологоразведки региона 0"
   ]
  },
  {
   "cell_type": "code",
   "execution_count": 5,
   "metadata": {},
   "outputs": [],
   "source": [
    "data_1 = pd.read_csv(r'C:\\Users\\lebeda\\Yandex_Practicum\\Yandex_projects\\data_sets\\prjkt_8(sp11)\\geo_data_1.csv') #чтение файла данных геологоразведки региона 1"
   ]
  },
  {
   "cell_type": "code",
   "execution_count": 6,
   "metadata": {},
   "outputs": [],
   "source": [
    "data_2 = pd.read_csv(r'C:\\Users\\lebeda\\Yandex_Practicum\\Yandex_projects\\data_sets\\prjkt_8(sp11)\\geo_data_2.csv') #чтение файла данных геологоразведки региона 2"
   ]
  },
  {
   "cell_type": "code",
   "execution_count": 7,
   "metadata": {},
   "outputs": [],
   "source": [
    "data_list = [data_0, data_1, data_2]"
   ]
  },
  {
   "cell_type": "markdown",
   "metadata": {},
   "source": [
    "### Ознакомление с данными"
   ]
  },
  {
   "cell_type": "code",
   "execution_count": 8,
   "metadata": {},
   "outputs": [
    {
     "name": "stdout",
     "output_type": "stream",
     "text": [
      "Region 0 :\n",
      "      id        f0        f1        f2     product\n",
      "0  txEyH  0.705745 -0.497823  1.221170  105.280062\n",
      "1  2acmU  1.334711 -0.340164  4.365080   73.037750\n",
      "2  409Wp  1.022732  0.151990  1.419926   85.265647\n",
      "3  iJLyR -0.032172  0.139033  2.978566  168.620776\n",
      "4  Xdl7t  1.988431  0.155413  4.751769  154.036647\n",
      "\n",
      "Region 1 :\n",
      "      id         f0         f1        f2     product\n",
      "0  kBEdx -15.001348  -8.276000 -0.005876    3.179103\n",
      "1  62mP7  14.272088  -3.475083  0.999183   26.953261\n",
      "2  vyE1P   6.263187  -5.948386  5.001160  134.766305\n",
      "3  KcrkZ -13.081196 -11.506057  4.999415  137.945408\n",
      "4  AHL4O  12.702195  -8.147433  5.004363  134.766305\n",
      "\n",
      "Region 2 :\n",
      "      id        f0        f1        f2     product\n",
      "0  fwXo0 -1.146987  0.963328 -0.828965   27.758673\n",
      "1  WJtFt  0.262778  0.269839 -2.530187   56.069697\n",
      "2  ovLUW  0.194587  0.289035 -5.586433   62.871910\n",
      "3  q6cA6  2.236060 -0.553760  0.930038  114.572842\n",
      "4  WPMUX -0.515993  1.716266  5.899011  149.600746\n",
      "\n"
     ]
    }
   ],
   "source": [
    "n = 0\n",
    "for i in data_list: #пример содержания загружкнных таблиц\n",
    "    print('Region', n, ':')\n",
    "    print(i.head())\n",
    "    print()\n",
    "    n+=1\n",
    "    "
   ]
  },
  {
   "cell_type": "markdown",
   "metadata": {},
   "source": [
    "**Ознакомление с данными по региону 0** "
   ]
  },
  {
   "cell_type": "code",
   "execution_count": 9,
   "metadata": {
    "scrolled": true
   },
   "outputs": [
    {
     "data": {
      "text/html": [
       "<meta charset=\"UTF-8\">\n",
       "\n",
       "<style>\n",
       "\n",
       "        .variablerow {\n",
       "            border: 1px solid #e1e1e8;\n",
       "            border-top: hidden;\n",
       "            padding-top: 2em;\n",
       "            padding-bottom: 2em;\n",
       "            padding-left: 1em;\n",
       "            padding-right: 1em;\n",
       "        }\n",
       "\n",
       "        .headerrow {\n",
       "            border: 1px solid #e1e1e8;\n",
       "            background-color: #f5f5f5;\n",
       "            padding: 2em;\n",
       "        }\n",
       "        .namecol {\n",
       "            margin-top: -1em;\n",
       "            overflow-x: auto;\n",
       "        }\n",
       "\n",
       "        .dl-horizontal dt {\n",
       "            text-align: left;\n",
       "            padding-right: 1em;\n",
       "            white-space: normal;\n",
       "        }\n",
       "\n",
       "        .dl-horizontal dd {\n",
       "            margin-left: 0;\n",
       "        }\n",
       "\n",
       "        .ignore {\n",
       "            opacity: 0.4;\n",
       "        }\n",
       "\n",
       "        .container.pandas-profiling {\n",
       "            max-width:975px;\n",
       "        }\n",
       "\n",
       "        .col-md-12 {\n",
       "            padding-left: 2em;\n",
       "        }\n",
       "\n",
       "        .indent {\n",
       "            margin-left: 1em;\n",
       "        }\n",
       "\n",
       "        .center-img {\n",
       "            margin-left: auto !important;\n",
       "            margin-right: auto !important;\n",
       "            display: block;\n",
       "        }\n",
       "\n",
       "        /* Table example_values */\n",
       "            table.example_values {\n",
       "                border: 0;\n",
       "            }\n",
       "\n",
       "            .example_values th {\n",
       "                border: 0;\n",
       "                padding: 0 ;\n",
       "                color: #555;\n",
       "                font-weight: 600;\n",
       "            }\n",
       "\n",
       "            .example_values tr, .example_values td{\n",
       "                border: 0;\n",
       "                padding: 0;\n",
       "                color: #555;\n",
       "            }\n",
       "\n",
       "        /* STATS */\n",
       "            table.stats {\n",
       "                border: 0;\n",
       "            }\n",
       "\n",
       "            .stats th {\n",
       "                border: 0;\n",
       "                padding: 0 2em 0 0;\n",
       "                color: #555;\n",
       "                font-weight: 600;\n",
       "            }\n",
       "\n",
       "            .stats tr {\n",
       "                border: 0;\n",
       "            }\n",
       "\n",
       "            .stats td{\n",
       "                color: #555;\n",
       "                padding: 1px;\n",
       "                border: 0;\n",
       "            }\n",
       "\n",
       "\n",
       "        /* Sample table */\n",
       "            table.sample {\n",
       "                border: 0;\n",
       "                margin-bottom: 2em;\n",
       "                margin-left:1em;\n",
       "            }\n",
       "            .sample tr {\n",
       "                border:0;\n",
       "            }\n",
       "            .sample td, .sample th{\n",
       "                padding: 0.5em;\n",
       "                white-space: nowrap;\n",
       "                border: none;\n",
       "\n",
       "            }\n",
       "\n",
       "            .sample thead {\n",
       "                border-top: 0;\n",
       "                border-bottom: 2px solid #ddd;\n",
       "            }\n",
       "\n",
       "            .sample td {\n",
       "                width:100%;\n",
       "            }\n",
       "\n",
       "\n",
       "        /* There is no good solution available to make the divs equal height and then center ... */\n",
       "            .histogram {\n",
       "                margin-top: 3em;\n",
       "            }\n",
       "        /* Freq table */\n",
       "\n",
       "            table.freq {\n",
       "                margin-bottom: 2em;\n",
       "                border: 0;\n",
       "            }\n",
       "            table.freq th, table.freq tr, table.freq td {\n",
       "                border: 0;\n",
       "                padding: 0;\n",
       "            }\n",
       "\n",
       "            .freq thead {\n",
       "                font-weight: 600;\n",
       "                white-space: nowrap;\n",
       "                overflow: hidden;\n",
       "                text-overflow: ellipsis;\n",
       "\n",
       "            }\n",
       "\n",
       "            td.fillremaining{\n",
       "                width:auto;\n",
       "                max-width: none;\n",
       "            }\n",
       "\n",
       "            td.number, th.number {\n",
       "                text-align:right ;\n",
       "            }\n",
       "\n",
       "        /* Freq mini */\n",
       "            .freq.mini td{\n",
       "                width: 50%;\n",
       "                padding: 1px;\n",
       "                font-size: 12px;\n",
       "\n",
       "            }\n",
       "            table.freq.mini {\n",
       "                 width:100%;\n",
       "            }\n",
       "            .freq.mini th {\n",
       "                overflow: hidden;\n",
       "                text-overflow: ellipsis;\n",
       "                white-space: nowrap;\n",
       "                max-width: 5em;\n",
       "                font-weight: 400;\n",
       "                text-align:right;\n",
       "                padding-right: 0.5em;\n",
       "            }\n",
       "\n",
       "            .missing {\n",
       "                color: #a94442;\n",
       "            }\n",
       "            .alert, .alert > th, .alert > td {\n",
       "                color: #a94442;\n",
       "            }\n",
       "\n",
       "\n",
       "        /* Bars in tables */\n",
       "            .freq .bar{\n",
       "                float: left;\n",
       "                width: 0;\n",
       "                height: 100%;\n",
       "                line-height: 20px;\n",
       "                color: #fff;\n",
       "                text-align: center;\n",
       "                background-color: #337ab7;\n",
       "                border-radius: 3px;\n",
       "                margin-right: 4px;\n",
       "            }\n",
       "            .other .bar {\n",
       "                background-color: #999;\n",
       "            }\n",
       "            .missing .bar{\n",
       "                background-color: #a94442;\n",
       "            }\n",
       "            .tooltip-inner {\n",
       "                width: 100%;\n",
       "                white-space: nowrap;\n",
       "                text-align:left;\n",
       "            }\n",
       "\n",
       "            .extrapadding{\n",
       "                padding: 2em;\n",
       "            }\n",
       "\n",
       "            .pp-anchor{\n",
       "\n",
       "            }\n",
       "\n",
       "</style>\n",
       "\n",
       "<div class=\"container pandas-profiling\">\n",
       "    <div class=\"row headerrow highlight\">\n",
       "        <h1>Overview</h1>\n",
       "    </div>\n",
       "    <div class=\"row variablerow\">\n",
       "    <div class=\"col-md-6 namecol\">\n",
       "        <p class=\"h4\">Dataset info</p>\n",
       "        <table class=\"stats\" style=\"margin-left: 1em;\">\n",
       "            <tbody>\n",
       "            <tr>\n",
       "                <th>Number of variables</th>\n",
       "                <td>5 </td>\n",
       "            </tr>\n",
       "            <tr>\n",
       "                <th>Number of observations</th>\n",
       "                <td>100000 </td>\n",
       "            </tr>\n",
       "            <tr>\n",
       "                <th>Total Missing (%)</th>\n",
       "                <td>0.0% </td>\n",
       "            </tr>\n",
       "            <tr>\n",
       "                <th>Total size in memory</th>\n",
       "                <td>3.8 MiB </td>\n",
       "            </tr>\n",
       "            <tr>\n",
       "                <th>Average record size in memory</th>\n",
       "                <td>40.0 B </td>\n",
       "            </tr>\n",
       "            </tbody>\n",
       "        </table>\n",
       "    </div>\n",
       "    <div class=\"col-md-6 namecol\">\n",
       "        <p class=\"h4\">Variables types</p>\n",
       "        <table class=\"stats\" style=\"margin-left: 1em;\">\n",
       "            <tbody>\n",
       "            <tr>\n",
       "                <th>Numeric</th>\n",
       "                <td>4 </td>\n",
       "            </tr>\n",
       "            <tr>\n",
       "                <th>Categorical</th>\n",
       "                <td>1 </td>\n",
       "            </tr>\n",
       "            <tr>\n",
       "                <th>Boolean</th>\n",
       "                <td>0 </td>\n",
       "            </tr>\n",
       "            <tr>\n",
       "                <th>Date</th>\n",
       "                <td>0 </td>\n",
       "            </tr>\n",
       "            <tr>\n",
       "                <th>Text (Unique)</th>\n",
       "                <td>0 </td>\n",
       "            </tr>\n",
       "            <tr>\n",
       "                <th>Rejected</th>\n",
       "                <td>0 </td>\n",
       "            </tr>\n",
       "            <tr>\n",
       "                <th>Unsupported</th>\n",
       "                <td>0 </td>\n",
       "            </tr>\n",
       "            </tbody>\n",
       "        </table>\n",
       "    </div>\n",
       "    <div class=\"col-md-12\" style=\"padding-left: 1em;\">\n",
       "        \n",
       "        <p class=\"h4\">Warnings</p>\n",
       "        <ul class=\"list-unstyled\"><li><a href=\"#pp_var_id\"><code>id</code></a> has a high cardinality: 99990 distinct values  <span class=\"label label-warning\">Warning</span></li> </ul>\n",
       "    </div>\n",
       "</div>\n",
       "    <div class=\"row headerrow highlight\">\n",
       "        <h1>Variables</h1>\n",
       "    </div>\n",
       "    <div class=\"row variablerow\">\n",
       "    <div class=\"col-md-3 namecol\">\n",
       "        <p class=\"h4 pp-anchor\" id=\"pp_var_id\">id<br/>\n",
       "            <small>Categorical</small>\n",
       "        </p>\n",
       "    </div><div class=\"col-md-3\">\n",
       "    <table class=\"stats \">\n",
       "        <tr class=\"alert\">\n",
       "            <th>Distinct count</th>\n",
       "            <td>99990</td>\n",
       "        </tr>\n",
       "        <tr>\n",
       "            <th>Unique (%)</th>\n",
       "            <td>100.0%</td>\n",
       "        </tr>\n",
       "        <tr class=\"ignore\">\n",
       "            <th>Missing (%)</th>\n",
       "            <td>0.0%</td>\n",
       "        </tr>\n",
       "        <tr class=\"ignore\">\n",
       "            <th>Missing (n)</th>\n",
       "            <td>0</td>\n",
       "        </tr>\n",
       "    </table>\n",
       "</div>\n",
       "<div class=\"col-md-6 collapse in\" id=\"minifreqtable-3739705186233904590\">\n",
       "    <table class=\"mini freq\">\n",
       "        <tr class=\"\">\n",
       "    <th>TtcGQ</th>\n",
       "    <td>\n",
       "        <div class=\"bar\" style=\"width:1%\" data-toggle=\"tooltip\" data-placement=\"right\" data-html=\"true\"\n",
       "             data-delay=500 title=\"Percentage: 0.0%\">\n",
       "            &nbsp;\n",
       "        </div>\n",
       "        2\n",
       "    </td>\n",
       "</tr><tr class=\"\">\n",
       "    <th>74z30</th>\n",
       "    <td>\n",
       "        <div class=\"bar\" style=\"width:1%\" data-toggle=\"tooltip\" data-placement=\"right\" data-html=\"true\"\n",
       "             data-delay=500 title=\"Percentage: 0.0%\">\n",
       "            &nbsp;\n",
       "        </div>\n",
       "        2\n",
       "    </td>\n",
       "</tr><tr class=\"\">\n",
       "    <th>HZww2</th>\n",
       "    <td>\n",
       "        <div class=\"bar\" style=\"width:1%\" data-toggle=\"tooltip\" data-placement=\"right\" data-html=\"true\"\n",
       "             data-delay=500 title=\"Percentage: 0.0%\">\n",
       "            &nbsp;\n",
       "        </div>\n",
       "        2\n",
       "    </td>\n",
       "</tr><tr class=\"other\">\n",
       "    <th>Other values (99987)</th>\n",
       "    <td>\n",
       "        <div class=\"bar\" style=\"width:100%\" data-toggle=\"tooltip\" data-placement=\"right\" data-html=\"true\"\n",
       "             data-delay=500 title=\"Percentage: 100.0%\">\n",
       "            99994\n",
       "        </div>\n",
       "        \n",
       "    </td>\n",
       "</tr>\n",
       "    </table>\n",
       "</div>\n",
       "<div class=\"col-md-12 text-right\">\n",
       "    <a role=\"button\" data-toggle=\"collapse\" data-target=\"#freqtable-3739705186233904590, #minifreqtable-3739705186233904590\"\n",
       "       aria-expanded=\"true\" aria-controls=\"collapseExample\">\n",
       "        Toggle details\n",
       "    </a>\n",
       "</div>\n",
       "<div class=\"col-md-12 extrapadding collapse\" id=\"freqtable-3739705186233904590\">\n",
       "    \n",
       "<table class=\"freq table table-hover\">\n",
       "    <thead>\n",
       "    <tr>\n",
       "        <td class=\"fillremaining\">Value</td>\n",
       "        <td class=\"number\">Count</td>\n",
       "        <td class=\"number\">Frequency (%)</td>\n",
       "        <td style=\"min-width:200px\">&nbsp;</td>\n",
       "    </tr>\n",
       "    </thead>\n",
       "    <tr class=\"\">\n",
       "        <td class=\"fillremaining\">TtcGQ</td>\n",
       "        <td class=\"number\">2</td>\n",
       "        <td class=\"number\">0.0%</td>\n",
       "        <td>\n",
       "            <div class=\"bar\" style=\"width:1%\">&nbsp;</div>\n",
       "        </td>\n",
       "</tr><tr class=\"\">\n",
       "        <td class=\"fillremaining\">74z30</td>\n",
       "        <td class=\"number\">2</td>\n",
       "        <td class=\"number\">0.0%</td>\n",
       "        <td>\n",
       "            <div class=\"bar\" style=\"width:1%\">&nbsp;</div>\n",
       "        </td>\n",
       "</tr><tr class=\"\">\n",
       "        <td class=\"fillremaining\">HZww2</td>\n",
       "        <td class=\"number\">2</td>\n",
       "        <td class=\"number\">0.0%</td>\n",
       "        <td>\n",
       "            <div class=\"bar\" style=\"width:1%\">&nbsp;</div>\n",
       "        </td>\n",
       "</tr><tr class=\"\">\n",
       "        <td class=\"fillremaining\">QcMuo</td>\n",
       "        <td class=\"number\">2</td>\n",
       "        <td class=\"number\">0.0%</td>\n",
       "        <td>\n",
       "            <div class=\"bar\" style=\"width:1%\">&nbsp;</div>\n",
       "        </td>\n",
       "</tr><tr class=\"\">\n",
       "        <td class=\"fillremaining\">Tdehs</td>\n",
       "        <td class=\"number\">2</td>\n",
       "        <td class=\"number\">0.0%</td>\n",
       "        <td>\n",
       "            <div class=\"bar\" style=\"width:1%\">&nbsp;</div>\n",
       "        </td>\n",
       "</tr><tr class=\"\">\n",
       "        <td class=\"fillremaining\">bxg6G</td>\n",
       "        <td class=\"number\">2</td>\n",
       "        <td class=\"number\">0.0%</td>\n",
       "        <td>\n",
       "            <div class=\"bar\" style=\"width:1%\">&nbsp;</div>\n",
       "        </td>\n",
       "</tr><tr class=\"\">\n",
       "        <td class=\"fillremaining\">AGS9W</td>\n",
       "        <td class=\"number\">2</td>\n",
       "        <td class=\"number\">0.0%</td>\n",
       "        <td>\n",
       "            <div class=\"bar\" style=\"width:1%\">&nbsp;</div>\n",
       "        </td>\n",
       "</tr><tr class=\"\">\n",
       "        <td class=\"fillremaining\">bsk9y</td>\n",
       "        <td class=\"number\">2</td>\n",
       "        <td class=\"number\">0.0%</td>\n",
       "        <td>\n",
       "            <div class=\"bar\" style=\"width:1%\">&nbsp;</div>\n",
       "        </td>\n",
       "</tr><tr class=\"\">\n",
       "        <td class=\"fillremaining\">fiKDv</td>\n",
       "        <td class=\"number\">2</td>\n",
       "        <td class=\"number\">0.0%</td>\n",
       "        <td>\n",
       "            <div class=\"bar\" style=\"width:1%\">&nbsp;</div>\n",
       "        </td>\n",
       "</tr><tr class=\"\">\n",
       "        <td class=\"fillremaining\">A5aEY</td>\n",
       "        <td class=\"number\">2</td>\n",
       "        <td class=\"number\">0.0%</td>\n",
       "        <td>\n",
       "            <div class=\"bar\" style=\"width:1%\">&nbsp;</div>\n",
       "        </td>\n",
       "</tr><tr class=\"other\">\n",
       "        <td class=\"fillremaining\">Other values (99980)</td>\n",
       "        <td class=\"number\">99980</td>\n",
       "        <td class=\"number\">100.0%</td>\n",
       "        <td>\n",
       "            <div class=\"bar\" style=\"width:100%\">&nbsp;</div>\n",
       "        </td>\n",
       "</tr>\n",
       "</table>\n",
       "</div>\n",
       "</div><div class=\"row variablerow\">\n",
       "    <div class=\"col-md-3 namecol\">\n",
       "        <p class=\"h4 pp-anchor\" id=\"pp_var_f0\">f0<br/>\n",
       "            <small>Numeric</small>\n",
       "        </p>\n",
       "    </div><div class=\"col-md-6\">\n",
       "    <div class=\"row\">\n",
       "        <div class=\"col-sm-6\">\n",
       "            <table class=\"stats \">\n",
       "                <tr>\n",
       "                    <th>Distinct count</th>\n",
       "                    <td>100000</td>\n",
       "                </tr>\n",
       "                <tr>\n",
       "                    <th>Unique (%)</th>\n",
       "                    <td>100.0%</td>\n",
       "                </tr>\n",
       "                <tr class=\"ignore\">\n",
       "                    <th>Missing (%)</th>\n",
       "                    <td>0.0%</td>\n",
       "                </tr>\n",
       "                <tr class=\"ignore\">\n",
       "                    <th>Missing (n)</th>\n",
       "                    <td>0</td>\n",
       "                </tr>\n",
       "                <tr class=\"ignore\">\n",
       "                    <th>Infinite (%)</th>\n",
       "                    <td>0.0%</td>\n",
       "                </tr>\n",
       "                <tr class=\"ignore\">\n",
       "                    <th>Infinite (n)</th>\n",
       "                    <td>0</td>\n",
       "                </tr>\n",
       "            </table>\n",
       "\n",
       "        </div>\n",
       "        <div class=\"col-sm-6\">\n",
       "            <table class=\"stats \">\n",
       "\n",
       "                <tr>\n",
       "                    <th>Mean</th>\n",
       "                    <td>0.50042</td>\n",
       "                </tr>\n",
       "                <tr>\n",
       "                    <th>Minimum</th>\n",
       "                    <td>-1.4086</td>\n",
       "                </tr>\n",
       "                <tr>\n",
       "                    <th>Maximum</th>\n",
       "                    <td>2.3623</td>\n",
       "                </tr>\n",
       "                <tr class=\"ignore\">\n",
       "                    <th>Zeros (%)</th>\n",
       "                    <td>0.0%</td>\n",
       "                </tr>\n",
       "            </table>\n",
       "        </div>\n",
       "    </div>\n",
       "</div>\n",
       "<div class=\"col-md-3 collapse in\" id=\"minihistogram-3521790219913727306\">\n",
       "    <img src=\"data:image/png;base64,iVBORw0KGgoAAAANSUhEUgAAAMgAAABLCAYAAAA1fMjoAAAAOXRFWHRTb2Z0d2FyZQBNYXRwbG90bGliIHZlcnNpb24zLjUuMywgaHR0cHM6Ly9tYXRwbG90bGliLm9yZy/NK7nSAAAACXBIWXMAAA9hAAAPYQGoP6dpAAAB2ElEQVR4nO3cQa7SYBiG0a83TlvmhO7CRbgnxw7dj4twFxAW0MaBA6kD5U70vhETWlrOGdKQvyR9%2BPhDoZmmaaqZnU6n6vt%2B7mVZuePxWIfDYdY138262m9t21bVrxfcdd0Sp8CKDMNQfd%2B/XjdzWiSQpmmqqqrruk0H8v7jl5uf8/XThzucyTZcr5s5vcy%2BIqzIIhOEt5k6j8UEgUAgEAgEAnuQDbh132LP8u9MEAgEAoFAIBAIBDbpN/ifL/FYNxMEgk1MELdncC%2BbCIT7e9Y3IR%2BxIBAIBAKBQCAQCAQCgUAgEAgEAoFAIBAIBAKBQCAQPO3Nis/8245nfu23MkEgEAgEAoFAIBAIBAKBQCAQCAQCgUAgeNpv0rm/LfxVkAkCgUAgEAgED7cHcacpj8QEgUAgEAgEAoFAsMgmfZqmqqoahuGPYz%2B%2Bf5v7dHggf7smro9dr5s5LRLIOI5VVdX3/RLL88B2n98%2BNo5j7Xa7%2BU6mqpppgSwvl0udz%2Bdq27aappl7eVZmmqYax7H2%2B329vMy7K1gkEFgLm3QIBAKBQCAQCAQCgUAgEAgEAoFAIBAIBAKBQCAQCAQCgUAgEAgEAoFAIBAIBAKBQCAQCAQCgUAgEAgEgp9yxVUdfGBasQAAAABJRU5ErkJggg%3D%3D\">\n",
       "\n",
       "</div>\n",
       "<div class=\"col-md-12 text-right\">\n",
       "    <a role=\"button\" data-toggle=\"collapse\" data-target=\"#descriptives-3521790219913727306,#minihistogram-3521790219913727306\"\n",
       "       aria-expanded=\"false\" aria-controls=\"collapseExample\">\n",
       "        Toggle details\n",
       "    </a>\n",
       "</div>\n",
       "<div class=\"row collapse col-md-12\" id=\"descriptives-3521790219913727306\">\n",
       "    <ul class=\"nav nav-tabs\" role=\"tablist\">\n",
       "        <li role=\"presentation\" class=\"active\"><a href=\"#quantiles-3521790219913727306\"\n",
       "                                                  aria-controls=\"quantiles-3521790219913727306\" role=\"tab\"\n",
       "                                                  data-toggle=\"tab\">Statistics</a></li>\n",
       "        <li role=\"presentation\"><a href=\"#histogram-3521790219913727306\" aria-controls=\"histogram-3521790219913727306\"\n",
       "                                   role=\"tab\" data-toggle=\"tab\">Histogram</a></li>\n",
       "        <li role=\"presentation\"><a href=\"#common-3521790219913727306\" aria-controls=\"common-3521790219913727306\"\n",
       "                                   role=\"tab\" data-toggle=\"tab\">Common Values</a></li>\n",
       "        <li role=\"presentation\"><a href=\"#extreme-3521790219913727306\" aria-controls=\"extreme-3521790219913727306\"\n",
       "                                   role=\"tab\" data-toggle=\"tab\">Extreme Values</a></li>\n",
       "\n",
       "    </ul>\n",
       "\n",
       "    <div class=\"tab-content\">\n",
       "        <div role=\"tabpanel\" class=\"tab-pane active row\" id=\"quantiles-3521790219913727306\">\n",
       "            <div class=\"col-md-4 col-md-offset-1\">\n",
       "                <p class=\"h4\">Quantile statistics</p>\n",
       "                <table class=\"stats indent\">\n",
       "                    <tr>\n",
       "                        <th>Minimum</th>\n",
       "                        <td>-1.4086</td>\n",
       "                    </tr>\n",
       "                    <tr>\n",
       "                        <th>5-th percentile</th>\n",
       "                        <td>-0.94043</td>\n",
       "                    </tr>\n",
       "                    <tr>\n",
       "                        <th>Q1</th>\n",
       "                        <td>-0.07258</td>\n",
       "                    </tr>\n",
       "                    <tr>\n",
       "                        <th>Median</th>\n",
       "                        <td>0.50236</td>\n",
       "                    </tr>\n",
       "                    <tr>\n",
       "                        <th>Q3</th>\n",
       "                        <td>1.0736</td>\n",
       "                    </tr>\n",
       "                    <tr>\n",
       "                        <th>95-th percentile</th>\n",
       "                        <td>1.9393</td>\n",
       "                    </tr>\n",
       "                    <tr>\n",
       "                        <th>Maximum</th>\n",
       "                        <td>2.3623</td>\n",
       "                    </tr>\n",
       "                    <tr>\n",
       "                        <th>Range</th>\n",
       "                        <td>3.7709</td>\n",
       "                    </tr>\n",
       "                    <tr>\n",
       "                        <th>Interquartile range</th>\n",
       "                        <td>1.1462</td>\n",
       "                    </tr>\n",
       "                </table>\n",
       "            </div>\n",
       "            <div class=\"col-md-4 col-md-offset-2\">\n",
       "                <p class=\"h4\">Descriptive statistics</p>\n",
       "                <table class=\"stats indent\">\n",
       "                    <tr>\n",
       "                        <th>Standard deviation</th>\n",
       "                        <td>0.87183</td>\n",
       "                    </tr>\n",
       "                    <tr>\n",
       "                        <th>Coef of variation</th>\n",
       "                        <td>1.7422</td>\n",
       "                    </tr>\n",
       "                    <tr>\n",
       "                        <th>Kurtosis</th>\n",
       "                        <td>-0.86891</td>\n",
       "                    </tr>\n",
       "                    <tr>\n",
       "                        <th>Mean</th>\n",
       "                        <td>0.50042</td>\n",
       "                    </tr>\n",
       "                    <tr>\n",
       "                        <th>MAD</th>\n",
       "                        <td>0.72186</td>\n",
       "                    </tr>\n",
       "                    <tr class=\"\">\n",
       "                        <th>Skewness</th>\n",
       "                        <td>-0.00033691</td>\n",
       "                    </tr>\n",
       "                    <tr>\n",
       "                        <th>Sum</th>\n",
       "                        <td>50042</td>\n",
       "                    </tr>\n",
       "                    <tr>\n",
       "                        <th>Variance</th>\n",
       "                        <td>0.76009</td>\n",
       "                    </tr>\n",
       "                    <tr>\n",
       "                        <th>Memory size</th>\n",
       "                        <td>781.4 KiB</td>\n",
       "                    </tr>\n",
       "                </table>\n",
       "            </div>\n",
       "        </div>\n",
       "        <div role=\"tabpanel\" class=\"tab-pane col-md-8 col-md-offset-2\" id=\"histogram-3521790219913727306\">\n",
       "            <img src=\"data:image/png;base64,iVBORw0KGgoAAAANSUhEUgAAAlgAAAGQCAYAAAByNR6YAAAAOXRFWHRTb2Z0d2FyZQBNYXRwbG90bGliIHZlcnNpb24zLjUuMywgaHR0cHM6Ly9tYXRwbG90bGliLm9yZy/NK7nSAAAACXBIWXMAAA9hAAAPYQGoP6dpAAA550lEQVR4nO3de1RVdf7/8ddBBNQEQgNkhUZlXtK8lmHq5MgIIzVSNpNK5RTp5ECJlrdvZXYbE8drOTJOU9SkXfyWVlooYUoloaKkkloW4yU90DeFI5SIsH9/9GOvTmpe%2BsDh4POx1l6rsz/v/blw1um83GeffRyWZVkCAACAMT6engAAAEBjQ8ACAAAwjIAFAABgGAELAADAMAIWAACAYQQsAAAAwwhYAAAAhhGwAAAADCNgAQAAGEbAAgAAMIyABQAAYBgBCwAAwDACFgAAgGEELAAAAMMIWAAAAIYRsAAAAAwjYAEAABhGwAIAADCMgAUAAGAYAQsAAMAwAhYAAIBhBCwAAADDCFgAAACGEbAAAAAMI2ABAAAYRsACAAAwjIAFAABgGAELAADAMAIWAACAYQQsAAAAwwhYAAAAhhGwAAAADCNgAQAAGEbAAgAAMIyABQAAYBgBCwAAwDACFgAAgGEELAAAAMN8PT2BC0FNTY0OHjyoli1byuFweHo6AABcECzL0tGjRxURESEfn/o9p0TAqgcHDx5UZGSkp6cBAMAFaf/%2B/br00kvrdUwCVj1o2bKlpB%2Bf4MDAQA/PBgCAC4PL5VJkZKT9PlyfCFj1oPZjwcDAQAIWAAD1zBOX53CROwAAgGEELAAAAMMIWAAAAIYRsAAAAAwjYAEAABhGwAIAADCMgAUAAGAYAQsAAMAwAhYAAIBhDTZg5eTk6Oabb1ZERIQcDodWrFhxUs3OnTv1hz/8QUFBQWrRooWuvfZa7du3z24/duyYkpOT1apVK1100UUaNmyYiouL3frYt2%2Bf4uPj1bx5c4WGhmrixIk6ceKEW826devUs2dP%2Bfv768orr1RGRkZdLBkAADQSDTZgVVRUqFu3blq4cOEp27/66iv169dPHTt21Lp167Rt2zY9%2BuijCggIsGvGjx%2Bvd999V8uWLdP69et18OBB3XrrrXZ7dXW14uPjdfz4cW3YsEEvvfSSMjIyNG3aNLumqKhI8fHxGjhwoAoKCpSamqp7771Xq1evrrvFAwAAr%2BawLMvy9CTOxOFwaPny5UpISLD3DR8%2BXE2bNtV//vOfUx5TVlamSy65REuXLtVtt90mSdq1a5c6deqk3NxcXX/99Xr//fd100036eDBgwoLC5Mkpaena/Lkyfr222/l5%2BenyZMna9WqVdqxY4fb2KWlpcrMzDyr%2BbtcLgUFBamsrIzfIgQAoJ548v3XK3/suaamRqtWrdKkSZMUGxurrVu3KioqSlOnTrVDWH5%2BvqqqqhQTE2Mf17FjR7Vt29YOWLm5ueratasdriQpNjZWY8eOVWFhoXr06KHc3Fy3PmprUlNTTzu/yspKVVZW2o9dLpeZhQONRO%2BHz%2B4fJw3F5qfjPD0FAF6mwX5E%2BEtKSkpUXl6uZ555RnFxcVqzZo1uueUW3XrrrVq/fr0kyel0ys/PT8HBwW7HhoWFyel02jU/DVe17bVtv1Tjcrn0ww8/nHJ%2BM2bMUFBQkL1FRkb%2B6jUDAADv4ZUBq6amRpI0dOhQjR8/Xt27d9eUKVN00003KT093cOzk6ZOnaqysjJ7279/v6enBAAA6pFXBqzWrVvL19dXnTt3dtvfqVMn%2B1uE4eHhOn78uEpLS91qiouLFR4ebtf8/FuFtY/PVBMYGKhmzZqdcn7%2B/v4KDAx02wAAwIXDKwOWn5%2Bfrr32Wu3evdtt/xdffKF27dpJknr16qWmTZsqOzvbbt%2B9e7f27dun6OhoSVJ0dLS2b9%2BukpISuyYrK0uBgYF2eIuOjnbro7amtg8AAICfa7AXuZeXl2vPnj3246KiIhUUFCgkJERt27bVxIkTdfvtt2vAgAEaOHCgMjMz9e6772rdunWSpKCgICUlJWnChAkKCQlRYGCg7r//fkVHR%2Bv666%2BXJA0ePFidO3fWnXfeqbS0NDmdTj3yyCNKTk6Wv7%2B/JOm%2B%2B%2B7Tc889p0mTJumee%2B7R2rVr9cYbb2jVqlX1/jcBAADeocEGrM2bN2vgwIH24wkTJkiSRo0apYyMDN1yyy1KT0/XjBkz9MADD6hDhw5688031a9fP/uYuXPnysfHR8OGDVNlZaViY2P1j3/8w25v0qSJVq5cqbFjxyo6OlotWrTQqFGj9MQTT9g1UVFRWrVqlcaPH6/58%2Bfr0ksv1fPPP6/Y2Nh6%2BCsAAABv5BX3wfJ23AcLcMdtGgDUB0%2B%2B/3rlNVgAAAANGQELAADAMAIWAACAYQQsAAAAwxrstwgBoKHgonwA54ozWAAAAIYRsAAAAAwjYAEAABhGwAIAADCMgAUAAGAYAQsAAMAwAhYAAIBhBCwAAADDCFgAAACGEbAAAAAMI2ABAAAYRsACAAAwjIAFAABgGAELAADAMAIWAACAYQQsAAAAwwhYAAAAhhGwAAAADCNgAQAAGEbAAgAAMIyABQAAYBgBCwAAwLAGG7BycnJ08803KyIiQg6HQytWrDht7X333SeHw6F58%2Ba57T98%2BLASExMVGBio4OBgJSUlqby83K1m27Zt6t%2B/vwICAhQZGam0tLST%2Bl%2B2bJk6duyogIAAde3aVe%2B9956JJQIAgEaqwQasiooKdevWTQsXLvzFuuXLl%2BvTTz9VRETESW2JiYkqLCxUVlaWVq5cqZycHI0ZM8Zud7lcGjx4sNq1a6f8/HzNmjVL06dP1%2BLFi%2B2aDRs2aMSIEUpKStLWrVuVkJCghIQE7dixw9xiAQBAo%2BKwLMvy9CTOxOFwaPny5UpISHDb/80336hPnz5avXq14uPjlZqaqtTUVEnSzp071blzZ23atEm9e/eWJGVmZmrIkCE6cOCAIiIitGjRIj388MNyOp3y8/OTJE2ZMkUrVqzQrl27JEm33367KioqtHLlSnvc66%2B/Xt27d1d6evpZzd/lcikoKEhlZWUKDAz8lX8NwPv1fjjT01NAA7H56ThPTwGNmCfffxvsGawzqamp0Z133qmJEyfq6quvPqk9NzdXwcHBdriSpJiYGPn4%2BCgvL8%2BuGTBggB2uJCk2Nla7d%2B/WkSNH7JqYmBi3vmNjY5Wbm3vauVVWVsrlcrltAADgwuG1AWvmzJny9fXVAw88cMp2p9Op0NBQt32%2Bvr4KCQmR0%2Bm0a8LCwtxqah%2Bfqaa2/VRmzJihoKAge4uMjDy3xQEAAK/mlQErPz9f8%2BfPV0ZGhhwOh6enc5KpU6eqrKzM3vbv3%2B/pKQEAgHrklQHro48%2BUklJidq2bStfX1/5%2Bvpq7969evDBB3XZZZdJksLDw1VSUuJ23IkTJ3T48GGFh4fbNcXFxW41tY/PVFPbfir%2B/v4KDAx02wAAwIXDKwPWnXfeqW3btqmgoMDeIiIiNHHiRK1evVqSFB0drdLSUuXn59vHrV27VjU1NerTp49dk5OTo6qqKrsmKytLHTp00MUXX2zXZGdnu42flZWl6Ojoul4mAADwUr6ensDplJeXa8%2BePfbjoqIiFRQUKCQkRG3btlWrVq3c6ps2barw8HB16NBBktSpUyfFxcVp9OjRSk9PV1VVlVJSUjR8%2BHD7lg4jR47U448/rqSkJE2ePFk7duzQ/PnzNXfuXLvfcePG6Te/%2BY1mz56t%2BPh4vfbaa9q8ebPbrRwAAAB%2BqsGewdq8ebN69OihHj16SJImTJigHj16aNq0aWfdx5IlS9SxY0cNGjRIQ4YMUb9%2B/dyCUVBQkNasWaOioiL16tVLDz74oKZNm%2BZ2r6y%2Bfftq6dKlWrx4sbp166b//d//1YoVK9SlSxdziwUAAI2KV9wHy9txHyzAHffBQi3ug4W6xH2wAAAAGhECFgAAgGEELAAAAMMIWAAAAIYRsAAAAAwjYAEAABhGwAIAADCMgAUAAGAYAQsAAMAwAhYAAIBhBCwAAADDCFgAAACGEbAAAAAMI2ABAAAYRsACAAAwjIAFAABgGAELAADAMAIWAACAYQQsAAAAwwhYAAAAhhGwAAAADCNgAQAAGObr6QkAMKP3w5mengIA4P/jDBYAAIBhBCwAAADDCFgAAACGEbAAAAAMa7ABKycnRzfffLMiIiLkcDi0YsUKu62qqkqTJ09W165d1aJFC0VEROiuu%2B7SwYMH3fo4fPiwEhMTFRgYqODgYCUlJam8vNytZtu2berfv78CAgIUGRmptLS0k%2BaybNkydezYUQEBAeratavee%2B%2B9OlkzAABoHBpswKqoqFC3bt20cOHCk9q%2B//57bdmyRY8%2B%2Bqi2bNmit956S7t379Yf/vAHt7rExEQVFhYqKytLK1euVE5OjsaMGWO3u1wuDR48WO3atVN%2Bfr5mzZql6dOna/HixXbNhg0bNGLECCUlJWnr1q1KSEhQQkKCduzYUXeLBwAAXs1hWZbl6UmcicPh0PLly5WQkHDamk2bNum6667T3r171bZtW%2B3cuVOdO3fWpk2b1Lt3b0lSZmamhgwZogMHDigiIkKLFi3Sww8/LKfTKT8/P0nSlClTtGLFCu3atUuSdPvtt6uiokIrV660x7r%2B%2BuvVvXt3paenn9X8XS6XgoKCVFZWpsDAwPP8KwC/jNs0wBttfjrO01NAI%2BbJ998GewbrXJWVlcnhcCg4OFiSlJubq%2BDgYDtcSVJMTIx8fHyUl5dn1wwYMMAOV5IUGxur3bt368iRI3ZNTEyM21ixsbHKzc097VwqKyvlcrncNgAAcOFoFAHr2LFjmjx5skaMGGEnVKfTqdDQULc6X19fhYSEyOl02jVhYWFuNbWPz1RT234qM2bMUFBQkL1FRkb%2BugUCAACv4vUBq6qqSn/6059kWZYWLVrk6elIkqZOnaqysjJ7279/v6enBAAA6pFX/1RObbjau3ev1q5d6/b5anh4uEpKStzqT5w4ocOHDys8PNyuKS4udqupfXymmtr2U/H395e/v//5LwwAAHg1rz2DVRuuvvzyS33wwQdq1aqVW3t0dLRKS0uVn59v71u7dq1qamrUp08fuyYnJ0dVVVV2TVZWljp06KCLL77YrsnOznbrOysrS9HR0XW1NAAA4OUabMAqLy9XQUGBCgoKJElFRUUqKCjQvn37VFVVpdtuu02bN2/WkiVLVF1dLafTKafTqePHj0uSOnXqpLi4OI0ePVobN27UJ598opSUFA0fPlwRERGSpJEjR8rPz09JSUkqLCzU66%2B/rvnz52vChAn2PMaNG6fMzEzNnj1bu3bt0vTp07V582alpKTU%2B98EAAB4hwZ7m4Z169Zp4MCBJ%2B0fNWqUpk%2BfrqioqFMe9%2BGHH%2BrGG2%2BU9OONRlNSUvTuu%2B/Kx8dHw4YN04IFC3TRRRfZ9du2bVNycrI2bdqk1q1b6/7779fkyZPd%2Bly2bJkeeeQR/fe//1X79u2VlpamIUOGnPVauE0D6gO3aYA34jYNqEuefP9tsAGrMSFgoT4QsOCNCFioS9wHCwAAoBEhYAEAABjm1bdpgHfxto%2Bw%2BOgCAHC%2BOIMFAABgGAELAADAMAIWAACAYQQsAAAAwwhYAAAAhhGwAAAADOM2DQAAnCVuN4OzxRksAAAAwwhYAAAAhhGwAAAADCNgAQAAGEbAAgAAMIyABQAAYBgBCwAAwDACFgAAgGEELAAAAMMIWAAAAIYRsAAAAAwjYAEAABhGwAIAADCMgAUAAGAYAQsAAMAwAhYAAIBhBCwAAADDGmzAysnJ0c0336yIiAg5HA6tWLHCrd2yLE2bNk1t2rRRs2bNFBMToy%2B//NKt5vDhw0pMTFRgYKCCg4OVlJSk8vJyt5pt27apf//%2BCggIUGRkpNLS0k6ay7Jly9SxY0cFBASoa9eueu%2B994yvFwAANB7GA9bXX39tpJ%2BKigp169ZNCxcuPGV7WlqaFixYoPT0dOXl5alFixaKjY3VsWPH7JrExEQVFhYqKytLK1euVE5OjsaMGWO3u1wuDR48WO3atVN%2Bfr5mzZql6dOna/HixXbNhg0bNGLECCUlJWnr1q1KSEhQQkKCduzYYWSdAACg8TEesK688koNHDhQr7zyilvYOVe///3v9dRTT%2BmWW245qc2yLM2bN0%2BPPPKIhg4dqmuuuUYvv/yyDh48aJ/p2rlzpzIzM/X888%2BrT58%2B6tevn5599lm99tprOnjwoCRpyZIlOn78uF544QVdffXVGj58uB544AHNmTPHHmv%2B/PmKi4vTxIkT1alTJz355JPq2bOnnnvuufNeGwAAaNyMB6wtW7bommuu0YQJExQeHq6//OUv2rhxo9ExioqK5HQ6FRMTY%2B8LCgpSnz59lJubK0nKzc1VcHCwevfubdfExMTIx8dHeXl5ds2AAQPk5%2Bdn18TGxmr37t06cuSIXfPTcWprasc5lcrKSrlcLrcNAABcOIwHrO7du2v%2B/Pk6ePCgXnjhBR06dEj9%2BvVTly5dNGfOHH377be/egyn0ylJCgsLc9sfFhZmtzmdToWGhrq1%2B/r6KiQkxK3mVH38dIzT1dS2n8qMGTMUFBRkb5GRkee6RAAA4MXq7CJ3X19f3XrrrVq2bJlmzpypPXv26KGHHlJkZKTuuusuHTp0qK6G9ripU6eqrKzM3vbv3%2B/pKQEAgHpUZwFr8%2BbN%2Butf/6o2bdpozpw5euihh/TVV18pKytLBw8e1NChQ8%2B77/DwcElScXGx2/7i4mK7LTw8XCUlJW7tJ06c0OHDh91qTtXHT8c4XU1t%2B6n4%2B/srMDDQbQMAABcO4wFrzpw56tq1q/r27auDBw/q5Zdf1t69e/XUU08pKipK/fv3V0ZGhrZs2XLeY0RFRSk8PFzZ2dn2PpfLpby8PEVHR0uSoqOjVVpaqvz8fLtm7dq1qqmpUZ8%2BfeyanJwcVVVV2TVZWVnq0KGDLr74Yrvmp%2BPU1tSOAwAA8HPGA9aiRYs0cuRI7d27VytWrNBNN90kHx/3YUJDQ/Xvf//7F/spLy9XQUGBCgoKJP14YXtBQYH27dsnh8Oh1NRUPfXUU3rnnXe0fft23XXXXYqIiFBCQoIkqVOnToqLi9Po0aO1ceNGffLJJ0pJSdHw4cMVEREhSRo5cqT8/PyUlJSkwsJCvf7665o/f74mTJhgz2PcuHHKzMzU7NmztWvXLk2fPl2bN29WSkqKuT8aAABoVHxNd/jzm32eip%2Bfn0aNGvWLNZs3b9bAgQPtx7WhZ9SoUcrIyNCkSZNUUVGhMWPGqLS0VP369VNmZqYCAgLsY5YsWaKUlBQNGjRIPj4%2BGjZsmBYsWGC3BwUFac2aNUpOTlavXr3UunVrTZs2ze1eWX379tXSpUv1yCOP6H/%2B53/Uvn17rVixQl26dDnrvwkAALiwOCzLskx2%2BOKLL%2Bqiiy7SH//4R7f9y5Yt0/fff3/GYNUYuVwuBQUFqays7IK%2BHqv3w5mensI52fx0nKencE687e8LSLzO6pq3/X1N8%2BT7r/GPCGfMmKHWrVuftD80NFR/%2B9vfTA8HAADQ4BgPWPv27VNUVNRJ%2B9u1a6d9%2B/aZHg4AAKDBMR6wQkNDtW3btpP2f/bZZ2rVqpXp4QAAABoc4wFrxIgReuCBB/Thhx%2Bqurpa1dXVWrt2rcaNG6fhw4ebHg4AAKDBMf4twieffFL//e9/NWjQIPn6/th9TU2N7rrrLq7BAgAAFwTjAcvPz0%2Bvv/66nnzySX322Wdq1qyZunbtqnbt2pkeCgAAoEEyHrBqXXXVVbrqqqvqqnsAAIAGy3jAqq6uVkZGhrKzs1VSUqKamhq39rVr15oeEgAAoEExHrDGjRunjIwMxcfHq0uXLnI4HKaHAAAAaNCMB6zXXntNb7zxhoYMGWK6awAAAK9g/DYNfn5%2BuvLKK013CwAA4DWMB6wHH3xQ8%2BfPl%2BGfOAQAAPAaxj8i/Pjjj/Xhhx/q/fff19VXX62mTZu6tb/11lumhwQAAGhQjAes4OBg3XLLLaa7BQAA8BrGA9aLL75ouksAAACvYvwaLEk6ceKEPvjgA/3zn//U0aNHJUkHDx5UeXl5XQwHAADQoBg/g7V3717FxcVp3759qqys1O9%2B9zu1bNlSM2fOVGVlpdLT000PCQAA0KAYP4M1btw49e7dW0eOHFGzZs3s/bfccouys7NNDwcAANDgGD%2BD9dFHH2nDhg3y8/Nz23/ZZZfpm2%2B%2BMT0cAABAg2P8DFZNTY2qq6tP2n/gwAG1bNnS9HAAAAANjvGANXjwYM2bN89%2B7HA4VF5erscee4yfzwEAABcE4x8Rzp49W7GxsercubOOHTumkSNH6ssvv1Tr1q316quvmh4OAACgwTEesC699FJ99tlneu2117Rt2zaVl5crKSlJiYmJbhe9AwAANFbGA5Yk%2Bfr66o477qiLrgEAABo84wHr5Zdf/sX2u%2B66y/SQAAAADYrxgDVu3Di3x1VVVfr%2B%2B%2B/l5%2Ben5s2bE7AAAECjZ/xbhEeOHHHbysvLtXv3bvXr14%2BL3AEAwAWhTn6L8Ofat2%2BvZ5555qSzW79GdXW1Hn30UUVFRalZs2a64oor9OSTT8qyLLvGsixNmzZNbdq0UbNmzRQTE6Mvv/zSrZ/Dhw8rMTFRgYGBCg4OVlJS0km/mbht2zb1799fAQEBioyMVFpamrF1AACAxqdeApb044XvBw8eNNbfzJkztWjRIj333HPauXOnZs6cqbS0ND377LN2TVpamhYsWKD09HTl5eWpRYsWio2N1bFjx%2ByaxMREFRYWKisrSytXrlROTo7GjBljt7tcLg0ePFjt2rVTfn6%2BZs2apenTp2vx4sXG1gIAABoX49dgvfPOO26PLcvSoUOH9Nxzz%2BmGG24wNs6GDRs0dOhQxcfHS/rxp3heffVVbdy40R533rx5euSRRzR06FBJP16AHxYWphUrVmj48OHauXOnMjMztWnTJvXu3VuS9Oyzz2rIkCH6%2B9//roiICC1ZskTHjx/XCy%2B8ID8/P1199dUqKCjQnDlz3IIYAABALeMBKyEhwe2xw%2BHQJZdcot/%2B9reaPXu2sXH69u2rxYsX64svvtBVV12lzz77TB9//LHmzJkjSSoqKpLT6VRMTIx9TFBQkPr06aPc3FwNHz5cubm5Cg4OtsOVJMXExMjHx0d5eXm65ZZblJubqwEDBrj9tmJsbKxmzpypI0eO6OKLLz5pbpWVlaqsrLQfu1wuY%2BsGAAANn/GAVVNTY7rLU5oyZYpcLpc6duyoJk2aqLq6Wk8//bQSExMlSU6nU5IUFhbmdlxYWJjd5nQ6FRoa6tbu6%2BurkJAQt5qoqKiT%2BqhtO1XAmjFjhh5//HEDqwQAAN6o3q7BMu2NN97QkiVLtHTpUm3ZskUvvfSS/v73v%2Bull17y9NQ0depUlZWV2dv%2B/fs9PSUAAFCPjJ/BmjBhwlnX1n6cdz4mTpyoKVOmaPjw4ZKkrl27au/evZoxY4ZGjRql8PBwSVJxcbHatGljH1dcXKzu3btLksLDw1VSUuLW74kTJ3T48GH7%2BPDwcBUXF7vV1D6urfk5f39/%2Bfv7n/faAACAdzMesLZu3aqtW7eqqqpKHTp0kCR98cUXatKkiXr27GnXORyOXzXO999/Lx8f9xNwTZo0sT%2BijIqKUnh4uLKzs%2B1A5XK5lJeXp7Fjx0qSoqOjVVpaqvz8fPXq1UuStHbtWtXU1KhPnz52zcMPP6yqqio1bdpUkpSVlaUOHTqc8uNBAAAA4wHr5ptvVsuWLfXSSy/ZAeTIkSO6%2B%2B671b9/fz344IPGxnn66afVtm1bXX311dq6davmzJmje%2B65R9KPAS41NVVPPfWU2rdvr6ioKD366KOKiIiwL8Tv1KmT4uLiNHr0aKWnp6uqqkopKSkaPny4IiIiJEkjR47U448/rqSkJE2ePFk7duzQ/PnzNXfuXCPrAAAAjY/xgDV79mytWbPG7ezOxRdfrKeeekqDBw82FrCeffZZPfroo/rrX/%2BqkpISRURE6C9/%2BYumTZtm10yaNEkVFRUaM2aMSktL1a9fP2VmZiogIMCuWbJkiVJSUjRo0CD5%2BPho2LBhWrBggd0eFBSkNWvWKDk5Wb169VLr1q01bdo0btEAAABOy3jAcrlc%2Bvbbb0/a/%2B233%2Bro0aPGxmnZsqXmzZunefPmnbbG4XDoiSee0BNPPHHampCQEC1duvQXx7rmmmv00Ucfne9UAQDABcb4twhvueUW3X333Xrrrbd04MABHThwQG%2B%2B%2BaaSkpJ06623mh4OAACgwTF%2BBis9PV0PPfSQRo4cqaqqqh8H8fVVUlKSZs2aZXo4AACABsd4wGrevLn%2B8Y9/aNasWfrqq68kSVdccYVatGhheigAAIAGqc5uNHro0CEdOnRI7du3V4sWLWRZVl0NBQAA0KAYD1jfffedBg0apKuuukpDhgzRoUOHJElJSUnGvkEIAADQkBkPWOPHj1fTpk21b98%2BNW/e3N5/%2B%2B23KzMz0/RwAAAADY7xa7DWrFmj1atX69JLL3Xb3759e%2B3du9f0cAAAAA2O8TNYFRUVbmeuah0%2BfJjf5wMAABcE4wGrf//%2Bevnll%2B3HDodDNTU1SktL08CBA00PBwAA0OAY/4gwLS1NgwYN0ubNm3X8%2BHFNmjRJhYWFOnz4sD755BPTwwEAADQ4xs9gdenSRV988YX69eunoUOHqqKiQrfeequ2bt2qK664wvRwAAAADY7RM1hVVVWKi4tTenq6Hn74YZNdAwAAeA2jAatp06batm2byS4Bj%2Bn9MLcVAQCcH%2BMfEd5xxx3697//bbpbAAAAr2H8IvcTJ07ohRde0AcffKBevXqd9BuEc%2BbMMT0kAABAg2IsYH399de67LLLtGPHDvXs2VOS9MUXX7jVOBwOU8MBAAA0WMYCVvv27XXo0CF9%2BOGHkn78aZwFCxYoLCzM1BAAgEaGax3RWBm7BsuyLLfH77//vioqKkx1DwAA4DWMX%2BRe6%2BeBCwAA4EJhLGA5HI6TrrHimisAAHAhMnYNlmVZ%2BvOf/2z/oPOxY8d03333nfQtwrfeesvUkAAAAA2SsYA1atQot8d33HGHqa4BAAC8irGA9eKLL5rqCgAAwKvV2UXuAAAAFyoCFgAAgGEELAAAAMMIWAAAAIZ5dcD65ptvdMcdd6hVq1Zq1qyZunbtqs2bN9vtlmVp2rRpatOmjZo1a6aYmBh9%2BeWXbn0cPnxYiYmJCgwMVHBwsJKSklReXu5Ws23bNvXv318BAQGKjIxUWlpavawPAAB4J68NWEeOHNENN9ygpk2b6v3339fnn3%2Bu2bNn6%2BKLL7Zr0tLStGDBAqWnpysvL08tWrRQbGysjh07ZtckJiaqsLBQWVlZWrlypXJycjRmzBi73eVyafDgwWrXrp3y8/M1a9YsTZ8%2BXYsXL67X9QIAAO/hsLz0N22mTJmiTz75RB999NEp2y3LUkREhB588EE99NBDkqSysjKFhYUpIyNDw4cP186dO9W5c2dt2rRJvXv3liRlZmZqyJAhOnDggCIiIrRo0SI9/PDDcjqd8vPzs8desWKFdu3adVZzdblcCgoKUllZmQIDAw2s3jvxo64AUL82Px3n6Sl4lCfff732DNY777yj3r17649//KNCQ0PVo0cP/etf/7Lbi4qK5HQ6FRMTY%2B8LCgpSnz59lJubK0nKzc1VcHCwHa4kKSYmRj4%2BPsrLy7NrBgwYYIcrSYqNjdXu3bt15MiRU86tsrJSLpfLbQMAABcOrw1YX3/9tRYtWqT27dtr9erVGjt2rB544AG99NJLkiSn0ylJCgsLczsuLCzMbnM6nQoNDXVr9/X1VUhIiFvNqfr46Rg/N2PGDAUFBdlbZGTkr1wtAADwJl4bsGpqatSzZ0/97W9/U48ePTRmzBiNHj1a6enpnp6apk6dqrKyMnvbv3%2B/p6cEAADqkdcGrDZt2qhz585u%2Bzp16qR9%2B/ZJksLDwyVJxcXFbjXFxcV2W3h4uEpKStzaT5w4ocOHD7vVnKqPn47xc/7%2B/goMDHTbAADAhcNrA9YNN9yg3bt3u%2B374osv1K5dO0lSVFSUwsPDlZ2dbbe7XC7l5eUpOjpakhQdHa3S0lLl5%2BfbNWvXrlVNTY369Olj1%2BTk5KiqqsquycrKUocOHdy%2BsQgAAFDLawPW%2BPHj9emnn%2Bpvf/ub9uzZo6VLl2rx4sVKTk6WJDkcDqWmpuqpp57SO%2B%2B8o%2B3bt%2Buuu%2B5SRESEEhISJP14xisuLk6jR4/Wxo0b9cknnyglJUXDhw9XRESEJGnkyJHy8/NTUlKSCgsL9frrr2v%2B/PmaMGGCp5YOAAAaOF9PT%2BB8XXvttVq%2BfLmmTp2qJ554QlFRUZo3b54SExPtmkmTJqmiokJjxoxRaWmp%2BvXrp8zMTAUEBNg1S5YsUUpKigYNGiQfHx8NGzZMCxYssNuDgoK0Zs0aJScnq1evXmrdurWmTZvmdq8sAACAn/La%2B2B5E%2B6D9SPugwUA9Yv7YHEfLAAAgEaDgAUAAGAYAQsAAMAwAhYAAIBhBCwAAADDCFgAAACGEbAAAAAMI2ABAAAYRsACAAAwjIAFAABgGAELAADAMAIWAACAYQQsAAAAwwhYAAAAhhGwAAAADCNgAQAAGEbAAgAAMIyABQAAYBgBCwAAwDACFgAAgGEELAAAAMMIWAAAAIYRsAAAAAwjYAEAABhGwAIAADCMgAUAAGAYAQsAAMCwRhOwnnnmGTkcDqWmptr7jh07puTkZLVq1UoXXXSRhg0bpuLiYrfj9u3bp/j4eDVv3lyhoaGaOHGiTpw44Vazbt069ezZU/7%2B/rryyiuVkZFRDysCAADeqlEErE2bNumf//ynrrnmGrf948eP17vvvqtly5Zp/fr1OnjwoG699Va7vbq6WvHx8Tp%2B/Lg2bNigl156SRkZGZo2bZpdU1RUpPj4eA0cOFAFBQVKTU3Vvffeq9WrV9fb%2BgAAgHfx%2BoBVXl6uxMRE/etf/9LFF19s7y8rK9O///1vzZkzR7/97W/Vq1cvvfjii9qwYYM%2B/fRTSdKaNWv0%2Beef65VXXlH37t31%2B9//Xk8%2B%2BaQWLlyo48ePS5LS09MVFRWl2bNnq1OnTkpJSdFtt92muXPnemS9AACg4fP6gJWcnKz4%2BHjFxMS47c/Pz1dVVZXb/o4dO6pt27bKzc2VJOXm5qpr164KCwuza2JjY%2BVyuVRYWGjX/Lzv2NhYu49TqayslMvlctsAAMCFw9fTE/g1XnvtNW3ZskWbNm06qc3pdMrPz0/BwcFu%2B8PCwuR0Ou2an4ar2vbatl%2Bqcblc%2BuGHH9SsWbOTxp4xY4Yef/zx814XAADwbl57Bmv//v0aN26clixZooCAAE9Px83UqVNVVlZmb/v37/f0lAAAQD3y2oCVn5%2BvkpIS9ezZU76%2BvvL19dX69eu1YMEC%2Bfr6KiwsTMePH1dpaanbccXFxQoPD5ckhYeHn/StwtrHZ6oJDAw85dkrSfL391dgYKDbBgAALhxeG7AGDRqk7du3q6CgwN569%2B6txMRE%2B7%2BbNm2q7Oxs%2B5jdu3dr3759io6OliRFR0dr%2B/btKikpsWuysrIUGBiozp072zU/7aO2prYPAACAn/Paa7BatmypLl26uO1r0aKFWrVqZe9PSkrShAkTFBISosDAQN1///2Kjo7W9ddfL0kaPHiwOnfurDvvvFNpaWlyOp165JFHlJycLH9/f0nSfffdp%2Beee06TJk3SPffco7Vr1%2BqNN97QqlWr6nfBAADAa3htwDobc%2BfOlY%2BPj4YNG6bKykrFxsbqH//4h93epEkTrVy5UmPHjlV0dLRatGihUaNG6YknnrBroqKitGrVKo0fP17z58/XpZdequeff16xsbGeWBIAAPACDsuyLE9PorFzuVwKCgpSWVnZBX09Vu%2BHMz09BQC4oGx%2BOs7TU/AoT77/eu01WAAAAA0VAQsAAMAwAhYAAIBhBCwAAADDCFgAAACGNerbNAAAcCHzpm9vN7ZvPHIGCwAAwDACFgAAgGEELAAAAMMIWAAAAIYRsAAAAAwjYAEAABhGwAIAADCMgAUAAGAYAQsAAMAwAhYAAIBhBCwAAADDCFgAAACGEbAAAAAMI2ABAAAYRsACAAAwjIAFAABgGAELAADAMAIWAACAYQQsAAAAwwhYAAAAhhGwAAAADPPagDVjxgxde%2B21atmypUJDQ5WQkKDdu3e71Rw7dkzJyclq1aqVLrroIg0bNkzFxcVuNfv27VN8fLyaN2%2Bu0NBQTZw4USdOnHCrWbdunXr27Cl/f39deeWVysjIqOvlAQAAL%2Ba1AWv9%2BvVKTk7Wp59%2BqqysLFVVVWnw4MGqqKiwa8aPH693331Xy5Yt0/r163Xw4EHdeuutdnt1dbXi4%2BN1/PhxbdiwQS%2B99JIyMjI0bdo0u6aoqEjx8fEaOHCgCgoKlJqaqnvvvVerV6%2Bu1/UCAADv4bAsy/L0JEz49ttvFRoaqvXr12vAgAEqKyvTJZdcoqVLl%2Bq2226TJO3atUudOnVSbm6urr/%2Ber3//vu66aabdPDgQYWFhUmS0tPTNXnyZH377bfy8/PT5MmTtWrVKu3YscMea/jw4SotLVVmZuZZzc3lcikoKEhlZWUKDAw0v3gv0fvhs/t7AQAuPJufjjPepyfff33rdbQ6VFZWJkkKCQmRJOXn56uqqkoxMTF2TceOHdW2bVs7YOXm5qpr1652uJKk2NhYjR07VoWFherRo4dyc3Pd%2BqitSU1NPe1cKisrVVlZaT92uVwmlnhKhBYAABoer/2I8KdqamqUmpqqG264QV26dJEkOZ1O%2Bfn5KTg42K02LCxMTqfTrvlpuKptr237pRqXy6UffvjhlPOZMWOGgoKC7C0yMvJXrxEAAHiPRhGwkpOTtWPHDr322muenookaerUqSorK7O3/fv3e3pKAACgHnn9R4QpKSlauXKlcnJydOmll9r7w8PDdfz4cZWWlrqdxSouLlZ4eLhds3HjRrf%2Bar9l%2BNOan3/zsLi4WIGBgWrWrNkp5%2BTv7y9/f/9fvTYAAOCdvPYMlmVZSklJ0fLly7V27VpFRUW5tffq1UtNmzZVdna2vW/37t3at2%2BfoqOjJUnR0dHavn27SkpK7JqsrCwFBgaqc%2BfOds1P%2B6itqe0DAADg57z2DFZycrKWLl2qt99%2BWy1btrSvmQoKClKzZs0UFBSkpKQkTZgwQSEhIQoMDNT999%2Bv6OhoXX/99ZKkwYMHq3PnzrrzzjuVlpYmp9OpRx55RMnJyfYZqPvuu0/PPfecJk2apHvuuUdr167VG2%2B8oVWrVnls7QAAoGHz2jNYixYtUllZmW688Ua1adPG3l5//XW7Zu7cubrppps0bNgwDRgwQOHh4Xrrrbfs9iZNmmjlypVq0qSJoqOjdccdd%2Biuu%2B7SE088YddERUVp1apVysrKUrdu3TR79mw9//zzio2Nrdf1AgAA79Fo7oPVkNXlfTi4TQMAoDFobPfB8tozWAAAAA0VAQsAAMAwAhYAAIBhBCwAAADDCFgAAACGEbAAAAAMI2ABAAAYRsACAAAwjIAFAABgGAELAADAMAIWAACAYQQsAAAAwwhYAAAAhhGwAAAADCNgAQAAGEbAAgAAMIyABQAAYBgBCwAAwDACFgAAgGEELAAAAMMIWAAAAIYRsAAAAAwjYAEAABhGwAIAADCMgAUAAGAYAQsAAMAwAhYAAIBhBKyztHDhQl122WUKCAhQnz59tHHjRk9PCQAANFAErLPw%2Buuva8KECXrssce0ZcsWdevWTbGxsSopKfH01AAAQANEwDoLc%2BbM0ejRo3X33Xerc%2BfOSk9PV/PmzfXCCy94emoAAKAB8vX0BBq648ePKz8/X1OnTrX3%2Bfj4KCYmRrm5uac8prKyUpWVlfbjsrIySZLL5TI%2Bv%2BrKCuN9AgBQ3%2BriPbK2T8uyjPd9JgSsM/i///s/VVdXKywszG1/WFiYdu3adcpjZsyYoccff/yk/ZGRkXUyRwAAvF3Q7Lrr%2B%2BjRowoKCqq7AU6BgFUHpk6dqgkTJtiPa2pqdPjwYbVq1UoOh%2BMXj3W5XIqMjNT%2B/fsVGBhY11P1GNbZuLDOxuVCWOeFsEaJdVqWpaNHjyoiIqLe50TAOoPWrVurSZMmKi4udttfXFys8PDwUx7j7%2B8vf39/t33BwcHnNG5gYGCjfjHUYp2NC%2BtsXC6EdV4Ia5Qu7HXW95mrWlzkfgZ%2Bfn7q1auXsrOz7X01NTXKzs5WdHS0B2cGAAAaKs5gnYUJEyZo1KhR6t27t6677jrNmzdPFRUVuvvuuz09NQAA0AARsM7C7bffrm%2B//VbTpk2T0%2BlU9%2B7dlZmZedKF7yb4%2B/vrscceO%2BkjxsaGdTYurLNxuRDWeSGsUWKdnuSwPPHdRQAAgEaMa7AAAAAMI2ABAAAYRsACAAAwjIAFAABgGAGrAXj66afVt29fNW/e/KxvSPrnP/9ZDofDbYuLi6vbif5K57NOy7I0bdo0tWnTRs2aNVNMTIy%2B/PLLup3or3T48GElJiYqMDBQwcHBSkpKUnl5%2BS8ec%2BONN570fN533331NOOzs3DhQl122WUKCAhQnz59tHHjxl%2BsX7ZsmTp27KiAgAB17dpV7733Xj3N9Nc5l3VmZGSc9LwFBATU42zPXU5Ojm6%2B%2BWZFRETI4XBoxYoVZzxm3bp16tmzp/z9/XXllVcqIyOjzuf5a53rOtetW3fSc%2BlwOOR0OutnwudhxowZuvbaa9WyZUuFhoYqISFBu3fvPuNx3vbaPJ91NoTXJgGrATh%2B/Lj%2B%2BMc/auzYsed0XFxcnA4dOmRvr776ah3N0IzzWWdaWpoWLFig9PR05eXlqUWLFoqNjdWxY8fqcKa/TmJiogoLC5WVlaWVK1cqJydHY8aMOeNxo0ePdns%2B09LS6mG2Z%2Bf111/XhAkT9Nhjj2nLli3q1q2bYmNjVVJScsr6DRs2aMSIEUpKStLWrVuVkJCghIQE7dixo55nfm7OdZ3Sj3eO/unztnfv3nqc8bmrqKhQt27dtHDhwrOqLyoqUnx8vAYOHKiCggKlpqbq3nvv1erVq%2Bt4pr/Oua6z1u7du92ez9DQ0Dqa4a%2B3fv16JScn69NPP1VWVpaqqqo0ePBgVVRUnPYYb3xtns86pQbw2rTQYLz44otWUFDQWdWOGjXKGjp0aJ3Op66c7Tpramqs8PBwa9asWfa%2B0tJSy9/f33r11VfrcIbn7/PPP7ckWZs2bbL3vf/%2B%2B5bD4bC%2B%2Beab0x73m9/8xho3blw9zPD8XHfddVZycrL9uLq62oqIiLBmzJhxyvo//elPVnx8vNu%2BPn36WH/5y1/qdJ6/1rmu81xesw2RJGv58uW/WDNp0iTr6quvdtt3%2B%2B23W7GxsXU4M7POZp0ffvihJck6cuRIvcypLpSUlFiSrPXr15%2B2xltfmz91NutsCK9NzmB5sXXr1ik0NFQdOnTQ2LFj9d1333l6SkYVFRXJ6XQqJibG3hcUFKQ%2BffooNzfXgzM7vdzcXAUHB6t37972vpiYGPn4%2BCgvL%2B8Xj12yZIlat26tLl26aOrUqfr%2B%2B%2B/rerpn5fjx48rPz3d7Hnx8fBQTE3Pa5yE3N9etXpJiY2Mb7PMmnd86Jam8vFzt2rVTZGSkhg4dqsLCwvqYbr3xxufy1%2BjevbvatGmj3/3ud/rkk088PZ1zUlZWJkkKCQk5bU1jeD7PZp2S51%2BbBCwvFRcXp5dfflnZ2dmaOXOm1q9fr9///veqrq729NSMqb324ed3zA8LC2uw10U4nc6TPlLw9fVVSEjIL8555MiReuWVV/Thhx9q6tSp%2Bs9//qM77rijrqd7Vv7v//5P1dXV5/Q8OJ1Or3repPNbZ4cOHfTCCy/o7bff1iuvvKKamhr17dtXBw4cqI8p14vTPZcul0s//PCDh2ZlXps2bZSenq4333xTb775piIjI3XjjTdqy5Ytnp7aWampqVFqaqpuuOEGdenS5bR13vja/KmzXWdDeG3yUzl1ZMqUKZo5c%2BYv1uzcuVMdO3Y8r/6HDx9u/3fXrl11zTXX6IorrtC6des0aNCg8%2BrzfNT1OhuKs13n%2BfrpNVpdu3ZVmzZtNGjQIH311Ve64oorzrtf1K3o6Gi3H33v27evOnXqpH/%2B85968sknPTgznKsOHTqoQ4cO9uO%2Bffvqq6%2B%2B0ty5c/Wf//zHgzM7O8nJydqxY4c%2B/vhjT0%2BlTp3tOhvCa5OAVUcefPBB/fnPf/7Fmssvv9zYeJdffrlat26tPXv21GvAqst1hoeHS5KKi4vVpk0be39xcbG6d%2B9%2BXn2er7NdZ3h4%2BEkXRJ84cUKHDx%2B213M2%2BvTpI0nas2ePxwNW69at1aRJExUXF7vtLy4uPu2awsPDz6m%2BITifdf5c06ZN1aNHD%2B3Zs6cupugRp3suAwMD1axZMw/Nqn5cd911XhFYUlJS7C/UXHrppb9Y642vzVrnss6f88Rrk4BVRy655BJdcskl9TbegQMH9N1337kFkfpQl%2BuMiopSeHi4srOz7UDlcrmUl5d3zt%2B4/LXOdp3R0dEqLS1Vfn6%2BevXqJUlau3atampq7NB0NgoKCiSp3p/PU/Hz81OvXr2UnZ2thIQEST%2Beps/OzlZKSsopj4mOjlZ2drZSU1PtfVlZWW7/omxozmedP1ddXa3t27dryJAhdTjT%2BhUdHX3S1/gb%2BnNpSkFBQYN4DZ6OZVm6//77tXz5cq1bt05RUVFnPMYbX5vns86f88hr06OX2MOyLMvau3evtXXrVuvxxx%2B3LrroImvr1q3W1q1braNHj9o1HTp0sN566y3Lsizr6NGj1kMPPWTl5uZaRUVF1gcffGD17NnTat%2B%2BvXXs2DFPLeOMznWdlmVZzzzzjBUcHGy9/fbb1rZt26yhQ4daUVFR1g8//OCJJZyVuLg4q0ePHlZeXp718ccfW%2B3bt7dGjBhhtx84cMDq0KGDlZeXZ1mWZe3Zs8d64oknrM2bN1tFRUXW22%2B/bV1%2B%2BeXWgAEDPLWEk7z22muWv7%2B/lZGRYX3%2B%2BefWmDFjrODgYMvpdFqWZVl33nmnNWXKFLv%2Bk08%2BsXx9fa2///3v1s6dO63HHnvMatq0qbV9%2B3ZPLeGsnOs6H3/8cWv16tXWV199ZeXn51vDhw%2B3AgICrMLCQk8t4YyOHj1qv/YkWXPmzLG2bt1q7d2717Isy5oyZYp155132vVff/211bx5c2vixInWzp07rYULF1pNmjSxMjMzPbWEs3Ku65w7d661YsUK68svv7S2b99ujRs3zvLx8bE%2B%2BOADTy3hjMaOHWsFBQVZ69atsw4dOmRv33//vV3TGF6b57POhvDaJGA1AKNGjbIknbR9%2BOGHdo0k68UXX7Qsy7K%2B//57a/DgwdYll1xiNW3a1GrXrp01evRo%2B02goTrXdVrWj7dqePTRR62wsDDL39/fGjRokLV79%2B76n/w5%2BO6776wRI0ZYF110kRUYGGjdfffdbiGyqKjIbd379u2zBgwYYIWEhFj%2B/v7WlVdeaU2cONEqKyvz0ApO7dlnn7Xatm1r%2Bfn5Wdddd5316aef2m2/%2Bc1vrFGjRrnVv/HGG9ZVV11l%2Bfn5WVdffbW1atWqep7x%2BTmXdaamptq1YWFh1pAhQ6wtW7Z4YNZnr/Z2BD/fatc1atQo6ze/%2Bc1Jx3Tv3t3y8/OzLr/8crfXaEN1ruucOXOmdcUVV1gBAQFWSEiIdeONN1pr1671zOTP0qnW9/P/hzaG1%2Bb5rLMhvDYd/3/yAAAAMITbNAAAABhGwAIAADCMgAUAAGAYAQsAAMAwAhYAAIBhBCwAAADDCFgAAACGEbAAAAAMI2ABAAAYRsACAAAwjIAFAABgGAELAADAMAIWAACAYQQsAAAAwwhYAAAAhhGwAAAADCNgAQAAGEbAAgAAMOz/AT08/7YhAWlzAAAAAElFTkSuQmCC\"/>\n",
       "        </div>\n",
       "        <div role=\"tabpanel\" class=\"tab-pane col-md-12\" id=\"common-3521790219913727306\">\n",
       "            \n",
       "<table class=\"freq table table-hover\">\n",
       "    <thead>\n",
       "    <tr>\n",
       "        <td class=\"fillremaining\">Value</td>\n",
       "        <td class=\"number\">Count</td>\n",
       "        <td class=\"number\">Frequency (%)</td>\n",
       "        <td style=\"min-width:200px\">&nbsp;</td>\n",
       "    </tr>\n",
       "    </thead>\n",
       "    <tr class=\"\">\n",
       "        <td class=\"fillremaining\">-1.0176073202382292</td>\n",
       "        <td class=\"number\">1</td>\n",
       "        <td class=\"number\">0.0%</td>\n",
       "        <td>\n",
       "            <div class=\"bar\" style=\"width:1%\">&nbsp;</div>\n",
       "        </td>\n",
       "</tr><tr class=\"\">\n",
       "        <td class=\"fillremaining\">1.147602538086614</td>\n",
       "        <td class=\"number\">1</td>\n",
       "        <td class=\"number\">0.0%</td>\n",
       "        <td>\n",
       "            <div class=\"bar\" style=\"width:1%\">&nbsp;</div>\n",
       "        </td>\n",
       "</tr><tr class=\"\">\n",
       "        <td class=\"fillremaining\">-0.7317571783074938</td>\n",
       "        <td class=\"number\">1</td>\n",
       "        <td class=\"number\">0.0%</td>\n",
       "        <td>\n",
       "            <div class=\"bar\" style=\"width:1%\">&nbsp;</div>\n",
       "        </td>\n",
       "</tr><tr class=\"\">\n",
       "        <td class=\"fillremaining\">-1.1935495475066489</td>\n",
       "        <td class=\"number\">1</td>\n",
       "        <td class=\"number\">0.0%</td>\n",
       "        <td>\n",
       "            <div class=\"bar\" style=\"width:1%\">&nbsp;</div>\n",
       "        </td>\n",
       "</tr><tr class=\"\">\n",
       "        <td class=\"fillremaining\">0.7967974656553147</td>\n",
       "        <td class=\"number\">1</td>\n",
       "        <td class=\"number\">0.0%</td>\n",
       "        <td>\n",
       "            <div class=\"bar\" style=\"width:1%\">&nbsp;</div>\n",
       "        </td>\n",
       "</tr><tr class=\"\">\n",
       "        <td class=\"fillremaining\">1.0465712935078115</td>\n",
       "        <td class=\"number\">1</td>\n",
       "        <td class=\"number\">0.0%</td>\n",
       "        <td>\n",
       "            <div class=\"bar\" style=\"width:1%\">&nbsp;</div>\n",
       "        </td>\n",
       "</tr><tr class=\"\">\n",
       "        <td class=\"fillremaining\">1.7035411932284454</td>\n",
       "        <td class=\"number\">1</td>\n",
       "        <td class=\"number\">0.0%</td>\n",
       "        <td>\n",
       "            <div class=\"bar\" style=\"width:1%\">&nbsp;</div>\n",
       "        </td>\n",
       "</tr><tr class=\"\">\n",
       "        <td class=\"fillremaining\">1.1290268167373279</td>\n",
       "        <td class=\"number\">1</td>\n",
       "        <td class=\"number\">0.0%</td>\n",
       "        <td>\n",
       "            <div class=\"bar\" style=\"width:1%\">&nbsp;</div>\n",
       "        </td>\n",
       "</tr><tr class=\"\">\n",
       "        <td class=\"fillremaining\">1.960820719023</td>\n",
       "        <td class=\"number\">1</td>\n",
       "        <td class=\"number\">0.0%</td>\n",
       "        <td>\n",
       "            <div class=\"bar\" style=\"width:1%\">&nbsp;</div>\n",
       "        </td>\n",
       "</tr><tr class=\"\">\n",
       "        <td class=\"fillremaining\">0.9347394102552856</td>\n",
       "        <td class=\"number\">1</td>\n",
       "        <td class=\"number\">0.0%</td>\n",
       "        <td>\n",
       "            <div class=\"bar\" style=\"width:1%\">&nbsp;</div>\n",
       "        </td>\n",
       "</tr><tr class=\"other\">\n",
       "        <td class=\"fillremaining\">Other values (99990)</td>\n",
       "        <td class=\"number\">99990</td>\n",
       "        <td class=\"number\">100.0%</td>\n",
       "        <td>\n",
       "            <div class=\"bar\" style=\"width:100%\">&nbsp;</div>\n",
       "        </td>\n",
       "</tr>\n",
       "</table>\n",
       "        </div>\n",
       "        <div role=\"tabpanel\" class=\"tab-pane col-md-12\"  id=\"extreme-3521790219913727306\">\n",
       "            <p class=\"h4\">Minimum 5 values</p>\n",
       "            \n",
       "<table class=\"freq table table-hover\">\n",
       "    <thead>\n",
       "    <tr>\n",
       "        <td class=\"fillremaining\">Value</td>\n",
       "        <td class=\"number\">Count</td>\n",
       "        <td class=\"number\">Frequency (%)</td>\n",
       "        <td style=\"min-width:200px\">&nbsp;</td>\n",
       "    </tr>\n",
       "    </thead>\n",
       "    <tr class=\"\">\n",
       "        <td class=\"fillremaining\">-1.4086053060269959</td>\n",
       "        <td class=\"number\">1</td>\n",
       "        <td class=\"number\">0.0%</td>\n",
       "        <td>\n",
       "            <div class=\"bar\" style=\"width:100%\">&nbsp;</div>\n",
       "        </td>\n",
       "</tr><tr class=\"\">\n",
       "        <td class=\"fillremaining\">-1.3517729921635937</td>\n",
       "        <td class=\"number\">1</td>\n",
       "        <td class=\"number\">0.0%</td>\n",
       "        <td>\n",
       "            <div class=\"bar\" style=\"width:100%\">&nbsp;</div>\n",
       "        </td>\n",
       "</tr><tr class=\"\">\n",
       "        <td class=\"fillremaining\">-1.3022271112977066</td>\n",
       "        <td class=\"number\">1</td>\n",
       "        <td class=\"number\">0.0%</td>\n",
       "        <td>\n",
       "            <div class=\"bar\" style=\"width:100%\">&nbsp;</div>\n",
       "        </td>\n",
       "</tr><tr class=\"\">\n",
       "        <td class=\"fillremaining\">-1.300230736433031</td>\n",
       "        <td class=\"number\">1</td>\n",
       "        <td class=\"number\">0.0%</td>\n",
       "        <td>\n",
       "            <div class=\"bar\" style=\"width:100%\">&nbsp;</div>\n",
       "        </td>\n",
       "</tr><tr class=\"\">\n",
       "        <td class=\"fillremaining\">-1.2772875991901156</td>\n",
       "        <td class=\"number\">1</td>\n",
       "        <td class=\"number\">0.0%</td>\n",
       "        <td>\n",
       "            <div class=\"bar\" style=\"width:100%\">&nbsp;</div>\n",
       "        </td>\n",
       "</tr>\n",
       "</table>\n",
       "            <p class=\"h4\">Maximum 5 values</p>\n",
       "            \n",
       "<table class=\"freq table table-hover\">\n",
       "    <thead>\n",
       "    <tr>\n",
       "        <td class=\"fillremaining\">Value</td>\n",
       "        <td class=\"number\">Count</td>\n",
       "        <td class=\"number\">Frequency (%)</td>\n",
       "        <td style=\"min-width:200px\">&nbsp;</td>\n",
       "    </tr>\n",
       "    </thead>\n",
       "    <tr class=\"\">\n",
       "        <td class=\"fillremaining\">2.3048213506066184</td>\n",
       "        <td class=\"number\">1</td>\n",
       "        <td class=\"number\">0.0%</td>\n",
       "        <td>\n",
       "            <div class=\"bar\" style=\"width:100%\">&nbsp;</div>\n",
       "        </td>\n",
       "</tr><tr class=\"\">\n",
       "        <td class=\"fillremaining\">2.3089390528967915</td>\n",
       "        <td class=\"number\">1</td>\n",
       "        <td class=\"number\">0.0%</td>\n",
       "        <td>\n",
       "            <div class=\"bar\" style=\"width:100%\">&nbsp;</div>\n",
       "        </td>\n",
       "</tr><tr class=\"\">\n",
       "        <td class=\"fillremaining\">2.3337526924465672</td>\n",
       "        <td class=\"number\">1</td>\n",
       "        <td class=\"number\">0.0%</td>\n",
       "        <td>\n",
       "            <div class=\"bar\" style=\"width:100%\">&nbsp;</div>\n",
       "        </td>\n",
       "</tr><tr class=\"\">\n",
       "        <td class=\"fillremaining\">2.3370795675225464</td>\n",
       "        <td class=\"number\">1</td>\n",
       "        <td class=\"number\">0.0%</td>\n",
       "        <td>\n",
       "            <div class=\"bar\" style=\"width:100%\">&nbsp;</div>\n",
       "        </td>\n",
       "</tr><tr class=\"\">\n",
       "        <td class=\"fillremaining\">2.3623308108542243</td>\n",
       "        <td class=\"number\">1</td>\n",
       "        <td class=\"number\">0.0%</td>\n",
       "        <td>\n",
       "            <div class=\"bar\" style=\"width:100%\">&nbsp;</div>\n",
       "        </td>\n",
       "</tr>\n",
       "</table>\n",
       "        </div>\n",
       "    </div>\n",
       "</div>\n",
       "</div><div class=\"row variablerow\">\n",
       "    <div class=\"col-md-3 namecol\">\n",
       "        <p class=\"h4 pp-anchor\" id=\"pp_var_f1\">f1<br/>\n",
       "            <small>Numeric</small>\n",
       "        </p>\n",
       "    </div><div class=\"col-md-6\">\n",
       "    <div class=\"row\">\n",
       "        <div class=\"col-sm-6\">\n",
       "            <table class=\"stats \">\n",
       "                <tr>\n",
       "                    <th>Distinct count</th>\n",
       "                    <td>100000</td>\n",
       "                </tr>\n",
       "                <tr>\n",
       "                    <th>Unique (%)</th>\n",
       "                    <td>100.0%</td>\n",
       "                </tr>\n",
       "                <tr class=\"ignore\">\n",
       "                    <th>Missing (%)</th>\n",
       "                    <td>0.0%</td>\n",
       "                </tr>\n",
       "                <tr class=\"ignore\">\n",
       "                    <th>Missing (n)</th>\n",
       "                    <td>0</td>\n",
       "                </tr>\n",
       "                <tr class=\"ignore\">\n",
       "                    <th>Infinite (%)</th>\n",
       "                    <td>0.0%</td>\n",
       "                </tr>\n",
       "                <tr class=\"ignore\">\n",
       "                    <th>Infinite (n)</th>\n",
       "                    <td>0</td>\n",
       "                </tr>\n",
       "            </table>\n",
       "\n",
       "        </div>\n",
       "        <div class=\"col-sm-6\">\n",
       "            <table class=\"stats \">\n",
       "\n",
       "                <tr>\n",
       "                    <th>Mean</th>\n",
       "                    <td>0.25014</td>\n",
       "                </tr>\n",
       "                <tr>\n",
       "                    <th>Minimum</th>\n",
       "                    <td>-0.84822</td>\n",
       "                </tr>\n",
       "                <tr>\n",
       "                    <th>Maximum</th>\n",
       "                    <td>1.3438</td>\n",
       "                </tr>\n",
       "                <tr class=\"ignore\">\n",
       "                    <th>Zeros (%)</th>\n",
       "                    <td>0.0%</td>\n",
       "                </tr>\n",
       "            </table>\n",
       "        </div>\n",
       "    </div>\n",
       "</div>\n",
       "<div class=\"col-md-3 collapse in\" id=\"minihistogram-4269209255617096035\">\n",
       "    <img src=\"data:image/png;base64,iVBORw0KGgoAAAANSUhEUgAAAMgAAABLCAYAAAA1fMjoAAAAOXRFWHRTb2Z0d2FyZQBNYXRwbG90bGliIHZlcnNpb24zLjUuMywgaHR0cHM6Ly9tYXRwbG90bGliLm9yZy/NK7nSAAAACXBIWXMAAA9hAAAPYQGoP6dpAAABzUlEQVR4nO3dvw3TQBiH4c8RrZ0%2BirdgCHaipmQfhmCLRBnAFgUFMQWEgj8/KUixnfh5yljRXaR7dXdp3EzTNNXMzudz9X0/97A8udPpVMfjcdYx38w62k9t21bVjx/cdd0SU%2BCJDMNQfd//WjdzWiSQpmmqqqrrOoH85u37T3d/5/OHdw%2BYyfrc1s2cFglkK/5nsbMuu6UnAGu22R1ky0eZLf/2e9lBIBAIBAKBQCAQvMQl3d%2Bpj7fVi70dBAKBQPASR6ytc8R8HIHcwULcHkcsCAQCgUAgEAgEAoFAIBAIBAKBQCAQCAQCgUAgEAgEAoFAIBAIBAKBQCAQCAQCgUAgEAgEAoFAIBAIBAKBQCAQCAQCgUAgEAgEAoFAIBAIBILVvR/EOzhexyu819AOAsEiO8g0TVVVNQzDH8%2B%2Bff0y93RYkb%2Btidtnt3Uzp0UCGcexqqr6vl9ieFZs//Hfz8ZxrP1%2BP99kqqqZFsjyer3W5XKptm2raZq5h%2BfJTNNU4zjW4XCo3W7eW8EigcCzcEmHQCAQCAQCgUAgEAgEAoFAIBAIBAKBQCAQCAQCgUAgEAgEAoFAIBAIBAKBQCAQCAQCgUAgEAgEAoFAIPgOmd5TgIUcbWwAAAAASUVORK5CYII%3D\">\n",
       "\n",
       "</div>\n",
       "<div class=\"col-md-12 text-right\">\n",
       "    <a role=\"button\" data-toggle=\"collapse\" data-target=\"#descriptives-4269209255617096035,#minihistogram-4269209255617096035\"\n",
       "       aria-expanded=\"false\" aria-controls=\"collapseExample\">\n",
       "        Toggle details\n",
       "    </a>\n",
       "</div>\n",
       "<div class=\"row collapse col-md-12\" id=\"descriptives-4269209255617096035\">\n",
       "    <ul class=\"nav nav-tabs\" role=\"tablist\">\n",
       "        <li role=\"presentation\" class=\"active\"><a href=\"#quantiles-4269209255617096035\"\n",
       "                                                  aria-controls=\"quantiles-4269209255617096035\" role=\"tab\"\n",
       "                                                  data-toggle=\"tab\">Statistics</a></li>\n",
       "        <li role=\"presentation\"><a href=\"#histogram-4269209255617096035\" aria-controls=\"histogram-4269209255617096035\"\n",
       "                                   role=\"tab\" data-toggle=\"tab\">Histogram</a></li>\n",
       "        <li role=\"presentation\"><a href=\"#common-4269209255617096035\" aria-controls=\"common-4269209255617096035\"\n",
       "                                   role=\"tab\" data-toggle=\"tab\">Common Values</a></li>\n",
       "        <li role=\"presentation\"><a href=\"#extreme-4269209255617096035\" aria-controls=\"extreme-4269209255617096035\"\n",
       "                                   role=\"tab\" data-toggle=\"tab\">Extreme Values</a></li>\n",
       "\n",
       "    </ul>\n",
       "\n",
       "    <div class=\"tab-content\">\n",
       "        <div role=\"tabpanel\" class=\"tab-pane active row\" id=\"quantiles-4269209255617096035\">\n",
       "            <div class=\"col-md-4 col-md-offset-1\">\n",
       "                <p class=\"h4\">Quantile statistics</p>\n",
       "                <table class=\"stats indent\">\n",
       "                    <tr>\n",
       "                        <th>Minimum</th>\n",
       "                        <td>-0.84822</td>\n",
       "                    </tr>\n",
       "                    <tr>\n",
       "                        <th>5-th percentile</th>\n",
       "                        <td>-0.51466</td>\n",
       "                    </tr>\n",
       "                    <tr>\n",
       "                        <th>Q1</th>\n",
       "                        <td>-0.20088</td>\n",
       "                    </tr>\n",
       "                    <tr>\n",
       "                        <th>Median</th>\n",
       "                        <td>0.25025</td>\n",
       "                    </tr>\n",
       "                    <tr>\n",
       "                        <th>Q3</th>\n",
       "                        <td>0.70065</td>\n",
       "                    </tr>\n",
       "                    <tr>\n",
       "                        <th>95-th percentile</th>\n",
       "                        <td>1.0155</td>\n",
       "                    </tr>\n",
       "                    <tr>\n",
       "                        <th>Maximum</th>\n",
       "                        <td>1.3438</td>\n",
       "                    </tr>\n",
       "                    <tr>\n",
       "                        <th>Range</th>\n",
       "                        <td>2.192</td>\n",
       "                    </tr>\n",
       "                    <tr>\n",
       "                        <th>Interquartile range</th>\n",
       "                        <td>0.90153</td>\n",
       "                    </tr>\n",
       "                </table>\n",
       "            </div>\n",
       "            <div class=\"col-md-4 col-md-offset-2\">\n",
       "                <p class=\"h4\">Descriptive statistics</p>\n",
       "                <table class=\"stats indent\">\n",
       "                    <tr>\n",
       "                        <th>Standard deviation</th>\n",
       "                        <td>0.50443</td>\n",
       "                    </tr>\n",
       "                    <tr>\n",
       "                        <th>Coef of variation</th>\n",
       "                        <td>2.0166</td>\n",
       "                    </tr>\n",
       "                    <tr>\n",
       "                        <th>Kurtosis</th>\n",
       "                        <td>-1.1861</td>\n",
       "                    </tr>\n",
       "                    <tr>\n",
       "                        <th>Mean</th>\n",
       "                        <td>0.25014</td>\n",
       "                    </tr>\n",
       "                    <tr>\n",
       "                        <th>MAD</th>\n",
       "                        <td>0.43333</td>\n",
       "                    </tr>\n",
       "                    <tr class=\"\">\n",
       "                        <th>Skewness</th>\n",
       "                        <td>0.00071661</td>\n",
       "                    </tr>\n",
       "                    <tr>\n",
       "                        <th>Sum</th>\n",
       "                        <td>25014</td>\n",
       "                    </tr>\n",
       "                    <tr>\n",
       "                        <th>Variance</th>\n",
       "                        <td>0.25445</td>\n",
       "                    </tr>\n",
       "                    <tr>\n",
       "                        <th>Memory size</th>\n",
       "                        <td>781.4 KiB</td>\n",
       "                    </tr>\n",
       "                </table>\n",
       "            </div>\n",
       "        </div>\n",
       "        <div role=\"tabpanel\" class=\"tab-pane col-md-8 col-md-offset-2\" id=\"histogram-4269209255617096035\">\n",
       "            <img src=\"data:image/png;base64,iVBORw0KGgoAAAANSUhEUgAAAlgAAAGQCAYAAAByNR6YAAAAOXRFWHRTb2Z0d2FyZQBNYXRwbG90bGliIHZlcnNpb24zLjUuMywgaHR0cHM6Ly9tYXRwbG90bGliLm9yZy/NK7nSAAAACXBIWXMAAA9hAAAPYQGoP6dpAAAx8ElEQVR4nO3de3hU1b3/8U9CyAXKJFxMhjlGTJVyEQQkNUYBS8khCHqaSq1ABEpT0DZpwSC3g414a0ooKCglpa3EPoUDcirUgkbSQI2VGEggBSLEG4eLMIltIENiCSHZvz/8ZT%2BMoKKuZGbC%2B/U8%2B3k6a333WmtnHsyna/bsBFmWZQkAAADGBPt6AQAAAO0NAQsAAMAwAhYAAIBhBCwAAADDCFgAAACGEbAAAAAMI2ABAAAYRsACAAAwjIAFAABgGAELAADAMAIWAACAYQQsAAAAwwhYAAAAhhGwAAAADCNgAQAAGEbAAgAAMIyABQAAYBgBCwAAwDACFgAAgGEELAAAAMMIWAAAAIYRsAAAAAwjYAEAABhGwAIAADCMgAUAAGAYAQsAAMAwAhYAAIBhBCwAAADDCFgAAACGEbAAAAAMI2ABAAAYRsACAAAwjIAFAABgGAELAADAMAIWAACAYQQsAAAAwwhYAAAAhhGwAAAADAvx9QKuBM3NzTpx4oS6dOmioKAgXy8HAIArgmVZOnPmjFwul4KD23ZPiYDVBk6cOKHY2FhfLwMAgCvSsWPHdPXVV7fpnASsNtClSxdJH7/BDofDx6sBAODK4PF4FBsba/8ebksErDbQ8rGgw%2BEgYAEA0MZ8cXsON7kDAAAYRsACAAAwjIAFAABgGAELAADAMAIWAACAYX4bsIqKinTXXXfJ5XIpKChImzdv/tTaBx54QEFBQXr66ae92mtqapSamiqHw6GoqCilpaWprq7Oq2bfvn0aPny4wsPDFRsbq5ycnIvG37hxo/r27avw8HANHDhQL7/8solLBAAA7ZTfBqz6%2BnoNGjRIK1eu/My6TZs26c0335TL5bqoLzU1VRUVFSooKNCWLVtUVFSkGTNm2P0ej0ejR49Wr169VFZWpiVLlmjRokVavXq1XbNz505NnDhRaWlp2rt3r1JSUpSSkqIDBw6Yu1gAANC%2BWAFAkrVp06aL2o8fP279x3/8h3XgwAGrV69e1lNPPWX3vfXWW5Yka/fu3XbbK6%2B8YgUFBVkffPCBZVmW9etf/9rq2rWr1dDQYNfMmzfP6tOnj/36%2B9//vjVu3DiveRMSEqz777//stdfW1trSbJqa2sv%2BxwAAPDV%2BPL3r9/uYH2e5uZmTZ48WXPmzNENN9xwUX9xcbGioqIUHx9vtyUlJSk4OFglJSV2zYgRIxQaGmrXJCcnq7KyUqdOnbJrkpKSvMZOTk5WcXFxa1wWAABoBwL2Se6LFy9WSEiIfvazn12y3%2B12Kzo62qstJCRE3bp1k9vttmvi4uK8amJiYuy%2Brl27yu12220X1rSMcSkNDQ1qaGiwX3s8nsu/MAAAEPACcgerrKxMy5cvV15enk8ef/95srOzFRkZaR/8oWcAAK4sARmwXn/9dVVXV%2Buaa65RSEiIQkJCdOTIEc2ePVvXXnutJMnpdKq6utrrvPPnz6umpkZOp9Ouqaqq8qppef15NS39l7JgwQLV1tbax7Fjx77S9QIAgMASkB8RTp48%2BZL3RU2ePFnTpk2TJCUmJur06dMqKyvT0KFDJUnbt29Xc3OzEhIS7JqFCxeqsbFRHTt2lCQVFBSoT58%2B6tq1q11TWFioWbNm2XMVFBQoMTHxU9cXFhamsLAwY9cLwLfiF%2Bb7eglfSOmTY3y9BOCK57cBq66uTu%2B%2B%2B679%2BvDhwyovL1e3bt10zTXXqHv37l71HTt2lNPpVJ8%2BfSRJ/fr105gxYzR9%2BnTl5uaqsbFRGRkZmjBhgv1Ih0mTJunRRx9VWlqa5s2bpwMHDmj58uV66qmn7HFnzpyp22%2B/XUuXLtW4ceO0fv16lZaWej3KAQAA4EJ%2BG7BKS0s1cuRI%2B3VmZqYkaerUqcrLy7usMdauXauMjAyNGjVKwcHBGj9%2BvFasWGH3R0ZGatu2bUpPT9fQoUPVo0cPZWVleT0r69Zbb9W6dev08MMP67//%2B7/Vu3dvbd68WQMGDDBzocAVKNB2hADgiwqyLMvy9SLaO4/Ho8jISNXW1srhcPh6OYDPEbBaFx8RAh/z5e/fgLzJHQAAwJ8RsAAAAAwjYAEAABhGwAIAADCMgAUAAGAYAQsAAMAwAhYAAIBhBCwAAADDCFgAAACGEbAAAAAMI2ABAAAYRsACAAAwjIAFAABgGAELAADAsBBfLwDwV/EL8329hC%2Bk9Mkxvl4CAOD/YwcLAADAMHawAAA%2Bw04x2it2sAAAAAwjYAEAABhGwAIAADCMgAUAAGAYAQsAAMAwAhYAAIBhBCwAAADDCFgAAACGEbAAAAAMI2ABAAAYRsACAAAwjIAFAABgGAELAADAMAIWAACAYQQsAAAAwwhYAAAAhvltwCoqKtJdd90ll8uloKAgbd682e5rbGzUvHnzNHDgQHXu3Fkul0tTpkzRiRMnvMaoqalRamqqHA6HoqKilJaWprq6Oq%2Baffv2afjw4QoPD1dsbKxycnIuWsvGjRvVt29fhYeHa%2BDAgXr55Zdb5ZoBAED74LcBq76%2BXoMGDdLKlSsv6vvoo4%2B0Z88e/fznP9eePXv04osvqrKyUv/1X//lVZeamqqKigoVFBRoy5YtKioq0owZM%2Bx%2Bj8ej0aNHq1evXiorK9OSJUu0aNEirV692q7ZuXOnJk6cqLS0NO3du1cpKSlKSUnRgQMHWu/iAQBAQAvx9QI%2BzR133KE77rjjkn2RkZEqKCjwanv22Wd188036%2BjRo7rmmmt08OBB5efna/fu3YqPj5ckPfPMMxo7dqx%2B9atfyeVyae3atTp37pyee%2B45hYaG6oYbblB5ebmWLVtmB7Hly5drzJgxmjNnjiTp8ccfV0FBgZ599lnl5ua24k8AAAAEKr/dwfqiamtrFRQUpKioKElScXGxoqKi7HAlSUlJSQoODlZJSYldM2LECIWGhto1ycnJqqys1KlTp%2ByapKQkr7mSk5NVXFzcylcEAAACld/uYH0RZ8%2Be1bx58zRx4kQ5HA5JktvtVnR0tFddSEiIunXrJrfbbdfExcV51cTExNh9Xbt2ldvtttsurGkZ41IaGhrU0NBgv/Z4PF/%2B4gAAQMAJ%2BB2sxsZGff/735dlWVq1apWvlyNJys7OVmRkpH3Exsb6ekkAAKANBXTAaglXR44cUUFBgb17JUlOp1PV1dVe9efPn1dNTY2cTqddU1VV5VXT8vrzalr6L2XBggWqra21j2PHjn35iwQAAAEnYANWS7h655139Ne//lXdu3f36k9MTNTp06dVVlZmt23fvl3Nzc1KSEiwa4qKitTY2GjXFBQUqE%2BfPuratatdU1hY6DV2QUGBEhMTP3VtYWFhcjgcXgcAALhy%2BG3AqqurU3l5ucrLyyVJhw8fVnl5uY4eParGxkZ973vfU2lpqdauXaumpia53W653W6dO3dOktSvXz%2BNGTNG06dP165du/TGG28oIyNDEyZMkMvlkiRNmjRJoaGhSktLU0VFhTZs2KDly5crMzPTXsfMmTOVn5%2BvpUuX6tChQ1q0aJFKS0uVkZHR5j8TAAAQGPw2YJWWlmrIkCEaMmSIJCkzM1NDhgxRVlaWPvjgA7300ks6fvy4Bg8erJ49e9rHzp077THWrl2rvn37atSoURo7dqyGDRvm9YyryMhIbdu2TYcPH9bQoUM1e/ZsZWVleT0r69Zbb9W6deu0evVqDRo0SP/7v/%2BrzZs3a8CAAW33wwAAAAHFb79F%2BK1vfUuWZX1q/2f1tejWrZvWrVv3mTU33nijXn/99c%2Bsueeee3TPPfd87nwAAACSHwcsAAD8TfzCfF8v4QspfXKMr5dwxfLbjwgBAAACFQELAADAMAIWAACAYdyDhTYTaPcuAADwZbGDBQAAYBgBCwAAwDACFgAAgGEELAAAAMMIWAAAAIYRsAAAAAwjYAEAABhGwAIAADCMgAUAAGAYAQsAAMAwAhYAAIBhBCwAAADDCFgAAACGEbAAAAAMI2ABAAAYRsACAAAwjIAFAABgGAELAADAsBBfLwAAYFb8wnxfLwG44rGDBQAAYBgBCwAAwDA%2BIgTaCT4WAgD/wQ4WAACAYQQsAAAAwwhYAAAAhhGwAAAADCNgAQAAGEbAAgAAMMxvA1ZRUZHuuusuuVwuBQUFafPmzV79lmUpKytLPXv2VEREhJKSkvTOO%2B941dTU1Cg1NVUOh0NRUVFKS0tTXV2dV82%2Bffs0fPhwhYeHKzY2Vjk5ORetZePGjerbt6/Cw8M1cOBAvfzyy8avFwAAtB9%2BG7Dq6%2Bs1aNAgrVy58pL9OTk5WrFihXJzc1VSUqLOnTsrOTlZZ8%2BetWtSU1NVUVGhgoICbdmyRUVFRZoxY4bd7/F4NHr0aPXq1UtlZWVasmSJFi1apNWrV9s1O3fu1MSJE5WWlqa9e/cqJSVFKSkpOnDgQOtdPAAACGhBlmVZvl7E5wkKCtKmTZuUkpIi6ePdK5fLpdmzZ%2Buhhx6SJNXW1iomJkZ5eXmaMGGCDh48qP79%2B2v37t2Kj4%2BXJOXn52vs2LE6fvy4XC6XVq1apYULF8rtdis0NFSSNH/%2BfG3evFmHDh2SJN17772qr6/Xli1b7PXccsstGjx4sHJzcy9r/R6PR5GRkaqtrZXD4TD1Ywk4PAgTANpW6ZNjfL0En/Ll71%2B/3cH6LIcPH5bb7VZSUpLdFhkZqYSEBBUXF0uSiouLFRUVZYcrSUpKSlJwcLBKSkrsmhEjRtjhSpKSk5NVWVmpU6dO2TUXztNS0zLPpTQ0NMjj8XgdAADgyhGQAcvtdkuSYmJivNpjYmLsPrfbrejoaK/%2BkJAQdevWzavmUmNcOMen1bT0X0p2drYiIyPtIzY29oteIgAACGABGbD83YIFC1RbW2sfx44d8/WSAABAGwrIgOV0OiVJVVVVXu1VVVV2n9PpVHV1tVf/%2BfPnVVNT41VzqTEunOPTalr6LyUsLEwOh8PrAAAAV46ADFhxcXFyOp0qLCy02zwej0pKSpSYmChJSkxM1OnTp1VWVmbXbN%2B%2BXc3NzUpISLBrioqK1NjYaNcUFBSoT58%2B6tq1q11z4TwtNS3zAAAAfJLfBqy6ujqVl5ervLxc0sc3tpeXl%2Bvo0aMKCgrSrFmz9MQTT%2Bill17S/v37NWXKFLlcLvubhv369dOYMWM0ffp07dq1S2%2B88YYyMjI0YcIEuVwuSdKkSZMUGhqqtLQ0VVRUaMOGDVq%2BfLkyMzPtdcycOVP5%2BflaunSpDh06pEWLFqm0tFQZGRlt/SMBAAABIsTXC/g0paWlGjlypP26JfRMnTpVeXl5mjt3rurr6zVjxgydPn1aw4YNU35%2BvsLDw%2B1z1q5dq4yMDI0aNUrBwcEaP368VqxYYfdHRkZq27ZtSk9P19ChQ9WjRw9lZWV5PSvr1ltv1bp16/Twww/rv//7v9W7d29t3rxZAwYMaIOfAgAACEQB8RysQMdzsD7Gc7AAoG3xHCyegwUAANBuELAAAAAMI2ABAAAYRsACAAAwjIAFAABgGAELAADAMAIWAACAYQQsAAAAwwhYAAAAhhGwAAAADCNgAQAAGEbAAgAAMIyABQAAYBgBCwAAwDACFgAAgGEELAAAAMMIWAAAAIYRsAAAAAwjYAEAABhGwAIAADDMeMB6//33TQ8JAAAQUIwHrOuvv14jR47UH//4R509e9b08AAAAH7PeMDas2ePbrzxRmVmZsrpdOr%2B%2B%2B/Xrl27TE8DAADgt4wHrMGDB2v58uU6ceKEnnvuOZ08eVLDhg3TgAEDtGzZMn344YempwQAAPArrXaTe0hIiO6%2B%2B25t3LhRixcv1rvvvquHHnpIsbGxmjJlik6ePNlaUwMAAPhUqwWs0tJS/eQnP1HPnj21bNkyPfTQQ3rvvfdUUFCgEydO6Dvf%2BU5rTQ0AAOBTIaYHXLZsmdasWaPKykqNHTtWf/jDHzR27FgFB3%2Bc5eLi4pSXl6drr73W9NQAAAB%2BwXjAWrVqlX74wx/qBz/4gXr27HnJmujoaP3%2B9783PTUAAIBfMB6w3nnnnc%2BtCQ0N1dSpU01PDQAA4BeM34O1Zs0abdy48aL2jRs36vnnnzc9HQAAgN8xHrCys7PVo0ePi9qjo6P1i1/8wvR0AAAAfsd4wDp69Kji4uIuau/Vq5eOHj1qejoAAAC/YzxgRUdHa9%2B%2BfRe1/%2BMf/1D37t1NTwcAAOB3jAesiRMn6mc/%2B5l27NihpqYmNTU1afv27Zo5c6YmTJhgbJ6mpib9/Oc/V1xcnCIiInTdddfp8ccfl2VZdo1lWcrKylLPnj0VERGhpKSki27Cr6mpUWpqqhwOh6KiopSWlqa6ujqvmn379mn48OEKDw9XbGyscnJyjF0HAABof4wHrMcff1wJCQkaNWqUIiIiFBERodGjR%2Bvb3/620XuwFi9erFWrVunZZ5/VwYMHtXjxYuXk5OiZZ56xa3JycrRixQrl5uaqpKREnTt3VnJystcfoU5NTVVFRYUKCgq0ZcsWFRUVacaMGXa/x%2BPR6NGj1atXL5WVlWnJkiVatGiRVq9ebexaAABA%2BxJkXbjlY9Dbb7%2Btf/zjH4qIiNDAgQPVq1cvo%2BPfeeediomJ8Xqe1vjx4xUREaE//vGPsixLLpdLs2fP1kMPPSRJqq2tVUxMjPLy8jRhwgQdPHhQ/fv31%2B7duxUfHy9Jys/P19ixY3X8%2BHG5XC6tWrVKCxculNvtVmhoqCRp/vz52rx5sw4dOnRZa/V4PIqMjFRtba0cDofRn0MgiV%2BY7%2BslAMAVpfTJMb5egk/58vdvq/2pnG984xu65557dOeddxoPV5J06623qrCwUG%2B//bakj%2B/x%2Bvvf/6477rhDknT48GG53W4lJSXZ50RGRiohIUHFxcWSpOLiYkVFRdnhSpKSkpIUHByskpISu2bEiBF2uJKk5ORkVVZW6tSpU5dcW0NDgzwej9cBAACuHMYfNNrU1KS8vDwVFhaqurpazc3NXv3bt283Ms/8%2BfPl8XjUt29fdejQQU1NTXryySeVmpoqSXK73ZKkmJgYr/NiYmLsPrfbrejoaK/%2BkJAQdevWzavmk9%2BKbBnT7Xara9euF60tOztbjz76qIGrBAAAgch4wJo5c6by8vI0btw4DRgwQEFBQaankCS98MILWrt2rdatW6cbbrhB5eXlmjVrllwul8%2BfEr9gwQJlZmbarz0ej2JjY324IgAA0JaMB6z169frhRde0NixY00P7WXOnDmaP3%2B%2B/c3EgQMH6siRI8rOztbUqVPldDolSVVVVV5/E7GqqkqDBw%2BWJDmdTlVXV3uNe/78edXU1NjnO51OVVVVedW0vG6p%2BaSwsDCFhYV99YsEAAAByfg9WKGhobr%2B%2ButND3uRjz76SMHB3svv0KGD/ZFkXFycnE6nCgsL7X6Px6OSkhIlJiZKkhITE3X69GmVlZXZNdu3b1dzc7MSEhLsmqKiIjU2Nto1BQUF6tOnzyU/HgQAADAesGbPnq3ly5erlb6caLvrrrv05JNPauvWrfq///s/bdq0ScuWLdN3v/tdSVJQUJBmzZqlJ554Qi%2B99JL279%2BvKVOmyOVyKSUlRZLUr18/jRkzRtOnT9euXbv0xhtvKCMjQxMmTJDL5ZIkTZo0SaGhoUpLS1NFRYU2bNig5cuXe30ECAAAcCHjHxH%2B/e9/144dO/TKK6/ohhtuUMeOHb36X3zxRSPzPPPMM/r5z3%2Bun/zkJ6qurpbL5dL999%2BvrKwsu2bu3Lmqr6/XjBkzdPr0aQ0bNkz5%2BfkKDw%2B3a9auXauMjAyNGjVKwcHBGj9%2BvFasWGH3R0ZGatu2bUpPT9fQoUPVo0cPZWVleT0rCwAA4ELGn4M1bdq0z%2Bxfs2aNyekCAs/B%2BhjPwQKAtsVzsHz3%2B9f4DtaVGKAAAAAu1CoPGj1//rz%2B%2Bte/6je/%2BY3OnDkjSTpx4sRFf%2BMPAACgPTK%2Bg3XkyBGNGTNGR48eVUNDg/7zP/9TXbp00eLFi9XQ0KDc3FzTUwIAAPgV4ztYM2fOVHx8vE6dOqWIiAi7/bvf/a7XIxMAAADaK%2BM7WK%2B//rp27tzp9bf7JOnaa6/VBx98YHo6AAAAv2N8B6u5uVlNTU0XtR8/flxdunQxPR0AAIDfMR6wRo8eraefftp%2BHRQUpLq6Oj3yyCOt/udzAAAA/IHxjwiXLl2q5ORk9e/fX2fPntWkSZP0zjvvqEePHvqf//kf09MBAAD4HeMB6%2Bqrr9Y//vEPrV%2B/Xvv27VNdXZ3S0tKUmprqddM7AABAe2U8YElSSEiI7rvvvtYYGgAAwO8ZD1h/%2BMMfPrN/ypQppqcEAADwK8YD1syZM71eNzY26qOPPlJoaKg6depEwAIAAO2e8W8Rnjp1yuuoq6tTZWWlhg0bxk3uAADgitAqf4vwk3r37q1f/vKXF%2B1uAQAAtEdtErCkj298P3HiRFtNBwAA4DPG78F66aWXvF5blqWTJ0/q2Wef1W233WZ6OgAAAL9jPGClpKR4vQ4KCtJVV12lb3/721q6dKnp6QAAAPyO8YDV3NxsekgAAICA0mb3YAEAAFwpjO9gZWZmXnbtsmXLTE8PAADgc8YD1t69e7V37141NjaqT58%2BkqS3335bHTp00E033WTXBQUFmZ4aAADALxgPWHfddZe6dOmi559/Xl27dpX08cNHp02bpuHDh2v27NmmpwQAAPArxu/BWrp0qbKzs%2B1wJUldu3bVE088wbcIAQDAFcF4wPJ4PPrwww8vav/www915swZ09MBAAD4HeMB67vf/a6mTZumF198UcePH9fx48f1pz/9SWlpabr77rtNTwcAAOB3jN%2BDlZubq4ceekiTJk1SY2Pjx5OEhCgtLU1LliwxPR0AAIDfMR6wOnXqpF//%2BtdasmSJ3nvvPUnSddddp86dO5ueCgAAwC%2B12oNGT548qZMnT6p3797q3LmzLMtqrakAAAD8ivGA9a9//UujRo3SN77xDY0dO1YnT56UJKWlpfGIBgAAcEUwHrAefPBBdezYUUePHlWnTp3s9nvvvVf5%2BfmmpwMAAPA7xu/B2rZtm1599VVdffXVXu29e/fWkSNHTE8HAADgd4zvYNXX13vtXLWoqalRWFiY6ekAAAD8jvGANXz4cP3hD3%2BwXwcFBam5uVk5OTkaOXKk6ekAAAD8jvGAlZOTo9WrV%2BuOO%2B7QuXPnNHfuXA0YMEBFRUVavHix0bk%2B%2BOAD3XffferevbsiIiI0cOBAlZaW2v2WZSkrK0s9e/ZURESEkpKS9M4773iNUVNTo9TUVDkcDkVFRSktLU11dXVeNfv27dPw4cMVHh6u2NhY5eTkGL0OAADQvhgPWAMGDNDbb7%2BtYcOG6Tvf%2BY7q6%2Bt19913a%2B/evbruuuuMzXPq1Cnddttt6tixo1555RW99dZbWrp0qdffQMzJydGKFSuUm5urkpISde7cWcnJyTp79qxdk5qaqoqKChUUFGjLli0qKirSjBkz7H6Px6PRo0erV69eKisr05IlS7Ro0SKtXr3a2LUAAID2Jcgy%2BICqxsZGjRkzRrm5uerdu7epYS9p/vz5euONN/T6669fst%2ByLLlcLs2ePVsPPfSQJKm2tlYxMTHKy8vThAkTdPDgQfXv31%2B7d%2B9WfHy8JCk/P19jx47V8ePH5XK5tGrVKi1cuFBut1uhoaH23Js3b9ahQ4cua60ej0eRkZGqra2Vw%2BEwcPWBKX4h3yIFgLZU%2BuQYXy/Bp3z5%2B9foDlbHjh21b98%2Bk0N%2Bqpdeeknx8fG65557FB0drSFDhui3v/2t3X/48GG53W4lJSXZbZGRkUpISFBxcbEkqbi4WFFRUXa4kqSkpCQFBwerpKTErhkxYoQdriQpOTlZlZWVOnXq1CXX1tDQII/H43UAAIArh/GPCO%2B77z79/ve/Nz3sRd5//32tWrVKvXv31quvvqof//jH%2BtnPfqbnn39ekuR2uyVJMTExXufFxMTYfW63W9HR0V79ISEh6tatm1fNpca4cI5Pys7OVmRkpH3ExsZ%2BxasFAACBxPhzsM6fP6/nnntOf/3rXzV06NCL/gbhsmXLjMzT3Nys%2BPh4/eIXv5AkDRkyRAcOHFBubq6mTp1qZI4va8GCBcrMzLRfezweQhYAAFcQYwHr/fff17XXXqsDBw7opptukiS9/fbbXjVBQUGmplPPnj3Vv39/r7Z%2B/frpT3/6kyTJ6XRKkqqqqtSzZ0%2B7pqqqSoMHD7ZrqqurvcY4f/68ampq7POdTqeqqqq8alpet9R8UlhYGM/8AgDgCmbsI8LevXvrn//8p3bs2KEdO3YoOjpa69evt1/v2LFD27dvNzWdbrvtNlVWVnq1vf322%2BrVq5ckKS4uTk6nU4WFhXa/x%2BNRSUmJEhMTJUmJiYk6ffq0ysrK7Jrt27erublZCQkJdk1RUZEaGxvtmoKCAvXp08frG4sAAAAtjAWsT34Z8ZVXXlF9fb2p4S/y4IMP6s0339QvfvELvfvuu1q3bp1Wr16t9PR0SR/vls2aNUtPPPGEXnrpJe3fv19TpkyRy%2BVSSkqKpI93vMaMGaPp06dr165deuONN5SRkaEJEybI5XJJkiZNmqTQ0FClpaWpoqJCGzZs0PLly70%2BAgQAALiQ8XuwWhh8%2BsMlffOb39SmTZu0YMECPfbYY4qLi9PTTz%2Bt1NRUu2bu3Lmqr6/XjBkzdPr0aQ0bNkz5%2BfkKDw%2B3a9auXauMjAyNGjVKwcHBGj9%2BvFasWGH3R0ZGatu2bUpPT9fQoUPVo0cPZWVleT0rCwAA4ELGnoPVoUMHud1uXXXVVZKkLl26aN%2B%2BfYqLizMxfEDjOVgf4zlYANC2eA6W737/GtvBsixLP/jBD%2Bybu8%2BePasHHnjgom8Rvvjii6amBAAA8EvGAtYnH41w3333mRoaAAAgoBgLWGvWrDE1FAAAQEAz/iR3AACAKx0BCwAAwDACFgAAgGEELAAAAMMIWAAAAIYRsAAAAAwjYAEAABhGwAIAADCMgAUAAGAYAQsAAMAwAhYAAIBhBCwAAADDCFgAAACGEbAAAAAMI2ABAAAYRsACAAAwjIAFAABgGAELAADAMAIWAACAYQQsAAAAwwhYAAAAhhGwAAAADCNgAQAAGEbAAgAAMIyABQAAYBgBCwAAwDACFgAAgGEELAAAAMMIWAAAAIYRsAAAAAxrNwHrl7/8pYKCgjRr1iy77ezZs0pPT1f37t31ta99TePHj1dVVZXXeUePHtW4cePUqVMnRUdHa86cOTp//rxXzd/%2B9jfddNNNCgsL0/XXX6%2B8vLw2uCIAABCo2kXA2r17t37zm9/oxhtv9Gp/8MEH9Ze//EUbN27Ua6%2B9phMnTujuu%2B%2B2%2B5uamjRu3DidO3dOO3fu1PPPP6%2B8vDxlZWXZNYcPH9a4ceM0cuRIlZeXa9asWfrRj36kV199tc2uDwAABJaAD1h1dXVKTU3Vb3/7W3Xt2tVur62t1e9//3stW7ZM3/72tzV06FCtWbNGO3fu1JtvvilJ2rZtm9566y398Y9/1ODBg3XHHXfo8ccf18qVK3Xu3DlJUm5uruLi4rR06VL169dPGRkZ%2Bt73vqennnrKJ9cLAAD8X8AHrPT0dI0bN05JSUle7WVlZWpsbPRq79u3r6655hoVFxdLkoqLizVw4EDFxMTYNcnJyfJ4PKqoqLBrPjl2cnKyPcalNDQ0yOPxeB0AAODKEeLrBXwV69ev1549e7R79%2B6L%2Btxut0JDQxUVFeXVHhMTI7fbbddcGK5a%2Blv6PqvG4/Ho3//%2BtyIiIi6aOzs7W48%2B%2BuiXvi4AABDYAnYH69ixY5o5c6bWrl2r8PBwXy/Hy4IFC1RbW2sfx44d8/WSAABAGwrYgFVWVqbq6mrddNNNCgkJUUhIiF577TWtWLFCISEhiomJ0blz53T69Gmv86qqquR0OiVJTqfzom8Vtrz%2BvBqHw3HJ3StJCgsLk8Ph8DoAAMCVI2AD1qhRo7R//36Vl5fbR3x8vFJTU%2B3/3bFjRxUWFtrnVFZW6ujRo0pMTJQkJSYmav/%2B/aqurrZrCgoK5HA41L9/f7vmwjFaalrGAAAA%2BKSAvQerS5cuGjBggFdb586d1b17d7s9LS1NmZmZ6tatmxwOh376058qMTFRt9xyiyRp9OjR6t%2B/vyZPnqycnBy53W49/PDDSk9PV1hYmCTpgQce0LPPPqu5c%2Bfqhz/8obZv364XXnhBW7dubdsLBgAAASNgA9bleOqppxQcHKzx48eroaFBycnJ%2BvWvf233d%2BjQQVu2bNGPf/xjJSYmqnPnzpo6daoee%2BwxuyYuLk5bt27Vgw8%2BqOXLl%2Bvqq6/W7373OyUnJ/vikgAAQAAIsizL8vUi2juPx6PIyEjV1tZe0fdjxS/M9/USAOCKUvrkGF8vwad8%2Bfs3YO/BAgAA8FcELAAAAMMIWAAAAIYRsAAAAAwjYAEAABhGwAIAADCMgAUAAGAYAQsAAMAwAhYAAIBhBCwAAADDCFgAAACGEbAAAAAMI2ABAAAYRsACAAAwjIAFAABgGAELAADAMAIWAACAYQQsAAAAwwhYAAAAhhGwAAAADCNgAQAAGEbAAgAAMIyABQAAYBgBCwAAwDACFgAAgGEELAAAAMMIWAAAAIYRsAAAAAwjYAEAABhGwAIAADCMgAUAAGAYAQsAAMAwAhYAAIBhARuwsrOz9c1vflNdunRRdHS0UlJSVFlZ6VVz9uxZpaenq3v37vra176m8ePHq6qqyqvm6NGjGjdunDp16qTo6GjNmTNH58%2Bf96r529/%2BpptuuklhYWG6/vrrlZeX19qXBwAAAljABqzXXntN6enpevPNN1VQUKDGxkaNHj1a9fX1ds2DDz6ov/zlL9q4caNee%2B01nThxQnfffbfd39TUpHHjxuncuXPauXOnnn/%2BeeXl5SkrK8uuOXz4sMaNG6eRI0eqvLxcs2bN0o9%2B9CO9%2BuqrbXq9AAAgcARZlmX5ehEmfPjhh4qOjtZrr72mESNGqLa2VldddZXWrVun733ve5KkQ4cOqV%2B/fiouLtYtt9yiV155RXfeeadOnDihmJgYSVJubq7mzZunDz/8UKGhoZo3b562bt2qAwcO2HNNmDBBp0%2BfVn5%2B/mWtzePxKDIyUrW1tXI4HOYvPkDEL7y8nxcAwIzSJ8f4egk%2B5cvfvwG7g/VJtbW1kqRu3bpJksrKytTY2KikpCS7pm/fvrrmmmtUXFwsSSouLtbAgQPtcCVJycnJ8ng8qqiosGsuHKOlpmWMS2loaJDH4/E6AADAlaNdBKzm5mbNmjVLt912mwYMGCBJcrvdCg0NVVRUlFdtTEyM3G63XXNhuGrpb%2Bn7rBqPx6N///vfl1xPdna2IiMj7SM2NvYrXyMAAAgc7SJgpaen68CBA1q/fr2vlyJJWrBggWpra%2B3j2LFjvl4SAABoQyG%2BXsBXlZGRoS1btqioqEhXX3213e50OnXu3DmdPn3aaxerqqpKTqfTrtm1a5fXeC3fMryw5pPfPKyqqpLD4VBERMQl1xQWFqawsLCvfG0AACAwBewOlmVZysjI0KZNm7R9%2B3bFxcV59Q8dOlQdO3ZUYWGh3VZZWamjR48qMTFRkpSYmKj9%2B/erurrarikoKJDD4VD//v3tmgvHaKlpGQMAAOCTAnYHKz09XevWrdOf//xndenSxb5nKjIyUhEREYqMjFRaWpoyMzPVrVs3ORwO/fSnP1ViYqJuueUWSdLo0aPVv39/TZ48WTk5OXK73Xr44YeVnp5u70A98MADevbZZzV37lz98Ic/1Pbt2/XCCy9o69atPrt2AADg3wJ2B2vVqlWqra3Vt771LfXs2dM%2BNmzYYNc89dRTuvPOOzV%2B/HiNGDFCTqdTL774ot3foUMHbdmyRR06dFBiYqLuu%2B8%2BTZkyRY899phdExcXp61bt6qgoECDBg3S0qVL9bvf/U7Jyclter0AACBwtJvnYPkznoP1MZ6DBQBti%2Bdg8RwsAACAdoOABQAAYBgBCwAAwDACFgAAgGEELAAAAMMIWAAAAIYRsAAAAAwjYAEAABhGwAIAADCMgAUAAGAYAQsAAMAwAhYAAIBhBCwAAADDCFgAAACGEbAAAAAMI2ABAAAYFuLrBQAAgNYRvzDf10u4bKVPjvH1EoxiBwsAAMAwdrACXCD9vxMAAK4U7GABAAAYRsACAAAwjIAFAABgGAELAADAMAIWAACAYQQsAAAAwwhYAAAAhhGwAAAADCNgAQAAGEbAAgAAMIyABQAAYBgBCwAAwDACFgAAgGEELAAAAMMIWJdp5cqVuvbaaxUeHq6EhATt2rXL10sCAAB%2BioB1GTZs2KDMzEw98sgj2rNnjwYNGqTk5GRVV1f7emkAAMAPEbAuw7JlyzR9%2BnRNmzZN/fv3V25urjp16qTnnnvO10sDAAB%2BKMTXC/B3586dU1lZmRYsWGC3BQcHKykpScXFxZc8p6GhQQ0NDfbr2tpaSZLH4zG%2BvqaGeuNjAgDQ1lrjd2TLmJZlGR/78xCwPsc///lPNTU1KSYmxqs9JiZGhw4duuQ52dnZevTRRy9qj42NbZU1AgAQ6CKXtt7YZ86cUWRkZOtNcAkErFawYMECZWZm2q%2Bbm5tVU1Oj7t27KygoyIcra/88Ho9iY2N17NgxORwOXy/nisf74T94L/wL70fbsCxLZ86ckcvlavO5CVifo0ePHurQoYOqqqq82quqquR0Oi95TlhYmMLCwrzaoqKiWmuJuASHw8F/tPwI74f/4L3wL7wfra%2Btd65acJP75wgNDdXQoUNVWFhotzU3N6uwsFCJiYk%2BXBkAAPBX7GBdhszMTE2dOlXx8fG6%2Beab9fTTT6u%2Bvl7Tpk3z9dIAAIAfImBdhnvvvVcffvihsrKy5Ha7NXjwYOXn51904zt8LywsTI888shFH9HCN3g//AfvhX/h/Wj/gixffHcRAACgHeMeLAAAAMMIWAAAAIYRsAAAAAwjYAEAABhGwELAq6mpUWpqqhwOh6KiopSWlqa6urrPPOdb3/qWgoKCvI4HHnigjVbcvqxcuVLXXnutwsPDlZCQoF27dn1m/caNG9W3b1%2BFh4dr4MCBevnll9tope3fF3kv8vLyLvo3EB4e3oarbb%2BKiop01113yeVyKSgoSJs3b/7cc/72t7/ppptuUlhYmK6//nrl5eW1%2BjrRughYCHipqamqqKhQQUGBtmzZoqKiIs2YMeNzz5s%2BfbpOnjxpHzk5OW2w2vZlw4YNyszM1COPPKI9e/Zo0KBBSk5OVnV19SXrd%2B7cqYkTJyotLU179%2B5VSkqKUlJSdODAgTZeefvzRd8L6eOniF/4b%2BDIkSNtuOL2q76%2BXoMGDdLKlSsvq/7w4cMaN26cRo4cqfLycs2aNUs/%2BtGP9Oqrr7byStGqLCCAvfXWW5Yka/fu3XbbK6%2B8YgUFBVkffPDBp553%2B%2B23WzNnzmyDFbZvN998s5Wenm6/bmpqslwul5WdnX3J%2Bu9///vWuHHjvNoSEhKs%2B%2B%2B/v1XXeSX4ou/FmjVrrMjIyDZa3ZVLkrVp06bPrJk7d651ww03eLXde%2B%2B9VnJyciuuDK2NHSwEtOLiYkVFRSk%2BPt5uS0pKUnBwsEpKSj7z3LVr16pHjx4aMGCAFixYoI8%2B%2Bqi1l9uunDt3TmVlZUpKSrLbgoODlZSUpOLi4kueU1xc7FUvScnJyZ9aj8vzZd4LSaqrq1OvXr0UGxur73znO6qoqGiL5eIT%2BHfRPvEkdwQ0t9ut6Ohor7aQkBB169ZNbrf7U8%2BbNGmSevXqJZfLpX379mnevHmqrKzUiy%2B%2B2NpLbjf%2B%2Bc9/qqmp6aK/aBATE6NDhw5d8hy3233J%2Bs96r/D5vsx70adPHz333HO68cYbVVtbq1/96le69dZbVVFRoauvvrotlo3/79P%2BXXg8Hv373/9WRESEj1aGr4KABb80f/58LV68%2BDNrDh48%2BKXHv/AerYEDB6pnz54aNWqU3nvvPV133XVfelwgUCQmJnr9wfpbb71V/fr1029%2B8xs9/vjjPlwZ0D4QsOCXZs%2BerR/84AefWfP1r39dTqfzopt4z58/r5qaGjmdzsueLyEhQZL07rvvErAuU48ePdShQwdVVVV5tVdVVX3qz97pdH6helyeL/NefFLHjh01ZMgQvfvuu62xRHyGT/t34XA42L0KYNyDBb901VVXqW/fvp95hIaGKjExUadPn1ZZWZl97vbt29Xc3GyHpstRXl4uSerZs6fpS2m3QkNDNXToUBUWFtptzc3NKiws9NoZuVBiYqJXvSQVFBR8aj0uz5d5Lz6pqalJ%2B/fv59%2BAD/Dvop3y9V32wFc1ZswYa8iQIVZJSYn197//3erdu7c1ceJEu//48eNWnz59rJKSEsuyLOvdd9%2B1HnvsMau0tNQ6fPiw9ec//9n6%2Bte/bo0YMcJXlxCw1q9fb4WFhVl5eXnWW2%2B9Zc2YMcOKioqy3G63ZVmWNXnyZGv%2B/Pl2/RtvvGGFhIRYv/rVr6yDBw9ajzzyiNWxY0dr//79vrqEduOLvhePPvqo9eqrr1rvvfeeVVZWZk2YMMEKDw%2B3KioqfHUJ7caZM2esvXv3Wnv37rUkWcuWLbP27t1rHTlyxLIsy5o/f741efJku/7999%2B3OnXqZM2ZM8c6ePCgtXLlSqtDhw5Wfn6%2Bry4BBhCwEPD%2B9a9/WRMnTrS%2B9rWvWQ6Hw5o2bZp15swZu//w4cOWJGvHjh2WZVnW0aNHrREjRljdunWzwsLCrOuvv96aM2eOVVtb66MrCGzPPPOMdc0111ihoaHWzTffbL355pt23%2B23325NnTrVq/6FF16wvvGNb1ihoaHWDTfcYG3durWNV9x%2BfZH3YtasWXZtTEyMNXbsWGvPnj0%2BWHX7s2PHDkvSRUfLz3/q1KnW7bffftE5gwcPtkJDQ62vf/3r1po1a9p83TAryLIsy4cbaAAAAO0O92ABAAAYRsACAAAwjIAFAABgGAELAADAMAIWAACAYQQsAAAAwwhYAAAAhhGwAAAADCNgAQAAGEbAAgAAMIyABQAAYBgBCwAAwDACFgAAgGEELAAAAMMIWAAAAIYRsAAAAAwjYAEAABhGwAIAADDs/wEk0M%2BOwOfjIgAAAABJRU5ErkJggg%3D%3D\"/>\n",
       "        </div>\n",
       "        <div role=\"tabpanel\" class=\"tab-pane col-md-12\" id=\"common-4269209255617096035\">\n",
       "            \n",
       "<table class=\"freq table table-hover\">\n",
       "    <thead>\n",
       "    <tr>\n",
       "        <td class=\"fillremaining\">Value</td>\n",
       "        <td class=\"number\">Count</td>\n",
       "        <td class=\"number\">Frequency (%)</td>\n",
       "        <td style=\"min-width:200px\">&nbsp;</td>\n",
       "    </tr>\n",
       "    </thead>\n",
       "    <tr class=\"\">\n",
       "        <td class=\"fillremaining\">0.6752821422735982</td>\n",
       "        <td class=\"number\">1</td>\n",
       "        <td class=\"number\">0.0%</td>\n",
       "        <td>\n",
       "            <div class=\"bar\" style=\"width:1%\">&nbsp;</div>\n",
       "        </td>\n",
       "</tr><tr class=\"\">\n",
       "        <td class=\"fillremaining\">0.2266508408221408</td>\n",
       "        <td class=\"number\">1</td>\n",
       "        <td class=\"number\">0.0%</td>\n",
       "        <td>\n",
       "            <div class=\"bar\" style=\"width:1%\">&nbsp;</div>\n",
       "        </td>\n",
       "</tr><tr class=\"\">\n",
       "        <td class=\"fillremaining\">0.8247330339002039</td>\n",
       "        <td class=\"number\">1</td>\n",
       "        <td class=\"number\">0.0%</td>\n",
       "        <td>\n",
       "            <div class=\"bar\" style=\"width:1%\">&nbsp;</div>\n",
       "        </td>\n",
       "</tr><tr class=\"\">\n",
       "        <td class=\"fillremaining\">0.1326905750475194</td>\n",
       "        <td class=\"number\">1</td>\n",
       "        <td class=\"number\">0.0%</td>\n",
       "        <td>\n",
       "            <div class=\"bar\" style=\"width:1%\">&nbsp;</div>\n",
       "        </td>\n",
       "</tr><tr class=\"\">\n",
       "        <td class=\"fillremaining\">0.5076650594095943</td>\n",
       "        <td class=\"number\">1</td>\n",
       "        <td class=\"number\">0.0%</td>\n",
       "        <td>\n",
       "            <div class=\"bar\" style=\"width:1%\">&nbsp;</div>\n",
       "        </td>\n",
       "</tr><tr class=\"\">\n",
       "        <td class=\"fillremaining\">0.8895386585760676</td>\n",
       "        <td class=\"number\">1</td>\n",
       "        <td class=\"number\">0.0%</td>\n",
       "        <td>\n",
       "            <div class=\"bar\" style=\"width:1%\">&nbsp;</div>\n",
       "        </td>\n",
       "</tr><tr class=\"\">\n",
       "        <td class=\"fillremaining\">0.046144323890112034</td>\n",
       "        <td class=\"number\">1</td>\n",
       "        <td class=\"number\">0.0%</td>\n",
       "        <td>\n",
       "            <div class=\"bar\" style=\"width:1%\">&nbsp;</div>\n",
       "        </td>\n",
       "</tr><tr class=\"\">\n",
       "        <td class=\"fillremaining\">1.0056691567989189</td>\n",
       "        <td class=\"number\">1</td>\n",
       "        <td class=\"number\">0.0%</td>\n",
       "        <td>\n",
       "            <div class=\"bar\" style=\"width:1%\">&nbsp;</div>\n",
       "        </td>\n",
       "</tr><tr class=\"\">\n",
       "        <td class=\"fillremaining\">0.3224997556652052</td>\n",
       "        <td class=\"number\">1</td>\n",
       "        <td class=\"number\">0.0%</td>\n",
       "        <td>\n",
       "            <div class=\"bar\" style=\"width:1%\">&nbsp;</div>\n",
       "        </td>\n",
       "</tr><tr class=\"\">\n",
       "        <td class=\"fillremaining\">0.6586655730615111</td>\n",
       "        <td class=\"number\">1</td>\n",
       "        <td class=\"number\">0.0%</td>\n",
       "        <td>\n",
       "            <div class=\"bar\" style=\"width:1%\">&nbsp;</div>\n",
       "        </td>\n",
       "</tr><tr class=\"other\">\n",
       "        <td class=\"fillremaining\">Other values (99990)</td>\n",
       "        <td class=\"number\">99990</td>\n",
       "        <td class=\"number\">100.0%</td>\n",
       "        <td>\n",
       "            <div class=\"bar\" style=\"width:100%\">&nbsp;</div>\n",
       "        </td>\n",
       "</tr>\n",
       "</table>\n",
       "        </div>\n",
       "        <div role=\"tabpanel\" class=\"tab-pane col-md-12\"  id=\"extreme-4269209255617096035\">\n",
       "            <p class=\"h4\">Minimum 5 values</p>\n",
       "            \n",
       "<table class=\"freq table table-hover\">\n",
       "    <thead>\n",
       "    <tr>\n",
       "        <td class=\"fillremaining\">Value</td>\n",
       "        <td class=\"number\">Count</td>\n",
       "        <td class=\"number\">Frequency (%)</td>\n",
       "        <td style=\"min-width:200px\">&nbsp;</td>\n",
       "    </tr>\n",
       "    </thead>\n",
       "    <tr class=\"\">\n",
       "        <td class=\"fillremaining\">-0.8482184970082173</td>\n",
       "        <td class=\"number\">1</td>\n",
       "        <td class=\"number\">0.0%</td>\n",
       "        <td>\n",
       "            <div class=\"bar\" style=\"width:100%\">&nbsp;</div>\n",
       "        </td>\n",
       "</tr><tr class=\"\">\n",
       "        <td class=\"fillremaining\">-0.8449079224879839</td>\n",
       "        <td class=\"number\">1</td>\n",
       "        <td class=\"number\">0.0%</td>\n",
       "        <td>\n",
       "            <div class=\"bar\" style=\"width:100%\">&nbsp;</div>\n",
       "        </td>\n",
       "</tr><tr class=\"\">\n",
       "        <td class=\"fillremaining\">-0.8205608962625207</td>\n",
       "        <td class=\"number\">1</td>\n",
       "        <td class=\"number\">0.0%</td>\n",
       "        <td>\n",
       "            <div class=\"bar\" style=\"width:100%\">&nbsp;</div>\n",
       "        </td>\n",
       "</tr><tr class=\"\">\n",
       "        <td class=\"fillremaining\">-0.8179510294196833</td>\n",
       "        <td class=\"number\">1</td>\n",
       "        <td class=\"number\">0.0%</td>\n",
       "        <td>\n",
       "            <div class=\"bar\" style=\"width:100%\">&nbsp;</div>\n",
       "        </td>\n",
       "</tr><tr class=\"\">\n",
       "        <td class=\"fillremaining\">-0.8072153312637587</td>\n",
       "        <td class=\"number\">1</td>\n",
       "        <td class=\"number\">0.0%</td>\n",
       "        <td>\n",
       "            <div class=\"bar\" style=\"width:100%\">&nbsp;</div>\n",
       "        </td>\n",
       "</tr>\n",
       "</table>\n",
       "            <p class=\"h4\">Maximum 5 values</p>\n",
       "            \n",
       "<table class=\"freq table table-hover\">\n",
       "    <thead>\n",
       "    <tr>\n",
       "        <td class=\"fillremaining\">Value</td>\n",
       "        <td class=\"number\">Count</td>\n",
       "        <td class=\"number\">Frequency (%)</td>\n",
       "        <td style=\"min-width:200px\">&nbsp;</td>\n",
       "    </tr>\n",
       "    </thead>\n",
       "    <tr class=\"\">\n",
       "        <td class=\"fillremaining\">1.3129433547907046</td>\n",
       "        <td class=\"number\">1</td>\n",
       "        <td class=\"number\">0.0%</td>\n",
       "        <td>\n",
       "            <div class=\"bar\" style=\"width:100%\">&nbsp;</div>\n",
       "        </td>\n",
       "</tr><tr class=\"\">\n",
       "        <td class=\"fillremaining\">1.3312528581155687</td>\n",
       "        <td class=\"number\">1</td>\n",
       "        <td class=\"number\">0.0%</td>\n",
       "        <td>\n",
       "            <div class=\"bar\" style=\"width:100%\">&nbsp;</div>\n",
       "        </td>\n",
       "</tr><tr class=\"\">\n",
       "        <td class=\"fillremaining\">1.3333456053179722</td>\n",
       "        <td class=\"number\">1</td>\n",
       "        <td class=\"number\">0.0%</td>\n",
       "        <td>\n",
       "            <div class=\"bar\" style=\"width:100%\">&nbsp;</div>\n",
       "        </td>\n",
       "</tr><tr class=\"\">\n",
       "        <td class=\"fillremaining\">1.3348276216963582</td>\n",
       "        <td class=\"number\">1</td>\n",
       "        <td class=\"number\">0.0%</td>\n",
       "        <td>\n",
       "            <div class=\"bar\" style=\"width:100%\">&nbsp;</div>\n",
       "        </td>\n",
       "</tr><tr class=\"\">\n",
       "        <td class=\"fillremaining\">1.343769333804496</td>\n",
       "        <td class=\"number\">1</td>\n",
       "        <td class=\"number\">0.0%</td>\n",
       "        <td>\n",
       "            <div class=\"bar\" style=\"width:100%\">&nbsp;</div>\n",
       "        </td>\n",
       "</tr>\n",
       "</table>\n",
       "        </div>\n",
       "    </div>\n",
       "</div>\n",
       "</div><div class=\"row variablerow\">\n",
       "    <div class=\"col-md-3 namecol\">\n",
       "        <p class=\"h4 pp-anchor\" id=\"pp_var_f2\">f2<br/>\n",
       "            <small>Numeric</small>\n",
       "        </p>\n",
       "    </div><div class=\"col-md-6\">\n",
       "    <div class=\"row\">\n",
       "        <div class=\"col-sm-6\">\n",
       "            <table class=\"stats \">\n",
       "                <tr>\n",
       "                    <th>Distinct count</th>\n",
       "                    <td>100000</td>\n",
       "                </tr>\n",
       "                <tr>\n",
       "                    <th>Unique (%)</th>\n",
       "                    <td>100.0%</td>\n",
       "                </tr>\n",
       "                <tr class=\"ignore\">\n",
       "                    <th>Missing (%)</th>\n",
       "                    <td>0.0%</td>\n",
       "                </tr>\n",
       "                <tr class=\"ignore\">\n",
       "                    <th>Missing (n)</th>\n",
       "                    <td>0</td>\n",
       "                </tr>\n",
       "                <tr class=\"ignore\">\n",
       "                    <th>Infinite (%)</th>\n",
       "                    <td>0.0%</td>\n",
       "                </tr>\n",
       "                <tr class=\"ignore\">\n",
       "                    <th>Infinite (n)</th>\n",
       "                    <td>0</td>\n",
       "                </tr>\n",
       "            </table>\n",
       "\n",
       "        </div>\n",
       "        <div class=\"col-sm-6\">\n",
       "            <table class=\"stats \">\n",
       "\n",
       "                <tr>\n",
       "                    <th>Mean</th>\n",
       "                    <td>2.5026</td>\n",
       "                </tr>\n",
       "                <tr>\n",
       "                    <th>Minimum</th>\n",
       "                    <td>-12.088</td>\n",
       "                </tr>\n",
       "                <tr>\n",
       "                    <th>Maximum</th>\n",
       "                    <td>16.004</td>\n",
       "                </tr>\n",
       "                <tr class=\"ignore\">\n",
       "                    <th>Zeros (%)</th>\n",
       "                    <td>0.0%</td>\n",
       "                </tr>\n",
       "            </table>\n",
       "        </div>\n",
       "    </div>\n",
       "</div>\n",
       "<div class=\"col-md-3 collapse in\" id=\"minihistogram-2219058519422468124\">\n",
       "    <img src=\"data:image/png;base64,iVBORw0KGgoAAAANSUhEUgAAAMgAAABLCAYAAAA1fMjoAAAAOXRFWHRTb2Z0d2FyZQBNYXRwbG90bGliIHZlcnNpb24zLjUuMywgaHR0cHM6Ly9tYXRwbG90bGliLm9yZy/NK7nSAAAACXBIWXMAAA9hAAAPYQGoP6dpAAAB10lEQVR4nO3dscrTUBzG4X%2BKa9K9NBchuDsJXtC3CQ6Co5fiLji5exctvYBkbxy0DoKvXyUmX%2B3z7DknhfPjNGnaNtM0TbWw4/FYfd8vPS037nA41H6/X3TOZ4vO9kPbtlX1/QV3XbfGKXBDhmGovu9/rpslrRJI0zRVVdV1nUB%2B8eLNp6uP%2Bfr%2B9T84k6fnsm6WtFl8RrghAoFAIBAIBAKBQLDKXax78Td3pHha7CAQCAQCgUAgEAgEAoFAIBAIBAKBQCAQCAQCgUAgEAgEAoGnef8D1z41fC/fYZ%2BDHQQCgUAgEAgEAoFAIBAIBAKBQCAQ%2BKDwCn7G5/7YQSAQCAQCgUAgEAgEAoFAIBAIBAKBQCDwSfod8lfTj2cHgUAgEAgEgru9BvFkLo9hB4FAIBCs8hZrmqaqqhqGYZbxXr77PMs4/N7zh49XH/Pl7atZ5r6sk8u6WdIqgYzjWFVVfd%2BvMT0L2X6Yd7xxHGu73c476B800wpZns/nOp1O1bZtNU2z9PTcmGmaahzH2u12tdkse1WwSiBwK1ykQyAQCAQCgUAgEAgEAoFAIBAIBAKBQCAQCAQCgUAgEAgEAoFAIBAIBAKBQCAQCAQCgUAgEAgEAoFAIBB8A%2BvrSUHUSLY8AAAAAElFTkSuQmCC\">\n",
       "\n",
       "</div>\n",
       "<div class=\"col-md-12 text-right\">\n",
       "    <a role=\"button\" data-toggle=\"collapse\" data-target=\"#descriptives-2219058519422468124,#minihistogram-2219058519422468124\"\n",
       "       aria-expanded=\"false\" aria-controls=\"collapseExample\">\n",
       "        Toggle details\n",
       "    </a>\n",
       "</div>\n",
       "<div class=\"row collapse col-md-12\" id=\"descriptives-2219058519422468124\">\n",
       "    <ul class=\"nav nav-tabs\" role=\"tablist\">\n",
       "        <li role=\"presentation\" class=\"active\"><a href=\"#quantiles-2219058519422468124\"\n",
       "                                                  aria-controls=\"quantiles-2219058519422468124\" role=\"tab\"\n",
       "                                                  data-toggle=\"tab\">Statistics</a></li>\n",
       "        <li role=\"presentation\"><a href=\"#histogram-2219058519422468124\" aria-controls=\"histogram-2219058519422468124\"\n",
       "                                   role=\"tab\" data-toggle=\"tab\">Histogram</a></li>\n",
       "        <li role=\"presentation\"><a href=\"#common-2219058519422468124\" aria-controls=\"common-2219058519422468124\"\n",
       "                                   role=\"tab\" data-toggle=\"tab\">Common Values</a></li>\n",
       "        <li role=\"presentation\"><a href=\"#extreme-2219058519422468124\" aria-controls=\"extreme-2219058519422468124\"\n",
       "                                   role=\"tab\" data-toggle=\"tab\">Extreme Values</a></li>\n",
       "\n",
       "    </ul>\n",
       "\n",
       "    <div class=\"tab-content\">\n",
       "        <div role=\"tabpanel\" class=\"tab-pane active row\" id=\"quantiles-2219058519422468124\">\n",
       "            <div class=\"col-md-4 col-md-offset-1\">\n",
       "                <p class=\"h4\">Quantile statistics</p>\n",
       "                <table class=\"stats indent\">\n",
       "                    <tr>\n",
       "                        <th>Minimum</th>\n",
       "                        <td>-12.088</td>\n",
       "                    </tr>\n",
       "                    <tr>\n",
       "                        <th>5-th percentile</th>\n",
       "                        <td>-2.862</td>\n",
       "                    </tr>\n",
       "                    <tr>\n",
       "                        <th>Q1</th>\n",
       "                        <td>0.28775</td>\n",
       "                    </tr>\n",
       "                    <tr>\n",
       "                        <th>Median</th>\n",
       "                        <td>2.516</td>\n",
       "                    </tr>\n",
       "                    <tr>\n",
       "                        <th>Q3</th>\n",
       "                        <td>4.7151</td>\n",
       "                    </tr>\n",
       "                    <tr>\n",
       "                        <th>95-th percentile</th>\n",
       "                        <td>7.8403</td>\n",
       "                    </tr>\n",
       "                    <tr>\n",
       "                        <th>Maximum</th>\n",
       "                        <td>16.004</td>\n",
       "                    </tr>\n",
       "                    <tr>\n",
       "                        <th>Range</th>\n",
       "                        <td>28.092</td>\n",
       "                    </tr>\n",
       "                    <tr>\n",
       "                        <th>Interquartile range</th>\n",
       "                        <td>4.4273</td>\n",
       "                    </tr>\n",
       "                </table>\n",
       "            </div>\n",
       "            <div class=\"col-md-4 col-md-offset-2\">\n",
       "                <p class=\"h4\">Descriptive statistics</p>\n",
       "                <table class=\"stats indent\">\n",
       "                    <tr>\n",
       "                        <th>Standard deviation</th>\n",
       "                        <td>3.2482</td>\n",
       "                    </tr>\n",
       "                    <tr>\n",
       "                        <th>Coef of variation</th>\n",
       "                        <td>1.2979</td>\n",
       "                    </tr>\n",
       "                    <tr>\n",
       "                        <th>Kurtosis</th>\n",
       "                        <td>-0.11128</td>\n",
       "                    </tr>\n",
       "                    <tr>\n",
       "                        <th>Mean</th>\n",
       "                        <td>2.5026</td>\n",
       "                    </tr>\n",
       "                    <tr>\n",
       "                        <th>MAD</th>\n",
       "                        <td>2.6033</td>\n",
       "                    </tr>\n",
       "                    <tr class=\"\">\n",
       "                        <th>Skewness</th>\n",
       "                        <td>-0.0029963</td>\n",
       "                    </tr>\n",
       "                    <tr>\n",
       "                        <th>Sum</th>\n",
       "                        <td>250260</td>\n",
       "                    </tr>\n",
       "                    <tr>\n",
       "                        <th>Variance</th>\n",
       "                        <td>10.551</td>\n",
       "                    </tr>\n",
       "                    <tr>\n",
       "                        <th>Memory size</th>\n",
       "                        <td>781.4 KiB</td>\n",
       "                    </tr>\n",
       "                </table>\n",
       "            </div>\n",
       "        </div>\n",
       "        <div role=\"tabpanel\" class=\"tab-pane col-md-8 col-md-offset-2\" id=\"histogram-2219058519422468124\">\n",
       "            <img src=\"data:image/png;base64,iVBORw0KGgoAAAANSUhEUgAAAlgAAAGQCAYAAAByNR6YAAAAOXRFWHRTb2Z0d2FyZQBNYXRwbG90bGliIHZlcnNpb24zLjUuMywgaHR0cHM6Ly9tYXRwbG90bGliLm9yZy/NK7nSAAAACXBIWXMAAA9hAAAPYQGoP6dpAAAwQElEQVR4nO3de1RVdf7/8RegB/ByMC%2BAfEU0zQuJmqhIqd%2BvI%2BNBqW%2BmzfKWoVGNftFRMW9lqF2G0q%2BmjZrfVpM4a2Wps8qZNDHC25SkI0ZeJi3Nwr5wkLxwlBIUzu%2BPvuyfJy3NPnoO8nystddw9n6fz37v3RnPa%2B2zz%2Bf4ud1utwAAAGCMv7cbAAAAuNUQsAAAAAwjYAEAABhGwAIAADCMgAUAAGAYAQsAAMAwAhYAAIBhBCwAAADDCFgAAACGEbAAAAAMI2ABAAAYRsACAAAwjIAFAABgGAELAADAMAIWAACAYQQsAAAAwwhYAAAAhhGwAAAADCNgAQAAGEbAAgAAMIyABQAAYBgBCwAAwDACFgAAgGEELAAAAMMIWAAAAIYRsAAAAAwjYAEAABhGwAIAADCMgAUAAGAYAQsAAMAwAhYAAIBhBCwAAADDCFgAAACGEbAAAAAMI2ABAAAYRsACAAAwjIAFAABgGAELAADAsDrebqA2qKqqUmFhoRo2bCg/Pz9vtwMAQK3gdrt19uxZRUREyN//5l5TImDdBIWFhYqMjPR2GwAA1ErHjx9XixYtbuo%2BCVg3QcOGDSX98B/Ybrd7uRsAAGoHl8ulyMhI6334ZiJg3QTVHwva7XYCFgAAN5k3bs/hJncAAADDCFgAAACGEbAAAAAMI2ABAAAYRsACAAAwjIAFAABgGAELAADAMAIWAACAYQQsAAAAwwhYAAAAhhGwAAAADCNgAQAAGMaPPQPAVXR/KsvbLfwie55P9HYLQK3HFSwAAADDCFgAAACGEbAAAAAMI2ABAAAYRsACAAAwjIAFAABgGAELAADAMAIWAACAYQQsAAAAwwhYAAAAhhGwAAAADCNgAQAAGEbAAgAAMIyABQAAYBgBCwAAwDCfDVivvPKKOnfuLLvdLrvdrvj4eG3atMnafv78eaWmpqpJkyZq0KCBhg4dquLiYo8xCgoKlJSUpHr16ik0NFTTpk3TxYsXPWq2bdumbt26KTAwUG3btlVmZuZlvSxbtkytWrVSUFCQ4uLitHv37htyzAAA4NbgswGrRYsWeuGFF5SXl6c9e/boN7/5je6//34dPHhQkjRlyhS9%2B%2B67WrdunbZv367CwkINGTLEen5lZaWSkpJUUVGhnTt3atWqVcrMzFR6erpVc%2BzYMSUlJalfv37Kz8/X5MmT9eijj2rz5s1WzZo1a5SWlqY5c%2BZo79696tKlixwOh06cOHHzTgYAAKhR/Nxut9vbTVyrxo0ba8GCBXrwwQfVrFkzrV69Wg8%2B%2BKAk6dChQ%2BrYsaNyc3PVq1cvbdq0Sffee68KCwsVFhYmSVqxYoVmzJihkpIS2Ww2zZgxQxs3btSBAwesfQwfPlxnzpxRVlaWJCkuLk49evTQ0qVLJUlVVVWKjIzUxIkTNXPmzGvq2%2BVyKSQkRKWlpbLb7SZPCYCboPtTWd5u4RfZ83yit1sAfII333999grWpSorK/XWW2%2BprKxM8fHxysvL04ULF5SQkGDVdOjQQS1btlRubq4kKTc3VzExMVa4kiSHwyGXy2VdBcvNzfUYo7qmeoyKigrl5eV51Pj7%2ByshIcGqAQAA%2BLE63m7g5%2Bzfv1/x8fE6f/68GjRooHfeeUfR0dHKz8%2BXzWZTo0aNPOrDwsLkdDolSU6n0yNcVW%2Bv3vZzNS6XS99//71Onz6tysrKK9YcOnToJ/suLy9XeXm59djlcv2yAwcAADWaT1/Bat%2B%2BvfLz87Vr1y6NHz9eycnJ%2Bte//uXttq4qIyNDISEh1hIZGentlgAAwE3k0wHLZrOpbdu2io2NVUZGhrp06aIlS5YoPDxcFRUVOnPmjEd9cXGxwsPDJUnh4eGXfauw%2BvHVaux2u4KDg9W0aVMFBARcsaZ6jCuZNWuWSktLreX48ePXdfwAAKBm8umA9WNVVVUqLy9XbGys6tatq5ycHGvb4cOHVVBQoPj4eElSfHy89u/f7/Ftv%2BzsbNntdkVHR1s1l45RXVM9hs1mU2xsrEdNVVWVcnJyrJorCQwMtKaXqF4AAEDt4bP3YM2aNUsDBw5Uy5YtdfbsWa1evVrbtm3T5s2bFRISopSUFKWlpalx48ay2%2B2aOHGi4uPj1atXL0nSgAEDFB0drdGjR2v%2B/PlyOp2aPXu2UlNTFRgYKEkaN26cli5dqunTp%2BuRRx7Rli1btHbtWm3cuNHqIy0tTcnJyerevbt69uypxYsXq6ysTGPHjvXKeQEAAL7PZwPWiRMn9PDDD6uoqEghISHq3LmzNm/erN/%2B9reSpJdeekn%2B/v4aOnSoysvL5XA4tHz5cuv5AQEB2rBhg8aPH6/4%2BHjVr19fycnJeuaZZ6ya1q1ba%2BPGjZoyZYqWLFmiFi1a6LXXXpPD4bBqhg0bppKSEqWnp8vpdKpr167Kysq67MZ3AACAajVqHqyainmwgJqNebCAmol5sAAAAG4hBCwAAADDCFgAAACGEbAAAAAMI2ABAAAYRsACAAAwjIAFAABgGAELAADAMAIWAACAYQQsAAAAwwhYAAAAhhGwAAAADCNgAQAAGFbH2w0AqH26P5Xl7RYA4IbiChYAAIBhBCwAAADDCFgAAACGEbAAAAAMI2ABAAAYRsACAAAwjIAFAABgGAELAADAMAIWAACAYQQsAAAAwwhYAAAAhhGwAAAADCNgAQAAGEbAAgAAMIyABQAAYBgBCwAAwDACFgAAgGEELAAAAMMIWAAAAIYRsAAAAAwjYAEAABhGwAIAADCMgAUAAGCYzwasjIwM9ejRQw0bNlRoaKgGDx6sw4cPe9T8x3/8h/z8/DyWcePGedQUFBQoKSlJ9erVU2hoqKZNm6aLFy961Gzbtk3dunVTYGCg2rZtq8zMzMv6WbZsmVq1aqWgoCDFxcVp9%2B7dxo8ZAADcGnw2YG3fvl2pqan6%2BOOPlZ2drQsXLmjAgAEqKyvzqHvsscdUVFRkLfPnz7e2VVZWKikpSRUVFdq5c6dWrVqlzMxMpaenWzXHjh1TUlKS%2BvXrp/z8fE2ePFmPPvqoNm/ebNWsWbNGaWlpmjNnjvbu3asuXbrI4XDoxIkTN/5EAACAGsfP7Xa7vd3EtSgpKVFoaKi2b9%2Buvn37SvrhClbXrl21ePHiKz5n06ZNuvfee1VYWKiwsDBJ0ooVKzRjxgyVlJTIZrNpxowZ2rhxow4cOGA9b/jw4Tpz5oyysrIkSXFxcerRo4eWLl0qSaqqqlJkZKQmTpyomTNnXrV3l8ulkJAQlZaWym63/5rTANwSuj%2BV5e0Wbml7nk/0dguAT/Dm%2B6/PXsH6sdLSUklS48aNPda/8cYbatq0qTp16qRZs2bpu%2B%2B%2Bs7bl5uYqJibGCleS5HA45HK5dPDgQasmISHBY0yHw6Hc3FxJUkVFhfLy8jxq/P39lZCQYNX8WHl5uVwul8cCAABqjzrebuBaVFVVafLkybrnnnvUqVMna/3IkSMVFRWliIgI7du3TzNmzNDhw4f19ttvS5KcTqdHuJJkPXY6nT9b43K59P333%2Bv06dOqrKy8Ys2hQ4eu2G9GRobmzZv36w4aAADUWDUiYKWmpurAgQP68MMPPdY//vjj1t8xMTFq3ry5%2Bvfvr6NHj6pNmzY3u03LrFmzlJaWZj12uVyKjIz0Wj8AAODm8vmANWHCBG3YsEE7duxQixYtfrY2Li5OknTkyBG1adNG4eHhl33br7i4WJIUHh5u/W/1uktr7Ha7goODFRAQoICAgCvWVI/xY4GBgQoMDLz2gwQAALcUn70Hy%2B12a8KECXrnnXe0ZcsWtW7d%2BqrPyc/PlyQ1b95ckhQfH6/9%2B/d7fNsvOztbdrtd0dHRVk1OTo7HONnZ2YqPj5ck2Ww2xcbGetRUVVUpJyfHqgEAALiUz17BSk1N1erVq/W3v/1NDRs2tO6ZCgkJUXBwsI4eParVq1dr0KBBatKkifbt26cpU6aob9%2B%2B6ty5syRpwIABio6O1ujRozV//nw5nU7Nnj1bqamp1hWmcePGaenSpZo%2BfboeeeQRbdmyRWvXrtXGjRutXtLS0pScnKzu3burZ8%2BeWrx4scrKyjR27Nibf2IAAIDP89mA9corr0j6YSqGS61cuVJjxoyRzWbTBx98YIWdyMhIDR06VLNnz7ZqAwICtGHDBo0fP17x8fGqX7%2B%2BkpOT9cwzz1g1rVu31saNGzVlyhQtWbJELVq00GuvvSaHw2HVDBs2TCUlJUpPT5fT6VTXrl2VlZV12Y3vAAAAUg2aB6smYx4swBPzYN1YzIMF/IB5sAAAAG4hBCwAAADDCFgAAACGEbAAAAAMI2ABAAAYRsACAAAwjIAFAABgGAELAADAMAIWAACAYQQsAAAAwwhYAAAAhhGwAAAADCNgAQAAGEbAAgAAMIyABQAAYBgBCwAAwDACFgAAgGEELAAAAMMIWAAAAIYRsAAAAAwjYAEAABhGwAIAADCMgAUAAGAYAQsAAMAwAhYAAIBhBCwAAADDCFgAAACGEbAAAAAMI2ABAAAYRsACAAAwjIAFAABgGAELAADAMAIWAACAYQQsAAAAwwhYAAAAhhGwAAAADPPZgJWRkaEePXqoYcOGCg0N1eDBg3X48GGPmvPnzys1NVVNmjRRgwYNNHToUBUXF3vUFBQUKCkpSfXq1VNoaKimTZumixcvetRs27ZN3bp1U2BgoNq2bavMzMzL%2Blm2bJlatWqloKAgxcXFaffu3caPGQAA3BqMB6wvv/zSyDjbt29XamqqPv74Y2VnZ%2BvChQsaMGCAysrKrJopU6bo3Xff1bp167R9%2B3YVFhZqyJAh1vbKykolJSWpoqJCO3fu1KpVq5SZman09HSr5tixY0pKSlK/fv2Un5%2BvyZMn69FHH9XmzZutmjVr1igtLU1z5szR3r171aVLFzkcDp04ccLIsQIAgFuLn9vtdpsc0N/fX//%2B7/%2BulJQUPfjggwoKCjIybklJiUJDQ7V9%2B3b17dtXpaWlatasmVavXq0HH3xQknTo0CF17NhRubm56tWrlzZt2qR7771XhYWFCgsLkyStWLFCM2bMUElJiWw2m2bMmKGNGzfqwIED1r6GDx%2BuM2fOKCsrS5IUFxenHj16aOnSpZKkqqoqRUZGauLEiZo5c%2BZVe3e5XAoJCVFpaansdruR8wHUZN2fyvJ2C7e0Pc8nersFwCd48/3X%2BBWsvXv3qnPnzkpLS1N4eLh%2B//vfG/k4rbS0VJLUuHFjSVJeXp4uXLighIQEq6ZDhw5q2bKlcnNzJUm5ubmKiYmxwpUkORwOuVwuHTx40Kq5dIzqmuoxKioqlJeX51Hj7%2B%2BvhIQEqwYAAOBSxgNW165dtWTJEhUWFur1119XUVGRevfurU6dOmnRokUqKSn5xWNWVVVp8uTJuueee9SpUydJktPplM1mU6NGjTxqw8LC5HQ6rZpLw1X19uptP1fjcrn0/fff69tvv1VlZeUVa6rH%2BLHy8nK5XC6PBQAA1B437Cb3OnXqaMiQIVq3bp1efPFFHTlyRE888YQiIyP18MMPq6io6JrHSk1N1YEDB/TWW2/dqHaNysjIUEhIiLVERkZ6uyUAAHAT3bCAtWfPHv3Xf/2XmjdvrkWLFumJJ57Q0aNHlZ2drcLCQt1///3XNM6ECRO0YcMGbd26VS1atLDWh4eHq6KiQmfOnPGoLy4uVnh4uFXz428VVj%2B%2BWo3dbldwcLCaNm2qgICAK9ZUj/Fjs2bNUmlpqbUcP378mo4VAADcGowHrEWLFikmJkZ33323CgsL9Ze//EVff/21nnvuObVu3Vp9%2BvRRZmam9u7d%2B7PjuN1uTZgwQe%2B88462bNmi1q1be2yPjY1V3bp1lZOTY607fPiwCgoKFB8fL0mKj4/X/v37Pb7tl52dLbvdrujoaKvm0jGqa6rHsNlsio2N9aipqqpSTk6OVfNjgYGBstvtHgsAAKg96pge8JVXXtEjjzyiMWPGqHnz5lesCQ0N1Z///OefHSc1NVWrV6/W3/72NzVs2NC63ykkJETBwcEKCQlRSkqK0tLS1LhxY9ntdk2cOFHx8fHq1auXJGnAgAGKjo7W6NGjNX/%2BfDmdTs2ePVupqakKDAyUJI0bN05Lly7V9OnT9cgjj2jLli1au3atNm7caPWSlpam5ORkde/eXT179tTixYtVVlamsWPHmjhlAADgFmN8mgZT/Pz8rrh%2B5cqVGjNmjKQfJhqdOnWq3nzzTZWXl8vhcGj58uUeH919/fXXGj9%2BvLZt26b69esrOTlZL7zwgurU%2Bf/Zctu2bZoyZYr%2B9a9/qUWLFnr66aetfVRbunSpFixYIKfTqa5du%2Brll19WXFzcNR0L0zQAnpim4cZimgbgB958/zUesFauXKkGDRrod7/7ncf6devW6bvvvlNycrLJ3dUIBCzAEwHrxiJgAT%2B4pebBysjIUNOmTS9bHxoaqj/%2B8Y%2BmdwcAAOBzjAesgoKCy25Il6SoqCgVFBSY3h0AAIDPMR6wQkNDtW/fvsvWf/rpp2rSpInp3QEAAPgc4wFrxIgR%2BsMf/qCtW7eqsrJSlZWV2rJliyZNmqThw4eb3h0AAIDPMT5Nw7PPPquvvvpK/fv3t76pV1VVpYcffph7sAAAQK1gPGDZbDatWbNGzz77rD799FMFBwcrJiZGUVFRpncFAADgk4wHrGrt2rVTu3btbtTwAAAAPst4wKqsrFRmZqZycnJ04sQJVVVVeWzfsmWL6V0CAC5Rk%2BYZY84u3KqMB6xJkyYpMzNTSUlJ6tSp00/OyA4AAHCrMh6w3nrrLa1du1aDBg0yPTQAAECNYHyaBpvNprZt25oeFgAAoMYwHrCmTp2qJUuWyEd/QxoAAOCGM/4R4YcffqitW7dq06ZNuvPOO1W3bl2P7W%2B//bbpXQIAAPgU4wGrUaNGeuCBB0wPCwAAUGMYD1grV640PSQAAECNYvweLEm6ePGiPvjgA/3P//yPzp49K0kqLCzUuXPnbsTuAAAAfIrxK1hff/21EhMTVVBQoPLycv32t79Vw4YN9eKLL6q8vFwrVqwwvUsAAACfYvwK1qRJk9S9e3edPn1awcHB1voHHnhAOTk5pncHAADgc4xfwfrHP/6hnTt3ymazeaxv1aqV/vd//9f07gAAAHyO8StYVVVVqqysvGz9N998o4YNG5reHQAAgM8xHrAGDBigxYsXW4/9/Px07tw5zZkzh5/PAQAAtYLxjwgXLlwoh8Oh6OhonT9/XiNHjtQXX3yhpk2b6s033zS9OwAAAJ9jPGC1aNFCn376qd566y3t27dP586dU0pKikaNGuVx0zsAAMCtynjAkqQ6derooYceuhFDAwAA%2BDzjAesvf/nLz25/%2BOGHTe8SAADApxgPWJMmTfJ4fOHCBX333Xey2WyqV68eAQsAANzyjH%2BL8PTp0x7LuXPndPjwYfXu3Zub3AEAQK1wQ36L8MfuuOMOvfDCC5dd3QIAALgV3ZSAJf1w43thYeHN2h0AAIDXGL8H6%2B9//7vHY7fbraKiIi1dulT33HOP6d0BAAD4HOMBa/DgwR6P/fz81KxZM/3mN7/RwoULTe8OAADA5xgPWFVVVaaHBAAAqFFu2j1YAAAAtYXxK1hpaWnXXLto0SLTuwcAAPA64wHrk08%2B0SeffKILFy6offv2kqTPP/9cAQEB6tatm1Xn5%2BdnetcAAAA%2BwXjAuu%2B%2B%2B9SwYUOtWrVKt912m6QfJh8dO3as%2BvTpo6lTp5reJQAAgE8xfg/WwoULlZGRYYUrSbrtttv03HPP/aJvEe7YsUP33XefIiIi5Ofnp/Xr13tsHzNmjPz8/DyWxMREj5pTp05p1KhRstvtatSokVJSUnTu3DmPmn379qlPnz4KCgpSZGSk5s%2Bff1kv69atU4cOHRQUFKSYmBi9995713wcAACg9jEesFwul0pKSi5bX1JSorNnz17zOGVlZerSpYuWLVv2kzWJiYkqKiqylh//FM%2BoUaN08OBBZWdna8OGDdqxY4cef/xxj14HDBigqKgo5eXlacGCBZo7d65effVVq2bnzp0aMWKEUlJS9Mknn2jw4MEaPHiwDhw4cM3HAgAAahfjHxE%2B8MADGjt2rBYuXKiePXtKknbt2qVp06ZpyJAh1zzOwIEDNXDgwJ%2BtCQwMVHh4%2BBW3ffbZZ8rKytI///lPde/eXZL0pz/9SYMGDdJ///d/KyIiQm%2B88YYqKir0%2Buuvy2az6c4771R%2Bfr4WLVpkBbElS5YoMTFR06ZNkyQ9%2B%2Byzys7O1tKlS7VixYprPh4AAFB7GL%2BCtWLFCg0cOFAjR45UVFSUoqKiNHLkSCUmJmr58uVG97Vt2zaFhoaqffv2Gj9%2BvE6ePGlty83NVaNGjaxwJUkJCQny9/fXrl27rJq%2BffvKZrNZNQ6HQ4cPH9bp06etmoSEBI/9OhwO5ebmGj0WAABw6zB%2BBatevXpavny5FixYoKNHj0qS2rRpo/r16xvdT2JiooYMGaLWrVvr6NGjevLJJzVw4EDl5uYqICBATqdToaGhHs%2BpU6eOGjduLKfTKUlyOp1q3bq1R01YWJi17bbbbpPT6bTWXVpTPcaVlJeXq7y83Hrscrl%2B1bECAICaxXjAqlZ9X1Tfvn0VHBwst9ttdGqG4cOHW3/HxMSoc%2BfOatOmjbZt26b%2B/fsb28/1yMjI0Lx587zaAwAA8B7jHxGePHlS/fv3V7t27TRo0CAVFRVJklJSUm7oFA233367mjZtqiNHjkiSwsPDdeLECY%2Baixcv6tSpU9Z9W%2BHh4SouLvaoqX58tZqfuvdLkmbNmqXS0lJrOX78%2BK87OAAAUKMYD1hTpkxR3bp1VVBQoHr16lnrhw0bpqysLNO7s3zzzTc6efKkmjdvLkmKj4/XmTNnlJeXZ9Vs2bJFVVVViouLs2p27NihCxcuWDXZ2dlq3769Nc1EfHy8cnJyPPaVnZ2t%2BPj4n%2BwlMDBQdrvdYwEAALWH8YD1/vvv68UXX1SLFi081t9xxx36%2Buuvr3mcc%2BfOKT8/X/n5%2BZKkY8eOKT8/XwUFBTp37pymTZumjz/%2BWF999ZVycnJ0//33q23btnI4HJKkjh07KjExUY899ph2796tjz76SBMmTNDw4cMVEREhSRo5cqRsNptSUlJ08OBBrVmzRkuWLPH4uZ9JkyYpKytLCxcu1KFDhzR37lzt2bNHEyZM%2BJVnCgAA3KqMB6yysjKPK1fVTp06pcDAwGseZ8%2BePbrrrrt01113SfrhNw7vuusupaenKyAgQPv27dN//ud/ql27dkpJSVFsbKz%2B8Y9/eOzjjTfeUIcOHdS/f38NGjRIvXv39pjjKiQkRO%2B//76OHTum2NhYTZ06Venp6R5zZd19991avXq1Xn31VXXp0kV//etftX79enXq1Ol6Tg8AAKgF/Nxut9vkgIMGDVJsbKyeffZZNWzYUPv27VNUVJSGDx%2Buqqoq/fWvfzW5uxrB5XIpJCREpaWlfFwISOr%2B1I27XQA1y57nE69eBFwnb77/Gv8W4fz589W/f3/t2bNHFRUVmj59ug4ePKhTp07po48%2BMr07AAAAn2P8I8JOnTrp888/V%2B/evXX//ferrKxMQ4YM0SeffKI2bdqY3h0AAIDPMXoF68KFC0pMTNSKFSv01FNPmRwaAACgxjB6Batu3brat2%2BfySEBAABqHOMfET700EP685//bHpYAACAGsP4Te4XL17U66%2B/rg8%2B%2BECxsbGX/QbhokWLTO8SAADApxgLWF9%2B%2BaVatWqlAwcOqFu3bpKkzz//3KPG5G8RAgAA%2BCpjAeuOO%2B5QUVGRtm7dKumHn8Z5%2BeWXFRYWZmoXAAAANYKxe7B%2BPF/ppk2bVFZWZmp4AACAGsP4Te7VDE8QDwAAUGMYC1h%2Bfn6X3WPFPVcAAKA2MnYPltvt1pgxY6wfWz5//rzGjRt32bcI3377bVO7BAAA8EnGAlZycrLH44ceesjU0AAAADWKsYC1cuVKU0MBAADUaDfsJncAAIDaioAFAABgGAELAADAMAIWAACAYcZ/7BmAd3R/KsvbLQAA/g9XsAAAAAwjYAEAABhGwAIAADCMgAUAAGAYAQsAAMAwAhYAAIBhBCwAAADDCFgAAACGEbAAAAAMI2ABAAAYRsACAAAwjIAFAABgGAELAADAMAIWAACAYQQsAAAAwwhYAAAAhhGwAAAADCNgAQAAGOazAWvHjh267777FBERIT8/P61fv95ju9vtVnp6upo3b67g4GAlJCToiy%2B%2B8Kg5deqURo0aJbvdrkaNGiklJUXnzp3zqNm3b5/69OmjoKAgRUZGav78%2BZf1sm7dOnXo0EFBQUGKiYnRe%2B%2B9Z/x4AQDArcNnA1ZZWZm6dOmiZcuWXXH7/Pnz9fLLL2vFihXatWuX6tevL4fDofPnz1s1o0aN0sGDB5Wdna0NGzZox44devzxx63tLpdLAwYMUFRUlPLy8rRgwQLNnTtXr776qlWzc%2BdOjRgxQikpKfrkk080ePBgDR48WAcOHLhxBw8AAGo0P7fb7fZ2E1fj5%2Bend955R4MHD5b0w9WriIgITZ06VU888YQkqbS0VGFhYcrMzNTw4cP12WefKTo6Wv/85z/VvXt3SVJWVpYGDRqkb775RhEREXrllVf01FNPyel0ymazSZJmzpyp9evX69ChQ5KkYcOGqaysTBs2bLD66dWrl7p27aoVK1ZcU/8ul0shISEqLS2V3W43dVoAD92fyvJ2C8Avtuf5RG%2B3gFuYN99/ffYK1s85duyYnE6nEhISrHUhISGKi4tTbm6uJCk3N1eNGjWywpUkJSQkyN/fX7t27bJq%2Bvbta4UrSXI4HDp8%2BLBOnz5t1Vy6n%2Bqa6v1cSXl5uVwul8cCAABqjxoZsJxOpyQpLCzMY31YWJi1zel0KjQ01GN7nTp11LhxY4%2BaK41x6T5%2BqqZ6%2B5VkZGQoJCTEWiIjI3/pIQIAgBqsRgYsXzdr1iyVlpZay/Hjx73dEgAAuIlqZMAKDw%2BXJBUXF3usLy4utraFh4frxIkTHtsvXryoU6dOedRcaYxL9/FTNdXbryQwMFB2u91jAQAAtUeNDFitW7dWeHi4cnJyrHUul0u7du1SfHy8JCk%2BPl5nzpxRXl6eVbNlyxZVVVUpLi7OqtmxY4cuXLhg1WRnZ6t9%2B/a67bbbrJpL91NdU70fAACAH/PZgHXu3Dnl5%2BcrPz9f0g83tufn56ugoEB%2Bfn6aPHmynnvuOf3973/X/v379fDDDysiIsL6pmHHjh2VmJioxx57TLt379ZHH32kCRMmaPjw4YqIiJAkjRw5UjabTSkpKTp48KDWrFmjJUuWKC0tzepj0qRJysrK0sKFC3Xo0CHNnTtXe/bs0YQJE272KQEAADVEHW838FP27Nmjfv36WY%2BrQ09ycrIyMzM1ffp0lZWV6fHHH9eZM2fUu3dvZWVlKSgoyHrOG2%2B8oQkTJqh///7y9/fX0KFD9fLLL1vbQ0JC9P777ys1NVWxsbFq2rSp0tPTPebKuvvuu7V69WrNnj1bTz75pO644w6tX79enTp1uglnAQAA1EQ1Yh6smo55sHAzMA8WaiLmwcKNxDxYAAAAtxACFgAAgGEELAAAAMMIWAAAAIYRsAAAAAwjYAEAABhGwAIAADCMgAUAAGAYAQsAAMAwAhYAAIBhBCwAAADDCFgAAACGEbAAAAAMI2ABAAAYRsACAAAwjIAFAABgGAELAADAMAIWAACAYQQsAAAAwwhYAAAAhhGwAAAADCNgAQAAGEbAAgAAMIyABQAAYBgBCwAAwDACFgAAgGEELAAAAMMIWAAAAIYRsAAAAAwjYAEAABhGwAIAADCMgAUAAGAYAQsAAMAwAhYAAIBhBCwAAADDCFgAAACG1diANXfuXPn5%2BXksHTp0sLafP39eqampatKkiRo0aKChQ4equLjYY4yCggIlJSWpXr16Cg0N1bRp03Tx4kWPmm3btqlbt24KDAxU27ZtlZmZeTMODwAA1GA1NmBJ0p133qmioiJr%2BfDDD61tU6ZM0bvvvqt169Zp%2B/btKiws1JAhQ6ztlZWVSkpKUkVFhXbu3KlVq1YpMzNT6enpVs2xY8eUlJSkfv36KT8/X5MnT9ajjz6qzZs339TjBAAANYuf2%2B12e7uJ6zF37lytX79e%2Bfn5l20rLS1Vs2bNtHr1aj344IOSpEOHDqljx47Kzc1Vr169tGnTJt17770qLCxUWFiYJGnFihWaMWOGSkpKZLPZNGPGDG3cuFEHDhywxh4%2BfLjOnDmjrKysa%2B7V5XIpJCREpaWlstvtv%2B7AgZ/Q/alrf00CuD57nk/0dgv4Bbz5/lujr2B98cUXioiI0O23365Ro0apoKBAkpSXl6cLFy4oISHBqu3QoYNatmyp3NxcSVJubq5iYmKscCVJDodDLpdLBw8etGouHaO6pnoMAACAK6nj7QauV1xcnDIzM9W%2BfXsVFRVp3rx56tOnjw4cOCCn0ymbzaZGjRp5PCcsLExOp1OS5HQ6PcJV9fbqbT9X43K59P333ys4OPiKvZWXl6u8vNx67HK5ftWxAgCAmqXGBqyBAwdaf3fu3FlxcXGKiorS2rVrfzL43CwZGRmaN2%2BeV3sAAADeU6M/IrxUo0aN1K5dOx05ckTh4eGqqKjQmTNnPGqKi4sVHh4uSQoPD7/sW4XVj69WY7fbfzbEzZo1S6WlpdZy/PjxX3t4AACgBrllAta5c%2Bd09OhRNW/eXLGxsapbt65ycnKs7YcPH1ZBQYHi4%2BMlSfHx8dq/f79OnDhh1WRnZ8tutys6OtqquXSM6prqMX5KYGCg7Ha7xwIAAGqPGhuwnnjiCW3fvl1fffWVdu7cqQceeEABAQEaMWKEQkJClJKSorS0NG3dulV5eXkaO3as4uPj1atXL0nSgAEDFB0drdGjR%2BvTTz/V5s2bNXv2bKWmpiowMFCSNG7cOH355ZeaPn26Dh06pOXLl2vt2rWaMmWKNw8dAAD4uBp7D9Y333yjESNG6OTJk2rWrJl69%2B6tjz/%2BWM2aNZMkvfTSS/L399fQoUNVXl4uh8Oh5cuXW88PCAjQhg0bNH78eMXHx6t%2B/fpKTk7WM888Y9W0bt1aGzdu1JQpU7RkyRK1aNFCr732mhwOx00/XgAAUHPU2HmwahLmwcLNwDxYwI3HPFg1C/NgAQAA3EIIWAAAAIYRsAAAAAwjYAEAABhGwAIAADCMgAUAAGAYAQsAAMAwAhYAAIBhBCwAAADDCFgAAACGEbAAAAAMI2ABAAAYRsACAAAwjIAFAABgGAELAADAMAIWAACAYXW83QDgq7o/leXtFgAANRRXsAAAAAwjYAEAABhGwAIAADCMgAUAAGAYAQsAAMAwAhYAAIBhBCwAAADDCFgAAACGEbAAAAAMI2ABAAAYRsACAAAwjIAFAABgGAELAADAMAIWAACAYQQsAAAAwwhYAAAAhhGwAAAADCNgAQAAGFbH2w0AAFBTdH8qy9st/CJ7nk/0dgu1FlewAAAADCNgXaNly5apVatWCgoKUlxcnHbv3u3tlgAAgI8iYF2DNWvWKC0tTXPmzNHevXvVpUsXORwOnThxwtutAQAAH%2BTndrvd3m7C18XFxalHjx5aunSpJKmqqkqRkZGaOHGiZs6cedXnu1wuhYSEqLS0VHa7/Ua367Nq2r0LAFDT1fZ7sLz5/stN7ldRUVGhvLw8zZo1y1rn7%2B%2BvhIQE5ebmXvE55eXlKi8vtx6XlpZK%2BuE/dG1WWV7m7RYAoFap7e871cfvjWtJBKyr%2BPbbb1VZWamwsDCP9WFhYTp06NAVn5ORkaF58%2BZdtj4yMvKG9AgAwJWELPR2B77h7NmzCgkJuan7JGDdALNmzVJaWpr1uKqqSqdOnVKTJk3k5%2Bfnxc7McrlcioyM1PHjx2v1R5%2B/FOft%2BnDefjnO2fXhvF0fXzxvbrdbZ8%2BeVURExE3fNwHrKpo2baqAgAAVFxd7rC8uLlZ4ePgVnxMYGKjAwECPdY0aNbpRLXqd3W73mf8z1SSct%2BvDefvlOGfXh/N2fXztvN3sK1fV%2BBbhVdhsNsXGxionJ8daV1VVpZycHMXHx3uxMwAA4Ku4gnUN0tLSlJycrO7du6tnz55avHixysrKNHbsWG%2B3BgAAfBAB6xoMGzZMJSUlSk9Pl9PpVNeuXZWVlXXZje%2B1TWBgoObMmXPZx6H4eZy368N5%2B%2BU4Z9eH83Z9OG%2BemAcLAADAMO7BAgAAMIyABQAAYBgBCwAAwDACFgAAgGEELFyX559/Xnfffbfq1av3k5OoFhQUKCkpSfXq1VNoaKimTZumixcv3txGfVyrVq3k5%2BfnsbzwwgvebsvnLFu2TK1atVJQUJDi4uK0e/dub7fk0%2BbOnXvZ66pDhw7ebsvn7NixQ/fdd58iIiLk5%2Ben9evXe2x3u91KT09X8%2BbNFRwcrISEBH3xxRfeadZHXO2cjRkz5rLXXmJi7fzBaQIWrktFRYV%2B97vfafz48VfcXllZqaSkJFVUVGjnzp1atWqVMjMzlZ6efpM79X3PPPOMioqKrGXixInebsmnrFmzRmlpaZozZ4727t2rLl26yOFw6MSJE95uzafdeeedHq%2BrDz/80Nst%2BZyysjJ16dJFy5Ytu%2BL2%2BfPn6%2BWXX9aKFSu0a9cu1a9fXw6HQ%2BfPn7/JnfqOq50zSUpMTPR47b355ps3sUMf4gZ%2BhZUrV7pDQkIuW//ee%2B%2B5/f393U6n01r3yiuvuO12u7u8vPwmdujboqKi3C%2B99JK32/BpPXv2dKemplqPKysr3REREe6MjAwvduXb5syZ4%2B7SpYu326hRJLnfeecd63FVVZU7PDzcvWDBAmvdmTNn3IGBge4333zTCx36nh%2BfM7fb7U5OTnbff//9XunH13AFCzdEbm6uYmJiPCZjdTgccrlcOnjwoBc78z0vvPCCmjRporvuuksLFizgY9RLVFRUKC8vTwkJCdY6f39/JSQkKDc314ud%2Bb4vvvhCERERuv322zVq1CgVFBR4u6Ua5dixY3I6nR6vvZCQEMXFxfHau4pt27YpNDRU7du31/jx43Xy5Elvt%2BQVzOSOG8LpdF420331Y6fT6Y2WfNIf/vAHdevWTY0bN9bOnTs1a9YsFRUVadGiRd5uzSd8%2B%2B23qqysvOJr6dChQ17qyvfFxcUpMzNT7du3V1FRkebNm6c%2BffrowIEDatiwobfbqxGq/5260muPf8N%2BWmJiooYMGaLWrVvr6NGjevLJJzVw4EDl5uYqICDA2%2B3dVAQsWGbOnKkXX3zxZ2s%2B%2B%2Bwzbpa9il9yHtPS0qx1nTt3ls1m0%2B9//3tlZGTwcxO4bgMHDrT%2B7ty5s%2BLi4hQVFaW1a9cqJSXFi53hVjd8%2BHDr75iYGHXu3Flt2rTRtm3b1L9/fy92dvMRsGCZOnWqxowZ87M1t99%2B%2BzWNFR4eftk3vYqLi61tt7Jfcx7j4uJ08eJFffXVV2rfvv0N6K5madq0qQICAqzXTrXi4uJb/nVkUqNGjdSuXTsdOXLE263UGNWvr%2BLiYjVv3txaX1xcrK5du3qpq5rn9ttvV9OmTXXkyBECFmqvZs2aqVmzZkbGio%2BP1/PPP68TJ04oNDRUkpSdnS273a7o6Ggj%2B/BVv%2BY85ufny9/f3zpntZ3NZlNsbKxycnI0ePBgSVJVVZVycnI0YcIE7zZXg5w7d05Hjx7V6NGjvd1KjdG6dWuFh4crJyfHClQul0u7du36yW9P43LffPONTp486RFSawsCFq5LQUGBTp06pYKCAlVWVio/P1%2BS1LZtWzVo0EADBgxQdHS0Ro8erfnz58vpdGr27NlKTU3lo6//k5ubq127dqlfv35q2LChcnNzNWXKFD300EO67bbbvN2ez0hLS1NycrK6d%2B%2Bunj17avHixSorK9PYsWO93ZrPeuKJJ3TfffcpKipKhYWFmjNnjgICAjRixAhvt%2BZTzp0753FV79ixY8rPz1fjxo3VsmVLTZ48Wc8995zuuOMOtW7dWk8//bQiIiKssF8b/dw5a9y4sebNm6ehQ4cqPDxcR48e1fTp09W2bVs5HA4vdu0l3v4aI2qm5ORkt6TLlq1bt1o1X331lXvgwIHu4OBgd9OmTd1Tp051X7hwwXtN%2B5i8vDx3XFycOyQkxB0UFOTu2LGj%2B49//KP7/Pnz3m7N5/zpT39yt2zZ0m2z2dw9e/Z0f/zxx95uyacNGzbM3bx5c7fNZnP/27/9m3vYsGHuI0eOeLstn7N169Yr/juWnJzsdrt/mKrh6aefdoeFhbkDAwPd/fv3dx8%2BfNi7TXvZz52z7777zj1gwAB3s2bN3HXr1nVHRUW5H3vsMY/pemoTP7fb7fZCrgMAALhlMQ8WAACAYQQsAAAAwwhYAAAAhhGwAAAADCNgAQAAGEbAAgAAMIyABQAAYBgBCwAAwDACFgAAgGEELAAAAMMIWAAAAIYRsAAAAAwjYAEAABhGwAIAADCMgAUAAGAYAQsAAMAwAhYAAIBhBCwAAADD/h/QLZc3iv%2BcYQAAAABJRU5ErkJggg%3D%3D\"/>\n",
       "        </div>\n",
       "        <div role=\"tabpanel\" class=\"tab-pane col-md-12\" id=\"common-2219058519422468124\">\n",
       "            \n",
       "<table class=\"freq table table-hover\">\n",
       "    <thead>\n",
       "    <tr>\n",
       "        <td class=\"fillremaining\">Value</td>\n",
       "        <td class=\"number\">Count</td>\n",
       "        <td class=\"number\">Frequency (%)</td>\n",
       "        <td style=\"min-width:200px\">&nbsp;</td>\n",
       "    </tr>\n",
       "    </thead>\n",
       "    <tr class=\"\">\n",
       "        <td class=\"fillremaining\">2.1637625502762234</td>\n",
       "        <td class=\"number\">1</td>\n",
       "        <td class=\"number\">0.0%</td>\n",
       "        <td>\n",
       "            <div class=\"bar\" style=\"width:1%\">&nbsp;</div>\n",
       "        </td>\n",
       "</tr><tr class=\"\">\n",
       "        <td class=\"fillremaining\">-0.8288189478272892</td>\n",
       "        <td class=\"number\">1</td>\n",
       "        <td class=\"number\">0.0%</td>\n",
       "        <td>\n",
       "            <div class=\"bar\" style=\"width:1%\">&nbsp;</div>\n",
       "        </td>\n",
       "</tr><tr class=\"\">\n",
       "        <td class=\"fillremaining\">4.382418617884884</td>\n",
       "        <td class=\"number\">1</td>\n",
       "        <td class=\"number\">0.0%</td>\n",
       "        <td>\n",
       "            <div class=\"bar\" style=\"width:1%\">&nbsp;</div>\n",
       "        </td>\n",
       "</tr><tr class=\"\">\n",
       "        <td class=\"fillremaining\">7.2473062669152775</td>\n",
       "        <td class=\"number\">1</td>\n",
       "        <td class=\"number\">0.0%</td>\n",
       "        <td>\n",
       "            <div class=\"bar\" style=\"width:1%\">&nbsp;</div>\n",
       "        </td>\n",
       "</tr><tr class=\"\">\n",
       "        <td class=\"fillremaining\">3.8088026546463625</td>\n",
       "        <td class=\"number\">1</td>\n",
       "        <td class=\"number\">0.0%</td>\n",
       "        <td>\n",
       "            <div class=\"bar\" style=\"width:1%\">&nbsp;</div>\n",
       "        </td>\n",
       "</tr><tr class=\"\">\n",
       "        <td class=\"fillremaining\">1.0918139906237956</td>\n",
       "        <td class=\"number\">1</td>\n",
       "        <td class=\"number\">0.0%</td>\n",
       "        <td>\n",
       "            <div class=\"bar\" style=\"width:1%\">&nbsp;</div>\n",
       "        </td>\n",
       "</tr><tr class=\"\">\n",
       "        <td class=\"fillremaining\">-1.4095405491960165</td>\n",
       "        <td class=\"number\">1</td>\n",
       "        <td class=\"number\">0.0%</td>\n",
       "        <td>\n",
       "            <div class=\"bar\" style=\"width:1%\">&nbsp;</div>\n",
       "        </td>\n",
       "</tr><tr class=\"\">\n",
       "        <td class=\"fillremaining\">4.303264289099697</td>\n",
       "        <td class=\"number\">1</td>\n",
       "        <td class=\"number\">0.0%</td>\n",
       "        <td>\n",
       "            <div class=\"bar\" style=\"width:1%\">&nbsp;</div>\n",
       "        </td>\n",
       "</tr><tr class=\"\">\n",
       "        <td class=\"fillremaining\">3.897932184733485</td>\n",
       "        <td class=\"number\">1</td>\n",
       "        <td class=\"number\">0.0%</td>\n",
       "        <td>\n",
       "            <div class=\"bar\" style=\"width:1%\">&nbsp;</div>\n",
       "        </td>\n",
       "</tr><tr class=\"\">\n",
       "        <td class=\"fillremaining\">-0.00741793132122015</td>\n",
       "        <td class=\"number\">1</td>\n",
       "        <td class=\"number\">0.0%</td>\n",
       "        <td>\n",
       "            <div class=\"bar\" style=\"width:1%\">&nbsp;</div>\n",
       "        </td>\n",
       "</tr><tr class=\"other\">\n",
       "        <td class=\"fillremaining\">Other values (99990)</td>\n",
       "        <td class=\"number\">99990</td>\n",
       "        <td class=\"number\">100.0%</td>\n",
       "        <td>\n",
       "            <div class=\"bar\" style=\"width:100%\">&nbsp;</div>\n",
       "        </td>\n",
       "</tr>\n",
       "</table>\n",
       "        </div>\n",
       "        <div role=\"tabpanel\" class=\"tab-pane col-md-12\"  id=\"extreme-2219058519422468124\">\n",
       "            <p class=\"h4\">Minimum 5 values</p>\n",
       "            \n",
       "<table class=\"freq table table-hover\">\n",
       "    <thead>\n",
       "    <tr>\n",
       "        <td class=\"fillremaining\">Value</td>\n",
       "        <td class=\"number\">Count</td>\n",
       "        <td class=\"number\">Frequency (%)</td>\n",
       "        <td style=\"min-width:200px\">&nbsp;</td>\n",
       "    </tr>\n",
       "    </thead>\n",
       "    <tr class=\"\">\n",
       "        <td class=\"fillremaining\">-12.088328118063359</td>\n",
       "        <td class=\"number\">1</td>\n",
       "        <td class=\"number\">0.0%</td>\n",
       "        <td>\n",
       "            <div class=\"bar\" style=\"width:100%\">&nbsp;</div>\n",
       "        </td>\n",
       "</tr><tr class=\"\">\n",
       "        <td class=\"fillremaining\">-10.138341352347217</td>\n",
       "        <td class=\"number\">1</td>\n",
       "        <td class=\"number\">0.0%</td>\n",
       "        <td>\n",
       "            <div class=\"bar\" style=\"width:100%\">&nbsp;</div>\n",
       "        </td>\n",
       "</tr><tr class=\"\">\n",
       "        <td class=\"fillremaining\">-10.138171154155293</td>\n",
       "        <td class=\"number\">1</td>\n",
       "        <td class=\"number\">0.0%</td>\n",
       "        <td>\n",
       "            <div class=\"bar\" style=\"width:100%\">&nbsp;</div>\n",
       "        </td>\n",
       "</tr><tr class=\"\">\n",
       "        <td class=\"fillremaining\">-9.78777739806877</td>\n",
       "        <td class=\"number\">1</td>\n",
       "        <td class=\"number\">0.0%</td>\n",
       "        <td>\n",
       "            <div class=\"bar\" style=\"width:100%\">&nbsp;</div>\n",
       "        </td>\n",
       "</tr><tr class=\"\">\n",
       "        <td class=\"fillremaining\">-9.612865270661137</td>\n",
       "        <td class=\"number\">1</td>\n",
       "        <td class=\"number\">0.0%</td>\n",
       "        <td>\n",
       "            <div class=\"bar\" style=\"width:100%\">&nbsp;</div>\n",
       "        </td>\n",
       "</tr>\n",
       "</table>\n",
       "            <p class=\"h4\">Maximum 5 values</p>\n",
       "            \n",
       "<table class=\"freq table table-hover\">\n",
       "    <thead>\n",
       "    <tr>\n",
       "        <td class=\"fillremaining\">Value</td>\n",
       "        <td class=\"number\">Count</td>\n",
       "        <td class=\"number\">Frequency (%)</td>\n",
       "        <td style=\"min-width:200px\">&nbsp;</td>\n",
       "    </tr>\n",
       "    </thead>\n",
       "    <tr class=\"\">\n",
       "        <td class=\"fillremaining\">15.014250063436828</td>\n",
       "        <td class=\"number\">1</td>\n",
       "        <td class=\"number\">0.0%</td>\n",
       "        <td>\n",
       "            <div class=\"bar\" style=\"width:100%\">&nbsp;</div>\n",
       "        </td>\n",
       "</tr><tr class=\"\">\n",
       "        <td class=\"fillremaining\">15.202838385621678</td>\n",
       "        <td class=\"number\">1</td>\n",
       "        <td class=\"number\">0.0%</td>\n",
       "        <td>\n",
       "            <div class=\"bar\" style=\"width:100%\">&nbsp;</div>\n",
       "        </td>\n",
       "</tr><tr class=\"\">\n",
       "        <td class=\"fillremaining\">15.230321587067742</td>\n",
       "        <td class=\"number\">1</td>\n",
       "        <td class=\"number\">0.0%</td>\n",
       "        <td>\n",
       "            <div class=\"bar\" style=\"width:100%\">&nbsp;</div>\n",
       "        </td>\n",
       "</tr><tr class=\"\">\n",
       "        <td class=\"fillremaining\">15.428371873680215</td>\n",
       "        <td class=\"number\">1</td>\n",
       "        <td class=\"number\">0.0%</td>\n",
       "        <td>\n",
       "            <div class=\"bar\" style=\"width:100%\">&nbsp;</div>\n",
       "        </td>\n",
       "</tr><tr class=\"\">\n",
       "        <td class=\"fillremaining\">16.003790007695365</td>\n",
       "        <td class=\"number\">1</td>\n",
       "        <td class=\"number\">0.0%</td>\n",
       "        <td>\n",
       "            <div class=\"bar\" style=\"width:100%\">&nbsp;</div>\n",
       "        </td>\n",
       "</tr>\n",
       "</table>\n",
       "        </div>\n",
       "    </div>\n",
       "</div>\n",
       "</div><div class=\"row variablerow\">\n",
       "    <div class=\"col-md-3 namecol\">\n",
       "        <p class=\"h4 pp-anchor\" id=\"pp_var_product\">product<br/>\n",
       "            <small>Numeric</small>\n",
       "        </p>\n",
       "    </div><div class=\"col-md-6\">\n",
       "    <div class=\"row\">\n",
       "        <div class=\"col-sm-6\">\n",
       "            <table class=\"stats \">\n",
       "                <tr>\n",
       "                    <th>Distinct count</th>\n",
       "                    <td>100000</td>\n",
       "                </tr>\n",
       "                <tr>\n",
       "                    <th>Unique (%)</th>\n",
       "                    <td>100.0%</td>\n",
       "                </tr>\n",
       "                <tr class=\"ignore\">\n",
       "                    <th>Missing (%)</th>\n",
       "                    <td>0.0%</td>\n",
       "                </tr>\n",
       "                <tr class=\"ignore\">\n",
       "                    <th>Missing (n)</th>\n",
       "                    <td>0</td>\n",
       "                </tr>\n",
       "                <tr class=\"ignore\">\n",
       "                    <th>Infinite (%)</th>\n",
       "                    <td>0.0%</td>\n",
       "                </tr>\n",
       "                <tr class=\"ignore\">\n",
       "                    <th>Infinite (n)</th>\n",
       "                    <td>0</td>\n",
       "                </tr>\n",
       "            </table>\n",
       "\n",
       "        </div>\n",
       "        <div class=\"col-sm-6\">\n",
       "            <table class=\"stats \">\n",
       "\n",
       "                <tr>\n",
       "                    <th>Mean</th>\n",
       "                    <td>92.5</td>\n",
       "                </tr>\n",
       "                <tr>\n",
       "                    <th>Minimum</th>\n",
       "                    <td>0</td>\n",
       "                </tr>\n",
       "                <tr>\n",
       "                    <th>Maximum</th>\n",
       "                    <td>185.36</td>\n",
       "                </tr>\n",
       "                <tr class=\"ignore\">\n",
       "                    <th>Zeros (%)</th>\n",
       "                    <td>0.0%</td>\n",
       "                </tr>\n",
       "            </table>\n",
       "        </div>\n",
       "    </div>\n",
       "</div>\n",
       "<div class=\"col-md-3 collapse in\" id=\"minihistogram1169624309565850532\">\n",
       "    <img src=\"data:image/png;base64,iVBORw0KGgoAAAANSUhEUgAAAMgAAABLCAYAAAA1fMjoAAAAOXRFWHRTb2Z0d2FyZQBNYXRwbG90bGliIHZlcnNpb24zLjUuMywgaHR0cHM6Ly9tYXRwbG90bGliLm9yZy/NK7nSAAAACXBIWXMAAA9hAAAPYQGoP6dpAAAB00lEQVR4nO3bQa7SUBiG4b/Eacuc0F24CPfk2KH7cRHuAsIC2jhwIHWg3IneLxcT21KeZ0hDziE5Lz2ltJmmaaqZnc/n6vt%2B7mF5cKfTqY7H46xjvpt1tN/atq2qXx%2B467olpsADGYah%2Br5/WTdzWiSQpmmqqqrruk0H8v7jl7vf8/XTh/8wk224rZs5LRIIrxPVuuyWngCsmTPIHf7l253HJpANuDdcW7K3s8WCQCAQPO0W65mvJ/xS9nbOIBAIBAKBQCAQCAQCgUAgEAgEAoFgEzcKn/mm31ye9eaiMwgEAoFAIBAIBAKBQCAQCAQCgUAgEAgEAoFAIBAIBAKBQCAQCAQCgUAgEAgEq3ui0NOBrMnqAmE7tvCYri0WBAKBQCAQCAQCgUAgEAgEAoFAIBAIBAKBYJG/mkzTVFVVwzD8cezH929zT4cV%2BduauL12WzdzWiSQcRyrqqrv%2ByWGZ8X2n18/No5j7ff7%2BSZTVc20QJbX67Uul0u1bVtN08w9PA9mmqYax7EOh0PtdvNeFSwSCDwKF%2BkQCAQCgUAgEAgEAoFAIBAIBAKBQCAQCAQCgUAgEAgEAoFAIBAIBAKBQCAQCAQCgUAgEAgEAoFAIBAIBD8BZc9VGwPSEpAAAAAASUVORK5CYII%3D\">\n",
       "\n",
       "</div>\n",
       "<div class=\"col-md-12 text-right\">\n",
       "    <a role=\"button\" data-toggle=\"collapse\" data-target=\"#descriptives1169624309565850532,#minihistogram1169624309565850532\"\n",
       "       aria-expanded=\"false\" aria-controls=\"collapseExample\">\n",
       "        Toggle details\n",
       "    </a>\n",
       "</div>\n",
       "<div class=\"row collapse col-md-12\" id=\"descriptives1169624309565850532\">\n",
       "    <ul class=\"nav nav-tabs\" role=\"tablist\">\n",
       "        <li role=\"presentation\" class=\"active\"><a href=\"#quantiles1169624309565850532\"\n",
       "                                                  aria-controls=\"quantiles1169624309565850532\" role=\"tab\"\n",
       "                                                  data-toggle=\"tab\">Statistics</a></li>\n",
       "        <li role=\"presentation\"><a href=\"#histogram1169624309565850532\" aria-controls=\"histogram1169624309565850532\"\n",
       "                                   role=\"tab\" data-toggle=\"tab\">Histogram</a></li>\n",
       "        <li role=\"presentation\"><a href=\"#common1169624309565850532\" aria-controls=\"common1169624309565850532\"\n",
       "                                   role=\"tab\" data-toggle=\"tab\">Common Values</a></li>\n",
       "        <li role=\"presentation\"><a href=\"#extreme1169624309565850532\" aria-controls=\"extreme1169624309565850532\"\n",
       "                                   role=\"tab\" data-toggle=\"tab\">Extreme Values</a></li>\n",
       "\n",
       "    </ul>\n",
       "\n",
       "    <div class=\"tab-content\">\n",
       "        <div role=\"tabpanel\" class=\"tab-pane active row\" id=\"quantiles1169624309565850532\">\n",
       "            <div class=\"col-md-4 col-md-offset-1\">\n",
       "                <p class=\"h4\">Quantile statistics</p>\n",
       "                <table class=\"stats indent\">\n",
       "                    <tr>\n",
       "                        <th>Minimum</th>\n",
       "                        <td>0</td>\n",
       "                    </tr>\n",
       "                    <tr>\n",
       "                        <th>5-th percentile</th>\n",
       "                        <td>24.019</td>\n",
       "                    </tr>\n",
       "                    <tr>\n",
       "                        <th>Q1</th>\n",
       "                        <td>56.498</td>\n",
       "                    </tr>\n",
       "                    <tr>\n",
       "                        <th>Median</th>\n",
       "                        <td>91.85</td>\n",
       "                    </tr>\n",
       "                    <tr>\n",
       "                        <th>Q3</th>\n",
       "                        <td>128.56</td>\n",
       "                    </tr>\n",
       "                    <tr>\n",
       "                        <th>95-th percentile</th>\n",
       "                        <td>161.21</td>\n",
       "                    </tr>\n",
       "                    <tr>\n",
       "                        <th>Maximum</th>\n",
       "                        <td>185.36</td>\n",
       "                    </tr>\n",
       "                    <tr>\n",
       "                        <th>Range</th>\n",
       "                        <td>185.36</td>\n",
       "                    </tr>\n",
       "                    <tr>\n",
       "                        <th>Interquartile range</th>\n",
       "                        <td>72.067</td>\n",
       "                    </tr>\n",
       "                </table>\n",
       "            </div>\n",
       "            <div class=\"col-md-4 col-md-offset-2\">\n",
       "                <p class=\"h4\">Descriptive statistics</p>\n",
       "                <table class=\"stats indent\">\n",
       "                    <tr>\n",
       "                        <th>Standard deviation</th>\n",
       "                        <td>44.289</td>\n",
       "                    </tr>\n",
       "                    <tr>\n",
       "                        <th>Coef of variation</th>\n",
       "                        <td>0.4788</td>\n",
       "                    </tr>\n",
       "                    <tr>\n",
       "                        <th>Kurtosis</th>\n",
       "                        <td>-0.95151</td>\n",
       "                    </tr>\n",
       "                    <tr>\n",
       "                        <th>Mean</th>\n",
       "                        <td>92.5</td>\n",
       "                    </tr>\n",
       "                    <tr>\n",
       "                        <th>MAD</th>\n",
       "                        <td>37.709</td>\n",
       "                    </tr>\n",
       "                    <tr class=\"\">\n",
       "                        <th>Skewness</th>\n",
       "                        <td>0.0048162</td>\n",
       "                    </tr>\n",
       "                    <tr>\n",
       "                        <th>Sum</th>\n",
       "                        <td>9250000</td>\n",
       "                    </tr>\n",
       "                    <tr>\n",
       "                        <th>Variance</th>\n",
       "                        <td>1961.5</td>\n",
       "                    </tr>\n",
       "                    <tr>\n",
       "                        <th>Memory size</th>\n",
       "                        <td>781.4 KiB</td>\n",
       "                    </tr>\n",
       "                </table>\n",
       "            </div>\n",
       "        </div>\n",
       "        <div role=\"tabpanel\" class=\"tab-pane col-md-8 col-md-offset-2\" id=\"histogram1169624309565850532\">\n",
       "            <img src=\"data:image/png;base64,iVBORw0KGgoAAAANSUhEUgAAAlgAAAGQCAYAAAByNR6YAAAAOXRFWHRTb2Z0d2FyZQBNYXRwbG90bGliIHZlcnNpb24zLjUuMywgaHR0cHM6Ly9tYXRwbG90bGliLm9yZy/NK7nSAAAACXBIWXMAAA9hAAAPYQGoP6dpAAA2A0lEQVR4nO3de3RU1f3%2B8WdCyIVLEi4mYWqAVJG7KFBjKtAq%2BZIIWhHaCkShkILaRLl4QaoiXiOhgNBaUlsFXEJFVoEq1GgkQKrEAIHIRYlgKRfJJNaQGRIkBHJ%2Bf/jLWY5BQNnJZML7tdZZi9n7M2fvnZOseThz5ozDsixLAAAAMCbA1xMAAABoaghYAAAAhhGwAAAADCNgAQAAGEbAAgAAMIyABQAAYBgBCwAAwDACFgAAgGEELAAAAMMIWAAAAIYRsAAAAAwjYAEAABhGwAIAADCMgAUAAGAYAQsAAMAwAhYAAIBhBCwAAADDCFgAAACGEbAAAAAMI2ABAAAYRsACAAAwjIAFAABgGAELAADAMAIWAACAYQQsAAAAwwhYAAAAhhGwAAAADCNgAQAAGEbAAgAAMIyABQAAYBgBCwAAwDACFgAAgGEELAAAAMMIWAAAAIYRsAAAAAwjYAEAABhGwAIAADCs0Qas3Nxc3XrrrXI6nXI4HFqzZs131t5zzz1yOBx64YUXvNrLysqUnJyssLAwRUREKCUlRRUVFV41O3fu1MCBAxUSEqKYmBhlZGTU2f/KlSvVrVs3hYSEqHfv3vrXv/5lYokAAKCJCvT1BL5LZWWl%2BvTpowkTJmjEiBHfWbd69Wp9%2BOGHcjqddfqSk5NVXFys7OxsVVdXa/z48Zo0aZKWL18uSfJ4PBoyZIgSEhKUmZmpXbt2acKECYqIiNCkSZMkSZs3b9bo0aOVnp6uW265RcuXL9fw4cO1fft29erV64LWUlNTo6NHj6p169ZyOBw/4KcBAAC%2BL8uydPz4cTmdTgUENPA5JcsPSLJWr15dp/3IkSPWj370I2v37t1Wp06drPnz59t9H3/8sSXJ2rp1q9329ttvWw6Hw/r8888ty7KsP//5z1abNm2sqqoqu2b69OlW165d7ce//vWvrWHDhnmNGxcXZ919990XPP/Dhw9bktjY2NjY2Nh8sB0%2BfPiCX7NNabRnsM6npqZGd911lx566CH17NmzTn9eXp4iIiLUv39/uy0hIUEBAQHKz8/X7bffrry8PA0aNEhBQUF2TWJiombPnq1jx46pTZs2ysvL07Rp07z2nZiYeM63LL%2BtdevWkqTDhw8rLCzse64UAAD8EB6PRzExMfbrcEPy24A1e/ZsBQYG6v777z9rv8vlUmRkpFdbYGCg2rZtK5fLZdfExsZ61URFRdl9bdq0kcvlstu%2BWVO7j7OpqqpSVVWV/fj48eOSpLCwMAIWAAANzBeX5zTai9zPpaCgQAsWLNCSJUsa5TVN6enpCg8Pt7eYmBhfTwkAADQgvwxY//73v1VaWqqOHTsqMDBQgYGBOnjwoB544AF17txZkhQdHa3S0lKv550%2BfVplZWWKjo62a0pKSrxqah%2Bfr6a2/2xmzJght9ttb4cPH76o9QIAAP/ilwHrrrvu0s6dO1VYWGhvTqdTDz30kN555x1JUnx8vMrLy1VQUGA/LycnRzU1NYqLi7NrcnNzVV1dbddkZ2era9euatOmjV2zfv16r/Gzs7MVHx//nfMLDg623w7kbUEAAC49jfYarIqKCu3fv99%2BfODAARUWFqpt27bq2LGj2rVr51XfvHlzRUdHq2vXrpKk7t27KykpSRMnTlRmZqaqq6uVlpamUaNG2bd0GDNmjJ588kmlpKRo%2BvTp2r17txYsWKD58%2Bfb%2B508ebJ%2B9rOfae7cuRo2bJhef/11bdu2TS%2B99FID/BQAAIBfavDPLV6gDRs2nPWjluPGjTtr/bdv02BZlvXll19ao0ePtlq1amWFhYVZ48ePt44fP%2B5V89FHH1kDBgywgoODrR/96EfW888/X2ffb7zxhnXVVVdZQUFBVs%2BePa1169Z9r7W43W5LkuV2u7/X8wAAwA/ny9dfh2VZlg/z3SXB4/EoPDxcbrebtwsBAGggvnz99ctrsAAAABozAhYAAIBhBCwAAADDCFgAAACGEbAAAAAMI2ABAAAY1mhvNAqg6er/aJavp/C9bHs2yddTAOBnOIMFAABgGAELAADAMAIWAACAYQQsAAAAwwhYAAAAhvEpQgA4Dz71COD74gwWAACAYQQsAAAAwwhYAAAAhhGwAAAADCNgAQAAGEbAAgAAMIyABQAAYBgBCwAAwDACFgAAgGEELAAAAMMIWAAAAIYRsAAAAAwjYAEAABgW6OsJADCj/6NZvp4CAOD/4wwWAACAYQQsAAAAwwhYAAAAhnENFgA0Mf50Pd62Z5N8PQWgXnAGCwAAwDACFgAAgGEELAAAAMMIWAAAAIY12oCVm5urW2%2B9VU6nUw6HQ2vWrLH7qqurNX36dPXu3VstW7aU0%2BnU2LFjdfToUa99lJWVKTk5WWFhYYqIiFBKSooqKiq8anbu3KmBAwcqJCREMTExysjIqDOXlStXqlu3bgoJCVHv3r31r3/9q17WDAAAmoZGG7AqKyvVp08fvfjii3X6Tpw4oe3bt%2Bvxxx/X9u3btWrVKhUVFekXv/iFV11ycrL27Nmj7OxsrV27Vrm5uZo0aZLd7/F4NGTIEHXq1EkFBQWaM2eOZs2apZdeesmu2bx5s0aPHq2UlBTt2LFDw4cP1/Dhw7V79%2B76WzwAAPBrDsuyLF9P4nwcDodWr16t4cOHf2fN1q1bdd111%2BngwYPq2LGjPvnkE/Xo0UNbt25V//79JUlZWVkaOnSojhw5IqfTqUWLFunRRx%2BVy%2BVSUFCQJOmRRx7RmjVrtHfvXknSHXfcocrKSq1du9Ye6/rrr9c111yjzMzMC5q/x%2BNReHi43G63wsLCfuBPATg3f/poPlCL2zSgPvny9bfRnsH6vtxutxwOhyIiIiRJeXl5ioiIsMOVJCUkJCggIED5%2Bfl2zaBBg%2BxwJUmJiYkqKirSsWPH7JqEhASvsRITE5WXl/edc6mqqpLH4/HaAADApaNJBKyTJ09q%2BvTpGj16tJ1QXS6XIiMjveoCAwPVtm1buVwuuyYqKsqrpvbx%2BWpq%2B88mPT1d4eHh9hYTE3NxCwQAAH7F7wNWdXW1fv3rX8uyLC1atMjX05EkzZgxQ263294OHz7s6ykBAIAG5NdflVMbrg4ePKicnByv91ejo6NVWlrqVX/69GmVlZUpOjrarikpKfGqqX18vpra/rMJDg5WcHDwD18YAADwa357Bqs2XO3bt0/vvfee2rVr59UfHx%2Bv8vJyFRQU2G05OTmqqalRXFycXZObm6vq6mq7Jjs7W127dlWbNm3smvXr13vtOzs7W/Hx8fW1NAAA4OcabcCqqKhQYWGhCgsLJUkHDhxQYWGhDh06pOrqav3yl7/Utm3btGzZMp05c0Yul0sul0unTp2SJHXv3l1JSUmaOHGitmzZog8%2B%2BEBpaWkaNWqUnE6nJGnMmDEKCgpSSkqK9uzZoxUrVmjBggWaNm2aPY/JkycrKytLc%2BfO1d69ezVr1ixt27ZNaWlpDf4zAQAA/qHR3qZh48aNuvHGG%2Bu0jxs3TrNmzVJsbOxZn7dhwwb9/Oc/l/T1jUbT0tL01ltvKSAgQCNHjtTChQvVqlUru37nzp1KTU3V1q1b1b59e913332aPn261z5Xrlypxx57TP/973/VpUsXZWRkaOjQoRe8Fm7TgIbAbRrgj7hNA%2BqTL19/G23AakoIWGgIBCz4IwIW6hP3wQIAAGhCCFgAAACG%2BfVtGoD6xFtuAIAfijNYAAAAhnEGCwDgM/52ppiL8nGhOIMFAABgGAELAADAMAIWAACAYQQsAAAAwwhYAAAAhhGwAAAADCNgAQAAGEbAAgAAMIyABQAAYBgBCwAAwDACFgAAgGEELAAAAMMIWAAAAIYRsAAAAAwjYAEAABhGwAIAADCMgAUAAGAYAQsAAMAwAhYAAIBhBCwAAADDCFgAAACGEbAAAAAMI2ABAAAYRsACAAAwjIAFAABgGAELAADAMAIWAACAYQQsAAAAwwhYAAAAhjXagJWbm6tbb71VTqdTDodDa9as8eq3LEszZ85Uhw4dFBoaqoSEBO3bt8%2BrpqysTMnJyQoLC1NERIRSUlJUUVHhVbNz504NHDhQISEhiomJUUZGRp25rFy5Ut26dVNISIh69%2B6tf/3rX8bXCwAAmo5GG7AqKyvVp08fvfjii2ftz8jI0MKFC5WZman8/Hy1bNlSiYmJOnnypF2TnJysPXv2KDs7W2vXrlVubq4mTZpk93s8Hg0ZMkSdOnVSQUGB5syZo1mzZumll16yazZv3qzRo0crJSVFO3bs0PDhwzV8%2BHDt3r27/hYPAAD8msOyLMvXkzgfh8Oh1atXa/jw4ZK%2BPnvldDr1wAMP6MEHH5Qkud1uRUVFacmSJRo1apQ%2B%2BeQT9ejRQ1u3blX//v0lSVlZWRo6dKiOHDkip9OpRYsW6dFHH5XL5VJQUJAk6ZFHHtGaNWu0d%2B9eSdIdd9yhyspKrV271p7P9ddfr2uuuUaZmZkXNH%2BPx6Pw8HC53W6FhYWZ%2BrGgnvV/NMvXUwDQyGx7NsnXU8D34MvX30Z7ButcDhw4IJfLpYSEBLstPDxccXFxysvLkyTl5eUpIiLCDleSlJCQoICAAOXn59s1gwYNssOVJCUmJqqoqEjHjh2za745Tm1N7TgAAADfFujrCfwQLpdLkhQVFeXVHhUVZfe5XC5FRkZ69QcGBqpt27ZeNbGxsXX2UdvXpk0buVyuc45zNlVVVaqqqrIfezye77M8AADg5/zyDFZjl56ervDwcHuLiYnx9ZQAAEAD8suAFR0dLUkqKSnxai8pKbH7oqOjVVpa6tV/%2BvRplZWVedWcbR/fHOO7amr7z2bGjBlyu932dvjw4e%2B7RAAA4Mf8MmDFxsYqOjpa69evt9s8Ho/y8/MVHx8vSYqPj1d5ebkKCgrsmpycHNXU1CguLs6uyc3NVXV1tV2TnZ2trl27qk2bNnbNN8eprakd52yCg4MVFhbmtQEAgEtHow1YFRUVKiwsVGFhoaSvL2wvLCzUoUOH5HA4NGXKFD3zzDN68803tWvXLo0dO1ZOp9P%2BpGH37t2VlJSkiRMnasuWLfrggw%2BUlpamUaNGyel0SpLGjBmjoKAgpaSkaM%2BePVqxYoUWLFigadOm2fOYPHmysrKyNHfuXO3du1ezZs3Stm3blJaW1tA/EgAA4Cca7UXu27Zt04033mg/rg0948aN05IlS/Twww%2BrsrJSkyZNUnl5uQYMGKCsrCyFhITYz1m2bJnS0tI0ePBgBQQEaOTIkVq4cKHdHx4ernfffVepqanq16%2Bf2rdvr5kzZ3rdK%2BunP/2pli9frscee0y///3v1aVLF61Zs0a9evVqgJ8CAADwR35xHyx/x32w/BP3wQLwbdwHy79wHywAAIAmhIAFAABgGAELAADAMAIWAACAYQQsAAAAwwhYAAAAhhGwAAAADCNgAQAAGEbAAgAAMIyABQAAYBgBCwAAwDACFgAAgGEELAAAAMMIWAAAAIYRsAAAAAwL9PUEcOno/2iWr6cAAECDIGABAHCB/O0/itueTfL1FC5ZvEUIAABgGAELAADAMAIWAACAYQQsAAAAwwhYAAAAhhGwAAAADCNgAQAAGEbAAgAAMIyABQAAYBgBCwAAwDDjAes///mP6V0CAAD4FeMB68orr9SNN96o1157TSdPnjS9ewAAgEbPeMDavn27rr76ak2bNk3R0dG6%2B%2B67tWXLFtPDAAAANFrGA9Y111yjBQsW6OjRo3rllVdUXFysAQMGqFevXpo3b56%2B%2BOIL00MCAAA0KvV2kXtgYKBGjBihlStXavbs2dq/f78efPBBxcTEaOzYsSouLq6voQEAAHyq3gLWtm3b9Lvf/U4dOnTQvHnz9OCDD%2Bqzzz5Tdna2jh49qttuu62%2BhgYAAPCpQNM7nDdvnhYvXqyioiINHTpUr776qoYOHaqAgK%2BzXGxsrJYsWaLOnTubHhoAAKBRMH4Ga9GiRRozZowOHjyoNWvW6JZbbrHDVa3IyEi9/PLLFzXOmTNn9Pjjjys2NlahoaG64oor9PTTT8uyLLvGsizNnDlTHTp0UGhoqBISErRv3z6v/ZSVlSk5OVlhYWGKiIhQSkqKKioqvGp27typgQMHKiQkRDExMcrIyLiouQMAgKbN%2BBmsbweYswkKCtK4ceMuapzZs2dr0aJFWrp0qXr27Klt27Zp/PjxCg8P1/333y9JysjI0MKFC7V06VLFxsbq8ccfV2Jioj7%2B%2BGOFhIRIkpKTk1VcXKzs7GxVV1dr/PjxmjRpkpYvXy5J8ng8GjJkiBISEpSZmaldu3ZpwoQJioiI0KRJky5qDQAAoGlyWN885WPA4sWL1apVK/3qV7/yal%2B5cqVOnDhx0cGq1i233KKoqCivM2EjR45UaGioXnvtNVmWJafTqQceeEAPPvigJMntdisqKkpLlizRqFGj9Mknn6hHjx7aunWr%2BvfvL0nKysrS0KFDdeTIETmdTi1atEiPPvqoXC6XgoKCJEmPPPKI1qxZo717917QXD0ej8LDw%2BV2uxUWFmZk/f6o/6NZvp4CAFxStj2b5Osp%2BJQvX3%2BNv0WYnp6u9u3b12mPjIzUc889Z2ycn/70p1q/fr0%2B/fRTSdJHH32k999/XzfffLMk6cCBA3K5XEpISLCfEx4erri4OOXl5UmS8vLyFBERYYcrSUpISFBAQIDy8/PtmkGDBtnhSpISExNVVFSkY8eOGVsPAABoOoy/RXjo0CHFxsbWae/UqZMOHTpkbJxHHnlEHo9H3bp1U7NmzXTmzBk9%2B%2ByzSk5OliS5XC5JUlRUlNfzoqKi7D6Xy6XIyEiv/sDAQLVt29ar5tvrqd2ny%2BVSmzZt6sytqqpKVVVV9mOPx3MxSwUAAH7G%2BBmsyMhI7dy5s077Rx99pHbt2hkb54033tCyZcu0fPlybd%2B%2BXUuXLtUf/vAHLV261NgYP1R6errCw8PtLSYmxtdTAgAADch4wBo9erTuv/9%2BbdiwQWfOnNGZM2eUk5OjyZMna9SoUcbGeeihh/TII49o1KhR6t27t%2B666y5NnTpV6enpkqTo6GhJUklJidfzSkpK7L7o6GiVlpZ69Z8%2BfVplZWVeNWfbxzfH%2BLYZM2bI7Xbb2%2BHDhy9ytQAAwJ8YD1hPP/204uLiNHjwYIWGhio0NFRDhgzRTTfdZPQarBMnTtS5/UOzZs1UU1Mj6ev7bUVHR2v9%2BvV2v8fjUX5%2BvuLj4yVJ8fHxKi8vV0FBgV2Tk5OjmpoaxcXF2TW5ubmqrq62a7Kzs9W1a9ezvj0oScHBwQoLC/PaAADApcP4NVhBQUFasWKFnn76aX300UcKDQ1V79691alTJ6Pj3HrrrXr22WfVsWNH9ezZUzt27NC8efM0YcIESZLD4dCUKVP0zDPPqEuXLvZtGpxOp4YPHy5J6t69u5KSkjRx4kRlZmaqurpaaWlpGjVqlJxOpyRpzJgxevLJJ5WSkqLp06dr9%2B7dWrBggebPn290PQAAoOkwHrBqXXXVVbrqqqvqa/f64x//qMcff1y/%2B93vVFpaKqfTqbvvvlszZ860ax5%2B%2BGFVVlZq0qRJKi8v14ABA5SVlWXfA0uSli1bprS0NA0ePFgBAQEaOXKkFi5caPeHh4fr3XffVWpqqvr166f27dtr5syZ3AMLAAB8J%2BP3wTpz5oyWLFmi9evXq7S01H7LrlZOTo7J4fwC98H6GvfBAoCGxX2wfPf6a/wM1uTJk7VkyRINGzZMvXr1ksPhMD0EAABAo2Y8YL3%2B%2But64403NHToUNO7BgAA8AvGP0UYFBSkK6%2B80vRuAQAA/IbxgPXAAw9owYIFMnxpFwAAgN8w/hbh%2B%2B%2B/rw0bNujtt99Wz5491bx5c6/%2BVatWmR4SAACgUTEesCIiInT77beb3i0AAIDfMB6wFi9ebHqXAAAAfsX4NVjS19/n99577%2Bkvf/mLjh8/Lkk6evSoKioq6mM4AACARsX4GayDBw8qKSlJhw4dUlVVlf7v//5PrVu31uzZs1VVVaXMzEzTQwIAADQqxs9gTZ48Wf3799exY8cUGhpqt99%2B%2B%2B1eX7wMAADQVBk/g/Xvf/9bmzdvVlBQkFd7586d9fnnn5seDgAAoNExfgarpqZGZ86cqdN%2B5MgRtW7d2vRwAAAAjY7xgDVkyBC98MIL9mOHw6GKigo98cQTfH0OAAC4JBh/i3Du3LlKTExUjx49dPLkSY0ZM0b79u1T%2B/bt9fe//930cAAAAI2O8YB1%2BeWX66OPPtLrr7%2BunTt3qqKiQikpKUpOTva66B0AAKCpMh6wJCkwMFB33nlnfewaAACg0TMesF599dVz9o8dO9b0kAAAAI2K8YA1efJkr8fV1dU6ceKEgoKC1KJFCwIWAABo8ox/ivDYsWNeW0VFhYqKijRgwAAucgcAAJeEevkuwm/r0qWLnn/%2B%2BTpntwAAAJqiBglY0tcXvh89erShhgMAAPAZ49dgvfnmm16PLctScXGx/vSnP%2BmGG24wPRwAAECjYzxgDR8%2B3Ouxw%2BHQZZddpptuuklz5841PRwAAECjYzxg1dTUmN4lAACAX2mwa7AAAAAuFcbPYE2bNu2Ca%2BfNm2d6eAAAAJ8zHrB27NihHTt2qLq6Wl27dpUkffrpp2rWrJn69u1r1zkcDtNDAwAANArGA9att96q1q1ba%2BnSpWrTpo2kr28%2BOn78eA0cOFAPPPCA6SEBAAAaFePXYM2dO1fp6el2uJKkNm3a6JlnnuFThAAA4JJgPGB5PB598cUXddq/%2BOILHT9%2B3PRwAAAAjY7xgHX77bdr/PjxWrVqlY4cOaIjR47oH//4h1JSUjRixAjTwwEAADQ6xq/ByszM1IMPPqgxY8aourr660ECA5WSkqI5c%2BaYHg4AAKDRMR6wWrRooT//%2Bc%2BaM2eOPvvsM0nSFVdcoZYtW5oeCgAAoFGqtxuNFhcXq7i4WF26dFHLli1lWVZ9DQUAANCoGA9YX375pQYPHqyrrrpKQ4cOVXFxsSQpJSWFWzQAAIBLgvGANXXqVDVv3lyHDh1SixYt7PY77rhDWVlZRsf6/PPPdeedd6pdu3YKDQ1V7969tW3bNrvfsizNnDlTHTp0UGhoqBISErRv3z6vfZSVlSk5OVlhYWGKiIhQSkqKKioqvGp27typgQMHKiQkRDExMcrIyDC6DgAA0LQYD1jvvvuuZs%2Bercsvv9yrvUuXLjp48KCxcY4dO6YbbrhBzZs319tvv62PP/5Yc%2BfO9br/VkZGhhYuXKjMzEzl5%2BerZcuWSkxM1MmTJ%2B2a5ORk7dmzR9nZ2Vq7dq1yc3M1adIku9/j8WjIkCHq1KmTCgoKNGfOHM2aNUsvvfSSsbUAAICmxfhF7pWVlV5nrmqVlZUpODjY2DizZ89WTEyMFi9ebLfFxsba/7YsSy%2B88IIee%2Bwx3XbbbZKkV199VVFRUVqzZo1GjRqlTz75RFlZWdq6dav69%2B8vSfrjH/%2BooUOH6g9/%2BIOcTqeWLVumU6dO6ZVXXlFQUJB69uypwsJCzZs3zyuIAQAA1DJ%2BBmvgwIF69dVX7ccOh0M1NTXKyMjQjTfeaGycN998U/3799evfvUrRUZG6tprr9Vf//pXu//AgQNyuVxKSEiw28LDwxUXF6e8vDxJUl5eniIiIuxwJUkJCQkKCAhQfn6%2BXTNo0CAFBQXZNYmJiSoqKtKxY8fOOreqqip5PB6vDQAAXDqMB6yMjAy99NJLuvnmm3Xq1Ck9/PDD6tWrl3JzczV79mxj4/znP//RokWL1KVLF73zzju69957df/992vp0qWSJJfLJUmKioryel5UVJTd53K5FBkZ6dUfGBiotm3betWcbR/fHOPb0tPTFR4ebm8xMTEXuVoAAOBPjAesXr166dNPP9WAAQN02223qbKyUiNGjNCOHTt0xRVXGBunpqZGffv21XPPPadrr71WkyZN0sSJE5WZmWlsjB9qxowZcrvd9nb48GFfTwkAADQgo9dgVVdXKykpSZmZmXr00UdN7rqODh06qEePHl5t3bt31z/%2B8Q9JUnR0tCSppKREHTp0sGtKSkp0zTXX2DWlpaVe%2Bzh9%2BrTKysrs50dHR6ukpMSrpvZxbc23BQcHG73eDAAA%2BBejZ7CaN2%2BunTt3mtzld7rhhhtUVFTk1fbpp5%2BqU6dOkr6%2B4D06Olrr16%2B3%2Bz0ej/Lz8xUfHy9Jio%2BPV3l5uQoKCuyanJwc1dTUKC4uzq7Jzc21v/ZHkrKzs9W1a1evTywCAADUMv4W4Z133qmXX37Z9G7rmDp1qj788EM999xz2r9/v5YvX66XXnpJqampkr6%2BuH7KlCl65pln9Oabb2rXrl0aO3asnE6nhg8fLunrM15JSUmaOHGitmzZog8%2B%2BEBpaWkaNWqUnE6nJGnMmDEKCgpSSkqK9uzZoxUrVmjBggWaNm1ava8RAAD4J%2BO3aTh9%2BrReeeUVvffee%2BrXr1%2Bd7yCcN2%2BekXF%2B8pOfaPXq1ZoxY4aeeuopxcbG6oUXXlBycrJd8/DDD6uyslKTJk1SeXm5BgwYoKysLIWEhNg1y5YtU1pamgYPHqyAgACNHDlSCxcutPvDw8P17rvvKjU1Vf369VP79u01c%2BZMbtEAAAC%2Bk8My9CWB//nPf9S5c2cNHjz4uwdzOJSTk2NiOL/i8XgUHh4ut9utsLAwX0/HZ/o/avZO/gCAc9v2bJKvp%2BBTvnz9NXYGq0uXLiouLtaGDRskff3VOAsXLqxziwMAAICmztg1WN8%2BEfb222%2BrsrLS1O4BAAD8hvGL3GsZeucRAADA7xgLWA6HQw6Ho04bAADApcbYNViWZek3v/mNfYPNkydP6p577qnzKcJVq1aZGhIAAKBRMhawxo0b5/X4zjvvNLVrAAAAv2IsYC1evNjUrgAAAPxavV3kDgAAcKkiYAEAABhGwAIAADCMgAUAAGAYAQsAAMAwAhYAAIBhBCwAAADDCFgAAACGEbAAAAAMI2ABAAAYRsACAAAwjIAFAABgGAELAADAMAIWAACAYQQsAAAAwwhYAAAAhhGwAAAADCNgAQAAGEbAAgAAMIyABQAAYBgBCwAAwDACFgAAgGEELAAAAMMIWAAAAIYRsAAAAAwjYAEAABhGwAIAADCsyQSs559/Xg6HQ1OmTLHbTp48qdTUVLVr106tWrXSyJEjVVJS4vW8Q4cOadiwYWrRooUiIyP10EMP6fTp0141GzduVN%2B%2BfRUcHKwrr7xSS5YsaYAVAQAAf9UkAtbWrVv1l7/8RVdffbVX%2B9SpU/XWW29p5cqV2rRpk44ePaoRI0bY/WfOnNGwYcN06tQpbd68WUuXLtWSJUs0c%2BZMu%2BbAgQMaNmyYbrzxRhUWFmrKlCn67W9/q3feeafB1gcAAPyL3wesiooKJScn669//avatGljt7vdbr388suaN2%2BebrrpJvXr10%2BLFy/W5s2b9eGHH0qS3n33XX388cd67bXXdM011%2Bjmm2/W008/rRdffFGnTp2SJGVmZio2NlZz585V9%2B7dlZaWpl/%2B8peaP3%2B%2BT9YLAAAaP78PWKmpqRo2bJgSEhK82gsKClRdXe3V3q1bN3Xs2FF5eXmSpLy8PPXu3VtRUVF2TWJiojwej/bs2WPXfHvfiYmJ9j7OpqqqSh6Px2sDAACXjkBfT%2BBivP7669q%2Bfbu2bt1ap8/lcikoKEgRERFe7VFRUXK5XHbNN8NVbX9t37lqPB6PvvrqK4WGhtYZOz09XU8%2B%2BeQPXhcAAPBvfnsG6/Dhw5o8ebKWLVumkJAQX0/Hy4wZM%2BR2u%2B3t8OHDvp4SAABoQH4bsAoKClRaWqq%2BffsqMDBQgYGB2rRpkxYuXKjAwEBFRUXp1KlTKi8v93peSUmJoqOjJUnR0dF1PlVY%2B/h8NWFhYWc9eyVJwcHBCgsL89oAAMClw28D1uDBg7Vr1y4VFhbaW//%2B/ZWcnGz/u3nz5lq/fr39nKKiIh06dEjx8fGSpPj4eO3atUulpaV2TXZ2tsLCwtSjRw%2B75pv7qK2p3QcAAMC3%2Be01WK1bt1avXr282lq2bKl27drZ7SkpKZo2bZratm2rsLAw3XfffYqPj9f1118vSRoyZIh69Oihu%2B66SxkZGXK5XHrssceUmpqq4OBgSdI999yjP/3pT3r44Yc1YcIE5eTk6I033tC6desadsEAAMBv%2BG3AuhDz589XQECARo4cqaqqKiUmJurPf/6z3d%2BsWTOtXbtW9957r%2BLj49WyZUuNGzdOTz31lF0TGxurdevWaerUqVqwYIEuv/xy/e1vf1NiYqIvlgQAAPyAw7Isy9eTaOo8Ho/Cw8Pldrsv6eux%2Bj%2Ba5espAMAlZduzSb6egk/58vXXb6/BAgAAaKwIWAAAAIY16WuwLgW87QYAQOPDGSwAAADDOIMFAEAT5U/vcjS1C/I5gwUAAGAYAQsAAMAwAhYAAIBhBCwAAADDCFgAAACGEbAAAAAMI2ABAAAYRsACAAAwjIAFAABgGAELAADAMAIWAACAYQQsAAAAwwhYAAAAhhGwAAAADCNgAQAAGEbAAgAAMIyABQAAYBgBCwAAwDACFgAAgGEELAAAAMMIWAAAAIYRsAAAAAwjYAEAABhGwAIAADCMgAUAAGAYAQsAAMAwAhYAAIBhBCwAAADDCFgAAACG%2BW3ASk9P109%2B8hO1bt1akZGRGj58uIqKirxqTp48qdTUVLVr106tWrXSyJEjVVJS4lVz6NAhDRs2TC1atFBkZKQeeughnT592qtm48aN6tu3r4KDg3XllVdqyZIl9b08AADgx/w2YG3atEmpqan68MMPlZ2drerqag0ZMkSVlZV2zdSpU/XWW29p5cqV2rRpk44ePaoRI0bY/WfOnNGwYcN06tQpbd68WUuXLtWSJUs0c%2BZMu%2BbAgQMaNmyYbrzxRhUWFmrKlCn67W9/q3feeadB1wsAAPyHw7Isy9eTMOGLL75QZGSkNm3apEGDBsntduuyyy7T8uXL9ctf/lKStHfvXnXv3l15eXm6/vrr9fbbb%2BuWW27R0aNHFRUVJUnKzMzU9OnT9cUXXygoKEjTp0/XunXrtHv3bnusUaNGqby8XFlZWRc0N4/Ho/DwcLndboWFhRldd/9HL2wOAAA0ZtueTTK%2Bz/p8/T0fvz2D9W1ut1uS1LZtW0lSQUGBqqurlZCQYNd069ZNHTt2VF5eniQpLy9PvXv3tsOVJCUmJsrj8WjPnj12zTf3UVtTuw8AAIBvC/T1BEyoqanRlClTdMMNN6hXr16SJJfLpaCgIEVERHjVRkVFyeVy2TXfDFe1/bV956rxeDz66quvFBoaWmc%2BVVVVqqqqsh97PJ6LWyAAAPArTeIMVmpqqnbv3q3XX3/d11OR9PUF%2BOHh4fYWExPj6ykBAIAG5PcBKy0tTWvXrtWGDRt0%2BeWX2%2B3R0dE6deqUysvLvepLSkoUHR1t13z7U4W1j89XExYWdtazV5I0Y8YMud1uezt8%2BPBFrREAAPgXvw1YlmUpLS1Nq1evVk5OjmJjY736%2B/Xrp%2BbNm2v9%2BvV2W1FRkQ4dOqT4%2BHhJUnx8vHbt2qXS0lK7Jjs7W2FhYerRo4dd88191NbU7uNsgoODFRYW5rUBAIBLh99eg5Wamqrly5frn//8p1q3bm1fMxUeHq7Q0FCFh4crJSVF06ZNU9u2bRUWFqb77rtP8fHxuv766yVJQ4YMUY8ePXTXXXcpIyNDLpdLjz32mFJTUxUcHCxJuueee/SnP/1JDz/8sCZMmKCcnBy98cYbWrdunc/WDgAAGje/PYO1aNEiud1u/fznP1eHDh3sbcWKFXbN/Pnzdcstt2jkyJEaNGiQoqOjtWrVKru/WbNmWrt2rZo1a6b4%2BHjdeeedGjt2rJ566im7JjY2VuvWrVN2drb69OmjuXPn6m9/%2B5sSExMbdL0AAMB/NJn7YDVm3AcLAIBz4z5YAAAAOCcCFgAAgGEELAAAAMMIWAAAAIYRsAAAAAwjYAEAABhGwAIAADCMgAUAAGAYAQsAAMAwAhYAAIBhBCwAAADDCFgAAACGEbAAAAAMI2ABAAAYRsACAAAwjIAFAABgGAELAADAMAIWAACAYQQsAAAAwwhYAAAAhhGwAAAADCNgAQAAGEbAAgAAMIyABQAAYBgBCwAAwDACFgAAgGEELAAAAMMIWAAAAIYRsAAAAAwjYAEAABhGwAIAADCMgAUAAGAYAQsAAMAwAhYAAIBhBCwAAADDCFgX6MUXX1Tnzp0VEhKiuLg4bdmyxddTAgAAjRQB6wKsWLFC06ZN0xNPPKHt27erT58%2BSkxMVGlpqa%2BnBgAAGiEC1gWYN2%2BeJk6cqPHjx6tHjx7KzMxUixYt9Morr/h6agAAoBEK9PUEGrtTp06poKBAM2bMsNsCAgKUkJCgvLy8sz6nqqpKVVVV9mO32y1J8ng8xud3pqrS%2BD4BAGho9fEaWbtPy7KM7/t8CFjn8b///U9nzpxRVFSUV3tUVJT27t171uekp6frySefrNMeExNTL3MEAMDfhc%2Btv30fP35c4eHh9TfAWRCw6sGMGTM0bdo0%2B3FNTY3KysrUrl07ORwOY%2BN4PB7FxMTo8OHDCgsLM7bfxoi1Nj2Xyjol1tpUsdbGz7IsHT9%2BXE6ns8HHJmCdR/v27dWsWTOVlJR4tZeUlCg6OvqszwkODlZwcLBXW0RERH1NUWFhYX71C38xWGvTc6msU2KtTRVrbdwa%2BsxVLS5yP4%2BgoCD169dP69evt9tqamq0fv16xcfH%2B3BmAACgseIM1gWYNm2axo0bp/79%2B%2Bu6667TCy%2B8oMrKSo0fP97XUwMAAI0QAesC3HHHHfriiy80c%2BZMuVwuXXPNNcrKyqpz4XtDCw4O1hNPPFHn7cimiLU2PZfKOiXW2lSxVpyLw/LFZxcBAACaMK7BAgAAMIyABQAAYBgBCwAAwDACFgAAgGEELD/14osvqnPnzgoJCVFcXJy2bNni6yldtPT0dP3kJz9R69atFRkZqeHDh6uoqMir5uc//7kcDofXds899/hoxj/crFmz6qyjW7dudv/JkyeVmpqqdu3aqVWrVho5cmSdm936i86dO9dZq8PhUGpqqiT/Pqa5ubm69dZb5XQ65XA4tGbNGq9%2By7I0c%2BZMdejQQaGhoUpISNC%2Bffu8asrKypScnKywsDBFREQoJSVFFRUVDbiK8zvXOqurqzV9%2BnT17t1bLVu2lNPp1NixY3X06FGvfZzt9%2BD5559v4JWc3/mO6W9%2B85s660hKSvKq8YdjKp1/rWf7u3U4HJozZ45d4y/H1RcIWH5oxYoVmjZtmp544glt375dffr0UWJiokpLS309tYuyadMmpaam6sMPP1R2draqq6s1ZMgQVVZ6f6H1xIkTVVxcbG8ZGRk%2BmvHF6dmzp9c63n//fbtv6tSpeuutt7Ry5Upt2rRJR48e1YgRI3w42x9u69atXuvMzs6WJP3qV7%2Bya/z1mFZWVqpPnz568cUXz9qfkZGhhQsXKjMzU/n5%2BWrZsqUSExN18uRJuyY5OVl79uxRdna21q5dq9zcXE2aNKmhlnBBzrXOEydOaPv27Xr88ce1fft2rVq1SkVFRfrFL35Rp/app57yOs733XdfQ0z/eznfMZWkpKQkr3X8/e9/9%2Br3h2MqnX%2Bt31xjcXGxXnnlFTkcDo0cOdKrzh%2BOq09Y8DvXXXedlZqaaj8%2Bc%2BaM5XQ6rfT0dB/OyrzS0lJLkrVp0ya77Wc/%2B5k1efJk303KkCeeeMLq06fPWfvKy8ut5s2bWytXrrTbPvnkE0uSlZeX10AzrD%2BTJ0%2B2rrjiCqumpsayrKZzTCVZq1evth/X1NRY0dHR1pw5c%2By28vJyKzg42Pr73/9uWZZlffzxx5Yka%2BvWrXbN22%2B/bTkcDuvzzz9vsLl/H99e59ls2bLFkmQdPHjQbuvUqZM1f/78%2Bp2cYWdb67hx46zbbrvtO5/jj8fUsi7suN52223WTTfd5NXmj8e1oXAGy8%2BcOnVKBQUFSkhIsNsCAgKUkJCgvLw8H87MPLfbLUlq27atV/uyZcvUvn179erVSzNmzNCJEyd8Mb2Ltm/fPjmdTv34xz9WcnKyDh06JEkqKChQdXW11zHu1q2bOnbs6PfH%2BNSpU3rttdc0YcIEry8%2BbyrH9JsOHDggl8vldRzDw8MVFxdnH8e8vDxFRESof//%2Bdk1CQoICAgKUn5/f4HM2xe12y%2BFw1PkO1ueff17t2rXTtddeqzlz5uj06dO%2BmeBF2rhxoyIjI9W1a1fde%2B%2B9%2BvLLL%2B2%2BpnpMS0pKtG7dOqWkpNTpayrH1TTu5O5n/ve//%2BnMmTN17iIfFRWlvXv3%2BmhW5tXU1GjKlCm64YYb1KtXL7t9zJgx6tSpk5xOp3bu3Knp06erqKhIq1at8uFsv7%2B4uDgtWbJEXbt2VXFxsZ588kkNHDhQu3fvlsvlUlBQUJ0Xp6ioKLlcLt9M2JA1a9aovLxcv/nNb%2By2pnJMv632WJ3tb7W2z%2BVyKTIy0qs/MDBQbdu29dtjffLkSU2fPl2jR4/2%2BlLg%2B%2B%2B/X3379lXbtm21efNmzZgxQ8XFxZo3b54PZ/v9JSUlacSIEYqNjdVnn32m3//%2B97r55puVl5enZs2aNcljKklLly5V69at61yq0FSOa30gYKFRSk1N1e7du72uS5LkdR1D79691aFDBw0ePFifffaZrrjiioae5g9288032/%2B%2B%2BuqrFRcXp06dOumNN95QaGioD2dWv15%2B%2BWXdfPPNcjqddltTOab4%2BoL3X//617IsS4sWLfLqmzZtmv3vq6%2B%2BWkFBQbr77ruVnp7uV1%2B/MmrUKPvfvXv31tVXX60rrrhCGzdu1ODBg304s/r1yiuvKDk5WSEhIV7tTeW41gfeIvQz7du3V7Nmzep8oqykpETR0dE%2BmpVZaWlpWrt2rTZs2KDLL7/8nLVxcXGSpP379zfE1OpNRESErrrqKu3fv1/R0dE6deqUysvLvWr8/RgfPHhQ7733nn7729%2Bes66pHNPaY3Wuv9Xo6Og6H045ffq0ysrK/O5Y14argwcPKjs72%2Bvs1dnExcXp9OnT%2Bu9//9swE6wnP/7xj9W%2BfXv797UpHdNa//73v1VUVHTev12p6RxXEwhYfiYoKEj9%2BvXT%2BvXr7baamhqtX79e8fHxPpzZxbMsS2lpaVq9erVycnIUGxt73ucUFhZKkjp06FDPs6tfFRUV%2Buyzz9ShQwf169dPzZs39zrGRUVFOnTokF8f48WLFysyMlLDhg07Z11TOaaxsbGKjo72Oo4ej0f5%2Bfn2cYyPj1d5ebkKCgrsmpycHNXU1NhB0x/Uhqt9%2B/bpvffeU7t27c77nMLCQgUEBNR5O83fHDlyRF9%2B%2BaX9%2B9pUjuk3vfzyy%2BrXr5/69Olz3tqmclyN8PVV9vj%2BXn/9dSs4ONhasmSJ9fHHH1uTJk2yIiIiLJfL5eupXZR7773XCg8PtzZu3GgVFxfb24kTJyzLsqz9%2B/dbTz31lLVt2zbrwIED1j//%2BU/rxz/%2BsTVo0CAfz/z7e%2BCBB6yNGzdaBw4csD744AMrISHBat%2B%2BvVVaWmpZlmXdc889VseOHa2cnBxr27ZtVnx8vBUfH%2B/jWf9wZ86csTp27GhNnz7dq93fj%2Bnx48etHTt2WDt27LAkWfPmzbN27Nhhf3ru%2BeeftyIiIqx//vOf1s6dO63bbrvNio2Ntb766it7H0lJSda1115r5efnW%2B%2B//77VpUsXa/To0b5a0lmda52nTp2yfvGLX1iXX365VVhY6PW3W1VVZVmWZW3evNmaP3%2B%2BVVhYaH322WfWa6%2B9Zl122WXW2LFjfbyyus611uPHj1sPPviglZeXZx04cMB67733rL59%2B1pdunSxTp48ae/DH46pZZ3/99eyLMvtdlstWrSwFi1aVOf5/nRcfYGA5af%2B%2BMc/Wh07drSCgoKs6667zvrwww99PaWLJums2%2BLFiy3LsqxDhw5ZgwYNstq2bWsFBwdbV155pfXQQw9ZbrfbtxP/Ae644w6rQ4cOVlBQkPWjH/3IuuOOO6z9%2B/fb/V999ZX1u9/9zmrTpo3VokUL6/bbb7eKi4t9OOOL884771iSrKKiIq92fz%2BmGzZsOOvv7Lhx4yzL%2BvpWDY8//rgVFRVlBQcHW4MHD67zM/jyyy%2Bt0aNHW61atbLCwsKs8ePHW8ePH/fBar7budZ54MCB7/zb3bBhg2VZllVQUGDFxcVZ4eHhVkhIiNW9e3frueee8woljcW51nrixAlryJAh1mWXXWY1b97c6tSpkzVx4sQ6/7n1h2NqWef//bUsy/rLX/5ihYaGWuXl5XWe70/H1RcclmVZ9XqKDAAA4BLDNVgAAACGEbAAAAAMI2ABAAAYRsACAAAwjIAFAABgGAELAADAMAIWAACAYQQsAAAAwwhYAAAAhhGwAAAADCNgAQAAGEbAAgAAMIyABQAAYBgBCwAAwDACFgAAgGEELAAAAMMIWAAAAIYRsAAAAAz7f/WE8gZtmFpjAAAAAElFTkSuQmCC\"/>\n",
       "        </div>\n",
       "        <div role=\"tabpanel\" class=\"tab-pane col-md-12\" id=\"common1169624309565850532\">\n",
       "            \n",
       "<table class=\"freq table table-hover\">\n",
       "    <thead>\n",
       "    <tr>\n",
       "        <td class=\"fillremaining\">Value</td>\n",
       "        <td class=\"number\">Count</td>\n",
       "        <td class=\"number\">Frequency (%)</td>\n",
       "        <td style=\"min-width:200px\">&nbsp;</td>\n",
       "    </tr>\n",
       "    </thead>\n",
       "    <tr class=\"\">\n",
       "        <td class=\"fillremaining\">133.48453167511795</td>\n",
       "        <td class=\"number\">1</td>\n",
       "        <td class=\"number\">0.0%</td>\n",
       "        <td>\n",
       "            <div class=\"bar\" style=\"width:1%\">&nbsp;</div>\n",
       "        </td>\n",
       "</tr><tr class=\"\">\n",
       "        <td class=\"fillremaining\">62.16802116911278</td>\n",
       "        <td class=\"number\">1</td>\n",
       "        <td class=\"number\">0.0%</td>\n",
       "        <td>\n",
       "            <div class=\"bar\" style=\"width:1%\">&nbsp;</div>\n",
       "        </td>\n",
       "</tr><tr class=\"\">\n",
       "        <td class=\"fillremaining\">132.87655820689275</td>\n",
       "        <td class=\"number\">1</td>\n",
       "        <td class=\"number\">0.0%</td>\n",
       "        <td>\n",
       "            <div class=\"bar\" style=\"width:1%\">&nbsp;</div>\n",
       "        </td>\n",
       "</tr><tr class=\"\">\n",
       "        <td class=\"fillremaining\">72.31138470307715</td>\n",
       "        <td class=\"number\">1</td>\n",
       "        <td class=\"number\">0.0%</td>\n",
       "        <td>\n",
       "            <div class=\"bar\" style=\"width:1%\">&nbsp;</div>\n",
       "        </td>\n",
       "</tr><tr class=\"\">\n",
       "        <td class=\"fillremaining\">126.22606210924864</td>\n",
       "        <td class=\"number\">1</td>\n",
       "        <td class=\"number\">0.0%</td>\n",
       "        <td>\n",
       "            <div class=\"bar\" style=\"width:1%\">&nbsp;</div>\n",
       "        </td>\n",
       "</tr><tr class=\"\">\n",
       "        <td class=\"fillremaining\">103.18754553930431</td>\n",
       "        <td class=\"number\">1</td>\n",
       "        <td class=\"number\">0.0%</td>\n",
       "        <td>\n",
       "            <div class=\"bar\" style=\"width:1%\">&nbsp;</div>\n",
       "        </td>\n",
       "</tr><tr class=\"\">\n",
       "        <td class=\"fillremaining\">56.565400967721004</td>\n",
       "        <td class=\"number\">1</td>\n",
       "        <td class=\"number\">0.0%</td>\n",
       "        <td>\n",
       "            <div class=\"bar\" style=\"width:1%\">&nbsp;</div>\n",
       "        </td>\n",
       "</tr><tr class=\"\">\n",
       "        <td class=\"fillremaining\">103.63747754157083</td>\n",
       "        <td class=\"number\">1</td>\n",
       "        <td class=\"number\">0.0%</td>\n",
       "        <td>\n",
       "            <div class=\"bar\" style=\"width:1%\">&nbsp;</div>\n",
       "        </td>\n",
       "</tr><tr class=\"\">\n",
       "        <td class=\"fillremaining\">26.34745673767504</td>\n",
       "        <td class=\"number\">1</td>\n",
       "        <td class=\"number\">0.0%</td>\n",
       "        <td>\n",
       "            <div class=\"bar\" style=\"width:1%\">&nbsp;</div>\n",
       "        </td>\n",
       "</tr><tr class=\"\">\n",
       "        <td class=\"fillremaining\">145.0333887908647</td>\n",
       "        <td class=\"number\">1</td>\n",
       "        <td class=\"number\">0.0%</td>\n",
       "        <td>\n",
       "            <div class=\"bar\" style=\"width:1%\">&nbsp;</div>\n",
       "        </td>\n",
       "</tr><tr class=\"other\">\n",
       "        <td class=\"fillremaining\">Other values (99990)</td>\n",
       "        <td class=\"number\">99990</td>\n",
       "        <td class=\"number\">100.0%</td>\n",
       "        <td>\n",
       "            <div class=\"bar\" style=\"width:100%\">&nbsp;</div>\n",
       "        </td>\n",
       "</tr>\n",
       "</table>\n",
       "        </div>\n",
       "        <div role=\"tabpanel\" class=\"tab-pane col-md-12\"  id=\"extreme1169624309565850532\">\n",
       "            <p class=\"h4\">Minimum 5 values</p>\n",
       "            \n",
       "<table class=\"freq table table-hover\">\n",
       "    <thead>\n",
       "    <tr>\n",
       "        <td class=\"fillremaining\">Value</td>\n",
       "        <td class=\"number\">Count</td>\n",
       "        <td class=\"number\">Frequency (%)</td>\n",
       "        <td style=\"min-width:200px\">&nbsp;</td>\n",
       "    </tr>\n",
       "    </thead>\n",
       "    <tr class=\"\">\n",
       "        <td class=\"fillremaining\">0.0</td>\n",
       "        <td class=\"number\">1</td>\n",
       "        <td class=\"number\">0.0%</td>\n",
       "        <td>\n",
       "            <div class=\"bar\" style=\"width:100%\">&nbsp;</div>\n",
       "        </td>\n",
       "</tr><tr class=\"\">\n",
       "        <td class=\"fillremaining\">0.0040215231561772985</td>\n",
       "        <td class=\"number\">1</td>\n",
       "        <td class=\"number\">0.0%</td>\n",
       "        <td>\n",
       "            <div class=\"bar\" style=\"width:100%\">&nbsp;</div>\n",
       "        </td>\n",
       "</tr><tr class=\"\">\n",
       "        <td class=\"fillremaining\">0.006113636311558738</td>\n",
       "        <td class=\"number\">1</td>\n",
       "        <td class=\"number\">0.0%</td>\n",
       "        <td>\n",
       "            <div class=\"bar\" style=\"width:100%\">&nbsp;</div>\n",
       "        </td>\n",
       "</tr><tr class=\"\">\n",
       "        <td class=\"fillremaining\">0.009428121491751958</td>\n",
       "        <td class=\"number\">1</td>\n",
       "        <td class=\"number\">0.0%</td>\n",
       "        <td>\n",
       "            <div class=\"bar\" style=\"width:100%\">&nbsp;</div>\n",
       "        </td>\n",
       "</tr><tr class=\"\">\n",
       "        <td class=\"fillremaining\">0.021781041742107068</td>\n",
       "        <td class=\"number\">1</td>\n",
       "        <td class=\"number\">0.0%</td>\n",
       "        <td>\n",
       "            <div class=\"bar\" style=\"width:100%\">&nbsp;</div>\n",
       "        </td>\n",
       "</tr>\n",
       "</table>\n",
       "            <p class=\"h4\">Maximum 5 values</p>\n",
       "            \n",
       "<table class=\"freq table table-hover\">\n",
       "    <thead>\n",
       "    <tr>\n",
       "        <td class=\"fillremaining\">Value</td>\n",
       "        <td class=\"number\">Count</td>\n",
       "        <td class=\"number\">Frequency (%)</td>\n",
       "        <td style=\"min-width:200px\">&nbsp;</td>\n",
       "    </tr>\n",
       "    </thead>\n",
       "    <tr class=\"\">\n",
       "        <td class=\"fillremaining\">185.35201486336368</td>\n",
       "        <td class=\"number\">1</td>\n",
       "        <td class=\"number\">0.0%</td>\n",
       "        <td>\n",
       "            <div class=\"bar\" style=\"width:100%\">&nbsp;</div>\n",
       "        </td>\n",
       "</tr><tr class=\"\">\n",
       "        <td class=\"fillremaining\">185.35498029613763</td>\n",
       "        <td class=\"number\">1</td>\n",
       "        <td class=\"number\">0.0%</td>\n",
       "        <td>\n",
       "            <div class=\"bar\" style=\"width:100%\">&nbsp;</div>\n",
       "        </td>\n",
       "</tr><tr class=\"\">\n",
       "        <td class=\"fillremaining\">185.35561503190544</td>\n",
       "        <td class=\"number\">1</td>\n",
       "        <td class=\"number\">0.0%</td>\n",
       "        <td>\n",
       "            <div class=\"bar\" style=\"width:100%\">&nbsp;</div>\n",
       "        </td>\n",
       "</tr><tr class=\"\">\n",
       "        <td class=\"fillremaining\">185.36269025217118</td>\n",
       "        <td class=\"number\">1</td>\n",
       "        <td class=\"number\">0.0%</td>\n",
       "        <td>\n",
       "            <div class=\"bar\" style=\"width:100%\">&nbsp;</div>\n",
       "        </td>\n",
       "</tr><tr class=\"\">\n",
       "        <td class=\"fillremaining\">185.3643474222929</td>\n",
       "        <td class=\"number\">1</td>\n",
       "        <td class=\"number\">0.0%</td>\n",
       "        <td>\n",
       "            <div class=\"bar\" style=\"width:100%\">&nbsp;</div>\n",
       "        </td>\n",
       "</tr>\n",
       "</table>\n",
       "        </div>\n",
       "    </div>\n",
       "</div>\n",
       "</div>\n",
       "    <div class=\"row headerrow highlight\">\n",
       "        <h1>Correlations</h1>\n",
       "    </div>\n",
       "    <div class=\"row variablerow\">\n",
       "    <img src=\"data:image/png;base64,iVBORw0KGgoAAAANSUhEUgAAAl4AAAISCAYAAAAdu8GRAAAAOXRFWHRTb2Z0d2FyZQBNYXRwbG90bGliIHZlcnNpb24zLjUuMywgaHR0cHM6Ly9tYXRwbG90bGliLm9yZy/NK7nSAAAACXBIWXMAAA9hAAAPYQGoP6dpAABIaUlEQVR4nO3deXiNd/7/8deJyEIQZCFCLSOiqhEJMS1DU9rS6RSlBrVUVWdIdKqWhi6MGi1aF6Kd0lJbK7V0GUzbL%2B2YttPSBlHa%2BEkstWYRW8gq5/dHxhmnCW7uk3OS4/m4rlzJ%2BdzLeZ/7VM67r89937FYrVarAAAAUOE8XF0AAADArYLGCwAAwElovAAAAJyExgsAAMBJaLwAAACchMYLAADASWi8AAAAnITGCwAAwElovAAAAJzE09UFALhxR48e1b333nvV5dWrV5efn5%2BaNm2qbt266bHHHpOfn58TKwQAlMfCnwwCqp4rG6%2BwsLAyTVVRUZFycnJ07NgxSVJISIjeffdd3XbbbU6vFQDwPzReQBV0ZeO1fPlyxcTElLvetm3bNHr0aOXm5ioyMlKrV692ZpkAgF/hHC/AjcXExGjcuHGSpJ07d2rPnj0urggAbm00XoCb69Gjh%2B3nlJQUF1YCAODkesDN1apVy/bzhQsX7JZ9//33WrFihXbs2KEzZ86odu3aateunYYMGaLf/va35e7v3LlzWr16tbZu3aq0tDTl5ubK19dXTZo00T333KOhQ4eqTp06dtu0atVKkvTNN9/olVde0ZYtW%2BTh4aE2bdpoyZIl8vT0VEpKipYuXark5GTl5OSoRo0aatasmbp3765BgwaVe3FAfn6%2BVq9erU2bNiktLU1FRUUKDg7WXXfdpREjRqhp06Z262/btk1Dhw5VRESEVq1apRUrVuijjz7S4cOHVb16dd1%2B%2B%2B0aOnSounfvfjOHGgCui8YLcHOHDx%2B2/dygQQPbz3PmzNHixYslSXXq1FFYWJgyMzO1ZcsWbdmyRU8%2B%2BaTGjx9vt69Dhw5p%2BPDhOnHihDw9PdWkSRM1atRIx44d0969e7V3715t3LhR69atU82aNcvUEh8fr507dyosLEw5OTkKDAyUp6enPv/8cz3zzDMqLi5W3bp11apVK124cEG7d%2B9WSkqKPvnkE61evdqu%2BTp58qQef/xxHThwQJLUtGlT1axZU%2Bnp6UpKStJHH32kV155Rb169SpTR1FRkZ588kl9%2B%2B23qlu3rlq0aKGDBw9q27Zt2rZtm6ZOnaqBAweaO/AAUB4rgCrnyJEj1rCwMGtYWJj1u%2B%2B%2Bu%2Ba6EydOtIaFhVnbtGljzcrKslqtVuv7779vDQsLs0ZHR1s//vhj27olJSXWjRs3Wtu1a2cNCwuzfvDBB3b7euyxx6xhYWHWRx991JqRkWG33YcffmgNDw%2B3hoWFWVeuXGm33eVa77jjDuv27dutVqvVeunSJevp06etly5dst59993WsLAw6%2BLFi63FxcW27fbs2WPt1KmTNSwszPrWW2/ZxouLi60PP/ywNSwszHr//fdbf/75Z9uy8%2BfPW6dMmWJ7zbt27bIt%2B%2B6772y1tGvXzvrJJ5/Ylp07d846bNgwa1hYmLVjx47WoqKiax5XALgZnOMFuKH8/Hz99NNPeumll/TRRx9JkoYPH66AgAAVFhZqwYIFkqS//e1v%2BsMf/mDbzmKxqFevXpowYYIkacGCBSouLpYkZWdna//%2B/ZKk6dOnKygoyG673r17q2PHjpKkffv2lVtXz5491aFDB0mSh4eH/P39lZOTo6ysLEnSo48%2BqmrVqtnWb9OmjZ555hl1795d/v7%2BtvFPP/1UP//8s7y9vbV48WKFh4fblvn5%2Benll19Wly5dVFRUpLlz55Zby9ixY/XQQw/ZHteqVcv2us%2BcOaODBw%2BWux0AmMFUI1DFDR069Lrr9O/fX08//bSk0qsbs7OzVbNmzavehPUPf/iDpk%2BfroyMDP3000%2B68847FRAQoO%2B%2B%2B075%2Bfny8fEps82lS5dsU4H5%2Bfnl7jcqKqrMWN26dVWnTh2dPXtW48eP15///GdFRETIw6P0/wsfffRRPfroo3bbfPHFF5Kk2NhYNW7cuNznevzxx/XVV19p%2B/btOn/%2BvN25bpJ0zz33lNmmRYsWtp/PnTtX7n4BwAwaL6CK%2B/UNVC0Wi7y9veXv769WrVqpe/fu%2Bs1vfmNbfjm1Kioq0uDBg6%2B632rVqqmkpEQHDhzQnXfeaRv38fHRsWPH9OOPP%2BqXX37RkSNHlJ6erp9//lkXL16UJJWUlJS7z8DAwHKfZ/z48XrhhRe0detWbd26VXXq1FFMTIzuvvtudevWze7cNEm2NKpNmzZXrf/yskuXLunw4cO644477JYHBweX2ebKhvLSpUtX3TcA3CwaL6CKe/755696A9XynD9/XpJUWFioHTt2XHf9K5OfAwcO6KWXXtL27dvt1vHz81N0dLQyMzOVmpp61X2Vl5RJpanWbbfdpqVLl%2Bo///mPzp49q88//1yff/65LBaLunbtqmnTptkasNzcXEkqk2L9uqbLfn01p1T6Z5Wuxcq9pQFUABov4Bbj6%2BsrqTQRWr9%2BveHtTp06pccee0ynTp1SSEiIHn30Ud1%2B%2B%2B1q3ry5QkNDZbFY9Oyzz16z8bqWmJgYxcTEKD8/Xz/88IO%2B//57ffXVV9q7d6/%2B9a9/6amnntJHH30ki8Viu2LychNZnisbxvKusAQAV6DxAm4xzZo1k1R6a4ji4mJ5epb9NWC1WrVt2zY1aNBAISEh8vLy0rp163Tq1Cn5%2B/tr3bp1qlevXpntMjIybriewsJCHTlyRLm5uYqIiJCPj486d%2B6szp0765lnntHGjRs1btw4paamat%2B%2BfQoPD1fz5s31008/ae/evVfd748//iipdOq1SZMmN1wXAFQErmoEbjEdOnRQrVq1dOHChasmXv/4xz80bNgw9ezZUydPnpRU%2BvchpdI/uF1e05WWlqZdu3ZJurHzo/7973%2BrV69eGjVqlAoLC8ssv%2Buuu2w/X97v5RPjv/jiCx05cqTc/S5fvlyS1K5dO9WuXdtwPQBQkWi8gFtMjRo1NGrUKEnSjBkztG7dOruT4Tdv3qyXXnpJUuntHy6nRc2bN5ckpaam6rPPPrOtb7Va9e9//1sjR45UUVGRJCkvL89wPb/73e9Ut25dnTlzRpMmTdKZM2dsy3Jzc/Xqq69Kkho2bKiWLVtKkh544AG1atVKBQUFevLJJ%2B2mN3Nzc/XCCy/o66%2B/lqenZ5mbwAKAKzHVCNyCnnzySR05ckQffPCBJk%2BerNmzZys0NFQZGRnKzMyUVHrrhxkzZti26devn9577z0dPnxYY8eOVaNGjVS3bl2dOHFCp06dUvXq1dWxY0dt3779hqYcvby8NG/ePD3xxBPatGmTtmzZoiZNmsjDw0NHjhzRxYsX5evrq1deeUVeXl6SJE9PT73xxht68skndeDAAT388MN2d66/fMuLadOmKTo62rEHDwBMoPECbkEWi0XTp0/X/fffr9WrV2vXrl22G5K2a9dOv//97zVgwABboyOVXiW4du1aLV68WF9%2B%2BaWOHj2q7OxsNWjQQN26ddOwYcNUo0YNde/eXampqTp%2B/LhCQkIM1RMTE6M1a9bY/lbjoUOH5OnpqQYNGqhz584aMWJEmX2FhoZq3bp1ev/99/Xpp58qPT1dJ0%2BeVMOGDdWlSxcNHjy4zN9qBABXs1i5ZhoAAMApOMcLAADASWi8AAAAnITGCwAAuIXCwkL9/ve/17Zt2666zk8//aT%2B/fsrIiJCjzzyiPbs2WO3fMOGDerevbsiIiI0ZswY5eTkOLRGGi8AAFDlFRQUaNy4cba/R1ueixcvatSoUYqOjtb69esVGRmpp556yvZ3Znfv3q0pU6YoLi5OSUlJOnfunBISEhxaJ40XAACo0tLS0vToo4/ql19%2BueZ6mzZtkre3tyZOnKgWLVpoypQpqlmzpj799FNJ0sqVK9WzZ0/17t1b4eHhmjVrlrZu3XrVGzXfDBovAABQpW3fvl0xMTFKSkq65nopKSmKioqSxWKRVHprnfbt29v%2B6kZKSordvf8aNmyokJAQpaSkOKxW7uMFAABcKjMzU1lZWXZjgYGBCgoKMrT9oEGDDK2XlZWl3/zmN3Zj9evXt01PZmZmlnnO%2BvXr2/50miPQeF3Lfztit9GsmbR/v9SypXTwoKurcZi5r7vXrejq1JGGD5fefVc6e9bV1TjOX/7i6gpghCXt6ufHVDmenlLTptKhQ1Jxsaurcaz//vksp6ugz8Wk%2BfOVmJhoNxYXF6f4%2BHiHPk9eXp7djaGl0r%2BecfnvxObn519zuSPQeN1K/P2latVKv6PS8vaWPDxKv6Nys1gkbkFdiVWrVvomVavmfo2Xq3hUzBlKAwYMUGxsrN1YYGCgw5/H29u7TBNVWFgoHx%2Bfay739fV1WA00XgAAwKWCgoIMTyuaERwcrOzsbLux7Oxs23Nfbbkjm0BOrgcAAMZ4eFTMl5NERERo586duvzXEq1Wq3bs2KGIiAjb8uTkZNv6J06c0IkTJ2zLHYHGCwAAuK2srCzl5%2BdLkh544AGdO3dOM2bMUFpammbMmKG8vDz17NlTkjRw4EB9/PHHWrNmjVJTUzVx4kR169ZNjRs3dlg9NF4AAMCYKph4de7cWZs2bZIk%2Bfn56a233lJycrL69u2rlJQULVq0SDVq1JAkRUZG6q9//asWLlyogQMHqk6dOpo5c6ZD6%2BEcLwAAYIwTpwVv1r59%2B675%2BM4779SHH3541e379u2rvn37VkhtEokXAACA05B4AQAAY6pA4lXZcQQBAACchMQLAAAYQ%2BJlGo0XAAAwhsbLNI4gAACAk5B4AQAAY0i8TOMIAgAAOAmJFwAAMIbEyzQaLwAAYAyNl2kcQQAAACch8QIAAMaQeJnGEQQAAHASEi8AAGAMiZdpNF4AAMAYGi/TOIIAAABOQuIFAACMIfEyjcYLAAAYQ%2BNlGkcQAADASUi8AACAMSRepnEEAQAAnITECwAAGEPiZRqNFwAAMIbGyzSOIAAAgJOQeAEAAGNIvEzjCAIAADgJiRcAADCGxMs0Gi8AAGAMjZdpHEEAAAAnIfECAADGkHiZxhEEAABwEhIvAABgDImXaTReAADAGBov0ziCAAAATkLiBQAAjCHxMo0jCAAA4CQkXgAAwBgSL9NovAAAgDE0XqZxBAEAAJyExAsAABhD4mUaRxAAAMBJqmzitWXLFk2bNk1nz57Va6%2B9pi%2B%2B%2BEKff/65fHx8NGLECI0YMcLVJQIA4F4qaeJVUFCgadOmXbcPGDJkiLZv315mvG/fvpo5c6bOnj2rjh072i3z9/fXtm3bHFZrlW285s%2Bfr86dO2vMmDF68803tWfPHi1btkzHjx/XpEmTFBISogceeMDVZQIA4D4qaeM1a9YsQ33AggULVFRUZHuckpKiv/zlLxo0aJAkKS0tTf7%2B/tqwYYNtHQ8Hv%2BYq23idP39eUVFRqlu3rj755BMtXrxYbdq0UZs2bbR//36tWrWKxgsAADd38eJFrVmzxlAf4O/vb/v50qVLmjt3rkaOHKm2bdtKkg4cOKBmzZopMDCwwuqtnK3rdcTGxurYsWOaPHmyOnbsqOLiYkVGRtqWR0VFKSUlRSUlJS6sEgAAN%2BPhUTFfJqSmpt5UH7B%2B/XqdPXtWTz75pG0sLS1NTZs2NVXP9VTJxGvt2rXq06ePRowYocDAQM2YMUNeXl625QEBASooKNCZM2dUr149Q/vMzMxUVlaW3Vhgs2YKuqI7rvLCw%2B2/u4mgIFdX4Fh169p/B5zK29vVFThO9er2391FQYGrK3C4cj%2BDAwMVZOAXfFZWlurWrXtDfYDVatXbb7%2BtoUOHqmbNmrbx9PR0FRcXq1%2B/fsrIyFB0dLQSEhIM1WFUlWy86tWrp2rVqqlWrVoqLCy0O9iSbI8LCwsN7zMpKUmJiYl2Y3FPP634p582X3Bl8957rq7AoQa7uoAK0quXqyuAERaLqytwsCZNXF2B4zVs6OoKHGv/ftc9dwWd41XuZ3BcnOLj46%2B7bV5e3g33Adu2bdPJkyf16KOP2o0fOHBA9erVU0JCgqxWq%2BbOnas//elPWrNmjapVq3YjL%2BmqqmTjdSVvb%2B8yB/byYx8fH8P7GTBggGJjY%2B3GAh96SFq2zHyRlUV4eGnTNWiQlJrq6mocZtWzO1xdgkPVrVvadG3aJJ0%2B7epqHOe/5666FYtFslpdXYVjWY784uoSHKd69dKm68QJ6YoTqmFCBTVe5X4GGzzP6mb6gM8%2B%2B0y/%2B93v7M75kqSNGzfKYrHYtrt8IV9KSorat29vqJ7rqfKNV3BwsE6fPq3i4mJ5epa%2BnKysLPn4%2BKh27dqG9xMUFFQ2Sjx40JGlVh6pqdLOna6uwmEyM11dQcU4fdp9XxsqMTecxlJRkXu%2BLjdS7mewQTfTB3z11VeKi4srM%2B7r62v3uH79%2BvL391dGRsZN1VaeKnly/ZVat24tT09P7dq1yzaWnJystm3bOvwSUAAAbmmV8OT6G%2B0DcnJydOTIEUVFRdmN5%2BbmqkOHDvruu%2B9sYxkZGTp9%2BrSaN29uqsYrVfnOxNfXV71799bUqVO1e/dubd68WUuWLNHQoUNdXRoAAKhg1%2BsDsrKylJ%2Bfb1t///798vb2VmhoqN1%2B/Pz8FBUVpZkzZ2r37t3au3evnnnmGXXp0kWtWrVyWL1VvvGSpISEBLVp00bDhg3TtGnTFB8fr/vuu8/VZQEA4F4qYeIlXbsP6Ny5szZt2mRb99SpU6pdu7Ys5VwZ8%2Bqrr%2Br222/XqFGjNGTIEDVq1Ehz5swxXd%2BVLFaru50a6kDudrlSZKS0Y4fUvr1bneM193X3%2Bk84KEgaPFhatcq9zvH6y19cXYHjueXJ9WkuvGLO0by9S6/S/OUX9zvHq2VL1zxvz54Vs99//rNi9lsJuUXiBQAAUBVU%2BasaAQCAk3DRmmkcQQAAACch8QIAAMaQeJlG4wUAAIyh8TKNIwgAAOAkJF4AAMAYEi/TaLwAAIAxNF6mcQQBAACchMQLAAAYQ%2BJlGkcQAADASUi8AACAMSReptF4AQAAY2i8TOMIAgAAOAmJFwAAMIbEyzSOIAAAgJOQeAEAAGNIvEyj8QIAAMbQeJnGEQQAAHASEi8AAGAMiZdpHEEAAAAnIfECAADGkHiZRuMFAACMofEyjSMIAADgJCReAADAGBIv0ziCAAAATkLiBQAAjCHxMo3GCwAAGEPjZRpHEAAAwElIvAAAgDEkXqZxBAEAAJyExAsAABhD4mUajRcAADCGxss0jiAAAICTkHgBAABjSLxM4wgCAAA4CYkXAAAwhsTLNBovAABgDI2XaRxBAAAAJyHxAgAAxpB4mcYRBAAAcBIaLwAAYIyHR8V8mVRQUKDJkycrOjpanTt31pIlS6667p///Ge1atXK7uvLL7%2B0LX/33XfVpUsXRUZGavLkycrLyzNd35WYagQAAMZU0qnGWbNmac%2BePVq2bJmOHz%2BuSZMmKSQkRA888ECZddPT0zV79mz99re/tY3VqVNHkvTZZ58pMTFRs2fPVv369ZWQkKDZs2frxRdfdFitlfMIAgAAGHDx4kWtWbNGU6ZMUZs2bdSjRw%2BNHDlSq1atKrNuYWGhjh49qrZt2yowMND25eXlJUlavny5hg0bpnvuuUd33nmnpk2bpnXr1jk09aLxAgAAxlTCqcbU1FQVFxcrMjLSNhYVFaWUlBSVlJTYrXvgwAFZLBY1bty4zH4uXbqkH3/8UdHR0baxdu3aqaioSKmpqaZqvBJTjdcw93Wrq0twqKAgabCkVc/uUGamq6txnGfGWVxdgmNFRkqDd2jwa%2B2lnTtdXY3j/KXk%2ButUORZZ5F6/J3bmtnR1CQ7je0kKl5R6sYkcfJqOy0Vef5UqJTMzU1lZWXZjgYGBCgoKuu62WVlZqlu3ri21kqSAgAAVFBTozJkzqlevnm38wIED8vPz08SJE7V9%2B3Y1aNBA8fHx6tq1q86dO6eCggK75/T09JS/v79OnjzpgFf53306bE8AAMC9VdA5XklJSUpMTLQbi4uLU3x8/HW3zcvLs2u6JNkeFxYW2o0fOHBA%2Bfn56ty5s0aNGqX/%2B7//05///GclJSUpICDAbtsr9/Xr/ZhB4wUAAIypoMZrwIABio2NtRsLDAw0tK23t3eZxujyYx8fH7vx0aNHa8iQIbaT6cPDw7V371598MEHeuaZZ%2By2vXJfvr6%2Bxl/MddB4AQAAlwoKCjI0rVie4OBgnT59WsXFxfL0LG1rsrKy5OPjo9q1a9ut6%2BHhYWu6LmvevLnS0tLk7%2B8vb29vZWdnq0WLFpKk4uJinTlzxnATaAQn1wMAAGMq4cn1rVu3lqenp3bt2mUbS05OVtu2beXxq30/99xzSkhIsBtLTU1V8%2BbN5eHhobZt2yo5Odm2bNeuXfL09FR4eLipGq9E4wUAAKosX19f9e7dW1OnTtXu3bu1efNmLVmyREOHDpVUmn7l5%2BdLkmJjY/WPf/xDH330kQ4fPqzExEQlJyfrsccekyQNGjRI77zzjjZv3qzdu3dr6tSpevTRR5lqBAAALlBJb6CakJCgqVOnatiwYfLz81N8fLzuu%2B8%2BSVLnzp01c%2BZM9e3bV/fdd59eeuklvfnmmzp%2B/Lhatmypt99%2BW6GhoZKkBx98UMeOHdOLL76owsJC3XfffZowYYJDa6XxAgAAxlTSxsvX11evvvqqXn311TLL9u3bZ/e4f//%2B6t%2B//1X3NWrUKI0aNcrhNV5WOY8gAACAGyLxAgAAxlTSxKsqofECAADG0HiZxhEEAABwEhIvAABgDImXaRxBAAAAJyHxAgAAxpB4mUbjBQAAjKHxMo0jCAAA4CQkXgAAwBgSL9M4ggAAAE5C4gUAAIwh8TKNxgsAABhD42UaRxAAAMBJSLwAAIAxJF6mcQQBAACchMQLAAAYQ%2BJlGo0XAAAwhsbLNI4gAACAk5B4AQAAY0i8TOMIAgAAOAmJFwAAMIbEyzQaLwAAYAyNl2kcQQAAACch8QIAAMaQeJnGEQQAAHASEi8AAGAMiZdpNF4AAMAYGi/TOIIAAABOQuIFAACMIfEyjSMIAADgJCReAADAGBIv02i8AACAMTRepnEEAQAAnITECwAAGEPiZRpHEAAAwElIvAAAgDEkXqbReAEAAGNovEzjCAIAADgJiRcAADCGxMs0jiAAAICTVNnGa8uWLfrd736niIgIffXVV5KkwsJC/f73v9e2bdtcXB0AAG7Iw6NivkwqKCjQ5MmTFR0drc6dO2vJkiVXXfdf//qXHn74YUVGRuqhhx7Sli1b7JZHR0erVatWdl8XLlwwXeNlVXaqcf78%2BercubPGjBmj%2BvXrq6CgQM8%2B%2B6z279/v6tIAAHBPlXSqcdasWdqzZ4%2BWLVum48ePa9KkSQoJCdEDDzxgt15qaqri4uI0ceJEde3aVV9//bWefvpprV27VuHh4crIyND58%2Be1efNm%2Bfj42LarUaOGw2qtso3X%2BfPnFRUVpUaNGiktLU3PPvusrFarq8sCAABOdPHiRa1Zs0aLFy9WmzZt1KZNG%2B3fv1%2BrVq0q03ht2LBBnTp10tChQyVJt912m7744gv985//VHh4uNLT0xUYGKjGjRtXWL1VsvGKjY3VsWPHNHnyZC1cuFAjR45UTEyMnnnmGbVr1%2B6m9pmZmamsrCy7sWrVAlW/fpADKq4c6ta1/%2B42IiNdXYFjhYfbfwecyNfX1RU4jre3/Xd3kZfnwievoMSrvM/gwMBABQVd/zM4NTVVxcXFirzisyAqKkp///vfVVJSIo8rau7Tp4%2BKiorK7OP8%2BfOSpLS0NDVr1uxmX4YhVbLxWrt2rfr06aMRI0booYceUr169UzvMykpSYmJiXZjY8bEafDgeNP7rmx69XJ1BQ42eIerK6gY773n6gpghMXi6gocyh37/Qr%2BHHW6nTtd%2BOQV1HiV9xkcFxen%2BPjrfwZnZWWpbt268vLyso0FBASooKBAZ86csesRWrRoYbft/v379e233%2BqPf/yjJCk9PV15eXkaMmSIDh48qNatW2vy5MkObcaqZONVr149VatWTbVq1XJI0yVJAwYMUGxsrN3Yli2BWrXKIbuvFOrWLW26Nm2STp92dTWOM/i19q4uwbHCw0ubrkGDpNRUV1fjOMnJrq7A8SwWyc1OcUjd5z6NpLd3adN18KBUUODqanAt5X0GBwYGGto2Ly/PrumSZHtcWFh41e1ycnIUHx%2Bv9u3b695775UkHThwQGfPntW4cePk5%2BenxYsXa/jw4dq4caP8/Pxu5CVdVZVsvCpCUFBQmUjz88%2BlzEwXFVSBTp92s9fl0v/9q0Cpqe772lBpuXQaq4IUFLjn63KJCkq8yvsMNsrb27tMg3X58ZUnyF8pOztbjz/%2BuKxWq%2BbPn2%2BbjnznnXdUVFSkmjVrSpLmzJmjrl276ssvv9RDDz10U/X9Go0XAACosoKDg3X69GkVFxfL07O0rcnKypKPj49q165dZv2MjAzbyfXLly%2B3mznz8vKyS8%2B8vb0VGhqqjIwMh9VbOa8LBQAAlU8lvI9X69at5enpqV27dtnGkpOT1bZtW7sT66XSKyBHjhwpDw8PrVy5UsHBwbZlVqtV3bt31/r16%2B3WP3z4sJo3b26qxiuReAEAAGMq4X28fH191bt3b02dOlV/%2B9vflJmZqSVLlmjmzJmSStOvWrVqycfHR2%2B99ZZ%2B%2BeUXrVixwrZMKp2SrFWrlrp166YFCxaoUaNGqlevnubNm6cGDRqoa9euDquXxgsAAFRpCQkJmjp1qoYNGyY/Pz/Fx8frvvvukyR17txZM2fOVN%2B%2BffXZZ58pPz9f/fv3t9u%2BT58%2BeuWVVzRhwgR5enrq2WefVW5urjp16qRFixapWrVqDqvVYuWuo1c1d66rK3CsoCBp8GBp1Sr3Orn%2BmXHucxWWpNL7ku3YIbVv714n15eUuLoCx3PDqxp37nKff0%2B%2BvqUXCaemut/J9S67fWFF/Um%2BmJiK2W8lVPkyQwAAADfFVCMAADCmEp7jVdXQeAEAAGNovEzjCAIAADgJiRcAADCGxMs0jiAAAICTkHgBAABjSLxMo/ECAADG0HiZxhEEAABwEhIvAABgDImXaRxBAAAAJyHxAgAAxpB4mUbjBQAAjKHxMo0jCAAA4CQkXgAAwBgSL9M4ggAAAE5C4gUAAIwh8TKNxgsAABhD42UaRxAAAMBJSLwAAIAxJF6mcQQBAACchMQLAAAYQ%2BJlGo0XAAAwhsbLNI4gAACAk5B4AQAAY0i8TOMIAgAAOAmJFwAAMIbEyzQaLwAAYAyNl2kcQQAAACch8QIAAMaQeJnGEQQAAHASEi8AAGAMiZdpNF4AAMAYGi/TOIIAAABOQuIFAACMIfEyjcYLAAAYQ%2BNlGkcQAADASUi8AACAMSRepnEEAQAAnITECwAAGEPiZRqNFwAAMIbGyzSOIAAAqNIKCgo0efJkRUdHq3PnzlqyZMlV1/3pp5/Uv39/RURE6JFHHtGePXvslm/YsEHdu3dXRESExowZo5ycHIfWSuMFAACM8fComC%2BTZs2apT179mjZsmV66aWXlJiYqE8//bTMehcvXtSoUaMUHR2t9evXKzIyUk899ZQuXrwoSdq9e7emTJmiuLg4JSUl6dy5c0pISDBd35VovAAAQJV18eJFrVmzRlOmTFGbNm3Uo0cPjRw5UqtWrSqz7qZNm%2BTt7a2JEyeqRYsWmjJlimrWrGlr0lauXKmePXuqd%2B/eCg8P16xZs7R161YdOXLEYfXSeAEAAGMqKPHKzMzU3r177b4yMzMNlZSamqri4mJFRkbaxqKiopSSkqKSkhK7dVNSUhQVFSWLxSJJslgsat%2B%2BvXbt2mVbHh0dbVu/YcOGCgkJUUpKiskD9z%2BcXH8Nf/mLqyuoGIMGuboCB/tLyfXXqYqSk11dgWO520m5kZHSjh1SVJS0c6erq3GYyOnTXV2C4zRoIIWPVPjXb0snT7q6GseKfN4lT2uVpUL2m5SUpMTERLuxuLg4xcfHX3fbrKws1a1bV15eXraxgIAAFRQU6MyZM6pXr57dur/5zW/stq9fv772798vScrMzFRQUFCZ5Scd%2BN8PjRcAAHCpAQMGKDY21m4sMDDQ0LZ5eXl2TZck2%2BPCwkJD615eLz8//5rLHYHGCwAAGFJSQRMMQUFBZZImo7y9vcs0Rpcf%2B/j4GFr38npXW%2B7r63tTtZXHzbJ/AABwKwkODtbp06dVXFxsG8vKypKPj49q165dZt3s7Gy7sezsbFvTd7XlRtM3I2i8AACAISUlFfNlRuvWreXp6Wk7QV6SkpOT1bZtW3n86tzSiIgI7dy5U1arVZJktVq1Y8cORURE2JYnX3F%2B7YkTJ3TixAnbckeg8QIAAIZUxsbL19dXvXv31tSpU7V7925t3rxZS5Ys0dChQyWVpl/5%2BfmSpAceeEDnzp3TjBkzlJaWphkzZigvL089e/aUJA0cOFAff/yx1qxZo9TUVE2cOFHdunVT48aNzRV5BRovAABQpSUkJKhNmzYaNmyYpk2bpvj4eN13332SpM6dO2vTpk2SJD8/P7311ltKTk5W3759lZKSokWLFqlGjRqSpMjISP31r3/VwoULNXDgQNWpU0czZ850aK0W6%2BW8DWW445GxWNzvdVnkZi9Ics83yl1vJ9G%2BvVvdTkLudjuJkSOlt93wdhLPu%2BZ2Enl5FbNfB567Xum52W9CAACAyovbSQAAAEMq6nYStxIaLwAAYAiNl3lMNQIAADgJiRcAADCExMs8Ei8AAAAnIfECAACGkHiZR%2BMFAAAMofEyj6lGAAAAJyHxAgAAhpB4mUfiBQAA4CQkXgAAwBASL/NovAAAgCE0XuYx1QgAAOAkJF4AAMAQEi/zSLwAAACchMQLAAAYQuJlHo0XAAAwhMbLPKYaAQAAnITECwAAGELiZR6JFwAAgJOQeAEAAENIvMyj8QIAAIbQeJnHVCMAAICTkHgBAABDSLzMI/ECAABwEhIvAABgCImXeTReAADAEBov85hqBAAAcBISLwAAYAiJl3k0XgAAwBAaL/OYagQAAHASEi8AAGAIiZd5JF4AAABOQuIFAAAMIfEyj8YLAAAYQuNlHlONAAAATkLiBQAADCHxMo/ECwAAwElIvAAAgCEkXubReAEAAENovMyrslONW7Zs0e9%2B9ztFREToww8/1NixY9WxY0d16dJFM2fOVEFBgatLBAAALma1WjVnzhx16tRJHTt21KxZs1RyjQ5y165d%2BuMf/6jIyEjdf//9WrNmjd3yP/zhD2rVqpXd1//7f//PcD1VNvGaP3%2B%2BOnfurDFjxmjMmDEKDAzUqlWrdPbsWU2ePFkeHh6aNGmSq8sEAMBtVMXEa%2BnSpdqwYYMSExNVXFysCRMmqH79%2BnriiSfKrJuVlaUnn3xSAwcO1CuvvKK9e/cqISFBgYGB6tatmy5duqRDhw5p5cqVatq0qW27unXrGq6nyiZe58%2BfV1RUlPLz8/Xzzz9r5syZatmypaKjozV27Fht2LDB1SUCAAAXW758ucaOHavo6Gh16tRJ48eP16pVq8pdd/PmzQoICNC4cePUtGlTPfjgg%2Brdu7f%2B8Y9/SJKOHj2qoqIi3XnnnQoMDLR9eXoaz7GqZOIVGxurY8eOafLkyapVq5befvttBQQE2K2Tm5t7Q/vMzMxUVlaW3VhAQKCCgoJM1wtAUmSkqytwrPBw%2B%2B/uokEDV1fgOPXr2393FydPuuypKyrxKu8zODDQ/GdwRkaGTpw4oQ4dOtjGoqKidOzYMWVmZpbZf5cuXdS6desy%2B7ncU6Slpalhw4by9va%2B6ZqqZOO1du1a9enTRyNGjNBDDz2kevXq2ZaVlJRo5cqV6tSp0w3tMykpSYmJiXZjY8bEaezYeIfUXJlYLK6uwNHc7gWVcrc3ascOV1dQMd57z9UV4Hr69HF1BY718ssue%2BqKarzK%2BwyOi4tTfLy5z%2BDLzdyVDdbloObkyZNlGq/Q0FCFhobaHp86dUobN2601ZGenq7q1avrqaee0p49e9SsWTNNnDhRd955p%2BGaqmTjVa9ePVWrVk21atWya7okafbs2frpp5%2B0du3aG9rngAEDFBsbazcWEBAoq9V0uZWKxSL3e01ysxckuecbFRXl6gocKzy8tOkaNEhKTXV1NY4zerSrK3Cc%2BvVLm64PP5ROnXJ1NbiG8j6DAwMDDW2bn5%2BvjIyMcpddvHhRkuTl5WUbu/xzYWHhdfcbHx%2BvgIAADRgwQJJ08OBBnT17Vv3799fYsWP1wQcfaNiwYdq0aZMaNmxoqN4q2XhdzezZs7Vs2TLNnTtXYWFhN7RtUFBQmc7X3T73AJfaudPVFVSM1FT3em0unMaqMKdOuefrcoGKSrzK%2Bww2KiUlRUOHDi132YQJEySVNlmXpwcvN1y%2Bvr5X3eeFCxc0evRoHTp0SO%2B9955t3enTpys/P19%2Bfn6SpKlTp2rHjh36%2BOOP9ac//clQvW7TeE2fPl3vv/%2B%2BZs%2Berfvvv9/V5QAAACeIiYnRvn37yl2WkZGh2bNnKysryzaFeHn68WqJWm5urkaOHKlffvlFy5Yts7t60dPT09Z0SZLFYlHz5s2vmriVp8pe1XilxMRErV69Wq%2B//roefPBBV5cDAIBbKimpmK%2BKEhwcrJCQECUnJ9vGkpOTFRISUm7CVlJSori4OB09elQrVqxQy5Yt7ZYPGTLE7ly0kpIS7du3T82bNzdcU5VPvNLT0/XGG29o1KhRioqKsrsqwuj8MAAAuL6qeB%2BvgQMHas6cOWrw3yt2X3vtNY0YMcK2PCcnR97e3qpZs6bWrl2rbdu26c0331Tt2rVtPUX16tXl7%2B%2Bv2NhYLVy4UK1bt1azZs20fPlynT9/Xn1u4AKOKt94bdmyRZcuXdKbb76pN998027Z1aJHAABwa3jiiSd06tQpxcXFqVq1aurXr5%2BGDx9uW96vXz/16dNH8fHx%2Buyzz1RSUqKnnnrKbh8dO3bUihUrNHz4cBUUFOjll19Wdna2IiIitHTpUrvpx%2BuxWK2cQn417nhk3PFiOa5qrCI83OLMhv%2BJjCy9RUb79u51cv306a6uwHEaNJBGjpTeftv9Tq5//nmXPO0//1kx%2B%2B3Zs2L2Wxm52W9CAACAyqvKTzUCAADnqIrneFU2NF4AAMAQGi/zmGoEAABwEhIvAABgCImXeSReAAAATkLiBQAADCHxMo/GCwAAGELjZR5TjQAAAE5C4gUAAAwh8TKPxAsAAMBJSLwAAIAhJF7m0XgBAABDaLzMY6oRAADASUi8AACAISRe5pF4AQAAOAmJFwAAMITEyzwaLwAAYAiNl3lMNQIAADgJiRcAADCExMs8Gi8AAGAIjZd5TDUCAAA4CYkXAAAwhMTLPBIvAAAAJyHxAgAAhpB4mUfjBQAADKHxMo%2BpRgAAACch8QIAAIaQeJlH4gUAAOAkJF4AAMAQEi/zaLwAAIAhNF7mMdUIAADgJCReAADAEBIv80i8AAAAnITECwAAGELiZR6NFwAAMITGyzymGgEAAJyExAsAABhC4mUeiRcAAICTkHgBAABDSLzMI/ECAACGlJRUzFdFslqtmjNnjjp16qSOHTtq1qxZKrnGk7788stq1aqV3dfKlSttyzds2KDu3bsrIiJCY8aMUU5Ozg3VQ%2BIFAADc1tKlS7VhwwYlJiaquLhYEyZMUP369fXEE0%2BUu356erqeffZZ9enTxzbm5%2BcnSdq9e7emTJmiadOmKTw8XDNmzFBCQoLeeustw/WQeAEAAEOqYuK1fPlyjR07VtHR0erUqZPGjx%2BvVatWXXX99PR03X777QoMDLR9%2Bfr6SpJWrlypnj17qnfv3goPD9esWbO0detWHTlyxHA9NF4AAMAtZWRk6MSJE%2BrQoYNtLCoqSseOHVNmZmaZ9XNzc5WRkaGmTZuWu7%2BUlBRFR0fbHjds2FAhISFKSUkxXBNTjQAAwJCKSqcyMzOVlZVlNxYYGKigoCBT%2B728zyv3ExAQIEk6efJkmf2np6fLYrHo73//u/7973/L399fjz/%2BuG3aMTMzs8w29evX18mTJw3XRON1DZa0/a4uwbG8vaUmTWQ58otUUODqahxmZ25LV5fgUL6%2BUni4lLrPorw8V1fjOJHTp7u6BMdq0KD0%2B%2BjR0g380q30XnjB1RU4TmSkNHKk9MYb0s6drq7GsZ5/3iVPW1GNV1JSkhITE%2B3G4uLiFB8ff91t8/PzlZGRUe6yixcvSpK8vLxsY5d/LiwsLLP%2BgQMHZLFY1Lx5cz322GP6/vvv9cILL8jPz089evRQfn6%2B3b4u76%2B8fV0NjRcAAHCpAQMGKDY21m4sMDDQ0LYpKSkaOnRoucsmTJggqbTJ8vb2tv0syXbe1pV69%2B6te%2B65R/7%2B/pKk8PBwHTp0SO%2B//7569Oghb2/vMk1WYWFhufu6GhovAABgSEUlXkFBQTc9rRgTE6N9%2B/aVuywjI0OzZ89WVlaWQkNDJf1v%2BrG8xs5isdiarsuaN2%2Bu7777TpIUHBys7Oxsu%2BXZ2dmGm0SJk%2BsBAICbCg4OVkhIiJKTk21jycnJCgkJKbfRmzdvnoYPH243lpqaqubNm0uSIiIi7PZ14sQJnThxQhEREYZrIvECAACGVMU71w8cOFBz5sxRg/%2Bel/naa69pxIgRtuU5OTny9vZWzZo1dc8992jRokV655131KNHD3399df66KOPtHz5ctu%2BhgwZonbt2qlt27aaMWOGunXrpsaNGxuuh8YLAAAYUhUbryeeeEKnTp1SXFycqlWrpn79%2BtmlWv369VOfPn0UHx%2BvO%2B%2B8U/PmzdP8%2BfM1b948NWrUSK%2B99poiIyMlSZGRkfrrX/%2Bq%2BfPn6%2BzZs7r77rs1/QYvHKLxAgAAbqtatWpKSEhQQkJCucu/%2BOILu8fdu3dX9%2B7dr7q/vn37qm/fvjddD40XAAAwpComXpUNJ9cDAAA4CYkXAAAwhMTLPBovAABgCI2XeUw1AgAAOAmJFwAAMITEyzwSLwAAACch8QIAAIaQeJlH4wUAAAyh8TKPqUYAAAAnIfECAACGkHiZR%2BMFAAAMofEyj6lGAAAAJyHxAgAAhpB4mUfiBQAA4CQkXgAAwBASL/NovAAAgCE0XuYx1QgAAOAkJF4AAMAQEi/zSLwAAACchMQLAAAYQuJlHo0XAAAwhMbLPKYaAQAAnITECwAAGELiZR6JFwAAgJOQeAEAAENIvMyj8QIAAIbQeJnHVCMAAICTkHgBAABDSLzMI/ECAABwEhIvAABgCImXeTReAADAEBov85hqBAAAcBISLwAAYAiJl3kkXgAAAE5C4gUAAAwh8TKPxgsAABhC42UeU40AAABOQuIFAAAMIfEyj8QLAADASUi8AACAISRe5lWqxmvBggXavn27VqxYYWo/ubm52rx5s3r37u2YwgAAQJVsvKxWq1577TWtXbtWJSUl6tevn8aPHy8Pj7KTfs8995w%2B/PDDMuMxMTFavny5JCk6Olrnz5%2B3W75jxw7VrFnTUD2VqvFylHfffVfbtm2j8QIA4Ba3dOlSbdiwQYmJiSouLtaECRNUv359PfHEE2XWnTJlip599lnb42PHjmnIkCEaOnSoJCkjI0Pnz5/X5s2b5ePjY1uvRo0ahutxy8bLarW6ugQAANxOVUy8li9frrFjxyo6OlqSNH78eM2bN6/cxqtWrVqqVauW7fFzzz2nBx54QN27d5ckpaenKzAwUI0bN77pem7o5PqjR4%2BqVatW%2Bsc//qEuXbooOjpaL7/8soqLi7VgwQKNHj1agwcPVseOHbV9%2B3YVFBRo9uzZ6tq1q9q1a6c//elPOnHihG1/aWlpGjhwoCIiIjR06FCdPn3atmz9%2BvWKjY21e/4hQ4ZowYIFtsdLly5VbGysIiMj9cQTT%2BjIkSNav369EhMTtX37drVq1epmjwsAAKjiMjIydOLECXXo0ME2FhUVpWPHjikzM/Oa23777bf6/vvvNW7cONtYWlqamjVrZqqmm0q8EhMTNXfuXBUXF2vixImqWbOmPD09tWXLFk2dOlXt2rVTs2bN9NJLL2nHjh169dVX5e/vrzlz5mj06NFat26diouLNWrUKFvz9t133%2Blvf/ub2rdvb6iG1atXKzExUdOnT9ftt9%2Bu119/XU8//bTee%2B897d%2B/Xzt37rRr0q4nMzNTWVlZdmOBeXkKCgq6oWNTqVWvbv/dTfhecnUFjuXtbf/dbTRo4OoKHKt%2Bffvv7iIy0tUVOE54uP13d7Fzp8ueuqISr3I/gwMDTX8GX97nlfsJCAiQJJ08efKa%2B1%2B0aJH69Omjhg0b2sbS09OVl5enIUOG6ODBg2rdurUmT558Q83YTTVeEyZMsEV2Tz/9tObMmaOBAwcqICBAAwcOlCSdPXtWH3/8sRYvXqxOnTpJkubMmaNu3brpm2%2B%2B0aVLl3TmzBlNnTpVNWrUUIsWLbR9%2B3bl5OQYqiEpKUnDhw9Xr169JEkvvvii3nnnHUmlc63Vq1dXYGCg4deUlJSkxMREu7G4MWMUP3as4X1UGVf8R%2BQO3OxXqo3J/6mqfMJHurqCitGnj6srcKyRbvg%2BvfeeqytwLIvFZU9dUY1XuZ/BcXGKj4%2B/7rb5%2BfnKyMgod9nFixclSV5eXraxyz8XFhZedZ9HjhzRd999pylTptiNHzhwQGfPntW4cePk5%2BenxYsXa/jw4dq4caP8/PyuW6t0k43XlanUHXfcoZycHJ0%2BfVqNGjWyjR86dEglJSWKiIiwjfn7%2B6tZs2ZKT09XcXGxmjZtandCWtu2bbV161ZDNRw8eFBt2rSxPQ4ICNCkSZNu5uVIkgYMGFBmajMwL0/65Zeb3melU716adN14oRUVOTqahwm9WITV5fgUN7epU3XwYNSQYGrq3Gc8K/fdnUJjlW/fmnT9eGH0qlTrq7Gcd54w9UVOE54eGnTNWiQlJrq6mpwDeV%2BBhsMT1JSUmwnv//ahAkTJJU2Wd7/nUa43HD5%2BvpedZ%2BfffaZWrdurd/85jd24%2B%2B8846KiopsVzDOmTNHXbt21ZdffqmHHnrIUL031XhVv2KqquS/7a%2BHh4ftRUmy%2B/lKly5dsm3z65Pgr9yvpZyOvri42Pazp6djrwsICgoqGznu3%2B9en3yXFRW51evKy3N1BRWjoMDNXtvJk66uoGKcOuVer82F01gVJjXVPV%2BXC1RU4lXuZ7BBMTEx2rdvX7nLMjIyNHv2bGVlZSk0NFTS/6Yfr9XYffXVV7r33nvLjHt5edmlZ97e3goNDb1q4laem7pz/c8//2z7ec%2BePQoKCpK/v7/dOo0bN5anp6d27dplGzt9%2BrQOHz6sZs2aqWXLljp06JDdvTCu3G/16tV14cIF22Or1aqjR4/aHt92221KveL/YE6fPq1OnTrp6NGj5TZtAADg1hIcHKyQkBAlJyfbxpKTkxUSEnLVRs9qterHH38sc8651WpV9%2B7dtX79etvYxYsXdfjwYTVv3txwTTcVG82YMUMvv/yyzp8/r3nz5umxxx5T0a%2BmrmrWrKn%2B/ftr%2BvTpmj59uurUqaM5c%2BaoQYMGuvvuu2WxWNSwYUNNmTJFTz/9tFJSUrRp0ybb1OQdd9yhM2fOaMWKFerWrZtWrFihs2fP2vY/ZMgQzZw5U2FhYWrRooXmzp2r0NBQhYaGytfXV5mZmTp69KitwwUAAOZUxdtJDBw40NZ/SNJrr72mESNG2Jbn5OTI29vbNn147NgxXbhwocw0o8ViUbdu3bRgwQI1atRI9erV07x589SgQQN17drVcD03lXj16tVLTz31lMaNG6f%2B/ftr1KhR5a43adIk3XXXXRo7dqwGDhwob29vvfvuu/Ly8lL16tX11ltv6ezZs%2BrTp4/ef/99DR482LZt06ZNNWnSJL355pvq3bu3rFar7r//ftvyhx9%2BWCNGjNC0adPUt29fFRQUaP78%2BZKkHj16qKSkRA8%2B%2BKBOudO5FwAAuFBJScV8VaQnnnhCvXr1UlxcnJ5%2B%2Bmk9/PDDGj58uG15v379tGTJEtvjy31DnTp1yuxrwoQJuv/%2B%2B/Xss8%2Bqf//%2BKi4u1qJFi1StWjXD9VisN3C30aNHj%2Bree%2B/Vli1bbo0kaf9%2BV1fgWN7eUpMmpRcMuNE5XjtzW7q6BIfy9S09Jzg11b3O8Yrc%2BLKrS3CsBg1KrwB8%2B233OsfrhRdcXYHjREZKO3ZI7du73zleLrpR%2BG9/WzH7/fbbitlvZeSWd64HAACOVxWnGiubm5pqBAAAwI27ocQrNDT0qpdsAgAA90biZR5TjQAAwBAaL/OYagQAAHASEi8AAGAIiZd5NF4AAMAQGi/zmGoEAABwEhIvAABgCImXeSReAAAATkLiBQAADCHxMo/GCwAAGELjZR5TjQAAAE5C4gUAAAwh8TKPxAsAAMBJSLwAAIAhJF7m0XgBAABDaLzMY6oRAADASUi8AACAISRe5pF4AQAAOAmJFwAAMITEyzwaLwAAYAiNl3lMNQIAADgJiRcAADCExMs8Ei8AAAAnIfECAACGkHiZR%2BMFAAAMofEyj6lGAAAAJyHxAgAAhpB4mUfiBQAA4CQkXgAAwBASL/NovAAAgCE0XuYx1QgAAOAkJF4AAMAQEi/zSLwAAACchMQLAAAYQuJlHo0XAAAwhMbLPKYaAQAAnITECwAAGELiZR6JFwAAgJOQeAEAAENIvMwj8QIAAIaUlFTMlzNYrVaNGDFC69evv%2BZ6R44c0fDhw9WuXTv16tVLX3/9td3y//znP/r973%2BviIgIDR06VEeOHLmhOmi8AACAWyspKdHLL7%2Bsb7755prrWa1WjRkzRgEBAVq3bp0efvhhxcXF6fjx45Kk48ePa8yYMerbt6/Wrl2revXqafTo0bJarYZrYaoRAAAYUhWnGjMyMjR%2B/HgdPXpUtWvXvua63333nY4cOaLVq1erRo0aatGihb799lutW7dO8fHxWrNmje644w6NGDFCkjRz5kzdfffd2r59u2JiYgzVQ%2BIFAADc1t69e9WwYUOtW7dOtWrVuua6KSkpuv3221WjRg3bWFRUlHbt2mVbHh0dbVvm6%2BurNm3a2JYbQeIFAAAMqajEKzMzU1lZWXZjgYGBCgoKMr3v2NhYxcbGGlo3KyurzHPWr19fJ0%2BeNLTcCBqva2nZ0tUVOFRmZqaSFizQgAEDFNSkiavLcZhIVxfgYJmZmVqwIKn0fXLAL51KI/J5V1fgUHb/ntzpfXrefd4n23v06afu9R650A2cynRDFixIUmJiot1YXFyc4uPjr7ttfn6%2BMjIyyl0WGBhol15dT15enry8vOzGvLy8VFhYaGi5ETRet5CsrCwlJiYqNjaWX0KVGO9T1cD7VPnxHlUdAwYMKJNKBQYGGto2JSVFQ4cOLXfZwoUL1b17d8N1eHt768yZM3ZjhYWF8vHxsS3/dZNVWFh43XPHrkTjBQAAXCooKOimm%2BOYmBjt27fPIXUEBwcrLS3Nbiw7O9tWW3BwsLKzs8ssb926teHn4OR6AAAASREREdq7d6/y8/NtY8nJyYqIiLAtT05Oti3Ly8vTTz/9ZFtuBI0XAAC4ZeXk5OjChQuSpI4dO6phw4ZKSEjQ/v37tWjRIu3evVv9%2BvWTJD3yyCPasWOHFi1apP379yshIUGhoaGGbyUh0XjdUgIDAxUXF2d43hyuwftUNfA%2BVX68RzCiX79%2BWrJkiSSpWrVqeuONN5SVlaW%2Bffvqk08%2B0cKFCxUSEiJJCg0N1YIFC7Ru3Tr169dPZ86c0cKFC2WxWAw/n8V6I7dbBQAAwE0j8QIAAHASGi8AAAAnofECAABwEhovAAAAJ6HxAgAAcBIaLwAAACeh8QIAAHASGi8AAAAnofECAABwEhovAAAAJ6HxcnOnT59WRkaGzp075%2BpSAMClcnJyXF0CQOPljj7//HMNHTpU7dq101133aVu3bopJiZGkZGRGjJkiDZv3uzqEoEqobCwULNnz1bXrl3Vvn17xcXFKT093W6d7OxstW7d2kUV4tdat25dboN17Ngx3XvvvS6oCLDn6eoC4FhLly5VYmKiRo4cqbi4ONWvX19eXl4qLCxUdna2fvjhBz333HN6%2BumnNWTIEFeXe8v6/vvvDa/boUOHCqwE1/L666/ryy%2B/1MSJE2W1WrVy5Uo98sgjmjNnjrp3725bz2q1urBKfPTRR1q/fr2k0vdizJgxql69ut06mZmZCgwMdEV5gB2Lld8YbqVLly566aWX7D4Ufm3z5s2aPn26tm7d6sTKcKWHHnpIaWlpkq79oW2xWPTzzz87qyz8SteuXfX6668rKipKUul7NWvWLK1YsUKzZ89Wz549lZ2drS5duvA%2BudCFCxe0dOlSSVJiYqIef/xx1axZ026dGjVqqEePHmrcuLErSgRsSLzcTH5%2BvkJDQ6%2B5TnBwsM6fP%2B%2BkilCedevWady4cTp69KiSkpLk7e3t6pJQjvz8fPn7%2B9seWywWTZo0SR4eHpowYYI8PT0VGRnpugIhSapZs6bi4uIkSY0aNdKDDz4oSfLy8pIkHT9%2BXCEhIS6rD7gS53i5mR49eui5557TDz/8oOLiYrtlJSUl2rFjhyZPnqz777/fRRVCKv1AeP311yVJc%2BfOdXE1uJqYmBjNmjWrzDlDEyZM0IABA/TMM8/ovffec1F1KE%2BHDh00aNAgzZs3zzb2yCOPaMCAATp58qQLKwNKMdXoZrZs2aJ//etf%2BuSTT3Tp0iX5%2B/vbzvE6c%2BaMqlWrpt69eyshIUE%2BPj6uLveW9c0336hDhw46cuSIvv/%2Be/3xj390dUkox0cffaRly5YpNTVV77zzju666y675YmJiXrzzTdVUlLCVGMlMXLkSNWsWVMvvvii6tevL6n06u6XXnpJRUVFevPNN11cIW51NF5uJjIyUps2bVKdOnXUsWNHzZo1S0VFRfL29lZwcLBat25Nw1UJREZG6p///KcaNGige%2B%2B9V2vXrlXdunVdXRZ%2B5fK/p4sXL2rgwIH67LPPyrxP6enp2rJli0aNGuWiKnGlyMhIffzxx2rSpInd%2BMGDB/XII49ox44dLqoMKMU5Xm6mdu3aeuONN9S%2BfXtdunRJOTk58vPzU35%2Bvg4fPqzDhw/b1u3du7frCr3F1a5dWwsXLlT79u117Ngxbdy4UX5%2BfuWuy/vkOlf%2Bezp37txV36egoCAXVIfy1K1bVz/99FOZxuvAgQNX/TcGOBOJl5vZsmWLFixYoPPnz%2Bv48eMKDg6Wh0fZU/ksFou2bNniggoh8T5VFbxPVc/SpUv1xhtvaPjw4WrTpo0kKTU1Ve%2B%2B%2B65GjBhBMgmXo/FyY7GxsVq3bh1TWJUc71PVwPtUdaxevVoffPCBDh48KE9PT912220aMmSIHn74YVeXBtB4AQAAOAvneAEA3EZiYuI1l1%2B%2B3xfgKjReAAC3sW3bNrvHly5d0tGjR3Xu3DnuX4hKgcYLAOA2VqxYUe743/72N1ksFidXA5TFOV4AALd35MgR9e3b94b%2BQD1QEfiTQQAAt7d161b%2BJioqBaYaAQBuIzY2tsyU4oULF3T27FlNmjTJRVUB/8NUIwDAbaxfv96u8bJYLKpevbruuOMO3XbbbS6sDChF4wUAAOAkTDUCAKq0IUOGGL5icfny5RVcDXBtNF4AgCotJibG9vPp06eVlJSk7t27q23btqpevbp%2B/vlnbdq0SYMHD3ZhlUApphoBAG5j%2BPDhuu%2B%2B%2BzRo0CC78fXr1yspKUlJSUkuqgwoxe0kAABuY9euXfrtb39bZjwiIkL79u1zQUWAPRovAIDbuP3227Vo0SIVFBTYxnJzczV//ny1a9fOdYUB/8VUIwDAbaSnp2vUqFE6e/asbrvtNlmtVh06dEghISF666231KhRI1eXiFscjRcAwK0UFhbq22%2B/VVpamiSpZcuWuuuuu%2BTpyfVkcD3%2BKwQAuBUvLy95enqqevXqKikpkdVqFRkDKgsaLwCA2zh58qRGjx6tgwcPqlmzZrp06ZIOHz6skJAQLV26VMHBwa4uEbc4phoBAG7jz3/%2Bs4qLizVnzhzVqVNHUum9vSZMmKAaNWpo/vz5Lq4QtzoaLwCA24iMjFRSUpLCwsLsxlNTUzV48GAlJye7qDKgFLeTAAC4jTp16ujs2bNlxs%2BdO6fq1au7oCLAHo0XAMBtPPjgg3r%2B%2Bef17bffKjc3V7m5ufrmm2/0wgsvqFevXq4uD2CqEQDgPgoLC/Xiiy/qk08%2BsV3JWK1aNfXv31%2BTJk2Sj4%2BPiyvErY7GCwDgNn744Qe1bdtWBQUFOnTokLy8vNSkSRPVqFHD1aUBkmi8AABuJCYmRsuWLVN4eLirSwHKxTleAAC30bJlS%2B3evdvVZQBXReIFAHAbY8aM0ZYtWxQQEKDQ0FB5eXnZLV%2B%2BfLmLKgNKced6AIDbaN26tVq3bi2r1aozZ87IYrHI39/f1WUBNiReAAC3cenSJc2fP19r1qxRTk6OJCk4OFiDBw/WqFGjXFwdQOIFAHAjr776qj777DONHz9ed9xxh0pKSvTjjz9q/vz5KiwsVFxcnKtLxC2OxAsA4DY6dOighQsXqmPHjnbj//nPfzR%2B/Hj95z//cVFlQCmuagQAuA1fX99y/zRQ7dq1ZbFYXFARYI/GCwDgNiZOnKjJkyfryy%2B/1JkzZ5Sbm6sffvhBL7zwgoYNG6bjx4/bvgBXYKoRAOA2rrxx6uWE68qPOYvFIqvVKovFop9//tnp9QE0XgAAt3Hs2DHD6zZq1KgCKwHKR%2BMFAADgJJzjBQAA4CQ0XgAAAE5C4wUAAOAkNF4AAABOQuMFAADgJDReAAAATkLjBQAA4CT/H/CFfnTbDGoAAAAAAElFTkSuQmCC\" class=\"center-img\">\n",
       "    <img src=\"data:image/png;base64,iVBORw0KGgoAAAANSUhEUgAAAl4AAAISCAYAAAAdu8GRAAAAOXRFWHRTb2Z0d2FyZQBNYXRwbG90bGliIHZlcnNpb24zLjUuMywgaHR0cHM6Ly9tYXRwbG90bGliLm9yZy/NK7nSAAAACXBIWXMAAA9hAAAPYQGoP6dpAABKfklEQVR4nO3deXhU9dnG8XtCVggQCEkgBGUpIQExhISlCgUjqLhUQJBGZRERqyTQiiyBqigiCqiXEKRABVmkRhaXIr60UEqrVdAEQlGCEBZZswFhyUbIvH%2BkmTImwIEzmUnG7%2Be65krmd5Z55oxkHu/fmTMWq9VqFQAAAKqdh6sLAAAA%2BLmg8QIAAHASGi8AAAAnofECAABwEhovAAAAJ6HxAgAAcBIaLwAAACeh8QIAAHASGi8AAAAn8XR1AQDsZWRkaM2aNfrqq6%2BUlZWl4uJiNW7cWG3btlXv3r01aNAg%2Bfr6urpMAMANsPCVQUDNMXfuXC1YsEBlZWXy9/fXTTfdJC8vL%2BXk5Oj48eOSpGbNmmn%2B/Pnq0KGDi6sFAFwvGi%2Bghli7dq2mTJmiunXraubMmerbt6/q1KljW56ZmakpU6Zo586datSokTZs2KDGjRu7sGIAwPXiHC%2BghvjjH/8oSZo4caLuueceu6ZLktq0aaMFCxYoMDBQp0%2Bf1vLly11RJgDABBovoAbIz8/Xjz/%2BKEmKioq64nqNGzdWnz59JEm7du1ySm0AAMfh5HqgBvD0/N8/xS1btqh9%2B/ZXXDcxMVHDhg1TYGCgbWzy5Mn66KOPlJSUpJ49e%2BrNN9/Ut99%2Bq5KSEt18880aMGCAfvOb38jHx6fKfX7zzTdasWKF0tLSdObMGTVo0ECdOnXS0KFD9ctf/rLKbc6ePasPPvhAW7du1f79%2B3X%2B/Hn5%2Bfnppptu0h133KFhw4apYcOGdtu0a9dOkvTll1/qtdde0%2BbNm%2BXh4aEOHTpoyZIl%2BsMf/qCPPvpIr7zyimJjY5WcnKyvv/5a586dU1hYmAYPHqwRI0bIYrHor3/9q5YtW6Y9e/aorKxMERERevrpp9WrV69KtRYVFWnt2rXatGmT9u7dq7Nnz8rb21uhoaHq0aOHHn/8cYWEhNhtExcXp2PHjmnDhg3Ky8vTn/70J6Wnp6ugoEBhYWHq16%2BfnnjiCdWrV%2B%2BKrxUA/BTneAE1RHx8vNLS0mSxWNS/f3899NBD6ty5c6Upx6pUNF4DBw7Uxo0bVVBQoLZt26q0tFQHDhyQJMXExGjhwoWqX7%2B%2B3bZz5szR4sWLJUkNGzZUWFiYsrOzlZOTI0l68skn9dxzz9ltc%2BjQIY0YMUInTpyQp6enbrrpJvn5%2BenYsWM6c%2BaMJKlVq1Zau3atXWNS0Xh17txZO3bsUHh4uE6dOqVu3brpjTfesHsen3/%2BuUpLS9WmTRvl5eXZ6hk9erQsFosWLlyoBg0aqEWLFjp48KAKCgpksVi0aNEi/epXv7I95qlTpzR8%2BHD98MMPslgsuummm1S/fn1lZWXZ9hkYGKh169apadOmtu0qGq/HH39c7733nry9vdWyZUvl5%2Bfr5MmTkqTo6GitWrVKHh5MHgAwyAqgRvjuu%2B%2BsnTp1soaHh9tunTt3tj755JPWhQsXWnfu3Gm9dOlSldtOmjTJts0dd9xh/f77723L0tLSrLfddps1PDzc%2Bvzzz9tt9%2Bc//9kaHh5ujY2NtX7yySe28bKyMutnn31mq%2BfDDz%2B02%2B6xxx6zhoeHWx9%2B%2BGFrVlaW3XYfffSRNSIiwhoeHm5duXKl3XYVNd5yyy3W7du3W61Wq/XSpUvW06dPV3oe8fHx1uzsbNs6kydPtoaHh1sjIiKs7dq1s7777ru243Hq1Clr//79reHh4dbHHnusymPTt29f68GDB%2B2W/fOf/7RGRUVZw8PDra%2B99prdsjvuuMNWy%2BTJk61nz561PceVK1falv3tb3%2Br8jUBgKrwv2lADdG%2BfXutXr1aMTExtrHz589r69ateuONN/Twww%2BrR48eeuutt1RYWFjlPjw8PPTOO%2B8oMjLSNhYdHa3XX39dkrR69WplZWVJkkpKSjRv3jxJ0quvvqpf//rXtm0sFovuvfdeTZgwQZI0b948lZaWSpJyc3O1b98%2BSdL06dMVHBxst13//v3VtWtXSdLevXurrLNfv37q0qWLreaAgAC75Z6ennrzzTcVFBRkW2f06NGSpLKyMj344IMaOXKkLWlq1KiRhg0bJkn6/vvvbfu5ePGivvnmG1ksFiUlJally5Z2j9OzZ0/de%2B%2B9kqQffvihylojIiL06quv2pJCi8WiRx99VOHh4ZKk1NTUKrcDgKrQeAE1yC9%2B8QutWrVKH3/8sRISEhQdHS0vLy/b8ry8PP3xj3/Ur3/9a9t01%2BW6d%2B%2BuiIiISuM9evRQWFiYysrKtGXLFknSjh07lJubq3r16unOO%2B%2Bssp5f//rX8vDwUFZWlq2hadKkib7%2B%2Bmulp6fbmo/LXbp0Sf7%2B/pLKz62qyuXNZVXatWtnN%2B0nSc2bN7f9XtV5XBUN4Pnz521jXl5e2rx5s9LT09W7d%2B9K21itVtWtW/eqtfbu3VsWi6XSeJs2bSRJ586du%2BpzAYDLcXI9UANFRkYqMjJSiYmJKiwsVFpamr744gt98sknysvL048//qhx48YpJSXFbrtbb731ivts166djh49qkOHDkmSLbW6ePGiHn300StuV6dOHZWVlenAgQN2%2B/f19dWxY8f0n//8Rz/%2B%2BKOOHDmizMxM7dmzRwUFBZLK06mqVCRZV9KsWbNKY97e3rbfGzVqVGn55R9Q%2BCkfHx/l5uYqPT1dhw4d0tGjR3XgwAHt2bNH%2Bfn5V6318kTvchXfHnDp0qUrPxEA%2BAkaL6CG8/Pz0%2B23367bb79d48aN05QpU/TZZ59p586d%2Bu677%2ByuYP/TTxFeriLZOXv2rKT/JTUlJSVKS0u7Zh0V20nSgQMH9OKLL2r79u126/j7%2Bys2NlbZ2dnKyMi44r6u9ZVHfn5%2BV11%2BPSez5%2BTkaNq0afr73/9u11z5%2BfmpY8eOunTp0lWnCy9v%2BKpi5fNJAK4DjRdQA7zwwgv6%2BuuvNWDAAD399NNXXM/X11cvv/yy/vrXv%2BrixYs6ePCgXeNVkTRVpWIKruIyFBXNTYcOHbRu3TrDtebl5emxxx5TXl6eQkND9fDDD6t9%2B/Zq3bq1wsLCZLFYNH78%2BKs2Xs5SXFys4cOHKzMzUwEBAYqPj9ctt9yiNm3a6KabblKdOnX01ltvcZ4WAKeh8QJqgOLiYh0%2BfFibNm26auMlladK9erV05kzZyp9ZVDF9GFVKhqhX/ziF5LKL/cglV8aorS0tMqpOqvVqm3btqlp06YKDQ2Vt7e31q5dq7y8PAUEBGjt2rVVfm1RxQn8rrZp0yZlZmbK09NTKSkplU6ul1TluXIAUF04uR6oASo%2BUbh79%2B5rpk9ffPGFzpw5o4CAgEpXud%2B6davt2lSX27Jli06cOCFvb2/FxcVJkrp06aL69evrwoULV3zMv/zlLxo%2BfLj69etna1COHj0qSQoNDa2y6dq/f7927twpyfXnP1XUWq9evSqbrtzcXP3jH/%2BQ5PpaAfw80HgBNcDtt9%2Buu%2B%2B%2BW5L0hz/8QTNmzLA1DRWKi4u1du1a/e53v5Mk/e53v6t01fTCwkI988wzOnHihG1s27ZtSkpKklR%2B8dGKyyLUrVvXdomGGTNmaO3atXbnQG3atEkvvviipPLLP9x0002SpNatW0sqT9A2btxoW99qteqf//ynRo0apYsXL9rqcaWKWvPz87Vs2TK787F27typxx9/3HbBV1fXCuDngalGoIaYM2eO6tatq48//ljLly/X8uXLFRoaqsDAQBUXF%2BvQoUMqKSmRl5eXxo8fr/j4%2BEr7aNmypfbs2aM%2BffooPDxcBQUFtk8x3n///Xrqqafs1n/yySd15MgRffjhh5oyZYpmz56tsLAwZWVlKTs7W1L5pR9mzJhh22bQoEFatWqVDh8%2BrLFjx6p58%2BZq1KiRTpw4oby8PHl5ealr167avn27y6cc4%2BLiFB0drR07dujVV1/V4sWLFRISopycHGVlZclisei2227Tv//9b2VnZ8tqtVZ56QgAcBQaL6CG8Pb21muvvaZHH31UGzZs0LZt25SVlaWMjAz5%2BfmpVatW6tGjhwYNGmRLcn6qY8eOmjNnjubOnavU1FR5enqqa9euio%2BPt10o9HIWi0XTp0/X3XffrQ8%2B%2BEA7d%2B7Unj175OPjo06dOun%2B%2B%2B/XkCFD7D7Z5%2B/vrzVr1mjx4sXasmWLjh49qtzcXDVt2lS9e/fW8OHDVbduXfXp00cZGRk6fvy4QkNDq%2B24XU2dOnW0bNkyLV%2B%2BXJ999pmOHDmiH374QUFBQbr33nv12GOPqX379urWrZvOnDmjtLS0a15jDADM4LsaATdQ8R2HDzzwgObMmePqcgAAV8A5XgAAAE5C4wUAAOAkNF4AAMAtlJSU6P7779e2bduuuM7333%2BvwYMHKyoqSg899JB2795tt3z9%2BvXq06ePoqKiNGbMGJ06dcqhNdJ4AQCAWq%2B4uFjPPvvsVS8kXVBQoNGjRys2Nlbr1q1TdHS0nnrqKdu3fuzatUtTp05VQkKCUlJSdPbsWdvleByFk%2BsBAECttn//fo0fP15Wq1V79%2B7V8uXL1a1bt0rrrVmzRgsWLNCmTZtksVhktVp1991367e//a0GDhyoiRMnysPDQ6%2B99pok6cSJE7rjjjv0t7/9TS1atHBIrSReAACgVtu%2Bfbu6deumlJSUq66Xnp6umJgY2/X6LBaLOnfubPu2jfT0dMXGxtrWb9asmUJDQ5Wenu6wWrmOFwAAcKns7OxKX3cWFBSk4OBgQ9s/8sgjhtbLycmxfV9thcDAQNv0ZHZ2dqXHDAwMdOh3utJ4XY27XcG6VStp3z6pbVvp4EFXV%2BMwM191r9nygADpqaekhQul/36bjVuYPNnVFcAIyyH3%2BdsgT08pLEw6elQqLXV1NY713y%2B5d7pqel9MmTtXycnJdmMJCQlKTEx06OMUFhbaXRBaKr94dUlJiSSpqKjoqssdgcbr5yQgQKpTp/wnaiwfH8nDo/wnajaLReIs2RrMw6P8RfLgrBqHqaZjOWTIEMXFxdmNBQUFOfxxfHx8KjVRJSUl8vX1vepyPz8/h9VA4wUAAFwqODjY8LSiGSEhIcrNzbUby83NtT32lZY7sgnkfwMAAIAxHh7Vc3OSqKgo7dixQxUXdLBarUpLS1NUVJRteWpqqm39EydO6MSJE7bljkDjBQAA3FZOTo6KiookSffcc4/Onj2rGTNmaP/%2B/ZoxY4YKCwvVr18/SVJ8fLw%2B%2BeQTrV69WhkZGZo4caJ69%2B7tsEtJSDReAADAqFqYePXo0UMbNmyQJPn7%2B2vhwoVKTU3VwIEDlZ6erkWLFqlu3bqSpOjoaL388suaP3%2B%2B4uPj1bBhQ82cOdOh9XCOFwAAMKYWfFBh7969V71/66236qOPPrri9gMHDtTAgQOrpTaJxAsAAMBpSLwAAIAxtSDxquk4ggAAAE5C4gUAAIwh8TKNxgsAABhD42UaRxAAAMBJSLwAAIAxJF6mcQQBAACchMQLAAAYQ%2BJlGo0XAAAwhsbLNI4gAACAk5B4AQAAY0i8TOMIAgAAOAmJFwAAMIbEyzQaLwAAYAyNl2kcQQAAACch8QIAAMaQeJlG4wUAAIyh8TKNIwgAAOAkJF4AAMAYEi/TOIIAAABOQuIFAACMIfEyjcYLAAAYQ%2BNlGkcQAADASUi8AACAMSRepnEEAQAAnITECwAAGEPiZRqNFwAAMIbGyzSOIAAAgJOQeAEAAGNIvEzjCAIAADgJiRcAADCGxMs0Gi8AAGAMjZdpHEEAAAAnIfECAADGkHiZxhEEAABwEhIvAABgDImXaTReAADAGBov0ziCAAAATkLiBQAAjCHxMo0jCAAA4CS1NvHavHmzXnrpJeXn5%2BuNN97Q3//%2Bd/31r3%2BVr6%2BvRo4cqZEjR7q6RAAA3EsNTbyKi4v10ksvXbMPGDp0qLZv315pfODAgZo5c6by8/PVtWtXu2UBAQHatm2bw2qttY3X3Llz1aNHD40ZM0YLFizQ7t27tWzZMh0/flyTJk1SaGio7rnnHleXCQCA%2B6ihjdesWbMM9QHz5s3TxYsXbffT09P1u9/9To888ogkaf/%2B/QoICND69ett63g4%2BDnX2sbr3LlziomJUaNGjfTpp59q8eLF6tChgzp06KB9%2B/bp/fffp/ECAMDNFRQUaPXq1Yb6gICAANvvly5d0ltvvaVRo0apY8eOkqQDBw6oVatWCgoKqrZ6a2breg1xcXE6duyYpkyZoq5du6q0tFTR0dG25TExMUpPT1dZWZkLqwQAwM14eFTPzYSMjIwb6gPWrVun/Px8Pfnkk7ax/fv3q2XLlqbquZZamXitWbNGAwYM0MiRIxUUFKQZM2bI29vbtrxJkyYqLi7WmTNn1LhxY0P7zM7OVk5Ojt1YUKtWCr6sO671IiLsf7qJkBBXV%2BBYgYH2PwGnuuxvaa3n5WX/012UlLi6Aoer8j04KEjBwcHX3DYnJ0eNGjW6rj7AarXqT3/6k4YNG6Z69erZxjMzM1VaWqpBgwYpKytLsbGxSkpKMlSHUbWy8WrcuLHq1Kmj%2BvXrq6SkxO5gS7LdL7mO/zhTUlKUnJxsN5YwbpwSx40zX3BNs2qVqytwKHf9GMWDD7q6Ahhhsbi6Agdr3tzVFTieA980a4SDB1332NV0jleV78EJCUpMTLzmtoWFhdfdB2zbtk0nT57Uww8/bDd%2B4MABNW7cWElJSbJarXrrrbf029/%2BVqtXr1adOnWu5yldUa1svC7n4%2BNT6cBW3Pf19TW8nyFDhiguLs5uLOiBB6Rly8wXWVNERJQ3XY88ImVkuLoah1mSkObqEhwqMLC86frkEykvz9XVOM7jj7u6AsezWCSr1dVVOJbl%2BDFXl%2BA4Xl7lTVd2tnTZCdUwoZoaryrfgw2eZ3UjfcDGjRv1q1/9yu6cL0n67LPPZLFYbNtVfJAvPT1dnTt3NlTPtdT6xiskJESnT59WaWmpPD3Ln05OTo58fX3VoEEDw/sJDg6uHCW68v8qqlNGhrRjh6urcJisLFdXUD3y8tz3uaEGc8NpLF286J7Py41U%2BR5s0I30Af/617%2BUkJBQadzPz8/ufmBgoAICApTlwD/GtfLk%2BstFRkbK09NTO3futI2lpqaqY8eODv8IKAAAP2s18OT66%2B0DTp06pSNHjigmJsZu/Pz58%2BrSpYu%2B/vpr21hWVpZOnz6t1q1bm6rxcrW%2BM/Hz81P//v01bdo07dq1S5s2bdKSJUs0bNgwV5cGAACq2bX6gJycHBUVFdnW37dvn3x8fBQWFma3H39/f8XExGjmzJnatWuXvvvuO/3%2B979Xz5491a5dO4fVW%2BsbL0lKSkpShw4dNHz4cL300ktKTEzUXXfd5eqyAABwLzUw8ZKu3gf06NFDGzZssK2bl5enBg0ayFLFJ2Nef/11tW/fXqNHj9bQoUPVvHlzzZkzx3R9l7NYre52aqgDudvHlaKjpbQ0qXNntzrHa%2Bar7vWfcEiINHKktGSJe53jNXmyqytwPLc8uf6QG53b6u1d/inNY8fc7xyvVq1c87j9%2BlXPfj//vHr2WwO5ReIFAABQG9T6TzUCAAAn4UNrpnEEAQAAnITECwAAGEPiZRqNFwAAMIbGyzSOIAAAgJOQeAEAAGNIvEyj8QIAAMbQeJnGEQQAAHASEi8AAGAMiZdpHEEAAAAnIfECAADGkHiZRuMFAACMofEyjSMIAADgJCReAADAGBIv0ziCAAAATkLiBQAAjCHxMo3GCwAAGEPjZRpHEAAAwElIvAAAgDEkXqZxBAEAAJyExAsAABhD4mUajRcAADCGxss0jiAAAICTkHgBAABjSLxM4wgCAAA4CYkXAAAwhsTLNBovAABgDI2XaRxBAAAAJyHxAgAAxpB4mcYRBAAAcBISLwAAYAyJl2k0XgAAwBgaL9M4ggAAAE5C4gUAAIwh8TKNIwgAAOAkJF4AAMAYEi/TaLwAAIAxNF6mcQQBAACchMQLAAAYQ%2BJlGkcQAADASWi8AACAMR4e1XMzqbi4WFOmTFFsbKx69OihJUuWXHHdp59%2BWu3atbO7bdmyxbb8vffeU8%2BePRUdHa0pU6aosLDQdH2XY6oRAAAYU0OnGmfNmqXdu3dr2bJlOn78uCZNmqTQ0FDdc889ldbNzMzU7Nmz9ctf/tI21rBhQ0nSxo0blZycrNmzZyswMFBJSUmaPXu2XnjhBYfVWjOPIAAAgAEFBQVavXq1pk6dqg4dOqhv374aNWqU3n///UrrlpSU6OjRo%2BrYsaOCgoJsN29vb0nS8uXLNXz4cN1xxx269dZb9dJLL2nt2rUOTb1ovAAAgDE1cKoxIyNDpaWlio6Oto3FxMQoPT1dZWVlduseOHBAFotFLVq0qLSfS5cu6T//%2BY9iY2NtY506ddLFixeVkZFhqsbLMdV4FTNftbq6BIcKCZFGSlqSkKasLFdX4zhJUyyuLsGxoqOlkWkamdxZ2rHD1dU4zuSya69T61hkkXv9nUg/28rVJTiMn58ULumHC83l4NN0XC7K1QU4WHZ2tnJycuzGgoKCFBwcfM1tc3Jy1KhRI1tqJUlNmjRRcXGxzpw5o8aNG9vGDxw4IH9/f02cOFHbt29X06ZNlZiYqF69euns2bMqLi62e0xPT08FBATo5MmTDniW/92nw/YEAADcWzWd45WSkqLk5GS7sYSEBCUmJl5z28LCQrumS5LtfklJid34gQMHVFRUpB49emj06NH629/%2BpqefflopKSlq0qSJ3baX7%2Bun%2BzGDxgsAABhTTY3XkCFDFBcXZzcWFBRkaFsfH59KjVHFfV9fX7vxZ555RkOHDrWdTB8REaHvvvtOH374oX7/%2B9/bbXv5vvz8/Iw/mWug8QIAAC4VHBxsaFqxKiEhITp9%2BrRKS0vl6Vne1uTk5MjX11cNGjSwW9fDw8PWdFVo3bq19u/fr4CAAPn4%2BCg3N1dt2rSRJJWWlurMmTOGm0AjOLkeAAAYUwNPro%2BMjJSnp6d27txpG0tNTVXHjh3l8ZN9T548WUlJSXZjGRkZat26tTw8PNSxY0elpqbalu3cuVOenp6KiIgwVePlaLwAAECt5efnp/79%2B2vatGnatWuXNm3apCVLlmjYsGGSytOvoqIiSVJcXJz%2B8pe/6OOPP9bhw4eVnJys1NRUPfbYY5KkRx55RO%2B%2B%2B642bdqkXbt2adq0aXr44YeZagQAAC5QQy%2BgmpSUpGnTpmn48OHy9/dXYmKi7rrrLklSjx49NHPmTA0cOFB33XWXXnzxRS1YsEDHjx9X27Zt9ac//UlhYWGSpPvuu0/Hjh3TCy%2B8oJKSEt11112aMGGCQ2ul8QIAAMbU0MbLz89Pr7/%2Bul5//fVKy/bu3Wt3f/DgwRo8ePAV9zV69GiNHj3a4TVWqJlHEAAAwA2ReAEAAGNqaOJVm9B4AQAAY2i8TOMIAgAAOAmJFwAAMIbEyzSOIAAAgJOQeAEAAGNIvEyj8QIAAMbQeJnGEQQAAHASEi8AAGAMiZdpHEEAAAAnIfECAADGkHiZRuMFAACMofEyjSMIAADgJCReAADAGBIv0ziCAAAATkLiBQAAjCHxMo3GCwAAGEPjZRpHEAAAwElIvAAAgDEkXqZxBAEAAJyExAsAABhD4mUajRcAADCGxss0jiAAAICTkHgBAABjSLxM4wgCAAA4CYkXAAAwhsTLNBovAABgDI2XaRxBAAAAJyHxAgAAxpB4mcYRBAAAcBISLwAAYAyJl2k0XgAAwBgaL9M4ggAAAE5C4gUAAIwh8TKNIwgAAOAkJF4AAMAYEi/TaLwAAIAxNF6mcQQBAACchMQLAAAYQ%2BJlGkcQAADASWpt47V582b96le/UlRUlP71r39JkkpKSnT//fdr27ZtLq4OAAA35OFRPTeTiouLNWXKFMXGxqpHjx5asmTJFdf9xz/%2BoQcffFDR0dF64IEHtHnzZrvlsbGxateund3twoULpmusUGunGufOnasePXpozJgxCgwMVHFxscaPH699%2B/a5ujQAANxTDZ1qnDVrlnbv3q1ly5bp%2BPHjmjRpkkJDQ3XPPffYrZeRkaGEhARNnDhRvXr10hdffKFx48ZpzZo1ioiIUFZWls6dO6dNmzbJ19fXtl3dunUdVmutbbzOnTunmJgYNW/eXPv379f48eNltVpdXRYAAHCigoICrV69WosXL1aHDh3UoUMH7du3T%2B%2B//36lxmv9%2BvXq3r27hg0bJkm6%2Beab9fe//12ff/65IiIilJmZqaCgILVo0aLa6q2VjVdcXJyOHTumKVOmaP78%2BRo1apS6deum3//%2B9%2BrUqdMN7TM7O1s5OTl2Y15eQWrcONgBFdcMgYH2P91GdLSrK3CsiAj7n4AT%2Bfm5ugLH8fGx/%2BkuCgtd%2BODVlHhV9R4cFBSk4OBrvwdnZGSotLRU0Ze9F8TExOiPf/yjysrK5HFZzQMGDNDFixcr7ePcuXOSpP3796tVq1Y3%2BjQMqZWN15o1azRgwACNHDlSDzzwgBo3bmx6nykpKUpOTrYbGzMmQSNHJpred03z4IOursDBRqa5uoLqsWqVqyuAERaLqytwqPBwV1fgeDff7OoKHCs93YUPXk2NV1XvwQkJCUpMvPZ7cE5Ojho1aiRvb2/bWJMmTVRcXKwzZ87Y9Qht2rSx23bfvn366quv9Jvf/EaSlJmZqcLCQg0dOlQHDx5UZGSkpkyZ4tBmrFY2Xo0bN1adOnVUv359hzRdkjRkyBDFxcXZjX3%2BeZCucn5erRMYWN50ffKJlJfn6mocZ2RyZ1eX4FgREeVN1yOPSBkZrq7GcVJTXV2B41kskpud4vDDPvdpJH18ypuuw4el4mJXV4Orqeo9OCgoyNC2hYWFdk2XJNv9kpKSK2536tQpJSYmqnPnzrrzzjslSQcOHFB%2Bfr6effZZ%2Bfv7a/HixRoxYoQ%2B%2B%2Bwz%2Bfv7X89TuqJa2XhVh%2BDg4EqR5qefSllZLiqoGuXludnz2rHD1RVUj4wM931uqLFcOo1VTYqL3fN5uUQ1JV5VvQcb5ePjU6nBqrh/%2BQnyl8vNzdXjjz8uq9WquXPn2qYj3333XV28eFH16tWTJM2ZM0e9evXSli1b9MADD9xQfT9F4wUAAGqtkJAQnT59WqWlpfL0LG9rcnJy5OvrqwYNGlRaPysry3Zy/fLly%2B1mzry9ve3SMx8fH4WFhSnLgWlFzfxcKAAAqHlq4HW8IiMj5enpqZ07d9rGUlNT1bFjR7sT66XyT0COGjVKHh4eWrlypUJCQmzLrFar%2BvTpo3Xr1tmtf/jwYbVu3dpUjZcj8QIAAMbUwOt4%2Bfn5qX///po2bZpeffVVZWdna8mSJZo5c6ak8vSrfv368vX11cKFC/Xjjz9qxYoVtmVS%2BZRk/fr11bt3b82bN0/NmzdX48aN9fbbb6tp06bq1auXw%2Bql8QIAALVaUlKSpk2bpuHDh8vf31%2BJiYm66667JEk9evTQzJkzNXDgQG3cuFFFRUUaPHiw3fYDBgzQa6%2B9pgkTJsjT01Pjx4/X%2BfPn1b17dy1atEh16tRxWK0WK1cdvaL/NstuIyREGjlSWrLEvU6uT5riPp/CklR%2BXbK0NKlzZ/c6ub6szNUVOJ4bfqoxfZf7/Hvy8yu/PMYPP7jfyfVRUS564Or6Sr5u3apnvzVQzcsMAQAA3BRTjQAAwJgaeI5XbUPjBQAAjKHxMo0jCAAA4CQkXgAAwBgSL9M4ggAAAE5C4gUAAIwh8TKNxgsAABhD42UaRxAAAMBJSLwAAIAxJF6mcQQBAACchMQLAAAYQ%2BJlGo0XAAAwhsbLNI4gAACAk5B4AQAAY0i8TOMIAgAAOAmJFwAAMIbEyzQaLwAAYAyNl2kcQQAAACch8QIAAMaQeJnGEQQAAHASEi8AAGAMiZdpNF4AAMAYGi/TOIIAAABOQuIFAACMIfEyjSMIAADgJCReAADAGBIv02i8AACAMTRepnEEAQAAnITECwAAGEPiZRpHEAAAwElIvAAAgDEkXqbReAEAAGNovEzjCAIAADgJiRcAADCGxMs0Gi8AAGAMjZdpHEEAAAAnIfECAADGkHiZxhEEAABwEhIvAABgDImXaTReAADAGBov0ziCAACgVisuLtaUKVMUGxurHj16aMmSJVdc9/vvv9fgwYMVFRWlhx56SLt377Zbvn79evXp00dRUVEaM2aMTp065dBaabwAAIAxHh7VczNp1qxZ2r17t5YtW6YXX3xRycnJ%2Br//%2B79K6xUUFGj06NGKjY3VunXrFB0draeeekoFBQWSpF27dmnq1KlKSEhQSkqKzp49q6SkJNP1XY7GCwAA1FoFBQVavXq1pk6dqg4dOqhv374aNWqU3n///UrrbtiwQT4%2BPpo4caLatGmjqVOnql69erYmbeXKlerXr5/69%2B%2BviIgIzZo1S1u3btWRI0ccVi%2BNFwAAMKaaEq/s7Gx99913drfs7GxDJWVkZKi0tFTR0dG2sZiYGKWnp6usrMxu3fT0dMXExMhisUiSLBaLOnfurJ07d9qWx8bG2tZv1qyZQkNDlZ6ebvLA/Q8n11/F5MmurqB6PP64qytwsMll116nNkpNdXUFjuVuJ%2BVGR0tpaVJMjLRjh6urcZiol192dQmO07SpFP6kwrculk6edHU1jhX1vEse1ipLtew3JSVFycnJdmMJCQlKTEy85rY5OTlq1KiRvL29bWNNmjRRcXGxzpw5o8aNG9ut%2B4tf/MJu%2B8DAQO3bt0%2BSlJ2dreDg4ErLTzrwvx8aLwAA4FJDhgxRXFyc3VhQUJChbQsLC%2B2aLkm2%2ByUlJYbWrVivqKjoqssdgcYLAAAYUlZNEwzBwcGVkiajfHx8KjVGFfd9fX0NrVux3pWW%2B/n53VBtVXGz7B8AAPychISE6PTp0yotLbWN5eTkyNfXVw0aNKi0bm5urt1Ybm6urem70nKj6ZsRNF4AAMCQsrLquZkRGRkpT09P2wnykpSamqqOHTvK4yfnlkZFRWnHjh2yWq2SJKvVqrS0NEVFRdmWp152fu2JEyd04sQJ23JHoPECAACG1MTGy8/PT/3799e0adO0a9cubdq0SUuWLNGwYcMkladfRUVFkqR77rlHZ8%2Be1YwZM7R//37NmDFDhYWF6tevnyQpPj5en3zyiVavXq2MjAxNnDhRvXv3VosWLcwVeRkaLwAAUKslJSWpQ4cOGj58uF566SUlJibqrrvukiT16NFDGzZskCT5%2B/tr4cKFSk1N1cCBA5Wenq5Fixapbt26kqTo6Gi9/PLLmj9/vuLj49WwYUPNnDnTobVarBV5GypxxyNjsbjf87LIzZ6Q5J4vlLteTqJzZ7e6nITc7XISTz4pLXbDy0k875rLSRQWVs9%2BHXjueo3nZn8JAQAAai4uJwEAAAyprstJ/JzQeAEAAENovMxjqhEAAMBJSLwAAIAhJF7mkXgBAAA4CYkXAAAwhMTLPBovAABgCI2XeUw1AgAAOAmJFwAAMITEyzwSLwAAACch8QIAAIaQeJlH4wUAAAyh8TKPqUYAAAAnIfECAACGkHiZR%2BIFAADgJCReAADAEBIv82i8AACAITRe5jHVCAAA4CQkXgAAwBASL/NIvAAAAJyExAsAABhC4mUejRcAADCExss8phoBAACchMQLAAAYQuJlHokXAACAk5B4AQAAQ0i8zKPxAgAAhtB4mcdUIwAAgJOQeAEAAENIvMyj8QIAAIbQeJnHVCMAAICTkHgBAABDSLzMI/ECAABwEhIvAABgCImXeTReAADAEBov85hqBAAAcBISLwAAYAiJl3kkXgAAAE5C4gUAAAwh8TKPxgsAABhC42VerZ1q3Lx5s371q18pKipKH330kcaOHauuXbuqZ8%2BemjlzpoqLi11dIgAAcDGr1ao5c%2Baoe/fu6tq1q2bNmqWyq3SQO3fu1G9%2B8xtFR0fr7rvv1urVq%2B2W//rXv1a7du3sbj/88IPhempt4jV37lz16NFDY8aM0ZgxYxQUFKT3339f%2Bfn5mjJlijw8PDRp0iRXlwkAgNuojYnX0qVLtX79eiUnJ6u0tFQTJkxQYGCgnnjiiUrr5uTk6Mknn1R8fLxee%2B01fffdd0pKSlJQUJB69%2B6tS5cu6dChQ1q5cqVatmxp265Ro0aG66m1ide5c%2BcUExOjoqIi7dmzRzNnzlTbtm0VGxursWPHav369a4uEQAAuNjy5cs1duxYxcbGqnv37nruuef0/vvvV7nupk2b1KRJEz377LNq2bKl7rvvPvXv319/%2BctfJElHjx7VxYsXdeuttyooKMh28/Q0nmPVysQrLi5Ox44d05QpU1S/fn396U9/UpMmTezWOX/%2B/HXtMzs7Wzk5OXZjTZoEKTg42HS9ACRFR7u6AseKiLD/6S6aNnV1BY4TGGj/012cPOmyh66uxKuq9%2BCgIPPvwVlZWTpx4oS6dOliG4uJidGxY8eUnZ1daf89e/ZUZGRkpf1U9BT79%2B9Xs2bN5OPjc8M11crGa82aNRowYIBGjhypBx54QI0bN7YtKysr08qVK9W9e/fr2mdKSoqSk5PtxsaMSdDYsYkOqbkmsVhcXYGjud0TKuduL1RamqsrqB6rVrm6AlzLwIGursCxpk932UNXV%2BNV1XtwQkKCEhPNvQdXNHOXN1gVQc3JkycrNV5hYWEKCwuz3c/Ly9Nnn31mqyMzM1NeXl566qmntHv3brVq1UoTJ07UrbfearimWtl4NW7cWHXq1FH9%2BvXtmi5Jmj17tr7//nutWbPmuvY5ZMgQxcXF2Y01aRIkq9V0uTWKxSL3e05ysyckuecLFRPj6gocKyKivOl65BEpI8PV1TjO00%2B7ugLHCQwsb7rWrZPy8lxdDa6iqvfgoKAgQ9sWFRUpKyurymUFBQWSJG9vb9tYxe8lJSXX3G9iYqKaNGmiIUOGSJIOHjyo/Px8DR48WGPHjtWHH36o4cOHa8OGDWrWrJmhemtl43Uls2fP1rJly/TWW28pPDz8urYNDg6u1Pm62/se4FI7dri6guqRkeFez82F01jVJi/PPZ%2BXC1RX4lXVe7BR6enpGjZsWJXLJkyYIKm8yaqYHqxouPz8/K64zwsXLuiZZ57RoUOHtGrVKtu606dPV1FRkfz9/SVJ06ZNU1pamj755BP99re/NVSv2zRe06dP15///GfNnj1bd999t6vLAQAATtCtWzft3bu3ymVZWVmaPXu2cnJybFOIFdOPV0rUzp8/r1GjRunHH3/UsmXL7D696OnpaWu6JMlisah169ZXTNyqUms/1Xi55ORkffDBB3rzzTd13333ubocAADcUllZ9dyqS0hIiEJDQ5WammobS01NVWhoaJUJW1lZmRISEnT06FGtWLFCbdu2tVs%2BdOhQu3PRysrKtHfvXrVu3dpwTbU%2B8crMzNQ777yj0aNHKyYmxu5TEUbnhwEAwLXVxut4xcfHa86cOWr630/svvHGGxo5cqRt%2BalTp%2BTj46N69eppzZo12rZtmxYsWKAGDRrYegovLy8FBAQoLi5O8%2BfPV2RkpFq1aqXly5fr3LlzGjBggOF6an3jtXnzZl26dEkLFizQggUL7JZdKXoEAAA/D0888YTy8vKUkJCgOnXqaNCgQRoxYoRt%2BaBBgzRgwAAlJiZq48aNKisr01NPPWW3j65du2rFihUaMWKEiouL9corryg3N1dRUVFaunSp3fTjtVisVk4hvxJ3PDLu%2BGE5PtVYS3i4xZkN/xMdXX6JjM6d3evk%2BpdfdnUFjtO0qfTkk9Lixe53cv3zz7vkYT//vHr2269f9ey3JnKzv4QAAAA1V62fagQAAM5RG8/xqmlovAAAgCE0XuYx1QgAAOAkJF4AAMAQEi/zSLwAAACchMQLAAAYQuJlHo0XAAAwhMbLPKYaAQAAnITECwAAGELiZR6JFwAAgJOQeAEAAENIvMyj8QIAAIbQeJnHVCMAAICTkHgBAABDSLzMI/ECAABwEhIvAABgCImXeTReAADAEBov85hqBAAAcBISLwAAYAiJl3k0XgAAwBAaL/OYagQAAHASEi8AAGAIiZd5JF4AAABOQuIFAAAMIfEyj8YLAAAYQuNlHlONAAAATkLiBQAADCHxMo/ECwAAwElIvAAAgCEkXubReAEAAENovMxjqhEAAMBJSLwAAIAhJF7mkXgBAAA4CYkXAAAwhMTLPBovAABgCI2XeUw1AgAAOAmJFwAAMITEyzwSLwAAACch8QIAAIaQeJlH4gUAAAwpK6ueW3WyWq2aM2eOunfvrq5du2rWrFkqu8qDvvLKK2rXrp3dbeXKlbbl69evV58%2BfRQVFaUxY8bo1KlT11UPiRcAAHBbS5cu1fr165WcnKzS0lJNmDBBgYGBeuKJJ6pcPzMzU%2BPHj9eAAQNsY/7%2B/pKkXbt2aerUqXrppZcUERGhGTNmKCkpSQsXLjRcD4kXAAAwpDYmXsuXL9fYsWMVGxur7t2767nnntP7779/xfUzMzPVvn17BQUF2W5%2Bfn6SpJUrV6pfv37q37%2B/IiIiNGvWLG3dulVHjhwxXA%2BNFwAAcEtZWVk6ceKEunTpYhuLiYnRsWPHlJ2dXWn98%2BfPKysrSy1btqxyf%2Bnp6YqNjbXdb9asmUJDQ5Wenm64JqYaAQCAIdWVTmVnZysnJ8duLCgoSMHBwab2W7HPy/fTpEkTSdLJkycr7T8zM1MWi0V//OMf9c9//lMBAQF6/PHHbdOO2dnZlbYJDAzUyZMnDddE43UVlkMHXV2CY3l7S82by3L8mFRS4upqHCb9bCtXl%2BBQfn5SeLj0wz6LCgtdXY3jRL38sqtLcKymTct/Pv20dB1/dGu8F15wdQWOEx0tPfmktGCBtGOHq6txrOefd8nDVlfjlZKSouTkZLuxhIQEJSYmXnPboqIiZWVlVbmsoKBAkuTt7W0bq/i9pIr3wQMHDshisah169Z67LHH9M033%2Bj555%2BXv7%2B/%2Bvbtq6KiIrt9Veyvqn1dCY0XAABwqSFDhiguLs5uLCgoyNC26enpGjZsWJXLJkyYIKm8yfLx8bH9Lsl23tbl%2BvfvrzvuuEMBAQGSpIiICB06dEh//vOf1bdvX/n4%2BFRqskpKSqrc15XQeAEAAEOqK/EKDg6%2B4WnFbt26ae/evVUuy8rK0uzZs5WTk6OwsDBJ/5t%2BrKqxs1gstqarQuvWrfX1119LkkJCQpSbm2u3PDc313CTKHFyPQAAcFMhISEKDQ1VamqqbSw1NVWhoaFVNnpvv/22RowYYTeWkZGh1q1bS5KioqLs9nXixAmdOHFCUVFRhmsi8QIAAIbUxivXx8fHa86cOWr63/My33jjDY0cOdK2/NSpU/Lx8VG9evV0xx13aNGiRXr33XfVt29fffHFF/r444%2B1fPly276GDh2qTp06qWPHjpoxY4Z69%2B6tFi1aGK6HxgsAABhSGxuvJ554Qnl5eUpISFCdOnU0aNAgu1Rr0KBBGjBggBITE3Xrrbfq7bff1ty5c/X222%2BrefPmeuONNxQdHS1Jio6O1ssvv6y5c%2BcqPz9ft99%2Bu6ZPn35d9dB4AQAAt1WnTh0lJSUpKSmpyuV///vf7e736dNHffr0ueL%2BBg4cqIEDB95wPTReAADAkNqYeNU0nFwPAADgJCReAADAEBIv82i8AACAITRe5jHVCAAA4CQkXgAAwBASL/NIvAAAAJyExAsAABhC4mUejRcAADCExss8phoBAACchMQLAAAYQuJlHo0XAAAwhMbLPKYaAQAAnITECwAAGELiZR6JFwAAgJOQeAEAAENIvMyj8QIAAIbQeJnHVCMAAICTkHgBAABDSLzMI/ECAABwEhIvAABgCImXeTReAADAEBov85hqBAAAcBISLwAAYAiJl3kkXgAAAE5C4gUAAAwh8TKPxgsAABhC42UeU40AAABOQuIFAAAMIfEyj8QLAADASUi8AACAISRe5tF4AQAAQ2i8zGOqEQAAwElIvAAAgCEkXuaReAEAADgJiRcAADCExMs8Gi8AAGAIjZd5TDUCAAA4CYkXAAAwhMTLPBIvAAAAJyHxAgAAhpB4mVejGq958%2BZp%2B/btWrFihan9nD9/Xps2bVL//v0dUxgAAKiVjZfVatUbb7yhNWvWqKysTIMGDdJzzz0nD4/Kk36TJ0/WRx99VGm8W7duWr58uSQpNjZW586ds1uelpamevXqGaqnRjVejvLee%2B9p27ZtNF4AAPzMLV26VOvXr1dycrJKS0s1YcIEBQYG6oknnqi07tSpUzV%2B/Hjb/WPHjmno0KEaNmyYJCkrK0vnzp3Tpk2b5Ovra1uvbt26hutxy8bLarW6ugQAANxObUy8li9frrFjxyo2NlaS9Nxzz%2Bntt9%2BusvGqX7%2B%2B6tevb7s/efJk3XPPPerTp48kKTMzU0FBQWrRosUN13NdJ9cfPXpU7dq101/%2B8hf17NlTsbGxeuWVV1RaWqp58%2BbpmWee0aOPPqquXbtq%2B/btKi4u1uzZs9WrVy916tRJv/3tb3XixAnb/vbv36/4%2BHhFRUVp2LBhOn36tG3ZunXrFBcXZ/f4Q4cO1bx582z3ly5dqri4OEVHR%2BuJJ57QkSNHtG7dOiUnJ2v79u1q167djR4XAABQy2VlZenEiRPq0qWLbSwmJkbHjh1Tdnb2Vbf96quv9M033%2BjZZ5%2B1je3fv1%2BtWrUyVdMNJV7Jycl66623VFpaqokTJ6pevXry9PTU5s2bNW3aNHXq1EmtWrXSiy%2B%2BqLS0NL3%2B%2BusKCAjQnDlz9Mwzz2jt2rUqLS3V6NGjbc3b119/rVdffVWdO3c2VMMHH3yg5ORkTZ8%2BXe3bt9ebb76pcePGadWqVdq3b5927Nhh16RdS3Z2tnJycuzGgi5eVHBQ0HUdmxrNy8v%2Bp5vw83N1BY7l42P/0200berqChwrMND%2Bp7uIjnZ1BY4TEWH/013s2OGyh66uxKvK9%2BCgIAUHB5vab8U%2BL99PkyZNJEknT5686v4XLVqkAQMGqFmzZraxzMxMFRYWaujQoTp48KAiIyM1ZcqU62rGbqjxmjBhgi2yGzdunObMmaP4%2BHg1adJE8fHxkqT8/Hx98sknWrx4sbp37y5JmjNnjnr37q0vv/xSly5d0pkzZzRt2jTVrVtXbdq00fbt23Xq1ClDNaSkpGjEiBG69957JUkvvPCC3n33XUnlc61eXl4Kuo6mKSUlRcnJyXZjCWPGKHHsWMP7qDVM/odc04S7uoBqcvPNrq7AwcKfdHUF1WPgQFdX4FhPuuHrtGqVqytwLIvFZQ9dXY1Xle/BCQlKTEy85rZFRUXKysqqcllBQYEkydvb2zZW8XtJSckV93nkyBF9/fXXmjp1qt34gQMHlJ%2Bfr2effVb%2B/v5avHixRowYoc8%2B%2B0z%2B/v7XrFW6wcbr8lTqlltu0alTp3T69Gk1b97cNn7o0CGVlZUpKirKNhYQEKBWrVopMzNTpaWlatmypd0JaR07dtTWrVsN1XDw4EF16NDBdr9JkyaaNGnSjTwdSdKQIUMqTW0GXbwoHTt2w/uscby8ypuu7Gzp4kVXV%2BMwP1xofu2VahEfn/Km6/BhqbjY1dU4TvjWxa4uwbECA8ubrnXrpLw8V1fjOAsWuLoCx4mIKG%2B6HnlEyshwdTW4iirfgw2GJ%2Bnp6baT339qwoQJksqbLJ//TiNUNFx%2BV5ku2bhxoyIjI/WLX/zCbvzdd9/VxYsXbZ9gnDNnjnr16qUtW7bogQceMFTvDTVeXpdNVZX9t/318PCwPSlJdr9f7tKlS7ZtfnoS/OX7tVTR0ZeWltp%2B9/R07OcCgoODK0eOBw9KV%2BmIa62LF93qeRUWurqC6lFc7GbP7eRJV1dQPfLy3Ou5uXAaq9pkZLjn83KB6kq8qnwPNqhbt27au3dvlcuysrI0e/Zs5eTkKCwsTNL/ph%2Bv1tj961//0p133llp3Nvb2y498/HxUVhY2BUTt6rc0JXr9%2BzZY/t99%2B7dCg4OVkBAgN06LVq0kKenp3bu3GkbO336tA4fPqxWrVqpbdu2OnTokN21MC7fr5eXly5cuGC7b7VadfToUdv9m2%2B%2BWRmX/R/M6dOn1b17dx09erTKpg0AAPy8hISEKDQ0VKmpqbax1NRUhYaGXrHRs1qt%2Bs9//lPpnHOr1ao%2Bffpo3bp1trGCggIdPnxYrVu3NlzTDcVGM2bM0CuvvKJz587p7bff1mOPPaaLP5m6qlevngYPHqzp06dr%2BvTpatiwoebMmaOmTZvq9ttvl8ViUbNmzTR16lSNGzdO6enp2rBhg21q8pZbbtGZM2e0YsUK9e7dWytWrFB%2Bfr5t/0OHDtXMmTMVHh6uNm3a6K233lJYWJjCwsLk5%2Ben7OxsHT161NbhAgAAc2rj5STi4%2BNt/YckvfHGGxo5cqRt%2BalTp%2BTj42ObPjx27JguXLhQaZrRYrGod%2B/emjdvnpo3b67GjRvr7bffVtOmTdWrVy/D9dxQ4nXvvffqqaee0rPPPqvBgwdr9OjRVa43adIk3XbbbRo7dqzi4%2BPl4%2BOj9957T97e3vLy8tLChQuVn5%2BvAQMG6M9//rMeffRR27YtW7bUpEmTtGDBAvXv319Wq1V33323bfmDDz6okSNH6qWXXtLAgQNVXFysuXPnSpL69u2rsrIy3Xfffcpzp3MvAABwobKy6rlVpyeeeEL33nuvEhISNG7cOD344IMaMWKEbfmgQYO0ZMkS2/2KvqFhw4aV9jVhwgTdfffdGj9%2BvAYPHqzS0lItWrRIderUMVyPxXodVxs9evSo7rzzTm3evPnnkSQdPOjqChzL21tq3rz8AwNudI5X%2Bllz11Spafz8pPBw6Ycf3Oscr6hPp7u6BMdq2rT8E4CLF7vXOV4vvODqChwnOlpKS5M6d3a/c7xcdKHwX/6yevb71VfVs9%2BayC2vXA8AAByvNk411jQ3NNUIAACA63ddiVdYWNgVP7IJAADcG4mXeUw1AgAAQ2i8zGOqEQAAwElIvAAAgCEkXubReAEAAENovMxjqhEAAMBJSLwAAIAhJF7mkXgBAAA4CYkXAAAwhMTLPBovAABgCI2XeUw1AgAAOAmJFwAAMITEyzwSLwAAACch8QIAAIaQeJlH4wUAAAyh8TKPqUYAAAAnIfECAACGkHiZR%2BIFAADgJCReAADAEBIv82i8AACAITRe5jHVCAAA4CQkXgAAwBASL/NIvAAAAJyExAsAABhC4mUejRcAADCExss8phoBAACchMQLAAAYQuJlHokXAACAk5B4AQAAQ0i8zKPxAgAAhtB4mcdUIwAAgJOQeAEAAENIvMwj8QIAAHASEi8AAGAIiZd5NF4AAMAQGi/zmGoEAABwEhIvAABgCImXeSReAAAATkLiBQAADCHxMo/ECwAAGFJWVj03Z7BarRo5cqTWrVt31fWOHDmiESNGqFOnTrr33nv1xRdf2C3/97//rfvvv19RUVEaNmyYjhw5cl110HgBAAC3VlZWpldeeUVffvnlVdezWq0aM2aMmjRporVr1%2BrBBx9UQkKCjh8/Lkk6fvy4xowZo4EDB2rNmjVq3LixnnnmGVmtVsO1MNUIAAAMqY1TjVlZWXruued09OhRNWjQ4Krrfv311zpy5Ig%2B%2BOAD1a1bV23atNFXX32ltWvXKjExUatXr9Ytt9yikSNHSpJmzpyp22%2B/Xdu3b1e3bt0M1UPiBQAA3NZ3332nZs2aae3atapfv/5V101PT1f79u1Vt25d21hMTIx27txpWx4bG2tb5ufnpw4dOtiWG0HiBQAADKmuxCs7O1s5OTl2Y0FBQQoODja977i4OMXFxRlaNycnp9JjBgYG6uTJk4aWG0HjdTWtWrm6AofKzs5Wyrx5GjJkiIKbN3d1OQ4T5eoCHCw7O1vz5qVoyJAhCg83/0enxoh63tUVOJTdvycHvDnUGM%2B7z%2Btke43%2B7//c6zVyoes4lem6zJuXouTkZLuxhIQEJSYmXnPboqIiZWVlVbksKCjILr26lsLCQnl7e9uNeXt7q6SkxNByI2i8fkZycnKUnJysuLg4/gjVYLxOtQOvU83Ha1R7DBkypFIqFRQUZGjb9PR0DRs2rMpl8%2BfPV58%2BfQzX4ePjozNnztiNlZSUyNfX17b8p01WSUnJNc8duxyNFwAAcKng4OAbbo67deumvXv3OqSOkJAQ7d%2B/324sNzfXVltISIhyc3MrLY%2BMjDT8GJxcDwAAICkqKkrfffedioqKbGOpqamKioqyLU9NTbUtKyws1Pfff29bbgSNFwAA%2BNk6deqULly4IEnq2rWrmjVrpqSkJO3bt0%2BLFi3Srl27NGjQIEnSQw89pLS0NC1atEj79u1TUlKSwsLCDF9KQqLx%2BlkJCgpSQkKC4XlzuAavU%2B3A61Tz8RrBiEGDBmnJkiWSpDp16uidd95RTk6OBg4cqE8//VTz589XaGioJCksLEzz5s3T2rVrNWjQIJ05c0bz58%2BXxWIx/HgW6/VcbhUAAAA3jMQLAADASWi8AAAAnITGCwAAwElovAAAAJyExgsAAMBJaLwAAACchMYLAADASWi8AAAAnITGCwAAwElovAAAAJyExsvNnT59WllZWTp79qyrSwEAlzp16pSrSwBovNzRX//6Vw0bNkydOnXSbbfdpt69e6tbt26Kjo7W0KFDtWnTJleXCNQKJSUlmj17tnr16qXOnTsrISFBmZmZduvk5uYqMjLSRRXipyIjI6tssI4dO6Y777zTBRUB9jxdXQAca%2BnSpUpOTtaoUaOUkJCgwMBAeXt7q6SkRLm5ufr22281efJkjRs3TkOHDnV1uT9b33zzjeF1u3TpUo2V4GrefPNNbdmyRRMnTpTVatXKlSv10EMPac6cOerTp49tPavV6sIq8fHHH2vdunWSyl%2BLMWPGyMvLy26d7OxsBQUFuaI8wI7Fyl8Mt9KzZ0%2B9%2BOKLdm8KP7Vp0yZNnz5dW7dudWJluNwDDzyg/fv3S7r6m7bFYtGePXucVRZ%2BolevXnrzzTcVExMjqfy1mjVrllasWKHZs2erX79%2Bys3NVc%2BePXmdXOjChQtaunSpJCk5OVmPP/646tWrZ7dO3bp11bdvX7Vo0cIVJQI2JF5upqioSGFhYVddJyQkROfOnXNSRajK2rVr9eyzz%2Bro0aNKSUmRj4%2BPq0tCFYqKihQQEGC7b7FYNGnSJHl4eGjChAny9PRUdHS06wqEJKlevXpKSEiQJDVv3lz33XefJMnb21uSdPz4cYWGhrqsPuBynOPlZvr27avJkyfr22%2B/VWlpqd2ysrIypaWlacqUKbr77rtdVCGk8jeEN998U5L01ltvubgaXEm3bt00a9asSucMTZgwQUOGDNHvf/97rVq1ykXVoSpdunTRI488orfffts29tBDD2nIkCE6efKkCysDyjHV6GY2b96sf/zjH/r000916dIlBQQE2M7xOnPmjOrUqaP%2B/fsrKSlJvr6%2Bri73Z%2BvLL79Uly5ddOTIEX3zzTf6zW9%2B4%2BqSUIWPP/5Yy5YtU0ZGht59913ddtttdsuTk5O1YMEClZWVMdVYQ4waNUr16tXTCy%2B8oMDAQEnln%2B5%2B8cUXdfHiRS1YsMDFFeLnjsbLzURHR2vDhg1q2LChunbtqlmzZunixYvy8fFRSEiIIiMjabhqgOjoaH3%2B%2Bedq2rSp7rzzTq1Zs0aNGjVydVn4iYp/TwUFBYqPj9fGjRsrvU6ZmZnavHmzRo8e7aIqcbno6Gh98sknuummm%2BzGDx48qIceekhpaWkuqgwoxzlebqZBgwZ655131LlzZ126dEmnTp2Sv7%2B/ioqKdPjwYR0%2BfNi2bv/%2B/V1X6M9cgwYNNH/%2BfHXu3FnHjh3TZ599Jn9//yrX5XVyncv/PZ09e/aKr1NwcLALqkNVGjVqpO%2B//75S43XgwIEr/hsDnInEy81s3rxZ8%2BbN07lz53T8%2BHGFhITIw6PyqXwWi0WbN292QYWQeJ1qC16n2mfp0qV65513NGLECHXo0EGSlJGRoffee08jR44kmYTL0Xi5sbi4OK1du5YprBqO16l24HWqPT744AN9%2BOGHOnjwoDw9PXXzzTdr6NChevDBB11dGkDjBQAA4Cyc4wUAcBvJyclXXV5xvS/AVWi8AABuY9u2bXb3L126pKNHj%2Brs2bNcvxA1Ao0XAMBtrFixosrxV199VRaLxcnVAJVxjhcAwO0dOXJEAwcOvK4vqAeqA18ZBABwe1u3buU7UVEjMNUIAHAbcXFxlaYUL1y4oPz8fE2aNMlFVQH/w1QjAMBtrFu3zq7xslgs8vLy0i233KKbb77ZhZUB5Wi8AAAAnISpRgBArTZ06FDDn1hcvnx5NVcDXB2NFwCgVuvWrZvt99OnTyslJUV9%2BvRRx44d5eXlpT179mjDhg169NFHXVglUI6pRgCA2xgxYoTuuusuPfLII3bj69atU0pKilJSUlxUGVCOy0kAANzGzp079ctf/rLSeFRUlPbu3euCigB7NF4AALfRvn17LVq0SMXFxbax8%2BfPa%2B7cuerUqZPrCgP%2Bi6lGAIDbyMzM1OjRo5Wfn6%2Bbb75ZVqtVhw4dUmhoqBYuXKjmzZu7ukT8zNF4AQDcSklJib766ivt379fktS2bVvddttt8vTk82RwPf4rBAC4FW9vb3l6esrLy0tlZWWyWq0iY0BNQeMFAHAbJ0%2Be1DPPPKODBw%2BqVatWunTpkg4fPqzQ0FAtXbpUISEhri4RP3NMNQIA3MbTTz%2Bt0tJSzZkzRw0bNpRUfm2vCRMmqG7dupo7d66LK8TPHY0XAMBtREdHKyUlReHh4XbjGRkZevTRR5WamuqiyoByXE4CAOA2GjZsqPz8/ErjZ8%2BelZeXlwsqAuzReAEA3MZ9992nP/zhD/rqq690/vx5nT9/Xl9%2B%2BaWef/553Xvvva4uD2CqEQDgPkpKSvTCCy/o008/tX2SsU6dOho8eLAmTZokX19fF1eInzsaLwCA2/j222/VsWNHFRcX69ChQ/L29tZNN92kunXruro0QBKNFwDAjXTr1k3Lli1TRESEq0sBqsQ5XgAAt9G2bVvt2rXL1WUAV0TiBQBwG2PGjNHmzZvVpEkThYWFydvb22758uXLXVQZUI4r1wMA3EZkZKQiIyNltVp15swZWSwWBQQEuLoswIbECwDgNi5duqS5c%2Bdq9erVOnXqlCQpJCREjz76qEaPHu3i6gASLwCAG3n99de1ceNGPffcc7rllltUVlam//znP5o7d65KSkqUkJDg6hLxM0fiBQBwG126dNH8%2BfPVtWtXu/F///vfeu655/Tvf//bRZUB5fhUIwDAbfj5%2BVX51UANGjSQxWJxQUWAPRovAIDbmDhxoqZMmaItW7bozJkzOn/%2BvL799ls9//zzGj58uI4fP267Aa7AVCMAwG1cfuHUioTr8rc5i8Uiq9Uqi8WiPXv2OL0%2BgMYLAOA2jh07Znjd5s2bV2MlQNVovAAAAJyEc7wAAACchMYLAADASWi8AAAAnITGCwAAwElovAAAAJyExgsAAMBJaLwAAACc5P8B38FGASbUUxgAAAAASUVORK5CYII%3D\" class=\"center-img\">\n",
       "</div>\n",
       "    <div class=\"row headerrow highlight\">\n",
       "        <h1>Sample</h1>\n",
       "    </div>\n",
       "    <div class=\"row variablerow\">\n",
       "    <div class=\"col-md-12\" style=\"overflow:scroll; width: 100%%; overflow-y: hidden;\">\n",
       "        <table border=\"1\" class=\"dataframe sample\">\n",
       "  <thead>\n",
       "    <tr style=\"text-align: right;\">\n",
       "      <th></th>\n",
       "      <th>id</th>\n",
       "      <th>f0</th>\n",
       "      <th>f1</th>\n",
       "      <th>f2</th>\n",
       "      <th>product</th>\n",
       "    </tr>\n",
       "  </thead>\n",
       "  <tbody>\n",
       "    <tr>\n",
       "      <th>0</th>\n",
       "      <td>txEyH</td>\n",
       "      <td>0.705745</td>\n",
       "      <td>-0.497823</td>\n",
       "      <td>1.221170</td>\n",
       "      <td>105.280062</td>\n",
       "    </tr>\n",
       "    <tr>\n",
       "      <th>1</th>\n",
       "      <td>2acmU</td>\n",
       "      <td>1.334711</td>\n",
       "      <td>-0.340164</td>\n",
       "      <td>4.365080</td>\n",
       "      <td>73.037750</td>\n",
       "    </tr>\n",
       "    <tr>\n",
       "      <th>2</th>\n",
       "      <td>409Wp</td>\n",
       "      <td>1.022732</td>\n",
       "      <td>0.151990</td>\n",
       "      <td>1.419926</td>\n",
       "      <td>85.265647</td>\n",
       "    </tr>\n",
       "    <tr>\n",
       "      <th>3</th>\n",
       "      <td>iJLyR</td>\n",
       "      <td>-0.032172</td>\n",
       "      <td>0.139033</td>\n",
       "      <td>2.978566</td>\n",
       "      <td>168.620776</td>\n",
       "    </tr>\n",
       "    <tr>\n",
       "      <th>4</th>\n",
       "      <td>Xdl7t</td>\n",
       "      <td>1.988431</td>\n",
       "      <td>0.155413</td>\n",
       "      <td>4.751769</td>\n",
       "      <td>154.036647</td>\n",
       "    </tr>\n",
       "  </tbody>\n",
       "</table>\n",
       "    </div>\n",
       "</div>\n",
       "</div>"
      ],
      "text/plain": [
       "<pandas_profiling.ProfileReport at 0x1df14ee4248>"
      ]
     },
     "execution_count": 9,
     "metadata": {},
     "output_type": "execute_result"
    }
   ],
   "source": [
    "pandas_profiling.ProfileReport(data_0) #получение отчета разведочного анализа данных для региона 0"
   ]
  },
  {
   "cell_type": "markdown",
   "metadata": {},
   "source": [
    "**Ознакомление с данными по региону 1** "
   ]
  },
  {
   "cell_type": "code",
   "execution_count": 10,
   "metadata": {
    "scrolled": true
   },
   "outputs": [
    {
     "data": {
      "text/html": [
       "<meta charset=\"UTF-8\">\n",
       "\n",
       "<style>\n",
       "\n",
       "        .variablerow {\n",
       "            border: 1px solid #e1e1e8;\n",
       "            border-top: hidden;\n",
       "            padding-top: 2em;\n",
       "            padding-bottom: 2em;\n",
       "            padding-left: 1em;\n",
       "            padding-right: 1em;\n",
       "        }\n",
       "\n",
       "        .headerrow {\n",
       "            border: 1px solid #e1e1e8;\n",
       "            background-color: #f5f5f5;\n",
       "            padding: 2em;\n",
       "        }\n",
       "        .namecol {\n",
       "            margin-top: -1em;\n",
       "            overflow-x: auto;\n",
       "        }\n",
       "\n",
       "        .dl-horizontal dt {\n",
       "            text-align: left;\n",
       "            padding-right: 1em;\n",
       "            white-space: normal;\n",
       "        }\n",
       "\n",
       "        .dl-horizontal dd {\n",
       "            margin-left: 0;\n",
       "        }\n",
       "\n",
       "        .ignore {\n",
       "            opacity: 0.4;\n",
       "        }\n",
       "\n",
       "        .container.pandas-profiling {\n",
       "            max-width:975px;\n",
       "        }\n",
       "\n",
       "        .col-md-12 {\n",
       "            padding-left: 2em;\n",
       "        }\n",
       "\n",
       "        .indent {\n",
       "            margin-left: 1em;\n",
       "        }\n",
       "\n",
       "        .center-img {\n",
       "            margin-left: auto !important;\n",
       "            margin-right: auto !important;\n",
       "            display: block;\n",
       "        }\n",
       "\n",
       "        /* Table example_values */\n",
       "            table.example_values {\n",
       "                border: 0;\n",
       "            }\n",
       "\n",
       "            .example_values th {\n",
       "                border: 0;\n",
       "                padding: 0 ;\n",
       "                color: #555;\n",
       "                font-weight: 600;\n",
       "            }\n",
       "\n",
       "            .example_values tr, .example_values td{\n",
       "                border: 0;\n",
       "                padding: 0;\n",
       "                color: #555;\n",
       "            }\n",
       "\n",
       "        /* STATS */\n",
       "            table.stats {\n",
       "                border: 0;\n",
       "            }\n",
       "\n",
       "            .stats th {\n",
       "                border: 0;\n",
       "                padding: 0 2em 0 0;\n",
       "                color: #555;\n",
       "                font-weight: 600;\n",
       "            }\n",
       "\n",
       "            .stats tr {\n",
       "                border: 0;\n",
       "            }\n",
       "\n",
       "            .stats td{\n",
       "                color: #555;\n",
       "                padding: 1px;\n",
       "                border: 0;\n",
       "            }\n",
       "\n",
       "\n",
       "        /* Sample table */\n",
       "            table.sample {\n",
       "                border: 0;\n",
       "                margin-bottom: 2em;\n",
       "                margin-left:1em;\n",
       "            }\n",
       "            .sample tr {\n",
       "                border:0;\n",
       "            }\n",
       "            .sample td, .sample th{\n",
       "                padding: 0.5em;\n",
       "                white-space: nowrap;\n",
       "                border: none;\n",
       "\n",
       "            }\n",
       "\n",
       "            .sample thead {\n",
       "                border-top: 0;\n",
       "                border-bottom: 2px solid #ddd;\n",
       "            }\n",
       "\n",
       "            .sample td {\n",
       "                width:100%;\n",
       "            }\n",
       "\n",
       "\n",
       "        /* There is no good solution available to make the divs equal height and then center ... */\n",
       "            .histogram {\n",
       "                margin-top: 3em;\n",
       "            }\n",
       "        /* Freq table */\n",
       "\n",
       "            table.freq {\n",
       "                margin-bottom: 2em;\n",
       "                border: 0;\n",
       "            }\n",
       "            table.freq th, table.freq tr, table.freq td {\n",
       "                border: 0;\n",
       "                padding: 0;\n",
       "            }\n",
       "\n",
       "            .freq thead {\n",
       "                font-weight: 600;\n",
       "                white-space: nowrap;\n",
       "                overflow: hidden;\n",
       "                text-overflow: ellipsis;\n",
       "\n",
       "            }\n",
       "\n",
       "            td.fillremaining{\n",
       "                width:auto;\n",
       "                max-width: none;\n",
       "            }\n",
       "\n",
       "            td.number, th.number {\n",
       "                text-align:right ;\n",
       "            }\n",
       "\n",
       "        /* Freq mini */\n",
       "            .freq.mini td{\n",
       "                width: 50%;\n",
       "                padding: 1px;\n",
       "                font-size: 12px;\n",
       "\n",
       "            }\n",
       "            table.freq.mini {\n",
       "                 width:100%;\n",
       "            }\n",
       "            .freq.mini th {\n",
       "                overflow: hidden;\n",
       "                text-overflow: ellipsis;\n",
       "                white-space: nowrap;\n",
       "                max-width: 5em;\n",
       "                font-weight: 400;\n",
       "                text-align:right;\n",
       "                padding-right: 0.5em;\n",
       "            }\n",
       "\n",
       "            .missing {\n",
       "                color: #a94442;\n",
       "            }\n",
       "            .alert, .alert > th, .alert > td {\n",
       "                color: #a94442;\n",
       "            }\n",
       "\n",
       "\n",
       "        /* Bars in tables */\n",
       "            .freq .bar{\n",
       "                float: left;\n",
       "                width: 0;\n",
       "                height: 100%;\n",
       "                line-height: 20px;\n",
       "                color: #fff;\n",
       "                text-align: center;\n",
       "                background-color: #337ab7;\n",
       "                border-radius: 3px;\n",
       "                margin-right: 4px;\n",
       "            }\n",
       "            .other .bar {\n",
       "                background-color: #999;\n",
       "            }\n",
       "            .missing .bar{\n",
       "                background-color: #a94442;\n",
       "            }\n",
       "            .tooltip-inner {\n",
       "                width: 100%;\n",
       "                white-space: nowrap;\n",
       "                text-align:left;\n",
       "            }\n",
       "\n",
       "            .extrapadding{\n",
       "                padding: 2em;\n",
       "            }\n",
       "\n",
       "            .pp-anchor{\n",
       "\n",
       "            }\n",
       "\n",
       "</style>\n",
       "\n",
       "<div class=\"container pandas-profiling\">\n",
       "    <div class=\"row headerrow highlight\">\n",
       "        <h1>Overview</h1>\n",
       "    </div>\n",
       "    <div class=\"row variablerow\">\n",
       "    <div class=\"col-md-6 namecol\">\n",
       "        <p class=\"h4\">Dataset info</p>\n",
       "        <table class=\"stats\" style=\"margin-left: 1em;\">\n",
       "            <tbody>\n",
       "            <tr>\n",
       "                <th>Number of variables</th>\n",
       "                <td>5 </td>\n",
       "            </tr>\n",
       "            <tr>\n",
       "                <th>Number of observations</th>\n",
       "                <td>100000 </td>\n",
       "            </tr>\n",
       "            <tr>\n",
       "                <th>Total Missing (%)</th>\n",
       "                <td>0.0% </td>\n",
       "            </tr>\n",
       "            <tr>\n",
       "                <th>Total size in memory</th>\n",
       "                <td>3.8 MiB </td>\n",
       "            </tr>\n",
       "            <tr>\n",
       "                <th>Average record size in memory</th>\n",
       "                <td>40.0 B </td>\n",
       "            </tr>\n",
       "            </tbody>\n",
       "        </table>\n",
       "    </div>\n",
       "    <div class=\"col-md-6 namecol\">\n",
       "        <p class=\"h4\">Variables types</p>\n",
       "        <table class=\"stats\" style=\"margin-left: 1em;\">\n",
       "            <tbody>\n",
       "            <tr>\n",
       "                <th>Numeric</th>\n",
       "                <td>3 </td>\n",
       "            </tr>\n",
       "            <tr>\n",
       "                <th>Categorical</th>\n",
       "                <td>1 </td>\n",
       "            </tr>\n",
       "            <tr>\n",
       "                <th>Boolean</th>\n",
       "                <td>0 </td>\n",
       "            </tr>\n",
       "            <tr>\n",
       "                <th>Date</th>\n",
       "                <td>0 </td>\n",
       "            </tr>\n",
       "            <tr>\n",
       "                <th>Text (Unique)</th>\n",
       "                <td>0 </td>\n",
       "            </tr>\n",
       "            <tr>\n",
       "                <th>Rejected</th>\n",
       "                <td>1 </td>\n",
       "            </tr>\n",
       "            <tr>\n",
       "                <th>Unsupported</th>\n",
       "                <td>0 </td>\n",
       "            </tr>\n",
       "            </tbody>\n",
       "        </table>\n",
       "    </div>\n",
       "    <div class=\"col-md-12\" style=\"padding-left: 1em;\">\n",
       "        \n",
       "        <p class=\"h4\">Warnings</p>\n",
       "        <ul class=\"list-unstyled\"><li><a href=\"#pp_var_id\"><code>id</code></a> has a high cardinality: 99996 distinct values  <span class=\"label label-warning\">Warning</span></li><li><a href=\"#pp_var_product\"><code>product</code></a> is highly correlated with <a href=\"#pp_var_f2\"><code>f2</code></a> (ρ = 0.9994) <span class=\"label label-primary\">Rejected</span></li> </ul>\n",
       "    </div>\n",
       "</div>\n",
       "    <div class=\"row headerrow highlight\">\n",
       "        <h1>Variables</h1>\n",
       "    </div>\n",
       "    <div class=\"row variablerow\">\n",
       "    <div class=\"col-md-3 namecol\">\n",
       "        <p class=\"h4 pp-anchor\" id=\"pp_var_id\">id<br/>\n",
       "            <small>Categorical</small>\n",
       "        </p>\n",
       "    </div><div class=\"col-md-3\">\n",
       "    <table class=\"stats \">\n",
       "        <tr class=\"alert\">\n",
       "            <th>Distinct count</th>\n",
       "            <td>99996</td>\n",
       "        </tr>\n",
       "        <tr>\n",
       "            <th>Unique (%)</th>\n",
       "            <td>100.0%</td>\n",
       "        </tr>\n",
       "        <tr class=\"ignore\">\n",
       "            <th>Missing (%)</th>\n",
       "            <td>0.0%</td>\n",
       "        </tr>\n",
       "        <tr class=\"ignore\">\n",
       "            <th>Missing (n)</th>\n",
       "            <td>0</td>\n",
       "        </tr>\n",
       "    </table>\n",
       "</div>\n",
       "<div class=\"col-md-6 collapse in\" id=\"minifreqtable-3739705186233904590\">\n",
       "    <table class=\"mini freq\">\n",
       "        <tr class=\"\">\n",
       "    <th>5ltQ6</th>\n",
       "    <td>\n",
       "        <div class=\"bar\" style=\"width:1%\" data-toggle=\"tooltip\" data-placement=\"right\" data-html=\"true\"\n",
       "             data-delay=500 title=\"Percentage: 0.0%\">\n",
       "            &nbsp;\n",
       "        </div>\n",
       "        2\n",
       "    </td>\n",
       "</tr><tr class=\"\">\n",
       "    <th>LHZR0</th>\n",
       "    <td>\n",
       "        <div class=\"bar\" style=\"width:1%\" data-toggle=\"tooltip\" data-placement=\"right\" data-html=\"true\"\n",
       "             data-delay=500 title=\"Percentage: 0.0%\">\n",
       "            &nbsp;\n",
       "        </div>\n",
       "        2\n",
       "    </td>\n",
       "</tr><tr class=\"\">\n",
       "    <th>bfPNe</th>\n",
       "    <td>\n",
       "        <div class=\"bar\" style=\"width:1%\" data-toggle=\"tooltip\" data-placement=\"right\" data-html=\"true\"\n",
       "             data-delay=500 title=\"Percentage: 0.0%\">\n",
       "            &nbsp;\n",
       "        </div>\n",
       "        2\n",
       "    </td>\n",
       "</tr><tr class=\"other\">\n",
       "    <th>Other values (99993)</th>\n",
       "    <td>\n",
       "        <div class=\"bar\" style=\"width:100%\" data-toggle=\"tooltip\" data-placement=\"right\" data-html=\"true\"\n",
       "             data-delay=500 title=\"Percentage: 100.0%\">\n",
       "            99994\n",
       "        </div>\n",
       "        \n",
       "    </td>\n",
       "</tr>\n",
       "    </table>\n",
       "</div>\n",
       "<div class=\"col-md-12 text-right\">\n",
       "    <a role=\"button\" data-toggle=\"collapse\" data-target=\"#freqtable-3739705186233904590, #minifreqtable-3739705186233904590\"\n",
       "       aria-expanded=\"true\" aria-controls=\"collapseExample\">\n",
       "        Toggle details\n",
       "    </a>\n",
       "</div>\n",
       "<div class=\"col-md-12 extrapadding collapse\" id=\"freqtable-3739705186233904590\">\n",
       "    \n",
       "<table class=\"freq table table-hover\">\n",
       "    <thead>\n",
       "    <tr>\n",
       "        <td class=\"fillremaining\">Value</td>\n",
       "        <td class=\"number\">Count</td>\n",
       "        <td class=\"number\">Frequency (%)</td>\n",
       "        <td style=\"min-width:200px\">&nbsp;</td>\n",
       "    </tr>\n",
       "    </thead>\n",
       "    <tr class=\"\">\n",
       "        <td class=\"fillremaining\">5ltQ6</td>\n",
       "        <td class=\"number\">2</td>\n",
       "        <td class=\"number\">0.0%</td>\n",
       "        <td>\n",
       "            <div class=\"bar\" style=\"width:1%\">&nbsp;</div>\n",
       "        </td>\n",
       "</tr><tr class=\"\">\n",
       "        <td class=\"fillremaining\">LHZR0</td>\n",
       "        <td class=\"number\">2</td>\n",
       "        <td class=\"number\">0.0%</td>\n",
       "        <td>\n",
       "            <div class=\"bar\" style=\"width:1%\">&nbsp;</div>\n",
       "        </td>\n",
       "</tr><tr class=\"\">\n",
       "        <td class=\"fillremaining\">bfPNe</td>\n",
       "        <td class=\"number\">2</td>\n",
       "        <td class=\"number\">0.0%</td>\n",
       "        <td>\n",
       "            <div class=\"bar\" style=\"width:1%\">&nbsp;</div>\n",
       "        </td>\n",
       "</tr><tr class=\"\">\n",
       "        <td class=\"fillremaining\">wt4Uk</td>\n",
       "        <td class=\"number\">2</td>\n",
       "        <td class=\"number\">0.0%</td>\n",
       "        <td>\n",
       "            <div class=\"bar\" style=\"width:1%\">&nbsp;</div>\n",
       "        </td>\n",
       "</tr><tr class=\"\">\n",
       "        <td class=\"fillremaining\">s2rH8</td>\n",
       "        <td class=\"number\">1</td>\n",
       "        <td class=\"number\">0.0%</td>\n",
       "        <td>\n",
       "            <div class=\"bar\" style=\"width:1%\">&nbsp;</div>\n",
       "        </td>\n",
       "</tr><tr class=\"\">\n",
       "        <td class=\"fillremaining\">pV8GU</td>\n",
       "        <td class=\"number\">1</td>\n",
       "        <td class=\"number\">0.0%</td>\n",
       "        <td>\n",
       "            <div class=\"bar\" style=\"width:1%\">&nbsp;</div>\n",
       "        </td>\n",
       "</tr><tr class=\"\">\n",
       "        <td class=\"fillremaining\">9MDHj</td>\n",
       "        <td class=\"number\">1</td>\n",
       "        <td class=\"number\">0.0%</td>\n",
       "        <td>\n",
       "            <div class=\"bar\" style=\"width:1%\">&nbsp;</div>\n",
       "        </td>\n",
       "</tr><tr class=\"\">\n",
       "        <td class=\"fillremaining\">8n1Nm</td>\n",
       "        <td class=\"number\">1</td>\n",
       "        <td class=\"number\">0.0%</td>\n",
       "        <td>\n",
       "            <div class=\"bar\" style=\"width:1%\">&nbsp;</div>\n",
       "        </td>\n",
       "</tr><tr class=\"\">\n",
       "        <td class=\"fillremaining\">k6U39</td>\n",
       "        <td class=\"number\">1</td>\n",
       "        <td class=\"number\">0.0%</td>\n",
       "        <td>\n",
       "            <div class=\"bar\" style=\"width:1%\">&nbsp;</div>\n",
       "        </td>\n",
       "</tr><tr class=\"\">\n",
       "        <td class=\"fillremaining\">iOU6Q</td>\n",
       "        <td class=\"number\">1</td>\n",
       "        <td class=\"number\">0.0%</td>\n",
       "        <td>\n",
       "            <div class=\"bar\" style=\"width:1%\">&nbsp;</div>\n",
       "        </td>\n",
       "</tr><tr class=\"other\">\n",
       "        <td class=\"fillremaining\">Other values (99986)</td>\n",
       "        <td class=\"number\">99986</td>\n",
       "        <td class=\"number\">100.0%</td>\n",
       "        <td>\n",
       "            <div class=\"bar\" style=\"width:100%\">&nbsp;</div>\n",
       "        </td>\n",
       "</tr>\n",
       "</table>\n",
       "</div>\n",
       "</div><div class=\"row variablerow\">\n",
       "    <div class=\"col-md-3 namecol\">\n",
       "        <p class=\"h4 pp-anchor\" id=\"pp_var_f0\">f0<br/>\n",
       "            <small>Numeric</small>\n",
       "        </p>\n",
       "    </div><div class=\"col-md-6\">\n",
       "    <div class=\"row\">\n",
       "        <div class=\"col-sm-6\">\n",
       "            <table class=\"stats \">\n",
       "                <tr>\n",
       "                    <th>Distinct count</th>\n",
       "                    <td>100000</td>\n",
       "                </tr>\n",
       "                <tr>\n",
       "                    <th>Unique (%)</th>\n",
       "                    <td>100.0%</td>\n",
       "                </tr>\n",
       "                <tr class=\"ignore\">\n",
       "                    <th>Missing (%)</th>\n",
       "                    <td>0.0%</td>\n",
       "                </tr>\n",
       "                <tr class=\"ignore\">\n",
       "                    <th>Missing (n)</th>\n",
       "                    <td>0</td>\n",
       "                </tr>\n",
       "                <tr class=\"ignore\">\n",
       "                    <th>Infinite (%)</th>\n",
       "                    <td>0.0%</td>\n",
       "                </tr>\n",
       "                <tr class=\"ignore\">\n",
       "                    <th>Infinite (n)</th>\n",
       "                    <td>0</td>\n",
       "                </tr>\n",
       "            </table>\n",
       "\n",
       "        </div>\n",
       "        <div class=\"col-sm-6\">\n",
       "            <table class=\"stats \">\n",
       "\n",
       "                <tr>\n",
       "                    <th>Mean</th>\n",
       "                    <td>1.1413</td>\n",
       "                </tr>\n",
       "                <tr>\n",
       "                    <th>Minimum</th>\n",
       "                    <td>-31.61</td>\n",
       "                </tr>\n",
       "                <tr>\n",
       "                    <th>Maximum</th>\n",
       "                    <td>29.422</td>\n",
       "                </tr>\n",
       "                <tr class=\"ignore\">\n",
       "                    <th>Zeros (%)</th>\n",
       "                    <td>0.0%</td>\n",
       "                </tr>\n",
       "            </table>\n",
       "        </div>\n",
       "    </div>\n",
       "</div>\n",
       "<div class=\"col-md-3 collapse in\" id=\"minihistogram-3521790219913727306\">\n",
       "    <img src=\"data:image/png;base64,iVBORw0KGgoAAAANSUhEUgAAAMgAAABLCAYAAAA1fMjoAAAAOXRFWHRTb2Z0d2FyZQBNYXRwbG90bGliIHZlcnNpb24zLjUuMywgaHR0cHM6Ly9tYXRwbG90bGliLm9yZy/NK7nSAAAACXBIWXMAAA9hAAAPYQGoP6dpAAAByUlEQVR4nO3cQa6TUBiG4Z/GKXTelF04d%2BqenJk4dD8mbsFdtOkCYF4caB1%2B3houXOR5xuQcmvJyIASaaZqmWtj1eq2%2B75eelo27XC51Pp8XnfPdorP91rZtVf36wV3XrbELbMgwDNX3/Z/jZkmrBNI0TVVVdV0nkBm8//Ttqe1/fPn4Snvyuh7HzZIOi88IG7LKCrIXz57Zq7Z7dv9fWUEgEAgEAoFAIBAIBAKBQCAQCAQCgUAg8CT9Cf/yZJxtE8gbI8K3xSUWBAKBQCAQCAQCgUAgEAgEAoHnIDvkVeCXs4JAIBAIBAKBQCAQCAQCgUAgEAgEAoFAIBAIBAKBQCAQCAQCgUAgEAgEAoFAsNs3Cn3BkJewgkAgEAgEAsFu70F4zl6/hGIFgUAgEKxyiTVNU1VVDcMwy3gfPn%2BfZRzmNdf/%2BxjncdwsaZVAxnGsqqq%2B79eYnoUcv8473jiOdTwe5x30L5pphSzv93vdbrdq27aapll6ejZmmqYax7FOp1MdDsveFawSCGyFm3QIBAKBQCAQCAQCgUAgEAgEAoFAIBAIBAKBQCAQCAQCgUAgEAgEAoFAIBAIBAKBQCAQCAQCgUAgEAgEgp85cExDL75aeQAAAABJRU5ErkJggg%3D%3D\">\n",
       "\n",
       "</div>\n",
       "<div class=\"col-md-12 text-right\">\n",
       "    <a role=\"button\" data-toggle=\"collapse\" data-target=\"#descriptives-3521790219913727306,#minihistogram-3521790219913727306\"\n",
       "       aria-expanded=\"false\" aria-controls=\"collapseExample\">\n",
       "        Toggle details\n",
       "    </a>\n",
       "</div>\n",
       "<div class=\"row collapse col-md-12\" id=\"descriptives-3521790219913727306\">\n",
       "    <ul class=\"nav nav-tabs\" role=\"tablist\">\n",
       "        <li role=\"presentation\" class=\"active\"><a href=\"#quantiles-3521790219913727306\"\n",
       "                                                  aria-controls=\"quantiles-3521790219913727306\" role=\"tab\"\n",
       "                                                  data-toggle=\"tab\">Statistics</a></li>\n",
       "        <li role=\"presentation\"><a href=\"#histogram-3521790219913727306\" aria-controls=\"histogram-3521790219913727306\"\n",
       "                                   role=\"tab\" data-toggle=\"tab\">Histogram</a></li>\n",
       "        <li role=\"presentation\"><a href=\"#common-3521790219913727306\" aria-controls=\"common-3521790219913727306\"\n",
       "                                   role=\"tab\" data-toggle=\"tab\">Common Values</a></li>\n",
       "        <li role=\"presentation\"><a href=\"#extreme-3521790219913727306\" aria-controls=\"extreme-3521790219913727306\"\n",
       "                                   role=\"tab\" data-toggle=\"tab\">Extreme Values</a></li>\n",
       "\n",
       "    </ul>\n",
       "\n",
       "    <div class=\"tab-content\">\n",
       "        <div role=\"tabpanel\" class=\"tab-pane active row\" id=\"quantiles-3521790219913727306\">\n",
       "            <div class=\"col-md-4 col-md-offset-1\">\n",
       "                <p class=\"h4\">Quantile statistics</p>\n",
       "                <table class=\"stats indent\">\n",
       "                    <tr>\n",
       "                        <th>Minimum</th>\n",
       "                        <td>-31.61</td>\n",
       "                    </tr>\n",
       "                    <tr>\n",
       "                        <th>5-th percentile</th>\n",
       "                        <td>-12.707</td>\n",
       "                    </tr>\n",
       "                    <tr>\n",
       "                        <th>Q1</th>\n",
       "                        <td>-6.2986</td>\n",
       "                    </tr>\n",
       "                    <tr>\n",
       "                        <th>Median</th>\n",
       "                        <td>1.1531</td>\n",
       "                    </tr>\n",
       "                    <tr>\n",
       "                        <th>Q3</th>\n",
       "                        <td>8.621</td>\n",
       "                    </tr>\n",
       "                    <tr>\n",
       "                        <th>95-th percentile</th>\n",
       "                        <td>15.024</td>\n",
       "                    </tr>\n",
       "                    <tr>\n",
       "                        <th>Maximum</th>\n",
       "                        <td>29.422</td>\n",
       "                    </tr>\n",
       "                    <tr>\n",
       "                        <th>Range</th>\n",
       "                        <td>61.031</td>\n",
       "                    </tr>\n",
       "                    <tr>\n",
       "                        <th>Interquartile range</th>\n",
       "                        <td>14.92</td>\n",
       "                    </tr>\n",
       "                </table>\n",
       "            </div>\n",
       "            <div class=\"col-md-4 col-md-offset-2\">\n",
       "                <p class=\"h4\">Descriptive statistics</p>\n",
       "                <table class=\"stats indent\">\n",
       "                    <tr>\n",
       "                        <th>Standard deviation</th>\n",
       "                        <td>8.9659</td>\n",
       "                    </tr>\n",
       "                    <tr>\n",
       "                        <th>Coef of variation</th>\n",
       "                        <td>7.8559</td>\n",
       "                    </tr>\n",
       "                    <tr>\n",
       "                        <th>Kurtosis</th>\n",
       "                        <td>-0.94712</td>\n",
       "                    </tr>\n",
       "                    <tr>\n",
       "                        <th>Mean</th>\n",
       "                        <td>1.1413</td>\n",
       "                    </tr>\n",
       "                    <tr>\n",
       "                        <th>MAD</th>\n",
       "                        <td>7.745</td>\n",
       "                    </tr>\n",
       "                    <tr class=\"\">\n",
       "                        <th>Skewness</th>\n",
       "                        <td>0.0019922</td>\n",
       "                    </tr>\n",
       "                    <tr>\n",
       "                        <th>Sum</th>\n",
       "                        <td>114130</td>\n",
       "                    </tr>\n",
       "                    <tr>\n",
       "                        <th>Variance</th>\n",
       "                        <td>80.388</td>\n",
       "                    </tr>\n",
       "                    <tr>\n",
       "                        <th>Memory size</th>\n",
       "                        <td>781.4 KiB</td>\n",
       "                    </tr>\n",
       "                </table>\n",
       "            </div>\n",
       "        </div>\n",
       "        <div role=\"tabpanel\" class=\"tab-pane col-md-8 col-md-offset-2\" id=\"histogram-3521790219913727306\">\n",
       "            <img src=\"data:image/png;base64,iVBORw0KGgoAAAANSUhEUgAAAlgAAAGQCAYAAAByNR6YAAAAOXRFWHRTb2Z0d2FyZQBNYXRwbG90bGliIHZlcnNpb24zLjUuMywgaHR0cHM6Ly9tYXRwbG90bGliLm9yZy/NK7nSAAAACXBIWXMAAA9hAAAPYQGoP6dpAAAqU0lEQVR4nO3df1RVdb7/8ddBPeAvfvgDkCsq%2BdvRtLDwmLauyRXT2/hr5qp5S42p0cGuipmaXbKprqZLy0qlVhPYupk/7qRNViThrylRg1DTksw0MjzopHKUSUDY3z/8slcnf6T1kcOB52Ots1Z77zf7896fTF7ts8/nOCzLsgQAAABjAnzdAAAAQG1DwAIAADCMgAUAAGAYAQsAAMAwAhYAAIBhBCwAAADDCFgAAACGEbAAAAAMI2ABAAAYRsACAAAwjIAFAABgGAELAADAMAIWAACAYQQsAAAAwwhYAAAAhhGwAAAADCNgAQAAGEbAAgAAMIyABQAAYBgBCwAAwDACFgAAgGEELAAAAMMIWAAAAIYRsAAAAAwjYAEAABhGwAIAADCMgAUAAGAYAQsAAMAwAhYAAIBhBCwAAADDCFgAAACGEbAAAAAMI2ABAAAYRsACAAAwjIAFAABgGAELAADAMAIWAACAYQQsAAAAw%2Br7uoG6oLKyUoWFhWratKkcDoev2wEAoE6wLEtnz55VVFSUAgKq954SAasaFBYWKjo62tdtAABQJ3377bdq3bp1tY5JwKoGTZs2lXTxX3BwcLCPuwEAoG7weDyKjo62fw9XJwJWNah6WzA4OJiABQBANfPF4zk85A4AAGAYAQsAAMAwAhYAAIBhBCwAAADDCFgAAACGEbAAAAAMI2ABAAAYRsACAAAwjIAFAABgGAELAADAMAIWAACAYQQsAAAAw/iyZwCoZXrPzfB1C9cs55nBvm4BuCG4gwUAAGAYAQsAAMAwAhYAAIBhBCwAAADDCFgAAACGEbAAAAAMI2ABAAAYRsACAAAwjIAFAABgGAELAADAMAIWAACAYQQsAAAAw/iyZwDVzp%2B%2BjFjiC4kBXD/uYAEAABhGwAIAADCMgAUAAGAYAQsAAMAwAhYAAIBhBCwAAADDCFgAAACGEbAAAAAMI2ABAAAYRsACAAAwjIAFAABgGAELAADAMAIWAACAYQQsAAAAwwhYAAAAhhGwAAAADCNgAQAAGEbAAgAAMIyABQAAYBgBCwAAwDACFgAAgGEELAAAAMMIWAAAAIYRsAAAAAwjYAEAABhGwAIAADCMgAUAAGBYjQ1Y8%2BfP12233aamTZsqPDxcw4cPV35%2BvlfN%2BfPnlZSUpObNm6tJkyYaNWqUioqKvGoKCgo0dOhQNWrUSOHh4Zo5c6YuXLjgVbN161bdeuutCgwMVIcOHZSenn5JP8uWLVO7du0UFBSkuLg47d692/g1AwCA2qHGBqxt27YpKSlJO3fuVGZmpsrLyzVo0CCVlJTYNdOnT9c777yjdevWadu2bSosLNTIkSPt4xUVFRo6dKjKysq0Y8cOrVy5Uunp6UpJSbFrjhw5oqFDh2rAgAHas2ePpk2bpj/84Q/64IMP7Jo1a9YoOTlZTzzxhD799FP17NlTCQkJOnHiRPVMBgAA8CsOy7IsXzdxLU6ePKnw8HBt27ZNd955p4qLi9WyZUutWrVKv/vd7yRJBw8eVNeuXZWdna0%2Bffro/fff17//%2B7%2BrsLBQERERkqTU1FTNmjVLJ0%2BelNPp1KxZs/Tuu%2B9q//799lhjxozRmTNnlJGRIUmKi4vTbbfdppdeekmSVFlZqejoaD388MOaPXv2z/bu8XgUEhKi4uJiBQcHm54awO/0npvh6xauS84zg33dwnXxp/n1t7mFf/Hl798aewfrp4qLiyVJzZo1kyTl5uaqvLxc8fHxdk2XLl3Upk0bZWdnS5Kys7PVo0cPO1xJUkJCgjwejw4cOGDX/PgcVTVV5ygrK1Nubq5XTUBAgOLj4%2B0aAACAH6vv6wauRWVlpaZNm6Y77rhD3bt3lyS53W45nU6FhoZ61UZERMjtdts1Pw5XVcerjl2txuPx6IcfftDp06dVUVFx2ZqDBw9ett/S0lKVlpba2x6P5zqvGAAA%2BDO/uIOVlJSk/fv3a/Xq1b5u5ZrMnz9fISEh9is6OtrXLQEAgGpU4wPWlClTtHHjRm3ZskWtW7e290dGRqqsrExnzpzxqi8qKlJkZKRd89NPFVZt/1xNcHCwGjZsqBYtWqhevXqXrak6x0/NmTNHxcXF9uvbb7%2B9/gsHAAB%2Bq8YGLMuyNGXKFK1fv16bN29WTEyM1/HY2Fg1aNBAWVlZ9r78/HwVFBTI5XJJklwulz777DOvT/tlZmYqODhY3bp1s2t%2BfI6qmqpzOJ1OxcbGetVUVlYqKyvLrvmpwMBABQcHe70AAEDdUWOfwUpKStKqVav09ttvq2nTpvYzUyEhIWrYsKFCQkKUmJio5ORkNWvWTMHBwXr44YflcrnUp08fSdKgQYPUrVs33XfffVq4cKHcbrcef/xxJSUlKTAwUJI0adIkvfTSS3r00Uf1wAMPaPPmzVq7dq3effddu5fk5GSNHz9evXv31u23367nn39eJSUlmjhxYvVPDAAAqPFqbMBasWKFJOlf//VfvfanpaVpwoQJkqTnnntOAQEBGjVqlEpLS5WQkKDly5fbtfXq1dPGjRs1efJkuVwuNW7cWOPHj9ef//xnuyYmJkbvvvuupk%2BfrqVLl6p169Z69dVXlZCQYNeMHj1aJ0%2BeVEpKitxut3r16qWMjIxLHnwHAACQ/GgdLH/GOliAN39ap0nyv7Wa/Gl%2B/W1u4V9YBwsAAKAWIWABAAAYRsACAAAwjIAFAABgGAELAADAMAIWAACAYQQsAAAAwwhYAAAAhhGwAAAADCNgAQAAGEbAAgAAMIyABQAAYBgBCwAAwDACFgAAgGEELAAAAMMIWAAAAIYRsAAAAAwjYAEAABhGwAIAADCMgAUAAGAYAQsAAMAwAhYAAIBhBCwAAADDCFgAAACGEbAAAAAMI2ABAAAYRsACAAAwjIAFAABgWH1fNwDAjN5zM3zdAgDg/yNgAcDPILwCuF68RQgAAGAYAQsAAMAwAhYAAIBhBCwAAADDCFgAAACGEbAAAAAMI2ABAAAYRsACAAAwjIAFAABgGAELAADAMAIWAACAYQQsAAAAwwhYAAAAhhGwAAAADCNgAQAAGEbAAgAAMIyABQAAYBgBCwAAwDACFgAAgGEELAAAAMMIWAAAAIYRsAAAAAwjYAEAABhGwAIAADCsxgas7du365577lFUVJQcDoc2bNjgdXzChAlyOBxer8GDB3vVnDp1SuPGjVNwcLBCQ0OVmJioc%2BfOedXs27dP/fv3V1BQkKKjo7Vw4cJLelm3bp26dOmioKAg9ejRQ%2B%2B9957x6wUAALVHjQ1YJSUl6tmzp5YtW3bFmsGDB%2Bv48eP268033/Q6Pm7cOB04cECZmZnauHGjtm/froceesg%2B7vF4NGjQILVt21a5ublatGiR5s2bp1deecWu2bFjh8aOHavExETl5eVp%2BPDhGj58uPbv32/%2BogEAQK3gsCzL8nUTP8fhcGj9%2BvUaPny4vW/ChAk6c%2BbMJXe2qnzxxRfq1q2bPvnkE/Xu3VuSlJGRoSFDhujYsWOKiorSihUrNHfuXLndbjmdTknS7NmztWHDBh08eFCSNHr0aJWUlGjjxo32ufv06aNevXopNTX1mvr3eDwKCQlRcXGxgoODf8EMAD%2Bv99wMX7cAXLecZwb/fBHwC/ny92%2BNvYN1LbZu3arw8HB17txZkydP1vfff28fy87OVmhoqB2uJCk%2BPl4BAQHatWuXXXPnnXfa4UqSEhISlJ%2Bfr9OnT9s18fHxXuMmJCQoOzv7Rl4aAADwY/V93cAvNXjwYI0cOVIxMTE6fPiwHnvsMd19993Kzs5WvXr15Ha7FR4e7vUz9evXV7NmzeR2uyVJbrdbMTExXjURERH2sbCwMLndbnvfj2uqznE5paWlKi0ttbc9Hs%2BvulYAAOBf/DZgjRkzxv7nHj166Oabb1b79u21detWDRw40IedSfPnz9eTTz7p0x4AAIDvGH%2BL8OuvvzZ9ymty0003qUWLFvrqq68kSZGRkTpx4oRXzYULF3Tq1ClFRkbaNUVFRV41Vds/V1N1/HLmzJmj4uJi%2B/Xtt9/%2BuosDAAB%2BxXjA6tChgwYMGKD//d//1fnz502f/oqOHTum77//Xq1atZIkuVwunTlzRrm5uXbN5s2bVVlZqbi4OLtm%2B/btKi8vt2syMzPVuXNnhYWF2TVZWVleY2VmZsrlcl2xl8DAQAUHB3u9AABA3WE8YH366ae6%2BeablZycrMjISP3xj3/U7t27r/s8586d0549e7Rnzx5J0pEjR7Rnzx4VFBTo3Llzmjlzpnbu3KmjR48qKytLw4YNU4cOHZSQkCBJ6tq1qwYPHqwHH3xQu3fv1scff6wpU6ZozJgxioqKkiTde%2B%2B9cjqdSkxM1IEDB7RmzRotXbpUycnJdh9Tp05VRkaGFi9erIMHD2revHnKycnRlClTfv1kAQCAWsl4wOrVq5eWLl2qwsJCvfbaazp%2B/Lj69eun7t27a8mSJTp58uQ1nScnJ0e33HKLbrnlFklScnKybrnlFqWkpKhevXrat2%2Bffvvb36pTp05KTExUbGys/v73vyswMNA%2BxxtvvKEuXbpo4MCBGjJkiPr16%2Be1xlVISIg2bdqkI0eOKDY2VjNmzFBKSorXWll9%2B/bVqlWr9Morr6hnz576v//7P23YsEHdu3c3NGMAAKC2ueHrYJWWlmr58uWaM2eOysrK5HQ69R//8R969tln7bfzajvWwUJ1YB0s%2BCPWwcKNVCvXwcrJydGf/vQntWrVSkuWLNEjjzyiw4cPKzMzU4WFhRo2bNiNGhoAAMCnjC/TsGTJEqWlpSk/P19DhgzR66%2B/riFDhigg4GKWi4mJUXp6utq1a2d6aAAAgBrBeMBasWKFHnjgAU2YMOGKbwGGh4frL3/5i%2BmhAQAAagTjAevQoUM/W%2BN0OjV%2B/HjTQwMAANQIxp/BSktL07p16y7Zv27dOq1cudL0cAAAADWO8YA1f/58tWjR4pL94eHh%2Bp//%2BR/TwwEAANQ4xgNWQUHBJV%2BgLElt27ZVQUGB6eEAAABqHOMBKzw8XPv27btk/969e9W8eXPTwwEAANQ4xgPW2LFj9V//9V/asmWLKioqVFFRoc2bN2vq1KkaM2aM6eEAAABqHOOfInzqqad09OhRDRw4UPXrXzx9ZWWl7r//fp7BAgAAdYLxgOV0OrVmzRo99dRT2rt3rxo2bKgePXqobdu2pocCAACokYwHrCqdOnVSp06dbtTpAQAAaizjAauiokLp6enKysrSiRMnVFlZ6XV88%2BbNpocEAACoUYwHrKlTpyo9PV1Dhw5V9%2B7d5XA4TA8BAABQoxkPWKtXr9batWs1ZMgQ06cGAADwC8aXaXA6nerQoYPp0wIAAPgN4wFrxowZWrp0qSzLMn1qAAAAv2D8LcKPPvpIW7Zs0fvvv6/f/OY3atCggdfxt956y/SQAAAANYrxgBUaGqoRI0aYPi0AoBbqPTfD1y1cl5xnBvu6BfgJ4wErLS3N9CkBAAD8ivFnsCTpwoUL%2BvDDD/Xyyy/r7NmzkqTCwkKdO3fuRgwHAABQoxi/g/XNN99o8ODBKigoUGlpqf7t3/5NTZs21bPPPqvS0lKlpqaaHhIAAKBGMX4Ha%2BrUqerdu7dOnz6thg0b2vtHjBihrKws08MBAADUOMbvYP3973/Xjh075HQ6vfa3a9dO3333nenhAAAAahzjd7AqKytVUVFxyf5jx46padOmpocDAACocYwHrEGDBun555%2B3tx0Oh86dO6cnnniCr88BAAB1gvG3CBcvXqyEhAR169ZN58%2Bf17333qtDhw6pRYsWevPNN00PBwAAUOMYD1itW7fW3r17tXr1au3bt0/nzp1TYmKixo0b5/XQOwAAQG1lPGBJUv369fWf//mfN%2BLUAAAANZ7xgPX6669f9fj9999vekgAAIAaxXjAmjp1qtd2eXm5/vnPf8rpdKpRo0YELAAAUOsZ/xTh6dOnvV7nzp1Tfn6%2B%2BvXrx0PuAACgTrgh30X4Ux07dtSCBQsuubsFAABQG1VLwJIuPvheWFhYXcMBAAD4jPFnsP72t795bVuWpePHj%2Bull17SHXfcYXo4AACAGsd4wBo%2BfLjXtsPhUMuWLXXXXXdp8eLFpocDAACocYwHrMrKStOnBAAA8CvV9gwWAABAXWH8DlZycvI11y5ZssT08AAAAD5nPGDl5eUpLy9P5eXl6ty5syTpyy%2B/VL169XTrrbfadQ6Hw/TQAAAANYLxgHXPPfeoadOmWrlypcLCwiRdXHx04sSJ6t%2B/v2bMmGF6SAAAgBrF%2BDNYixcv1vz58%2B1wJUlhYWF6%2Bumn%2BRQhAACoE4wHLI/Ho5MnT16y/%2BTJkzp79qzp4QAAAGoc4wFrxIgRmjhxot566y0dO3ZMx44d01//%2BlclJiZq5MiRpocDAACocYw/g5WamqpHHnlE9957r8rLyy8OUr%2B%2BEhMTtWjRItPDAQAA1DjGA1ajRo20fPlyLVq0SIcPH5YktW/fXo0bNzY9FAAAQI10wxYaPX78uI4fP66OHTuqcePGsizrRg0FAABQoxgPWN9//70GDhyoTp06aciQITp%2B/LgkKTExkSUaAABAnWA8YE2fPl0NGjRQQUGBGjVqZO8fPXq0MjIyTA8HAABQ4xh/BmvTpk364IMP1Lp1a6/9HTt21DfffGN6OAAAgBrH%2BB2skpISrztXVU6dOqXAwEDTwwEAANQ4xgNW//799frrr9vbDodDlZWVWrhwoQYMGGB6OAAAgBrH%2BFuECxcu1MCBA5WTk6OysjI9%2BuijOnDggE6dOqWPP/7Y9HAAAAA1jvE7WN27d9eXX36pfv36adiwYSopKdHIkSOVl5en9u3bmx4OAACgxjEasMrLyzVw4ECdOHFCc%2BfO1dq1a/Xee%2B/p6aefVqtWra7rXNu3b9c999yjqKgoORwObdiwweu4ZVlKSUlRq1at1LBhQ8XHx%2BvQoUNeNadOndK4ceMUHBys0NBQJSYm6ty5c141%2B/btU//%2B/RUUFKTo6GgtXLjwkl7WrVunLl26KCgoSD169NB77713XdcCAADqFqMBq0GDBtq3b5%2BRc5WUlKhnz55atmzZZY8vXLhQL7zwglJTU7Vr1y41btxYCQkJOn/%2BvF0zbtw4HThwQJmZmdq4caO2b9%2Buhx56yD7u8Xg0aNAgtW3bVrm5uVq0aJHmzZunV155xa7ZsWOHxo4dq8TEROXl5Wn48OEaPny49u/fb%2BQ6AQBA7eOwDC%2BxPn36dAUGBmrBggXGzulwOLR%2B/XoNHz5c0sW7V1FRUZoxY4YeeeQRSVJxcbEiIiKUnp6uMWPG6IsvvlC3bt30ySefqHfv3pKkjIwMDRkyRMeOHVNUVJRWrFihuXPnyu12y%2Bl0SpJmz56tDRs26ODBg5Iurt9VUlKijRs32v306dNHvXr1Umpq6jX17/F4FBISouLiYgUHB5uaFsBL77msMwfcaDnPDPZ1C7gOvvz9a/wh9wsXLui1117Thx9%2BqNjY2Eu%2Bg3DJkiW/eowjR47I7XYrPj7e3hcSEqK4uDhlZ2drzJgxys7OVmhoqB2uJCk%2BPl4BAQHatWuXRowYoezsbN155512uJKkhIQEPfvsszp9%2BrTCwsKUnZ2t5ORkr/ETEhIuecvyx0pLS1VaWmpvezyeX33NAADAfxgLWF9//bXatWun/fv369Zbb5Ukffnll141DofDyFhut1uSFBER4bU/IiLCPuZ2uxUeHu51vH79%2BmrWrJlXTUxMzCXnqDoWFhYmt9t91XEuZ/78%2BXryySd/wZUBAIDawFjA6tixo44fP64tW7ZIuvjW2gsvvHBJOKkL5syZ43XXy%2BPxKDo62ocdAQCA6mTsIfefPsr1/vvvq6SkxNTpvURGRkqSioqKvPYXFRXZxyIjI3XixAmv4xcuXNCpU6e8ai53jh%2BPcaWaquOXExgYqODgYK8XAACoO4yvg1XF8LPzXmJiYhQZGamsrCx7n8fj0a5du%2BRyuSRJLpdLZ86cUW5url2zefNmVVZWKi4uzq7Zvn27ysvL7ZrMzEx17txZYWFhds2Px6mqqRoHAADgp4wFLIfDcckzVr/mmatz585pz5492rNnj6SLD7bv2bNHBQUFcjgcmjZtmp5%2B%2Bmn97W9/02effab7779fUVFR9icNu3btqsGDB%2BvBBx/U7t279fHHH2vKlCkaM2aMoqKiJEn33nuvnE6nEhMTdeDAAa1Zs0ZLly71entv6tSpysjI0OLFi3Xw4EHNmzdPOTk5mjJlyi%2B%2BNgAAULsZewbLsixNmDDB/kLn8%2BfPa9KkSZd8ivCtt966pvPl5OR4fXdhVegZP3680tPT9eijj6qkpEQPPfSQzpw5o379%2BikjI0NBQUH2z7zxxhuaMmWKBg4cqICAAI0aNUovvPCCfTwkJESbNm1SUlKSYmNj1aJFC6WkpHitldW3b1%2BtWrVKjz/%2BuB577DF17NhRGzZsUPfu3a9/kgAAQJ1gbB2siRMnXlNdWlqaieH8CutgoTqwDhZw47EOln%2BpFetg1cXgBAAAcDk37CF3AACAuoqABQAAYBgBCwAAwDACFgAAgGEELAAAAMMIWAAAAIYRsAAAAAwjYAEAABhGwAIAADCMgAUAAGAYAQsAAMAwAhYAAIBhBCwAAADDCFgAAACGEbAAAAAMI2ABAAAYRsACAAAwjIAFAABgGAELAADAMAIWAACAYQQsAAAAwwhYAAAAhhGwAAAADCNgAQAAGEbAAgAAMIyABQAAYBgBCwAAwDACFgAAgGEELAAAAMMIWAAAAIYRsAAAAAwjYAEAABhGwAIAADCMgAUAAGAYAQsAAMAwAhYAAIBhBCwAAADDCFgAAACGEbAAAAAMI2ABAAAYRsACAAAwjIAFAABgGAELAADAMAIWAACAYQQsAAAAwwhYAAAAhhGwAAAADCNgAQAAGEbAAgAAMIyABQAAYBgBCwAAwDACFgAAgGEELAAAAMP8NmDNmzdPDofD69WlSxf7%2BPnz55WUlKTmzZurSZMmGjVqlIqKirzOUVBQoKFDh6pRo0YKDw/XzJkzdeHCBa%2BarVu36tZbb1VgYKA6dOig9PT06rg8AADgx/w2YEnSb37zGx0/ftx%2BffTRR/ax6dOn65133tG6deu0bds2FRYWauTIkfbxiooKDR06VGVlZdqxY4dWrlyp9PR0paSk2DVHjhzR0KFDNWDAAO3Zs0fTpk3TH/7wB33wwQfVep0AAMC/1Pd1A79G/fr1FRkZecn%2B4uJi/eUvf9GqVat01113SZLS0tLUtWtX7dy5U3369NGmTZv0%2Beef68MPP1RERIR69eqlp556SrNmzdK8efPkdDqVmpqqmJgYLV68WJLUtWtXffTRR3ruueeUkJBQrdcKAAD8h1/fwTp06JCioqJ00003ady4cSooKJAk5ebmqry8XPHx8XZtly5d1KZNG2VnZ0uSsrOz1aNHD0VERNg1CQkJ8ng8OnDggF3z43NU1VSd40pKS0vl8Xi8XgAAoO7w24AVFxen9PR0ZWRkaMWKFTpy5Ij69%2B%2Bvs2fPyu12y%2Bl0KjQ01OtnIiIi5Ha7JUlut9srXFUdrzp2tRqPx6Mffvjhir3Nnz9fISEh9is6OvrXXi4AAPAjfvsW4d13323/880336y4uDi1bdtWa9euVcOGDX3YmTRnzhwlJyfb2x6Ph5AFAEAd4rd3sH4qNDRUnTp10ldffaXIyEiVlZXpzJkzXjVFRUX2M1uRkZGXfKqwavvnaoKDg68a4gIDAxUcHOz1AgAAdUetCVjnzp3T4cOH1apVK8XGxqpBgwbKysqyj%2Bfn56ugoEAul0uS5HK59Nlnn%2BnEiRN2TWZmpoKDg9WtWze75sfnqKqpOgcAAMDl%2BG3AeuSRR7Rt2zYdPXpUO3bs0IgRI1SvXj2NHTtWISEhSkxMVHJysrZs2aLc3FxNnDhRLpdLffr0kSQNGjRI3bp103333ae9e/fqgw8%2B0OOPP66kpCQFBgZKkiZNmqSvv/5ajz76qA4ePKjly5dr7dq1mj59ui8vHQAA1HB%2B%2BwzWsWPHNHbsWH3//fdq2bKl%2BvXrp507d6ply5aSpOeee04BAQEaNWqUSktLlZCQoOXLl9s/X69ePW3cuFGTJ0%2BWy%2BVS48aNNX78eP35z3%2B2a2JiYvTuu%2B9q%2BvTpWrp0qVq3bq1XX32VJRoAAMBVOSzLsnzdRG3n8XgUEhKi4uJinsfCDdN7boavWwBqvZxnBvu6BVwHX/7%2B9du3CAEAAGoqAhYAAIBhBCwAAADDCFgAAACGEbAAAAAMI2ABAAAYRsACAAAwjIAFAABgmN%2Bu5A7caCzcCQD4pbiDBQAAYBgBCwAAwDACFgAAgGEELAAAAMMIWAAAAIYRsAAAAAwjYAEAABhGwAIAADCMgAUAAGAYAQsAAMAwAhYAAIBhBCwAAADDCFgAAACGEbAAAAAMI2ABAAAYRsACAAAwjIAFAABgGAELAADAMAIWAACAYQQsAAAAwwhYAAAAhhGwAAAADCNgAQAAGFbf1w0AAOAves/N8HUL1yXnmcG%2BbqHO4g4WAACAYQQsAAAAwwhYAAAAhhGwAAAADCNgAQAAGEbAAgAAMIyABQAAYBgBCwAAwDACFgAAgGEELAAAAMMIWAAAAIYRsAAAAAwjYAEAABhGwAIAADCMgAUAAGAYAQsAAMAwAhYAAIBhBCwAAADDCFgAAACGEbAAAAAMI2ABAAAYRsC6RsuWLVO7du0UFBSkuLg47d6929ctAQCAGqq%2BrxvwB2vWrFFycrJSU1MVFxen559/XgkJCcrPz1d4eLiv2/Mbvedm%2BLoFAACqBXewrsGSJUv04IMPauLEierWrZtSU1PVqFEjvfbaa75uDQAA1EDcwfoZZWVlys3N1Zw5c%2Bx9AQEBio%2BPV3Z29mV/prS0VKWlpfZ2cXGxJMnj8dzYZmu4itISX7cAAHXKLY/81dctXLNtKf9m/JxVv3ctyzJ%2B7p9DwPoZ//jHP1RRUaGIiAiv/RERETp48OBlf2b%2B/Pl68sknL9kfHR19Q3oEAMDfhSy%2Bcec%2Be/asQkJCbtwAl0HAugHmzJmj5ORke7uyslKnTp1S8%2BbN5XA4fNKTx%2BNRdHS0vv32WwUHB/ukh5qM%2Bbky5ubqmJ8rY26ujvm5MlNzY1mWzp49q6ioKIPdXRsC1s9o0aKF6tWrp6KiIq/9RUVFioyMvOzPBAYGKjAw0GtfaGjojWrxugQHB/Mf8lUwP1fG3Fwd83NlzM3VMT9XZmJuqvvOVRUecv8ZTqdTsbGxysrKsvdVVlYqKytLLpfLh50BAICaijtY1yA5OVnjx49X7969dfvtt%2Bv5559XSUmJJk6c6OvWAABADUTAugajR4/WyZMnlZKSIrfbrV69eikjI%2BOSB99rssDAQD3xxBOXvHWJi5ifK2Nuro75uTLm5uqYnyurDXPjsHzx2UUAAIBajGewAAAADCNgAQAAGEbAAgAAMIyABQAAYBgBqw747W9/qzZt2igoKEitWrXSfffdp8LCQq%2Baffv2qX///goKClJ0dLQWLlzoo26r19GjR5WYmKiYmBg1bNhQ7du31xNPPKGysjKvuro6P88884z69u2rRo0aXXGx3IKCAg0dOlSNGjVSeHi4Zs6cqQsXLlRvoz6ybNkytWvXTkFBQYqLi9Pu3bt93ZJPbN%2B%2BXffcc4%2BioqLkcDi0YcMGr%2BOWZSklJUWtWrVSw4YNFR8fr0OHDvmm2Wo2f/583XbbbWratKnCw8M1fPhw5efne9WcP39eSUlJat68uZo0aaJRo0Zdsrh1bbVixQrdfPPN9oKiLpdL77//vn3cn%2BeGgFUHDBgwQGvXrlV%2Bfr7%2B%2Bte/6vDhw/rd735nH/d4PBo0aJDatm2r3NxcLVq0SPPmzdMrr7ziw66rx8GDB1VZWamXX35ZBw4c0HPPPafU1FQ99thjdk1dnp%2BysjL9/ve/1%2BTJky97vKKiQkOHDlVZWZl27NihlStXKj09XSkpKdXcafVbs2aNkpOT9cQTT%2BjTTz9Vz549lZCQoBMnTvi6tWpXUlKinj17atmyZZc9vnDhQr3wwgtKTU3Vrl271LhxYyUkJOj8%2BfPV3Gn127Ztm5KSkrRz505lZmaqvLxcgwYNUklJiV0zffp0vfPOO1q3bp22bdumwsJCjRw50oddV5/WrVtrwYIFys3NVU5Oju666y4NGzZMBw4ckOTnc2Ohznn77bcth8NhlZWVWZZlWcuXL7fCwsKs0tJSu2bWrFlW586dfdWiTy1cuNCKiYmxt5kfy0pLS7NCQkIu2f/ee%2B9ZAQEBltvttvetWLHCCg4O9pqv2uj222%2B3kpKS7O2KigorKirKmj9/vg%2B78j1J1vr16%2B3tyspKKzIy0lq0aJG978yZM1ZgYKD15ptv%2BqBD3zpx4oQlydq2bZtlWRfnokGDBta6devsmi%2B%2B%2BMKSZGVnZ/uqTZ8KCwuzXn31Vb%2BfG%2B5g1TGnTp3SG2%2B8ob59%2B6pBgwaSpOzsbN15551yOp12XUJCgvLz83X69GlfteozxcXFatasmb3N/FxZdna2evTo4bXobkJCgjwej/1/oLVRWVmZcnNzFR8fb%2B8LCAhQfHy8srOzfdhZzXPkyBG53W6vuQoJCVFcXFydnKvi4mJJsv%2BOyc3NVXl5udf8dOnSRW3atKlz81NRUaHVq1erpKRELpfL7%2BeGgFVHzJo1S40bN1bz5s1VUFCgt99%2B2z7mdrsvWZW%2Batvtdldrn7721Vdf6cUXX9Qf//hHex/zc2V1dW7%2B8Y9/qKKi4rLXXpuv%2B5eomg/m6uL32E6bNk133HGHunfvLuni/DidzkuecaxL8/PZZ5%2BpSZMmCgwM1KRJk7R%2B/Xp169bN7%2BeGgOWnZs%2BeLYfDcdXXwYMH7fqZM2cqLy9PmzZtUr169XT//ffLqsWL%2BF/v/EjSd999p8GDB%2Bv3v/%2B9HnzwQR91fuP9krkB8OslJSVp//79Wr16ta9bqVE6d%2B6sPXv2aNeuXZo8ebLGjx%2Bvzz//3Ndt/Wp8F6GfmjFjhiZMmHDVmptuusn%2B5xYtWqhFixbq1KmTunbtqujoaO3cuVMul0uRkZGXfCqjajsyMtJ479XheuensLBQAwYMUN%2B%2BfS95eL22zc/1zs3VREZGXvLJOX%2Bem2vVokUL1atX77J/Lmrzdf8SVfNRVFSkVq1a2fuLiorUq1cvH3VV/aZMmaKNGzdq%2B/btat26tb0/MjJSZWVlOnPmjNedmrr0Z8npdKpDhw6SpNjYWH3yySdaunSpRo8e7ddzQ8DyUy1btlTLli1/0c9WVlZKkkpLSyVJLpdLc%2BfOVXl5uf1cVmZmpjp37qywsDAzDVez65mf7777TgMGDFBsbKzS0tIUEOB9Y7e2zc%2Bv%2BbPzUy6XS88884xOnDih8PBwSRfnJjg4WN26dTMyRk3kdDoVGxurrKwsDR8%2BXNLF/66ysrI0ZcoU3zZXw8TExCgyMlJZWVl2oPJ4PPbditrOsiw9/PDDWr9%2BvbZu3aqYmBiv47GxsWrQoIGysrI0atQoSVJ%2Bfr4KCgrkcrl80bLPVVZWqrS01P/nxtdP2ePG2rlzp/Xiiy9aeXl51tGjR62srCyrb9%2B%2BVvv27a3z589blnXxUywRERHWfffdZ%2B3fv99avXq11ahRI%2Bvll1/2cfc33rFjx6wOHTpYAwcOtI4dO2YdP37cflWpy/PzzTffWHl5edaTTz5pNWnSxMrLy7Py8vKss2fPWpZlWRcuXLC6d%2B9uDRo0yNqzZ4%2BVkZFhtWzZ0pozZ46PO7/xVq9ebQUGBlrp6enW559/bj300ENWaGio1ycq64qzZ8/afzYkWUuWLLHy8vKsb775xrIsy1qwYIEVGhpqvf3229a%2BffusYcOGWTExMdYPP/zg485vvMmTJ1shISHW1q1bvf5%2B%2Bec//2nXTJo0yWrTpo21efNmKycnx3K5XJbL5fJh19Vn9uzZ1rZt26wjR45Y%2B/bts2bPnm05HA5r06ZNlmX599wQsGq5ffv2WQMGDLCaNWtmBQYGWu3atbMmTZpkHTt2zKtu7969Vr9%2B/azAwEDrX/7lX6wFCxb4qOPqlZaWZkm67OvH6ur8jB8//rJzs2XLFrvm6NGj1t133201bNjQatGihTVjxgyrvLzcd01XoxdffNFq06aN5XQ6rdtvv93auXOnr1vyiS1btlz2z8n48eMty7q4VMN///d/WxEREVZgYKA1cOBAKz8/37dNV5Mr/f2SlpZm1/zwww/Wn/70JyssLMxq1KiRNWLECK//yavNHnjgAatt27aW0%2Bm0WrZsaQ0cONAOV5bl33PjsKxa/KQzAACAD/ApQgAAAMMIWAAAAIYRsAAAAAwjYAEAABhGwAIAADCMgAUAAGAYAQsAAMAwAhYAAIBhBCwAAADDCFgAAACGEbAAAAAMI2ABAAAYRsACAAAwjIAFAABgGAELAADAMAIWAACAYQQsAAAAwwhYAAAAhv0/brFB1Bnlk8wAAAAASUVORK5CYII%3D\"/>\n",
       "        </div>\n",
       "        <div role=\"tabpanel\" class=\"tab-pane col-md-12\" id=\"common-3521790219913727306\">\n",
       "            \n",
       "<table class=\"freq table table-hover\">\n",
       "    <thead>\n",
       "    <tr>\n",
       "        <td class=\"fillremaining\">Value</td>\n",
       "        <td class=\"number\">Count</td>\n",
       "        <td class=\"number\">Frequency (%)</td>\n",
       "        <td style=\"min-width:200px\">&nbsp;</td>\n",
       "    </tr>\n",
       "    </thead>\n",
       "    <tr class=\"\">\n",
       "        <td class=\"fillremaining\">-4.545514509167491</td>\n",
       "        <td class=\"number\">1</td>\n",
       "        <td class=\"number\">0.0%</td>\n",
       "        <td>\n",
       "            <div class=\"bar\" style=\"width:1%\">&nbsp;</div>\n",
       "        </td>\n",
       "</tr><tr class=\"\">\n",
       "        <td class=\"fillremaining\">5.297342907170771</td>\n",
       "        <td class=\"number\">1</td>\n",
       "        <td class=\"number\">0.0%</td>\n",
       "        <td>\n",
       "            <div class=\"bar\" style=\"width:1%\">&nbsp;</div>\n",
       "        </td>\n",
       "</tr><tr class=\"\">\n",
       "        <td class=\"fillremaining\">-13.07567635295842</td>\n",
       "        <td class=\"number\">1</td>\n",
       "        <td class=\"number\">0.0%</td>\n",
       "        <td>\n",
       "            <div class=\"bar\" style=\"width:1%\">&nbsp;</div>\n",
       "        </td>\n",
       "</tr><tr class=\"\">\n",
       "        <td class=\"fillremaining\">0.3841760767151277</td>\n",
       "        <td class=\"number\">1</td>\n",
       "        <td class=\"number\">0.0%</td>\n",
       "        <td>\n",
       "            <div class=\"bar\" style=\"width:1%\">&nbsp;</div>\n",
       "        </td>\n",
       "</tr><tr class=\"\">\n",
       "        <td class=\"fillremaining\">21.030915774173433</td>\n",
       "        <td class=\"number\">1</td>\n",
       "        <td class=\"number\">0.0%</td>\n",
       "        <td>\n",
       "            <div class=\"bar\" style=\"width:1%\">&nbsp;</div>\n",
       "        </td>\n",
       "</tr><tr class=\"\">\n",
       "        <td class=\"fillremaining\">-5.512907503795417</td>\n",
       "        <td class=\"number\">1</td>\n",
       "        <td class=\"number\">0.0%</td>\n",
       "        <td>\n",
       "            <div class=\"bar\" style=\"width:1%\">&nbsp;</div>\n",
       "        </td>\n",
       "</tr><tr class=\"\">\n",
       "        <td class=\"fillremaining\">9.635347725678445</td>\n",
       "        <td class=\"number\">1</td>\n",
       "        <td class=\"number\">0.0%</td>\n",
       "        <td>\n",
       "            <div class=\"bar\" style=\"width:1%\">&nbsp;</div>\n",
       "        </td>\n",
       "</tr><tr class=\"\">\n",
       "        <td class=\"fillremaining\">-13.510264046392308</td>\n",
       "        <td class=\"number\">1</td>\n",
       "        <td class=\"number\">0.0%</td>\n",
       "        <td>\n",
       "            <div class=\"bar\" style=\"width:1%\">&nbsp;</div>\n",
       "        </td>\n",
       "</tr><tr class=\"\">\n",
       "        <td class=\"fillremaining\">12.881080199405885</td>\n",
       "        <td class=\"number\">1</td>\n",
       "        <td class=\"number\">0.0%</td>\n",
       "        <td>\n",
       "            <div class=\"bar\" style=\"width:1%\">&nbsp;</div>\n",
       "        </td>\n",
       "</tr><tr class=\"\">\n",
       "        <td class=\"fillremaining\">3.2917667368611268</td>\n",
       "        <td class=\"number\">1</td>\n",
       "        <td class=\"number\">0.0%</td>\n",
       "        <td>\n",
       "            <div class=\"bar\" style=\"width:1%\">&nbsp;</div>\n",
       "        </td>\n",
       "</tr><tr class=\"other\">\n",
       "        <td class=\"fillremaining\">Other values (99990)</td>\n",
       "        <td class=\"number\">99990</td>\n",
       "        <td class=\"number\">100.0%</td>\n",
       "        <td>\n",
       "            <div class=\"bar\" style=\"width:100%\">&nbsp;</div>\n",
       "        </td>\n",
       "</tr>\n",
       "</table>\n",
       "        </div>\n",
       "        <div role=\"tabpanel\" class=\"tab-pane col-md-12\"  id=\"extreme-3521790219913727306\">\n",
       "            <p class=\"h4\">Minimum 5 values</p>\n",
       "            \n",
       "<table class=\"freq table table-hover\">\n",
       "    <thead>\n",
       "    <tr>\n",
       "        <td class=\"fillremaining\">Value</td>\n",
       "        <td class=\"number\">Count</td>\n",
       "        <td class=\"number\">Frequency (%)</td>\n",
       "        <td style=\"min-width:200px\">&nbsp;</td>\n",
       "    </tr>\n",
       "    </thead>\n",
       "    <tr class=\"\">\n",
       "        <td class=\"fillremaining\">-31.60957601916769</td>\n",
       "        <td class=\"number\">1</td>\n",
       "        <td class=\"number\">0.0%</td>\n",
       "        <td>\n",
       "            <div class=\"bar\" style=\"width:100%\">&nbsp;</div>\n",
       "        </td>\n",
       "</tr><tr class=\"\">\n",
       "        <td class=\"fillremaining\">-27.829616136400016</td>\n",
       "        <td class=\"number\">1</td>\n",
       "        <td class=\"number\">0.0%</td>\n",
       "        <td>\n",
       "            <div class=\"bar\" style=\"width:100%\">&nbsp;</div>\n",
       "        </td>\n",
       "</tr><tr class=\"\">\n",
       "        <td class=\"fillremaining\">-26.64625506715552</td>\n",
       "        <td class=\"number\">1</td>\n",
       "        <td class=\"number\">0.0%</td>\n",
       "        <td>\n",
       "            <div class=\"bar\" style=\"width:100%\">&nbsp;</div>\n",
       "        </td>\n",
       "</tr><tr class=\"\">\n",
       "        <td class=\"fillremaining\">-24.950386084926443</td>\n",
       "        <td class=\"number\">1</td>\n",
       "        <td class=\"number\">0.0%</td>\n",
       "        <td>\n",
       "            <div class=\"bar\" style=\"width:100%\">&nbsp;</div>\n",
       "        </td>\n",
       "</tr><tr class=\"\">\n",
       "        <td class=\"fillremaining\">-24.79171999649736</td>\n",
       "        <td class=\"number\">1</td>\n",
       "        <td class=\"number\">0.0%</td>\n",
       "        <td>\n",
       "            <div class=\"bar\" style=\"width:100%\">&nbsp;</div>\n",
       "        </td>\n",
       "</tr>\n",
       "</table>\n",
       "            <p class=\"h4\">Maximum 5 values</p>\n",
       "            \n",
       "<table class=\"freq table table-hover\">\n",
       "    <thead>\n",
       "    <tr>\n",
       "        <td class=\"fillremaining\">Value</td>\n",
       "        <td class=\"number\">Count</td>\n",
       "        <td class=\"number\">Frequency (%)</td>\n",
       "        <td style=\"min-width:200px\">&nbsp;</td>\n",
       "    </tr>\n",
       "    </thead>\n",
       "    <tr class=\"\">\n",
       "        <td class=\"fillremaining\">26.535303621818514</td>\n",
       "        <td class=\"number\">1</td>\n",
       "        <td class=\"number\">0.0%</td>\n",
       "        <td>\n",
       "            <div class=\"bar\" style=\"width:100%\">&nbsp;</div>\n",
       "        </td>\n",
       "</tr><tr class=\"\">\n",
       "        <td class=\"fillremaining\">28.400991653040442</td>\n",
       "        <td class=\"number\">1</td>\n",
       "        <td class=\"number\">0.0%</td>\n",
       "        <td>\n",
       "            <div class=\"bar\" style=\"width:100%\">&nbsp;</div>\n",
       "        </td>\n",
       "</tr><tr class=\"\">\n",
       "        <td class=\"fillremaining\">28.930828787727965</td>\n",
       "        <td class=\"number\">1</td>\n",
       "        <td class=\"number\">0.0%</td>\n",
       "        <td>\n",
       "            <div class=\"bar\" style=\"width:100%\">&nbsp;</div>\n",
       "        </td>\n",
       "</tr><tr class=\"\">\n",
       "        <td class=\"fillremaining\">29.25906207789393</td>\n",
       "        <td class=\"number\">1</td>\n",
       "        <td class=\"number\">0.0%</td>\n",
       "        <td>\n",
       "            <div class=\"bar\" style=\"width:100%\">&nbsp;</div>\n",
       "        </td>\n",
       "</tr><tr class=\"\">\n",
       "        <td class=\"fillremaining\">29.42175461390372</td>\n",
       "        <td class=\"number\">1</td>\n",
       "        <td class=\"number\">0.0%</td>\n",
       "        <td>\n",
       "            <div class=\"bar\" style=\"width:100%\">&nbsp;</div>\n",
       "        </td>\n",
       "</tr>\n",
       "</table>\n",
       "        </div>\n",
       "    </div>\n",
       "</div>\n",
       "</div><div class=\"row variablerow\">\n",
       "    <div class=\"col-md-3 namecol\">\n",
       "        <p class=\"h4 pp-anchor\" id=\"pp_var_f1\">f1<br/>\n",
       "            <small>Numeric</small>\n",
       "        </p>\n",
       "    </div><div class=\"col-md-6\">\n",
       "    <div class=\"row\">\n",
       "        <div class=\"col-sm-6\">\n",
       "            <table class=\"stats \">\n",
       "                <tr>\n",
       "                    <th>Distinct count</th>\n",
       "                    <td>100000</td>\n",
       "                </tr>\n",
       "                <tr>\n",
       "                    <th>Unique (%)</th>\n",
       "                    <td>100.0%</td>\n",
       "                </tr>\n",
       "                <tr class=\"ignore\">\n",
       "                    <th>Missing (%)</th>\n",
       "                    <td>0.0%</td>\n",
       "                </tr>\n",
       "                <tr class=\"ignore\">\n",
       "                    <th>Missing (n)</th>\n",
       "                    <td>0</td>\n",
       "                </tr>\n",
       "                <tr class=\"ignore\">\n",
       "                    <th>Infinite (%)</th>\n",
       "                    <td>0.0%</td>\n",
       "                </tr>\n",
       "                <tr class=\"ignore\">\n",
       "                    <th>Infinite (n)</th>\n",
       "                    <td>0</td>\n",
       "                </tr>\n",
       "            </table>\n",
       "\n",
       "        </div>\n",
       "        <div class=\"col-sm-6\">\n",
       "            <table class=\"stats \">\n",
       "\n",
       "                <tr>\n",
       "                    <th>Mean</th>\n",
       "                    <td>-4.7966</td>\n",
       "                </tr>\n",
       "                <tr>\n",
       "                    <th>Minimum</th>\n",
       "                    <td>-26.359</td>\n",
       "                </tr>\n",
       "                <tr>\n",
       "                    <th>Maximum</th>\n",
       "                    <td>18.734</td>\n",
       "                </tr>\n",
       "                <tr class=\"ignore\">\n",
       "                    <th>Zeros (%)</th>\n",
       "                    <td>0.0%</td>\n",
       "                </tr>\n",
       "            </table>\n",
       "        </div>\n",
       "    </div>\n",
       "</div>\n",
       "<div class=\"col-md-3 collapse in\" id=\"minihistogram-4269209255617096035\">\n",
       "    <img src=\"data:image/png;base64,iVBORw0KGgoAAAANSUhEUgAAAMgAAABLCAYAAAA1fMjoAAAAOXRFWHRTb2Z0d2FyZQBNYXRwbG90bGliIHZlcnNpb24zLjUuMywgaHR0cHM6Ly9tYXRwbG90bGliLm9yZy/NK7nSAAAACXBIWXMAAA9hAAAPYQGoP6dpAAAB1UlEQVR4nO3dv87SUBzH4V%2BJa2En9CJM3J1MvKB3M3EwcfRS3E2c3L0LCBfQ7tRBcXu/gsHWwvPsPack55OT/gGacRzHmtjhcKiu66aeloXb7/e12%2B0mnfPFpLP90rZtVf38wOv1eo5TYEH6vq%2Bu636vmynNEkjTNFVVtV6v7zqQV%2B%2B%2BXH3M949v/8GZ3IfzupnSavIZYUEEAoFAIBAIBAKBQCAQzHKbl%2Be5Nfx/sYNAIBAIBAKBQCAQCAQCgUAgEAgEAoFAIBAIBAKBQCDwsuIV/uZFQpbNDgKBQCAQCAQCgUAgEAgEAoFAIBAIBAKBJ%2Bl34Non/H4m6HJ2EAgEAoFAIBAIBAKBQCAQCAQCgUAgEAge9km675dzCTsIBAKBQCAQPOw1yCPzR6GXs4NAMMsOMo5jVVX1fX%2BT8V5/%2BHqTcXjey6fPVx/z7f2bm8x9XifndTOlWQIZhqGqqrqum2N6JrL5dNvxhmGozWZz20H/oBlnyPJ0OtXxeKy2batpmqmnZ2HGcaxhGGq73dZqNe1VwSyBwFK4SIdAIBAIBAKBQCAQCAQCgUAgEAgEAoFAIBAIBAKBQCAQCAQCgUAgEAgEAoFAIBAIBAKBQCAQCAQCgUAg%2BAHDqUraEIVsCAAAAABJRU5ErkJggg%3D%3D\">\n",
       "\n",
       "</div>\n",
       "<div class=\"col-md-12 text-right\">\n",
       "    <a role=\"button\" data-toggle=\"collapse\" data-target=\"#descriptives-4269209255617096035,#minihistogram-4269209255617096035\"\n",
       "       aria-expanded=\"false\" aria-controls=\"collapseExample\">\n",
       "        Toggle details\n",
       "    </a>\n",
       "</div>\n",
       "<div class=\"row collapse col-md-12\" id=\"descriptives-4269209255617096035\">\n",
       "    <ul class=\"nav nav-tabs\" role=\"tablist\">\n",
       "        <li role=\"presentation\" class=\"active\"><a href=\"#quantiles-4269209255617096035\"\n",
       "                                                  aria-controls=\"quantiles-4269209255617096035\" role=\"tab\"\n",
       "                                                  data-toggle=\"tab\">Statistics</a></li>\n",
       "        <li role=\"presentation\"><a href=\"#histogram-4269209255617096035\" aria-controls=\"histogram-4269209255617096035\"\n",
       "                                   role=\"tab\" data-toggle=\"tab\">Histogram</a></li>\n",
       "        <li role=\"presentation\"><a href=\"#common-4269209255617096035\" aria-controls=\"common-4269209255617096035\"\n",
       "                                   role=\"tab\" data-toggle=\"tab\">Common Values</a></li>\n",
       "        <li role=\"presentation\"><a href=\"#extreme-4269209255617096035\" aria-controls=\"extreme-4269209255617096035\"\n",
       "                                   role=\"tab\" data-toggle=\"tab\">Extreme Values</a></li>\n",
       "\n",
       "    </ul>\n",
       "\n",
       "    <div class=\"tab-content\">\n",
       "        <div role=\"tabpanel\" class=\"tab-pane active row\" id=\"quantiles-4269209255617096035\">\n",
       "            <div class=\"col-md-4 col-md-offset-1\">\n",
       "                <p class=\"h4\">Quantile statistics</p>\n",
       "                <table class=\"stats indent\">\n",
       "                    <tr>\n",
       "                        <th>Minimum</th>\n",
       "                        <td>-26.359</td>\n",
       "                    </tr>\n",
       "                    <tr>\n",
       "                        <th>5-th percentile</th>\n",
       "                        <td>-13.191</td>\n",
       "                    </tr>\n",
       "                    <tr>\n",
       "                        <th>Q1</th>\n",
       "                        <td>-8.268</td>\n",
       "                    </tr>\n",
       "                    <tr>\n",
       "                        <th>Median</th>\n",
       "                        <td>-4.8132</td>\n",
       "                    </tr>\n",
       "                    <tr>\n",
       "                        <th>Q3</th>\n",
       "                        <td>-1.3328</td>\n",
       "                    </tr>\n",
       "                    <tr>\n",
       "                        <th>95-th percentile</th>\n",
       "                        <td>3.6674</td>\n",
       "                    </tr>\n",
       "                    <tr>\n",
       "                        <th>Maximum</th>\n",
       "                        <td>18.734</td>\n",
       "                    </tr>\n",
       "                    <tr>\n",
       "                        <th>Range</th>\n",
       "                        <td>45.093</td>\n",
       "                    </tr>\n",
       "                    <tr>\n",
       "                        <th>Interquartile range</th>\n",
       "                        <td>6.9352</td>\n",
       "                    </tr>\n",
       "                </table>\n",
       "            </div>\n",
       "            <div class=\"col-md-4 col-md-offset-2\">\n",
       "                <p class=\"h4\">Descriptive statistics</p>\n",
       "                <table class=\"stats indent\">\n",
       "                    <tr>\n",
       "                        <th>Standard deviation</th>\n",
       "                        <td>5.1199</td>\n",
       "                    </tr>\n",
       "                    <tr>\n",
       "                        <th>Coef of variation</th>\n",
       "                        <td>-1.0674</td>\n",
       "                    </tr>\n",
       "                    <tr>\n",
       "                        <th>Kurtosis</th>\n",
       "                        <td>-0.023065</td>\n",
       "                    </tr>\n",
       "                    <tr>\n",
       "                        <th>Mean</th>\n",
       "                        <td>-4.7966</td>\n",
       "                    </tr>\n",
       "                    <tr>\n",
       "                        <th>MAD</th>\n",
       "                        <td>4.0898</td>\n",
       "                    </tr>\n",
       "                    <tr class=\"\">\n",
       "                        <th>Skewness</th>\n",
       "                        <td>0.016597</td>\n",
       "                    </tr>\n",
       "                    <tr>\n",
       "                        <th>Sum</th>\n",
       "                        <td>-479660</td>\n",
       "                    </tr>\n",
       "                    <tr>\n",
       "                        <th>Variance</th>\n",
       "                        <td>26.213</td>\n",
       "                    </tr>\n",
       "                    <tr>\n",
       "                        <th>Memory size</th>\n",
       "                        <td>781.4 KiB</td>\n",
       "                    </tr>\n",
       "                </table>\n",
       "            </div>\n",
       "        </div>\n",
       "        <div role=\"tabpanel\" class=\"tab-pane col-md-8 col-md-offset-2\" id=\"histogram-4269209255617096035\">\n",
       "            <img src=\"data:image/png;base64,iVBORw0KGgoAAAANSUhEUgAAAlgAAAGQCAYAAAByNR6YAAAAOXRFWHRTb2Z0d2FyZQBNYXRwbG90bGliIHZlcnNpb24zLjUuMywgaHR0cHM6Ly9tYXRwbG90bGliLm9yZy/NK7nSAAAACXBIWXMAAA9hAAAPYQGoP6dpAAAwsUlEQVR4nO3df1RU9b7/8Reggz8H/AXIFZXSNI6mK1ScMtexOIxJrUw7V8sMjeroQW9KP9TyotbpUrQs7fiDWnXEs%2B4xzXXTTpoY4a/bETVJMi3JykKDAUthlBIQ9vcPv%2BzbpJXVRwbw%2BVhr1nHv/Z7P571nm/M6e/bsCbAsyxIAAACMCfR3AwAAAM0NAQsAAMAwAhYAAIBhBCwAAADDCFgAAACGEbAAAAAMI2ABAAAYRsACAAAwjIAFAABgGAELAADAMAIWAACAYQQsAAAAwwhYAAAAhhGwAAAADCNgAQAAGEbAAgAAMIyABQAAYBgBCwAAwDACFgAAgGEELAAAAMMIWAAAAIYRsAAAAAwjYAEAABhGwAIAADCMgAUAAGAYAQsAAMAwAhYAAIBhBCwAAADDCFgAAACGEbAAAAAMI2ABAAAYRsACAAAwjIAFAABgGAELAADAMAIWAACAYQQsAAAAwwhYAAAAhhGwAAAADGvh7wYuB3V1dSouLlb79u0VEBDg73YAALgsWJalU6dOKTIyUoGBDXtOiYDVAIqLixUVFeXvNgAAuCwdPXpU3bp1a9A5CVgNoH379pLOHWCn0%2BnnbgAAuDx4vV5FRUXZ78MNiYDVAOo/FnQ6nQQsAAAamD8uz%2BEidwAAAMMIWAAAAIYRsAAAAAwjYAEAABhGwAIAADCMgAUAAGAYAQsAAMAwAhYAAIBhBCwAAADDCFgAAACGEbAAAAAMI2ABAAAYxo89A2hwgx7P9ncLv8jep0b6uwUATQxnsAAAAAwjYAEAABhGwAIAADCMgAUAAGAYAQsAAMAwAhYAAIBhBCwAAADDCFgAAACGEbAAAAAMI2ABAAAYRsACAAAwjIAFAABgGAELAADAMAIWAACAYQQsAAAAwwhYAAAAhhGwAAAADCNgAQAAGEbAAgAAMIyABQAAYBgBCwAAwDACFgAAgGEELAAAAMMabcBavny5rrnmGjmdTjmdTrlcLm3atMnefubMGaWkpKhTp05q166dxo4dq9LSUp8xioqKlJiYqDZt2igsLEyPPPKIzp4961Ozbds2XXvttQoODlavXr2UlZV1Xi9Lly5Vz5491apVK8XFxWnPnj2XZJ8BAEDz0GgDVrdu3fT0008rPz9fe/fu1Y033qjbbrtNBw8elCTNnDlTb775ptauXavt27eruLhYY8aMsZ9fW1urxMREVVdXa%2BfOnVq5cqWysrKUlpZm1xw5ckSJiYkaMWKECgoKNGPGDN13333avHmzXbNmzRqlpqZq3rx5ev/99zVgwAC53W6VlZU13IsBAACalADLsix/N3GxOnbsqGeffVZ33HGHunTpolWrVumOO%2B6QJB06dEhXX3218vLyNHToUG3atEm33HKLiouLFR4eLknKzMzUrFmzdPz4cTkcDs2aNUsbN27UgQMH7DnGjx%2Bv8vJyZWdnS5Li4uI0ePBgLVmyRJJUV1enqKgoTZ8%2BXbNnz76ovr1er0JCQlRRUSGn02nyJQGapEGPZ/u7hV9k71Mj/d0CgF/Bn%2B%2B/jfYM1vfV1tZq9erVqqyslMvlUn5%2BvmpqahQfH2/X9O3bV927d1deXp4kKS8vT/3797fDlSS53W55vV77LFheXp7PGPU19WNUV1crPz/fpyYwMFDx8fF2zYVUVVXJ6/X6PAAAwOWjUQesDz/8UO3atVNwcLCmTJmidevWKSYmRh6PRw6HQ6GhoT714eHh8ng8kiSPx%2BMTruq312/7qRqv16vvvvtOX3/9tWpray9YUz/GhaSnpyskJMR%2BREVF/ar9BwAATVOjDlh9%2BvRRQUGBdu/eralTpyopKUkfffSRv9v6WXPmzFFFRYX9OHr0qL9bAgAADaiFvxv4KQ6HQ7169ZIkxcbG6r333tPixYs1btw4VVdXq7y83OcsVmlpqSIiIiRJERER533br/5bht%2Bv%2BeE3D0tLS%2BV0OtW6dWsFBQUpKCjogjX1Y1xIcHCwgoODf91OAwCAJq9Rn8H6obq6OlVVVSk2NlYtW7ZUbm6uva2wsFBFRUVyuVySJJfLpQ8//NDn2345OTlyOp2KiYmxa74/Rn1N/RgOh0OxsbE%2BNXV1dcrNzbVrAAAAfqjRnsGaM2eObr75ZnXv3l2nTp3SqlWrtG3bNm3evFkhISFKTk5WamqqOnbsKKfTqenTp8vlcmno0KGSpISEBMXExGjixInKyMiQx%2BPR3LlzlZKSYp9dmjJlipYsWaJHH31U9957r7Zs2aLXXntNGzdutPtITU1VUlKSBg0apCFDhmjRokWqrKzU5MmT/fK6AACAxq/RBqyysjLdc889KikpUUhIiK655hpt3rxZf/jDHyRJzz//vAIDAzV27FhVVVXJ7XZr2bJl9vODgoK0YcMGTZ06VS6XS23btlVSUpKeeOIJuyY6OlobN27UzJkztXjxYnXr1k0vv/yy3G63XTNu3DgdP35caWlp8ng8GjhwoLKzs8%2B78B0AAKBek7oPVlPFfbAAX9wHC0BD4D5YAAAAzQgBCwAAwDACFgAAgGEELAAAAMMIWAAAAIYRsAAAAAwjYAEAABhGwAIAADCMgAUAAGAYAQsAAMAwAhYAAIBhjfbHngGgseC3EwH8UpzBAgAAMIyABQAAYBgBCwAAwDACFgAAgGEELAAAAMMIWAAAAIYRsAAAAAwjYAEAABhGwAIAADCMgAUAAGAYAQsAAMAwAhYAAIBhBCwAAADDCFgAAACGEbAAAAAMI2ABAAAYRsACAAAwjIAFAABgGAELAADAMAIWAACAYQQsAAAAwwhYAAAAhhGwAAAADGu0ASs9PV2DBw9W%2B/btFRYWptGjR6uwsNCn5ve//70CAgJ8HlOmTPGpKSoqUmJiotq0aaOwsDA98sgjOnv2rE/Ntm3bdO211yo4OFi9evVSVlbWef0sXbpUPXv2VKtWrRQXF6c9e/YY32cAANA8NNqAtX37dqWkpGjXrl3KyclRTU2NEhISVFlZ6VN3//33q6SkxH5kZGTY22pra5WYmKjq6mrt3LlTK1euVFZWltLS0uyaI0eOKDExUSNGjFBBQYFmzJih%2B%2B67T5s3b7Zr1qxZo9TUVM2bN0/vv/%2B%2BBgwYILfbrbKyskv/QgAAgCYnwLIsy99NXIzjx48rLCxM27dv1/DhwyWdO4M1cOBALVq06ILP2bRpk2655RYVFxcrPDxckpSZmalZs2bp%2BPHjcjgcmjVrljZu3KgDBw7Yzxs/frzKy8uVnZ0tSYqLi9PgwYO1ZMkSSVJdXZ2ioqI0ffp0zZ49%2B2d793q9CgkJUUVFhZxO5295GYBmYdDj2f5uoVnb%2B9RIf7cANAr%2BfP9ttGewfqiiokKS1LFjR5/1//jHP9S5c2f169dPc%2BbM0bfffmtvy8vLU//%2B/e1wJUlut1ter1cHDx60a%2BLj433GdLvdysvLkyRVV1crPz/fpyYwMFDx8fF2zQ9VVVXJ6/X6PAAAwOWjhb8buBh1dXWaMWOGrr/%2BevXr189ef9ddd6lHjx6KjIzU/v37NWvWLBUWFur111%2BXJHk8Hp9wJcle9ng8P1nj9Xr13Xff6eTJk6qtrb1gzaFDhy7Yb3p6uhYsWPDbdhoAADRZTSJgpaSk6MCBA3r33Xd91j/wwAP2n/v376%2BuXbvqpptu0meffaYrr7yyodu0zZkzR6mpqfay1%2BtVVFSU3/oBAAANq9EHrGnTpmnDhg3asWOHunXr9pO1cXFxkqRPP/1UV155pSIiIs77tl9paakkKSIiwv7f%2BnXfr3E6nWrdurWCgoIUFBR0wZr6MX4oODhYwcHBF7%2BTAACgWWm012BZlqVp06Zp3bp12rJli6Kjo3/2OQUFBZKkrl27SpJcLpc%2B/PBDn2/75eTkyOl0KiYmxq7Jzc31GScnJ0cul0uS5HA4FBsb61NTV1en3NxcuwYAAOD7Gu0ZrJSUFK1atUpvvPGG2rdvb18zFRISotatW%2Buzzz7TqlWrNGrUKHXq1En79%2B/XzJkzNXz4cF1zzTWSpISEBMXExGjixInKyMiQx%2BPR3LlzlZKSYp9hmjJlipYsWaJHH31U9957r7Zs2aLXXntNGzdutHtJTU1VUlKSBg0apCFDhmjRokWqrKzU5MmTG/6FAQAAjV6jDVjLly%2BXdO5WDN%2B3YsUKTZo0SQ6HQ%2B%2B8844ddqKiojR27FjNnTvXrg0KCtKGDRs0depUuVwutW3bVklJSXriiSfsmujoaG3cuFEzZ87U4sWL1a1bN7388styu912zbhx43T8%2BHGlpaXJ4/Fo4MCBys7OPu/CdwAAAKkJ3QerKeM%2BWIAv7oN1aXEfLOAc7oMFAADQjBCwAAAADCNgAQAAGEbAAgAAMIyABQAAYBgBCwAAwDACFgAAgGEELAAAAMMIWAAAAIYRsAAAAAwjYAEAABhGwAIAADCMgAUAAGAYAQsAAMAwAhYAAIBhBCwAAADDCFgAAACGEbAAAAAMI2ABAAAYRsACAAAwjIAFAABgGAELAADAMAIWAACAYQQsAAAAwwhYAAAAhhGwAAAADCNgAQAAGEbAAgAAMIyABQAAYBgBCwAAwDACFgAAgGHGA9bnn39uekgAAIAmxXjA6tWrl0aMGKH//u//1pkzZ0wPDwAA0OgZD1jvv/%2B%2BrrnmGqWmpioiIkJ/%2BtOftGfPHtPTAAAANFrGA9bAgQO1ePFiFRcX629/%2B5tKSko0bNgw9evXT88995yOHz9uekoAAIBG5ZJd5N6iRQuNGTNGa9eu1TPPPKNPP/1UDz/8sKKionTPPfeopKTkJ5%2Bfnp6uwYMHq3379goLC9Po0aNVWFjoU3PmzBmlpKSoU6dOateuncaOHavS0lKfmqKiIiUmJqpNmzYKCwvTI488orNnz/rUbNu2Tddee62Cg4PVq1cvZWVlndfP0qVL1bNnT7Vq1UpxcXGclQMAAD/qkgWsvXv36s9//rO6du2q5557Tg8//LA%2B%2B%2Bwz5eTkqLi4WLfddttPPn/79u1KSUnRrl27lJOTo5qaGiUkJKiystKumTlzpt58802tXbtW27dvV3FxscaMGWNvr62tVWJioqqrq7Vz506tXLlSWVlZSktLs2uOHDmixMREjRgxQgUFBZoxY4buu%2B8%2Bbd682a5Zs2aNUlNTNW/ePL3//vsaMGCA3G63ysrKDL5iAACguQiwLMsyOeBzzz2nFStWqLCwUKNGjdJ9992nUaNGKTDw/7LcsWPH1LNnz/POJP2U48ePKywsTNu3b9fw4cNVUVGhLl26aNWqVbrjjjskSYcOHdLVV1%2BtvLw8DR06VJs2bdItt9yi4uJihYeHS5IyMzM1a9YsHT9%2BXA6HQ7NmzdLGjRt14MABe67x48ervLxc2dnZkqS4uDgNHjxYS5YskSTV1dUpKipK06dP1%2BzZs3%2B2d6/Xq5CQEFVUVMjpdF70PgPN1aDHs/3dQrO296mR/m4BaBT8%2Bf5r/AzW8uXLddddd%2BnLL7/U%2BvXrdcstt/iEK0kKCwvTK6%2B88ovGraiokCR17NhRkpSfn6%2BamhrFx8fbNX379lX37t2Vl5cnScrLy1P//v3tcCVJbrdbXq9XBw8etGu%2BP0Z9Tf0Y1dXVys/P96kJDAxUfHy8XfNDVVVV8nq9Pg8AAHD5aGF6wMOHD/9sjcPhUFJS0kWPWVdXpxkzZuj6669Xv379JEkej0cOh0OhoaE%2BteHh4fJ4PHbN98NV/fb6bT9V4/V69d133%2BnkyZOqra29YM2hQ4cu2G96eroWLFhw0fsHAACaF%2BNnsFasWKG1a9eet37t2rVauXLlrxozJSVFBw4c0OrVq39rew1izpw5qqiosB9Hjx71d0sAAKABGQ9Y6enp6ty583nrw8LC9F//9V%2B/eLxp06Zpw4YN2rp1q7p162avj4iIUHV1tcrLy33qS0tLFRERYdf88FuF9cs/V%2BN0OtW6dWt17txZQUFBF6ypH%2BOHgoOD5XQ6fR4AAODyYTxgFRUVKTo6%2Brz1PXr0UFFR0UWPY1mWpk2bpnXr1mnLli3njRkbG6uWLVsqNzfXXldYWKiioiK5XC5Jksvl0ocffujzbb%2BcnBw5nU7FxMTYNd8fo76mfgyHw6HY2Fifmrq6OuXm5to1AAAA32f8GqywsDDt379fPXv29Fn/wQcfqFOnThc9TkpKilatWqU33nhD7du3t6%2BZCgkJUevWrRUSEqLk5GSlpqaqY8eOcjqdmj59ulwul4YOHSpJSkhIUExMjCZOnKiMjAx5PB7NnTtXKSkpCg4OliRNmTJFS5Ys0aOPPqp7771XW7Zs0WuvvaaNGzfavaSmpiopKUmDBg3SkCFDtGjRIlVWVmry5Mm/8dUCAADNkfGAdeedd%2Bo//uM/1L59ew0fPlzSuXtaPfjggxo/fvxFj7N8%2BXJJ0u9//3uf9StWrNCkSZMkSc8//7wCAwM1duxYVVVVye12a9myZXZtUFCQNmzYoKlTp8rlcqlt27ZKSkrSE088YddER0dr48aNmjlzphYvXqxu3brp5ZdfltvttmvGjRun48ePKy0tTR6PRwMHDlR2dvZ5F74DAABIl%2BA%2BWNXV1Zo4caLWrl2rFi3O5be6ujrdc889yszMlMPhMDldk8B9sABf3Afr0uI%2BWMA5/nz/NX4Gy%2BFwaM2aNXryySf1wQcfqHXr1urfv7969OhheioAAIBGyXjAqnfVVVfpqquuulTDAwAANFrGA1Ztba2ysrKUm5ursrIy1dXV%2BWzfsmWL6SkBAAAaFeMB68EHH1RWVpYSExPVr18/BQQEmJ4CwAVwXRMANB7GA9bq1av12muvadSoUaaHBgAAaBKM32jU4XCoV69epocFAABoMowHrIceekiLFy%2BW4bs/AAAANBnGPyJ89913tXXrVm3atEm/%2B93v1LJlS5/tr7/%2BuukpAQAAGhXjASs0NFS333676WEBAACaDOMBa8WKFaaHBAAAaFKMX4MlSWfPntU777yjF198UadOnZIkFRcX6/Tp05diOgAAgEbF%2BBmsL7/8UiNHjlRRUZGqqqr0hz/8Qe3bt9czzzyjqqoqZWZmmp4SAACgUTF%2BBuvBBx/UoEGDdPLkSbVu3dpef/vttys3N9f0dAAAAI2O8TNY//u//6udO3fK4XD4rO/Zs6e%2B%2Buor09MBAAA0OsbPYNXV1am2tva89ceOHVP79u1NTwcAANDoGA9YCQkJWrRokb0cEBCg06dPa968efx8DgAAuCwY/4hw4cKFcrvdiomJ0ZkzZ3TXXXfp8OHD6ty5s1599VXT0wEAADQ6xgNWt27d9MEHH2j16tXav3%2B/Tp8%2BreTkZE2YMMHnoncAAIDmynjAkqQWLVro7rvvvhRDAwAANHrGA9bf//73n9x%2Bzz33mJ4SAACgUTEesB588EGf5ZqaGn377bdyOBxq06YNAQsAADR7xr9FePLkSZ/H6dOnVVhYqGHDhnGROwAAuCxckt8i/KHevXvr6aefPu/sFgAAQHPUIAFLOnfhe3FxcUNNBwAA4DfGr8H65z//6bNsWZZKSkq0ZMkSXX/99aanAwAAaHSMB6zRo0f7LAcEBKhLly668cYbtXDhQtPTAQAANDrGA1ZdXZ3pIQEAAJqUBrsGCwAA4HJh/AxWamrqRdc%2B99xzpqcHAADwO%2BMBa9%2B%2Bfdq3b59qamrUp08fSdInn3yioKAgXXvttXZdQECA6akBAAAaBeMB69Zbb1X79u21cuVKdejQQdK5m49OnjxZN9xwgx566CHTUwIAADQqxq/BWrhwodLT0%2B1wJUkdOnTQX/7yF75FCAAALgvGA5bX69Xx48fPW3/8%2BHGdOnXK9HQAAACNjvGAdfvtt2vy5Ml6/fXXdezYMR07dkz/8z//o%2BTkZI0ZM8b0dAAAAI2O8WuwMjMz9fDDD%2Buuu%2B5STU3NuUlatFBycrKeffZZ09MBAAA0OsbPYLVp00bLli3TN998Y3%2Bj8MSJE1q2bJnatm170ePs2LFDt956qyIjIxUQEKD169f7bJ80aZICAgJ8HiNHjvSpOXHihCZMmCCn06nQ0FAlJyfr9OnTPjX79%2B/XDTfcoFatWikqKkoZGRnn9bJ27Vr17dtXrVq1Uv/%2B/fXWW29d/AsCAAAuO5fsRqMlJSUqKSlR79691bZtW1mW9YueX1lZqQEDBmjp0qU/WjNy5Eh7npKSEr366qs%2B2ydMmKCDBw8qJydHGzZs0I4dO/TAAw/Y271erxISEtSjRw/l5%2Bfr2Wef1fz58/XSSy/ZNTt37tSdd96p5ORk7du3T6NHj9bo0aN14MCBX7Q/AADg8hFg/dLk8zO%2B%2BeYb/fu//7u2bt2qgIAAHT58WFdccYXuvfdedejQ4Vd9kzAgIEDr1q3z%2BZ3DSZMmqby8/LwzW/U%2B/vhjxcTE6L333tOgQYMkSdnZ2Ro1apSOHTumyMhILV%2B%2BXI8//rg8Ho8cDockafbs2Vq/fr0OHTokSRo3bpwqKyu1YcMGe%2ByhQ4dq4MCByszMvKj%2BvV6vQkJCVFFRIafT%2BYv3H7gYgx7P9ncLaCT2PjXy54uAy4A/33%2BNn8GaOXOmWrZsqaKiIrVp08ZeP27cOGVnm30D2LZtm8LCwtSnTx9NnTpV33zzjb0tLy9PoaGhdriSpPj4eAUGBmr37t12zfDhw%2B1wJUlut1uFhYU6efKkXRMfH%2B8zr9vtVl5entF9AQAAzYfxi9zffvttbd68Wd26dfNZ37t3b3355ZfG5hk5cqTGjBmj6OhoffbZZ3rsscd08803Ky8vT0FBQfJ4PAoLC/N5TosWLdSxY0d5PB5JksfjUXR0tE9NeHi4va1Dhw7yeDz2uu/X1I9xIVVVVaqqqrKXvV7vb9pXAADQtBgPWJWVlT5nruqdOHFCwcHBxuYZP368/ef%2B/fvrmmuu0ZVXXqlt27bppptuMjbPr5Genq4FCxb4tQcAAOA/xj8ivOGGG/T3v//dXg4ICFBdXZ0yMjI0YsQI09PZrrjiCnXu3FmffvqpJCkiIkJlZWU%2BNWfPntWJEycUERFh15SWlvrU1C//XE399guZM2eOKioq7MfRo0d/284BAIAmxXjAysjI0EsvvaSbb75Z1dXVevTRR9WvXz/t2LFDzzzzjOnpbMeOHdM333yjrl27SpJcLpfKy8uVn59v12zZskV1dXWKi4uza3bs2GHfr0uScnJy1KdPH/unflwul3Jzc33mysnJkcvl%2BtFegoOD5XQ6fR4AAODyYTxg9evXT5988omGDRum2267TZWVlRozZoz27dunK6%2B88qLHOX36tAoKClRQUCBJOnLkiAoKClRUVKTTp0/rkUce0a5du/TFF18oNzdXt912m3r16iW32y1JuvrqqzVy5Ejdf//92rNnj/71r39p2rRpGj9%2BvCIjIyVJd911lxwOh5KTk3Xw4EGtWbNGixcvVmpqqt3Hgw8%2BqOzsbC1cuFCHDh3S/PnztXfvXk2bNs3ciwYAAJoVo7dpqKmp0ciRI5WZmanevXv/prG2bdt2wY8Uk5KStHz5co0ePVr79u1TeXm5IiMjlZCQoCeffNLngvQTJ05o2rRpevPNNxUYGKixY8fqhRdeULt27eya/fv3KyUlRe%2B99546d%2B6s6dOna9asWT5zrl27VnPnztUXX3yh3r17KyMjQ6NGjbrofeE2DWgI3KYB9bhNA3COP99/jd8Hq0uXLtq5c%2BdvDljNCQELDYGAhXoELOCcZnUfrLvvvluvvPKK6WEBAACaDOO3aTh79qz%2B9re/6Z133lFsbOx5vz/43HPPmZ4SAACgUTEWsD7//HP17NlTBw4c0LXXXitJ%2BuSTT3xqAgICTE0HAADQaBkLWL1791ZJSYm2bt0q6dxP47zwwgvn3QUdAACguTN2DdYPr5XftGmTKisrTQ0PAADQZBi/yL2e4S8nAgAANBnGAlZAQMB511hxzRUAALgcGbsGy7IsTZo0yf5B5zNnzmjKlCnnfYvw9ddfNzUlAABAo2QsYCUlJfks33333aaGBgAAaFKMBawVK1aYGgoAAKBJu2QXuQMAAFyuCFgAAACGEbAAAAAMI2ABAAAYRsACAAAwjIAFAABgGAELAADAMAIWAACAYQQsAAAAwwhYAAAAhhGwAAAADCNgAQAAGEbAAgAAMIyABQAAYFgLfzcAADBr0OPZ/m7hou19aqS/WwAuCc5gAQAAGEbAAgAAMIyABQAAYBgBCwAAwDACFgAAgGEELAAAAMMIWAAAAIYRsAAAAAwjYAEAABhGwAIAADCs0QasHTt26NZbb1VkZKQCAgK0fv16n%2B2WZSktLU1du3ZV69atFR8fr8OHD/vUnDhxQhMmTJDT6VRoaKiSk5N1%2BvRpn5r9%2B/frhhtuUKtWrRQVFaWMjIzzelm7dq369u2rVq1aqX///nrrrbeM7y8AAGg%2BGm3Aqqys1IABA7R06dILbs/IyNALL7ygzMxM7d69W23btpXb7daZM2fsmgkTJujgwYPKycnRhg0btGPHDj3wwAP2dq/Xq4SEBPXo0UP5%2Bfl69tlnNX/%2BfL300kt2zc6dO3XnnXcqOTlZ%2B/bt0%2BjRozV69GgdOHDg0u08AABo0gIsy7L83cTPCQgI0Lp16zR69GhJ585eRUZG6qGHHtLDDz8sSaqoqFB4eLiysrI0fvx4ffzxx4qJidF7772nQYMGSZKys7M1atQoHTt2TJGRkVq%2BfLkef/xxeTweORwOSdLs2bO1fv16HTp0SJI0btw4VVZWasOGDXY/Q4cO1cCBA5WZmXlR/Xu9XoWEhKiiokJOp9PUywL4aEo/8AvU48eecSn58/230Z7B%2BilHjhyRx%2BNRfHy8vS4kJERxcXHKy8uTJOXl5Sk0NNQOV5IUHx%2BvwMBA7d69264ZPny4Ha4kye12q7CwUCdPnrRrvj9PfU39PAAAAD/Uwt8N/Boej0eSFB4e7rM%2BPDzc3ubxeBQWFuazvUWLFurYsaNPTXR09Hlj1G/r0KGDPB7PT85zIVVVVaqqqrKXvV7vL9k9AADQxDXJM1iNXXp6ukJCQuxHVFSUv1sCAAANqEkGrIiICElSaWmpz/rS0lJ7W0REhMrKyny2nz17VidOnPCpudAY35/jx2rqt1/InDlzVFFRYT%2BOHj36S3cRAAA0YU0yYEVHRysiIkK5ubn2Oq/Xq927d8vlckmSXC6XysvLlZ%2Bfb9ds2bJFdXV1iouLs2t27NihmpoauyYnJ0d9%2BvRRhw4d7Jrvz1NfUz/PhQQHB8vpdPo8AADA5aPRBqzTp0%2BroKBABQUFks5d2F5QUKCioiIFBARoxowZ%2Bstf/qJ//vOf%2BvDDD3XPPfcoMjLS/qbh1VdfrZEjR%2Br%2B%2B%2B/Xnj179K9//UvTpk3T%2BPHjFRkZKUm666675HA4lJycrIMHD2rNmjVavHixUlNT7T4efPBBZWdna%2BHChTp06JDmz5%2BvvXv3atq0aQ39kgAAgCai0V7kvnfvXo0YMcJerg89SUlJysrK0qOPPqrKyko98MADKi8v17Bhw5Sdna1WrVrZz/nHP/6hadOm6aabblJgYKDGjh2rF154wd4eEhKit99%2BWykpKYqNjVXnzp2Vlpbmc6%2Bs6667TqtWrdLcuXP12GOPqXfv3lq/fr369evXAK8CAABoiprEfbCaOu6DhYbAfbDQFHEfLFxK3AcLAACgGSFgAQAAGEbAAgAAMIyABQAAYBgBCwAAwDACFgAAgGEELAAAAMMIWAAAAIYRsAAAAAwjYAEAABhGwAIAADCMgAUAAGAYAQsAAMAwAhYAAIBhBCwAAADDCFgAAACGEbAAAAAMI2ABAAAYRsACAAAwjIAFAABgGAELAADAMAIWAACAYQQsAAAAwwhYAAAAhhGwAAAADCNgAQAAGEbAAgAAMIyABQAAYBgBCwAAwDACFgAAgGEELAAAAMMIWAAAAIYRsAAAAAwjYAEAABhGwAIAADCsyQas%2BfPnKyAgwOfRt29fe/uZM2eUkpKiTp06qV27dho7dqxKS0t9xigqKlJiYqLatGmjsLAwPfLIIzp79qxPzbZt23TttdcqODhYvXr1UlZWVkPsHgAAaMKabMCSpN/97ncqKSmxH%2B%2B%2B%2B669bebMmXrzzTe1du1abd%2B%2BXcXFxRozZoy9vba2VomJiaqurtbOnTu1cuVKZWVlKS0tza45cuSIEhMTNWLECBUUFGjGjBm67777tHnz5gbdTwAA0LS08HcDv0WLFi0UERFx3vqKigq98sorWrVqlW688UZJ0ooVK3T11Vdr165dGjp0qN5%2B%2B2199NFHeueddxQeHq6BAwfqySef1KxZszR//nw5HA5lZmYqOjpaCxculCRdffXVevfdd/X888/L7XY36L4CAICmo0mfwTp8%2BLAiIyN1xRVXaMKECSoqKpIk5efnq6amRvHx8XZt37591b17d%2BXl5UmS8vLy1L9/f4WHh9s1brdbXq9XBw8etGu%2BP0Z9Tf0YAAAAF9Jkz2DFxcUpKytLffr0UUlJiRYsWKAbbrhBBw4ckMfjkcPhUGhoqM9zwsPD5fF4JEkej8cnXNVvr9/2UzVer1ffffedWrdufcHeqqqqVFVVZS97vd7ftK8AAKBpabIB6%2Babb7b/fM011yguLk49evTQa6%2B99qPBp6Gkp6drwYIFfu0Bv92gx7P93QIAoIlq0h8Rfl9oaKiuuuoqffrpp4qIiFB1dbXKy8t9akpLS%2B1rtiIiIs77VmH98s/VOJ3Onwxxc%2BbMUUVFhf04evTob909AADQhDSbgHX69Gl99tln6tq1q2JjY9WyZUvl5uba2wsLC1VUVCSXyyVJcrlc%2BvDDD1VWVmbX5OTkyOl0KiYmxq75/hj1NfVj/Jjg4GA5nU6fBwAAuHw02YD18MMPa/v27friiy%2B0c%2BdO3X777QoKCtKdd96pkJAQJScnKzU1VVu3blV%2Bfr4mT54sl8uloUOHSpISEhIUExOjiRMn6oMPPtDmzZs1d%2B5cpaSkKDg4WJI0ZcoUff7553r00Ud16NAhLVu2TK%2B99ppmzpzpz10HAACNXJO9BuvYsWO688479c0336hLly4aNmyYdu3apS5dukiSnn/%2BeQUGBmrs2LGqqqqS2%2B3WsmXL7OcHBQVpw4YNmjp1qlwul9q2baukpCQ98cQTdk10dLQ2btyomTNnavHixerWrZtefvllbtEAAAB%2BUoBlWZa/m2juvF6vQkJCVFFRwceFTQgXuQOX3t6nRvq7BTRj/nz/bbIfEQIAADRWBCwAAADDCFgAAACGEbAAAAAMI2ABAAAYRsACAAAwjIAFAABgGAELAADAMAIWAACAYQQsAAAAwwhYAAAAhhGwAAAADCNgAQAAGEbAAgAAMIyABQAAYBgBCwAAwDACFgAAgGEELAAAAMMIWAAAAIa18HcDAIDL16DHs/3dwi%2By96mR/m4BTQRnsAAAAAwjYAEAABhGwAIAADCMgAUAAGAYAQsAAMAwAhYAAIBhBCwAAADDCFgAAACGEbAAAAAMI2ABAAAYRsACAAAwjIAFAABgGAELAADAMAIWAACAYS383QAuH4Mez/Z3CwAANAjOYAEAABhGwLpIS5cuVc%2BePdWqVSvFxcVpz549/m4JAAA0UgSsi7BmzRqlpqZq3rx5ev/99zVgwAC53W6VlZX5uzUAANAIBViWZfm7icYuLi5OgwcP1pIlSyRJdXV1ioqK0vTp0zV79uyffb7X61VISIgqKirkdDovdbuNFtdgAUDD2vvUSH%2B34Ff%2BfP/lIvefUV1drfz8fM2ZM8deFxgYqPj4eOXl5V3wOVVVVaqqqrKXKyoqJJ070Jez2qpKf7cAAJeVy/19p37//XEuiYD1M77%2B%2BmvV1tYqPDzcZ314eLgOHTp0weekp6drwYIF562Pioq6JD0CAHAhIQv93UHjcOrUKYWEhDTonASsS2DOnDlKTU21l%2Bvq6nTixAl16tRJAQEBfuys6fN6vYqKitLRo0cv649b/Ylj4H8cA//jGPjXxb7%2BlmXp1KlTioyMbMDuziFg/YzOnTsrKChIpaWlPutLS0sVERFxwecEBwcrODjYZ11oaOilavGy5HQ6%2BUfNzzgG/scx8D%2BOgX9dzOvf0Geu6vEtwp/hcDgUGxur3Nxce11dXZ1yc3Plcrn82BkAAGisOIN1EVJTU5WUlKRBgwZpyJAhWrRokSorKzV58mR/twYAABohAtZFGDdunI4fP660tDR5PB4NHDhQ2dnZ5134jksvODhY8%2BbNO%2B8jWDQcjoH/cQz8j2PgX03h9ec%2BWAAAAIZxDRYAAIBhBCwAAADDCFgAAACGEbAAAAAMI2ChSfjiiy%2BUnJys6OhotW7dWldeeaXmzZun6upqn7r9%2B/frhhtuUKtWrRQVFaWMjAw/ddw8PfXUU7ruuuvUpk2bH715blFRkRITE9WmTRuFhYXpkUce0dmzZxu20WZs6dKl6tmzp1q1aqW4uDjt2bPH3y01Wzt27NCtt96qyMhIBQQEaP369T7bLctSWlqaunbtqtatWys%2BPl6HDx/2T7PNVHp6ugYPHqz27dsrLCxMo0ePVmFhoU/NmTNnlJKSok6dOqldu3YaO3bseTcH9wcCFpqEQ4cOqa6uTi%2B%2B%2BKIOHjyo559/XpmZmXrsscfsGq/Xq4SEBPXo0UP5%2Bfl69tlnNX/%2BfL300kt%2B7Lx5qa6u1h//%2BEdNnTr1gttra2uVmJio6upq7dy5UytXrlRWVpbS0tIauNPmac2aNUpNTdW8efP0/vvva8CAAXK73SorK/N3a81SZWWlBgwYoKVLl15we0ZGhl544QVlZmZq9%2B7datu2rdxut86cOdPAnTZf27dvV0pKinbt2qWcnBzV1NQoISFBlZWVds3MmTP15ptvau3atdq%2BfbuKi4s1ZswYP3b9/1lAE5WRkWFFR0fby8uWLbM6dOhgVVVV2etmzZpl9enTxx/tNWsrVqywQkJCzlv/1ltvWYGBgZbH47HXLV%2B%2B3HI6nT7HBb/OkCFDrJSUFHu5trbWioyMtNLT0/3Y1eVBkrVu3Tp7ua6uzoqIiLCeffZZe115ebkVHBxsvfrqq37o8PJQVlZmSbK2b99uWda517xly5bW2rVr7ZqPP/7YkmTl5eX5q03LsiyLM1hosioqKtSxY0d7OS8vT8OHD5fD4bDXud1uFRYW6uTJk/5o8bKTl5en/v37%2B9yE1%2B12y%2Bv16uDBg37srOmrrq5Wfn6%2B4uPj7XWBgYGKj49XXl6eHzu7PB05ckQej8fneISEhCguLo7jcQlVVFRIkv1vf35%2BvmpqanyOQ9%2B%2BfdW9e3e/HwcCFpqkTz/9VH/961/1pz/9yV7n8XjOu7t%2B/bLH42nQ/i5XHINL5%2Buvv1Ztbe0FX19e24ZX/5pzPBpOXV2dZsyYoeuvv179%2BvWTdO44OByO864JbQzHgYAFv5o9e7YCAgJ%2B8nHo0CGf53z11VcaOXKk/vjHP%2Br%2B%2B%2B/3U%2BfNx685BgDQ0FJSUnTgwAGtXr3a361cFH6LEH710EMPadKkST9Zc8UVV9h/Li4u1ogRI3Tdddedd/F6RETEed8cqV%2BOiIgw03Az9EuPwU%2BJiIg471ttHAMzOnfurKCgoAv%2BHee1bXj1r3lpaam6du1qry8tLdXAgQP91FXzNW3aNG3YsEE7duxQt27d7PURERGqrq5WeXm5z1msxvDfBQELftWlSxd16dLlomq/%2BuorjRgxQrGxsVqxYoUCA31PwLpcLj3%2B%2BOOqqalRy5YtJUk5OTnq06ePOnToYLz35uKXHIOf43K59NRTT6msrExhYWGSzh0Dp9OpmJgYI3NcrhwOh2JjY5Wbm6vRo0dLOveRSW5urqZNm%2Bbf5i5D0dHRioiIUG5urh2ovF6vdu/e/aPfssUvZ1mWpk%2BfrnXr1mnbtm2Kjo722R4bG6uWLVsqNzdXY8eOlSQVFhaqqKhILpfLHy3/H79eYg9cpGPHjlm9evWybrrpJuvYsWNWSUmJ/ahXXl5uhYeHWxMnTrQOHDhgrV692mrTpo314osv%2BrHz5uXLL7%2B09u3bZy1YsMBq166dtW/fPmvfvn3WqVOnLMuyrLNnz1r9%2BvWzEhISrIKCAis7O9vq0qWLNWfOHD933jysXr3aCg4OtrKysqyPPvrIeuCBB6zQ0FCfb23CnFOnTtl/xyVZzz33nLVv3z7ryy%2B/tCzLsp5%2B%2BmkrNDTUeuONN6z9%2B/dbt912mxUdHW199913fu68%2BZg6daoVEhJibdu2zeff/W%2B//daumTJlitW9e3dry5Yt1t69ey2Xy2W5XC4/dn0OAQtNwooVKyxJF3x83wcffGANGzbMCg4Otv7t3/7Nevrpp/3UcfOUlJR0wWOwdetWu%2BaLL76wbr75Zqt169ZW586drYceesiqqanxX9PNzF//%2Blere/fulsPhsIYMGWLt2rXL3y01W1u3br3g3/ekpCTLss7dquE///M/rfDwcCs4ONi66aabrMLCQv823cz82L/7K1assGu%2B%2B%2B47689//rPVoUMHq02bNtbtt9/u83%2B%2B/SXAsiyrAU%2BYAQAANHt8ixAAAMAwAhYAAIBhBCwAAADDCFgAAACGEbAAAAAMI2ABAAAYRsACAAAwjIAFAABgGAELAADAMAIWAACAYQQsAAAAwwhYAAAAhhGwAAAADCNgAQAAGEbAAgAAMIyABQAAYBgBCwAAwDACFgAAgGH/D4jTcFIrgYK1AAAAAElFTkSuQmCC\"/>\n",
       "        </div>\n",
       "        <div role=\"tabpanel\" class=\"tab-pane col-md-12\" id=\"common-4269209255617096035\">\n",
       "            \n",
       "<table class=\"freq table table-hover\">\n",
       "    <thead>\n",
       "    <tr>\n",
       "        <td class=\"fillremaining\">Value</td>\n",
       "        <td class=\"number\">Count</td>\n",
       "        <td class=\"number\">Frequency (%)</td>\n",
       "        <td style=\"min-width:200px\">&nbsp;</td>\n",
       "    </tr>\n",
       "    </thead>\n",
       "    <tr class=\"\">\n",
       "        <td class=\"fillremaining\">-2.4204539931944797</td>\n",
       "        <td class=\"number\">1</td>\n",
       "        <td class=\"number\">0.0%</td>\n",
       "        <td>\n",
       "            <div class=\"bar\" style=\"width:1%\">&nbsp;</div>\n",
       "        </td>\n",
       "</tr><tr class=\"\">\n",
       "        <td class=\"fillremaining\">-8.292583264829288</td>\n",
       "        <td class=\"number\">1</td>\n",
       "        <td class=\"number\">0.0%</td>\n",
       "        <td>\n",
       "            <div class=\"bar\" style=\"width:1%\">&nbsp;</div>\n",
       "        </td>\n",
       "</tr><tr class=\"\">\n",
       "        <td class=\"fillremaining\">-8.575602249221783</td>\n",
       "        <td class=\"number\">1</td>\n",
       "        <td class=\"number\">0.0%</td>\n",
       "        <td>\n",
       "            <div class=\"bar\" style=\"width:1%\">&nbsp;</div>\n",
       "        </td>\n",
       "</tr><tr class=\"\">\n",
       "        <td class=\"fillremaining\">-8.043059752527789</td>\n",
       "        <td class=\"number\">1</td>\n",
       "        <td class=\"number\">0.0%</td>\n",
       "        <td>\n",
       "            <div class=\"bar\" style=\"width:1%\">&nbsp;</div>\n",
       "        </td>\n",
       "</tr><tr class=\"\">\n",
       "        <td class=\"fillremaining\">-4.761842738172433</td>\n",
       "        <td class=\"number\">1</td>\n",
       "        <td class=\"number\">0.0%</td>\n",
       "        <td>\n",
       "            <div class=\"bar\" style=\"width:1%\">&nbsp;</div>\n",
       "        </td>\n",
       "</tr><tr class=\"\">\n",
       "        <td class=\"fillremaining\">-8.046399955285798</td>\n",
       "        <td class=\"number\">1</td>\n",
       "        <td class=\"number\">0.0%</td>\n",
       "        <td>\n",
       "            <div class=\"bar\" style=\"width:1%\">&nbsp;</div>\n",
       "        </td>\n",
       "</tr><tr class=\"\">\n",
       "        <td class=\"fillremaining\">-5.242351764528842</td>\n",
       "        <td class=\"number\">1</td>\n",
       "        <td class=\"number\">0.0%</td>\n",
       "        <td>\n",
       "            <div class=\"bar\" style=\"width:1%\">&nbsp;</div>\n",
       "        </td>\n",
       "</tr><tr class=\"\">\n",
       "        <td class=\"fillremaining\">-3.407163500584944</td>\n",
       "        <td class=\"number\">1</td>\n",
       "        <td class=\"number\">0.0%</td>\n",
       "        <td>\n",
       "            <div class=\"bar\" style=\"width:1%\">&nbsp;</div>\n",
       "        </td>\n",
       "</tr><tr class=\"\">\n",
       "        <td class=\"fillremaining\">-1.7673183979738107</td>\n",
       "        <td class=\"number\">1</td>\n",
       "        <td class=\"number\">0.0%</td>\n",
       "        <td>\n",
       "            <div class=\"bar\" style=\"width:1%\">&nbsp;</div>\n",
       "        </td>\n",
       "</tr><tr class=\"\">\n",
       "        <td class=\"fillremaining\">-0.9604945682210966</td>\n",
       "        <td class=\"number\">1</td>\n",
       "        <td class=\"number\">0.0%</td>\n",
       "        <td>\n",
       "            <div class=\"bar\" style=\"width:1%\">&nbsp;</div>\n",
       "        </td>\n",
       "</tr><tr class=\"other\">\n",
       "        <td class=\"fillremaining\">Other values (99990)</td>\n",
       "        <td class=\"number\">99990</td>\n",
       "        <td class=\"number\">100.0%</td>\n",
       "        <td>\n",
       "            <div class=\"bar\" style=\"width:100%\">&nbsp;</div>\n",
       "        </td>\n",
       "</tr>\n",
       "</table>\n",
       "        </div>\n",
       "        <div role=\"tabpanel\" class=\"tab-pane col-md-12\"  id=\"extreme-4269209255617096035\">\n",
       "            <p class=\"h4\">Minimum 5 values</p>\n",
       "            \n",
       "<table class=\"freq table table-hover\">\n",
       "    <thead>\n",
       "    <tr>\n",
       "        <td class=\"fillremaining\">Value</td>\n",
       "        <td class=\"number\">Count</td>\n",
       "        <td class=\"number\">Frequency (%)</td>\n",
       "        <td style=\"min-width:200px\">&nbsp;</td>\n",
       "    </tr>\n",
       "    </thead>\n",
       "    <tr class=\"\">\n",
       "        <td class=\"fillremaining\">-26.358598008345872</td>\n",
       "        <td class=\"number\">1</td>\n",
       "        <td class=\"number\">0.0%</td>\n",
       "        <td>\n",
       "            <div class=\"bar\" style=\"width:100%\">&nbsp;</div>\n",
       "        </td>\n",
       "</tr><tr class=\"\">\n",
       "        <td class=\"fillremaining\">-25.389622416296945</td>\n",
       "        <td class=\"number\">1</td>\n",
       "        <td class=\"number\">0.0%</td>\n",
       "        <td>\n",
       "            <div class=\"bar\" style=\"width:100%\">&nbsp;</div>\n",
       "        </td>\n",
       "</tr><tr class=\"\">\n",
       "        <td class=\"fillremaining\">-25.291517704793968</td>\n",
       "        <td class=\"number\">1</td>\n",
       "        <td class=\"number\">0.0%</td>\n",
       "        <td>\n",
       "            <div class=\"bar\" style=\"width:100%\">&nbsp;</div>\n",
       "        </td>\n",
       "</tr><tr class=\"\">\n",
       "        <td class=\"fillremaining\">-24.81171102552241</td>\n",
       "        <td class=\"number\">1</td>\n",
       "        <td class=\"number\">0.0%</td>\n",
       "        <td>\n",
       "            <div class=\"bar\" style=\"width:100%\">&nbsp;</div>\n",
       "        </td>\n",
       "</tr><tr class=\"\">\n",
       "        <td class=\"fillremaining\">-24.71267223980279</td>\n",
       "        <td class=\"number\">1</td>\n",
       "        <td class=\"number\">0.0%</td>\n",
       "        <td>\n",
       "            <div class=\"bar\" style=\"width:100%\">&nbsp;</div>\n",
       "        </td>\n",
       "</tr>\n",
       "</table>\n",
       "            <p class=\"h4\">Maximum 5 values</p>\n",
       "            \n",
       "<table class=\"freq table table-hover\">\n",
       "    <thead>\n",
       "    <tr>\n",
       "        <td class=\"fillremaining\">Value</td>\n",
       "        <td class=\"number\">Count</td>\n",
       "        <td class=\"number\">Frequency (%)</td>\n",
       "        <td style=\"min-width:200px\">&nbsp;</td>\n",
       "    </tr>\n",
       "    </thead>\n",
       "    <tr class=\"\">\n",
       "        <td class=\"fillremaining\">15.815145951955795</td>\n",
       "        <td class=\"number\">1</td>\n",
       "        <td class=\"number\">0.0%</td>\n",
       "        <td>\n",
       "            <div class=\"bar\" style=\"width:100%\">&nbsp;</div>\n",
       "        </td>\n",
       "</tr><tr class=\"\">\n",
       "        <td class=\"fillremaining\">15.96515129559937</td>\n",
       "        <td class=\"number\">1</td>\n",
       "        <td class=\"number\">0.0%</td>\n",
       "        <td>\n",
       "            <div class=\"bar\" style=\"width:100%\">&nbsp;</div>\n",
       "        </td>\n",
       "</tr><tr class=\"\">\n",
       "        <td class=\"fillremaining\">16.026869298646595</td>\n",
       "        <td class=\"number\">1</td>\n",
       "        <td class=\"number\">0.0%</td>\n",
       "        <td>\n",
       "            <div class=\"bar\" style=\"width:100%\">&nbsp;</div>\n",
       "        </td>\n",
       "</tr><tr class=\"\">\n",
       "        <td class=\"fillremaining\">16.737196196172107</td>\n",
       "        <td class=\"number\">1</td>\n",
       "        <td class=\"number\">0.0%</td>\n",
       "        <td>\n",
       "            <div class=\"bar\" style=\"width:100%\">&nbsp;</div>\n",
       "        </td>\n",
       "</tr><tr class=\"\">\n",
       "        <td class=\"fillremaining\">18.734062633730762</td>\n",
       "        <td class=\"number\">1</td>\n",
       "        <td class=\"number\">0.0%</td>\n",
       "        <td>\n",
       "            <div class=\"bar\" style=\"width:100%\">&nbsp;</div>\n",
       "        </td>\n",
       "</tr>\n",
       "</table>\n",
       "        </div>\n",
       "    </div>\n",
       "</div>\n",
       "</div><div class=\"row variablerow\">\n",
       "    <div class=\"col-md-3 namecol\">\n",
       "        <p class=\"h4 pp-anchor\" id=\"pp_var_f2\">f2<br/>\n",
       "            <small>Numeric</small>\n",
       "        </p>\n",
       "    </div><div class=\"col-md-6\">\n",
       "    <div class=\"row\">\n",
       "        <div class=\"col-sm-6\">\n",
       "            <table class=\"stats \">\n",
       "                <tr>\n",
       "                    <th>Distinct count</th>\n",
       "                    <td>100000</td>\n",
       "                </tr>\n",
       "                <tr>\n",
       "                    <th>Unique (%)</th>\n",
       "                    <td>100.0%</td>\n",
       "                </tr>\n",
       "                <tr class=\"ignore\">\n",
       "                    <th>Missing (%)</th>\n",
       "                    <td>0.0%</td>\n",
       "                </tr>\n",
       "                <tr class=\"ignore\">\n",
       "                    <th>Missing (n)</th>\n",
       "                    <td>0</td>\n",
       "                </tr>\n",
       "                <tr class=\"ignore\">\n",
       "                    <th>Infinite (%)</th>\n",
       "                    <td>0.0%</td>\n",
       "                </tr>\n",
       "                <tr class=\"ignore\">\n",
       "                    <th>Infinite (n)</th>\n",
       "                    <td>0</td>\n",
       "                </tr>\n",
       "            </table>\n",
       "\n",
       "        </div>\n",
       "        <div class=\"col-sm-6\">\n",
       "            <table class=\"stats \">\n",
       "\n",
       "                <tr>\n",
       "                    <th>Mean</th>\n",
       "                    <td>2.4945</td>\n",
       "                </tr>\n",
       "                <tr>\n",
       "                    <th>Minimum</th>\n",
       "                    <td>-0.018144</td>\n",
       "                </tr>\n",
       "                <tr>\n",
       "                    <th>Maximum</th>\n",
       "                    <td>5.0197</td>\n",
       "                </tr>\n",
       "                <tr class=\"ignore\">\n",
       "                    <th>Zeros (%)</th>\n",
       "                    <td>0.0%</td>\n",
       "                </tr>\n",
       "            </table>\n",
       "        </div>\n",
       "    </div>\n",
       "</div>\n",
       "<div class=\"col-md-3 collapse in\" id=\"minihistogram-2219058519422468124\">\n",
       "    <img src=\"data:image/png;base64,iVBORw0KGgoAAAANSUhEUgAAAMgAAABLCAYAAAA1fMjoAAAAOXRFWHRTb2Z0d2FyZQBNYXRwbG90bGliIHZlcnNpb24zLjUuMywgaHR0cHM6Ly9tYXRwbG90bGliLm9yZy/NK7nSAAAACXBIWXMAAA9hAAAPYQGoP6dpAAAB00lEQVR4nO3cMa7TQBiF0d8RrZ0%2BiheBxCJYEB01JUuhZxHsIlEWYIuCgpjiEZoHVwrk2Q45p4wlzziZT9Y4kptpmqaa2fF4rL7v5x6WO3c4HGq/38865qtZR/upbduqerrgruuWmAJ3ZBiG6vv%2B17qZ0yKBNE1TVVVd1z0L5M37z1ef78uHtzeZF7d169/ysm7mtEgga/DIIT7ytV9rs/QEYM0EAoFAIBAIBAKBQCAQPOxj3rXyCHZd3EEgEAgEAoHAHuQF/c1%2BgnVxB4FAIBAIBAKBQCAQCAQCgUAgEAgEAoFAIBAIBAKBQCAQCAQCgUAgEAgEAoFAIBAIBAKBQCAQCLzV5AreUvJ43EEgEAgEAoHAHuQ/YG/0ctxBIBAIBAKBQCAQCAQCgUAgEAgW%2BR9kmqaqqhqG4dmx79%2B%2BXn2%2B1%2B8%2B/fOcyOb6jn%2B3Ji6fXdbNnBYJZBzHqqrq%2B36J4Vmx7cc/HxvHsbbb7XyTqapmWiDL8/lcp9Op2ratpmnmHp47M01TjeNYu92uNpt5dwWLBAL3wiYdAoFAIBAIBAKBQCAQCAQCgUAgEAgEAoFAIBAIBAKBQCAQCAQCgUAgEAgEAoFAIBAIBAKBQCAQCAQCgeAHLw9TVF%2BcYAYAAAAASUVORK5CYII%3D\">\n",
       "\n",
       "</div>\n",
       "<div class=\"col-md-12 text-right\">\n",
       "    <a role=\"button\" data-toggle=\"collapse\" data-target=\"#descriptives-2219058519422468124,#minihistogram-2219058519422468124\"\n",
       "       aria-expanded=\"false\" aria-controls=\"collapseExample\">\n",
       "        Toggle details\n",
       "    </a>\n",
       "</div>\n",
       "<div class=\"row collapse col-md-12\" id=\"descriptives-2219058519422468124\">\n",
       "    <ul class=\"nav nav-tabs\" role=\"tablist\">\n",
       "        <li role=\"presentation\" class=\"active\"><a href=\"#quantiles-2219058519422468124\"\n",
       "                                                  aria-controls=\"quantiles-2219058519422468124\" role=\"tab\"\n",
       "                                                  data-toggle=\"tab\">Statistics</a></li>\n",
       "        <li role=\"presentation\"><a href=\"#histogram-2219058519422468124\" aria-controls=\"histogram-2219058519422468124\"\n",
       "                                   role=\"tab\" data-toggle=\"tab\">Histogram</a></li>\n",
       "        <li role=\"presentation\"><a href=\"#common-2219058519422468124\" aria-controls=\"common-2219058519422468124\"\n",
       "                                   role=\"tab\" data-toggle=\"tab\">Common Values</a></li>\n",
       "        <li role=\"presentation\"><a href=\"#extreme-2219058519422468124\" aria-controls=\"extreme-2219058519422468124\"\n",
       "                                   role=\"tab\" data-toggle=\"tab\">Extreme Values</a></li>\n",
       "\n",
       "    </ul>\n",
       "\n",
       "    <div class=\"tab-content\">\n",
       "        <div role=\"tabpanel\" class=\"tab-pane active row\" id=\"quantiles-2219058519422468124\">\n",
       "            <div class=\"col-md-4 col-md-offset-1\">\n",
       "                <p class=\"h4\">Quantile statistics</p>\n",
       "                <table class=\"stats indent\">\n",
       "                    <tr>\n",
       "                        <th>Minimum</th>\n",
       "                        <td>-0.018144</td>\n",
       "                    </tr>\n",
       "                    <tr>\n",
       "                        <th>5-th percentile</th>\n",
       "                        <td>-0.0026438</td>\n",
       "                    </tr>\n",
       "                    <tr>\n",
       "                        <th>Q1</th>\n",
       "                        <td>1</td>\n",
       "                    </tr>\n",
       "                    <tr>\n",
       "                        <th>Median</th>\n",
       "                        <td>2.0115</td>\n",
       "                    </tr>\n",
       "                    <tr>\n",
       "                        <th>Q3</th>\n",
       "                        <td>3.9999</td>\n",
       "                    </tr>\n",
       "                    <tr>\n",
       "                        <th>95-th percentile</th>\n",
       "                        <td>5.0026</td>\n",
       "                    </tr>\n",
       "                    <tr>\n",
       "                        <th>Maximum</th>\n",
       "                        <td>5.0197</td>\n",
       "                    </tr>\n",
       "                    <tr>\n",
       "                        <th>Range</th>\n",
       "                        <td>5.0379</td>\n",
       "                    </tr>\n",
       "                    <tr>\n",
       "                        <th>Interquartile range</th>\n",
       "                        <td>2.9999</td>\n",
       "                    </tr>\n",
       "                </table>\n",
       "            </div>\n",
       "            <div class=\"col-md-4 col-md-offset-2\">\n",
       "                <p class=\"h4\">Descriptive statistics</p>\n",
       "                <table class=\"stats indent\">\n",
       "                    <tr>\n",
       "                        <th>Standard deviation</th>\n",
       "                        <td>1.7036</td>\n",
       "                    </tr>\n",
       "                    <tr>\n",
       "                        <th>Coef of variation</th>\n",
       "                        <td>0.68292</td>\n",
       "                    </tr>\n",
       "                    <tr>\n",
       "                        <th>Kurtosis</th>\n",
       "                        <td>-1.2618</td>\n",
       "                    </tr>\n",
       "                    <tr>\n",
       "                        <th>Mean</th>\n",
       "                        <td>2.4945</td>\n",
       "                    </tr>\n",
       "                    <tr>\n",
       "                        <th>MAD</th>\n",
       "                        <td>1.4949</td>\n",
       "                    </tr>\n",
       "                    <tr class=\"\">\n",
       "                        <th>Skewness</th>\n",
       "                        <td>0.0066658</td>\n",
       "                    </tr>\n",
       "                    <tr>\n",
       "                        <th>Sum</th>\n",
       "                        <td>249450</td>\n",
       "                    </tr>\n",
       "                    <tr>\n",
       "                        <th>Variance</th>\n",
       "                        <td>2.9022</td>\n",
       "                    </tr>\n",
       "                    <tr>\n",
       "                        <th>Memory size</th>\n",
       "                        <td>781.4 KiB</td>\n",
       "                    </tr>\n",
       "                </table>\n",
       "            </div>\n",
       "        </div>\n",
       "        <div role=\"tabpanel\" class=\"tab-pane col-md-8 col-md-offset-2\" id=\"histogram-2219058519422468124\">\n",
       "            <img src=\"data:image/png;base64,iVBORw0KGgoAAAANSUhEUgAAAlgAAAGQCAYAAAByNR6YAAAAOXRFWHRTb2Z0d2FyZQBNYXRwbG90bGliIHZlcnNpb24zLjUuMywgaHR0cHM6Ly9tYXRwbG90bGliLm9yZy/NK7nSAAAACXBIWXMAAA9hAAAPYQGoP6dpAAA1QElEQVR4nO3de1RVdf7/8ReIB8wERANkicS3i/c7DlHqaDKCMo638ZtK6RST0wyYSqPlLyPTGhLzgpckZ1JsjYzmTDqlhRKOYokXUFLJzMrC0gPNqBDMCAj8/ujLXp281NQHDwefj7X2Wp79eZ/P571PK3v1OZuNW11dXZ0AAABgjLuzGwAAAGhqCFgAAACGEbAAAAAMI2ABAAAYRsACAAAwjIAFAABgGAELAADAMAIWAACAYQQsAAAAwwhYAAAAhhGwAAAADCNgAQAAGEbAAgAAMIyABQAAYBgBCwAAwDACFgAAgGEELAAAAMMIWAAAAIYRsAAAAAwjYAEAABhGwAIAADCMgAUAAGAYAQsAAMAwAhYAAIBhBCwAAADDCFgAAACGEbAAAAAMI2ABAAAYRsACAAAwjIAFAABgGAELAADAMAIWAACAYQQsAAAAwwhYAAAAhhGwAAAADCNgAQAAGEbAAgAAMIyABQAAYJiHsxu4EdTW1urMmTNq1aqV3NzcnN0OAAA3hLq6On311VcKCgqSu/v13VMiYF0HZ86cUXBwsLPbAADghnT69Gm1b9/%2Buq5JwLoOWrVqJenrf8De3t5O7gYAgBtDWVmZgoODrf8OX08ErOug/mtBb29vAhYAANeZM27P4SZ3AAAAwwhYAAAAhhGwAAAADCNgAQAAGEbAAgAAMIyABQAAYBgBCwAAwDACFgAAgGEELAAAAMMIWAAAAIYRsAAAAAwjYAEAABjGL3t2cWFPZjq7he8t77loZ7cAAMB1QcACAKCJ4n/CnYeABVyFK/3FJDW9v5wAwJVxDxYAAIBh7GABAJyGnWI0VexgAQAAGNZoA1ZOTo5GjBihoKAgubm5acuWLZfVHD9%2BXL/4xS/k4%2BOjli1bql%2B/fioqKrLGL168qPj4eLVp00Y333yzxo4dq%2BLiYoc5ioqKFBMTo5tuukn%2B/v6aOXOmLl265FCza9cu9enTR56enrr99tuVnp7eEJcMAACaiEYbsCoqKtSzZ0%2BtXLnyiuMff/yx%2Bvfvr06dOmnXrl06cuSInnrqKXl5eVk1M2bM0BtvvKFNmzZp9%2B7dOnPmjMaMGWON19TUKCYmRlVVVdq7d6/WrVun9PR0JSUlWTWnTp1STEyMBg8erIKCAk2fPl2//vWvtX379oa7eAAA4NIa7T1Yw4YN07Bhw646/uSTT2r48OFKSUmxzt12223Wn0tLS/Xyyy8rIyND9957ryRp7dq16ty5s/bt26e77rpLO3bs0Pvvv6%2B3335bAQEB6tWrl%2BbPn6/HH39cc%2BfOlc1mU1pamkJDQ7Vo0SJJUufOnfXOO%2B9oyZIlioqKaqCrBwAArqzR7mBdS21trbZt26Y777xTUVFR8vf3V3h4uMPXiPn5%2BaqurlZkZKR1rlOnTurQoYNyc3MlSbm5uerevbsCAgKsmqioKJWVlamwsNCq%2BeYc9TX1cwAAAHybSwaskpISlZeX6/nnn1d0dLR27Nih0aNHa8yYMdq9e7ckyW63y2azydfX1%2BG9AQEBstvtVs03w1X9eP3YtWrKysr0n//854r9VVZWqqyszOEAAAA3jkb7FeG11NbWSpJGjhypGTNmSJJ69eqlvXv3Ki0tTT/96U%2Bd2Z6Sk5P1zDPPOLUHAADgPC65g9W2bVt5eHioS5cuDuc7d%2B5s/RRhYGCgqqqqdOHCBYea4uJiBQYGWjXf/qnC%2BtffVePt7a0WLVpcsb/Zs2ertLTUOk6fPv3DLhQAALgklwxYNptN/fr104kTJxzOf/jhhwoJCZEk9e3bV82bN1d2drY1fuLECRUVFSkiIkKSFBERoaNHj6qkpMSqycrKkre3txXeIiIiHOaor6mf40o8PT3l7e3tcAAAgBtHo/2KsLy8XB999JH1%2BtSpUyooKJCfn586dOigmTNn6r777tPAgQM1ePBgZWZm6o033tCuXbskST4%2BPoqLi1NiYqL8/Pzk7e2tqVOnKiIiQnfddZckaejQoerSpYseeOABpaSkyG63a86cOYqPj5enp6ck6ZFHHtGKFSs0a9YsPfTQQ9q5c6deffVVbdu27bp/JgAAwDU02oCVl5enwYMHW68TExMlSZMnT1Z6erpGjx6ttLQ0JScn69FHH1XHjh31t7/9Tf3797fes2TJErm7u2vs2LGqrKxUVFSUXnzxRWu8WbNm2rp1q377298qIiJCLVu21OTJkzVv3jyrJjQ0VNu2bdOMGTOUmpqq9u3b609/%2BhOPaAAAAFfVaAPWoEGDVFdXd82ahx56SA899NBVx728vLRy5cqrPqxUkkJCQvTmm29%2BZy%2BHDx%2B%2BdsMAAAD/xyXvwQIAAGjMCFgAAACGEbAAAAAMI2ABAAAYRsACAAAwjIAFAABgGAELAADAMAIWAACAYQQsAAAAwwhYAAAAhhGwAAAADCNgAQAAGEbAAgAAMIyABQAAYBgBCwAAwDACFgAAgGEELAAAAMMIWAAAAIYRsAAAAAwjYAEAABhGwAIAADCMgAUAAGAYAQsAAMAwAhYAAIBhBCwAAADDCFgAAACGNdqAlZOToxEjRigoKEhubm7asmXLVWsfeeQRubm5aenSpQ7nz507p9jYWHl7e8vX11dxcXEqLy93qDly5IgGDBggLy8vBQcHKyUl5bL5N23apE6dOsnLy0vdu3fXm2%2B%2BaeISAQBAE9VoA1ZFRYV69uyplStXXrNu8%2BbN2rdvn4KCgi4bi42NVWFhobKysrR161bl5ORoypQp1nhZWZmGDh2qkJAQ5efna%2BHChZo7d65Wr15t1ezdu1cTJkxQXFycDh8%2BrFGjRmnUqFE6duyYuYsFAABNioezG7iaYcOGadiwYdes%2BeKLLzR16lRt375dMTExDmPHjx9XZmamDh48qLCwMEnS8uXLNXz4cL3wwgsKCgrS%2BvXrVVVVpTVr1shms6lr164qKCjQ4sWLrSCWmpqq6OhozZw5U5I0f/58ZWVlacWKFUpLS2uAKwcAAK6u0e5gfZfa2lo98MADmjlzprp27XrZeG5urnx9fa1wJUmRkZFyd3fX/v37rZqBAwfKZrNZNVFRUTpx4oTOnz9v1URGRjrMHRUVpdzc3Ia4LAAA0AQ02h2s77JgwQJ5eHjo0UcfveK43W6Xv7%2B/wzkPDw/5%2BfnJbrdbNaGhoQ41AQEB1ljr1q1lt9utc9%2BsqZ/jSiorK1VZWWm9Lisr%2B/4XBgAAXJ5L7mDl5%2BcrNTVV6enpcnNzc3Y7l0lOTpaPj491BAcHO7slAABwHblkwNqzZ49KSkrUoUMHeXh4yMPDQ5999pkee%2Bwx3XrrrZKkwMBAlZSUOLzv0qVLOnfunAIDA62a4uJih5r6199VUz9%2BJbNnz1Zpaal1nD59%2BkddLwAAcC0uGbAeeOABHTlyRAUFBdYRFBSkmTNnavv27ZKkiIgIXbhwQfn5%2Bdb7du7cqdraWoWHh1s1OTk5qq6utmqysrLUsWNHtW7d2qrJzs52WD8rK0sRERFX7c/T01Pe3t4OBwAAuHE02nuwysvL9dFHH1mvT506pYKCAvn5%2BalDhw5q06aNQ33z5s0VGBiojh07SpI6d%2B6s6OhoPfzww0pLS1N1dbUSEhI0fvx465EOEydO1DPPPKO4uDg9/vjjOnbsmFJTU7VkyRJr3mnTpumnP/2pFi1apJiYGG3YsEF5eXkOj3IA0LSFPZnp7Bb%2BK3nPRTu7BeCG12h3sPLy8tS7d2/17t1bkpSYmKjevXsrKSnpe8%2Bxfv16derUSUOGDNHw4cPVv39/h2Dk4%2BOjHTt26NSpU%2Brbt68ee%2BwxJSUlOTwr6%2B6771ZGRoZWr16tnj176q9//au2bNmibt26mbtYAADQpDTaHaxBgwaprq7ue9d/%2Bumnl53z8/NTRkbGNd/Xo0cP7dmz55o148aN07hx4753LwAA4MbWaHewAAAAXBUBCwAAwDACFgAAgGEELAAAAMMIWAAAAIYRsAAAAAwjYAEAABhGwAIAADCMgAUAAGAYAQsAAMAwAhYAAIBhBCwAAADDCFgAAACGEbAAAAAMI2ABAAAYRsACAAAwjIAFAABgGAELAADAMAIWAACAYQQsAAAAwwhYAAAAhhGwAAAADCNgAQAAGEbAAgAAMIyABQAAYBgBCwAAwDAPZzdwNTk5OVq4cKHy8/N19uxZbd68WaNGjZIkVVdXa86cOXrzzTf1ySefyMfHR5GRkXr%2B%2BecVFBRkzXHu3DlNnTpVb7zxhtzd3TV27Filpqbq5ptvtmqOHDmi%2BPh4HTx4ULfccoumTp2qWbNmOfSyadMmPfXUU/r00091xx13aMGCBRo%2BfPh1%2BRyApijsyUxntwAADarR7mBVVFSoZ8%2BeWrly5WVj//73v3Xo0CE99dRTOnTokF577TWdOHFCv/jFLxzqYmNjVVhYqKysLG3dulU5OTmaMmWKNV5WVqahQ4cqJCRE%2Bfn5WrhwoebOnavVq1dbNXv37tWECRMUFxenw4cPa9SoURo1apSOHTvWcBcPAABcWqPdwRo2bJiGDRt2xTEfHx9lZWU5nFuxYoV%2B8pOfqKioSB06dNDx48eVmZmpgwcPKiwsTJK0fPlyDR8%2BXC%2B88IKCgoK0fv16VVVVac2aNbLZbOratasKCgq0ePFiK4ilpqYqOjpaM2fOlCTNnz9fWVlZWrFihdLS0hrwEwAAAK6q0e5g/bdKS0vl5uYmX19fSVJubq58fX2tcCVJkZGRcnd31/79%2B62agQMHymazWTVRUVE6ceKEzp8/b9VERkY6rBUVFaXc3Nyr9lJZWamysjKHAwAA3DiaRMC6ePGiHn/8cU2YMEHe3t6SJLvdLn9/f4c6Dw8P%2Bfn5yW63WzUBAQEONfWvv6umfvxKkpOT5ePjYx3BwcE/7gIBAIBLcfmAVV1drf/93/9VXV2dVq1a5ex2JEmzZ89WaWmpdZw%2BfdrZLQEAgOuo0d6D9X3Uh6vPPvtMO3futHavJCkwMFAlJSUO9ZcuXdK5c%2BcUGBho1RQXFzvU1L/%2Brpr68Svx9PSUp6fnD78wAADg0lx2B6s%2BXJ08eVJvv/222rRp4zAeERGhCxcuKD8/3zq3c%2BdO1dbWKjw83KrJyclRdXW1VZOVlaWOHTuqdevWVk12drbD3FlZWYqIiGioSwMAAC6u0Qas8vJyFRQUqKCgQJJ06tQpFRQUqKioSNXV1frlL3%2BpvLw8rV%2B/XjU1NbLb7bLb7aqqqpIkde7cWdHR0Xr44Yd14MABvfvuu0pISND48eOtZ2VNnDhRNptNcXFxKiws1MaNG5WamqrExESrj2nTpikzM1OLFi3SBx98oLlz5yovL08JCQnX/TMBAACuodEGrLy8PPXu3Vu9e/eWJCUmJqp3795KSkrSF198oddff12ff/65evXqpXbt2lnH3r17rTnWr1%2BvTp06aciQIRo%2BfLj69%2B/v8IwrHx8f7dixQ6dOnVLfvn312GOPKSkpyeFZWXfffbcyMjK0evVq9ezZU3/961%2B1ZcsWdevW7fp9GAAAwKU02nuwBg0apLq6uquOX2usnp%2BfnzIyMq5Z06NHD%2B3Zs%2BeaNePGjdO4ceO%2Bcz0AAACpEe9gAQAAuCoCFgAAgGEELAAAAMMIWAAAAIYRsAAAAAwjYAEAABhGwAIAADCMgAUAAGAYAQsAAMAwAhYAAIBhBCwAAADDCFgAAACGEbAAAAAMI2ABAAAYRsACAAAwjIAFAABgGAELAADAMAIWAACAYQQsAAAAwwhYAAAAhhGwAAAADDMesD755BPTUwIAALgU4wHr9ttv1%2BDBg/XnP/9ZFy9eND09AABAo2c8YB06dEg9evRQYmKiAgMD9Zvf/EYHDhwwvQwAAECjZTxg9erVS6mpqTpz5ozWrFmjs2fPqn///urWrZsWL16sL7/80vSSAAAAjUqD3eTu4eGhMWPGaNOmTVqwYIE%2B%2Bugj/f73v1dwcLAmTZqks2fPNtTSAAAATtVgASsvL0%2B/%2B93v1K5dOy1evFi///3v9fHHHysrK0tnzpzRyJEjr/n%2BnJwcjRgxQkFBQXJzc9OWLVscxuvq6pSUlKR27dqpRYsWioyM1MmTJx1qzp07p9jYWHl7e8vX11dxcXEqLy93qDly5IgGDBggLy8vBQcHKyUl5bJeNm3apE6dOsnLy0vdu3fXm2%2B%2B%2BcM%2BFAAAcEMwHrAWL16s7t276%2B6779aZM2f0yiuv6LPPPtOzzz6r0NBQDRgwQOnp6Tp06NA156moqFDPnj21cuXKK46npKRo2bJlSktL0/79%2B9WyZUtFRUU53FgfGxurwsJCZWVlaevWrcrJydGUKVOs8bKyMg0dOlQhISHKz8/XwoULNXfuXK1evdqq2bt3ryZMmKC4uDgdPnxYo0aN0qhRo3Ts2LEf%2BUkBAICmysP0hKtWrdJDDz2kX/3qV2rXrt0Va/z9/fXyyy9fc55hw4Zp2LBhVxyrq6vT0qVLNWfOHGsn7JVXXlFAQIC2bNmi8ePH6/jx48rMzNTBgwcVFhYmSVq%2BfLmGDx%2BuF154QUFBQVq/fr2qqqq0Zs0a2Ww2de3aVQUFBVq8eLEVxFJTUxUdHa2ZM2dKkubPn6%2BsrCytWLFCaWlpP%2BgzAgAATZvxHayTJ09q9uzZVw1XkmSz2TR58uQfvMapU6dkt9sVGRlpnfPx8VF4eLhyc3MlSbm5ufL19bXClSRFRkbK3d1d%2B/fvt2oGDhwom81m1URFRenEiRM6f/68VfPNdepr6te5ksrKSpWVlTkcAADgxmE8YK1du1abNm267PymTZu0bt06I2vY7XZJUkBAgMP5gIAAa8xut8vf399h3MPDQ35%2Bfg41V5rjm2tcraZ%2B/EqSk5Pl4%2BNjHcHBwf/tJQIAABdmPGAlJyerbdu2l5339/fXH/7wB9PLNUqzZ89WaWmpdZw%2BfdrZLQEAgOvIeMAqKipSaGjoZedDQkJUVFRkZI3AwEBJUnFxscP54uJiaywwMFAlJSUO45cuXdK5c%2Bccaq40xzfXuFpN/fiVeHp6ytvb2%2BEAAAA3DuMBy9/fX0eOHLns/Hvvvac2bdoYWSM0NFSBgYHKzs62zpWVlWn//v2KiIiQJEVEROjChQvKz8%2B3anbu3Kna2lqFh4dbNTk5OaqurrZqsrKy1LFjR7Vu3dqq%2BeY69TX16wAAAHyb8YA1YcIEPfroo/rHP/6hmpoa1dTUaOfOnZo2bZrGjx//vecpLy9XQUGBCgoKJH19Y3tBQYGKiork5uam6dOn69lnn9Xrr7%2Buo0ePatKkSQoKCtKoUaMkSZ07d1Z0dLQefvhhHThwQO%2B%2B%2B64SEhI0fvx4BQUFSZImTpwom82muLg4FRYWauPGjUpNTVViYqLVx7Rp05SZmalFixbpgw8%2B0Ny5c5WXl6eEhARjnxkAAGhajD%2BmYf78%2Bfr00081ZMgQeXh8PX1tba0mTZr0X92DlZeXp8GDB1uv60PP5MmTlZ6erlmzZqmiokJTpkzRhQsX1L9/f2VmZsrLy8t6z/r165WQkKAhQ4bI3d1dY8eO1bJly6xxHx8f7dixQ/Hx8erbt6/atm2rpKQkh2dl3X333crIyNCcOXP0//7f/9Mdd9yhLVu2qFu3bj/4MwIAAE2b8YBls9m0ceNGzZ8/X%2B%2B9955atGih7t27KyQk5L%2BaZ9CgQaqrq7vquJubm%2BbNm6d58%2BZdtcbPz08ZGRnXXKdHjx7as2fPNWvGjRuncePGXbthAACA/2M8YNW78847deeddzbU9AAAAI2W8YBVU1Oj9PR0ZWdnq6SkRLW1tQ7jO3fuNL0kAABAo2I8YE2bNk3p6emKiYlRt27d5ObmZnoJAACARs14wNqwYYNeffVVDR8%2B3PTUAAAALsH4YxpsNptuv/1209MCAAC4DOMB67HHHlNqauo1fwIQAACgKTP%2BFeE777yjf/zjH3rrrbfUtWtXNW/e3GH8tddeM70kAABAo2I8YPn6%2Bmr06NGmpwUAAHAZxgPW2rVrTU8JAADgUozfgyVJly5d0ttvv62XXnpJX331lSTpzJkzKi8vb4jlAAAAGhXjO1ifffaZoqOjVVRUpMrKSv3sZz9Tq1attGDBAlVWViotLc30kgAAAI2K8R2sadOmKSwsTOfPn1eLFi2s86NHj1Z2drbp5QAAABod4ztYe/bs0d69e2Wz2RzO33rrrfriiy9MLwcAANDoGN/Bqq2tVU1NzWXnP//8c7Vq1cr0cgAAAI2O8YA1dOhQLV261Hrt5uam8vJyPf300/z6HAAAcEMw/hXhokWLFBUVpS5duujixYuaOHGiTp48qbZt2%2Bovf/mL6eUAAAAaHeMBq3379nrvvfe0YcMGHTlyROXl5YqLi1NsbKzDTe8AAABNlfGAJUkeHh66//77G2JqAACARs94wHrllVeuOT5p0iTTSwIAADQqxgPWtGnTHF5XV1fr3//%2Bt2w2m2666SYCFgAAaPKM/xTh%2BfPnHY7y8nKdOHFC/fv35yZ3AABwQ2iQ30X4bXfccYeef/75y3a3AAAAmqLrErCkr298P3PmzPVaDgAAwGmM34P1%2BuuvO7yuq6vT2bNntWLFCt1zzz2mlwMAAGh0jAesUaNGObx2c3PTLbfconvvvVeLFi0yvRwAAECj0yC/i/CbR01Njex2uzIyMtSuXTtj69TU1Oipp55SaGioWrRoodtuu03z589XXV2dVVNXV6ekpCS1a9dOLVq0UGRkpE6ePOkwz7lz5xQbGytvb2/5%2BvoqLi5O5eXlDjVHjhzRgAED5OXlpeDgYKWkpBi7DgAA0PRct3uwTFuwYIFWrVqlFStW6Pjx41qwYIFSUlK0fPlyqyYlJUXLli1TWlqa9u/fr5YtWyoqKkoXL160amJjY1VYWKisrCxt3bpVOTk5mjJlijVeVlamoUOHKiQkRPn5%2BVq4cKHmzp2r1atXX9frBQAArsP4V4SJiYnfu3bx4sU/eJ29e/dq5MiRiomJkSTdeuut%2Bstf/qIDBw5I%2Bnr3aunSpZozZ45Gjhwp6euHoAYEBGjLli0aP368jh8/rszMTB08eFBhYWGSpOXLl2v48OF64YUXFBQUpPXr16uqqkpr1qyRzWZT165dVVBQoMWLFzsEMQAAgHrGA9bhw4d1%2BPBhVVdXq2PHjpKkDz/8UM2aNVOfPn2sOjc3tx%2B1zt13363Vq1frww8/1J133qn33ntP77zzjhXaTp06JbvdrsjISOs9Pj4%2BCg8PV25ursaPH6/c3Fz5%2Bvpa4UqSIiMj5e7urv3792v06NHKzc3VwIEDZbPZrJqoqCgtWLBA58%2BfV%2BvWrX/UdQAAgKbHeMAaMWKEWrVqpXXr1lnh4/z583rwwQc1YMAAPfbYY0bWeeKJJ1RWVqZOnTqpWbNmqqmp0XPPPafY2FhJkt1ulyQFBAQ4vC8gIMAas9vt8vf3dxj38PCQn5%2BfQ01oaOhlc9SPXSlgVVZWqrKy0npdVlb2Yy4VAAC4GOP3YC1atEjJyckOwaN169Z69tlnjf4U4auvvqr169crIyNDhw4d0rp16/TCCy9o3bp1xtb4oZKTk%2BXj42MdwcHBzm4JAABcR8YDVllZmb788svLzn/55Zf66quvjK0zc%2BZMPfHEExo/fry6d%2B%2BuBx54QDNmzFBycrIkKTAwUJJUXFzs8L7i4mJrLDAwUCUlJQ7jly5d0rlz5xxqrjTHN9f4ttmzZ6u0tNQ6Tp8%2B/SOvFgAAuBLjAWv06NF68MEH9dprr%2Bnzzz/X559/rr/97W%2BKi4vTmDFjjK3z73//W%2B7uju03a9ZMtbW1kqTQ0FAFBgYqOzvbGi8rK9P%2B/fsVEREhSYqIiNCFCxeUn59v1ezcuVO1tbUKDw%2B3anJyclRdXW3VZGVlqWPHjle9/8rT01Pe3t4OBwAAuHEYD1hpaWkaNmyYJk6cqJCQEIWEhGjixImKjo7Wiy%2B%2BaGydESNG6LnnntO2bdv06aefavPmzVq8eLFGjx4t6eub6KdPn65nn31Wr7/%2Buo4ePapJkyYpKCjIehhq586dFR0drYcfflgHDhzQu%2B%2B%2Bq4SEBI0fP15BQUGSpIkTJ8pmsykuLk6FhYXauHGjUlNT/6uflgQAADcW4ze533TTTXrxxRe1cOFCffzxx5Kk2267TS1btjS6zvLly/XUU0/pd7/7nUpKShQUFKTf/OY3SkpKsmpmzZqliooKTZkyRRcuXFD//v2VmZkpLy8vq2b9%2BvVKSEjQkCFD5O7urrFjx2rZsmXWuI%2BPj3bs2KH4%2BHj17dtXbdu2VVJSEo9oAAAAV2U8YNU7e/aszp49q4EDB6pFixaqq6v70Y9m%2BKZWrVpp6dKlWrp06VVr3NzcNG/ePM2bN%2B%2BqNX5%2BfsrIyLjmWj169NCePXt%2BaKsAAOAGY/wrwn/9618aMmSI7rzzTg0fPlxnz56VJMXFxRl7RAMAAEBjZjxgzZgxQ82bN1dRUZFuuukm6/x9992nzMxM08sBAAA0Osa/ItyxY4e2b9%2Bu9u3bO5y/44479Nlnn5leDgAAoNExvoNVUVHhsHNV79y5c/L09DS9HAAAQKNjPGANGDBAr7zyivXazc1NtbW1SklJ0eDBg00vBwAA0OgY/4owJSVFQ4YMUV5enqqqqjRr1iwVFhbq3Llzevfdd00vBwAA0OgY38Hq1q2bPvzwQ/Xv318jR45URUWFxowZo8OHD%2Bu2224zvRwAAECjY3QHq7q6WtHR0UpLS9OTTz5pcmoAAACXYXQHq3nz5jpy5IjJKQEAAFyO8a8I77//fr388sumpwUAAHAZxm9yv3TpktasWaO3335bffv2vex3EC5evNj0kgAAAI2KsYD1ySef6NZbb9WxY8fUp08fSdKHH37oUGPydxECAAA0VsYC1h133KGzZ8/qH//4h6SvfzXOsmXLFBAQYGoJAAAAl2DsHqy6ujqH12%2B99ZYqKipMTQ8AAOAyjN/kXu/bgQsAAOBGYSxgubm5XXaPFfdcAQCAG5Gxe7Dq6ur0q1/9yvqFzhcvXtQjjzxy2U8Rvvbaa6aWBAAAaJSMBazJkyc7vL7//vtNTQ0AAOBSjAWstWvXmpoKAADApTXYTe4AAAA3KgIWAACAYQQsAAAAwwhYAAAAhhGwAAAADCNgAQAAGEbAAgAAMMylA9YXX3yh%2B%2B%2B/X23atFGLFi3UvXt35eXlWeN1dXVKSkpSu3bt1KJFC0VGRurkyZMOc5w7d06xsbHy9vaWr6%2Bv4uLiVF5e7lBz5MgRDRgwQF5eXgoODlZKSsp1uT4AAOCaXDZgnT9/Xvfcc4%2BaN2%2But956S%2B%2B//74WLVqk1q1bWzUpKSlatmyZ0tLStH//frVs2VJRUVG6ePGiVRMbG6vCwkJlZWVp69atysnJ0ZQpU6zxsrIyDR06VCEhIcrPz9fChQs1d%2B5crV69%2BrpeLwAAcB3GnuR%2BvS1YsEDBwcEOT5APDQ21/lxXV6elS5dqzpw5GjlypCTplVdeUUBAgLZs2aLx48fr%2BPHjyszM1MGDBxUWFiZJWr58uYYPH64XXnhBQUFBWr9%2BvaqqqrRmzRrZbDZ17dpVBQUFWrx4sUMQAwAAqOeyO1ivv/66wsLCNG7cOPn7%2B6t379764x//aI2fOnVKdrtdkZGR1jkfHx%2BFh4crNzdXkpSbmytfX18rXElSZGSk3N3dtX//fqtm4MCBstlsVk1UVJROnDih8%2BfPN/RlAgAAF%2BSyAeuTTz7RqlWrdMcdd2j79u367W9/q0cffVTr1q2TJNntdklSQECAw/sCAgKsMbvdLn9/f4dxDw8P%2Bfn5OdRcaY5vrvFtlZWVKisrczgAAMCNw2W/IqytrVVYWJj%2B8Ic/SJJ69%2B6tY8eOKS0tTZMnT3Zqb8nJyXrmmWec2gMAAHAel93Bateunbp06eJwrnPnzioqKpIkBQYGSpKKi4sdaoqLi62xwMBAlZSUOIxfunRJ586dc6i50hzfXOPbZs%2BerdLSUus4ffr0D7lEAADgolw2YN1zzz06ceKEw7kPP/xQISEhkr6%2B4T0wMFDZ2dnWeFlZmfbv36%2BIiAhJUkREhC5cuKD8/HyrZufOnaqtrVV4eLhVk5OTo%2BrqaqsmKytLHTt2dPiJxW/y9PSUt7e3wwEAAG4cLhuwZsyYoX379ukPf/iDPvroI2VkZGj16tWKj4%2BXJLm5uWn69Ol69tln9frrr%2Bvo0aOaNGmSgoKCNGrUKElf73hFR0fr4Ycf1oEDB/Tuu%2B8qISFB48ePV1BQkCRp4sSJstlsiouLU2FhoTZu3KjU1FQlJiY669IBAEAj57L3YPXr10%2BbN2/W7NmzNW/ePIWGhmrp0qWKjY21ambNmqWKigpNmTJFFy5cUP/%2B/ZWZmSkvLy%2BrZv369UpISNCQIUPk7u6usWPHatmyZda4j4%2BPduzYofj4ePXt21dt27ZVUlISj2gAAABX5bIBS5J%2B/vOf6%2Bc///lVx93c3DRv3jzNmzfvqjV%2Bfn7KyMi45jo9evTQnj17fnCfAADgxuKyXxECAAA0VgQsAAAAwwhYAAAAhhGwAAAADCNgAQAAGEbAAgAAMIyABQAAYBgBCwAAwDACFgAAgGEELAAAAMMIWAAAAIYRsAAAAAwjYAEAABhGwAIAADCMgAUAAGAYAQsAAMAwAhYAAIBhBCwAAADDCFgAAACGeTi7AQBmhD2Z6ewWAAD/hx0sAAAAwwhYAAAAhhGwAAAADCNgAQAAGEbAAgAAMIyABQAAYFiTCVjPP/%2B83NzcNH36dOvcxYsXFR8frzZt2ujmm2/W2LFjVVxc7PC%2BoqIixcTE6KabbpK/v79mzpypS5cuOdTs2rVLffr0kaenp26//Xalp6dfhysCAACuqkkErIMHD%2Bqll15Sjx49HM7PmDFDb7zxhjZt2qTdu3frzJkzGjNmjDVeU1OjmJgYVVVVae/evVq3bp3S09OVlJRk1Zw6dUoxMTEaPHiwCgoKNH36dP3617/W9u3br9v1AQAA1%2BLyAau8vFyxsbH64x//qNatW1vnS0tL9fLLL2vx4sW699571bdvX61du1Z79%2B7Vvn37JEk7duzQ%2B%2B%2B/rz//%2Bc/q1auXhg0bpvnz52vlypWqqqqSJKWlpSk0NFSLFi1S586dlZCQoF/%2B8pdasmSJU64XAAA0fi4fsOLj4xUTE6PIyEiH8/n5%2BaqurnY436lTJ3Xo0EG5ubmSpNzcXHXv3l0BAQFWTVRUlMrKylRYWGjVfHvuqKgoa44rqaysVFlZmcMBAABuHC79q3I2bNigQ4cO6eDBg5eN2e122Ww2%2Bfr6OpwPCAiQ3W63ar4ZrurH68euVVNWVqb//Oc/atGixWVrJycn65lnnvnB1wUAAFyby%2B5gnT59WtOmTdP69evl5eXl7HYczJ49W6WlpdZx%2BvRpZ7cEAACuI5cNWPn5%2BSopKVGfPn3k4eEhDw8P7d69W8uWLZOHh4cCAgJUVVWlCxcuOLyvuLhYgYGBkqTAwMDLfqqw/vV31Xh7e19x90qSPD095e3t7XAAAIAbh8sGrCFDhujo0aMqKCiwjrCwMMXGxlp/bt68ubKzs633nDhxQkVFRYqIiJAkRURE6OjRoyopKbFqsrKy5O3trS5dulg135yjvqZ%2BDgAAgG9z2XuwWrVqpW7dujmca9mypdq0aWOdj4uLU2Jiovz8/OTt7a2pU6cqIiJCd911lyRp6NCh6tKlix544AGlpKTIbrdrzpw5io%2BPl6enpyTpkUce0YoVKzRr1iw99NBD2rlzp1599VVt27bt%2Bl4wAABwGS4bsL6PJUuWyN3dXWPHjlVlZaWioqL04osvWuPNmjXT1q1b9dvf/lYRERFq2bKlJk%2BerHnz5lk1oaGh2rZtm2bMmKHU1FS1b99ef/rTnxQVFeWMSwIAAC6gSQWsXbt2Obz28vLSypUrtXLlyqu%2BJyQkRG%2B%2B%2BeY15x00aJAOHz5sokUAAHADcNl7sAAAABorAhYAAIBhBCwAAADDCFgAAACGEbAAAAAMI2ABAAAYRsACAAAwjIAFAABgGAELAADAMAIWAACAYQQsAAAAwwhYAAAAhhGwAAAADPNwdgMAALPCnsx0dgvADY8dLAAAAMMIWAAAAIYRsAAAAAwjYAEAABhGwAIAADCMgAUAAGAYAQsAAMAwAhYAAIBhBCwAAADDCFgAAACGEbAAAAAMI2ABAAAY5rIBKzk5Wf369VOrVq3k7%2B%2BvUaNG6cSJEw41Fy9eVHx8vNq0aaObb75ZY8eOVXFxsUNNUVGRYmJidNNNN8nf318zZ87UpUuXHGp27dqlPn36yNPTU7fffrvS09Mb%2BvIAAIALc9mAtXv3bsXHx2vfvn3KyspSdXW1hg4dqoqKCqtmxowZeuONN7Rp0ybt3r1bZ86c0ZgxY6zxmpoaxcTEqKqqSnv37tW6deuUnp6upKQkq%2BbUqVOKiYnR4MGDVVBQoOnTp%2BvXv/61tm/ffl2vFwAAuA4PZzfwQ2VmZjq8Tk9Pl7%2B/v/Lz8zVw4ECVlpbq5ZdfVkZGhu69915J0tq1a9W5c2ft27dPd911l3bs2KH3339fb7/9tgICAtSrVy/Nnz9fjz/%2BuObOnSubzaa0tDSFhoZq0aJFkqTOnTvrnXfe0ZIlSxQVFXXdrxsAADR%2BLruD9W2lpaWSJD8/P0lSfn6%2BqqurFRkZadV06tRJHTp0UG5uriQpNzdX3bt3V0BAgFUTFRWlsrIyFRYWWjXfnKO%2Bpn6OK6msrFRZWZnDAQAAbhxNImDV1tZq%2BvTpuueee9StWzdJkt1ul81mk6%2Bvr0NtQECA7Ha7VfPNcFU/Xj92rZqysjL95z//uWI/ycnJ8vHxsY7g4OAffY0AAMB1NImAFR8fr2PHjmnDhg3ObkWSNHv2bJWWllrH6dOnnd0SAAC4jlz2Hqx6CQkJ2rp1q3JyctS%2BfXvrfGBgoKqqqnThwgWHXazi4mIFBgZaNQcOHHCYr/6nDL9Z8%2B2fPCwuLpa3t7datGhxxZ48PT3l6en5o68NAAC4Jpfdwaqrq1NCQoI2b96snTt3KjQ01GG8b9%2B%2Bat68ubKzs61zJ06cUFFRkSIiIiRJEREROnr0qEpKSqyarKwseXt7q0uXLlbNN%2Beor6mfAwAA4NtcdgcrPj5eGRkZ%2Bvvf/65WrVpZ90z5%2BPioRYsW8vHxUVxcnBITE%2BXn5ydvb29NnTpVERERuuuuuyRJQ4cOVZcuXfTAAw8oJSVFdrtdc%2BbMUXx8vLUD9cgjj2jFihWaNWuWHnroIe3cuVOvvvqqtm3b5rRrBwAAjZvL7mCtWrVKpaWlGjRokNq1a2cdGzdutGqWLFmin//85xo7dqwGDhyowMBAvfbaa9Z4s2bNtHXrVjVr1kwRERG6//77NWnSJM2bN8%2BqCQ0N1bZt25SVlaWePXtq0aJF%2BtOf/sQjGgAAwFW57A5WXV3dd9Z4eXlp5cqVWrly5VVrQkJC9Oabb15znkGDBunw4cP/dY8AAODG5LI7WAAAAI0VAQsAAMAwAhYAAIBhBCwAAADDCFgAAACGEbAAAAAMI2ABAAAYRsACAAAwjIAFAABgGAELAADAMAIWAACAYQQsAAAAwwhYAAAAhhGwAAAADCNgAQAAGEbAAgAAMIyABQAAYBgBCwAAwDACFgAAgGEELAAAAMMIWAAAAIYRsAAAAAwjYAEAABhGwAIAADCMgAUAAGCYh7MbwI0j7MlMZ7cAAMB1wQ7W97Ry5Urdeuut8vLyUnh4uA4cOODslgAAQCNFwPoeNm7cqMTERD399NM6dOiQevbsqaioKJWUlDi7NQAA0Ai51dXV1Tm7icYuPDxc/fr104oVKyRJtbW1Cg4O1tSpU/XEE0985/vLysrk4%2BOj0tJSeXt7G%2B2Nr90AAE1B3nPRxudsyP/%2BfhfuwfoOVVVVys/P1%2BzZs61z7u7uioyMVG5u7hXfU1lZqcrKSut1aWmppK//QZtWU1lhfE4AAK63hvhvZP2czthLImB9h3/%2B85%2BqqalRQECAw/mAgAB98MEHV3xPcnKynnnmmcvOBwcHN0iPAAC4Op9FDTf3V199JR8fn4Zb4AoIWA1g9uzZSkxMtF7X1tbq3LlzatOmjdzc3IyuVVZWpuDgYJ0%2Bffq6b382dXy2DYfPtmHwuTYcPtuG0dCfa11dnb766isFBQUZn/u7ELC%2BQ9u2bdWsWTMVFxc7nC8uLlZgYOAV3%2BPp6SlPT0%2BHc76%2Bvg3VoiTJ29ubf%2BkbCJ9tw%2BGzbRh8rg2Hz7ZhNOTner13rurxU4TfwWazqW/fvsrOzrbO1dbWKjs7WxEREU7sDAAANFbsYH0PiYmJmjx5ssLCwvSTn/xES5cuVUVFhR588EFntwYAABohAtb3cN999%2BnLL79UUlKS7Ha7evXqpczMzMtufHcGT09PPf3005d9JYkfj8%2B24fDZNgw%2B14bDZ9swmvLnynOwAAAADOMeLAAAAMMIWAAAAIYRsAAAAAwjYAEAABhGwHJxK1eu1K233iovLy%2BFh4frwIEDzm7J5eXk5GjEiBEKCgqSm5ubtmzZ4uyWmoTk5GT169dPrVq1kr%2B/v0aNGqUTJ044u60mYdWqVerRo4f1sMaIiAi99dZbzm6ryXn%2B%2Befl5uam6dOnO7sVlzd37ly5ubk5HJ06dXJ2W0YRsFzYxo0blZiYqKefflqHDh1Sz549FRUVpZKSEme35tIqKirUs2dPrVy50tmtNCm7d%2B9WfHy89u3bp6ysLFVXV2vo0KGqqOAXlv9Y7du31/PPP6/8/Hzl5eXp3nvv1ciRI1VYWOjs1pqMgwcP6qWXXlKPHj2c3UqT0bVrV509e9Y63nnnHWe3ZBSPaXBh4eHh6tevn1asWCHp6yfMBwcHa%2BrUqXriiSec3F3T4Obmps2bN2vUqFHObqXJ%2BfLLL%2BXv76/du3dr4MCBzm6nyfHz89PChQsVFxfn7FZcXnl5ufr06aMXX3xRzz77rHr16qWlS5c6uy2XNnfuXG3ZskUFBQXObqXBsIPloqqqqpSfn6/IyEjrnLu7uyIjI5Wbm%2BvEzoDvp7S0VNLXQQDm1NTUaMOGDaqoqODXeRkSHx%2BvmJgYh79v8eOdPHlSQUFB%2Bp//%2BR/FxsaqqKjI2S0ZxZPcXdQ///lP1dTUXPY0%2BYCAAH3wwQdO6gr4fmprazV9%2BnTdc8896tatm7PbaRKOHj2qiIgIXbx4UTfffLM2b96sLl26OLstl7dhwwYdOnRIBw8edHYrTUp4eLjS09PVsWNHnT17Vs8884wGDBigY8eOqVWrVs5uzwgCFoDrLj4%2BXseOHWty91w4U8eOHVVQUKDS0lL99a9/1eTJk7V7925C1o9w%2BvRpTZs2TVlZWfLy8nJ2O03KsGHDrD/36NFD4eHhCgkJ0auvvtpkvtYmYLmotm3bqlmzZiouLnY4X1xcrMDAQCd1BXy3hIQEbd26VTk5OWrfvr2z22kybDabbr/9dklS3759dfDgQaWmpuqll15ycmeuKz8/XyUlJerTp491rqamRjk5OVqxYoUqKyvVrFkzJ3bYdPj6%2BurOO%2B/URx995OxWjOEeLBdls9nUt29fZWdnW%2Bdqa2uVnZ3NfRdolOrq6pSQkKDNmzdr586dCg0NdXZLTVptba0qKyud3YZLGzJkiI4ePaqCggLrCAsLU2xsrAoKCghXBpWXl%2Bvjjz9Wu3btnN2KMexgubDExERNnjxZYWFh%2BslPfqKlS5eqoqJCDz74oLNbc2nl5eUO/xd16tQpFRQUyM/PTx06dHBiZ64tPj5eGRkZ%2Bvvf/65WrVrJbrdLknx8fNSiRQsnd%2BfaZs%2BerWHDhqlDhw766quvlJGRoV27dmn79u3Obs2ltWrV6rJ7BFu2bKk2bdpw7%2BCP9Pvf/14jRoxQSEiIzpw5o6efflrNmjXThAkTnN2aMQQsF3bffffpyy%2B/VFJSkux2u3r16qXMzMzLbnzHfycvL0%2BDBw%2B2XicmJkqSJk%2BerPT0dCd15fpWrVolSRo0aJDD%2BbVr1%2BpXv/rV9W%2BoCSkpKdGkSZN09uxZ%2Bfj4qEePHtq%2Bfbt%2B9rOfObs14Io%2B//xzTZgwQf/61790yy23qH///tq3b59uueUWZ7dmDM/BAgAAMIx7sAAAAAwjYAEAABhGwAIAADCMgAUAAGAYAQsAAMAwAhYAAIBhBCwAAADDCFgAAACGEbAAAAAMI2ABAAAYRsACAAAwjIAFAABgGAELAADAMAIWAACAYQQsAAAAwwhYAAAAhhGwAAAADCNgAQAAGPb/AaxUciEVVlukAAAAAElFTkSuQmCC\"/>\n",
       "        </div>\n",
       "        <div role=\"tabpanel\" class=\"tab-pane col-md-12\" id=\"common-2219058519422468124\">\n",
       "            \n",
       "<table class=\"freq table table-hover\">\n",
       "    <thead>\n",
       "    <tr>\n",
       "        <td class=\"fillremaining\">Value</td>\n",
       "        <td class=\"number\">Count</td>\n",
       "        <td class=\"number\">Frequency (%)</td>\n",
       "        <td style=\"min-width:200px\">&nbsp;</td>\n",
       "    </tr>\n",
       "    </thead>\n",
       "    <tr class=\"\">\n",
       "        <td class=\"fillremaining\">2.002652377464674</td>\n",
       "        <td class=\"number\">1</td>\n",
       "        <td class=\"number\">0.0%</td>\n",
       "        <td>\n",
       "            <div class=\"bar\" style=\"width:1%\">&nbsp;</div>\n",
       "        </td>\n",
       "</tr><tr class=\"\">\n",
       "        <td class=\"fillremaining\">-0.002297426061310617</td>\n",
       "        <td class=\"number\">1</td>\n",
       "        <td class=\"number\">0.0%</td>\n",
       "        <td>\n",
       "            <div class=\"bar\" style=\"width:1%\">&nbsp;</div>\n",
       "        </td>\n",
       "</tr><tr class=\"\">\n",
       "        <td class=\"fillremaining\">2.9898167786494976</td>\n",
       "        <td class=\"number\">1</td>\n",
       "        <td class=\"number\">0.0%</td>\n",
       "        <td>\n",
       "            <div class=\"bar\" style=\"width:1%\">&nbsp;</div>\n",
       "        </td>\n",
       "</tr><tr class=\"\">\n",
       "        <td class=\"fillremaining\">0.9895506411964906</td>\n",
       "        <td class=\"number\">1</td>\n",
       "        <td class=\"number\">0.0%</td>\n",
       "        <td>\n",
       "            <div class=\"bar\" style=\"width:1%\">&nbsp;</div>\n",
       "        </td>\n",
       "</tr><tr class=\"\">\n",
       "        <td class=\"fillremaining\">1.0069051267743028</td>\n",
       "        <td class=\"number\">1</td>\n",
       "        <td class=\"number\">0.0%</td>\n",
       "        <td>\n",
       "            <div class=\"bar\" style=\"width:1%\">&nbsp;</div>\n",
       "        </td>\n",
       "</tr><tr class=\"\">\n",
       "        <td class=\"fillremaining\">3.998825578795333</td>\n",
       "        <td class=\"number\">1</td>\n",
       "        <td class=\"number\">0.0%</td>\n",
       "        <td>\n",
       "            <div class=\"bar\" style=\"width:1%\">&nbsp;</div>\n",
       "        </td>\n",
       "</tr><tr class=\"\">\n",
       "        <td class=\"fillremaining\">1.0011404356578666</td>\n",
       "        <td class=\"number\">1</td>\n",
       "        <td class=\"number\">0.0%</td>\n",
       "        <td>\n",
       "            <div class=\"bar\" style=\"width:1%\">&nbsp;</div>\n",
       "        </td>\n",
       "</tr><tr class=\"\">\n",
       "        <td class=\"fillremaining\">2.9967015036989046</td>\n",
       "        <td class=\"number\">1</td>\n",
       "        <td class=\"number\">0.0%</td>\n",
       "        <td>\n",
       "            <div class=\"bar\" style=\"width:1%\">&nbsp;</div>\n",
       "        </td>\n",
       "</tr><tr class=\"\">\n",
       "        <td class=\"fillremaining\">2.996073106980618</td>\n",
       "        <td class=\"number\">1</td>\n",
       "        <td class=\"number\">0.0%</td>\n",
       "        <td>\n",
       "            <div class=\"bar\" style=\"width:1%\">&nbsp;</div>\n",
       "        </td>\n",
       "</tr><tr class=\"\">\n",
       "        <td class=\"fillremaining\">1.0008098112918486</td>\n",
       "        <td class=\"number\">1</td>\n",
       "        <td class=\"number\">0.0%</td>\n",
       "        <td>\n",
       "            <div class=\"bar\" style=\"width:1%\">&nbsp;</div>\n",
       "        </td>\n",
       "</tr><tr class=\"other\">\n",
       "        <td class=\"fillremaining\">Other values (99990)</td>\n",
       "        <td class=\"number\">99990</td>\n",
       "        <td class=\"number\">100.0%</td>\n",
       "        <td>\n",
       "            <div class=\"bar\" style=\"width:100%\">&nbsp;</div>\n",
       "        </td>\n",
       "</tr>\n",
       "</table>\n",
       "        </div>\n",
       "        <div role=\"tabpanel\" class=\"tab-pane col-md-12\"  id=\"extreme-2219058519422468124\">\n",
       "            <p class=\"h4\">Minimum 5 values</p>\n",
       "            \n",
       "<table class=\"freq table table-hover\">\n",
       "    <thead>\n",
       "    <tr>\n",
       "        <td class=\"fillremaining\">Value</td>\n",
       "        <td class=\"number\">Count</td>\n",
       "        <td class=\"number\">Frequency (%)</td>\n",
       "        <td style=\"min-width:200px\">&nbsp;</td>\n",
       "    </tr>\n",
       "    </thead>\n",
       "    <tr class=\"\">\n",
       "        <td class=\"fillremaining\">-0.01814408671342021</td>\n",
       "        <td class=\"number\">1</td>\n",
       "        <td class=\"number\">0.0%</td>\n",
       "        <td>\n",
       "            <div class=\"bar\" style=\"width:100%\">&nbsp;</div>\n",
       "        </td>\n",
       "</tr><tr class=\"\">\n",
       "        <td class=\"fillremaining\">-0.017886678985753576</td>\n",
       "        <td class=\"number\">1</td>\n",
       "        <td class=\"number\">0.0%</td>\n",
       "        <td>\n",
       "            <div class=\"bar\" style=\"width:100%\">&nbsp;</div>\n",
       "        </td>\n",
       "</tr><tr class=\"\">\n",
       "        <td class=\"fillremaining\">-0.017686258957535242</td>\n",
       "        <td class=\"number\">1</td>\n",
       "        <td class=\"number\">0.0%</td>\n",
       "        <td>\n",
       "            <div class=\"bar\" style=\"width:100%\">&nbsp;</div>\n",
       "        </td>\n",
       "</tr><tr class=\"\">\n",
       "        <td class=\"fillremaining\">-0.01698754374157235</td>\n",
       "        <td class=\"number\">1</td>\n",
       "        <td class=\"number\">0.0%</td>\n",
       "        <td>\n",
       "            <div class=\"bar\" style=\"width:100%\">&nbsp;</div>\n",
       "        </td>\n",
       "</tr><tr class=\"\">\n",
       "        <td class=\"fillremaining\">-0.01663566974612293</td>\n",
       "        <td class=\"number\">1</td>\n",
       "        <td class=\"number\">0.0%</td>\n",
       "        <td>\n",
       "            <div class=\"bar\" style=\"width:100%\">&nbsp;</div>\n",
       "        </td>\n",
       "</tr>\n",
       "</table>\n",
       "            <p class=\"h4\">Maximum 5 values</p>\n",
       "            \n",
       "<table class=\"freq table table-hover\">\n",
       "    <thead>\n",
       "    <tr>\n",
       "        <td class=\"fillremaining\">Value</td>\n",
       "        <td class=\"number\">Count</td>\n",
       "        <td class=\"number\">Frequency (%)</td>\n",
       "        <td style=\"min-width:200px\">&nbsp;</td>\n",
       "    </tr>\n",
       "    </thead>\n",
       "    <tr class=\"\">\n",
       "        <td class=\"fillremaining\">5.016737185525644</td>\n",
       "        <td class=\"number\">1</td>\n",
       "        <td class=\"number\">0.0%</td>\n",
       "        <td>\n",
       "            <div class=\"bar\" style=\"width:100%\">&nbsp;</div>\n",
       "        </td>\n",
       "</tr><tr class=\"\">\n",
       "        <td class=\"fillremaining\">5.016803542408741</td>\n",
       "        <td class=\"number\">1</td>\n",
       "        <td class=\"number\">0.0%</td>\n",
       "        <td>\n",
       "            <div class=\"bar\" style=\"width:100%\">&nbsp;</div>\n",
       "        </td>\n",
       "</tr><tr class=\"\">\n",
       "        <td class=\"fillremaining\">5.017503445815132</td>\n",
       "        <td class=\"number\">1</td>\n",
       "        <td class=\"number\">0.0%</td>\n",
       "        <td>\n",
       "            <div class=\"bar\" style=\"width:100%\">&nbsp;</div>\n",
       "        </td>\n",
       "</tr><tr class=\"\">\n",
       "        <td class=\"fillremaining\">5.019091417811521</td>\n",
       "        <td class=\"number\">1</td>\n",
       "        <td class=\"number\">0.0%</td>\n",
       "        <td>\n",
       "            <div class=\"bar\" style=\"width:100%\">&nbsp;</div>\n",
       "        </td>\n",
       "</tr><tr class=\"\">\n",
       "        <td class=\"fillremaining\">5.019720555223062</td>\n",
       "        <td class=\"number\">1</td>\n",
       "        <td class=\"number\">0.0%</td>\n",
       "        <td>\n",
       "            <div class=\"bar\" style=\"width:100%\">&nbsp;</div>\n",
       "        </td>\n",
       "</tr>\n",
       "</table>\n",
       "        </div>\n",
       "    </div>\n",
       "</div>\n",
       "</div><div class=\"row variablerow ignore\">\n",
       "    <div class=\"col-md-3 namecol\">\n",
       "        <p class=\"h4 pp-anchor\" id=\"pp_var_product\"><s>product</s><br/>\n",
       "            <small>Highly correlated</small>\n",
       "        </p>\n",
       "    </div><div class=\"col-md-3\">\n",
       "    <p><em>This variable is highly correlated with <a href=\"#pp_var_f2\"><code>f2</code></a> and should be ignored for analysis</em></p>\n",
       "</div>\n",
       "<div class=\"col-md-6\">\n",
       "    <table class=\"stats \">\n",
       "        <tr>\n",
       "            <th>Correlation</th>\n",
       "            <td>0.9994</td>\n",
       "        </tr>\n",
       "    </table>\n",
       "</div>\n",
       "</div>\n",
       "    <div class=\"row headerrow highlight\">\n",
       "        <h1>Correlations</h1>\n",
       "    </div>\n",
       "    <div class=\"row variablerow\">\n",
       "    <img src=\"data:image/png;base64,iVBORw0KGgoAAAANSUhEUgAAAl4AAAISCAYAAAAdu8GRAAAAOXRFWHRTb2Z0d2FyZQBNYXRwbG90bGliIHZlcnNpb24zLjUuMywgaHR0cHM6Ly9tYXRwbG90bGliLm9yZy/NK7nSAAAACXBIWXMAAA9hAAAPYQGoP6dpAABHVElEQVR4nO3deViVdf7/8dcBZFFUVBZFzC0RM0MExSlNI61smdRcRsslM5sS9Je5pE6lY2ap1aViTTppLpXkMlbmVF%2BtcVq1UDEtGsElVxYRFZX9/P5gPOMJ1FvvwzlwfD6uiwv43Avvc9/Jeff63PeNxWq1WgUAAIBK5%2BHqAgAAAK4XNF4AAABOQuMFAADgJDReAAAATkLjBQAA4CQ0XgAAAE5C4wUAAOAkNF4AAABOQuMFAADgJF6uLgDA1Tt8%2BLDuvPPOSy6vUaOG/P391axZM3Xv3l2PPPKI/P39nVghAKAiFv5kEFD9XNx4hYeHl2uqioqKlJOToyNHjkiSQkND9c4776hp06ZOrxUA8D80XkA1dHHjtXz5csXGxla43tatW/XUU08pLy9PUVFRWrVqlTPLBAD8Dtd4AW4sNjZW48aNkyTt2LFDu3fvdnFFAHB9o/EC3FzPnj1tX6ekpLiwEgAAF9cDbq527dq2r8%2BePWu37IcfftCKFSu0fft25ebmqk6dOmrfvr2GDBmiP/zhDxXu7/Tp01q1apW2bNmitLQ05eXlyc/PTzfccIPuuOMODR06VHXr1rXbpnXr1pKkb775Ri%2B//LI2b94sDw8PtW3bVkuWLJGXl5dSUlK0dOlSJScnKycnRzVr1lTz5s3Vo0cPDR48uMKbA/Lz87Vq1Spt3LhRaWlpKioqUkhIiG699VaNGDFCzZo1s1t/69atGjp0qCIjI/Xuu%2B9qxYoVWr9%2BvQ4ePKgaNWropptu0tChQ9WjR49rOdQAcEU0XoCbO3jwoO3rhg0b2r6eO3euFi9eLEmqW7euwsPDlZmZqc2bN2vz5s16/PHHNX78eLt9HThwQMOHD9exY8fk5eWlG264QY0bN9aRI0e0Z88e7dmzR5988onWrl2rWrVqlaslISFBO3bsUHh4uHJychQUFCQvLy99/vnnevrpp1VcXKx69eqpdevWOnv2rHbt2qWUlBR99NFHWrVqlV3zdfz4cT366KPat2%2BfJKlZs2aqVauW0tPTlZSUpPXr1%2Bvll1/WvffeW66OoqIiPf744/ruu%2B9Ur149tWzZUvv379fWrVu1detWTZs2TYMGDTJ34AGgIlYA1c6hQ4es4eHh1vDwcOv3339/2XUnTpxoDQ8Pt7Zt29aalZVltVqt1vfff98aHh5ujYmJsX744Ye2dUtLS62ffPKJtX379tbw8HDrBx98YLevRx55xBoeHm4dMGCANSMjw267f/zjH9aIiAhreHi4deXKlXbbXaj15ptvtm7bts1qtVqtJSUl1pMnT1pLSkqst912mzU8PNy6ePFia3FxsW273bt3Wzt37mwNDw%2B3vvXWW7bx4uJi64MPPmgNDw%2B33n333dZffvnFtuzMmTPWqVOn2l7zzp07bcu%2B//57Wy3t27e3fvTRR7Zlp0%2Bftg4bNswaHh5u7dSpk7WoqOiyxxUArgXXeAFuKD8/Xz///LNeeOEFrV%2B/XpI0fPhwBQYGqrCwUAsWLJAkvfTSS/rjH/9o285isejee%2B/VhAkTJEkLFixQcXGxJCk7O1t79%2B6VJM2YMUPBwcF22/Xu3VudOnWSJP36668V1tWrVy917NhRkuTh4aGAgADl5OQoKytLkjRgwAB5enra1m/btq2efvpp9ejRQwEBAbbxTz/9VL/88ot8fHy0ePFiRURE2Jb5%2B/vrxRdfVNeuXVVUVKTXX3%2B9wlrGjBmjBx54wPZ97dq1ba87NzdX%2B/fvr3A7ADCDqUagmhs6dOgV1%2Bnfv7/Gjh0rqezuxuzsbNWqVeuSD2H94x//qBkzZigjI0M///yzbrnlFgUGBur7779Xfn6%2BfH19y21TUlJimwrMz8%2BvcL/R0dHlxurVq6e6devq1KlTGj9%2BvJ588klFRkbKw6Ps/wsHDBigAQMG2G3zxRdfSJLi4uLUpEmTCn/Wo48%2Bqq%2B%2B%2Bkrbtm3TmTNn7K51k6Q77rij3DYtW7a0fX369OkK9wsAZtB4AdXc7x%2BgarFY5OPjo4CAALVu3Vo9evTQjTfeaFt%2BIbUqKirSww8/fMn9enp6qrS0VPv27dMtt9xiG/f19dWRI0f0008/6bffftOhQ4eUnp6uX375RefOnZMklZaWVrjPoKCgCn/O%2BPHj9dxzz2nLli3asmWL6tatq9jYWN12223q3r273bVpkmxpVNu2bS9Z/4VlJSUlOnjwoG6%2B%2BWa75SEhIeW2ubihLCkpueS%2BAeBa0XgB1dxf/vKXSz5AtSJnzpyRJBUWFmr79u1XXP/i5Gffvn164YUXtG3bNrt1/P39FRMTo8zMTKWmpl5yXxUlZVJZqtW0aVMtXbpU3377rU6dOqXPP/9cn3/%2BuSwWi7p166bp06fbGrC8vDxJKpdi/b6mC35/N6dU9meVLsfKs6UBVAIaL%2BA64%2BfnJ6ksEVq3bp3h7U6cOKFHHnlEJ06cUGhoqAYMGKCbbrpJLVq0UFhYmCwWi5555pnLNl6XExsbq9jYWOXn5%2BvHH3/UDz/8oK%2B%2B%2Bkp79uzRv/71Lz3xxBNav369LBaL7Y7JC01kRS5uGCu6wxIAXIHGC7jONG/eXFLZoyGKi4vl5VX%2B14DVatXWrVvVsGFDhYaGytvbW2vXrtWJEycUEBCgtWvXqn79%2BuW2y8jIuOp6CgsLdejQIeXl5SkyMlK%2Bvr7q0qWLunTpoqefflqffPKJxo0bp9TUVP3666%2BKiIhQixYt9PPPP2vPnj2X3O9PP/0kqWzq9YYbbrjqugCgMnBXI3Cd6dixo2rXrq2zZ89eMvH6%2BOOPNWzYMPXq1UvHjx%2BXVPb3IaWyP7hdUdOVlpamnTt3Srq666P%2B/e9/695779WoUaNUWFhYbvmtt95q%2B/rCfi9cGP/FF1/o0KFDFe53%2BfLlkqT27durTp06husBgMpE4wVcZ2rWrKlRo0ZJkmbOnKm1a9faXQy/adMmvfDCC5LKHv9wIS1q0aKFJCk1NVWfffaZbX2r1ap///vfGjlypIqKiiRJ58%2BfN1zP7bffrnr16ik3N1eTJk1Sbm6ubVleXp5eeeUVSVKjRo3UqlUrSdI999yj1q1bq6CgQI8//rjd9GZeXp6ee%2B45ff311/Ly8ir3EFgAcCWmGoHr0OOPP65Dhw7pgw8%2B0JQpUzRnzhyFhYUpIyNDmZmZksoe/TBz5kzbNv369dN7772ngwcPasyYMWrcuLHq1aunY8eO6cSJE6pRo4Y6deqkbdu2XdWUo7e3t%2BbNm6fHHntMGzdu1ObNm3XDDTfIw8NDhw4d0rlz5%2BTn56eXX35Z3t7ekiQvLy%2B98cYbevzxx7Vv3z49%2BOCDdk%2Buv/DIi%2BnTpysmJsaxBw8ATKDxAq5DFotFM2bM0N13361Vq1Zp586dtgeStm/fXvfff78GDhxoa3SksrsE16xZo8WLF%2BvLL7/U4cOHlZ2drYYNG6p79%2B4aNmyYatasqR49eig1NVVHjx5VaGiooXpiY2O1evVq299qPHDggLy8vNSwYUN16dJFI0aMKLevsLAwrV27Vu%2B//74%2B/fRTpaen6/jx42rUqJG6du2qhx9%2BuNzfagQAV7NYuWcaAADAKbjGCwAAwElovAAAAJyExgsAALiFwsJC3X///dq6desl1/n555/Vv39/RUZG6qGHHtLu3bvtlm/YsEE9evRQZGSkRo8erZycHIfWSOMFAACqvYKCAo0bN87292grcu7cOY0aNUoxMTFat26doqKi9MQTT9j%2BzuyuXbs0depUxcfHKykpSadPn9bkyZMdWieNFwAAqNbS0tI0YMAA/fbbb5ddb%2BPGjfLx8dHEiRPVsmVLTZ06VbVq1dKnn34qSVq5cqV69eql3r17KyIiQrNnz9aWLVsu%2BaDma0HjBQAAqrVt27YpNjZWSUlJl10vJSVF0dHRslgsksoerdOhQwfbX91ISUmxe/Zfo0aNFBoaqpSUFIfVynO8AACAS2VmZiorK8tuLCgoSMHBwYa2Hzx4sKH1srKydOONN9qNNWjQwDY9mZmZWe5nNmjQwPan0xyBxuty/tsRu43mzaW9e6VWraT9%2B11djeP89/9U3Ia3txQRIaWmShX87cLqynpLpKtLgAFu9J%2BcpLJ/Tu72miTJx8dFP7iS3heT5s9XYmKi3Vh8fLwSEhIc%2BnPOnz9v92BoqeyvZ1z4O7H5%2BfmXXe4INF7Xk4AAydOz7DOqLk/Psl9unp6urgRXYLFIPIK66rJY/vfBeXIQj8q5QmngwIGKi4uzGwsKCnL4z/Hx8SnXRBUWFsrX1/eyy/38/BxWA40XAABwqeDgYMPTimaEhIQoOzvbbiw7O9v2sy%2B13JFNIBfXAwAAYzw8KufDSSIjI7Vjxw5d%2BGuJVqtV27dvV2RkpG15cnKybf1jx47p2LFjtuWOQOMFAADcVlZWlvLz8yVJ99xzj06fPq2ZM2cqLS1NM2fO1Pnz59WrVy9J0qBBg/Thhx9q9erVSk1N1cSJE9W9e3c1adLEYfXQeAEAAGOqYeLVpUsXbdy4UZLk7%2B%2Bvt956S8nJyerbt69SUlK0aNEi1axZU5IUFRWlv/71r1q4cKEGDRqkunXratasWQ6tx2K1csnhJbnbXY1RUdL27VKHDtKOHa6uxnHc7a5GPz8pPFz6z3%2Bk8%2BddXY3DuONdje540bY73QFosfzvrkZ3O08uu6vRgReZ23Gj33VXQuIFAADgJNzVCAAAjHHihfDuiiMIAADgJCReAADAGBIv02i8AACAMTRepnEEAQAAnITECwAAGEPiZRpHEAAAwElIvAAAgDEkXqbReAEAAGNovEzjCAIAADgJiRcAADCGxMs0jiAAAICTkHgBAABjSLxMo/ECAADG0HiZxhEEAABwEhIvAABgDImXaTReAADAGBov0ziCAAAATkLiBQAAjCHxMo0jCAAA4CQkXgAAwBgSL9NovAAAgDE0XqZxBAEAAJyExAsAABhD4mUaRxAAAMBJSLwAAIAxJF6m0XgBAABjaLxM4wgCAAA4CYkXAAAwhsTLNI4gAACAk5B4AQAAY0i8TKPxAgAAxtB4mcYRBAAAcBISLwAAYAyJl2kcQQAAACch8QIAAMaQeJlG4wUAAIyh8TKNIwgAAOAkJF4AAMAYEi/TOIIAAABOUm0Tr82bN2v69Ok6deqUXn31VX3xxRf6/PPP5evrqxEjRmjEiBGuLhEAAPdSRROvgoICTZ8%2B/Yp9wJAhQ7Rt27Zy43379tWsWbN06tQpderUyW5ZQECAtm7d6rBaq23jNX/%2BfHXp0kWjR4/Wm2%2B%2Bqd27d2vZsmU6evSoJk2apNDQUN1zzz2uLhMAAPdRRRuv2bNnG%2BoDFixYoKKiItv3KSkp%2Bn//7/9p8ODBkqS0tDQFBARow4YNtnU8HPyaq23jdebMGUVHR6tevXr66KOPtHjxYrVt21Zt27bV3r179e6779J4AQDg5s6dO6fVq1cb6gMCAgJsX5eUlOj111/XyJEj1a5dO0nSvn371Lx5cwUFBVVavVWzdb2CuLg4HTlyRFOmTFGnTp1UXFysqKgo2/Lo6GilpKSotLTUhVUCAOBmPDwq58OE1NTUa%2BoD1q1bp1OnTunxxx%2B3jaWlpalZs2am6rmSapl4rVmzRn369NGIESMUFBSkmTNnytvb27Y8MDBQBQUFys3NVf369Q3tMzMzU1lZWXZjQc2bK/ii7rjai4iw/%2Bwu/PxcXYFj%2BfjYfwacyGJxdQWOc%2BG1uNNrkiSr1dUVOF6F78FBQQoODr7itllZWapXr95V9QFWq1V///vfNXToUNWqVcs2np6eruLiYvXr108ZGRmKiYnR5MmTDdVhVLVsvOrXry9PT0/Vrl1bhYWFdgdbku37wsJCw/tMSkpSYmKi3Vj82LFKGDvWfMFVzXvvuboCGNG0qasrcCg3e%2B%2Bzcbc39d/9OnULNWq4ugLHKihw4Q%2BvpGu8KnwPjo9XQkLCFbc9f/78VfcBW7du1fHjxzVgwAC78X379ql%2B/fqaPHmyrFarXn/9df35z3/W6tWr5enpeTUv6ZKqZeN1MR8fn3IH9sL3vr6%2BhvczcOBAxcXF2Y0FPfCAtGyZ%2BSKrioiIsqZr8GApNdXV1TjOqlWursCxfHzKmq6DB138G9axrK3CXV2Cw1ks7pc%2BXHTdcbVnsZQ1XUVF7neeXKaSGq8K34MNXmd1LX3AZ599pttvv93umi9J%2BuSTT2SxWGzbXbiRLyUlRR06dDBUz5VU%2B8YrJCREJ0%2BeVHFxsby8yl5OVlaWfH19VadOHcP7CQ4OLh8l7t/vyFKrjtRUaccOV1fhOOfPu7qCylFQ4L6vDVWWOzYoVqt7vi53UuF7sEHX0gd89dVXio%2BPLzfu97tLVxo0aKCAgABlZGRcU20VqZYX11%2BsTZs28vLy0s6dO21jycnJateuncNvAQUA4LpWBS%2Buv9o%2BICcnR4cOHVJ0dLTdeF5enjp27Kjvv//eNpaRkaGTJ0%2BqRYsWpmq8WLXvTPz8/NS7d29NmzZNu3bt0qZNm7RkyRINHTrU1aUBAIBKdqU%2BICsrS/n5%2Bbb19%2B7dKx8fH4WFhdntx9/fX9HR0Zo1a5Z27dqlPXv26Omnn1bXrl3VunVrh9Vb7RsvSZo8ebLatm2rYcOGafr06UpISNBdd93l6rIAAHAvVTDxki7fB3Tp0kUbN260rXvixAnVqVNHlgrujHnllVd00003adSoURoyZIgaN26suXPnmq7vYharlZnvS3K325WioqTt26UOHdzrGq%2BL4mW34OcnhYdL//mPW13jZb0l0tUlOJw7Xlx/FTeDV3kWS9ldmoWF7neeXPa0mV69Kme///xn5ey3CnKLxAsAAKA6qPZ3NQIAACfhpjXTOIIAAABOQuIFAACMIfEyjcYLAAAYQ%2BNlGkcQAADASUi8AACAMSReptF4AQAAY2i8TOMIAgAAOAmJFwAAMIbEyzSOIAAAgJOQeAEAAGNIvEyj8QIAAMbQeJnGEQQAAHASEi8AAGAMiZdpHEEAAAAnIfECAADGkHiZRuMFAACMofEyjSMIAADgJCReAADAGBIv0ziCAAAATkLiBQAAjCHxMo3GCwAAGEPjZRpHEAAAwElIvAAAgDEkXqZxBAEAAJyExAsAABhD4mUajRcAADCGxss0jiAAAICTkHgBAABjSLxM4wgCAAA4CYkXAAAwhsTLNBovAABgDI2XaRxBAAAAJyHxAgAAxpB4mcYRBAAAcBISLwAAYAyJl2k0XgAAwBgaL9M4ggAAAE5C4gUAAIwh8TKNIwgAAOAkNF4AAMAYD4/K%2BTCpoKBAU6ZMUUxMjLp06aIlS5Zcct0nn3xSrVu3tvv48ssvbcvfeecdde3aVVFRUZoyZYrOnz9vur6LMdUIAACMqaJTjbNnz9bu3bu1bNkyHT16VJMmTVJoaKjuueeecuump6drzpw5%2BsMf/mAbq1u3riTps88%2BU2JioubMmaMGDRpo8uTJmjNnjp5//nmH1Vo1jyAAAIAB586d0%2BrVqzV16lS1bdtWPXv21MiRI/Xuu%2B%2BWW7ewsFCHDx9Wu3btFBQUZPvw9vaWJC1fvlzDhg3THXfcoVtuuUXTp0/X2rVrHZp60XgBAABjquBUY2pqqoqLixUVFWUbi46OVkpKikpLS%2B3W3bdvnywWi5o0aVJuPyUlJfrpp58UExNjG2vfvr2KioqUmppqqsaLMdV4OTt3uroCx/LzK/u8apXk4Dlrl2rf3tUVOFZUlLR9u/SnP0k7dri6Gscptbq6Ahjg5YbvCp6erq4AV5KZmamsrCy7saCgIAUHB19x26ysLNWrV8%2BWWklSYGCgCgoKlJubq/r169vG9%2B3bJ39/f02cOFHbtm1Tw4YNlZCQoG7duun06dMqKCiw%2B5leXl4KCAjQ8ePHHfAq/7tPh%2B0JAAC4t0q6xispKUmJiYl2Y/Hx8UpISLjitufPn7druiTZvi8sLLQb37dvn/Lz89WlSxeNGjVK//d//6cnn3xSSUlJCgwMtNv24n39fj9m0HgBAABjKqnxGjhwoOLi4uzGgoKCDG3r4%2BNTrjG68L2vr6/d%2BFNPPaUhQ4bYLqaPiIjQnj179MEHH%2Bjpp5%2B22/biffldmDFyABovAADgUsHBwYamFSsSEhKikydPqri4WF7/nSvPysqSr6%2Bv6tSpY7euh4eHrem6oEWLFkpLS1NAQIB8fHyUnZ2tli1bSpKKi4uVm5truAk0govrAQCAMVXw4vo2bdrIy8tLOy%2B6Ljs5OVnt2rWTx%2B/2/eyzz2ry5Ml2Y6mpqWrRooU8PDzUrl07JScn25bt3LlTXl5eioiIMFXjxWi8AABAteXn56fevXtr2rRp2rVrlzZt2qQlS5Zo6NChksrSr/z8fElSXFycPv74Y61fv14HDx5UYmKikpOT9cgjj0iSBg8erLffflubNm3Srl27NG3aNA0YMICpRgAA4AJV9AGqkydP1rRp0zRs2DD5%2B/srISFBd911lySpS5cumjVrlvr27au77rpLL7zwgt58800dPXpUrVq10t///neFhYVJku677z4dOXJEzz//vAoLC3XXXXdpwoQJDq3VYrVaucf7UlJSXF2BY/n5SeHh0n/%2Bw%2BMkqrILj5Po0MGtHidhdcPHSVgskrv9Bv3dY4%2BqPU9PqaTE1VU4nssekfHKK5Wz30mTKme/VVDVbF0BAADcEFONAADAmCo61Vid0HgBAABjaLxM4wgCAAA4CYkXAAAwhsTLNI4gAACAk5B4AQAAY0i8TKPxAgAAxtB4mcYRBAAAcBISLwAAYAyJl2kcQQAAACch8QIAAMaQeJlG4wUAAIyh8TKNIwgAAOAkJF4AAMAYEi/TOIIAAABOQuIFAACMIfEyjcYLAAAYQ%2BNlGkcQAADASUi8AACAMSRepnEEAQAAnITECwAAGEPiZRqNFwAAMIbGyzSOIAAAgJOQeAEAAGNIvEzjCAIAADgJiRcAADCGxMs0Gi8AAGAMjZdpHEEAAAAnIfECAADGkHiZxhEEAABwEhIvAABgDImXaTReAADAGBov0ziCAAAATkLiBQAAjCHxMo0jCAAA4CQkXgAAwBgSL9NovAAAgDE0XqZxBAEAAJyExAsAABhD4mUaRxAAAMBJqm3jtXnzZt1%2B%2B%2B2KjIzUV199JUkqLCzU/fffr61bt7q4OgAA3JCHR%2BV8mFRQUKApU6YoJiZGXbp00ZIlSy657r/%2B9S89%2BOCDioqK0gMPPKDNmzfbLY%2BJiVHr1q3tPs6ePWu6xguq7VTj/Pnz1aVLF40ePVoNGjRQQUGBnnnmGe3du9fVpQEA4J6q6FTj7NmztXv3bi1btkxHjx7VpEmTFBoaqnvuucduvdTUVMXHx2vixInq1q2bvv76a40dO1Zr1qxRRESEMjIydObMGW3atEm%2Bvr627WrWrOmwWqtt43XmzBlFR0ercePGSktL0zPPPCOr1erqsgAAgBOdO3dOq1ev1uLFi9W2bVu1bdtWe/fu1bvvvluu8dqwYYM6d%2B6soUOHSpKaNm2qL774Qv/85z8VERGh9PR0BQUFqUmTJpVWb7VsvOLi4nTkyBFNmTJFCxcu1MiRIxUbG6unn35a7du3v6Z9ZmZmKisry24sKC9PwUFBDqi4ivDxsf/sLqKiXF2BY0VE2H8GgKqikhKvCt%2BDg4IUHBx8xW1TU1NVXFysqIveC6Kjo/W3v/1NpaWl8rio5j59%2BqioqKjcPs6cOSNJSktLU/Pmza/1ZRhSLRuvNWvWqE%2BfPhoxYoQeeOAB1a9f3/Q%2Bk5KSlJiYaDcWP3q0EsaMMb3vKqdpU1dX4Fjbt7u6gsrx3nuursChLK4uoJJY3OyFeXq6ugLHc7fXVFLiwh9eSY1Xhe/B8fFKSEi44rZZWVmqV6%2BevL29bWOBgYEqKChQbm6uXY/QsmVLu2337t2r7777Tn/6058kSenp6Tp//ryGDBmi/fv3q02bNpoyZYpDm7Fq2XjVr19fnp6eql27tkOaLkkaOHCg4uLi7MaCcnOl//zHIfuvEnx8ypqugwelggJXV%2BM4//0H4zYiIsqarsGDpdRUV1fjMNZk92uQLRbJ3a5wKC11dQWO5enp4kYFhlT4Hmxwxun8%2BfN2TZck2/eFhYWX3C4nJ0cJCQnq0KGD7rzzTknSvn37dOrUKY0bN07%2B/v5avHixhg8frk8%2B%2BUT%2B/v5X85IuqVo2XpUhODi4fKSZkiKdP%2B%2BagipTQYF7va4dO1xdQeVITXXf1wageqqkxKvC92CDfHx8yjVYF76/%2BAL5i2VnZ%2BvRRx%2BV1WrV/PnzbdORb7/9toqKilSrVi1J0ty5c9WtWzd9%2BeWXeuCBB66pvt%2Bj8QIAANVWSEiITp48qeLiYnl5lbU1WVlZ8vX1VZ06dcqtn5GRYbu4fvny5XYzZ97e3nbpmY%2BPj8LCwpSRkeGweqvmfaEAAKDqqYLP8WrTpo28vLy0c%2BdO21hycrLatWtnd2G9VHYH5MiRI%2BXh4aGVK1cqJCTEtsxqtapHjx5at26d3foHDx5UixYtTNV4MRIvAABgTBV8jpefn5969%2B6tadOm6aWXXlJmZqaWLFmiWbNmSSpLv2rXri1fX1%2B99dZb%2Bu2337RixQrbMqlsSrJ27drq3r27FixYoMaNG6t%2B/fqaN2%2BeGjZsqG7dujmsXhovAABQrU2ePFnTpk3TsGHD5O/vr4SEBN11112SpC5dumjWrFnq27evPvvsM%2BXn56t///522/fp00cvv/yyJkyYIC8vLz3zzDPKy8tT586dtWjRInk68NZYi5Wnjl5aSoqrK3AsPz8pPLzsTk13urj%2BGp/dVmVFRZU9IqNDB7e6uN5a6n6/arirsepz17saXfaIjMr6k3yxsZWz3yqo6mWGAAAAboqpRgAAYEwVvMaruqHxAgAAxtB4mcYRBAAAcBISLwAAYAyJl2kcQQAAACch8QIAAMaQeJlG4wUAAIyh8TKNIwgAAOAkJF4AAMAYEi/TOIIAAABOQuIFAACMIfEyjcYLAAAYQ%2BNlGkcQAADASUi8AACAMSRepnEEAQAAnITECwAAGEPiZRqNFwAAMIbGyzSOIAAAgJOQeAEAAGNIvEzjCAIAADgJiRcAADCGxMs0Gi8AAGAMjZdpHEEAAAAnIfECAADGkHiZxhEEAABwEhIvAABgDImXaTReAADAGBov0ziCAAAATkLiBQAAjCHxMo0jCAAA4CQkXgAAwBgSL9NovAAAgDE0XqZxBAEAAJyExAsAABhD4mUajRcAADCGxss0jiAAAICTkHgBAABjSLxM4wgCAAA4CYkXAAAwhsTLNBovAABgDI2XaRxBAABQrRUUFGjKlCmKiYlRly5dtGTJkkuu%2B/PPP6t///6KjIzUQw89pN27d9st37Bhg3r06KHIyEiNHj1aOTk5Dq2VxgsAABjj4VE5HybNnj1bu3fv1rJly/TCCy8oMTFRn376abn1zp07p1GjRikmJkbr1q1TVFSUnnjiCZ07d06StGvXLk2dOlXx8fFKSkrS6dOnNXnyZNP1XYzGCwAAVFvnzp3T6tWrNXXqVLVt21Y9e/bUyJEj9e6775Zbd%2BPGjfLx8dHEiRPVsmVLTZ06VbVq1bI1aStXrlSvXr3Uu3dvRUREaPbs2dqyZYsOHTrksHppvAAAgDGVlHhlZmZqz549dh%2BZmZmGSkpNTVVxcbGioqJsY9HR0UpJSVFpaanduikpKYqOjpbFYpEkWSwWdejQQTt37rQtj4mJsa3fqFEjhYaGKiUlxeSB%2Bx8urr8M6y2Rri7B4SySrK3CXV2GY5VaXV2Bw1kkWZO3u7oMh7J4WFxdgmNFRUnbt8sS3UHascPV1TiMp6sLcKT/niPPju51jiRJVtf83rOqcv4dJyUlKTEx0W4sPj5eCQkJV9w2KytL9erVk7e3t20sMDBQBQUFys3NVf369e3WvfHGG%2B22b9Cggfbu3StJyszMVHBwcLnlx48fv%2BrXdCk0XgAAwKUGDhyouLg4u7GgoCBD254/f96u6ZJk%2B76wsNDQuhfWy8/Pv%2BxyR6DxAgAAhvxu5s5hgoODyyVNRvn4%2BJRrjC587%2Bvra2jdC%2Btdarmfn9811VYRrvECAADVVkhIiE6ePKni4mLbWFZWlnx9fVWnTp1y62ZnZ9uNZWdn25q%2BSy03mr4ZQeMFAAAMKS2tnA8z2rRpIy8vL9sF8pKUnJysdu3ayeN3j6qIjIzUjh07ZP3vNXJWq1Xbt29XZGSkbXlycrJt/WPHjunYsWO25Y5A4wUAAAypio2Xn5%2BfevfurWnTpmnXrl3atGmTlixZoqFDh0oqS7/y8/MlSffcc49Onz6tmTNnKi0tTTNnztT58%2BfVq1cvSdKgQYP04YcfavXq1UpNTdXEiRPVvXt3NWnSxFyRF6HxAgAA1drkyZPVtm1bDRs2TNOnT1dCQoLuuusuSVKXLl20ceNGSZK/v7/eeustJScnq2/fvkpJSdGiRYtUs2ZNSVJUVJT%2B%2Bte/auHChRo0aJDq1q2rWbNmObRWi9XqontSqwF3PDIWi3u%2BLnfjjufJXR8noQ5u%2BKgCd%2BHO58hFvyDOn6%2Bc/Trw2vUqj8QLAADASXicBAAAMKSyHidxPaHxAgAAhtB4mcdUIwAAgJOQeAEAAENIvMwj8QIAAHASEi8AAGAIiZd5NF4AAMAQGi/zmGoEAABwEhIvAABgCImXeSReAAAATkLiBQAADCHxMo/GCwAAGELjZR5TjQAAAE5C4gUAAAwh8TKPxAsAAMBJSLwAAIAhJF7m0XgBAABDaLzMY6oRAADASUi8AACAISRe5pF4AQAAOAmJFwAAMITEyzwaLwAAYAiNl3lMNQIAADgJiRcAADCExMs8Ei8AAAAnIfECAACGkHiZR%2BMFAAAMofEyj6lGAAAAJyHxAgAAhpB4mUfjBQAADKHxMo%2BpRgAAACch8QIAAIaQeJlH4gUAAOAkJF4AAMAQEi/zaLwAAIAhNF7mMdUIAADgJCReAADAEBIv80i8AAAAnITECwAAGELiZR6NFwAAMITGy7xqO9W4efNm3X777YqMjNQ//vEPjRkzRp06dVLXrl01a9YsFRQUuLpEAADgYlarVXPnzlXnzp3VqVMnzZ49W6WX6SB37typP/3pT4qKitLdd9%2Bt1atX2y3/4x//qNatW9t9/Oc//zFcT7VNvObPn68uXbpo9OjRGj16tIKCgvTuu%2B/q1KlTmjJlijw8PDRp0iRXlwkAgNuojonX0qVLtWHDBiUmJqq4uFgTJkxQgwYN9Nhjj5VbNysrS48//rgGDRqkl19%2BWXv27NHkyZMVFBSk7t27q6SkRAcOHNDKlSvVrFkz23b16tUzXE%2B1TbzOnDmj6Oho5efn65dfftGsWbPUqlUrxcTEaMyYMdqwYYOrSwQAAC62fPlyjRkzRjExMercubPGjx%2Bvd999t8J1N23apMDAQI0bN07NmjXTfffdp969e%2Bvjjz%2BWJB0%2BfFhFRUW65ZZbFBQUZPvw8jKeY1XLxCsuLk5HjhzRlClTVLt2bf39739XYGCg3Tp5eXlXtc/MzExlZWXZjQUGBik4ONh0vQAkRUW5ugLHioiw/4yqx13P0Y4dLvvRlZV4VfQeHBRk/j04IyNDx44dU8eOHW1j0dHROnLkiDIzM8vtv2vXrmrTpk25/VzoKdLS0tSoUSP5%2BPhcc03VsvFas2aN%2BvTpoxEjRuiBBx5Q/fr1bctKS0u1cuVKde7c%2Bar2mZSUpMTERLux0aPjNWZMgkNqrkosFldXACPc7jxt3%2B7qCirHe%2B%2B5ugJcibudIxf%2Bcqisxqui9%2BD4%2BHglJJh7D77QzF3cYF0Iao4fP16u8QoLC1NYWJjt%2BxMnTuiTTz6x1ZGenq4aNWroiSee0O7du9W8eXNNnDhRt9xyi%2BGaqmXjVb9%2BfXl6eqp27dp2TZckzZkzRz///LPWrFlzVfscOHCg4uLi7MYCA4NktZout0qxWOR2r8kdueN5skR3cHUJjhURUfaGPniwlJrq6mpQEc5RtVHRe3BQUJChbfPz85WRkVHhsnPnzkmSvL29bWMXvi4sLLzifhMSEhQYGKiBAwdKkvbv369Tp06pf//%2BGjNmjD744AMNGzZMGzduVKNGjQzVWy0br0uZM2eOli1bptdff13h4eFXtW1wcHC5ztfd3vgAl3Lh9EilSk1139fmLjhHDlNZiVdF78FGpaSkaOjQoRUumzBhgqSyJuvC9OCFhsvPz%2B%2BS%2Bzx79qyeeuopHThwQO%2B9955t3RkzZig/P1/%2B/v6SpGnTpmn79u368MMP9ec//9lQvW7TeM2YMUPvv/%2B%2B5syZo7vvvtvV5QAAACeIjY3Vr7/%2BWuGyjIwMzZkzR1lZWbYpxAvTj5dK1PLy8jRy5Ej99ttvWrZsmd3di15eXramS5IsFotatGhxycStItX2rsaLJSYmatWqVXrttdd03333ubocAADcUmlp5XxUlpCQEIWGhio5Odk2lpycrNDQ0AoTttLSUsXHx%2Bvw4cNasWKFWrVqZbd8yJAhdteilZaW6tdff1WLFi0M11TtE6/09HS98cYbGjVqlKKjo%2B3uijA6PwwAAK6sOj7Ha9CgQZo7d64aNmwoSXr11Vc1YsQI2/KcnBz5%2BPioVq1aWrNmjbZu3ao333xTderUsfUUNWrUUEBAgOLi4rRw4UK1adNGzZs31/Lly3XmzBn16dPHcD3VvvHavHmzSkpK9Oabb%2BrNN9%2B0W3ap6BEAAFwfHnvsMZ04cULx8fHy9PRUv379NHz4cNvyfv36qU%2BfPkpISNBnn32m0tJSPfHEE3b76NSpk1asWKHhw4eroKBAL774orKzsxUZGamlS5faTT9eicVq5RLyS3HHI%2BOOd8u5I3c8TxYPN3s%2BRlRU2SMyOnTgwu2qyp3PkYt%2BQfzzn5Wz3169Kme/VZFbXOMFAABQHVT7qUYAAOAc1fEar6qGxgsAABhC42UeU40AAABOQuIFAAAMIfEyj8QLAADASUi8AACAISRe5tF4AQAAQ2i8zGOqEQAAwElIvAAAgCEkXuaReAEAADgJiRcAADCExMs8Gi8AAGAIjZd5TDUCAAA4CYkXAAAwhMTLPBIvAAAAJyHxAgAAhpB4mUfjBQAADKHxMo%2BpRgAAACch8QIAAIaQeJlH4wUAAAyh8TKPqUYAAAAnIfECAACGkHiZR%2BIFAADgJCReAADAEBIv82i8AACAITRe5jHVCAAA4CQkXgAAwBASL/NIvAAAAJyExAsAABhC4mUejRcAADCExss8phoBAACchMQLAAAYQuJlHokXAACAk5B4AQAAQ0i8zKPxAgAAhtB4mcdUIwAAgJOQeAEAAENIvMwj8QIAAHASEi8AAGAIiZd5JF4AAMCQ0tLK%2BahMVqtVc%2BfOVefOndWpUyfNnj1bpZf5oS%2B%2B%2BKJat25t97Fy5Urb8g0bNqhHjx6KjIzU6NGjlZOTc1X1kHgBAAC3tXTpUm3YsEGJiYkqLi7WhAkT1KBBAz322GMVrp%2Benq5nnnlGffr0sY35%2B/tLknbt2qWpU6dq%2BvTpioiI0MyZMzV58mS99dZbhush8QIAAIZUx8Rr%2BfLlGjNmjGJiYtS5c2eNHz9e77777iXXT09P10033aSgoCDbh5%2BfnyRp5cqV6tWrl3r37q2IiAjNnj1bW7Zs0aFDhwzXQ%2BMFAADcUkZGho4dO6aOHTvaxqKjo3XkyBFlZmaWWz8vL08ZGRlq1qxZhftLSUlRTEyM7ftGjRopNDRUKSkphmtiqhEAABhSWelUZmamsrKy7MaCgoIUHBxsar8X9nnxfgIDAyVJx48fL7f/9PR0WSwW/e1vf9O///1vBQQE6NFHH7VNO2ZmZpbbpkGDBjp%2B/Ljhmmi8LqOw0NUVOJbFInl7S0VFktXq6mocx8sN/yv29HS/u4c8XV0AANMq6/dSUlKSEhMT7cbi4%2BOVkJBwxW3z8/OVkZFR4bJz585Jkry9vW1jF74urOBNft%2B%2BfbJYLGrRooUeeeQR/fDDD3ruuefk7%2B%2Bvnj17Kj8/325fF/ZX0b4uxQ3fsgAAQHUycOBAxcXF2Y0FBQUZ2jYlJUVDhw6tcNmECRMklTVZPj4%2Btq8l2a7buljv3r11xx13KCAgQJIUERGhAwcO6P3331fPnj3l4%2BNTrskqLCyscF%2BXQuMFAAAMqazEKzg4%2BJqnFWNjY/Xrr79WuCwjI0Nz5sxRVlaWwsLCJP1v%2BrGixs5isdiargtatGih77//XpIUEhKi7Oxsu%2BXZ2dmGm0SJi%2BsBAICbCgkJUWhoqJKTk21jycnJCg0NrbDRmzdvnoYPH243lpqaqhYtWkiSIiMj7fZ17NgxHTt2TJGRkYZrIvECAACGVMdrTwcNGqS5c%2BeqYcOGkqRXX31VI0aMsC3PycmRj4%2BPatWqpTvuuEOLFi3S22%2B/rZ49e%2Brrr7/W%2BvXrtXz5ctu%2BhgwZovbt26tdu3aaOXOmunfvriZNmhiuh8YLAAAYUh0br8cee0wnTpxQfHy8PD091a9fP7tUq1%2B/furTp48SEhJ0yy23aN68eZo/f77mzZunxo0b69VXX1VUVJQkKSoqSn/96181f/58nTp1SrfddptmzJhxVfVYrFZ3ur/NsQoKXF2BY124q7GwkLsaqzpPT6mkxNVVOJanl8XVJThWVJS0fbvUoYO0Y4erq0FF3PkcueiX%2BOTJlbPfWbMqZ79VkRu%2BZQEAgMpQHROvqoaL6wEAAJyExAsAABhC4mUejRcAADCExss8phoBAACchMQLAAAYQuJlHokXAACAk5B4AQAAQ0i8zKPxAgAAhtB4mcdUIwAAgJOQeAEAAENIvMyj8QIAAIbQeJnHVCMAAICTkHgBAABDSLzMI/ECAABwEhIvAABgCImXeTReAADAEBov85hqBAAAcBISLwAAYAiJl3kkXgAAAE5C4gUAAAwh8TKPxgsAABhC42UeU40AAABOQuIFAAAMIfEyj8QLAADASUi8AACAISRe5tF4AQAAQ2i8zGOqEQAAwElIvAAAgCEkXuaReAEAADgJiRcAADCExMs8Gi8AAGAIjZd5TDUCAAA4CYkXAAAwhMTLPBIvAAAAJyHxAgAAhpB4mUfjBQAADKHxMo%2BpRgAAACch8QIAAIaQeJlH4gUAAOAkJF4AAMAQEi/zqlTjtWDBAm3btk0rVqwwtZ%2B8vDxt2rRJvXv3dkxhAACgWjZeVqtVr776qtasWaPS0lL169dP48ePl4dH%2BUm/Z599Vv/4xz/KjcfGxmr58uWSpJiYGJ05c8Zu%2Bfbt21WrVi1D9VSpxstR3nnnHW3dupXGCwCA69zSpUu1YcMGJSYmqri4WBMmTFCDBg302GOPlVt36tSpeuaZZ2zfHzlyREOGDNHQoUMlSRkZGTpz5ow2bdokX19f23o1a9Y0XI9bNl5Wq9XVJQAA4HaqY%2BK1fPlyjRkzRjExMZKk8ePHa968eRU2XrVr11bt2rVt3z/77LO655571KNHD0lSenq6goKC1KRJk2uu56ourj98%2BLBat26tjz/%2BWF27dlVMTIxefPFFFRcXa8GCBXrqqaf08MMPq1OnTtq2bZsKCgo0Z84cdevWTe3bt9ef//xnHTt2zLa/tLQ0DRo0SJGRkRo6dKhOnjxpW7Zu3TrFxcXZ/fwhQ4ZowYIFtu%2BXLl2quLg4RUVF6bHHHtOhQ4e0bt06JSYmatu2bWrduvW1HhcAAFDNZWRk6NixY%2BrYsaNtLDo6WkeOHFFmZuZlt/3uu%2B/0ww8/aNy4cbaxtLQ0NW/e3FRN15R4JSYm6vXXX1dxcbEmTpyoWrVqycvLS5s3b9a0adPUvn17NW/eXC%2B88IK2b9%2BuV155RQEBAZo7d66eeuoprV27VsXFxRo1apStefv%2B%2B%2B/10ksvqUOHDoZqWLVqlRITEzVjxgzddNNNeu211zR27Fi999572rt3r3bs2GHXpF1JZmamsrKy7Mbq1g1ScHDwVR2bqsxisf8MOFVUlKsrcKyICPvPqHrc9Rzt2OGyH11ZiVdF78FBQebfgy/s8%2BL9BAYGSpKOHz9%2B2f0vWrRIffr0UaNGjWxj6enpOn/%2BvIYMGaL9%2B/erTZs2mjJlylU1Y9fUeE2YMMEW2Y0dO1Zz587VoEGDFBgYqEGDBkmSTp06pQ8//FCLFy9W586dJUlz585V9%2B7d9c0336ikpES5ubmaNm2aatasqZYtW2rbtm3KyckxVENSUpKGDx%2Bue%2B%2B9V5L0/PPP6%2B2335ZUNtdao0YNBQUFGX5NSUlJSkxMtBsbPTpeY8YkGN5HdVGjhqsrgBGenq6uwMG2b3d1BZXjvfdcXQGuxN3OkQv/77myGq%2BK3oPj4%2BOVkHDl9%2BD8/HxlZGRUuOzcuXOSJG9vb9vYha8LCwsvuc9Dhw7p%2B%2B%2B/19SpU%2B3G9%2B3bp1OnTmncuHHy9/fX4sWLNXz4cH3yySfy9/e/Yq3SNTZeF6dSN998s3JycnTy5Ek1btzYNn7gwAGVlpYqMjLSNhYQEKDmzZsrPT1dxcXFatasmd0Fae3atdOWLVsM1bB//361bdvW9n1gYKAmTZp0LS9HkjRw4MByU5t16wbpMuel2rFYypquoiLJnS6Dc7sGRWWvqaTE1VU4lmdHY2l2tRERUfaGPniwlJrq6mpQEc5RtVHRe7DR8CQlJcV28fvvTZgwQVJZk%2BXj42P7WpL8/Pwuuc/PPvtMbdq00Y033mg3/vbbb6uoqMh2B%2BPcuXPVrVs3ffnll3rggQcM1XtNjVeNiyKT0v%2B2vx4eHrYXJcnu64uVlJTYtvn9RfAX79dSQUdfXFxs%2B9rLy7H3BQQHB5eLHAsK3KtBucBqdc/XhSrOhdMjlSo11X1fm7vgHDlMZSVeFb0HGxUbG6tff/21wmUZGRmaM2eOsrKyFBYWJul/04%2BXa%2By%2B%2Buor3XnnneXGvb297dIzHx8fhYWFXTJxq8g1Pbn%2Bl19%2BsX29e/duBQcHKyAgwG6dJk2ayMvLSzt37rSNnTx5UgcPHlTz5s3VqlUrHThwwO5ZGBfvt0aNGjp79qzte6vVqsOHD9u%2Bb9q0qVIv%2Bj%2BYkydPqnPnzjp8%2BHCFTRsAALi%2BhISEKDQ0VMnJybax5ORkhYaGXrLRs1qt%2Bumnn8pdc261WtWjRw%2BtW7fONnbu3DkdPHhQLVq0MFzTNcVGM2fO1IsvvqgzZ85o3rx5euSRR1RUVGS3Tq1atdS/f3/NmDFDM2bMUN26dTV37lw1bNhQt912mywWixo1aqSpU6dq7NixSklJ0caNG21TkzfffLNyc3O1YsUKde/eXStWrNCpU6ds%2Bx8yZIhmzZql8PBwtWzZUq%2B//rrCwsIUFhYmPz8/ZWZm6vDhw7YOFwAAmFMdHycxaNAgW/8hSa%2B%2B%2BqpGjBhhW56TkyMfHx/b9OGRI0d09uzZctOMFotF3bt314IFC9S4cWPVr19f8%2BbNU8OGDdWtWzfD9VxT4nXvvffqiSee0Lhx49S/f3%2BNGjWqwvUmTZqkW2%2B9VWPGjNGgQYPk4%2BOjd955R97e3qpRo4beeustnTp1Sn369NH777%2Bvhx9%2B2LZts2bNNGnSJL355pvq3bu3rFar7r77btvyBx98UCNGjND06dPVt29fFRQUaP78%2BZKknj17qrS0VPfdd59OnDhxLS8RAAD8Tmlp5XxUpscee0z33nuv4uPjNXbsWD344IMaPny4bXm/fv20ZMkS2/cX%2Boa6deuW29eECRN0991365lnnlH//v1VXFysRYsWyfMqLja2WK/iaaOHDx/WnXfeqc2bN18XSVJBgasrcCyLRfL2lgoL3esaLwdf7lcluOXF9V5udglAVFTZnZodOnD9UFXlzufIRb/E//CHytnvd99Vzn6rIjd8ywIAAJWhOk41VjXXNNUIAACAq3dViVdYWNglb9kEAADujcTLPKYaAQCAITRe5jHVCAAA4CQkXgAAwBASL/NovAAAgCE0XuYx1QgAAOAkJF4AAMAQEi/zSLwAAACchMQLAAAYQuJlHo0XAAAwhMbLPKYaAQAAnITECwAAGELiZR6JFwAAgJOQeAEAAENIvMyj8QIAAIbQeJnHVCMAAICTkHgBAABDSLzMI/ECAABwEhIvAABgCImXeTReAADAEBov85hqBAAAcBISLwAAYAiJl3kkXgAAAE5C4gUAAAwh8TKPxgsAABhC42UeU40AAABOQuIFAAAMIfEyj8QLAADASUi8AACAISRe5tF4AQAAQ2i8zGOqEQAAwElIvAAAgCEkXuaReAEAADgJiRcAADCExMs8Gi8AAGAIjZd5TDUCAAA4CYkXAAAwhMTLPBIvAAAAJyHxAgAAhpB4mUfiBQAADCktrZwPZ7BarRoxYoTWrVt32fUOHTqk4cOHq3379rr33nv19ddf2y3/9ttvdf/99ysyMlJDhw7VoUOHrqoOGi8AAODWSktL9eKLL%2Bqbb7657HpWq1WjR49WYGCg1q5dqwcffFDx8fE6evSoJOno0aMaPXq0%2BvbtqzVr1qh%2B/fp66qmnZLVaDdfCVCMAADCkOk41ZmRkaPz48Tp8%2BLDq1Klz2XW///57HTp0SKtWrVLNmjXVsmVLfffdd1q7dq0SEhK0evVq3XzzzRoxYoQkadasWbrtttu0bds2xcbGGqqHxAsAALitPXv2qFGjRlq7dq1q16592XVTUlJ00003qWbNmrax6Oho7dy507Y8JibGtszPz09t27a1LTeCxAsAABhSWYlXZmamsrKy7MaCgoIUHBxset9xcXGKi4sztG5WVla5n9mgQQMdP37c0HIjaLwuw8fH1RU4VmZmppKSkjRw4ECH/MeMyuG25%2BkqroGoDjIzM5W0YIEGfvqpe50nN8I5crzK%2Bme8YEGSEhMT7cbi4%2BOVkJBwxW3z8/OVkZFR4bKgoCC79OpKzp8/L29vb7sxb29vFRYWGlpuBI3XdSQrK0uJiYmKi4vjl1AVxnmqHjhPVR/nqPoYOHBguVQqKCjI0LYpKSkaOnRohcsWLlyoHj16GK7Dx8dHubm5dmOFhYXy9fW1Lf99k1VYWHjFa8cuRuMFAABcKjg4%2BJqb49jYWP36668OqSMkJERpaWl2Y9nZ2bbaQkJClJ2dXW55mzZtDP8MLq4HAACQFBkZqT179ig/P982lpycrMjISNvy5ORk27Lz58/r559/ti03gsYLAABct3JycnT27FlJUqdOndSoUSNNnjxZe/fu1aJFi7Rr1y7169dPkvTQQw9p%2B/btWrRokfbu3avJkycrLCzM8KMkJBqv60pQUJDi4%2BMNz5vDNThP1QPnqerjHMGIfv36acmSJZIkT09PvfHGG8rKylLfvn310UcfaeHChQoNDZUkhYWFacGCBVq7dq369eun3NxcLVy4UBaLxfDPs1iv5nGrAAAAuGYkXgAAAE5C4wUAAOAkNF4AAABOQuMFAADgJDReAAAATkLjBQAA4CQ0XgAAAE5C4wUAAOAkNF4AAABOQuMFAADgJDRebu7kyZPKyMjQ6dOnXV0KALhUTk6Oq0sAaLzc0eeff66hQ4eqffv2uvXWW9W9e3fFxsYqKipKQ4YM0aZNm1xdIlAtFBYWas6cOerWrZs6dOig%2BPh4paen262TnZ2tNm3auKhC/F6bNm0qbLCOHDmiO%2B%2B80wUVAfa8XF0AHGvp0qVKTEzUyJEjFR8frwYNGsjb21uFhYXKzs7Wjz/%2BqGeffVZjx47VkCFDXF3udeuHH34wvG7Hjh0rsRJczmuvvaYvv/xSEydOlNVq1cqVK/XQQw9p7ty56tGjh209q9Xqwiqxfv16rVu3TlLZuRg9erRq1Khht05mZqaCgoJcUR5gx2LlN4Zb6dq1q1544QW7N4Xf27Rpk2bMmKEtW7Y4sTJc7IEHHlBaWpqky79pWywW/fLLL84qC7/TrVs3vfbaa4qOjpZUdq5mz56tFStWaM6cOerVq5eys7PVtWtXzpMLnT17VkuXLpUkJSYm6tFHH1WtWrXs1qlZs6Z69uypJk2auKJEwIbEy83k5%2BcrLCzssuuEhITozJkzTqoIFVm7dq3GjRunw4cPKykpST4%2BPq4uCRXIz89XQECA7XuLxaJJkybJw8NDEyZMkJeXl6KiolxXICRJtWrVUnx8vCSpcePGuu%2B%2B%2ByRJ3t7ekqSjR48qNDTUZfUBF%2BMaLzfTs2dPPfvss/rxxx9VXFxst6y0tFTbt2/XlClTdPfdd7uoQkhlbwivvfaaJOn11193cTW4lNjYWM2ePbvcNUMTJkzQwIED9fTTT%2Bu9995zUXWoSMeOHTV48GDNmzfPNvbQQw9p4MCBOn78uAsrA8ow1ehmNm/erH/961/66KOPVFJSooCAANs1Xrm5ufL09FTv3r01efJk%2Bfr6urrc69Y333yjjh076tChQ/rhhx/0pz/9ydUloQLr16/XsmXLlJqaqrffflu33nqr3fLExES9%2BeabKi0tZaqxihg5cqRq1aql559/Xg0aNJBUdnf3Cy%2B8oKKiIr355psurhDXOxovNxMVFaWNGzeqbt266tSpk2bPnq2ioiL5%2BPgoJCREbdq0oeGqAqKiovTPf/5TDRs21J133qk1a9aoXr16ri4Lv3Ph39O5c%2Bc0aNAgffbZZ%2BXOU3p6ujZv3qxRo0a5qEpcLCoqSh9%2B%2BKFuuOEGu/H9%2B/froYce0vbt211UGVCGa7zcTJ06dfTGG2%2BoQ4cOKikpUU5Ojvz9/ZWfn6%2BDBw/q4MGDtnV79%2B7tukKvc3Xq1NHChQvVoUMHHTlyRJ988on8/f0rXJfz5DoX/3s6ffr0Jc9TcHCwC6pDRerVq6eff/65XOO1b9%2B%2BS/4bA5yJxMvNbN68WQsWLNCZM2d09OhRhYSEyMOj/KV8FotFmzdvdkGFkDhP1QXnqfpZunSp3njjDQ0fPlxt27aVJKWmpuqdd97RiBEjSCbhcjRebiwuLk5r165lCquK4zxVD5yn6mPVqlX64IMPtH//fnl5ealp06YaMmSIHnzwQVeXBtB4AQAAOAvXeAEA3EZiYuJll1943hfgKjReAAC3sXXrVrvvS0pKdPjwYZ0%2BfZrnF6JKoPECALiNFStWVDj%2B0ksvyWKxOLkaoDyu8QIAuL1Dhw6pb9%2B%2BV/UH6oHKwJ8MAgC4vS1btvA3UVElMNUIAHAbcXFx5aYUz549q1OnTmnSpEkuqgr4H6YaAQBuY926dXaNl8ViUY0aNXTzzTeradOmLqwMKEPjBQAA4CRMNQIAqrUhQ4YYvmNx%2BfLllVwNcHk0XgCAai02Ntb29cmTJ5WUlKQePXqoXbt2qlGjhn755Rdt3LhRDz/8sAurBMow1QgAcBvDhw/XXXfdpcGDB9uNr1u3TklJSUpKSnJRZUAZHicBAHAbO3fu1B/%2B8Idy45GRkfr1119dUBFgj8YLAOA2brrpJi1atEgFBQW2sby8PM2fP1/t27d3XWHAfzHVCABwG%2Bnp6Ro1apROnTqlpk2bymq16sCBAwoNDdVbb72lxo0bu7pEXOdovAAAbqWwsFDfffed0tLSJEmtWrXSrbfeKi8v7ieD6/FfIQDArXh7e8vLy0s1atRQaWmprFaryBhQVdB4AQDcxvHjx/XUU09p//79at68uUpKSnTw4EGFhoZq6dKlCgkJcXWJuM4x1QgAcBtPPvmkiouLNXfuXNWtW1dS2bO9JkyYoJo1a2r%2B/PkurhDXOxovAIDbiIqKUlJSksLDw%2B3GU1NT9fDDDys5OdlFlQFleJwEAMBt1K1bV6dOnSo3fvr0adWoUcMFFQH2aLwAAG7jvvvu01/%2B8hd99913ysvLU15enr755hs999xzuvfee11dHsBUIwDAfRQWFur555/XRx99ZLuT0dPTU/3799ekSZPk6%2Bvr4gpxvaPxAgC4jR9//FHt2rVTQUGBDhw4IG9vb91www2qWbOmq0sDJNF4AQDcSGxsrJYtW6aIiAhXlwJUiGu8AABuo1WrVtq1a5erywAuicQLAOA2Ro8erc2bNyswMFBhYWHy9va2W758%2BXIXVQaU4cn1AAC30aZNG7Vp00ZWq1W5ubmyWCwKCAhwdVmADYkXAMBtlJSUaP78%2BVq9erVycnIkSSEhIXr44Yc1atQoF1cHkHgBANzIK6%2B8os8%2B%2B0zjx4/XzTffrNLSUv3000%2BaP3%2B%2BCgsLFR8f7%2BoScZ0j8QIAuI2OHTtq4cKF6tSpk934t99%2Bq/Hjx%2Bvbb791UWVAGe5qBAC4DT8/vwr/NFCdOnVksVhcUBFgj8YLAOA2Jk6cqClTpujLL79Ubm6u8vLy9OOPP%2Bq5557TsGHDdPToUdsH4ApMNQIA3MbFD069kHBd/DZnsVhktVplsVj0yy%2B/OL0%2BgMYLAOA2jhw5Ynjdxo0bV2IlQMVovAAAAJyEa7wAAACchMYLAADASWi8AAAAnITGCwAAwElovAAAAJyExgsAAMBJaLwAAACc5P8DFWZwtYC8P9IAAAAASUVORK5CYII%3D\" class=\"center-img\">\n",
       "    <img src=\"data:image/png;base64,iVBORw0KGgoAAAANSUhEUgAAAl4AAAISCAYAAAAdu8GRAAAAOXRFWHRTb2Z0d2FyZQBNYXRwbG90bGliIHZlcnNpb24zLjUuMywgaHR0cHM6Ly9tYXRwbG90bGliLm9yZy/NK7nSAAAACXBIWXMAAA9hAAAPYQGoP6dpAABKcklEQVR4nO3de1xUdf7H8fcgV0XFC6CIeVsRNEMExS1djbSyy6amGZWXzGxL0N1MDd0tWzNLrR4p5mqb5iU38lJt5v7c1XXbrS0tUFxLTPGSF%2BSigppcBOb3B8ssE6hHzzAD0%2Bv5eMwD%2BJ4LnzmjzIf395yDxWq1WgUAAIBa5%2BHqAgAAAH4qaLwAAACchMYLAADASWi8AAAAnITGCwAAwElovAAAAJyExgsAAMBJaLwAAACchMYLAADASTxdXQAAexkZGVq/fr2%2B%2BOILZWdnq7i4WM2bN1fnzp01YMAADR8%2BXL6%2Bvq4uEwBwHSz8ySCg7li4cKGWLFmi8vJy%2Bfv764YbbpCXl5dyc3N18uRJSVLr1q21ePFidevWzcXVAgCuFY0XUEds2LBBM2bMUMOGDTV37lwNGjRIDRo0sC3PzMzUjBkztHv3bjVr1kybN29W8%2BbNXVgxAOBacY4XUEf84Q9/kCRNmzZNd955p13TJUmdOnXSkiVL1KJFC509e1arVq1yRZkAABNovIA6oKCgQN9//70kKTIy8rLrNW/eXAMHDpQk7dmzxym1AQAch5PrgTrA0/N//xW3b9%2Burl27XnbdxMREjR49Wi1atLCNPfvss/rggw%2BUlJSkfv366bXXXtPXX3%2BtkpIStWvXTkOHDtWDDz4oHx%2BfGvf51VdfafXq1UpLS1N%2Bfr6aNGmiHj16aNSoUfr5z39e4zbnzp3Te%2B%2B9p08//VQHDx7UhQsX5OfnpxtuuEG33nqrRo8eraZNm9pt06VLF0nS559/rpdfflnbtm2Th4eHunXrpuXLl%2Bu3v/2tPvjgA7344ouKiYlRcnKyvvzyS50/f16hoaEaMWKExo4dK4vFor/%2B9a9auXKl9u3bp/LycoWHh%2BvJJ59U//79q9VaVFSkDRs2aOvWrdq/f7/OnTsnb29vhYSEqG/fvnr00UcVHBxst01cXJxOnDihzZs36/Tp0/rjH/%2Bo9PR0Xbx4UaGhoRo8eLAee%2BwxNWrU6LKvFQD8GOd4AXVEfHy80tLSZLFYNGTIEN1///3q2bNntSnHmlQ2XsOGDdOWLVt08eJFde7cWaWlpTp06JAkKTo6WkuXLlXjxo3ttl2wYIHeeustSVLTpk0VGhqqnJwc5ebmSpIef/xxPfPMM3bbHDlyRGPHjlVWVpY8PT11ww03yM/PTydOnFB%2Bfr4kqUOHDtqwYYNdY1LZePXs2VO7du1SWFiYzpw5o9jYWL366qt2z%2BMvf/mLSktL1alTJ50%2BfdpWz4QJE2SxWLR06VI1adJEbdu21eHDh3Xx4kVZLBYtW7ZMv/jFL2zf88yZMxozZoy%2B%2B%2B47WSwW3XDDDWrcuLGys7Nt%2B2zRooU2btyoVq1a2barbLweffRRvfPOO/L29lb79u1VUFCgU6dOSZKioqK0du1aeXgweQDAICuAOuGbb76x9ujRwxoWFmZ79OzZ0/r4449bly5dat29e7e1rKysxm2nT59u2%2BbWW2%2B1fvvtt7ZlaWlp1ptvvtkaFhZm/d3vfme33Z/%2B9CdrWFiYNSYmxvrRRx/ZxsvLy62ffPKJrZ7333/fbrtHHnnEGhYWZn3ggQes2dnZdtt98MEH1vDwcGtYWJh1zZo1dttV1njjjTdad%2B7cabVardaysjLr2bNnqz2P%2BPh4a05Ojm2dZ5991hoWFmYNDw%2B3dunSxfr222/bjseZM2esQ4YMsYaFhVkfeeSRGo/NoEGDrIcPH7Zb9s9//tMaGRlpDQsLs7788st2y2699VZbLc8%2B%2B6z13Llztue4Zs0a27K//e1vNb4mAFATfk0D6oiuXbtq3bp1io6Oto1duHBBn376qV599VU98MAD6tu3r15//XUVFhbWuA8PDw%2B9%2BeabioiIsI1FRUXplVdekSStW7dO2dnZkqSSkhItWrRIkvTSSy/pl7/8pW0bi8Wiu%2B66S1OnTpUkLVq0SKWlpZKkvLw8HThwQJI0e/ZsBQUF2W03ZMgQ9e7dW5K0f//%2BGuscPHiwevXqZas5ICDAbrmnp6dee%2B01BQYG2taZMGGCJKm8vFz33Xefxo0bZ0uamjVrptGjR0uSvv32W9t%2BLl26pK%2B%2B%2BkoWi0VJSUlq37693ffp16%2Bf7rrrLknSd999V2Ot4eHheumll2xJocVi0cMPP6ywsDBJUmpqao3bAUBNaLyAOuRnP/uZ1q5dqw8//FAJCQmKioqSl5eXbfnp06f1hz/8Qb/85S9t011V9enTR%2BHh4dXG%2B/btq9DQUJWXl2v79u2SpF27dikvL0%2BNGjXSbbfdVmM9v/zlL%2BXh4aHs7GxbQ9OyZUt9%2BeWXSk9PtzUfVZWVlcnf319SxblVNanaXNakS5cudtN%2BktSmTRvb5zWdx1XZAF64cME25uXlpW3btik9PV0DBgyoto3ValXDhg2vWOuAAQNksViqjXfq1EmSdP78%2BSs%2BFwCoipPrgTooIiJCERERSkxMVGFhodLS0vTZZ5/po48%2B0unTp/X9999r8uTJSklJsdvupptuuuw%2Bu3TpouPHj%2BvIkSOSZEutLl26pIcffviy2zVo0EDl5eU6dOiQ3f59fX114sQJ/ec//9H333%2BvY8eOKTMzU/v27dPFixclVaRTNalMsi6ndevW1ca8vb1tnzdr1qza8qoXKPyYj4%2BP8vLylJ6eriNHjuj48eM6dOiQ9u3bp4KCgivWWjXRq6ryrweUlZVd/okAwI/QeAF1nJ%2Bfn2655Rbdcsstmjx5smbMmKFPPvlEu3fv1jfffGN3B/sfX0VYVWWyc%2B7cOUn/S2pKSkqUlpZ21Toqt5OkQ4cO6fnnn9fOnTvt1vH391dMTIxycnKUkZFx2X1d7U8e%2Bfn5XXH5tZzMnpubq1mzZunvf/%2B7XXPl5%2Ben7t27q6ys7IrThVUbvppYuT4JwDWg8QLqgOeee05ffvmlhg4dqieffPKy6/n6%2Bur3v/%2B9/vrXv%2BrSpUs6fPiwXeNVmTTVpHIKrvI2FJXNTbdu3bRx40bDtZ4%2BfVqPPPKITp8%2BrZCQED3wwAPq2rWrOnbsqNDQUFksFk2ZMuWKjZezFBcXa8yYMcrMzFRAQIDi4%2BN14403qlOnTrrhhhvUoEEDvf7665ynBcBpaLyAOqC4uFhHjx7V1q1br9h4SRWpUqNGjZSfn1/tTwZVTh/WpLIR%2BtnPfiap4nYPUsWtIUpLS2ucqrNardqxY4datWqlkJAQeXt7a8OGDTp9%2BrQCAgK0YcOGGv9sUeUJ/K62detWZWZmytPTUykpKdVOrpdU47lyAFBbOLkeqAMqryjcu3fvVdOnzz77TPn5%2BQoICKh2l/tPP/3Udm%2BqqrZv366srCx5e3srLi5OktSrVy81btxYP/zww2W/58cff6wxY8Zo8ODBtgbl%2BPHjkqSQkJAam66DBw9q9%2B7dklx//lNlrY0aNaqx6crLy9M//vEPSa6vFcBPA40XUAfccsstuuOOOyRJv/3tbzVnzhxb01CpuLhYGzZs0K9//WtJ0q9//etqd00vLCzUU089paysLNvYjh07lJSUJKni5qOVt0Vo2LCh7RYNc%2BbM0YYNG%2BzOgdq6dauef/55SRW3f7jhhhskSR07dpRUkaBt2bLFtr7VatU///lPjR8/XpcuXbLV40qVtRYUFGjlypV252Pt3r1bjz76qO2Gr66uFcBPA1ONQB2xYMECNWzYUB9%2B%2BKFWrVqlVatWKSQkRC1atFBxcbGOHDmikpISeXl5acqUKYqPj6%2B2j/bt22vfvn0aOHCgwsLCdPHiRdtVjPfcc4%2BeeOIJu/Uff/xxHTt2TO%2B//75mzJih%2BfPnKzQ0VNnZ2crJyZFUceuHOXPm2LYZPny41q5dq6NHj2rSpElq06aNmjVrpqysLJ0%2BfVpeXl7q3bu3du7c6fIpx7i4OEVFRWnXrl166aWX9NZbbyk4OFi5ubnKzs6WxWLRzTffrH//%2B9/KycmR1Wqt8dYRAOAoNF5AHeHt7a2XX35ZDz/8sDZv3qwdO3YoOztbGRkZ8vPzU4cOHdS3b18NHz7cluT8WPfu3bVgwQItXLhQqamp8vT0VO/evRUfH2%2B7UWhVFotFs2fP1h133KH33ntPu3fv1r59%2B%2BTj46MePXronnvu0ciRI%2B2u7PP399f69ev11ltvafv27Tp%2B/Ljy8vLUqlUrDRgwQGPGjFHDhg01cOBAZWRk6OTJkwoJCam143YlDRo00MqVK7Vq1Sp98sknOnbsmL777jsFBgbqrrvu0iOPPKKuXbsqNjZW%2Bfn5SktLu%2Bo9xgDADP5WI%2BAGKv/G4b333qsFCxa4uhwAwGVwjhcAAICT0HgBAAA4CY0XAABwCyUlJbrnnnu0Y8eOy67z7bffasSIEYqMjNT999%2BvvXv32i3ftGmTBg4cqMjISE2cOFFnzpxxaI00XgAAoN4rLi7W008/fcUbSV%2B8eFETJkxQTEyMNm7cqKioKD3xxBO2v/qxZ88ezZw5UwkJCUpJSdG5c%2Bdst%2BNxFE6uBwAA9drBgwc1ZcoUWa1W7d%2B/X6tWrVJsbGy19davX68lS5Zo69atslgsslqtuuOOO/SrX/1Kw4YN07Rp0%2BTh4aGXX35ZkpSVlaVbb71Vf/vb39S2bVuH1EriBQAA6rWdO3cqNjZWKSkpV1wvPT1d0dHRtvv1WSwW9ezZ0/bXNtLT0xUTE2Nbv3Xr1goJCVF6errDauU%2BXgAAwKVycnKq/bmzwMBABQUFGdr%2BoYceMrRebm6u7e/VVmrRooVtejInJ6fa92zRooVD/6YrjdeVuNsdrDt0kA4ckDp3lg4fdnU1jvPf31Tchre3FB4uZWRIJSWursZhrDdFXn0luNz337u6Asfx9JRCQqSTJ6XSUldX41jt2rnoG9fS%2B2LKwoVKTk62G0tISFBiYqJDv09hYaHdDaGliptXl/z3Z21RUdEVlzsCjddPSUCA1KBBxUfUXQ0aVPxwa9DA1ZXgKiwWibNk6y4Pj4rXyIOTahynlg7myJEjFRcXZzcWGBjo8O/j4%2BNTrYkqKSmRr6/vFZf7%2Bfk5rAYaLwAA4FJBQUGGpxXNCA4OVl5ent1YXl6e7Xtfbrkjm0B%2BDwAAAMZ4eNTOw0kiIyO1a9cuVd7QwWq1Ki0tTZGRkbblqamptvWzsrKUlZVlW%2B4INF4AAMBt5ebmqqioSJJ055136ty5c5ozZ44OHjyoOXPmqLCwUIMHD5YkxcfH66OPPtK6deuUkZGhadOmacCAAQ67lYRE4wUAAIyqh4lX3759tXnzZkmSv7%2B/li5dqtTUVA0bNkzp6elatmyZGjZsKEmKiorS73//ey1evFjx8fFq2rSp5s6d69B6uIHqlbjbVY1RUVJamtSzp7Rrl6urcRx3u6rRz08KC5O%2B%2B04qLHR1NQ7jjlc1uuPJ9e50VaO3t9S6tZSV5VYXCEty4VWNDjzJ3I4b/ay7GhIvAAAAJ%2BGqRgAAYAz35jCNIwgAAOAkJF4AAMAYEi/TaLwAAIAxNF6mcQQBAACchMQLAAAYQ%2BJlGkcQAADASUi8AACAMSReptF4AQAAY2i8TOMIAgAAOAmJFwAAMIbEyzSOIAAAgJOQeAEAAGNIvEyj8QIAAMbQeJnGEQQAAHASEi8AAGAMiZdpNF4AAMAYGi/TOIIAAABOQuIFAACMIfEyjSMIAADgJCReAADAGBIv02i8AACAMTRepnEEAQAAnITECwAAGEPiZRpHEAAAwElIvAAAgDEkXqbReAEAAGNovEzjCAIAADgJiRcAADCGxMs0jiAAAICTkHgBAABjSLxMo/ECAADG0HiZxhEEAABwEhIvAABgDImXaRxBAAAAJyHxAgAAxpB4mUbjBQAAjKHxMo0jCAAA4CQkXgAAwBgSL9M4ggAAAE5SbxOvbdu26YUXXlBBQYFeffVV/f3vf9df//pX%2Bfr6aty4cRo3bpyrSwQAwL3U0cSruLhYL7zwwlX7gFGjRmnnzp3VxocNG6a5c%2BeqoKBAvXv3tlsWEBCgHTt2OKzWett4LVy4UH379tXEiRO1ZMkS7d27VytXrtTJkyc1ffp0hYSE6M4773R1mQAAuI862njNmzfPUB%2BwaNEiXbp0yfZ1enq6fv3rX%2Buhhx6SJB08eFABAQHatGmTbR0PBz/nett4nT9/XtHR0WrWrJn%2B/Oc/66233lK3bt3UrVs3HThwQO%2B%2B%2By6NFwAAbu7ixYtat26doT4gICDA9nlZWZlef/11jR8/Xt27d5ckHTp0SB06dFBgYGCt1Vs3W9eriIuL04kTJzRjxgz17t1bpaWlioqKsi2Pjo5Wenq6ysvLXVglAABuxsOjdh4mZGRkXFcfsHHjRhUUFOjxxx%2B3jR08eFDt27c3Vc/V1MvEa/369Ro6dKjGjRunwMBAzZkzR97e3rblLVu2VHFxsfLz89W8eXND%2B8zJyVFubq7dWGCHDgqq0h3Xe%2BHh9h/dhZ%2BfqytwLB8f%2B4%2BAE1X5UVrveXraf3QXJSWursDxanwPDgxUUFDQVbfNzc1Vs2bNrqkPsFqt%2BuMf/6jRo0erUaNGtvHMzEyVlpZq%2BPDhys7OVkxMjJKSkgzVYVS9/OfYvHlzNWjQQI0bN1ZJSYndwZZk%2B7rkGv51pqSkKDk52W4sYfJkJU6ebL7gumbtWldXACPatXN1BQ5lcXUBtcTiZk%2BsdWtXV%2BB4tThr5BJHj7rwm9fSOV41vgcnJCgxMfGq2xYWFl5zH7Bjxw6dOnVKDzzwgN34oUOH1Lx5cyUlJclqter111/Xr371K61bt04NGjS4lqd0WfWy8arKx8en2oGt/NrX19fwfkaOHKm4uDi7scB775VWrjRfZF0RHl7RdD30kJSR4epqHOe991xdgWP5%2BFQ0XUePSsXFrq7GYaydw1xdgsNZLJLV6uoqHOvUKVdX4DienhVNV26uVFrq6mrcRC01XjW%2BBxvsmK%2BnD9iyZYt%2B8Ytf2J3zJUmffPKJLBaLbbvKC/nS09PVs2dPQ/VcTb1vvIKDg3X27FmVlpbK8795cm5urnx9fdWkSRPD%2BwkKCqoeJR4%2B7MhS646MDGnXLldX4TiFha6uoHYUF7vvc0Od5Y7TWKWl7vm83EmN78EGXU8f8K9//UsJCQnVxv1%2BdOpKixYtFBAQoOzs7OuqrSb18uT6qiIiIuTp6andu3fbxlJTU9W9e3eHXwIKAMBPWh08uf5a%2B4AzZ87o2LFjio6Othu/cOGCevXqpS%2B//NI2lp2drbNnz6pjx46maqyq3ncmfn5%2BGjJkiGbNmqU9e/Zo69atWr58uUaPHu3q0gAAQC27Wh%2BQm5uroqIi2/oHDhyQj4%2BPQkND7fbj7%2B%2Bv6OhozZ07V3v27NE333yj3/zmN%2BrXr5%2B6dOnisHrrfeMlSUlJSerWrZvGjBmjF154QYmJibr99ttdXRYAAO6lDiZe0pX7gL59%2B2rz5s22dU%2BfPq0mTZrIUsOVMa%2B88oq6du2qCRMmaNSoUWrTpo0WLFhgur6qLFaru50a6kDudrlSVJSUlib17Ole53hViZfdgp%2BfFBYmffedW53jZb0p0tUlOJw7nlz//feursBxvL0rrtLMynK/c7xcdtHz4MG1s9%2B//KV29lsHuUXiBQAAUB/U%2B6saAQCAk3DRmmkcQQAAACch8QIAAMaQeJlG4wUAAIyh8TKNIwgAAOAkJF4AAMAYEi/TaLwAAIAxNF6mcQQBAACchMQLAAAYQ%2BJlGkcQAADASUi8AACAMSReptF4AQAAY2i8TOMIAgAAOAmJFwAAMIbEyzSOIAAAgJOQeAEAAGNIvEyj8QIAAMbQeJnGEQQAAHASEi8AAGAMiZdpHEEAAAAnIfECAADGkHiZRuMFAACMofEyjSMIAADgJCReAADAGBIv0ziCAAAATkLiBQAAjCHxMo3GCwAAGEPjZRpHEAAAwElIvAAAgDEkXqZxBAEAAJyExAsAABhD4mUajRcAADCGxss0jiAAAICTkHgBAABjSLxM4wgCAAA4CYkXAAAwhsTLNBovAABgDI2XaRxBAAAAJyHxAgAAxpB4mcYRBAAAcBIaLwAAYIyHR%2B08TCouLtaMGTMUExOjvn37avny5Zdd98knn1SXLl3sHtu3b7ctf%2Bedd9SvXz9FRUVpxowZKiwsNF1fVUw1AgAAY%2BroVOO8efO0d%2B9erVy5UidPntT06dMVEhKiO%2B%2B8s9q6mZmZmj9/vn7%2B85/bxpo2bSpJ2rJli5KTkzV//ny1aNFCSUlJmj9/vp577jmH1Vo3jyAAAIABFy9e1Lp16zRz5kx169ZNgwYN0vjx4/Xuu%2B9WW7ekpETHjx9X9%2B7dFRgYaHt4e3tLklatWqUxY8bo1ltv1U033aQXXnhBGzZscGjqReMFAACMqYNTjRkZGSotLVVUVJRtLDo6Wunp6SovL7db99ChQ7JYLGrbtm21/ZSVlek///mPYmJibGM9evTQpUuXlJGRYarGqphqvJLdu11dgWP5%2BVV8fO89ycFz1i7Vo4erK3CsqCgpLU168EFp1y5XV%2BM45VZXVwADgoJcXYHjWCwVH5s1k6z886vTcnJylJubazcWGBioIAP/IHNzc9WsWTNbaiVJLVu2VHFxsfLz89W8eXPb%2BKFDh%2BTv769p06Zp586datWqlRITE9W/f3%2BdO3dOxcXFdt/T09NTAQEBOnXqlAOe5X/36bA9AQAA91ZL53ilpKQoOTnZbiwhIUGJiYlX3bawsNCu6ZJk%2B7qkpMRu/NChQyoqKlLfvn01YcIE/e1vf9OTTz6plJQUtWzZ0m7bqvv68X7MoPECAADG1FLjNXLkSMXFxdmNBQYGGtrWx8enWmNU%2BbWvr6/d%2BFNPPaVRo0bZTqYPDw/XN998o/fff1%2B/%2Bc1v7Latui%2B/yhkjB6DxAgAALhUUFGRoWrEmwcHBOnv2rEpLS%2BXpWdHW5ObmytfXV02aNLFb18PDw9Z0VerYsaMOHjyogIAA%2Bfj4KC8vT506dZIklZaWKj8/33ATaAQn1wMAAGPq4Mn1ERER8vT01O4q52Wnpqaqe/fu8vjRvp999lklJSXZjWVkZKhjx47y8PBQ9%2B7dlZqaalu2e/dueXp6Kjw83FSNVdF4AQCAesvPz09DhgzRrFmztGfPHm3dulXLly/X6NGjJVWkX0VFRZKkuLg4ffzxx/rwww919OhRJScnKzU1VY888ogk6aGHHtLbb7%2BtrVu3as%2BePZo1a5YeeOABphoBAIAL1NEbqCYlJWnWrFkaM2aM/P39lZiYqNtvv12S1LdvX82dO1fDhg3T7bffrueff15LlizRyZMn1blzZ/3xj39UaGioJOnuu%2B/WiRMn9Nxzz6mkpES33367pk6d6tBaLVYrF9leVnq6qytwLD8/KSxM%2Bu47bidRl1XeTqJnT7e6nYTVDW8nYbG4320K/hsMuAWLRfL1rXhO7vY6OTCAuTavvFI7%2B50%2BvXb2WwfVzdYVAADADTHVCAAAjKmjU431CY0XAAAwhsbLNI4gAACAk5B4AQAAY0i8TOMIAgAAOAmJFwAAMIbEyzQaLwAAYAyNl2kcQQAAACch8QIAAMaQeJnGEQQAAHASEi8AAGAMiZdpNF4AAMAYGi/TOIIAAABOQuIFAACMIfEyjSMIAADgJCReAADAGBIv02i8AACAMTRepnEEAQAAnITECwAAGEPiZRpHEAAAwElIvAAAgDEkXqbReAEAAGNovEzjCAIAADgJiRcAADCGxMs0jiAAAICTkHgBAABjSLxMo/ECAADG0HiZxhEEAABwEhIvAABgDImXaRxBAAAAJyHxAgAAxpB4mUbjBQAAjKHxMo0jCAAA4CQkXgAAwBgSL9M4ggAAAE5C4gUAAIwh8TKNxgsAABhD42UaRxAAAMBJSLwAAIAxJF6mcQQBAACcpN42Xtu2bdMvfvELRUZG6l//%2BpckqaSkRPfcc4927Njh4uoAAHBDHh618zCpuLhYM2bMUExMjPr27avly5dfdt1//OMfuu%2B%2B%2BxQVFaV7771X27Zts1seExOjLl262D1%2B%2BOEH0zVWqrdTjQsXLlTfvn01ceJEtWjRQsXFxZoyZYoOHDjg6tIAAHBPdXSqcd68edq7d69WrlypkydPavr06QoJCdGdd95pt15GRoYSEhI0bdo09e/fX5999pkmT56s9evXKzw8XNnZ2Tp//ry2bt0qX19f23YNGzZ0WK31tvE6f/68oqOj1aZNGx08eFBTpkyR1Wp1dVkAAMCJLl68qHXr1umtt95St27d1K1bNx04cEDvvvtutcZr06ZN6tOnj0aPHi1Jateunf7%2B97/rL3/5i8LDw5WZmanAwEC1bdu21uqtl41XXFycTpw4oRkzZmjx4sUaP368YmNj9Zvf/EY9evS4rn3m5OQoNzfXbizwwgUFBQY6oOI6wsfH/qO7iIpydQWOFR5u/xFwIovF1RU4TuVzcafnJEkuzRhqKfGq8T04MFBBQUFX3TYjI0OlpaWKqvJeEB0drT/84Q8qLy%2BXR5Wahw4dqkuXLlXbx/nz5yVJBw8eVIcOHa73aRhSLxuv9evXa%2BjQoRo3bpzuvfdeNW/e3PQ%2BU1JSlJycbDeWMHGiEidNMr3vOqddO1dX4Fhpaa6uoHasXevqChzKzd77bNztTb3K7IrbcLffNQsLXfjNa6nxqvE9OCFBiYmJV902NzdXzZo1k7e3t22sZcuWKi4uVn5%2Bvl2P0KlTJ7ttDxw4oC%2B%2B%2BEIPPvigJCkzM1OFhYUaNWqUDh8%2BrIiICM2YMcOhzVi9bLyaN2%2BuBg0aqHHjxg5puiRp5MiRiouLsxsLzM%2BXvvvOIfuvE3x8Kpquo0el4mJXV%2BM4//0P4zbCwyuarocekjIyXF2Nw1hT3a9BtlhcnD7UAnf60WCxVPzYKy52v9fJ3dT4HmxwxqmwsNCu6ZJk%2B7qkpOSy2505c0aJiYnq2bOnbrvtNknSoUOHVFBQoKefflr%2B/v566623NHbsWH3yySfy9/e/lqd0WfWy8aoNQUFB1SPN9HQX/2pRS4qL3et57drl6gpqR0aG%2Bz431Fnu2KBYre75vFyilhKvGt%2BDDfLx8anWYFV%2B7XuZCDcvL0%2BPPvqorFarFi5caJuOfPvtt3Xp0iU1atRIkrRgwQL1799f27dv17333ntd9f0YjRcAAKi3goODdfbsWZWWlsrTs6Ktyc3Nla%2Bvr5o0aVJt/ezsbNvJ9atWrbKbOfP29rZLz3x8fBQaGqrs7GyH1Vs3rwsFAAB1Tx28j1dERIQ8PT21e/du21hqaqq6d%2B9ud2K9VHEF5Pjx4%2BXh4aE1a9YoODjYtsxqtWrgwIHauHGj3fpHjx5Vx44dTdVYFYkXAAAwpg7ex8vPz09DhgzRrFmz9NJLLyknJ0fLly/X3LlzJVWkX40bN5avr6%2BWLl2q77//XqtXr7YtkyqmJBs3bqwBAwZo0aJFatOmjZo3b6433nhDrVq1Uv/%2B/R1WL40XAACo15KSkjRr1iyNGTNG/v7%2BSkxM1O233y5J6tu3r%2BbOnathw4Zpy5YtKioq0ogRI%2By2Hzp0qF5%2B%2BWVNnTpVnp6emjJlii5cuKA%2Bffpo2bJlatCggcNqtVi56%2Bjlpae7ugLH8vOTwsIqrtR0p5Prr/PebXVWVFTFLTJ69nSrk%2But5e73o8Ydr2osKnJ1BY5jsVTcHqOoyP1eJz8/F33j2vqTfLGxtbPfOqjuZYYAAABuiqlGAABgTB08x6u%2BofECAADG0HiZxhEEAABwEhIvAABgDImXaRxBAAAAJyHxAgAAxpB4mUbjBQAAjKHxMo0jCAAA4CQkXgAAwBgSL9M4ggAAAE5C4gUAAIwh8TKNxgsAABhD42UaRxAAAMBJSLwAAIAxJF6mcQQBAACchMQLAAAYQ%2BJlGo0XAAAwhsbLNI4gAACAk5B4AQAAY0i8TOMIAgAAOAmJFwAAMIbEyzQaLwAAYAyNl2kcQQAAACch8QIAAMaQeJnGEQQAAHASEi8AAGAMiZdpNF4AAMAYGi/TOIIAAABOQuIFAACMIfEyjSMIAADgJCReAADAGBIv02i8AACAMTRepnEEAQAAnITECwAAGEPiZRqNFwAAMIbGyzSOIAAAgJOQeAEAAGNIvEzjCAIAADgJiRcAADCGxMs0Gi8AAGAMjZdpHEEAAFCvFRcXa8aMGYqJiVHfvn21fPnyy6777bffasSIEYqMjNT999%2BvvXv32i3ftGmTBg4cqMjISE2cOFFnzpxxaK00XgAAwBgPj9p5mDRv3jzt3btXK1eu1PPPP6/k5GT93//9X7X1Ll68qAkTJigmJkYbN25UVFSUnnjiCV28eFGStGfPHs2cOVMJCQlKSUnRuXPnlJSUZLq%2Bqmi8AABAvXXx4kWtW7dOM2fOVLdu3TRo0CCNHz9e7777brV1N2/eLB8fH02bNk2dOnXSzJkz1ahRI1uTtmbNGg0ePFhDhgxReHi45s2bp08//VTHjh1zWL00XgAAwJhaSrxycnL0zTff2D1ycnIMlZSRkaHS0lJFRUXZxqKjo5Wenq7y8nK7ddPT0xUdHS2LxSJJslgs6tmzp3bv3m1bHhMTY1u/devWCgkJUXp6uskD9z%2BcXH8F1psiXV2Cw1kkWTuHuboMxyq3uroCh7NIsqamuboMh7J4WFxdgmNFRUlpabJE95R27XJ1NQ7j5%2B3t6hIcp0cPaccO%2BfaPlf77xuo2iotd8m2tqp3/xykpKUpOTrYbS0hIUGJi4lW3zc3NVbNmzeRd5d9uy5YtVVxcrPz8fDVv3txu3Z/97Gd227do0UIHDhyQJOXk5CgoKKja8lOnTl3zc7ocGi8AAOBSI0eOVFxcnN1YYGCgoW0LCwvtmi5Jtq9LSkoMrVu5XlFR0RWXOwKNFwAAMORHM3cOExQUVC1pMsrHx6daY1T5ta%2Bvr6F1K9e73HI/P7/rqq0mnOMFAADqreDgYJ09e1alpaW2sdzcXPn6%2BqpJkybV1s3Ly7Mby8vLszV9l1tuNH0zgsYLAAAYUl5eOw8zIiIi5OnpaTtBXpJSU1PVvXt3efzoVhWRkZHatWuXrNaKc4OtVqvS0tIUGRlpW56ammpbPysrS1lZWbbljkDjBQAADKmLjZefn5%2BGDBmiWbNmac%2BePdq6dauWL1%2Bu0aNHS6pIv4qKiiRJd955p86dO6c5c%2Bbo4MGDmjNnjgoLCzV48GBJUnx8vD766COtW7dOGRkZmjZtmgYMGKC2bduaK7IKGi8AAFCvJSUlqVu3bhozZoxeeOEFJSYm6vbbb5ck9e3bV5s3b5Yk%2Bfv7a%2BnSpUpNTdWwYcOUnp6uZcuWqWHDhpKkqKgo/f73v9fixYsVHx%2Bvpk2bau7cuQ6t1WKtzNtQjTseGYvFPZ%2BXu3HH18ldbyehnu51Owm54e0kFMvtJBylsLB29uvAc9frPBIvAAAAJ%2BF2EgAAwJDaup3ETwmNFwAAMITGyzymGgEAAJyExAsAABhC4mUeiRcAAICTkHgBAABDSLzMo/ECAACG0HiZx1QjAACAk5B4AQAAQ0i8zCPxAgAAcBISLwAAYAiJl3k0XgAAwBAaL/OYagQAAHASEi8AAGAIiZd5JF4AAABOQuIFAAAMIfEyj8YLAAAYQuNlHlONAAAATkLiBQAADCHxMo/ECwAAwElIvAAAgCEkXubReAEAAENovMxjqhEAAMBJSLwAAIAhJF7mkXgBAAA4CYkXAAAwhMTLPBovAABgCI2XeUw1AgAAOAmJFwAAMITEyzwaLwAAYAiNl3lMNQIAADgJiRcAADCExMs8Ei8AAAAnIfECAACGkHiZR%2BMFAAAMofEyj6lGAAAAJyHxAgAAhpB4mUfiBQAA4CQkXgAAwBASL/NovAAAgCE0XubV26nGbdu26Re/%2BIUiIyP1wQcfaNKkSerdu7f69eunuXPnqri42NUlAgAAF7NarVqwYIH69Omj3r17a968eSq/Qge5e/duPfjgg4qKitIdd9yhdevW2S3/5S9/qS5dutg9vvvuO8P11NvEa%2BHCherbt68mTpyoiRMnKjAwUO%2B%2B%2B64KCgo0Y8YMeXh4aPr06a4uEwAAt1EfE68VK1Zo06ZNSk5OVmlpqaZOnaoWLVroscceq7Zubm6uHn/8ccXHx%2Bvll1/WN998o6SkJAUGBmrAgAEqKyvTkSNHtGbNGrVv3962XbNmzQzXU28Tr/Pnzys6OlpFRUXat2%2Bf5s6dq86dOysmJkaTJk3Spk2bXF0iAABwsVWrVmnSpEmKiYlRnz599Mwzz%2Bjdd9%2Btcd2tW7eqZcuWevrpp9W%2BfXvdfffdGjJkiD7%2B%2BGNJ0vHjx3Xp0iXddNNNCgwMtD08PY3nWPUy8YqLi9OJEyc0Y8YMNW7cWH/84x/VsmVLu3UuXLhwTfvMyclRbm6u3VjLloEKCgoyXS8ASVFRrq7AscLD7T%2B6Cy8vV1fgOF262H90F7t3u%2Bxb11biVdN7cGCg%2Bffg7OxsZWVlqVevXrax6OhonThxQjk5OdX2369fP0VERFTbT2VPcfDgQbVu3Vo%2BPj7XXVO9bLzWr1%2BvoUOHaty4cbr33nvVvHlz27Ly8nKtWbNGffr0uaZ9pqSkKDk52W5s4sQETZqU6JCa6xKLxdUVwAi3e53S0lxdQe1Yu9bVFeBqVq1ydQWOZeJN36zaarxqeg9OSEhQYqK59%2BDKZq5qg1UZ1Jw6dapa4xUaGqrQ0FDb16dPn9Ynn3xiqyMzM1NeXl564okntHfvXnXo0EHTpk3TTTfdZLimetl4NW/eXA0aNFDjxo3tmi5Jmj9/vr799lutX7/%2BmvY5cuRIxcXF2Y21bBkoq9V0uXWKxSK3e07uyB1fJ0t0T1eX4Fjh4RVN10MPSRkZrq7Gcdwt8Vq1Sho9Wtq/39XV4Apqeg8ODAw0tG1RUZGys7NrXHbx4kVJkre3t22s8vOSkpKr7jcxMVEtW7bUyJEjJUmHDx9WQUGBRowYoUmTJun999/XmDFjtHnzZrVu3dpQvfWy8bqc%2BfPna%2BXKlXr99dcVFhZ2TdsGBQVV63zd7Y0PcKldu1xdQe3IyHCv51blDcpt7N/v0uk5d1JbiVdN78FGpaena/To0TUumzp1qqSKJqtyerCy4fLz87vsPn/44Qc99dRTOnLkiNauXWtbd/bs2SoqKpK/v78kadasWUpLS9NHH32kX/3qV4bqdZvGa/bs2frTn/6k%2BfPn64477nB1OQAAwAliY2O1/zKJZnZ2tubPn6/c3FzbFGLl9OPlErULFy5o/Pjx%2Bv7777Vy5Uq7qxc9PT1tTZckWSwWdezY8bKJW03q7VWNVSUnJ%2Bu9997Ta6%2B9prvvvtvV5QAA4JbKy2vnUVuCg4MVEhKi1NRU21hqaqpCQkJqTNjKy8uVkJCg48ePa/Xq1ercubPd8lGjRtmdi1ZeXq79%2B/erY8eOhmuq94lXZmam3nzzTU2YMEHR0dF2V0UYnR8GAABXVx/v4xUfH68FCxaoVatWkqRXX31V48aNsy0/c%2BaMfHx81KhRI61fv147duzQkiVL1KRJE1tP4eXlpYCAAMXFxWnx4sWKiIhQhw4dtGrVKp0/f15Dhw41XE%2B9b7y2bdumsrIyLVmyREuWLLFbdrnoEQAA/DQ89thjOn36tBISEtSgQQMNHz5cY8eOtS0fPny4hg4dqsTERG3ZskXl5eV64okn7PbRu3dvrV69WmPHjlVxcbFefPFF5eXlKTIyUitWrLCbfrwai9XKKeSX445Hxh2vlnNH7vg6WTzc7P4YUVEVt8jo2ZOT6%2BuqHj2kHTuk2Fj3O7neRX8W7y9/qZ39Dh5cO/uti9ziHC8AAID6oN5PNQIAAOeoj%2Bd41TU0XgAAwBAaL/OYagQAAHASEi8AAGAIiZd5JF4AAABOQuIFAAAMIfEyj8YLAAAYQuNlHlONAAAATkLiBQAADCHxMo/ECwAAwElIvAAAgCEkXubReAEAAENovMxjqhEAAMBJSLwAAIAhJF7mkXgBAAA4CYkXAAAwhMTLPBovAABgCI2XeUw1AgAAOAmJFwAAMITEyzwaLwAAYAiNl3lMNQIAADgJiRcAADCExMs8Ei8AAAAnIfECAACGkHiZR%2BMFAAAMofEyj6lGAAAAJyHxAgAAhpB4mUfiBQAA4CQkXgAAwBASL/NovAAAgCE0XuYx1QgAAOAkJF4AAMAQEi/zSLwAAACchMQLAAAYQuJlHo0XAAAwhMbLPKYaAQAAnITECwAAGELiZR6JFwAAgJOQeAEAAENIvMwj8QIAAIaUl9fOozZZrVYtWLBAffr0Ue/evTVv3jyVX%2BGbvvjii%2BrSpYvdY82aNbblmzZt0sCBAxUZGamJEyfqzJkz11QPiRcAAHBbK1as0KZNm5ScnKzS0lJNnTpVLVq00GOPPVbj%2BpmZmZoyZYqGDh1qG/P395ck7dmzRzNnztQLL7yg8PBwzZkzR0lJSVq6dKnheki8AACAIfUx8Vq1apUmTZqkmJgY9enTR88884zefffdy66fmZmprl27KjAw0Pbw8/OTJK1Zs0aDBw/WkCFDFB4ernnz5unTTz/VsWPHDNdD4wUAANxSdna2srKy1KtXL9tYdHS0Tpw4oZycnGrrX7hwQdnZ2Wrfvn2N%2B0tPT1dMTIzt69atWyskJETp6emGa2KqEQAAGFJb6VROTo5yc3PtxgIDAxUUFGRqv5X7rLqfli1bSpJOnTpVbf%2BZmZmyWCz6wx/%2BoH/%2B858KCAjQo48%2Bapt2zMnJqbZNixYtdOrUKcM10Xhdwfffu7oCx/L2llq3lk6dkkpKXF2N45j8f1nnWCySr69UXCxZra6uxnH8vL1dXYJjeXn976M7PTd3%2BuFw6dL/PrrT83Kh2mq8UlJSlJycbDeWkJCgxMTEq25bVFSk7OzsGpddvHhRkuRd5f9o5eclNfybOHTokCwWizp27KhHHnlEX331lX73u9/J399fgwYNUlFRkd2%2BKvdX074uh8YLAAC41MiRIxUXF2c3FhgYaGjb9PR0jR49usZlU6dOlVTRZPn4%2BNg%2Bl2Q7b6uqIUOG6NZbb1VAQIAkKTw8XEeOHNGf/vQnDRo0SD4%2BPtWarJKSkhr3dTk0XgAAwJDaSryCgoKue1oxNjZW%2B/fvr3FZdna25s%2Bfr9zcXIWGhkr63/RjTY2dxWKxNV2VOnbsqC%2B//FKSFBwcrLy8PLvleXl5hptEiZPrAQCAmwoODlZISIhSU1NtY6mpqQoJCamx0XvjjTc0duxYu7GMjAx17NhRkhQZGWm3r6ysLGVlZSkyMtJwTSReAADAkPp45/r4%2BHgtWLBArVq1kiS9%2BuqrGjdunG35mTNn5OPjo0aNGunWW2/VsmXL9Pbbb2vQoEH67LPP9OGHH2rVqlW2fY0aNUo9evRQ9%2B7dNWfOHA0YMEBt27Y1XA%2BNFwAAMKQ%2BNl6PPfaYTp8%2BrYSEBDVo0EDDhw%2B3S7WGDx%2BuoUOHKjExUTfddJPeeOMNLVy4UG%2B88YbatGmjV199VVFRUZKkqKgo/f73v9fChQtVUFCgW265RbNnz76meixWqztdN%2BVYR4%2B6ugLHqryqMSvLvS7wcderGouK3OyqxgAfV5fgWD16SDt2SLGx0u7drq7Gcdzph0NUlJSWJvXsKe3a5epqHMtFPxySkmpnv3Pn1s5%2B6yISLwAAYEh9TLzqGk6uBwAAcBISLwAAYAiJl3k0XgAAwBAaL/OYagQAAHASEi8AAGAIiZd5JF4AAABOQuIFAAAMIfEyj8YLAAAYQuNlHlONAAAATkLiBQAADCHxMo/GCwAAGELjZR5TjQAAAE5C4gUAAAwh8TKPxAsAAMBJSLwAAIAhJF7m0XgBAABDaLzMY6oRAADASUi8AACAISRe5pF4AQAAOAmJFwAAMITEyzwaLwAAYAiNl3lMNQIAADgJiRcAADCExMs8Ei8AAAAnIfECAACGkHiZR%2BMFAAAMofEyj6lGAAAAJyHxAgAAhpB4mUfiBQAA4CQkXgAAwBASL/NovAAAgCE0XuYx1QgAAOAkJF4AAMAQEi/zSLwAAACchMQLAAAYQuJlHo0XAAAwhMbLPKYaAQAAnITECwAAGELiZR6JFwAAgJOQeAEAAENIvMyrU43XokWLtHPnTq1evdrUfi5cuKCtW7dqyJAhjikMAADUy8bLarXq1Vdf1fr161VeXq7hw4frmWeekYdH9Um/Z599Vh988EG18djYWK1atUqSFBMTo/Pnz9stT0tLU6NGjQzVU6caL0d55513tGPHDhovAAB%2B4lasWKFNmzYpOTlZpaWlmjp1qlq0aKHHHnus2rozZ87UlClTbF%2BfOHFCo0aN0ujRoyVJ2dnZOn/%2BvLZu3SpfX1/beg0bNjRcj1s2Xlar1dUlAADgdupj4rVq1SpNmjRJMTExkqRnnnlGb7zxRo2NV%2BPGjdW4cWPb188%2B%2B6zuvPNODRw4UJKUmZmpwMBAtW3b9rrruaaT648fP64uXbro448/Vr9%2B/RQTE6MXX3xRpaWlWrRokZ566ik9/PDD6t27t3bu3Kni4mLNnz9f/fv3V48ePfSrX/1KWVlZtv0dPHhQ8fHxioyM1OjRo3X27Fnbso0bNyouLs7u%2B48aNUqLFi2yfb1ixQrFxcUpKipKjz32mI4dO6aNGzcqOTlZO3fuVJcuXa73uAAAgHouOztbWVlZ6tWrl20sOjpaJ06cUE5OzhW3/eKLL/TVV1/p6aefto0dPHhQHTp0MFXTdSVeycnJev3111VaWqpp06apUaNG8vT01LZt2zRr1iz16NFDHTp00PPPP6%2B0tDS98sorCggI0IIFC/TUU09pw4YNKi0t1YQJE2zN25dffqmXXnpJPXv2NFTDe%2B%2B9p%2BTkZM2ePVtdu3bVa6%2B9psmTJ2vt2rU6cOCAdu3aZdekXU1OTo5yc3PtxsrKAhUYGHRNx6Yu8/S0/%2BguLBZXV%2BBYlc/H3Z6XevRwdQWOVfmLnbv9gnfpkqsrcJzwcPuP7mLXLpd969pKvGp6Dw4MDFRQkLn34Mp9Vt1Py5YtJUmnTp264v6XLVumoUOHqnXr1raxzMxMFRYWatSoUTp8%2BLAiIiI0Y8aMa2rGrusteOrUqbbIbvLkyVqwYIHi4%2BPVsmVLxcfHS5IKCgr00Ucf6a233lKfPn0kSQsWLNCAAQP0%2Beefq6ysTPn5%2BZo1a5YaNmyoTp06aefOnTpz5oyhGlJSUjR27FjdddddkqTnnntOb7/9tqSKuVYvLy8FBgYafk4pKSlKTk62G5s4MUGTJiUa3kd9cQ2HBS7k4%2BPqChxsxw5XV1A7/nvCLeqwtWtdXYFjufC3stpqvGp6D05ISFBi4tXfg4uKipSdnV3jsosXL0qSvL29bWOVn5eUlFx2n8eOHdOXX36pmTNn2o0fOnRIBQUFevrpp%2BXv76%2B33npLY8eO1SeffCJ/f/%2Br1ipdZ%2BNVNZW68cYbdebMGZ09e1Zt2rSxjR85ckTl5eWKjIy0jQUEBKhDhw7KzMxUaWmp2rdvb3dCWvfu3fXpp58aquHw4cPq1q2b7euWLVtq%2BvTp1/N0JEkjR46sNrVZVhaoKjOj9Z6nZ0XTlZsrlZa6uhrHadbM1RU4lsVS0XQVF0vudLqib/9YV5fgWF26VDRdo0dL%2B/e7uhrHcbfEa%2B1a6aGHpIwMV1eDK6jpPdhoeJKenm47%2Bf3Hpk6dKqmiyfL572%2BzlQ2Xn5/fZfe5ZcsWRURE6Gc/%2B5nd%2BNtvv61Lly7ZrmBcsGCB%2Bvfvr%2B3bt%2Bvee%2B81VO91NV5eXl62z8v/2/56eHjYnpQku8%2BrKisrs23z45Pgq%2B7XUkNHX1qlW/B08HxZUFBQtcjx6FHpCg1xvVVa6l7Py52ak6qsVjd7brt3u7qC2rF/v3s9N3f64VApI8Ol03PupLYSr5reg42KjY3V/sv88pOdna358%2BcrNzdXoaGhkv43/Xilxu5f//qXbrvttmrj3t7edumZj4%2BPQkNDL5u41eS67ly/b98%2B2%2Bd79%2B5VUFCQAgIC7NZp27atPD09tbvKD6SzZ8/q6NGj6tChgzp37qwjR47Y3Quj6n69vLz0ww8/2L62Wq06fvy47et27dopo8pvMGfPnlWfPn10/PjxGps2AADw0xIcHKyQkBClpqbaxlJTUxUSEnLZRs9qteo///lPtXPOrVarBg4cqI0bN9rGLl68qKNHj6pjx46Ga7qu2GjOnDl68cUXdf78eb3xxht65JFHdOlH8XSjRo00YsQIzZ49W7Nnz1bTpk21YMECtWrVSrfccossFotat26tmTNnavLkyUpPT9fmzZttU5M33nij8vPztXr1ag0YMECrV69WQUGBbf%2BjRo3S3LlzFRYWpk6dOun1119XaGioQkND5efnp5ycHB0/ftzW4QIAAHPq4%2B0k4uPjbf2HJL366qsaN26cbfmZM2fk4%2BNjmz48ceKEfvjhh2rTjBaLRQMGDNCiRYvUpk0bNW/eXG%2B88YZatWql/v37G67nuhKvu%2B66S0888YSefvppjRgxQhMmTKhxvenTp%2Bvmm2/WpEmTFB8fLx8fH73zzjvy9vaWl5eXli5dqoKCAg0dOlR/%2BtOf9PDDD9u2bd%2B%2BvaZPn64lS5ZoyJAhslqtuuOOO2zL77vvPo0bN04vvPCChg0bpuLiYi1cuFCSNGjQIJWXl%2Bvuu%2B/W6dOnr%2BcpAgCAHykvr51HbXrsscd01113KSEhQZMnT9Z9992nsWPH2pYPHz5cy5cvt31d2Tc0bdq02r6mTp2qO%2B64Q1OmTNGIESNUWlqqZcuWqUGDBobrsViv4W6jx48f12233aZt27b9JJKko0ddXYFjeXtLrVtLWVnudRqHyauN6xyLRfL1lYqK3OscL78AN7tMs0ePiis1Y2M5x6uuioqS0tKknj3d7xwvF/1w%2BPnPa2e/X3xRO/uti9zsjk4AAKC21MepxrrmuqYaAQAAcO2uKfEKDQ297CWbAADAvZF4mcdUIwAAMITGyzymGgEAAJyExAsAABhC4mUejRcAADCExss8phoBAACchMQLAAAYQuJlHokXAACAk5B4AQAAQ0i8zKPxAgAAhtB4mcdUIwAAgJOQeAEAAENIvMwj8QIAAHASEi8AAGAIiZd5NF4AAMAQGi/zmGoEAABwEhIvAABgCImXeSReAAAATkLiBQAADCHxMo/GCwAAGELjZR5TjQAAAE5C4gUAAAwh8TKPxAsAAMBJSLwAAIAhJF7m0XgBAABDaLzMY6oRAADASUi8AACAISRe5pF4AQAAOAmJFwAAMITEyzwaLwAAYAiNl3lMNQIAADgJiRcAADCExMs8Ei8AAAAnIfECAACGkHiZR%2BMFAAAMofEyj6lGAAAAJyHxAgAAhpB4mUfiBQAA4CQkXgAAwBASL/NIvAAAgCHl5bXzcAar1apx48Zp48aNV1zv2LFjGjt2rHr06KG77rpLn332md3yf//737rnnnsUGRmp0aNH69ixY9dUB40XAABwa%2BXl5XrxxRf1%2BeefX3E9q9WqiRMnqmXLltqwYYPuu%2B8%2BJSQk6OTJk5KkkydPauLEiRo2bJjWr1%2Bv5s2b66mnnpLVajVcC1ONAADAkPo41Zidna1nnnlGx48fV5MmTa647pdffqljx47pvffeU8OGDdWpUyd98cUX2rBhgxITE7Vu3TrdeOONGjdunCRp7ty5uuWWW7Rz507FxsYaqofECwAAuK1vvvlGrVu31oYNG9S4ceMrrpuenq6uXbuqYcOGtrHo6Gjt3r3btjwmJsa2zM/PT926dbMtN4LECwAAGFJbiVdOTo5yc3PtxgIDAxUUFGR633FxcYqLizO0bm5ubrXv2aJFC506dcrQciNovK6gXTtXV%2BBYOTk5WrQoRSNHjlS7dub/MaN25OTk6K23Kl4nR/zQqTOKi11dgUPl5OQoZdEijfz4Y/d6ndyI7TX6v//jNXKQaziV6ZosWpSi5ORku7GEhAQlJiZedduioiJlZ2fXuCwwMNAuvbqawsJCeXt72415e3urpKTE0HIjaLx%2BQnJzc5WcnKy4uDh%2BCNVhvE71A69T3cdrVH%2BMHDmyWioVGBhoaNv09HSNHj26xmWLFy/WwIEDDdfh4%2BOj/Px8u7GSkhL5%2Bvralv%2B4ySopKbnquWNV0XgBAACXCgoKuu7mODY2Vvv373dIHcHBwTp48KDdWF5enq224OBg5eXlVVseERFh%2BHtwcj0AAICkyMhIffPNNyoqKrKNpaamKjIy0rY8NTXVtqywsFDffvutbbkRNF4AAOAn68yZM/rhhx8kSb1791br1q2VlJSkAwcOaNmyZdqzZ4%2BGDx8uSbr//vuVlpamZcuW6cCBA0pKSlJoaKjhW0lINF4/KYGBgUpISDA8bw7X4HWqH3id6j5eIxgxfPhwLV%2B%2BXJLUoEEDvfnmm8rNzdWwYcP05z//WYsXL1ZISIgkKTQ0VIsWLdKGDRs0fPhw5efna/HixbJYLIa/n8V6LbdbBQAAwHUj8QIAAHASGi8AAAAnofECAABwEhovAAAAJ6HxAgAAcBIaLwAAACeh8QIAAHASGi8AAAAnofECAABwEhovAAAAJ6HxcnNnz55Vdna2zp075%2BpSAMClzpw54%2BoSABovd/TXv/5Vo0ePVo8ePXTzzTdrwIABio2NVVRUlEaNGqWtW7e6ukSgXigpKdH8%2BfPVv39/9ezZUwkJCcrMzLRbJy8vTxERES6qED8WERFRY4N14sQJ3XbbbS6oCLDn6eoC4FgrVqxQcnKyxo8fr4SEBLVo0ULe3t4qKSlRXl6evv76az377LOaPHmyRo0a5epyf7K%2B%2Buorw%2Bv26tWrFivBlbz22mvavn27pk2bJqvVqjVr1uj%2B%2B%2B/XggULNHDgQNt6VqvVhVXiww8/1MaNGyVVvBYTJ06Ul5eX3To5OTkKDAx0RXmAHYuVnxhupV%2B/fnr%2B%2Beft3hR%2BbOvWrZo9e7Y%2B/fRTJ1aGqu69914dPHhQ0pXftC0Wi/bt2%2BessvAj/fv312uvvabo6GhJFa/VvHnztHr1as2fP1%2BDBw9WXl6e%2BvXrx%2BvkQj/88INWrFghSUpOTtajjz6qRo0a2a3TsGFDDRo0SG3btnVFiYANiZebKSoqUmho6BXXCQ4O1vnz551UEWqyYcMGPf300zp%2B/LhSUlLk4%2BPj6pJQg6KiIgUEBNi%2Btlgsmj59ujw8PDR16lR5enoqKirKdQVCktSoUSMlJCRIktq0aaO7775bkuTt7S1JOnnypEJCQlxWH1AV53i5mUGDBunZZ5/V119/rdLSUrtl5eXlSktL04wZM3THHXe4qEJIFW8Ir732miTp9ddfd3E1uJzY2FjNmzev2jlDU6dO1ciRI/Wb3/xGa9eudVF1qEmvXr300EMP6Y033rCN3X///Ro5cqROnTrlwsqACkw1uplt27bpH//4h/785z%2BrrKxMAQEBtnO88vPz1aBBAw0ZMkRJSUny9fV1dbk/WZ9//rl69eqlY8eO6auvvtKDDz7o6pJQgw8//FArV65URkaG3n77bd188812y5OTk7VkyRKVl5cz1VhHjB8/Xo0aNdJzzz2nFi1aSKq4uvv555/XpUuXtGTJEhdXiJ86Gi83ExUVpc2bN6tp06bq3bu35s2bp0uXLsnHx0fBwcGKiIig4aoDoqKi9Je//EWtWrXSbbfdpvXr16tZs2auLgs/Uvn/6eLFi4qPj9eWLVuqvU6ZmZnatm2bJkyY4KIqUVVUVJQ%2B%2Bugj3XDDDXbjhw8f1v3336%2B0tDQXVQZU4BwvN9OkSRO9%2Beab6tmzp8rKynTmzBn5%2B/urqKhIR48e1dGjR23rDhkyxHWF/sQ1adJEixcvVs%2BePXXixAl98skn8vf3r3FdXifXqfr/6dy5c5d9nYKCglxQHWrSrFkzffvtt9Uar0OHDl32/xjgTCRebmbbtm1atGiRzp8/r5MnTyo4OFgeHtVP5bNYLNq2bZsLKoTE61Rf8DrVPytWrNCbb76psWPHqlu3bpKkjIwMvfPOOxo3bhzJJFyOxsuNxcXFacOGDUxh1XG8TvUDr1P98d577%2Bn999/X4cOH5enpqXbt2mnUqFG67777XF0aQOMFAADgLJzjBQBwG8nJyVdcXnm/L8BVaLwAAG5jx44ddl%2BXlZXp%2BPHjOnfuHPcvRJ1A4wUAcBurV6%2Bucfyll16SxWJxcjVAdZzjBQBwe8eOHdOwYcOu6Q/UA7WBPxkEAHB7n376KX8TFXUCU40AALcRFxdXbUrxhx9%2BUEFBgaZPn%2B6iqoD/YaoRAOA2Nm7caNd4WSwWeXl56cYbb1S7du1cWBlQgcYLAADASZhqBADUa6NGjTJ8xeKqVatquRrgymi8AAD1WmxsrO3zs2fPKiUlRQMHDlT37t3l5eWlffv2afPmzXr44YddWCVQgalGAIDbGDt2rG6//XY99NBDduMbN25USkqKUlJSXFQZUIHbSQAA3Mbu3bv185//vNp4ZGSk9u/f74KKAHs0XgAAt9G1a1ctW7ZMxcXFtrELFy5o4cKF6tGjh%2BsKA/6LqUYAgNvIzMzUhAkTVFBQoHbt2slqterIkSMKCQnR0qVL1aZNG1eXiJ84Gi8AgFspKSnRF198oYMHD0qSOnfurJtvvlmenlxPBtfjXyEAwK14e3vL09NTXl5eKi8vl9VqFRkD6goaLwCA2zh16pSeeuopHT58WB06dFBZWZmOHj2qkJAQrVixQsHBwa4uET9xTDUCANzGk08%2BqdLSUi1YsEBNmzaVVHFvr6lTp6phw4ZauHChiyvETx2NFwDAbURFRSklJUVhYWF24xkZGXr44YeVmprqosqACtxOAgDgNpo2baqCgoJq4%2BfOnZOXl5cLKgLs0XgBANzG3Xffrd/%2B9rf64osvdOHCBV24cEGff/65fve73%2Bmuu%2B5ydXkAU40AAPdRUlKi5557Tn/%2B859tVzI2aNBAI0aM0PTp0%2BXr6%2BviCvFTR%2BMFAHAbX3/9tbp3767i4mIdOXJE3t7euuGGG9SwYUNXlwZIovECALiR2NhYrVy5UuHh4a4uBagR53gBANxG586dtWfPHleXAVwWiRcAwG1MnDhR27ZtU8uWLRUaGipvb2%2B75atWrXJRZUAF7lwPAHAbERERioiIkNVqVX5%2BviwWiwICAlxdFmBD4gUAcBtlZWVauHCh1q1bpzNnzkiSgoOD9fDDD2vChAkurg4g8QIAuJFXXnlFW7Zs0TPPPKMbb7xR5eXl%2Bs9//qOFCxeqpKRECQkJri4RP3EkXgAAt9GrVy8tXrxYvXv3thv/97//rWeeeUb//ve/XVQZUIGrGgEAbsPPz6/GPw3UpEkTWSwWF1QE2KPxAgC4jWnTpmnGjBnavn278vPzdeHCBX399df63e9%2BpzFjxujkyZO2B%2BAKTDUCANxG1RunViZcVd/mLBaLrFarLBaL9u3b5/T6ABovAIDbOHHihOF127RpU4uVADWj8QIAAHASzvECAABwEhovAAAAJ6HxAgAAcBIaLwAAACeh8QIAAHASGi8AAAAnofECAABwkv8HBWFvasHiFHAAAAAASUVORK5CYII%3D\" class=\"center-img\">\n",
       "</div>\n",
       "    <div class=\"row headerrow highlight\">\n",
       "        <h1>Sample</h1>\n",
       "    </div>\n",
       "    <div class=\"row variablerow\">\n",
       "    <div class=\"col-md-12\" style=\"overflow:scroll; width: 100%%; overflow-y: hidden;\">\n",
       "        <table border=\"1\" class=\"dataframe sample\">\n",
       "  <thead>\n",
       "    <tr style=\"text-align: right;\">\n",
       "      <th></th>\n",
       "      <th>id</th>\n",
       "      <th>f0</th>\n",
       "      <th>f1</th>\n",
       "      <th>f2</th>\n",
       "      <th>product</th>\n",
       "    </tr>\n",
       "  </thead>\n",
       "  <tbody>\n",
       "    <tr>\n",
       "      <th>0</th>\n",
       "      <td>kBEdx</td>\n",
       "      <td>-15.001348</td>\n",
       "      <td>-8.276000</td>\n",
       "      <td>-0.005876</td>\n",
       "      <td>3.179103</td>\n",
       "    </tr>\n",
       "    <tr>\n",
       "      <th>1</th>\n",
       "      <td>62mP7</td>\n",
       "      <td>14.272088</td>\n",
       "      <td>-3.475083</td>\n",
       "      <td>0.999183</td>\n",
       "      <td>26.953261</td>\n",
       "    </tr>\n",
       "    <tr>\n",
       "      <th>2</th>\n",
       "      <td>vyE1P</td>\n",
       "      <td>6.263187</td>\n",
       "      <td>-5.948386</td>\n",
       "      <td>5.001160</td>\n",
       "      <td>134.766305</td>\n",
       "    </tr>\n",
       "    <tr>\n",
       "      <th>3</th>\n",
       "      <td>KcrkZ</td>\n",
       "      <td>-13.081196</td>\n",
       "      <td>-11.506057</td>\n",
       "      <td>4.999415</td>\n",
       "      <td>137.945408</td>\n",
       "    </tr>\n",
       "    <tr>\n",
       "      <th>4</th>\n",
       "      <td>AHL4O</td>\n",
       "      <td>12.702195</td>\n",
       "      <td>-8.147433</td>\n",
       "      <td>5.004363</td>\n",
       "      <td>134.766305</td>\n",
       "    </tr>\n",
       "  </tbody>\n",
       "</table>\n",
       "    </div>\n",
       "</div>\n",
       "</div>"
      ],
      "text/plain": [
       "<pandas_profiling.ProfileReport at 0x1df15130388>"
      ]
     },
     "execution_count": 10,
     "metadata": {},
     "output_type": "execute_result"
    }
   ],
   "source": [
    "pandas_profiling.ProfileReport(data_1) #получение отчета разведочного анализа данных для региона 1"
   ]
  },
  {
   "cell_type": "markdown",
   "metadata": {},
   "source": [
    "**Ознакомление с данными по региону 2** "
   ]
  },
  {
   "cell_type": "code",
   "execution_count": 11,
   "metadata": {
    "scrolled": true
   },
   "outputs": [
    {
     "data": {
      "text/html": [
       "<meta charset=\"UTF-8\">\n",
       "\n",
       "<style>\n",
       "\n",
       "        .variablerow {\n",
       "            border: 1px solid #e1e1e8;\n",
       "            border-top: hidden;\n",
       "            padding-top: 2em;\n",
       "            padding-bottom: 2em;\n",
       "            padding-left: 1em;\n",
       "            padding-right: 1em;\n",
       "        }\n",
       "\n",
       "        .headerrow {\n",
       "            border: 1px solid #e1e1e8;\n",
       "            background-color: #f5f5f5;\n",
       "            padding: 2em;\n",
       "        }\n",
       "        .namecol {\n",
       "            margin-top: -1em;\n",
       "            overflow-x: auto;\n",
       "        }\n",
       "\n",
       "        .dl-horizontal dt {\n",
       "            text-align: left;\n",
       "            padding-right: 1em;\n",
       "            white-space: normal;\n",
       "        }\n",
       "\n",
       "        .dl-horizontal dd {\n",
       "            margin-left: 0;\n",
       "        }\n",
       "\n",
       "        .ignore {\n",
       "            opacity: 0.4;\n",
       "        }\n",
       "\n",
       "        .container.pandas-profiling {\n",
       "            max-width:975px;\n",
       "        }\n",
       "\n",
       "        .col-md-12 {\n",
       "            padding-left: 2em;\n",
       "        }\n",
       "\n",
       "        .indent {\n",
       "            margin-left: 1em;\n",
       "        }\n",
       "\n",
       "        .center-img {\n",
       "            margin-left: auto !important;\n",
       "            margin-right: auto !important;\n",
       "            display: block;\n",
       "        }\n",
       "\n",
       "        /* Table example_values */\n",
       "            table.example_values {\n",
       "                border: 0;\n",
       "            }\n",
       "\n",
       "            .example_values th {\n",
       "                border: 0;\n",
       "                padding: 0 ;\n",
       "                color: #555;\n",
       "                font-weight: 600;\n",
       "            }\n",
       "\n",
       "            .example_values tr, .example_values td{\n",
       "                border: 0;\n",
       "                padding: 0;\n",
       "                color: #555;\n",
       "            }\n",
       "\n",
       "        /* STATS */\n",
       "            table.stats {\n",
       "                border: 0;\n",
       "            }\n",
       "\n",
       "            .stats th {\n",
       "                border: 0;\n",
       "                padding: 0 2em 0 0;\n",
       "                color: #555;\n",
       "                font-weight: 600;\n",
       "            }\n",
       "\n",
       "            .stats tr {\n",
       "                border: 0;\n",
       "            }\n",
       "\n",
       "            .stats td{\n",
       "                color: #555;\n",
       "                padding: 1px;\n",
       "                border: 0;\n",
       "            }\n",
       "\n",
       "\n",
       "        /* Sample table */\n",
       "            table.sample {\n",
       "                border: 0;\n",
       "                margin-bottom: 2em;\n",
       "                margin-left:1em;\n",
       "            }\n",
       "            .sample tr {\n",
       "                border:0;\n",
       "            }\n",
       "            .sample td, .sample th{\n",
       "                padding: 0.5em;\n",
       "                white-space: nowrap;\n",
       "                border: none;\n",
       "\n",
       "            }\n",
       "\n",
       "            .sample thead {\n",
       "                border-top: 0;\n",
       "                border-bottom: 2px solid #ddd;\n",
       "            }\n",
       "\n",
       "            .sample td {\n",
       "                width:100%;\n",
       "            }\n",
       "\n",
       "\n",
       "        /* There is no good solution available to make the divs equal height and then center ... */\n",
       "            .histogram {\n",
       "                margin-top: 3em;\n",
       "            }\n",
       "        /* Freq table */\n",
       "\n",
       "            table.freq {\n",
       "                margin-bottom: 2em;\n",
       "                border: 0;\n",
       "            }\n",
       "            table.freq th, table.freq tr, table.freq td {\n",
       "                border: 0;\n",
       "                padding: 0;\n",
       "            }\n",
       "\n",
       "            .freq thead {\n",
       "                font-weight: 600;\n",
       "                white-space: nowrap;\n",
       "                overflow: hidden;\n",
       "                text-overflow: ellipsis;\n",
       "\n",
       "            }\n",
       "\n",
       "            td.fillremaining{\n",
       "                width:auto;\n",
       "                max-width: none;\n",
       "            }\n",
       "\n",
       "            td.number, th.number {\n",
       "                text-align:right ;\n",
       "            }\n",
       "\n",
       "        /* Freq mini */\n",
       "            .freq.mini td{\n",
       "                width: 50%;\n",
       "                padding: 1px;\n",
       "                font-size: 12px;\n",
       "\n",
       "            }\n",
       "            table.freq.mini {\n",
       "                 width:100%;\n",
       "            }\n",
       "            .freq.mini th {\n",
       "                overflow: hidden;\n",
       "                text-overflow: ellipsis;\n",
       "                white-space: nowrap;\n",
       "                max-width: 5em;\n",
       "                font-weight: 400;\n",
       "                text-align:right;\n",
       "                padding-right: 0.5em;\n",
       "            }\n",
       "\n",
       "            .missing {\n",
       "                color: #a94442;\n",
       "            }\n",
       "            .alert, .alert > th, .alert > td {\n",
       "                color: #a94442;\n",
       "            }\n",
       "\n",
       "\n",
       "        /* Bars in tables */\n",
       "            .freq .bar{\n",
       "                float: left;\n",
       "                width: 0;\n",
       "                height: 100%;\n",
       "                line-height: 20px;\n",
       "                color: #fff;\n",
       "                text-align: center;\n",
       "                background-color: #337ab7;\n",
       "                border-radius: 3px;\n",
       "                margin-right: 4px;\n",
       "            }\n",
       "            .other .bar {\n",
       "                background-color: #999;\n",
       "            }\n",
       "            .missing .bar{\n",
       "                background-color: #a94442;\n",
       "            }\n",
       "            .tooltip-inner {\n",
       "                width: 100%;\n",
       "                white-space: nowrap;\n",
       "                text-align:left;\n",
       "            }\n",
       "\n",
       "            .extrapadding{\n",
       "                padding: 2em;\n",
       "            }\n",
       "\n",
       "            .pp-anchor{\n",
       "\n",
       "            }\n",
       "\n",
       "</style>\n",
       "\n",
       "<div class=\"container pandas-profiling\">\n",
       "    <div class=\"row headerrow highlight\">\n",
       "        <h1>Overview</h1>\n",
       "    </div>\n",
       "    <div class=\"row variablerow\">\n",
       "    <div class=\"col-md-6 namecol\">\n",
       "        <p class=\"h4\">Dataset info</p>\n",
       "        <table class=\"stats\" style=\"margin-left: 1em;\">\n",
       "            <tbody>\n",
       "            <tr>\n",
       "                <th>Number of variables</th>\n",
       "                <td>5 </td>\n",
       "            </tr>\n",
       "            <tr>\n",
       "                <th>Number of observations</th>\n",
       "                <td>100000 </td>\n",
       "            </tr>\n",
       "            <tr>\n",
       "                <th>Total Missing (%)</th>\n",
       "                <td>0.0% </td>\n",
       "            </tr>\n",
       "            <tr>\n",
       "                <th>Total size in memory</th>\n",
       "                <td>3.8 MiB </td>\n",
       "            </tr>\n",
       "            <tr>\n",
       "                <th>Average record size in memory</th>\n",
       "                <td>40.0 B </td>\n",
       "            </tr>\n",
       "            </tbody>\n",
       "        </table>\n",
       "    </div>\n",
       "    <div class=\"col-md-6 namecol\">\n",
       "        <p class=\"h4\">Variables types</p>\n",
       "        <table class=\"stats\" style=\"margin-left: 1em;\">\n",
       "            <tbody>\n",
       "            <tr>\n",
       "                <th>Numeric</th>\n",
       "                <td>4 </td>\n",
       "            </tr>\n",
       "            <tr>\n",
       "                <th>Categorical</th>\n",
       "                <td>1 </td>\n",
       "            </tr>\n",
       "            <tr>\n",
       "                <th>Boolean</th>\n",
       "                <td>0 </td>\n",
       "            </tr>\n",
       "            <tr>\n",
       "                <th>Date</th>\n",
       "                <td>0 </td>\n",
       "            </tr>\n",
       "            <tr>\n",
       "                <th>Text (Unique)</th>\n",
       "                <td>0 </td>\n",
       "            </tr>\n",
       "            <tr>\n",
       "                <th>Rejected</th>\n",
       "                <td>0 </td>\n",
       "            </tr>\n",
       "            <tr>\n",
       "                <th>Unsupported</th>\n",
       "                <td>0 </td>\n",
       "            </tr>\n",
       "            </tbody>\n",
       "        </table>\n",
       "    </div>\n",
       "    <div class=\"col-md-12\" style=\"padding-left: 1em;\">\n",
       "        \n",
       "        <p class=\"h4\">Warnings</p>\n",
       "        <ul class=\"list-unstyled\"><li><a href=\"#pp_var_id\"><code>id</code></a> has a high cardinality: 99996 distinct values  <span class=\"label label-warning\">Warning</span></li> </ul>\n",
       "    </div>\n",
       "</div>\n",
       "    <div class=\"row headerrow highlight\">\n",
       "        <h1>Variables</h1>\n",
       "    </div>\n",
       "    <div class=\"row variablerow\">\n",
       "    <div class=\"col-md-3 namecol\">\n",
       "        <p class=\"h4 pp-anchor\" id=\"pp_var_id\">id<br/>\n",
       "            <small>Categorical</small>\n",
       "        </p>\n",
       "    </div><div class=\"col-md-3\">\n",
       "    <table class=\"stats \">\n",
       "        <tr class=\"alert\">\n",
       "            <th>Distinct count</th>\n",
       "            <td>99996</td>\n",
       "        </tr>\n",
       "        <tr>\n",
       "            <th>Unique (%)</th>\n",
       "            <td>100.0%</td>\n",
       "        </tr>\n",
       "        <tr class=\"ignore\">\n",
       "            <th>Missing (%)</th>\n",
       "            <td>0.0%</td>\n",
       "        </tr>\n",
       "        <tr class=\"ignore\">\n",
       "            <th>Missing (n)</th>\n",
       "            <td>0</td>\n",
       "        </tr>\n",
       "    </table>\n",
       "</div>\n",
       "<div class=\"col-md-6 collapse in\" id=\"minifreqtable-3739705186233904590\">\n",
       "    <table class=\"mini freq\">\n",
       "        <tr class=\"\">\n",
       "    <th>VF7Jo</th>\n",
       "    <td>\n",
       "        <div class=\"bar\" style=\"width:1%\" data-toggle=\"tooltip\" data-placement=\"right\" data-html=\"true\"\n",
       "             data-delay=500 title=\"Percentage: 0.0%\">\n",
       "            &nbsp;\n",
       "        </div>\n",
       "        2\n",
       "    </td>\n",
       "</tr><tr class=\"\">\n",
       "    <th>KUPhW</th>\n",
       "    <td>\n",
       "        <div class=\"bar\" style=\"width:1%\" data-toggle=\"tooltip\" data-placement=\"right\" data-html=\"true\"\n",
       "             data-delay=500 title=\"Percentage: 0.0%\">\n",
       "            &nbsp;\n",
       "        </div>\n",
       "        2\n",
       "    </td>\n",
       "</tr><tr class=\"\">\n",
       "    <th>Vcm5J</th>\n",
       "    <td>\n",
       "        <div class=\"bar\" style=\"width:1%\" data-toggle=\"tooltip\" data-placement=\"right\" data-html=\"true\"\n",
       "             data-delay=500 title=\"Percentage: 0.0%\">\n",
       "            &nbsp;\n",
       "        </div>\n",
       "        2\n",
       "    </td>\n",
       "</tr><tr class=\"other\">\n",
       "    <th>Other values (99993)</th>\n",
       "    <td>\n",
       "        <div class=\"bar\" style=\"width:100%\" data-toggle=\"tooltip\" data-placement=\"right\" data-html=\"true\"\n",
       "             data-delay=500 title=\"Percentage: 100.0%\">\n",
       "            99994\n",
       "        </div>\n",
       "        \n",
       "    </td>\n",
       "</tr>\n",
       "    </table>\n",
       "</div>\n",
       "<div class=\"col-md-12 text-right\">\n",
       "    <a role=\"button\" data-toggle=\"collapse\" data-target=\"#freqtable-3739705186233904590, #minifreqtable-3739705186233904590\"\n",
       "       aria-expanded=\"true\" aria-controls=\"collapseExample\">\n",
       "        Toggle details\n",
       "    </a>\n",
       "</div>\n",
       "<div class=\"col-md-12 extrapadding collapse\" id=\"freqtable-3739705186233904590\">\n",
       "    \n",
       "<table class=\"freq table table-hover\">\n",
       "    <thead>\n",
       "    <tr>\n",
       "        <td class=\"fillremaining\">Value</td>\n",
       "        <td class=\"number\">Count</td>\n",
       "        <td class=\"number\">Frequency (%)</td>\n",
       "        <td style=\"min-width:200px\">&nbsp;</td>\n",
       "    </tr>\n",
       "    </thead>\n",
       "    <tr class=\"\">\n",
       "        <td class=\"fillremaining\">VF7Jo</td>\n",
       "        <td class=\"number\">2</td>\n",
       "        <td class=\"number\">0.0%</td>\n",
       "        <td>\n",
       "            <div class=\"bar\" style=\"width:1%\">&nbsp;</div>\n",
       "        </td>\n",
       "</tr><tr class=\"\">\n",
       "        <td class=\"fillremaining\">KUPhW</td>\n",
       "        <td class=\"number\">2</td>\n",
       "        <td class=\"number\">0.0%</td>\n",
       "        <td>\n",
       "            <div class=\"bar\" style=\"width:1%\">&nbsp;</div>\n",
       "        </td>\n",
       "</tr><tr class=\"\">\n",
       "        <td class=\"fillremaining\">Vcm5J</td>\n",
       "        <td class=\"number\">2</td>\n",
       "        <td class=\"number\">0.0%</td>\n",
       "        <td>\n",
       "            <div class=\"bar\" style=\"width:1%\">&nbsp;</div>\n",
       "        </td>\n",
       "</tr><tr class=\"\">\n",
       "        <td class=\"fillremaining\">xCHr8</td>\n",
       "        <td class=\"number\">2</td>\n",
       "        <td class=\"number\">0.0%</td>\n",
       "        <td>\n",
       "            <div class=\"bar\" style=\"width:1%\">&nbsp;</div>\n",
       "        </td>\n",
       "</tr><tr class=\"\">\n",
       "        <td class=\"fillremaining\">gaZw7</td>\n",
       "        <td class=\"number\">1</td>\n",
       "        <td class=\"number\">0.0%</td>\n",
       "        <td>\n",
       "            <div class=\"bar\" style=\"width:1%\">&nbsp;</div>\n",
       "        </td>\n",
       "</tr><tr class=\"\">\n",
       "        <td class=\"fillremaining\">1aD9F</td>\n",
       "        <td class=\"number\">1</td>\n",
       "        <td class=\"number\">0.0%</td>\n",
       "        <td>\n",
       "            <div class=\"bar\" style=\"width:1%\">&nbsp;</div>\n",
       "        </td>\n",
       "</tr><tr class=\"\">\n",
       "        <td class=\"fillremaining\">abLYb</td>\n",
       "        <td class=\"number\">1</td>\n",
       "        <td class=\"number\">0.0%</td>\n",
       "        <td>\n",
       "            <div class=\"bar\" style=\"width:1%\">&nbsp;</div>\n",
       "        </td>\n",
       "</tr><tr class=\"\">\n",
       "        <td class=\"fillremaining\">m9NnV</td>\n",
       "        <td class=\"number\">1</td>\n",
       "        <td class=\"number\">0.0%</td>\n",
       "        <td>\n",
       "            <div class=\"bar\" style=\"width:1%\">&nbsp;</div>\n",
       "        </td>\n",
       "</tr><tr class=\"\">\n",
       "        <td class=\"fillremaining\">7EYzt</td>\n",
       "        <td class=\"number\">1</td>\n",
       "        <td class=\"number\">0.0%</td>\n",
       "        <td>\n",
       "            <div class=\"bar\" style=\"width:1%\">&nbsp;</div>\n",
       "        </td>\n",
       "</tr><tr class=\"\">\n",
       "        <td class=\"fillremaining\">W6tgx</td>\n",
       "        <td class=\"number\">1</td>\n",
       "        <td class=\"number\">0.0%</td>\n",
       "        <td>\n",
       "            <div class=\"bar\" style=\"width:1%\">&nbsp;</div>\n",
       "        </td>\n",
       "</tr><tr class=\"other\">\n",
       "        <td class=\"fillremaining\">Other values (99986)</td>\n",
       "        <td class=\"number\">99986</td>\n",
       "        <td class=\"number\">100.0%</td>\n",
       "        <td>\n",
       "            <div class=\"bar\" style=\"width:100%\">&nbsp;</div>\n",
       "        </td>\n",
       "</tr>\n",
       "</table>\n",
       "</div>\n",
       "</div><div class=\"row variablerow\">\n",
       "    <div class=\"col-md-3 namecol\">\n",
       "        <p class=\"h4 pp-anchor\" id=\"pp_var_f0\">f0<br/>\n",
       "            <small>Numeric</small>\n",
       "        </p>\n",
       "    </div><div class=\"col-md-6\">\n",
       "    <div class=\"row\">\n",
       "        <div class=\"col-sm-6\">\n",
       "            <table class=\"stats \">\n",
       "                <tr>\n",
       "                    <th>Distinct count</th>\n",
       "                    <td>100000</td>\n",
       "                </tr>\n",
       "                <tr>\n",
       "                    <th>Unique (%)</th>\n",
       "                    <td>100.0%</td>\n",
       "                </tr>\n",
       "                <tr class=\"ignore\">\n",
       "                    <th>Missing (%)</th>\n",
       "                    <td>0.0%</td>\n",
       "                </tr>\n",
       "                <tr class=\"ignore\">\n",
       "                    <th>Missing (n)</th>\n",
       "                    <td>0</td>\n",
       "                </tr>\n",
       "                <tr class=\"ignore\">\n",
       "                    <th>Infinite (%)</th>\n",
       "                    <td>0.0%</td>\n",
       "                </tr>\n",
       "                <tr class=\"ignore\">\n",
       "                    <th>Infinite (n)</th>\n",
       "                    <td>0</td>\n",
       "                </tr>\n",
       "            </table>\n",
       "\n",
       "        </div>\n",
       "        <div class=\"col-sm-6\">\n",
       "            <table class=\"stats \">\n",
       "\n",
       "                <tr>\n",
       "                    <th>Mean</th>\n",
       "                    <td>0.0020227</td>\n",
       "                </tr>\n",
       "                <tr>\n",
       "                    <th>Minimum</th>\n",
       "                    <td>-8.76</td>\n",
       "                </tr>\n",
       "                <tr>\n",
       "                    <th>Maximum</th>\n",
       "                    <td>7.2383</td>\n",
       "                </tr>\n",
       "                <tr class=\"ignore\">\n",
       "                    <th>Zeros (%)</th>\n",
       "                    <td>0.0%</td>\n",
       "                </tr>\n",
       "            </table>\n",
       "        </div>\n",
       "    </div>\n",
       "</div>\n",
       "<div class=\"col-md-3 collapse in\" id=\"minihistogram-3521790219913727306\">\n",
       "    <img src=\"data:image/png;base64,iVBORw0KGgoAAAANSUhEUgAAAMgAAABLCAYAAAA1fMjoAAAAOXRFWHRTb2Z0d2FyZQBNYXRwbG90bGliIHZlcnNpb24zLjUuMywgaHR0cHM6Ly9tYXRwbG90bGliLm9yZy/NK7nSAAAACXBIWXMAAA9hAAAPYQGoP6dpAAABx0lEQVR4nO3dMdLSUBSG4RPGNqFnyC5chHuytnQ/LsJdwLCAZCwsJBbKX1h8ioM3P%2BZ5enLCkHcuhAS6ZVmWaux8Ptc4jq3H8uROp1Mdj8emM980nfZT3/dV9eMJD8Owxi7wRKZpqnEcX46bllYJpOu6qqoahkEgv3j7/tPdj/n84d0/2JPX53bctLRrPhGeiEAgEAgEAoFAIBAIBAKBQCAQCAQCgUAgEAgEAoFAIBAIBIJVLnffir%2B5dJ3XxQoCgRXkP3DvSrWVG6wewQoCgUAgEAgEAoFAIBAIBAKBQCAQCAQCgUAgEAgEAoFAIBAIBAKBQCAQCAQCgUAgEAgE7km/g18p2R6BbJB/0v1z3mJBIBAIBAKBQCAQCAQCgWCzp3l9p3GfrZ4aXiWQZVmqqmqapjXGV1XVt69fVpu9FY96fW/buR03La0SyDzPVVU1juMa42lk//Gx25vnufb7/WM3%2BhvdskKW1%2Bu1LpdL9X1fXde1Hs%2BTWZal5nmuw%2BFQu13bj82rBALPwlksCAQCgUAgEAgEAoFAIBAIBAKBQCAQCAQCgUAgEAgEAoFAIBAIBAKBQCAQCAQCgUAgEAgEAoFAIBAIBILv9pZNsEEh6goAAAAASUVORK5CYII%3D\">\n",
       "\n",
       "</div>\n",
       "<div class=\"col-md-12 text-right\">\n",
       "    <a role=\"button\" data-toggle=\"collapse\" data-target=\"#descriptives-3521790219913727306,#minihistogram-3521790219913727306\"\n",
       "       aria-expanded=\"false\" aria-controls=\"collapseExample\">\n",
       "        Toggle details\n",
       "    </a>\n",
       "</div>\n",
       "<div class=\"row collapse col-md-12\" id=\"descriptives-3521790219913727306\">\n",
       "    <ul class=\"nav nav-tabs\" role=\"tablist\">\n",
       "        <li role=\"presentation\" class=\"active\"><a href=\"#quantiles-3521790219913727306\"\n",
       "                                                  aria-controls=\"quantiles-3521790219913727306\" role=\"tab\"\n",
       "                                                  data-toggle=\"tab\">Statistics</a></li>\n",
       "        <li role=\"presentation\"><a href=\"#histogram-3521790219913727306\" aria-controls=\"histogram-3521790219913727306\"\n",
       "                                   role=\"tab\" data-toggle=\"tab\">Histogram</a></li>\n",
       "        <li role=\"presentation\"><a href=\"#common-3521790219913727306\" aria-controls=\"common-3521790219913727306\"\n",
       "                                   role=\"tab\" data-toggle=\"tab\">Common Values</a></li>\n",
       "        <li role=\"presentation\"><a href=\"#extreme-3521790219913727306\" aria-controls=\"extreme-3521790219913727306\"\n",
       "                                   role=\"tab\" data-toggle=\"tab\">Extreme Values</a></li>\n",
       "\n",
       "    </ul>\n",
       "\n",
       "    <div class=\"tab-content\">\n",
       "        <div role=\"tabpanel\" class=\"tab-pane active row\" id=\"quantiles-3521790219913727306\">\n",
       "            <div class=\"col-md-4 col-md-offset-1\">\n",
       "                <p class=\"h4\">Quantile statistics</p>\n",
       "                <table class=\"stats indent\">\n",
       "                    <tr>\n",
       "                        <th>Minimum</th>\n",
       "                        <td>-8.76</td>\n",
       "                    </tr>\n",
       "                    <tr>\n",
       "                        <th>5-th percentile</th>\n",
       "                        <td>-2.848</td>\n",
       "                    </tr>\n",
       "                    <tr>\n",
       "                        <th>Q1</th>\n",
       "                        <td>-1.1623</td>\n",
       "                    </tr>\n",
       "                    <tr>\n",
       "                        <th>Median</th>\n",
       "                        <td>0.0094236</td>\n",
       "                    </tr>\n",
       "                    <tr>\n",
       "                        <th>Q3</th>\n",
       "                        <td>1.1585</td>\n",
       "                    </tr>\n",
       "                    <tr>\n",
       "                        <th>95-th percentile</th>\n",
       "                        <td>2.8512</td>\n",
       "                    </tr>\n",
       "                    <tr>\n",
       "                        <th>Maximum</th>\n",
       "                        <td>7.2383</td>\n",
       "                    </tr>\n",
       "                    <tr>\n",
       "                        <th>Range</th>\n",
       "                        <td>15.998</td>\n",
       "                    </tr>\n",
       "                    <tr>\n",
       "                        <th>Interquartile range</th>\n",
       "                        <td>2.3208</td>\n",
       "                    </tr>\n",
       "                </table>\n",
       "            </div>\n",
       "            <div class=\"col-md-4 col-md-offset-2\">\n",
       "                <p class=\"h4\">Descriptive statistics</p>\n",
       "                <table class=\"stats indent\">\n",
       "                    <tr>\n",
       "                        <th>Standard deviation</th>\n",
       "                        <td>1.732</td>\n",
       "                    </tr>\n",
       "                    <tr>\n",
       "                        <th>Coef of variation</th>\n",
       "                        <td>856.3</td>\n",
       "                    </tr>\n",
       "                    <tr>\n",
       "                        <th>Kurtosis</th>\n",
       "                        <td>0.015364</td>\n",
       "                    </tr>\n",
       "                    <tr>\n",
       "                        <th>Mean</th>\n",
       "                        <td>0.0020227</td>\n",
       "                    </tr>\n",
       "                    <tr>\n",
       "                        <th>MAD</th>\n",
       "                        <td>1.3798</td>\n",
       "                    </tr>\n",
       "                    <tr class=\"\">\n",
       "                        <th>Skewness</th>\n",
       "                        <td>0.0039412</td>\n",
       "                    </tr>\n",
       "                    <tr>\n",
       "                        <th>Sum</th>\n",
       "                        <td>202.27</td>\n",
       "                    </tr>\n",
       "                    <tr>\n",
       "                        <th>Variance</th>\n",
       "                        <td>3</td>\n",
       "                    </tr>\n",
       "                    <tr>\n",
       "                        <th>Memory size</th>\n",
       "                        <td>781.4 KiB</td>\n",
       "                    </tr>\n",
       "                </table>\n",
       "            </div>\n",
       "        </div>\n",
       "        <div role=\"tabpanel\" class=\"tab-pane col-md-8 col-md-offset-2\" id=\"histogram-3521790219913727306\">\n",
       "            <img src=\"data:image/png;base64,iVBORw0KGgoAAAANSUhEUgAAAlgAAAGQCAYAAAByNR6YAAAAOXRFWHRTb2Z0d2FyZQBNYXRwbG90bGliIHZlcnNpb24zLjUuMywgaHR0cHM6Ly9tYXRwbG90bGliLm9yZy/NK7nSAAAACXBIWXMAAA9hAAAPYQGoP6dpAAA24UlEQVR4nO3de1hVdd7//xeg4CE3HgFJVFLTuD2NaLgnazIZtoldmc7cmlaopLfe6KiMiaS3ZoehbDyVJs04I3ant4eZbCZNHMJDmZSK4amwUhs12EipbKUEhP39ox/r104ry4/uDT4f17Wuy7XWe38%2B78/2Sl6tvfbCz%2B12uwUAAABj/L3dAAAAQG1DwAIAADCMgAUAAGAYAQsAAMAwAhYAAIBhBCwAAADDCFgAAACGEbAAAAAMI2ABAAAYRsACAAAwjIAFAABgGAELAADAMAIWAACAYQQsAAAAwwhYAAAAhhGwAAAADCNgAQAAGEbAAgAAMIyABQAAYBgBCwAAwDACFgAAgGEELAAAAMMIWAAAAIYRsAAAAAwjYAEAABhGwAIAADCMgAUAAGAYAQsAAMAwAhYAAIBhBCwAAADDCFgAAACGEbAAAAAMI2ABAAAYRsACAAAwjIAFAABgGAELAADAMAIWAACAYQQsAAAAw%2Bp4u4EbQVVVlQoKCtSoUSP5%2Bfl5ux0AAG4Ibrdb586dU3h4uPz9r%2B81JQLWdVBQUKCIiAhvtwEAwA3pxIkTatWq1XWdk4B1HTRq1EjSN3/BNpvNy90AAHBjcLlcioiIsH4OX08ErOug%2BmNBm81GwAIA4Drzxu053OQOAABgGAELAADAMAIWAACAYQQsAAAAwwhYAAAAhhGwAAAADCNgAQAAGEbAAgAAMIyABQAAYBgBCwAAwDACFgAAgGEELAAAAMP4Zc8A8CN6zsj0dgs/yZ5n%2Bnu7BeCGxxUsAAAAwwhYAAAAhvlswFq6dKm6du0qm80mm80mu92uTZs2Wefvvvtu%2Bfn5eWzjxo3zGOP48eOKj49XgwYNFBISoscee0wXL170qNm2bZt69OihoKAgtW/fXhkZGZf0smTJErVt21b16tVTTEyMdu3adU3WDAAAagefDVitWrXSs88%2Bq9zcXO3Zs0f33HOP7r//fh06dMiqGTNmjAoLC61t7ty51rnKykrFx8ervLxcO3fu1IoVK5SRkaFZs2ZZNceOHVN8fLz69u2rvLw8TZ48WY8%2B%2Bqg2b95s1axZs0bJycmaPXu29u7dq27dusnhcOjUqVPX540AAAA1jp/b7XZ7u4kr1bRpUz3//PNKTEzU3Xffre7du2vhwoWXrd20aZMGDhyogoIChYaGSpLS09OVkpKi4uJiBQYGKiUlRRs3btTBgwet1w0bNkxnz55VZuY3N7XGxMSoV69eWrx4sSSpqqpKERERmjhxoqZPn35FfbtcLgUHB6ukpEQ2m%2B0q3gEA3sBN7kDN5M2fvz57BevbKisrtXr1apWWlsput1vHV65cqebNm6tz585KTU3VV199ZZ3LyclRly5drHAlSQ6HQy6Xy7oKlpOTo9jYWI%2B5HA6HcnJyJEnl5eXKzc31qPH391dsbKxVAwAA8F0%2B/ZiGAwcOyG6368KFC7rpppu0fv16RUVFSZKGDx%2BuNm3aKDw8XPv371dKSooOHz6s1157TZLkdDo9wpUka9/pdP5gjcvl0tdff60zZ86osrLysjX5%2Bfnf23dZWZnKysqsfZfL9TPfAQAAUBP5dMDq2LGj8vLyVFJSor/97W9KSEjQ9u3bFRUVpbFjx1p1Xbp0UcuWLdWvXz8dOXJE7dq182LXUlpamubMmePVHgAAgPf49EeEgYGBat%2B%2BvaKjo5WWlqZu3bpp0aJFl62NiYmRJH366aeSpLCwMBUVFXnUVO%2BHhYX9YI3NZlP9%2BvXVvHlzBQQEXLameozLSU1NVUlJibWdOHHiJ6waAADUdD4dsL6rqqrK46O3b8vLy5MktWzZUpJkt9t14MABj2/7ZWVlyWazWR8z2u12ZWdne4yTlZVl3ecVGBio6Ohoj5qqqiplZ2d73Av2XUFBQdbjJao3AABw4/DZjwhTU1N17733qnXr1jp37pxWrVqlbdu2afPmzTpy5IhWrVqlAQMGqFmzZtq/f7%2BmTJmiu%2B66S127dpUkxcXFKSoqSg8//LDmzp0rp9OpmTNnKikpSUFBQZKkcePGafHixZo2bZpGjx6tLVu2aO3atdq4caPVR3JyshISEtSzZ0/dfvvtWrhwoUpLSzVq1CivvC8AAMD3%2BWzAOnXqlB555BEVFhYqODhYXbt21ebNm/XrX/9aJ06c0FtvvWWFnYiICA0ZMkQzZ860Xh8QEKANGzZo/PjxstvtatiwoRISEvTkk09aNZGRkdq4caOmTJmiRYsWqVWrVlq2bJkcDodVM3ToUBUXF2vWrFlyOp3q3r27MjMzL7nxHQAAoFqNeg5WTcVzsICajedgATUTz8ECAACoRQhYAAAAhhGwAAAADCNgAQAAGEbAAgAAMIyABQAAYBgBCwAAwDACFgAAgGEELAAAAMMIWAAAAIYRsAAAAAwjYAEAABhGwAIAADCMgAUAAGAYAQsAAMAwAhYAAIBhBCwAAADDCFgAAACGEbAAAAAMI2ABAAAYRsACAAAwjIAFAABgGAELAADAMAIWAACAYQQsAAAAwwhYAAAAhhGwAAAADCNgAQAAGEbAAgAAMIyABQAAYBgBCwAAwDACFgAAgGE%2BG7CWLl2qrl27ymazyWazyW63a9OmTdb5CxcuKCkpSc2aNdNNN92kIUOGqKioyGOM48ePKz4%2BXg0aNFBISIgee%2BwxXbx40aNm27Zt6tGjh4KCgtS%2BfXtlZGRc0suSJUvUtm1b1atXTzExMdq1a9c1WTMAAKgdfDZgtWrVSs8%2B%2B6xyc3O1Z88e3XPPPbr//vt16NAhSdKUKVP0xhtvaN26ddq%2BfbsKCgo0ePBg6/WVlZWKj49XeXm5du7cqRUrVigjI0OzZs2yao4dO6b4%2BHj17dtXeXl5mjx5sh599FFt3rzZqlmzZo2Sk5M1e/Zs7d27V926dZPD4dCpU6eu35sBAABqFD%2B32%2B32dhNXqmnTpnr%2B%2Bef1m9/8Ri1atNCqVav0m9/8RpKUn5%2Bv2267TTk5Oerdu7c2bdqkgQMHqqCgQKGhoZKk9PR0paSkqLi4WIGBgUpJSdHGjRt18OBBa45hw4bp7NmzyszMlCTFxMSoV69eWrx4sSSpqqpKERERmjhxoqZPn35FfbtcLgUHB6ukpEQ2m83kWwLgOug5I9PbLfwke57p7%2B0WAJ/gzZ%2B/PnsF69sqKyu1evVqlZaWym63Kzc3VxUVFYqNjbVqOnXqpNatWysnJ0eSlJOToy5duljhSpIcDodcLpd1FSwnJ8djjOqa6jHKy8uVm5vrUePv76/Y2Fir5nLKysrkcrk8NgAAcOPw6YB14MAB3XTTTQoKCtK4ceO0fv16RUVFyel0KjAwUI0bN/aoDw0NldPplCQ5nU6PcFV9vvrcD9W4XC59/fXX%2BuKLL1RZWXnZmuoxLictLU3BwcHWFhER8bPWDwAAaiafDlgdO3ZUXl6e3n//fY0fP14JCQn68MMPvd3Wj0pNTVVJSYm1nThxwtstAQCA66iOtxv4IYGBgWrfvr0kKTo6Wrt379aiRYs0dOhQlZeX6%2BzZsx5XsYqKihQWFiZJCgsLu%2BTbftXfMvx2zXe/eVhUVCSbzab69esrICBAAQEBl62pHuNygoKCFBQU9PMWDQAAajyfvoL1XVVVVSorK1N0dLTq1q2r7Oxs69zhw4d1/Phx2e12SZLdbteBAwc8vu2XlZUlm82mqKgoq%2BbbY1TXVI8RGBio6Ohoj5qqqiplZ2dbNQAAAN/ls1ewUlNTde%2B996p169Y6d%2B6cVq1apW3btmnz5s0KDg5WYmKikpOT1bRpU9lsNk2cOFF2u129e/eWJMXFxSkqKkoPP/yw5s6dK6fTqZkzZyopKcm6ujRu3DgtXrxY06ZN0%2BjRo7VlyxatXbtWGzdutPpITk5WQkKCevbsqdtvv10LFy5UaWmpRo0a5ZX3BQAA%2BD6fDVinTp3SI488osLCQgUHB6tr167avHmzfv3rX0uSFixYIH9/fw0ZMkRlZWVyOBx66aWXrNcHBARow4YNGj9%2BvOx2uxo2bKiEhAQ9%2BeSTVk1kZKQ2btyoKVOmaNGiRWrVqpWWLVsmh8Nh1QwdOlTFxcWaNWuWnE6nunfvrszMzEtufAcAAKhWo56DVVPxHCygZuM5WEDNxHOwAAAAahECFgAAgGEELAAAAMMIWAAAAIYRsAAAAAwjYAEAABhGwAIAADCMgAUAAGAYAQsAAMAwAhYAAIBhBCwAAADDCFgAAACGEbAAAAAMI2ABAAAYRsACAAAwjIAFAABgGAELAADAMAIWAACAYQQsAAAAwwhYAAAAhhGwAAAADCNgAQAAGEbAAgAAMIyABQAAYBgBCwAAwDACFgAAgGEELAAAAMMIWAAAAIYRsAAAAAwjYAEAABhGwAIAADDMZwNWWlqaevXqpUaNGikkJESDBg3S4cOHPWruvvtu%2Bfn5eWzjxo3zqDl%2B/Lji4%2BPVoEEDhYSE6LHHHtPFixc9arZt26YePXooKChI7du3V0ZGxiX9LFmyRG3btlW9evUUExOjXbt2GV8zAACoHXw2YG3fvl1JSUl67733lJWVpYqKCsXFxam0tNSjbsyYMSosLLS2uXPnWucqKysVHx%2Bv8vJy7dy5UytWrFBGRoZmzZpl1Rw7dkzx8fHq27ev8vLyNHnyZD366KPavHmzVbNmzRolJydr9uzZ2rt3r7p16yaHw6FTp05d%2BzcCAADUOH5ut9vt7SauRHFxsUJCQrR9%2B3bdddddkr65gtW9e3ctXLjwsq/ZtGmTBg4cqIKCAoWGhkqS0tPTlZKSouLiYgUGBiolJUUbN27UwYMHrdcNGzZMZ8%2BeVWZmpiQpJiZGvXr10uLFiyVJVVVVioiI0MSJEzV9%2BvQf7d3lcik4OFglJSWy2WxX8zYA8IKeMzK93cJPsueZ/t5uAfAJ3vz567NXsL6rpKREktS0aVOP4ytXrlTz5s3VuXNnpaam6quvvrLO5eTkqEuXLla4kiSHwyGXy6VDhw5ZNbGxsR5jOhwO5eTkSJLKy8uVm5vrUePv76/Y2FirBgAA4NvqeLuBK1FVVaXJkyfrjjvuUOfOna3jw4cPV5s2bRQeHq79%2B/crJSVFhw8f1muvvSZJcjqdHuFKkrXvdDp/sMblcunrr7/WmTNnVFlZedma/Pz8y/ZbVlamsrIya9/lcv3MlQMAgJqoRgSspKQkHTx4UDt27PA4PnbsWOvPXbp0UcuWLdWvXz8dOXJE7dq1u95tWtLS0jRnzhyvzQ8AALzL5z8inDBhgjZs2KCtW7eqVatWP1gbExMjSfr0008lSWFhYSoqKvKoqd4PCwv7wRqbzab69eurefPmCggIuGxN9RjflZqaqpKSEms7ceLEFa4WAADUBj4bsNxutyZMmKD169dry5YtioyM/NHX5OXlSZJatmwpSbLb7Tpw4IDHt/2ysrJks9kUFRVl1WRnZ3uMk5WVJbvdLkkKDAxUdHS0R01VVZWys7Otmu8KCgqSzWbz2AAAwI3DZz8iTEpK0qpVq/SPf/xDjRo1su6ZCg4OVv369XXkyBGtWrVKAwYMULNmzbR//35NmTJFd911l7p27SpJiouLU1RUlB5%2B%2BGHNnTtXTqdTM2fOVFJSkoKCgiRJ48aN0%2BLFizVt2jSNHj1aW7Zs0dq1a7Vx40arl%2BTkZCUkJKhnz566/fbbtXDhQpWWlmrUqFHX/40BAAA%2Bz2cD1tKlSyV98yiGb1u%2BfLlGjhypwMBAvfXWW1bYiYiI0JAhQzRz5kyrNiAgQBs2bND48eNlt9vVsGFDJSQk6Mknn7RqIiMjtXHjRk2ZMkWLFi1Sq1attGzZMjkcDqtm6NChKi4u1qxZs%2BR0OtW9e3dlZmZecuM7AACAVIOeg1WT8RwsoGbjOVhAzeTNn78%2BewULQO1V0wILAPxUPnuTOwAAQE1FwAIAADCMgAUAAGAYAQsAAMAwAhYAAIBhBCwAAADDCFgAAACGEbAAAAAM40GjAFDL1KQHufLUedRWXMECAAAwjIAFAABgGAELAADAMOMB6%2BjRo6aHBAAAqFGMB6z27durb9%2B%2BevXVV3XhwgXTwwMAAPg84wFr79696tq1q5KTkxUWFqb/%2Bq//0q5du0xPAwAA4LOMB6zu3btr0aJFKigo0F//%2BlcVFhaqT58%2B6ty5s%2BbPn6/i4mLTUwIAAPiUa3aTe506dTR48GCtW7dOzz33nD799FNNnTpVEREReuSRR1RYWHitpgYAAPCqaxaw9uzZo//%2B7/9Wy5YtNX/%2BfE2dOlVHjhxRVlaWCgoKdP/991%2BrqQEAALzK%2BJPc58%2Bfr%2BXLl%2Bvw4cMaMGCAXnnlFQ0YMED%2B/t9kucjISGVkZKht27ampwYAAPAJxgPW0qVLNXr0aI0cOVItW7a8bE1ISIj%2B8pe/mJ4aAADAJxgPWJ988smP1gQGBiohIcH01AAAAD7B%2BD1Yy5cv17p16y45vm7dOq1YscL0dAAAAD7HeMBKS0tT8%2BbNLzkeEhKiP/zhD6anAwAA8DnGA9bx48cVGRl5yfE2bdro%2BPHjpqcDAADwOcYDVkhIiPbv33/J8X379qlZs2ampwMAAPA5xgPWgw8%2BqN/97nfaunWrKisrVVlZqS1btmjSpEkaNmyY6ekAAAB8jvFvET711FP67LPP1K9fP9Wp883wVVVVeuSRR7gHCwAA3BCMB6zAwECtWbNGTz31lPbt26f69eurS5cuatOmjempAAAAfJLxgFXt1ltv1a233nqthgcAAPBZxgNWZWWlMjIylJ2drVOnTqmqqsrj/JYtW0xPCQAA4FOMB6xJkyYpIyND8fHx6ty5s/z8/ExPAQAA4NOMf4tw9erVWrt2rdasWaOFCxdqwYIFHtuVSktLU69evdSoUSOFhIRo0KBBOnz4sEfNhQsXlJSUpGbNmummm27SkCFDVFRU5FFz/PhxxcfHq0GDBgoJCdFjjz2mixcvetRs27ZNPXr0UFBQkNq3b6%2BMjIxL%2BlmyZInatm2revXqKSYmRrt27bryNwUAANxQjAeswMBAtW/f/qrH2b59u5KSkvTee%2B8pKytLFRUViouLU2lpqVUzZcoUvfHGG1q3bp22b9%2BugoICDR482DpfWVmp%2BPh4lZeXa%2BfOnVqxYoUyMjI0a9Ysq%2BbYsWOKj49X3759lZeXp8mTJ%2BvRRx/V5s2brZo1a9YoOTlZs2fP1t69e9WtWzc5HA6dOnXqqtcJAABqHz%2B32%2B02OeC8efN09OhRLV682OjHg8XFxQoJCdH27dt11113qaSkRC1atNCqVav0m9/8RpKUn5%2Bv2267TTk5Oerdu7c2bdqkgQMHqqCgQKGhoZKk9PR0paSkqLi4WIGBgUpJSdHGjRt18OBBa65hw4bp7NmzyszMlCTFxMSoV69eWrx4saRvHjsRERGhiRMnavr06T/au8vlUnBwsEpKSmSz2Yy9J0BN1XNGprdbgI/Y80x/b7eAWsybP3%2BNX8HasWOHVq5cqXbt2um%2B%2B%2B7T4MGDPbafq6SkRJLUtGlTSVJubq4qKioUGxtr1XTq1EmtW7dWTk6OJCknJ0ddunSxwpUkORwOuVwuHTp0yKr59hjVNdVjlJeXKzc316PG399fsbGxVs13lZWVyeVyeWwAAODGYfwm98aNG%2BuBBx4wOmZVVZUmT56sO%2B64Q507d5YkOZ1OBQYGqnHjxh61oaGhcjqdVs23w1X1%2BepzP1Tjcrn09ddf68yZM6qsrLxsTX5%2B/mX7TUtL05w5c37eYgEAQI1nPGAtX77c9JBKSkrSwYMHtWPHDuNjXwupqalKTk629l0ulyIiIrzYEQAAuJ6Mf0QoSRcvXtRbb72ll19%2BWefOnZMkFRQU6Pz58z95rAkTJmjDhg3aunWrWrVqZR0PCwtTeXm5zp4961FfVFSksLAwq%2Ba73yqs3v%2BxGpvNpvr166t58%2BYKCAi4bE31GN8VFBQkm83msQEAgBuH8YD173//W126dNH999%2BvpKQkFRcXS5Kee%2B45TZ069YrHcbvdmjBhgtavX68tW7YoMjLS43x0dLTq1q2r7Oxs69jhw4d1/Phx2e12SZLdbteBAwc8vu2XlZUlm82mqKgoq%2BbbY1TXVI8RGBio6Ohoj5qqqiplZ2dbNQAAAN9mPGBNmjRJPXv21JkzZ1S/fn3r%2BAMPPHBJkPkhSUlJevXVV7Vq1So1atRITqdTTqdTX3/9tSQpODhYiYmJSk5O1tatW5Wbm6tRo0bJbrerd%2B/ekqS4uDhFRUXp4Ycf1r59%2B7R582bNnDlTSUlJCgoKkiSNGzdOR48e1bRp05Sfn6%2BXXnpJa9eu1ZQpU6xekpOT9ec//1krVqzQRx99pPHjx6u0tFSjRo0y8ZYBAIBaxvg9WO%2B884527typwMBAj%2BNt27bV559/fsXjLF26VJJ09913exxfvny5Ro4cKUlasGCB/P39NWTIEJWVlcnhcOill16yagMCArRhwwaNHz9edrtdDRs2VEJCgp588kmrJjIyUhs3btSUKVO0aNEitWrVSsuWLZPD4bBqhg4dquLiYs2aNUtOp1Pdu3dXZmbmJTe%2BAwAASNfgOVhNmjTRu%2B%2B%2Bq6ioKDVq1Ej79u3TLbfcoh07dlz2Ses3Ap6DBXjiOVioxnOwcC3VqudgxcXFaeHChda%2Bn5%2Bfzp8/r9mzZ2vAgAGmpwMAAPA5xj8inDdvnhwOh6KionThwgUNHz5cn3zyiZo3b67/%2B7//Mz0dAACAzzEesFq1aqV9%2B/Zp9erV2r9/v86fP6/ExESNGDHC46Z3AACA2sp4wJKkOnXq6KGHHroWQwMAAPg84wHrlVde%2BcHzjzzyiOkpAQAAfIrxgDVp0iSP/YqKCn311VcKDAxUgwYNCFgAAKDWM/4twjNnznhs58%2Bf1%2BHDh9WnTx9ucgcAADeEa/K7CL%2BrQ4cOevbZZy%2B5ugUAAFAbXZeAJX1z43tBQcH1mg4AAMBrjN%2BD9c9//tNj3%2B12q7CwUIsXL9Ydd9xhejoAAACfYzxgDRo0yGPfz89PLVq00D333KN58%2BaZng4AAMDnGA9YVVVVpocEAACoUa7bPVgAAAA3CuNXsJKTk6%2B4dv78%2BaanBwAA8DrjAeuDDz7QBx98oIqKCnXs2FGS9PHHHysgIEA9evSw6vz8/ExPDQAA4BOMB6z77rtPjRo10ooVK9SkSRNJ3zx8dNSoUbrzzjv1%2B9//3vSUAAAAPsX4PVjz5s1TWlqaFa4kqUmTJnr66af5FiEAALghGA9YLpdLxcXFlxwvLi7WuXPnTE8HAADgc4wHrAceeECjRo3Sa6%2B9ppMnT%2BrkyZP6%2B9//rsTERA0ePNj0dAAAAD7H%2BD1Y6enpmjp1qoYPH66KiopvJqlTR4mJiXr%2B%2BedNTwcAAOBzjAesBg0a6KWXXtLzzz%2BvI0eOSJLatWunhg0bmp4KAADAJ12zB40WFhaqsLBQHTp0UMOGDeV2u6/VVAAAAD7FeMD68ssv1a9fP916660aMGCACgsLJUmJiYk8ogEAANwQjAesKVOmqG7dujp%2B/LgaNGhgHR86dKgyMzNNTwcAAOBzjN%2BD9a9//UubN29Wq1atPI536NBB//73v01PBwAA4HOMX8EqLS31uHJV7fTp0woKCjI9HQAAgM8xHrDuvPNOvfLKK9a%2Bn5%2BfqqqqNHfuXPXt29f0dAAAAD7H%2BEeEc%2BfOVb9%2B/bRnzx6Vl5dr2rRpOnTokE6fPq13333X9HQAAAA%2Bx/gVrM6dO%2Bvjjz9Wnz59dP/996u0tFSDBw/WBx98oHbt2pmeDgAAwOcYvYJVUVGh/v37Kz09XTNmzDA5NAAAQI1h9ApW3bp1tX//fpNDAgAA1DjGPyJ86KGH9Je//OWqx3n77bd13333KTw8XH5%2Bfnr99dc9zo8cOVJ%2Bfn4eW//%2B/T1qTp8%2BrREjRshms6lx48ZKTEzU%2BfPnPWr279%2BvO%2B%2B8U/Xq1VNERITmzp17SS/r1q1Tp06dVK9ePXXp0kVvvvnmVa8PAADUXsZvcr948aL%2B%2Bte/6q233lJ0dPQlv4Nw/vz5VzROaWmpunXrptGjR2vw4MGXrenfv7%2BWL19u7X/3MRAjRoxQYWGhsrKyVFFRoVGjRmns2LFatWqVJMnlcikuLk6xsbFKT0/XgQMHNHr0aDVu3Fhjx46VJO3cuVMPPvig0tLSNHDgQK1atUqDBg3S3r171blz5yt%2BXwAAwI3Dz23olwQePXpUbdu2Vb9%2B/b5/Mj8/bdmy5SeP7efnp/Xr12vQoEHWsZEjR%2Brs2bOXXNmq9tFHHykqKkq7d%2B9Wz549JUmZmZkaMGCATp48qfDwcC1dulQzZsyQ0%2BlUYGCgJGn69Ol6/fXXlZ%2BfL%2BmbJ9CXlpZqw4YN1ti9e/dW9%2B7dlZ6efkX9u1wuBQcHq6SkRDab7SevH6htes7gtzrgG3ue6f/jRcDP5M2fv8Y%2BIuzQoYO%2B%2BOILbd26VVu3blVISIhWr15t7W/duvVnhasfsm3bNoWEhKhjx44aP368vvzyS%2BtcTk6OGjdubIUrSYqNjZW/v7/ef/99q%2Bauu%2B6ywpUkORwOHT58WGfOnLFqYmNjPeZ1OBzKyckxuhYAAFB7GPuI8LsXwjZt2qTS0lJTw1%2Bif//%2BGjx4sCIjI3XkyBE9/vjjuvfee5WTk6OAgAA5nU6FhIR4vKZOnTpq2rSpnE6nJMnpdCoyMtKjJjQ01DrXpEkTOZ1O69i3a6rHuJyysjKVlZVZ%2By6X66rWCgAAahbj92BVM/TJ4/caNmyY9ecuXbqoa9euateunbZt2/aDH1NeD2lpaZozZ45XewAAAN5j7CPC6m/yfffY9XLLLbeoefPm%2BvTTTyVJYWFhOnXqlEfNxYsXdfr0aYWFhVk1RUVFHjXV%2Bz9WU33%2BclJTU1VSUmJtJ06cuLrFAQCAGsXoR4QjR460vsl34cIFjRs37pJvEb722mumpvRw8uRJffnll2rZsqUkyW636%2BzZs8rNzVV0dLQkacuWLaqqqlJMTIxVM2PGDFVUVKhu3bqSpKysLHXs2FFNmjSxarKzszV58mRrrqysLNnt9u/tJSgoiF9sDQDADcxYwEpISPDYf%2Bihh65qvPPnz1tXoyTp2LFjysvLU9OmTdW0aVPNmTNHQ4YMUVhYmI4cOaJp06apffv2cjgckqTbbrtN/fv315gxY5Senq6KigpNmDBBw4YNU3h4uCRp%2BPDhmjNnjhITE5WSkqKDBw9q0aJFWrBggTXvpEmT9Ktf/Urz5s1TfHy8Vq9erT179uhPf/rTVa0PAADUXsYe02Datm3b1Ldv30uOJyQkaOnSpRo0aJA%2B%2BOADnT17VuHh4YqLi9NTTz3lcUP66dOnNWHCBL3xxhvy9/fXkCFD9MILL%2Bimm26yavbv36%2BkpCTt3r1bzZs318SJE5WSkuIx57p16zRz5kx99tln6tChg%2BbOnasBAwZc8Vp4TAPgicc0oBqPacC15M2fvz4bsGoTAhbgiYCFagQsXEu14jlYAAAA%2BAYBCwAAwDACFgAAgGEELAAAAMMIWAAAAIYRsAAAAAwjYAEAABhGwAIAADCMgAUAAGAYAQsAAMAwAhYAAIBhBCwAAADDCFgAAACGEbAAAAAMI2ABAAAYRsACAAAwjIAFAABgGAELAADAMAIWAACAYQQsAAAAwwhYAAAAhhGwAAAADCNgAQAAGEbAAgAAMIyABQAAYBgBCwAAwDACFgAAgGEELAAAAMMIWAAAAIYRsAAAAAwjYAEAABhGwAIAADDMZwPW22%2B/rfvuu0/h4eHy8/PT66%2B/7nHe7XZr1qxZatmyperXr6/Y2Fh98sknHjWnT5/WiBEjZLPZ1LhxYyUmJur8%2BfMeNfv379edd96pevXqKSIiQnPnzr2kl3Xr1qlTp06qV6%2BeunTpojfffNP4egEAQO3hswGrtLRU3bp105IlSy57fu7cuXrhhReUnp6u999/Xw0bNpTD4dCFCxesmhEjRujQoUPKysrShg0b9Pbbb2vs2LHWeZfLpbi4OLVp00a5ubl6/vnn9cQTT%2BhPf/qTVbNz5049%2BOCDSkxM1AcffKBBgwZp0KBBOnjw4LVbPAAAqNH83G6329tN/Bg/Pz%2BtX79egwYNkvTN1avw8HD9/ve/19SpUyVJJSUlCg0NVUZGhoYNG6aPPvpIUVFR2r17t3r27ClJyszM1IABA3Ty5EmFh4dr6dKlmjFjhpxOpwIDAyVJ06dP1%2Buvv678/HxJ0tChQ1VaWqoNGzZY/fTu3Vvdu3dXenr6FfXvcrkUHByskpIS2Ww2U28LUGP1nJHp7RbgI/Y809/bLaAW8%2BbPX5%2B9gvVDjh07JqfTqdjYWOtYcHCwYmJilJOTI0nKyclR48aNrXAlSbGxsfL399f7779v1dx1111WuJIkh8Ohw4cP68yZM1bNt%2Beprqme53LKysrkcrk8NgAAcOOokQHL6XRKkkJDQz2Oh4aGWuecTqdCQkI8ztepU0dNmzb1qLncGN%2Be4/tqqs9fTlpamoKDg60tIiLipy4RAADUYDUyYPm61NRUlZSUWNuJEye83RIAALiOamTACgsLkyQVFRV5HC8qKrLOhYWF6dSpUx7nL168qNOnT3vUXG6Mb8/xfTXV5y8nKChINpvNYwMAADeOGhmwIiMjFRYWpuzsbOuYy%2BXS%2B%2B%2B/L7vdLkmy2%2B06e/ascnNzrZotW7aoqqpKMTExVs3bb7%2BtiooKqyYrK0sdO3ZUkyZNrJpvz1NdUz0PAADAd/lswDp//rzy8vKUl5cn6Zsb2/Py8nT8%2BHH5%2Bflp8uTJevrpp/XPf/5TBw4c0COPPKLw8HDrm4a33Xab%2BvfvrzFjxmjXrl169913NWHCBA0bNkzh4eGSpOHDhyswMFCJiYk6dOiQ1qxZo0WLFik5OdnqY9KkScrMzNS8efOUn5%2BvJ554Qnv27NGECROu91sCAABqiDrebuD77NmzR3379rX2q0NPQkKCMjIyNG3aNJWWlmrs2LE6e/as%2BvTpo8zMTNWrV896zcqVKzVhwgT169dP/v7%2BGjJkiF544QXrfHBwsP71r38pKSlJ0dHRat68uWbNmuXxrKxf/vKXWrVqlWbOnKnHH39cHTp00Ouvv67OnTtfh3cBAADURDXiOVg1Hc/BAjzxHCxU4zlYuJZ4DhYAAEAtQsACAAAwjIAFAABgGAELAADAMAIWAACAYQQsAAAAwwhYAAAAhhGwAAAADCNgAQAAGEbAAgAAMIyABQAAYBgBCwAAwDACFgAAgGEELAAAAMPqeLsBAGb0nJHp7RYAAP8frmABAAAYRsACAAAwjIAFAABgGAELAADAMG5yBwB4TU37csaeZ/p7uwXUEFzBAgAAMIyABQAAYBgBCwAAwDACFgAAgGEELAAAAMMIWAAAAIYRsAAAAAwjYAEAABhGwAIAADCMgAUAAGAYAQsAAMCwGhuwnnjiCfn5%2BXlsnTp1ss5fuHBBSUlJatasmW666SYNGTJERUVFHmMcP35c8fHxatCggUJCQvTYY4/p4sWLHjXbtm1Tjx49FBQUpPbt2ysjI%2BN6LA8AANRgNTZgSdJ//Md/qLCw0Np27NhhnZsyZYreeOMNrVu3Ttu3b1dBQYEGDx5sna%2BsrFR8fLzKy8u1c%2BdOrVixQhkZGZo1a5ZVc%2BzYMcXHx6tv377Ky8vT5MmT9eijj2rz5s3XdZ0AAKBmqePtBq5GnTp1FBYWdsnxkpIS/eUvf9GqVat0zz33SJKWL1%2Bu2267Te%2B995569%2B6tf/3rX/rwww/11ltvKTQ0VN27d9dTTz2llJQUPfHEEwoMDFR6eroiIyM1b948SdJtt92mHTt2aMGCBXI4HNd1rQAAoOao0VewPvnkE4WHh%2BuWW27RiBEjdPz4cUlSbm6uKioqFBsba9V26tRJrVu3Vk5OjiQpJydHXbp0UWhoqFXjcDjkcrl06NAhq%2BbbY1TXVI8BAABwOTX2ClZMTIwyMjLUsWNHFRYWas6cObrzzjt18OBBOZ1OBQYGqnHjxh6vCQ0NldPplCQ5nU6PcFV9vvrcD9W4XC59/fXXql%2B//mV7KysrU1lZmbXvcrmuaq0AAKBmqbEB695777X%2B3LVrV8XExKhNmzZau3bt9waf6yUtLU1z5szxag8AAMB7avRHhN/WuHFj3Xrrrfr0008VFham8vJynT171qOmqKjIumcrLCzskm8VVu//WI3NZvvBEJeamqqSkhJrO3HixNUuDwAA1CC1JmCdP39eR44cUcuWLRUdHa26desqOzvbOn/48GEdP35cdrtdkmS323XgwAGdOnXKqsnKypLNZlNUVJRV8%2B0xqmuqx/g%2BQUFBstlsHhsAALhx1NiANXXqVG3fvl2fffaZdu7cqQceeEABAQF68MEHFRwcrMTERCUnJ2vr1q3Kzc3VqFGjZLfb1bt3b0lSXFycoqKi9PDDD2vfvn3avHmzZs6cqaSkJAUFBUmSxo0bp6NHj2ratGnKz8/XSy%2B9pLVr12rKlCneXDoAAPBxNfYerJMnT%2BrBBx/Ul19%2BqRYtWqhPnz5677331KJFC0nSggUL5O/vryFDhqisrEwOh0MvvfSS9fqAgABt2LBB48ePl91uV8OGDZWQkKAnn3zSqomMjNTGjRs1ZcoULVq0SK1atdKyZct4RAMAAPhBfm632%2B3tJmo7l8ul4OBglZSU8HEhrpmeMzK93QJQ6%2B15pr%2B3W8BP4M2fvzX2I0IAAABfRcACAAAwjIAFAABgGAELAADAMAIWAACAYQQsAAAAwwhYAAAAhhGwAAAADCNgAQAAGEbAAgAAMIyABQAAYBgBCwAAwDACFgAAgGEELAAAAMMIWAAAAIYRsAAAAAwjYAEAABhGwAIAADCMgAUAAGAYAQsAAMAwAhYAAIBhBCwAAADDCFgAAACGEbAAAAAMI2ABAAAYRsACAAAwjIAFAABgWB1vNwD4qp4zMr3dAgCghiJgAQBwhWra/3jteaa/t1u4YfERIQAAgGEELAAAAMMIWAAAAIYRsK7QkiVL1LZtW9WrV08xMTHatWuXt1sCAAA%2BioB1BdasWaPk5GTNnj1be/fuVbdu3eRwOHTq1ClvtwYAAHwQAesKzJ8/X2PGjNGoUaMUFRWl9PR0NWjQQH/961%2B93RoAAPBBPKbhR5SXlys3N1epqanWMX9/f8XGxionJ%2BeyrykrK1NZWZm1X1JSIklyuVzXtlkf96sns7zdAgDcUH4x9e/ebuGKbZ/1a%2BNjVv/cdbvdxsf%2BMQSsH/HFF1%2BosrJSoaGhHsdDQ0OVn59/2dekpaVpzpw5lxyPiIi4Jj0CAFDTBc%2B7dmOfO3dOwcHB126CyyBgXQOpqalKTk629quqqnT69Gk1a9ZMfn5%2BXuzsx7lcLkVEROjEiROy2WzebseY2rouqfaurbauS6q9a6ut65Jq79pq67qk/39tH374ocLDw6/7/ASsH9G8eXMFBASoqKjI43hRUZHCwsIu%2B5qgoCAFBQV5HGvcuPG1avGasNlste4/Nqn2rkuqvWurreuSau/aauu6pNq7ttq6Lkm6%2Beab5e9//W855yb3HxEYGKjo6GhlZ2dbx6qqqpSdnS273e7FzgAAgK/iCtYVSE5OVkJCgnr27Knbb79dCxcuVGlpqUaNGuXt1gAAgA8iYF2BoUOHqri4WLNmzZLT6VT37t2VmZl5yY3vtUFQUJBmz559yUecNV1tXZdUe9dWW9cl1d611dZ1SbV3bbV1XZL31%2Bbn9sZ3FwEAAGox7sECAAAwjIAFAABgGAELAADAMAIWAACAYQQsfK%2BPP/5Y999/v5o3by6bzaY%2Bffpo69at3m7LiI0bNyomJkb169dXkyZNNGjQIG%2B3ZFRZWZm6d%2B8uPz8/5eXlebudq/LZZ58pMTFRkZGRql%2B/vtq1a6fZs2ervLzc2639LEuWLFHbtm1Vr149xcTEaNeuXd5u6aqlpaWpV69eatSokUJCQjRo0CAdPnzY220Z9%2Byzz8rPz0%2BTJ0/2ditGfP7553rooYfUrFkz1a9fX126dNGePXu83dZVq6ys1P/8z/94/Jvx1FNPXfffR0jAwvcaOHCgLl68qC1btig3N1fdunXTwIED5XQ6vd3aVfn73/%2Buhx9%2BWKNGjdK%2Bffv07rvvavjw4d5uy6hp06Z55VdDXAv5%2BfmqqqrSyy%2B/rEOHDmnBggVKT0/X448/7u3WfrI1a9YoOTlZs2fP1t69e9WtWzc5HA6dOnXK261dle3btyspKUnvvfeesrKyVFFRobi4OJWWlnq7NWN2796tl19%2BWV27dvV2K0acOXNGd9xxh%2BrWratNmzbpww8/1Lx589SkSRNvt3bVnnvuOS1dulSLFy/WRx99pOeee05z587Viy%2B%2BeH0bcQOXUVxc7Jbkfvvtt61jLpfLLcmdlZXlxc6uTkVFhfvmm292L1u2zNutXDNvvvmmu1OnTu5Dhw65Jbk/%2BOADb7dk3Ny5c92RkZHebuMnu/32291JSUnWfmVlpTs8PNydlpbmxa7MO3XqlFuSe/v27d5uxYhz5865O3To4M7KynL/6le/ck%2BaNMnbLV21lJQUd58%2BfbzdxjURHx/vHj16tMexwYMHu0eMGHFd%2B%2BAKFi6rWbNm6tixo1555RWVlpbq4sWLevnllxUSEqLo6Ghvt/ez7d27V59//rn8/f31i1/8Qi1bttS9996rgwcPers1I4qKijRmzBj97//%2Brxo0aODtdq6ZkpISNW3a1Ntt/CTl5eXKzc1VbGysdczf31%2BxsbHKycnxYmfmlZSUSFKN%2Bzv6PklJSYqPj/f4u6vp/vnPf6pnz5767W9/q5CQEP3iF7/Qn//8Z2%2B3ZcQvf/lLZWdn6%2BOPP5Yk7du3Tzt27NC99957XfvgSe64LD8/P7311lsaNGiQGjVqJH9/f4WEhCgzM7NGX0I%2BevSoJOmJJ57Q/Pnz1bZtW82bN0933323Pv744xr9A8HtdmvkyJEaN26cevbsqc8%2B%2B8zbLV0Tn376qV588UX98Y9/9HYrP8kXX3yhysrKS34DRGhoqPLz873UlXlVVVWaPHmy7rjjDnXu3Nnb7Vy11atXa%2B/evdq9e7e3WzHq6NGjWrp0qZKTk/X4449r9%2B7d%2Bt3vfqfAwEAlJCR4u72rMn36dLlcLnXq1EkBAQGqrKzUM888oxEjRlzXPriCdYOZPn26/Pz8fnDLz8%2BX2%2B1WUlKSQkJC9M4772jXrl0aNGiQ7rvvPhUWFnp7GZe40nVVVVVJkmbMmKEhQ4YoOjpay5cvl5%2Bfn9atW%2BflVVzela7txRdf1Llz55Samurtlq/Ila7r2z7//HP1799fv/3tbzVmzBgvdY4fkpSUpIMHD2r16tXebuWqnThxQpMmTdLKlStVr149b7djVFVVlXr06KE//OEP%2BsUvfqGxY8dqzJgxSk9P93ZrV23t2rVauXKlVq1apb1792rFihX64x//qBUrVlzXPvhVOTeY4uJiffnllz9Yc8stt%2Bidd95RXFyczpw5I5vNZp3r0KGDEhMTNX369Gvd6k9ypet69913dc899%2Bidd95Rnz59rHMxMTGKjY3VM888c61b/cmudG3/%2BZ//qTfeeEN%2Bfn7W8crKSgUEBGjEiBHX/R%2BXH3Ol6woMDJQkFRQU6O6771bv3r2VkZEhf/%2Ba9f%2BH5eXlatCggf72t795fGs1ISFBZ8%2Be1T/%2B8Q/vNWfIhAkT9I9//ENvv/22IiMjvd3OVXv99df1wAMPKCAgwDpWWVkpPz8/%2Bfv7q6yszONcTdKmTRv9%2Bte/1rJly6xjS5cu1dNPP63PP//ci51dvYiICE2fPl1JSUnWsaefflqvvvrqdb1azEeEN5gWLVqoRYsWP1r31VdfSdIlP8T8/f2tq0C%2B5ErXFR0draCgIB0%2BfNgKWBUVFfrss8/Upk2ba93mz3Kla3vhhRf09NNPW/sFBQVyOBxas2aNYmJirmWLP8uVrkv65spV3759rSuONS1cSVJgYKCio6OVnZ1tBayqqiplZ2drwoQJ3m3uKrndbk2cOFHr16/Xtm3bakW4kqR%2B/frpwIEDHsdGjRqlTp06KSUlpcaGK0m64447LnmUxscff%2Byz/w7%2BFF999dUl/0YEBARc/59d1/WWetQYxcXF7mbNmrkHDx7szsvLcx8%2BfNg9depUd926dd15eXnebu%2BqTJo0yX3zzTe7N2/e7M7Pz3cnJia6Q0JC3KdPn/Z2a0YdO3asVnyL8OTJk%2B727du7%2B/Xr5z558qS7sLDQ2mqa1atXu4OCgtwZGRnuDz/80D127Fh348aN3U6n09utXZXx48e7g4OD3du2bfP4%2B/nqq6%2B83ZpxteVbhLt27XLXqVPH/cwzz7g/%2BeQT98qVK90NGjRwv/rqq95u7aolJCS4b775ZveGDRvcx44dc7/22mvu5s2bu6dNm3Zd%2ByBg4Xvt3r3bHRcX527atKm7UaNG7t69e7vffPNNb7d11crLy92///3v3SEhIe5GjRq5Y2Nj3QcPHvR2W8bVloC1fPlyt6TLbjXRiy%2B%2B6G7durU7MDDQffvtt7vfe%2B89b7d01b7v72f58uXebs242hKw3G63%2B4033nB37tzZHRQU5O7UqZP7T3/6k7dbMsLlcrknTZrkbt26tbtevXruW265xT1jxgx3WVnZde2De7AAAAAMq3k3MgAAAPg4AhYAAIBhBCwAAADDCFgAAACGEbAAAAAMI2ABAAAYRsACAAAwjIAFAABgGAELAADAMAIWAACAYQQsAAAAwwhYAAAAhhGwAAAADCNgAQAAGEbAAgAAMIyABQAAYBgBCwAAwDACFgAAgGH/D8jC%2Bo%2BMQxN6AAAAAElFTkSuQmCC\"/>\n",
       "        </div>\n",
       "        <div role=\"tabpanel\" class=\"tab-pane col-md-12\" id=\"common-3521790219913727306\">\n",
       "            \n",
       "<table class=\"freq table table-hover\">\n",
       "    <thead>\n",
       "    <tr>\n",
       "        <td class=\"fillremaining\">Value</td>\n",
       "        <td class=\"number\">Count</td>\n",
       "        <td class=\"number\">Frequency (%)</td>\n",
       "        <td style=\"min-width:200px\">&nbsp;</td>\n",
       "    </tr>\n",
       "    </thead>\n",
       "    <tr class=\"\">\n",
       "        <td class=\"fillremaining\">-1.6484454836331668</td>\n",
       "        <td class=\"number\">1</td>\n",
       "        <td class=\"number\">0.0%</td>\n",
       "        <td>\n",
       "            <div class=\"bar\" style=\"width:1%\">&nbsp;</div>\n",
       "        </td>\n",
       "</tr><tr class=\"\">\n",
       "        <td class=\"fillremaining\">1.003757978649736</td>\n",
       "        <td class=\"number\">1</td>\n",
       "        <td class=\"number\">0.0%</td>\n",
       "        <td>\n",
       "            <div class=\"bar\" style=\"width:1%\">&nbsp;</div>\n",
       "        </td>\n",
       "</tr><tr class=\"\">\n",
       "        <td class=\"fillremaining\">-1.864906484414055</td>\n",
       "        <td class=\"number\">1</td>\n",
       "        <td class=\"number\">0.0%</td>\n",
       "        <td>\n",
       "            <div class=\"bar\" style=\"width:1%\">&nbsp;</div>\n",
       "        </td>\n",
       "</tr><tr class=\"\">\n",
       "        <td class=\"fillremaining\">-3.6039333674635685</td>\n",
       "        <td class=\"number\">1</td>\n",
       "        <td class=\"number\">0.0%</td>\n",
       "        <td>\n",
       "            <div class=\"bar\" style=\"width:1%\">&nbsp;</div>\n",
       "        </td>\n",
       "</tr><tr class=\"\">\n",
       "        <td class=\"fillremaining\">0.21323118463231414</td>\n",
       "        <td class=\"number\">1</td>\n",
       "        <td class=\"number\">0.0%</td>\n",
       "        <td>\n",
       "            <div class=\"bar\" style=\"width:1%\">&nbsp;</div>\n",
       "        </td>\n",
       "</tr><tr class=\"\">\n",
       "        <td class=\"fillremaining\">0.1260874291669101</td>\n",
       "        <td class=\"number\">1</td>\n",
       "        <td class=\"number\">0.0%</td>\n",
       "        <td>\n",
       "            <div class=\"bar\" style=\"width:1%\">&nbsp;</div>\n",
       "        </td>\n",
       "</tr><tr class=\"\">\n",
       "        <td class=\"fillremaining\">-0.6681995007027801</td>\n",
       "        <td class=\"number\">1</td>\n",
       "        <td class=\"number\">0.0%</td>\n",
       "        <td>\n",
       "            <div class=\"bar\" style=\"width:1%\">&nbsp;</div>\n",
       "        </td>\n",
       "</tr><tr class=\"\">\n",
       "        <td class=\"fillremaining\">1.1520726508828083</td>\n",
       "        <td class=\"number\">1</td>\n",
       "        <td class=\"number\">0.0%</td>\n",
       "        <td>\n",
       "            <div class=\"bar\" style=\"width:1%\">&nbsp;</div>\n",
       "        </td>\n",
       "</tr><tr class=\"\">\n",
       "        <td class=\"fillremaining\">-0.9187290834263864</td>\n",
       "        <td class=\"number\">1</td>\n",
       "        <td class=\"number\">0.0%</td>\n",
       "        <td>\n",
       "            <div class=\"bar\" style=\"width:1%\">&nbsp;</div>\n",
       "        </td>\n",
       "</tr><tr class=\"\">\n",
       "        <td class=\"fillremaining\">2.3083797440365457</td>\n",
       "        <td class=\"number\">1</td>\n",
       "        <td class=\"number\">0.0%</td>\n",
       "        <td>\n",
       "            <div class=\"bar\" style=\"width:1%\">&nbsp;</div>\n",
       "        </td>\n",
       "</tr><tr class=\"other\">\n",
       "        <td class=\"fillremaining\">Other values (99990)</td>\n",
       "        <td class=\"number\">99990</td>\n",
       "        <td class=\"number\">100.0%</td>\n",
       "        <td>\n",
       "            <div class=\"bar\" style=\"width:100%\">&nbsp;</div>\n",
       "        </td>\n",
       "</tr>\n",
       "</table>\n",
       "        </div>\n",
       "        <div role=\"tabpanel\" class=\"tab-pane col-md-12\"  id=\"extreme-3521790219913727306\">\n",
       "            <p class=\"h4\">Minimum 5 values</p>\n",
       "            \n",
       "<table class=\"freq table table-hover\">\n",
       "    <thead>\n",
       "    <tr>\n",
       "        <td class=\"fillremaining\">Value</td>\n",
       "        <td class=\"number\">Count</td>\n",
       "        <td class=\"number\">Frequency (%)</td>\n",
       "        <td style=\"min-width:200px\">&nbsp;</td>\n",
       "    </tr>\n",
       "    </thead>\n",
       "    <tr class=\"\">\n",
       "        <td class=\"fillremaining\">-8.760003624213763</td>\n",
       "        <td class=\"number\">1</td>\n",
       "        <td class=\"number\">0.0%</td>\n",
       "        <td>\n",
       "            <div class=\"bar\" style=\"width:100%\">&nbsp;</div>\n",
       "        </td>\n",
       "</tr><tr class=\"\">\n",
       "        <td class=\"fillremaining\">-7.450587110708628</td>\n",
       "        <td class=\"number\">1</td>\n",
       "        <td class=\"number\">0.0%</td>\n",
       "        <td>\n",
       "            <div class=\"bar\" style=\"width:100%\">&nbsp;</div>\n",
       "        </td>\n",
       "</tr><tr class=\"\">\n",
       "        <td class=\"fillremaining\">-7.189498042077683</td>\n",
       "        <td class=\"number\">1</td>\n",
       "        <td class=\"number\">0.0%</td>\n",
       "        <td>\n",
       "            <div class=\"bar\" style=\"width:100%\">&nbsp;</div>\n",
       "        </td>\n",
       "</tr><tr class=\"\">\n",
       "        <td class=\"fillremaining\">-7.1858101673403665</td>\n",
       "        <td class=\"number\">1</td>\n",
       "        <td class=\"number\">0.0%</td>\n",
       "        <td>\n",
       "            <div class=\"bar\" style=\"width:100%\">&nbsp;</div>\n",
       "        </td>\n",
       "</tr><tr class=\"\">\n",
       "        <td class=\"fillremaining\">-7.040658811582526</td>\n",
       "        <td class=\"number\">1</td>\n",
       "        <td class=\"number\">0.0%</td>\n",
       "        <td>\n",
       "            <div class=\"bar\" style=\"width:100%\">&nbsp;</div>\n",
       "        </td>\n",
       "</tr>\n",
       "</table>\n",
       "            <p class=\"h4\">Maximum 5 values</p>\n",
       "            \n",
       "<table class=\"freq table table-hover\">\n",
       "    <thead>\n",
       "    <tr>\n",
       "        <td class=\"fillremaining\">Value</td>\n",
       "        <td class=\"number\">Count</td>\n",
       "        <td class=\"number\">Frequency (%)</td>\n",
       "        <td style=\"min-width:200px\">&nbsp;</td>\n",
       "    </tr>\n",
       "    </thead>\n",
       "    <tr class=\"\">\n",
       "        <td class=\"fillremaining\">7.0454654710501226</td>\n",
       "        <td class=\"number\">1</td>\n",
       "        <td class=\"number\">0.0%</td>\n",
       "        <td>\n",
       "            <div class=\"bar\" style=\"width:100%\">&nbsp;</div>\n",
       "        </td>\n",
       "</tr><tr class=\"\">\n",
       "        <td class=\"fillremaining\">7.159168818110713</td>\n",
       "        <td class=\"number\">1</td>\n",
       "        <td class=\"number\">0.0%</td>\n",
       "        <td>\n",
       "            <div class=\"bar\" style=\"width:100%\">&nbsp;</div>\n",
       "        </td>\n",
       "</tr><tr class=\"\">\n",
       "        <td class=\"fillremaining\">7.194614853677338</td>\n",
       "        <td class=\"number\">1</td>\n",
       "        <td class=\"number\">0.0%</td>\n",
       "        <td>\n",
       "            <div class=\"bar\" style=\"width:100%\">&nbsp;</div>\n",
       "        </td>\n",
       "</tr><tr class=\"\">\n",
       "        <td class=\"fillremaining\">7.21552716578695</td>\n",
       "        <td class=\"number\">1</td>\n",
       "        <td class=\"number\">0.0%</td>\n",
       "        <td>\n",
       "            <div class=\"bar\" style=\"width:100%\">&nbsp;</div>\n",
       "        </td>\n",
       "</tr><tr class=\"\">\n",
       "        <td class=\"fillremaining\">7.23826247979405</td>\n",
       "        <td class=\"number\">1</td>\n",
       "        <td class=\"number\">0.0%</td>\n",
       "        <td>\n",
       "            <div class=\"bar\" style=\"width:100%\">&nbsp;</div>\n",
       "        </td>\n",
       "</tr>\n",
       "</table>\n",
       "        </div>\n",
       "    </div>\n",
       "</div>\n",
       "</div><div class=\"row variablerow\">\n",
       "    <div class=\"col-md-3 namecol\">\n",
       "        <p class=\"h4 pp-anchor\" id=\"pp_var_f1\">f1<br/>\n",
       "            <small>Numeric</small>\n",
       "        </p>\n",
       "    </div><div class=\"col-md-6\">\n",
       "    <div class=\"row\">\n",
       "        <div class=\"col-sm-6\">\n",
       "            <table class=\"stats \">\n",
       "                <tr>\n",
       "                    <th>Distinct count</th>\n",
       "                    <td>100000</td>\n",
       "                </tr>\n",
       "                <tr>\n",
       "                    <th>Unique (%)</th>\n",
       "                    <td>100.0%</td>\n",
       "                </tr>\n",
       "                <tr class=\"ignore\">\n",
       "                    <th>Missing (%)</th>\n",
       "                    <td>0.0%</td>\n",
       "                </tr>\n",
       "                <tr class=\"ignore\">\n",
       "                    <th>Missing (n)</th>\n",
       "                    <td>0</td>\n",
       "                </tr>\n",
       "                <tr class=\"ignore\">\n",
       "                    <th>Infinite (%)</th>\n",
       "                    <td>0.0%</td>\n",
       "                </tr>\n",
       "                <tr class=\"ignore\">\n",
       "                    <th>Infinite (n)</th>\n",
       "                    <td>0</td>\n",
       "                </tr>\n",
       "            </table>\n",
       "\n",
       "        </div>\n",
       "        <div class=\"col-sm-6\">\n",
       "            <table class=\"stats \">\n",
       "\n",
       "                <tr>\n",
       "                    <th>Mean</th>\n",
       "                    <td>-0.0020805</td>\n",
       "                </tr>\n",
       "                <tr>\n",
       "                    <th>Minimum</th>\n",
       "                    <td>-7.084</td>\n",
       "                </tr>\n",
       "                <tr>\n",
       "                    <th>Maximum</th>\n",
       "                    <td>7.8448</td>\n",
       "                </tr>\n",
       "                <tr class=\"ignore\">\n",
       "                    <th>Zeros (%)</th>\n",
       "                    <td>0.0%</td>\n",
       "                </tr>\n",
       "            </table>\n",
       "        </div>\n",
       "    </div>\n",
       "</div>\n",
       "<div class=\"col-md-3 collapse in\" id=\"minihistogram-4269209255617096035\">\n",
       "    <img src=\"data:image/png;base64,iVBORw0KGgoAAAANSUhEUgAAAMgAAABLCAYAAAA1fMjoAAAAOXRFWHRTb2Z0d2FyZQBNYXRwbG90bGliIHZlcnNpb24zLjUuMywgaHR0cHM6Ly9tYXRwbG90bGliLm9yZy/NK7nSAAAACXBIWXMAAA9hAAAPYQGoP6dpAAAB1UlEQVR4nO3dsc7SUBzG4X%2BJa2En9CJM3J1MvKBvM3EwcfRS3E2c3L0LCBfQ7tRBcftewWBr4Xl2zinJ%2BeXQ9ADNOI5jTexwOFTXdVNPy8Lt9/va7XaTzvli0tl%2Badu2qn6%2B4fV6PcclsCB931fXdb/XzZRmCaRpmqqqWq/Xdx3Iq3dfrn7N949v/8GV3IfzupnSavIZYUEEAoFAIBAIBAKBQCAQCASCWZ6D8DzPTv4vdhAIBAKBQCAQCAQCgUAgEAgEAoFAIBAIBAKBoyZX%2BJtjICybHQQCgUAgEAgEAoFAIBAIBAKBQCAQCAQCgUAgEAicxboD154R8zNBl7ODQCAQCAQCgUAgEAgEAoFAIBA87HMQ3y/nEnYQCAQCgUAgeNh7kEfmb94uZweBQCAQzPIRaxzHqqrq%2B/4m473%2B8PUm4/C8l0%2Bfr37Nt/dvbjL3eZ2c182UZglkGIaqquq6bo7pmcjm023HG4ahNpvNbQf9g2acIcvT6VTH47Hatq2maaaenoUZx7GGYajtdlur1bR3BbMEAkvhJh0CgUAgEAgEAoFAIBAIBAKBQCAQCAQCgUAgEAgEAoFAIBAIBAKBQCAQCAQCgUAgEAgEAoFAIBAIBAKB4ActeUraqwVn4QAAAABJRU5ErkJggg%3D%3D\">\n",
       "\n",
       "</div>\n",
       "<div class=\"col-md-12 text-right\">\n",
       "    <a role=\"button\" data-toggle=\"collapse\" data-target=\"#descriptives-4269209255617096035,#minihistogram-4269209255617096035\"\n",
       "       aria-expanded=\"false\" aria-controls=\"collapseExample\">\n",
       "        Toggle details\n",
       "    </a>\n",
       "</div>\n",
       "<div class=\"row collapse col-md-12\" id=\"descriptives-4269209255617096035\">\n",
       "    <ul class=\"nav nav-tabs\" role=\"tablist\">\n",
       "        <li role=\"presentation\" class=\"active\"><a href=\"#quantiles-4269209255617096035\"\n",
       "                                                  aria-controls=\"quantiles-4269209255617096035\" role=\"tab\"\n",
       "                                                  data-toggle=\"tab\">Statistics</a></li>\n",
       "        <li role=\"presentation\"><a href=\"#histogram-4269209255617096035\" aria-controls=\"histogram-4269209255617096035\"\n",
       "                                   role=\"tab\" data-toggle=\"tab\">Histogram</a></li>\n",
       "        <li role=\"presentation\"><a href=\"#common-4269209255617096035\" aria-controls=\"common-4269209255617096035\"\n",
       "                                   role=\"tab\" data-toggle=\"tab\">Common Values</a></li>\n",
       "        <li role=\"presentation\"><a href=\"#extreme-4269209255617096035\" aria-controls=\"extreme-4269209255617096035\"\n",
       "                                   role=\"tab\" data-toggle=\"tab\">Extreme Values</a></li>\n",
       "\n",
       "    </ul>\n",
       "\n",
       "    <div class=\"tab-content\">\n",
       "        <div role=\"tabpanel\" class=\"tab-pane active row\" id=\"quantiles-4269209255617096035\">\n",
       "            <div class=\"col-md-4 col-md-offset-1\">\n",
       "                <p class=\"h4\">Quantile statistics</p>\n",
       "                <table class=\"stats indent\">\n",
       "                    <tr>\n",
       "                        <th>Minimum</th>\n",
       "                        <td>-7.084</td>\n",
       "                    </tr>\n",
       "                    <tr>\n",
       "                        <th>5-th percentile</th>\n",
       "                        <td>-2.8363</td>\n",
       "                    </tr>\n",
       "                    <tr>\n",
       "                        <th>Q1</th>\n",
       "                        <td>-1.1748</td>\n",
       "                    </tr>\n",
       "                    <tr>\n",
       "                        <th>Median</th>\n",
       "                        <td>-0.0094822</td>\n",
       "                    </tr>\n",
       "                    <tr>\n",
       "                        <th>Q3</th>\n",
       "                        <td>1.1637</td>\n",
       "                    </tr>\n",
       "                    <tr>\n",
       "                        <th>95-th percentile</th>\n",
       "                        <td>2.8458</td>\n",
       "                    </tr>\n",
       "                    <tr>\n",
       "                        <th>Maximum</th>\n",
       "                        <td>7.8448</td>\n",
       "                    </tr>\n",
       "                    <tr>\n",
       "                        <th>Range</th>\n",
       "                        <td>14.929</td>\n",
       "                    </tr>\n",
       "                    <tr>\n",
       "                        <th>Interquartile range</th>\n",
       "                        <td>2.3385</td>\n",
       "                    </tr>\n",
       "                </table>\n",
       "            </div>\n",
       "            <div class=\"col-md-4 col-md-offset-2\">\n",
       "                <p class=\"h4\">Descriptive statistics</p>\n",
       "                <table class=\"stats indent\">\n",
       "                    <tr>\n",
       "                        <th>Standard deviation</th>\n",
       "                        <td>1.7304</td>\n",
       "                    </tr>\n",
       "                    <tr>\n",
       "                        <th>Coef of variation</th>\n",
       "                        <td>-831.72</td>\n",
       "                    </tr>\n",
       "                    <tr>\n",
       "                        <th>Kurtosis</th>\n",
       "                        <td>-0.012328</td>\n",
       "                    </tr>\n",
       "                    <tr>\n",
       "                        <th>Mean</th>\n",
       "                        <td>-0.0020805</td>\n",
       "                    </tr>\n",
       "                    <tr>\n",
       "                        <th>MAD</th>\n",
       "                        <td>1.3819</td>\n",
       "                    </tr>\n",
       "                    <tr class=\"\">\n",
       "                        <th>Skewness</th>\n",
       "                        <td>0.014802</td>\n",
       "                    </tr>\n",
       "                    <tr>\n",
       "                        <th>Sum</th>\n",
       "                        <td>-208.05</td>\n",
       "                    </tr>\n",
       "                    <tr>\n",
       "                        <th>Variance</th>\n",
       "                        <td>2.9943</td>\n",
       "                    </tr>\n",
       "                    <tr>\n",
       "                        <th>Memory size</th>\n",
       "                        <td>781.4 KiB</td>\n",
       "                    </tr>\n",
       "                </table>\n",
       "            </div>\n",
       "        </div>\n",
       "        <div role=\"tabpanel\" class=\"tab-pane col-md-8 col-md-offset-2\" id=\"histogram-4269209255617096035\">\n",
       "            <img src=\"data:image/png;base64,iVBORw0KGgoAAAANSUhEUgAAAlgAAAGQCAYAAAByNR6YAAAAOXRFWHRTb2Z0d2FyZQBNYXRwbG90bGliIHZlcnNpb24zLjUuMywgaHR0cHM6Ly9tYXRwbG90bGliLm9yZy/NK7nSAAAACXBIWXMAAA9hAAAPYQGoP6dpAAAxfElEQVR4nO3de1jUZd7H8Q%2BgIBqDR0AeUSktJc%2BgSFmbyQpJbZa1mlZoZKsPmorlYfVRO1KWpuWB2lqxZ3NTn9JKEyNMXVfKwCOWVGqR4SClMsomIMzzRxe/q0lLqxuHgffruuZa5/f7cv%2B%2B93gln73nN/d4OZ1OpwAAAGCMt7sbAAAAqGsIWAAAAIYRsAAAAAwjYAEAABhGwAIAADCMgAUAAGAYAQsAAMAwAhYAAIBhBCwAAADDCFgAAACGEbAAAAAMI2ABAAAYRsACAAAwjIAFAABgGAELAADAMAIWAACAYQQsAAAAwwhYAAAAhhGwAAAADCNgAQAAGEbAAgAAMIyABQAAYBgBCwAAwDACFgAAgGEELAAAAMMIWAAAAIYRsAAAAAwjYAEAABhGwAIAADCMgAUAAGAYAQsAAMAwAhYAAIBhBCwAAADDCFgAAACGEbAAAAAMI2ABAAAYRsACAAAwjIAFAABgWAN3N1AfVFVVqbCwUAEBAfLy8nJ3OwAA1AtOp1OnTp1SaGiovL0v7ZoSAesSKCwsVFhYmLvbAACgXvr666/Vpk2bS3pNAtYlEBAQIOmHv2CbzebmbgAAqB8cDofCwsKs38OXEgHrEqh%2BW9BmsxGwAAC4xNxxew43uQMAABhGwAIAADCMgAUAAGAYAQsAAMAwAhYAAIBhBCwAAADDCFgAAACGEbAAAAAMI2ABAAAYRsACAAAwjIAFAABgGAELAADAML7sGcAlFzUjw90t/Co5T8S7uwUAHoYVLAAAAMMIWAAAAIYRsAAAAAwjYAEAABhGwAIAADCMgAUAAGAYAQsAAMAwAhYAAIBhBCwAAADDCFgAAACGEbAAAAAMI2ABAAAYRsACAAAwjIAFAABgGAELAADAMAIWAACAYQQsAAAAwwhYAAAAhhGwAAAADCNgAQAAGFZrA9bSpUvVrVs32Ww22Ww2xcTEaMOGDdb5M2fOKDk5WS1atNBll12mIUOGqKioyGWMgoICJSQkqHHjxgoKCtLDDz%2Bss2fPutRs3rxZvXr1kp%2Bfnzp06KD09PRzelm8eLHat2%2BvRo0aKTo6Wjt27KiROQMAgLqh1gasNm3a6KmnnlJubq5ycnJ044036tZbb9X%2B/fslSZMmTdI777yj1atXa8uWLSosLNTtt99u/XxlZaUSEhJUXl6u7du3a/ny5UpPT9esWbOsmsOHDyshIUH9%2B/fX7t27NXHiRN1///3auHGjVbNy5UqlpKRo9uzZ2rlzp7p37664uDgdO3bs0r0YAADAo3g5nU6nu5u4WM2bN9czzzyjO%2B64Q61atdKKFSt0xx13SJIOHDigzp07Kzs7W3379tWGDRt08803q7CwUMHBwZKktLQ0TZ06VcXFxfL19dXUqVO1fv165eXlWdcYNmyYTp48qYyMDElSdHS0evfurUWLFkmSqqqqFBYWpvHjx2vatGkX1bfD4VBgYKBKSkpks9lMviSAR4qakeHuFn6VnCfi3d0CgN/Anb9/a%2B0K1o9VVlbq9ddfV2lpqWJiYpSbm6uKigrFxsZaNZ06dVLbtm2VnZ0tScrOzlbXrl2tcCVJcXFxcjgc1ipYdna2yxjVNdVjlJeXKzc316XG29tbsbGxVs35lJWVyeFwuDwAAED9UasD1r59%2B3TZZZfJz89PY8aM0Zo1axQRESG73S5fX181bdrUpT44OFh2u12SZLfbXcJV9fnqc79U43A49P333%2Bvbb79VZWXleWuqxzif1NRUBQYGWo%2BwsLDfNH8AAOCZanXAuuqqq7R792599NFHGjt2rBITE/XJJ5%2B4u60Lmj59ukpKSqzH119/7e6WAADAJdTA3Q38El9fX3Xo0EGSFBkZqY8//lgLFy7U0KFDVV5erpMnT7qsYhUVFSkkJESSFBIScs6n/ao/Zfjjmp9%2B8rCoqEg2m03%2B/v7y8fGRj4/PeWuqxzgfPz8/%2Bfn5/bZJAwAAj1erV7B%2BqqqqSmVlZYqMjFTDhg2VlZVlncvPz1dBQYFiYmIkSTExMdq3b5/Lp/0yMzNls9kUERFh1fx4jOqa6jF8fX0VGRnpUlNVVaWsrCyrBgAA4Kdq7QrW9OnTddNNN6lt27Y6deqUVqxYoc2bN2vjxo0KDAxUUlKSUlJS1Lx5c9lsNo0fP14xMTHq27evJGngwIGKiIjQPffco7lz58put2vmzJlKTk62VpfGjBmjRYsWacqUKbrvvvu0adMmrVq1SuvXr7f6SElJUWJioqKiotSnTx8tWLBApaWlGjVqlFteFwAAUPvV2oB17Ngx3XvvvTp69KgCAwPVrVs3bdy4UX/84x8lSc8995y8vb01ZMgQlZWVKS4uTkuWLLF%2B3sfHR%2BvWrdPYsWMVExOjJk2aKDExUY8%2B%2BqhVEx4ervXr12vSpElauHCh2rRpo5dffllxcXFWzdChQ1VcXKxZs2bJbrerR48eysjIOOfGdwAAgGoetQ%2BWp2IfLMAV%2B2ABuBTYBwsAAKAOIWABAAAYRsACAAAwjIAFAABgGAELAADAMAIWAACAYQQsAAAAwwhYAAAAhhGwAAAADCNgAQAAGEbAAgAAMIyABQAAYBgBCwAAwDACFgAAgGEELAAAAMMIWAAAAIYRsAAAAAwjYAEAABhGwAIAADCMgAUAAGBYA3c3AAC1XdSMDHe38KvkPBHv7haAeo8VLAAAAMMIWAAAAIYRsAAAAAwjYAEAABhGwAIAADCMgAUAAGAYAQsAAMAwAhYAAIBhBCwAAADDCFgAAACGEbAAAAAMI2ABAAAYRsACAAAwjIAFAABgGAELAADAsFobsFJTU9W7d28FBAQoKChIgwcPVn5%2BvkvNDTfcIC8vL5fHmDFjXGoKCgqUkJCgxo0bKygoSA8//LDOnj3rUrN582b16tVLfn5%2B6tChg9LT08/pZ/HixWrfvr0aNWqk6Oho7dixw/icAQBA3VBrA9aWLVuUnJysDz/8UJmZmaqoqNDAgQNVWlrqUjd69GgdPXrUesydO9c6V1lZqYSEBJWXl2v79u1avny50tPTNWvWLKvm8OHDSkhIUP/%2B/bV7925NnDhR999/vzZu3GjVrFy5UikpKZo9e7Z27typ7t27Ky4uTseOHav5FwIAAHgcL6fT6XR3ExejuLhYQUFB2rJli66//npJP6xg9ejRQwsWLDjvz2zYsEE333yzCgsLFRwcLElKS0vT1KlTVVxcLF9fX02dOlXr169XXl6e9XPDhg3TyZMnlZGRIUmKjo5W7969tWjRIklSVVWVwsLCNH78eE2bNu2CvTscDgUGBqqkpEQ2m%2B33vAxAnRA1I8PdLdRpOU/Eu7sFoFZw5%2B/fWruC9VMlJSWSpObNm7scf%2B2119SyZUt16dJF06dP13/%2B8x/rXHZ2trp27WqFK0mKi4uTw%2BHQ/v37rZrY2FiXMePi4pSdnS1JKi8vV25urkuNt7e3YmNjrZqfKisrk8PhcHkAAID6o4G7G7gYVVVVmjhxoq699lp16dLFOj58%2BHC1a9dOoaGh2rt3r6ZOnar8/Hy9%2BeabkiS73e4SriRZz%2B12%2By/WOBwOff/99zpx4oQqKyvPW3PgwIHz9puamqpHHnnk900aAAB4LI8IWMnJycrLy9O2bdtcjj/wwAPWn7t27arWrVtrwIABOnjwoK644opL3aZl%2BvTpSklJsZ47HA6FhYW5rR8AAHBp1fqANW7cOK1bt05bt25VmzZtfrE2OjpakvTFF1/oiiuuUEhIyDmf9isqKpIkhYSEWP9bfezHNTabTf7%2B/vLx8ZGPj895a6rH%2BCk/Pz/5%2Bfld/CQBAECdUmvvwXI6nRo3bpzWrFmjTZs2KTw8/II/s3v3bklS69atJUkxMTHat2%2Bfy6f9MjMzZbPZFBERYdVkZWW5jJOZmamYmBhJkq%2BvryIjI11qqqqqlJWVZdUAAAD8WK1dwUpOTtaKFSv01ltvKSAgwLpnKjAwUP7%2B/jp48KBWrFihQYMGqUWLFtq7d68mTZqk66%2B/Xt26dZMkDRw4UBEREbrnnns0d%2B5c2e12zZw5U8nJydYK05gxY7Ro0SJNmTJF9913nzZt2qRVq1Zp/fr1Vi8pKSlKTExUVFSU%2BvTpowULFqi0tFSjRo269C8MAACo9WptwFq6dKmkH7Zi%2BLFly5Zp5MiR8vX11fvvv2%2BFnbCwMA0ZMkQzZ860an18fLRu3TqNHTtWMTExatKkiRITE/Xoo49aNeHh4Vq/fr0mTZqkhQsXqk2bNnr55ZcVFxdn1QwdOlTFxcWaNWuW7Ha7evTooYyMjHNufAcAAJA8aB8sT8Y%2BWIAr9sGqWeyDBfyAfbAAAADqEAIWAACAYQQsAAAAwwhYAAAAhhGwAAAADCNgAQAAGEbAAgAAMIyABQAAYBgBCwAAwDACFgAAgGEELAAAAMMIWAAAAIYRsAAAAAwjYAEAABhGwAIAADCMgAUAAGAYAQsAAMAwAhYAAIBhBCwAAADDCFgAAACGEbAAAAAMI2ABAAAYRsACAAAwjIAFAABgGAELAADAMAIWAACAYQQsAAAAwwhYAAAAhhGwAAAADCNgAQAAGEbAAgAAMIyABQAAYBgBCwAAwDDjAevQoUOmhwQAAPAoxgNWhw4d1L9/f/3jH//QmTNnTA8PAABQ6xkPWDt37lS3bt2UkpKikJAQ/eUvf9GOHTt%2B9Tipqanq3bu3AgICFBQUpMGDBys/P9%2Bl5syZM0pOTlaLFi102WWXaciQISoqKnKpKSgoUEJCgho3bqygoCA9/PDDOnv2rEvN5s2b1atXL/n5%2BalDhw5KT08/p5/Fixerffv2atSokaKjo3/TnAAAQP1gPGD16NFDCxcuVGFhof7%2B97/r6NGj6tevn7p06aL58%2BeruLj4osbZsmWLkpOT9eGHHyozM1MVFRUaOHCgSktLrZpJkybpnXfe0erVq7VlyxYVFhbq9ttvt85XVlYqISFB5eXl2r59u5YvX6709HTNmjXLqjl8%2BLASEhLUv39/7d69WxMnTtT999%2BvjRs3WjUrV65USkqKZs%2BerZ07d6p79%2B6Ki4vTsWPHDLxiAACgrvFyOp3OmrxAWVmZlixZounTp6u8vFy%2Bvr7685//rKefflqtW7e%2B6HGKi4sVFBSkLVu26Prrr1dJSYlatWqlFStW6I477pAkHThwQJ07d1Z2drb69u2rDRs26Oabb1ZhYaGCg4MlSWlpaZo6daqKi4vl6%2BurqVOnav369crLy7OuNWzYMJ08eVIZGRmSpOjoaPXu3VuLFi2SJFVVVSksLEzjx4/XtGnTLti7w%2BFQYGCgSkpKZLPZLnrOQF0VNSPD3S3UaTlPxLu7BaBWcOfv3xr7FGFOTo7%2B%2B7//W61bt9b8%2BfP10EMP6eDBg8rMzFRhYaFuvfXWXzVeSUmJJKl58%2BaSpNzcXFVUVCg2Ntaq6dSpk9q2bavs7GxJUnZ2trp27WqFK0mKi4uTw%2BHQ/v37rZofj1FdUz1GeXm5cnNzXWq8vb0VGxtr1QAAAPxYA9MDzp8/X8uWLVN%2Bfr4GDRqkV199VYMGDZK39w9ZLjw8XOnp6Wrfvv1Fj1lVVaWJEyfq2muvVZcuXSRJdrtdvr6%2Batq0qUttcHCw7Ha7VfPjcFV9vvrcL9U4HA59//33OnHihCorK89bc%2BDAgfP2W1ZWprKyMuu5w%2BG46LkCAADPZzxgLV26VPfdd59Gjhz5s28BBgUF6ZVXXrnoMZOTk5WXl6dt27aZarNGpaam6pFHHnF3GwAAwE2MB6zPP//8gjW%2Bvr5KTEy8qPHGjRundevWaevWrWrTpo11PCQkROXl5Tp58qTLKlZRUZFCQkKsmp9%2B2q/6U4Y/rvnpJw%2BLiopks9nk7%2B8vHx8f%2Bfj4nLemeoyfmj59ulJSUqznDodDYWFhFzVfAADg%2BYzfg7Vs2TKtXr36nOOrV6/W8uXLL3ocp9OpcePGac2aNdq0aZPCw8NdzkdGRqphw4bKysqyjuXn56ugoEAxMTGSpJiYGO3bt8/l036ZmZmy2WyKiIiwan48RnVN9Ri%2Bvr6KjIx0qamqqlJWVpZV81N%2Bfn6y2WwuDwAAUH8YD1ipqalq2bLlOceDgoL05JNPXvQ4ycnJ%2Bsc//qEVK1YoICBAdrtddrtd33//vSQpMDBQSUlJSklJ0QcffKDc3FyNGjVKMTEx6tu3ryRp4MCBioiI0D333KM9e/Zo48aNmjlzppKTk%2BXn5ydJGjNmjA4dOqQpU6bowIEDWrJkiVatWqVJkyZZvaSkpOhvf/ubli9frk8//VRjx45VaWmpRo0a9XteKgAAUEcZf4uwoKDgnNUmSWrXrp0KCgouepylS5dKkm644QaX48uWLdPIkSMlSc8995y8vb01ZMgQlZWVKS4uTkuWLLFqfXx8tG7dOo0dO1YxMTFq0qSJEhMT9eijj1o14eHhWr9%2BvSZNmqSFCxeqTZs2evnllxUXF2fVDB06VMXFxZo1a5bsdrt69OihjIyMc258B9yJrQ8AoPYwvg9W27ZttWjRIv3pT39yOf7WW28pOTlZR44cMXk5j8A%2BWLgUCFioxj5YwA/q1D5Yd911lx588EF98MEHqqysVGVlpTZt2qQJEyZo2LBhpi8HAABQ6xh/i/Cxxx7Tl19%2BqQEDBqhBgx%2BGr6qq0r333vur7sECAADwVMYDlq%2Bvr1auXKnHHntMe/bskb%2B/v7p27ap27dqZvhQAAECtZDxgVbvyyit15ZVX1tTwAAAAtZbxgFVZWan09HRlZWXp2LFjqqqqcjm/adMm05cEAACoVYwHrAkTJig9PV0JCQnq0qWLvLy8TF8CAACgVjMesF5//XWtWrVKgwYNMj00AACARzC%2BTYOvr686dOhgelgAAACPYTxgTZ48WQsXLpTh/UsBAAA8hvG3CLdt26YPPvhAGzZs0NVXX62GDRu6nH/zzTdNXxIAAKBWMR6wmjZtqttuu830sAAAAB7DeMBatmyZ6SEBAAA8ivF7sCTp7Nmzev/99/Xiiy/q1KlTkqTCwkKdPn26Ji4HAABQqxhfwfrqq68UHx%2BvgoIClZWV6Y9//KMCAgL09NNPq6ysTGlpaaYvCQAAUKsYX8GaMGGCoqKidOLECfn7%2B1vHb7vtNmVlZZm%2BHAAAQK1jfAXrX//6l7Zv3y5fX1%2BX4%2B3bt9c333xj%2BnIAAAC1jvEVrKqqKlVWVp5z/MiRIwoICDB9OQAAgFrHeMAaOHCgFixYYD338vLS6dOnNXv2bL4%2BBwAA1AvG3yKcN2%2Be4uLiFBERoTNnzmj48OH6/PPP1bJlS/3zn/80fTkAAIBax3jAatOmjfbs2aPXX39de/fu1enTp5WUlKQRI0a43PQOAABQVxkPWJLUoEED3X333TUxNAAAQK1nPGC9%2Buqrv3j%2B3nvvNX1JAACAWsV4wJowYYLL84qKCv3nP/%2BRr6%2BvGjduTMACAAB1nvFPEZ44ccLlcfr0aeXn56tfv37c5A4AAOqFGvkuwp/q2LGjnnrqqXNWtwAAAOqiSxKwpB9ufC8sLLxUlwMAAHAb4/dgvf322y7PnU6njh49qkWLFunaa681fTkAAIBax3jAGjx4sMtzLy8vtWrVSjfeeKPmzZtn%2BnIAAAC1jvGAVVVVZXpIAAAAj3LJ7sECAACoL4yvYKWkpFx07fz5801fHgAAwO2MB6xdu3Zp165dqqio0FVXXSVJ%2Buyzz%2BTj46NevXpZdV5eXqYvDQAAUCsYD1i33HKLAgICtHz5cjVr1kzSD5uPjho1Stddd50mT55s%2BpIAAAC1ivF7sObNm6fU1FQrXElSs2bN9Pjjj/MpQgAAUC8YD1gOh0PFxcXnHC8uLtapU6dMXw4AAKDWMR6wbrvtNo0aNUpvvvmmjhw5oiNHjuiNN95QUlKSbr/9dtOXAwAAqHWMB6y0tDTddNNNGj58uNq1a6d27dpp%2BPDhio%2BP15IlSy56nK1bt%2BqWW25RaGiovLy8tHbtWpfzI0eOlJeXl8sjPj7epeb48eMaMWKEbDabmjZtqqSkJJ0%2BfdqlZu/evbruuuvUqFEjhYWFae7cuef0snr1anXq1EmNGjVS165d9e677178CwIAAOod4wGrcePGWrJkib777jvrE4XHjx/XkiVL1KRJk4sep7S0VN27d9fixYt/tiY%2BPl5Hjx61Hv/85z9dzo8YMUL79%2B9XZmam1q1bp61bt%2BqBBx6wzjscDg0cOFDt2rVTbm6unnnmGc2ZM0cvvfSSVbN9%2B3bdddddSkpK0q5duzR48GANHjxYeXl5v%2BJVAQAA9YmX0%2Bl01sTAX3zxhQ4ePKjrr79e/v7%2Bcjqdv3lrBi8vL61Zs8bla3hGjhypkydPnrOyVe3TTz9VRESEPv74Y0VFRUmSMjIyNGjQIB05ckShoaFaunSpZsyYIbvdLl9fX0nStGnTtHbtWh04cECSNHToUJWWlmrdunXW2H379lWPHj2UlpZ2Uf07HA4FBgaqpKRENpvtN7wCwIVFzchwdwuoJXKeiL9wEVAPuPP3r/EVrO%2B%2B%2B04DBgzQlVdeqUGDBuno0aOSpKSkJONbNGzevFlBQUG66qqrNHbsWH333XfWuezsbDVt2tQKV5IUGxsrb29vffTRR1bN9ddfb4UrSYqLi1N%2Bfr5OnDhh1cTGxrpcNy4uTtnZ2T/bV1lZmRwOh8sDAADUH8YD1qRJk9SwYUMVFBSocePG1vGhQ4cqI8Pc/8OOj4/Xq6%2B%2BqqysLD399NPasmWLbrrpJlVWVkqS7Ha7goKCXH6mQYMGat68uex2u1UTHBzsUlP9/EI11efPJzU1VYGBgdYjLCzs900WAAB4FOMbjb733nvauHGj2rRp43K8Y8eO%2Buqrr4xdZ9iwYdafu3btqm7duumKK67Q5s2bNWDAAGPX%2BS2mT5/u8pVBDoeDkAUAQD1ifAWrtLTUZeWq2vHjx%2BXn52f6cpbLL79cLVu21BdffCFJCgkJ0bFjx1xqzp49q%2BPHjyskJMSqKSoqcqmpfn6hmurz5%2BPn5yebzebyAAAA9YfxgHXdddfp1VdftZ57eXmpqqpKc%2BfOVf/%2B/U1fznLkyBF99913at26tSQpJiZGJ0%2BeVG5urlWzadMmVVVVKTo62qrZunWrKioqrJrMzExdddVV1k70MTExysrKcrlWZmamYmJiamwuAADAsxl/i3Du3LkaMGCAcnJyVF5erilTpmj//v06fvy4/v3vf1/0OKdPn7ZWoyTp8OHD2r17t5o3b67mzZvrkUce0ZAhQxQSEqKDBw9qypQp6tChg%2BLi4iRJnTt3Vnx8vEaPHq20tDRVVFRo3LhxGjZsmEJDQyVJw4cP1yOPPKKkpCRNnTpVeXl5WrhwoZ577jnruhMmTNAf/vAHzZs3TwkJCXr99deVk5PjspUDAADAjxlfwerSpYs%2B%2B%2Bwz9evXT7feeqtKS0t1%2B%2B23a9euXbriiisuepycnBz17NlTPXv2lCSlpKSoZ8%2BemjVrlnx8fLR371796U9/0pVXXqmkpCRFRkbqX//6l8vbkK%2B99po6deqkAQMGaNCgQerXr59LMAoMDNR7772nw4cPKzIyUpMnT9asWbNc9sq65pprtGLFCr300kvq3r27/u///k9r165Vly5dDLxaAACgLjK6D1ZFRYXi4%2BOVlpamjh07mhrW47EPFi4F9sFCNfbBAn5QZ/bBatiwofbu3WtySAAAAI9j/C3Cu%2B%2B%2BW6%2B88orpYQEAADyG8Zvcz549q7///e96//33FRkZec73D86fP9/0JQEAAGoVYwHr0KFDat%2B%2BvfLy8tSrVy9J0meffeZS81u/ixAAAMCTGAtYHTt21NGjR/XBBx9I%2BuGrcZ5//vlzvmYGAACgrjN2D9ZPP4y4YcMGlZaWmhoeAADAYxi/yb2awd0fAAAAPIqxgOXl5XXOPVbccwUAAOojY/dgOZ1OjRw50tpJ/cyZMxozZsw5nyJ88803TV0SAACgVjIWsBITE12e33333aaGBgAA8CjGAtayZctMDQUAAODRauwmdwAAgPqKgAUAAGAYAQsAAMAwAhYAAIBhBCwAAADDCFgAAACGEbAAAAAMI2ABAAAYRsACAAAwjIAFAABgGAELAADAMAIWAACAYQQsAAAAwwhYAAAAhhGwAAAADCNgAQAAGNbA3Q0AAMyKmpHh7hYuWs4T8e5uAagRrGABAAAYRsACAAAwjIAFAABgGAELAADAMAIWAACAYQQsAAAAwwhYAAAAhtXagLV161bdcsstCg0NlZeXl9auXety3ul0atasWWrdurX8/f0VGxurzz//3KXm%2BPHjGjFihGw2m5o2baqkpCSdPn3apWbv3r267rrr1KhRI4WFhWnu3Lnn9LJ69Wp16tRJjRo1UteuXfXuu%2B8any8AAKg7am3AKi0tVffu3bV48eLznp87d66ef/55paWl6aOPPlKTJk0UFxenM2fOWDUjRozQ/v37lZmZqXXr1mnr1q164IEHrPMOh0MDBw5Uu3btlJubq2eeeUZz5szRSy%2B9ZNVs375dd911l5KSkrRr1y4NHjxYgwcPVl5eXs1NHgAAeDQvp9PpdHcTF%2BLl5aU1a9Zo8ODBkn5YvQoNDdXkyZP10EMPSZJKSkoUHBys9PR0DRs2TJ9%2B%2BqkiIiL08ccfKyoqSpKUkZGhQYMG6ciRIwoNDdXSpUs1Y8YM2e12%2Bfr6SpKmTZumtWvX6sCBA5KkoUOHqrS0VOvWrbP66du3r3r06KG0tLSL6t/hcCgwMFAlJSWy2WymXhbAhSft3g1UYyd31CR3/v6ttStYv%2BTw4cOy2%2B2KjY21jgUGBio6OlrZ2dmSpOzsbDVt2tQKV5IUGxsrb29vffTRR1bN9ddfb4UrSYqLi1N%2Bfr5OnDhh1fz4OtU11dcBAAD4KY/8LkK73S5JCg4OdjkeHBxsnbPb7QoKCnI536BBAzVv3tylJjw8/Jwxqs81a9ZMdrv9F69zPmVlZSorK7OeOxyOXzM9AADg4TxyBau2S01NVWBgoPUICwtzd0sAAOAS8siAFRISIkkqKipyOV5UVGSdCwkJ0bFjx1zOnz17VsePH3epOd8YP77Gz9VUnz%2Bf6dOnq6SkxHp8/fXXv3aKAADAg3lkwAoPD1dISIiysrKsYw6HQx999JFiYmIkSTExMTp58qRyc3Otmk2bNqmqqkrR0dFWzdatW1VRUWHVZGZm6qqrrlKzZs2smh9fp7qm%2Bjrn4%2BfnJ5vN5vIAAAD1R60NWKdPn9bu3bu1e/duST/c2L57924VFBTIy8tLEydO1OOPP663335b%2B/bt07333qvQ0FDrk4adO3dWfHy8Ro8erR07dujf//63xo0bp2HDhik0NFSSNHz4cPn6%2BiopKUn79%2B/XypUrtXDhQqWkpFh9TJgwQRkZGZo3b54OHDigOXPmKCcnR%2BPGjbvULwkAAPAQtfYm95ycHPXv3996Xh16EhMTlZ6erilTpqi0tFQPPPCATp48qX79%2BikjI0ONGjWyfua1117TuHHjNGDAAHl7e2vIkCF6/vnnrfOBgYF67733lJycrMjISLVs2VKzZs1y2Svrmmuu0YoVKzRz5kz99a9/VceOHbV27Vp16dLlErwKAADAE3nEPliejn2wcCmwDxY8EftgoSaxDxYAAEAdQsACAAAwjIAFAABgGAELAADAMAIWAACAYQQsAAAAwwhYAAAAhhGwAAAADCNgAQAAGEbAAgAAMIyABQAAYBgBCwAAwDACFgAAgGEELAAAAMMIWAAAAIYRsAAAAAwjYAEAABhGwAIAADCMgAUAAGAYAQsAAMAwAhYAAIBhBCwAAADDCFgAAACGEbAAAAAMI2ABAAAYRsACAAAwjIAFAABgGAELAADAMAIWAACAYQQsAAAAwwhYAAAAhhGwAAAADCNgAQAAGEbAAgAAMKyBuxsAaquoGRnubgEA4KFYwQIAADDMYwPWnDlz5OXl5fLo1KmTdf7MmTNKTk5WixYtdNlll2nIkCEqKipyGaOgoEAJCQlq3LixgoKC9PDDD%2Bvs2bMuNZs3b1avXr3k5%2BenDh06KD09/VJMDwAAeDCPDViSdPXVV%2Bvo0aPWY9u2bda5SZMm6Z133tHq1au1ZcsWFRYW6vbbb7fOV1ZWKiEhQeXl5dq%2BfbuWL1%2Bu9PR0zZo1y6o5fPiwEhIS1L9/f%2B3evVsTJ07U/fffr40bN17SeQIAAM/i0fdgNWjQQCEhIeccLykp0SuvvKIVK1boxhtvlCQtW7ZMnTt31ocffqi%2Bffvqvffe0yeffKL3339fwcHB6tGjhx577DFNnTpVc%2BbMka%2Bvr9LS0hQeHq558%2BZJkjp37qxt27bpueeeU1xc3CWdKwAA8BwevYL1%2BeefKzQ0VJdffrlGjBihgoICSVJubq4qKioUGxtr1Xbq1Elt27ZVdna2JCk7O1tdu3ZVcHCwVRMXFyeHw6H9%2B/dbNT8eo7qmeoyfU1ZWJofD4fIAAAD1h8cGrOjoaKWnpysjI0NLly7V4cOHdd111%2BnUqVOy2%2B3y9fVV06ZNXX4mODhYdrtdkmS3213CVfX56nO/VONwOPT999//bG%2BpqakKDAy0HmFhYb93ugAAwIN47FuEN910k/Xnbt26KTo6Wu3atdOqVavk7%2B/vxs6k6dOnKyUlxXrucDgIWQAA1CMeu4L1U02bNtWVV16pL774QiEhISovL9fJkyddaoqKiqx7tkJCQs75VGH18wvV2Gy2Xwxxfn5%2BstlsLg8AAFB/1JmAdfr0aR08eFCtW7dWZGSkGjZsqKysLOt8fn6%2BCgoKFBMTI0mKiYnRvn37dOzYMasmMzNTNptNERERVs2Px6iuqR4DAADgfDw2YD300EPasmWLvvzyS23fvl233XabfHx8dNdddykwMFBJSUlKSUnRBx98oNzcXI0aNUoxMTHq27evJGngwIGKiIjQPffcoz179mjjxo2aOXOmkpOT5efnJ0kaM2aMDh06pClTpujAgQNasmSJVq1apUmTJrlz6gAAoJbz2Huwjhw5orvuukvfffedWrVqpX79%2BunDDz9Uq1atJEnPPfecvL29NWTIEJWVlSkuLk5Lliyxft7Hx0fr1q3T2LFjFRMToyZNmigxMVGPPvqoVRMeHq7169dr0qRJWrhwodq0aaOXX36ZLRoAAMAv8nI6nU53N1HXORwOBQYGqqSkhPuxPAjfRQjUvJwn4t3dAuowd/7%2B9di3CAEAAGorAhYAAIBhBCwAAADDCFgAAACGEbAAAAAMI2ABAAAYRsACAAAwjIAFAABgGAELAADAMAIWAACAYQQsAAAAwwhYAAAAhhGwAAAADCNgAQAAGEbAAgAAMIyABQAAYBgBCwAAwDACFgAAgGEN3N0AAKD%2BipqR4e4WfpWcJ%2BLd3QI8BCtYAAAAhhGwAAAADCNgAQAAGEbAAgAAMIyABQAAYBgBCwAAwDACFgAAgGEELAAAAMMIWAAAAIYRsAAAAAwjYAEAABhGwAIAADCMgAUAAGBYA3c3gPojakaGu1sAAOCSYAULAADAMAIWAACAYQQsAAAAwwhYF2nx4sVq3769GjVqpOjoaO3YscPdLQEAgFqKgHURVq5cqZSUFM2ePVs7d%2B5U9%2B7dFRcXp2PHjrm7NQAAUAt5OZ1Op7ubqO2io6PVu3dvLVq0SJJUVVWlsLAwjR8/XtOmTbvgzzscDgUGBqqkpEQ2m62m2621%2BBQhAFxaOU/Eu7sFt3Ln71%2B2abiA8vJy5ebmavr06dYxb29vxcbGKjs7%2B7w/U1ZWprKyMut5SUmJpB/%2BouuzyrJSd7cAAPVKff%2B9Uz1/d6wlEbAu4Ntvv1VlZaWCg4NdjgcHB%2BvAgQPn/ZnU1FQ98sgj5xwPCwurkR4BADifwHnu7qB2OHXqlAIDAy/pNQlYNWD69OlKSUmxnldVVen48eNq0aKFvLy83NiZWQ6HQ2FhYfr666/r9FufzLPuqS9zrS/zlOrPXOvLPCUzc3U6nTp16pRCQ0MNd3dhBKwLaNmypXx8fFRUVORyvKioSCEhIef9GT8/P/n5%2Bbkca9q0aU216HY2m63O/4cuMc%2B6qL7Mtb7MU6o/c60v85R%2B/1wv9cpVNT5FeAG%2Bvr6KjIxUVlaWdayqqkpZWVmKiYlxY2cAAKC2YgXrIqSkpCgxMVFRUVHq06ePFixYoNLSUo0aNcrdrQEAgFqIgHURhg4dquLiYs2aNUt2u109evRQRkbGOTe%2B1zd%2Bfn6aPXv2OW%2BH1jXMs%2B6pL3OtL/OU6s9c68s8Jc%2BfK/tgAQAAGMY9WAAAAIYRsAAAAAwjYAEAABhGwAIAADCMgAVj1q9fr%2BjoaPn7%2B6tZs2YaPHiwu1uqMWVlZerRo4e8vLy0e/dud7dj3JdffqmkpCSFh4fL399fV1xxhWbPnq3y8nJ3t/a7LV68WO3bt1ejRo0UHR2tHTt2uLsl41JTU9W7d28FBAQoKChIgwcPVn5%2BvrvbqnFPPfWUvLy8NHHiRHe3UiO%2B%2BeYb3X333WrRooX8/f3VtWtX5eTkuLstoyorK/U///M/Lv/2PPbYY275LsHfi20aYMQbb7yh0aNH68knn9SNN96os2fPKi8vz91t1ZgpU6YoNDRUe/bscXcrNeLAgQOqqqrSiy%2B%2BqA4dOigvL0%2BjR49WaWmpnn32WXe395utXLlSKSkpSktLU3R0tBYsWKC4uDjl5%2BcrKCjI3e0Zs2XLFiUnJ6t37946e/as/vrXv2rgwIH65JNP1KRJE3e3VyM%2B/vhjvfjii%2BrWrZu7W6kRJ06c0LXXXqv%2B/ftrw4YNatWqlT7//HM1a9bM3a0Z9fTTT2vp0qVavny5rr76auXk5GjUqFEKDAzUgw8%2B6O72fh0n8DtVVFQ4/%2Bu//sv58ssvu7uVS%2BLdd991durUybl//36nJOeuXbvc3dIlMXfuXGd4eLi72/hd%2BvTp40xOTraeV1ZWOkNDQ52pqalu7KrmHTt2zCnJuWXLFne3UiNOnTrl7NixozMzM9P5hz/8wTlhwgR3t2Tc1KlTnf369XN3GzUuISHBed9997kcu/32250jRoxwU0e/HW8R4nfbuXOnvvnmG3l7e6tnz55q3bq1brrppjq5glVUVKTRo0frf//3f9W4cWN3t3NJlZSUqHnz5u5u4zcrLy9Xbm6uYmNjrWPe3t6KjY1Vdna2GzureSUlJZLk0X9/vyQ5OVkJCQkuf7d1zdtvv62oqCjdeeedCgoKUs%2BePfW3v/3N3W0Zd8011ygrK0ufffaZJGnPnj3atm2bbrrpJjd39usRsPC7HTp0SJI0Z84czZw5U%2BvWrVOzZs10ww036Pjx427uzhyn06mRI0dqzJgxioqKcnc7l9QXX3yhF154QX/5y1/c3cpv9u2336qysvKcb2AIDg6W3W53U1c1r6qqShMnTtS1116rLl26uLsd415//XXt3LlTqamp7m6lRh06dEhLly5Vx44dtXHjRo0dO1YPPvigli9f7u7WjJo2bZqGDRumTp06qWHDhurZs6cmTpyoESNGuLu1X42AhZ81bdo0eXl5/eKj%2Bl4dSZoxY4aGDBmiyMhILVu2TF5eXlq9erWbZ3FhFzvPF154QadOndL06dPd3fJvdrFz/bFvvvlG8fHxuvPOOzV69Gg3dY7fKjk5WXl5eXr99dfd3YpxX3/9tSZMmKDXXntNjRo1cnc7Naqqqkq9evXSk08%2BqZ49e%2BqBBx7Q6NGjlZaW5u7WjFq1apVee%2B01rVixQjt37tTy5cv17LPPemSQ5CZ3/KzJkydr5MiRv1hz%2BeWX6%2BjRo5KkiIgI67ifn58uv/xyFRQU1GSLRlzsPDdt2qTs7OxzvhcrKipKI0aM8Ih/AC52rtUKCwvVv39/XXPNNXrppZdquLua1bJlS/n4%2BKioqMjleFFRkUJCQtzUVc0aN26c1q1bp61bt6pNmzbubse43NxcHTt2TL169bKOVVZWauvWrVq0aJHKysrk4%2BPjxg7Nad26tcu/sZLUuXNnvfHGG27qqGY8/PDD1iqWJHXt2lVfffWVUlNTlZiY6Obufh0CFn5Wq1at1KpVqwvWRUZGys/PT/n5%2BerXr58kqaKiQl9%2B%2BaXatWtX023%2Bbhc7z%2Beff16PP/649bywsFBxcXFauXKloqOja7JFYy52rtIPK1f9%2B/e3ViS9vT17wdvX11eRkZHKysqythCpqqpSVlaWxo0b597mDHM6nRo/frzWrFmjzZs3Kzw83N0t1YgBAwZo3759LsdGjRqlTp06aerUqXUmXEnStddee85WG5999plH/Bv7a/znP/85598aHx8f650ST0LAwu9ms9k0ZswYzZ49W2FhYWrXrp2eeeYZSdKdd97p5u7Madu2rcvzyy67TJJ0xRVX1LnVgW%2B%2B%2BUY33HCD2rVrp2effVbFxcXWOU9e7UlJSVFiYqKioqLUp08fLViwQKWlpRo1apS7WzMqOTlZK1as0FtvvaWAgADrHrPAwED5%2B/u7uTtzAgICzrmvrEmTJmrRokWdu99s0qRJuuaaa/Tkk0/qz3/%2Bs3bs2KGXXnrJ41eWf%2BqWW27RE088obZt2%2Brqq6/Wrl27NH/%2BfN13333ubu3Xc/fHGFE3lJeXOydPnuwMCgpyBgQEOGNjY515eXnubqtGHT58uM5u07Bs2TKnpPM%2BPN0LL7zgbNu2rdPX19fZp08f54cffujuloz7ub%2B7ZcuWubu1GldXt2lwOp3Od955x9mlSxenn5%2Bfs1OnTs6XXnrJ3S0Z53A4nBMmTHC2bdvW2ahRI%2Bfll1/unDFjhrOsrMzdrf1qXk6nB26PCgAAUIt59k0VAAAAtRABCwAAwDACFgAAgGEELAAAAMMIWAAAAIYRsAAAAAwjYAEAABhGwAIAADCMgAUAAGAYAQsAAMAwAhYAAIBhBCwAAADDCFgAAACGEbAAAAAMI2ABAAAYRsACAAAwjIAFAABgGAELAADAsP8H5VEAT%2Beb4iQAAAAASUVORK5CYII%3D\"/>\n",
       "        </div>\n",
       "        <div role=\"tabpanel\" class=\"tab-pane col-md-12\" id=\"common-4269209255617096035\">\n",
       "            \n",
       "<table class=\"freq table table-hover\">\n",
       "    <thead>\n",
       "    <tr>\n",
       "        <td class=\"fillremaining\">Value</td>\n",
       "        <td class=\"number\">Count</td>\n",
       "        <td class=\"number\">Frequency (%)</td>\n",
       "        <td style=\"min-width:200px\">&nbsp;</td>\n",
       "    </tr>\n",
       "    </thead>\n",
       "    <tr class=\"\">\n",
       "        <td class=\"fillremaining\">-1.888663419634944</td>\n",
       "        <td class=\"number\">1</td>\n",
       "        <td class=\"number\">0.0%</td>\n",
       "        <td>\n",
       "            <div class=\"bar\" style=\"width:1%\">&nbsp;</div>\n",
       "        </td>\n",
       "</tr><tr class=\"\">\n",
       "        <td class=\"fillremaining\">1.2544486496281502</td>\n",
       "        <td class=\"number\">1</td>\n",
       "        <td class=\"number\">0.0%</td>\n",
       "        <td>\n",
       "            <div class=\"bar\" style=\"width:1%\">&nbsp;</div>\n",
       "        </td>\n",
       "</tr><tr class=\"\">\n",
       "        <td class=\"fillremaining\">-2.2405713440125687</td>\n",
       "        <td class=\"number\">1</td>\n",
       "        <td class=\"number\">0.0%</td>\n",
       "        <td>\n",
       "            <div class=\"bar\" style=\"width:1%\">&nbsp;</div>\n",
       "        </td>\n",
       "</tr><tr class=\"\">\n",
       "        <td class=\"fillremaining\">1.341935656263003</td>\n",
       "        <td class=\"number\">1</td>\n",
       "        <td class=\"number\">0.0%</td>\n",
       "        <td>\n",
       "            <div class=\"bar\" style=\"width:1%\">&nbsp;</div>\n",
       "        </td>\n",
       "</tr><tr class=\"\">\n",
       "        <td class=\"fillremaining\">0.10339621248453452</td>\n",
       "        <td class=\"number\">1</td>\n",
       "        <td class=\"number\">0.0%</td>\n",
       "        <td>\n",
       "            <div class=\"bar\" style=\"width:1%\">&nbsp;</div>\n",
       "        </td>\n",
       "</tr><tr class=\"\">\n",
       "        <td class=\"fillremaining\">-0.00822769659496753</td>\n",
       "        <td class=\"number\">1</td>\n",
       "        <td class=\"number\">0.0%</td>\n",
       "        <td>\n",
       "            <div class=\"bar\" style=\"width:1%\">&nbsp;</div>\n",
       "        </td>\n",
       "</tr><tr class=\"\">\n",
       "        <td class=\"fillremaining\">-0.5932063249241766</td>\n",
       "        <td class=\"number\">1</td>\n",
       "        <td class=\"number\">0.0%</td>\n",
       "        <td>\n",
       "            <div class=\"bar\" style=\"width:1%\">&nbsp;</div>\n",
       "        </td>\n",
       "</tr><tr class=\"\">\n",
       "        <td class=\"fillremaining\">0.22689416859291034</td>\n",
       "        <td class=\"number\">1</td>\n",
       "        <td class=\"number\">0.0%</td>\n",
       "        <td>\n",
       "            <div class=\"bar\" style=\"width:1%\">&nbsp;</div>\n",
       "        </td>\n",
       "</tr><tr class=\"\">\n",
       "        <td class=\"fillremaining\">3.811052549178042</td>\n",
       "        <td class=\"number\">1</td>\n",
       "        <td class=\"number\">0.0%</td>\n",
       "        <td>\n",
       "            <div class=\"bar\" style=\"width:1%\">&nbsp;</div>\n",
       "        </td>\n",
       "</tr><tr class=\"\">\n",
       "        <td class=\"fillremaining\">5.466576179290451</td>\n",
       "        <td class=\"number\">1</td>\n",
       "        <td class=\"number\">0.0%</td>\n",
       "        <td>\n",
       "            <div class=\"bar\" style=\"width:1%\">&nbsp;</div>\n",
       "        </td>\n",
       "</tr><tr class=\"other\">\n",
       "        <td class=\"fillremaining\">Other values (99990)</td>\n",
       "        <td class=\"number\">99990</td>\n",
       "        <td class=\"number\">100.0%</td>\n",
       "        <td>\n",
       "            <div class=\"bar\" style=\"width:100%\">&nbsp;</div>\n",
       "        </td>\n",
       "</tr>\n",
       "</table>\n",
       "        </div>\n",
       "        <div role=\"tabpanel\" class=\"tab-pane col-md-12\"  id=\"extreme-4269209255617096035\">\n",
       "            <p class=\"h4\">Minimum 5 values</p>\n",
       "            \n",
       "<table class=\"freq table table-hover\">\n",
       "    <thead>\n",
       "    <tr>\n",
       "        <td class=\"fillremaining\">Value</td>\n",
       "        <td class=\"number\">Count</td>\n",
       "        <td class=\"number\">Frequency (%)</td>\n",
       "        <td style=\"min-width:200px\">&nbsp;</td>\n",
       "    </tr>\n",
       "    </thead>\n",
       "    <tr class=\"\">\n",
       "        <td class=\"fillremaining\">-7.084019760867246</td>\n",
       "        <td class=\"number\">1</td>\n",
       "        <td class=\"number\">0.0%</td>\n",
       "        <td>\n",
       "            <div class=\"bar\" style=\"width:100%\">&nbsp;</div>\n",
       "        </td>\n",
       "</tr><tr class=\"\">\n",
       "        <td class=\"fillremaining\">-6.748356769522671</td>\n",
       "        <td class=\"number\">1</td>\n",
       "        <td class=\"number\">0.0%</td>\n",
       "        <td>\n",
       "            <div class=\"bar\" style=\"width:100%\">&nbsp;</div>\n",
       "        </td>\n",
       "</tr><tr class=\"\">\n",
       "        <td class=\"fillremaining\">-6.7329971225283005</td>\n",
       "        <td class=\"number\">1</td>\n",
       "        <td class=\"number\">0.0%</td>\n",
       "        <td>\n",
       "            <div class=\"bar\" style=\"width:100%\">&nbsp;</div>\n",
       "        </td>\n",
       "</tr><tr class=\"\">\n",
       "        <td class=\"fillremaining\">-6.714372300565664</td>\n",
       "        <td class=\"number\">1</td>\n",
       "        <td class=\"number\">0.0%</td>\n",
       "        <td>\n",
       "            <div class=\"bar\" style=\"width:100%\">&nbsp;</div>\n",
       "        </td>\n",
       "</tr><tr class=\"\">\n",
       "        <td class=\"fillremaining\">-6.558540221169766</td>\n",
       "        <td class=\"number\">1</td>\n",
       "        <td class=\"number\">0.0%</td>\n",
       "        <td>\n",
       "            <div class=\"bar\" style=\"width:100%\">&nbsp;</div>\n",
       "        </td>\n",
       "</tr>\n",
       "</table>\n",
       "            <p class=\"h4\">Maximum 5 values</p>\n",
       "            \n",
       "<table class=\"freq table table-hover\">\n",
       "    <thead>\n",
       "    <tr>\n",
       "        <td class=\"fillremaining\">Value</td>\n",
       "        <td class=\"number\">Count</td>\n",
       "        <td class=\"number\">Frequency (%)</td>\n",
       "        <td style=\"min-width:200px\">&nbsp;</td>\n",
       "    </tr>\n",
       "    </thead>\n",
       "    <tr class=\"\">\n",
       "        <td class=\"fillremaining\">6.824057858208356</td>\n",
       "        <td class=\"number\">1</td>\n",
       "        <td class=\"number\">0.0%</td>\n",
       "        <td>\n",
       "            <div class=\"bar\" style=\"width:100%\">&nbsp;</div>\n",
       "        </td>\n",
       "</tr><tr class=\"\">\n",
       "        <td class=\"fillremaining\">7.080620485728392</td>\n",
       "        <td class=\"number\">1</td>\n",
       "        <td class=\"number\">0.0%</td>\n",
       "        <td>\n",
       "            <div class=\"bar\" style=\"width:100%\">&nbsp;</div>\n",
       "        </td>\n",
       "</tr><tr class=\"\">\n",
       "        <td class=\"fillremaining\">7.101618418422805</td>\n",
       "        <td class=\"number\">1</td>\n",
       "        <td class=\"number\">0.0%</td>\n",
       "        <td>\n",
       "            <div class=\"bar\" style=\"width:100%\">&nbsp;</div>\n",
       "        </td>\n",
       "</tr><tr class=\"\">\n",
       "        <td class=\"fillremaining\">7.761857138663879</td>\n",
       "        <td class=\"number\">1</td>\n",
       "        <td class=\"number\">0.0%</td>\n",
       "        <td>\n",
       "            <div class=\"bar\" style=\"width:100%\">&nbsp;</div>\n",
       "        </td>\n",
       "</tr><tr class=\"\">\n",
       "        <td class=\"fillremaining\">7.844801270084258</td>\n",
       "        <td class=\"number\">1</td>\n",
       "        <td class=\"number\">0.0%</td>\n",
       "        <td>\n",
       "            <div class=\"bar\" style=\"width:100%\">&nbsp;</div>\n",
       "        </td>\n",
       "</tr>\n",
       "</table>\n",
       "        </div>\n",
       "    </div>\n",
       "</div>\n",
       "</div><div class=\"row variablerow\">\n",
       "    <div class=\"col-md-3 namecol\">\n",
       "        <p class=\"h4 pp-anchor\" id=\"pp_var_f2\">f2<br/>\n",
       "            <small>Numeric</small>\n",
       "        </p>\n",
       "    </div><div class=\"col-md-6\">\n",
       "    <div class=\"row\">\n",
       "        <div class=\"col-sm-6\">\n",
       "            <table class=\"stats \">\n",
       "                <tr>\n",
       "                    <th>Distinct count</th>\n",
       "                    <td>100000</td>\n",
       "                </tr>\n",
       "                <tr>\n",
       "                    <th>Unique (%)</th>\n",
       "                    <td>100.0%</td>\n",
       "                </tr>\n",
       "                <tr class=\"ignore\">\n",
       "                    <th>Missing (%)</th>\n",
       "                    <td>0.0%</td>\n",
       "                </tr>\n",
       "                <tr class=\"ignore\">\n",
       "                    <th>Missing (n)</th>\n",
       "                    <td>0</td>\n",
       "                </tr>\n",
       "                <tr class=\"ignore\">\n",
       "                    <th>Infinite (%)</th>\n",
       "                    <td>0.0%</td>\n",
       "                </tr>\n",
       "                <tr class=\"ignore\">\n",
       "                    <th>Infinite (n)</th>\n",
       "                    <td>0</td>\n",
       "                </tr>\n",
       "            </table>\n",
       "\n",
       "        </div>\n",
       "        <div class=\"col-sm-6\">\n",
       "            <table class=\"stats \">\n",
       "\n",
       "                <tr>\n",
       "                    <th>Mean</th>\n",
       "                    <td>2.4951</td>\n",
       "                </tr>\n",
       "                <tr>\n",
       "                    <th>Minimum</th>\n",
       "                    <td>-11.97</td>\n",
       "                </tr>\n",
       "                <tr>\n",
       "                    <th>Maximum</th>\n",
       "                    <td>16.739</td>\n",
       "                </tr>\n",
       "                <tr class=\"ignore\">\n",
       "                    <th>Zeros (%)</th>\n",
       "                    <td>0.0%</td>\n",
       "                </tr>\n",
       "            </table>\n",
       "        </div>\n",
       "    </div>\n",
       "</div>\n",
       "<div class=\"col-md-3 collapse in\" id=\"minihistogram-2219058519422468124\">\n",
       "    <img src=\"data:image/png;base64,iVBORw0KGgoAAAANSUhEUgAAAMgAAABLCAYAAAA1fMjoAAAAOXRFWHRTb2Z0d2FyZQBNYXRwbG90bGliIHZlcnNpb24zLjUuMywgaHR0cHM6Ly9tYXRwbG90bGliLm9yZy/NK7nSAAAACXBIWXMAAA9hAAAPYQGoP6dpAAAB00lEQVR4nO3dscrTUBzG4X8%2BXJPupbkIwd1J8IK%2BTXAQHL0Ud8HJ3bto6QUke%2BOgdRB8/Soxae3z7DknhfPjcIaTNtM0TbWww%2BFQfd8vPS03br/f1263W3TOZ4vO9kPbtlX1/Qd3XbfGK3BDhmGovu9/rpslrRJI0zRVVdV1nUB%2B8eLNp4uf%2Bfr%2B9T94k%2BtzXjdLWiWQe/E3i53r8rD2C8A1EwgEAoFAIBAIBAKBQCAQCAQCgUAgEAgEAoFAIBAIBAKBQCAQCAQCgUAgEAgEAoHAnfT/wKV33%2B/lIw9zsINAYAe5gK%2BU3B87CAQCgUAgEAgEAoFAIBAIBAKBQCAQCAQCgUAgEAgEAoFAIBAIBAKB%2ByB3yF9NP50dBIK73UHcDuQp7CAQCAQCgUAgEAhWOaRP01RVVcMwzDLey3efZxmH33v%2B%2BPHiZ768fTXL3Od1cl43S1olkHEcq6qq7/s1pmchmw/zjjeOY202m3kH/YNmWiHL0%2BlUx%2BOx2ratpmmWnp4bM01TjeNY2%2B22Hh6WPRWsEgjcCod0CAQCgUAgEAgEAoFAIBAIBAKBQCAQCAQCgUAgEAgEAoFAIBAIBAKBQCAQCAQCgUAgEAgEAoFAIBAIBIJv4W5JQWOpgyIAAAAASUVORK5CYII%3D\">\n",
       "\n",
       "</div>\n",
       "<div class=\"col-md-12 text-right\">\n",
       "    <a role=\"button\" data-toggle=\"collapse\" data-target=\"#descriptives-2219058519422468124,#minihistogram-2219058519422468124\"\n",
       "       aria-expanded=\"false\" aria-controls=\"collapseExample\">\n",
       "        Toggle details\n",
       "    </a>\n",
       "</div>\n",
       "<div class=\"row collapse col-md-12\" id=\"descriptives-2219058519422468124\">\n",
       "    <ul class=\"nav nav-tabs\" role=\"tablist\">\n",
       "        <li role=\"presentation\" class=\"active\"><a href=\"#quantiles-2219058519422468124\"\n",
       "                                                  aria-controls=\"quantiles-2219058519422468124\" role=\"tab\"\n",
       "                                                  data-toggle=\"tab\">Statistics</a></li>\n",
       "        <li role=\"presentation\"><a href=\"#histogram-2219058519422468124\" aria-controls=\"histogram-2219058519422468124\"\n",
       "                                   role=\"tab\" data-toggle=\"tab\">Histogram</a></li>\n",
       "        <li role=\"presentation\"><a href=\"#common-2219058519422468124\" aria-controls=\"common-2219058519422468124\"\n",
       "                                   role=\"tab\" data-toggle=\"tab\">Common Values</a></li>\n",
       "        <li role=\"presentation\"><a href=\"#extreme-2219058519422468124\" aria-controls=\"extreme-2219058519422468124\"\n",
       "                                   role=\"tab\" data-toggle=\"tab\">Extreme Values</a></li>\n",
       "\n",
       "    </ul>\n",
       "\n",
       "    <div class=\"tab-content\">\n",
       "        <div role=\"tabpanel\" class=\"tab-pane active row\" id=\"quantiles-2219058519422468124\">\n",
       "            <div class=\"col-md-4 col-md-offset-1\">\n",
       "                <p class=\"h4\">Quantile statistics</p>\n",
       "                <table class=\"stats indent\">\n",
       "                    <tr>\n",
       "                        <th>Minimum</th>\n",
       "                        <td>-11.97</td>\n",
       "                    </tr>\n",
       "                    <tr>\n",
       "                        <th>5-th percentile</th>\n",
       "                        <td>-3.193</td>\n",
       "                    </tr>\n",
       "                    <tr>\n",
       "                        <th>Q1</th>\n",
       "                        <td>0.13036</td>\n",
       "                    </tr>\n",
       "                    <tr>\n",
       "                        <th>Median</th>\n",
       "                        <td>2.4842</td>\n",
       "                    </tr>\n",
       "                    <tr>\n",
       "                        <th>Q3</th>\n",
       "                        <td>4.8588</td>\n",
       "                    </tr>\n",
       "                    <tr>\n",
       "                        <th>95-th percentile</th>\n",
       "                        <td>8.2271</td>\n",
       "                    </tr>\n",
       "                    <tr>\n",
       "                        <th>Maximum</th>\n",
       "                        <td>16.739</td>\n",
       "                    </tr>\n",
       "                    <tr>\n",
       "                        <th>Range</th>\n",
       "                        <td>28.71</td>\n",
       "                    </tr>\n",
       "                    <tr>\n",
       "                        <th>Interquartile range</th>\n",
       "                        <td>4.7284</td>\n",
       "                    </tr>\n",
       "                </table>\n",
       "            </div>\n",
       "            <div class=\"col-md-4 col-md-offset-2\">\n",
       "                <p class=\"h4\">Descriptive statistics</p>\n",
       "                <table class=\"stats indent\">\n",
       "                    <tr>\n",
       "                        <th>Standard deviation</th>\n",
       "                        <td>3.4734</td>\n",
       "                    </tr>\n",
       "                    <tr>\n",
       "                        <th>Coef of variation</th>\n",
       "                        <td>1.3921</td>\n",
       "                    </tr>\n",
       "                    <tr>\n",
       "                        <th>Kurtosis</th>\n",
       "                        <td>-0.068082</td>\n",
       "                    </tr>\n",
       "                    <tr>\n",
       "                        <th>Mean</th>\n",
       "                        <td>2.4951</td>\n",
       "                    </tr>\n",
       "                    <tr>\n",
       "                        <th>MAD</th>\n",
       "                        <td>2.7785</td>\n",
       "                    </tr>\n",
       "                    <tr class=\"\">\n",
       "                        <th>Skewness</th>\n",
       "                        <td>0.0040572</td>\n",
       "                    </tr>\n",
       "                    <tr>\n",
       "                        <th>Sum</th>\n",
       "                        <td>249510</td>\n",
       "                    </tr>\n",
       "                    <tr>\n",
       "                        <th>Variance</th>\n",
       "                        <td>12.065</td>\n",
       "                    </tr>\n",
       "                    <tr>\n",
       "                        <th>Memory size</th>\n",
       "                        <td>781.4 KiB</td>\n",
       "                    </tr>\n",
       "                </table>\n",
       "            </div>\n",
       "        </div>\n",
       "        <div role=\"tabpanel\" class=\"tab-pane col-md-8 col-md-offset-2\" id=\"histogram-2219058519422468124\">\n",
       "            <img src=\"data:image/png;base64,iVBORw0KGgoAAAANSUhEUgAAAlgAAAGQCAYAAAByNR6YAAAAOXRFWHRTb2Z0d2FyZQBNYXRwbG90bGliIHZlcnNpb24zLjUuMywgaHR0cHM6Ly9tYXRwbG90bGliLm9yZy/NK7nSAAAACXBIWXMAAA9hAAAPYQGoP6dpAAAwF0lEQVR4nO3de3AUdb7//1cSmHCRSbglIV8iREAgcjuAhHHFWiTLBCIlwjkFiBgg4sIJrBC5iLIBvGw0HhBcEM4plWAdUaCOsitoMIbbUQIswchlBYHFDZxkAiuQgSgJJP37w0r/GIkK6wdmBp6Pqq5Nd7/z%2Bby7dySv6unpCbEsyxIAAACMCfV3AwAAADcbAhYAAIBhBCwAAADDCFgAAACGEbAAAAAMI2ABAAAYRsACAAAwjIAFAABgGAELAADAMAIWAACAYQQsAAAAwwhYAAAAhhGwAAAADCNgAQAAGEbAAgAAMIyABQAAYBgBCwAAwDACFgAAgGEELAAAAMMIWAAAAIYRsAAAAAwjYAEAABhGwAIAADCMgAUAAGAYAQsAAMAwAhYAAIBhBCwAAADDCFgAAACGEbAAAAAMI2ABAAAYRsACAAAwjIAFAABgGAELAADAMAIWAACAYQQsAAAAwwhYAAAAhhGwAAAADCNgAQAAGFbP3w3cCmpqalRSUqImTZooJCTE3%2B0AAHBLsCxL586dU2xsrEJDb%2Bw1JQLWDVBSUqK4uDh/twEAwC3p%2BPHjat269Q2dk4B1AzRp0kTS9/8HO51OP3cDAMCtwev1Ki4uzv47fCMRsG6A2rcFnU4nAQsAgBvMH7fncJM7AACAYQQsAAAAwwhYAAAAhhGwAAAADAvYgLVs2TJ169bNvjHc5XLpo48%2BsvdfuHBB6enpat68uW677TYNHz5cZWVlPmMUFxcrJSVFjRo1UlRUlGbMmKFLly751GzZskU9e/ZUeHi42rdvr5ycnCt6Wbp0qdq2basGDRooMTFRu3btui7HDAAAbg4BG7Bat26tF198UYWFhdq9e7fuv/9%2BPfjggzpw4IAkadq0afrggw%2B0du1abd26VSUlJRo2bJj9%2B9XV1UpJSVFVVZW2b9%2BulStXKicnR5mZmXbNsWPHlJKSov79%2B6uoqEhTp07VY489po0bN9o1q1evVkZGhubOnas9e/aoe/fucrvdOnny5I07GQAAILhYQaRp06bW66%2B/bp09e9aqX7%2B%2BtXbtWnvfl19%2BaUmyCgoKLMuyrA8//NAKDQ21PB6PXbNs2TLL6XRalZWVlmVZ1syZM6277rrLZ44RI0ZYbrfbXu/Tp4%2BVnp5ur1dXV1uxsbFWVlbWVfddXl5uSbLKy8uv7YABAMA/zZ9/fwP2Ctblqqur9e6776qiokIul0uFhYW6ePGikpKS7JpOnTrp9ttvV0FBgSSpoKBAXbt2VXR0tF3jdrvl9Xrtq2AFBQU%2BY9TW1I5RVVWlwsJCn5rQ0FAlJSXZNQAAAD8U0A8a3bdvn1wuly5cuKDbbrtN77//vhISElRUVCSHw6HIyEif%2BujoaHk8HkmSx%2BPxCVe1%2B2v3/VSN1%2BvVd999pzNnzqi6urrOmoMHD/5o35WVlaqsrLTXvV7vtR04AAAIagF9Batjx44qKirSzp07NWnSJKWmpuqvf/2rv9v6WVlZWYqIiLAXvocQAIBbS0AHLIfDofbt26tXr17KyspS9%2B7dtXjxYsXExKiqqkpnz571qS8rK1NMTIwkKSYm5opPFdau/1yN0%2BlUw4YN1aJFC4WFhdVZUztGXWbPnq3y8nJ7OX78%2BD91/AAAIDgFdMD6oZqaGlVWVqpXr16qX7%2B%2B8vPz7X2HDh1ScXGxXC6XJMnlcmnfvn0%2Bn/bLy8uT0%2BlUQkKCXXP5GLU1tWM4HA716tXLp6ampkb5%2Bfl2TV3Cw8Ptx0vw/YMAANx6AvYerNmzZ2vQoEG6/fbbde7cOa1atUpbtmzRxo0bFRERobS0NGVkZKhZs2ZyOp2aMmWKXC6X%2BvbtK0kaOHCgEhISNGbMGGVnZ8vj8WjOnDlKT09XeHi4JGnixIlasmSJZs6cqfHjx2vTpk1as2aNNmzYYPeRkZGh1NRU9e7dW3369NGiRYtUUVGhcePG%2BeW8ALjxej%2BT6%2B8WrsnuF5L93QJwywvYgHXy5Ek9%2BuijKi0tVUREhLp166aNGzfqN7/5jSTplVdeUWhoqIYPH67Kykq53W699tpr9u%2BHhYVp/fr1mjRpklwulxo3bqzU1FQ9%2B%2Byzdk18fLw2bNigadOmafHixWrdurVef/11ud1uu2bEiBE6deqUMjMz5fF41KNHD%2BXm5l5x4zsAAECtEMuyLH83cbPzer2KiIhQeXk5bxcCQYgrWEBw8uff36C6BwsAACAYELAAAAAMI2ABAAAYFrA3uQO4eQXbPU0AcK24ggUAAGAYAQsAAMAwAhYAAIBhBCwAAADDCFgAAACGEbAAAAAMI2ABAAAYRsACAAAwjIAFAABgGAELAADAMAIWAACAYQQsAAAAwwhYAAAAhhGwAAAADCNgAQAAGEbAAgAAMIyABQAAYBgBCwAAwDACFgAAgGEELAAAAMMIWAAAAIYRsAAAAAwjYAEAABhGwAIAADCMgAUAAGAYAQsAAMAwAhYAAIBhBCwAAADDCFgAAACGEbAAAAAMI2ABAAAYRsACAAAwjIAFAABgGAELAADAMAIWAACAYQQsAAAAwwhYAAAAhgVswMrKytLdd9%2BtJk2aKCoqSkOHDtWhQ4d8an79618rJCTEZ5k4caJPTXFxsVJSUtSoUSNFRUVpxowZunTpkk/Nli1b1LNnT4WHh6t9%2B/bKycm5op%2BlS5eqbdu2atCggRITE7Vr1y7jxwwAAG4OARuwtm7dqvT0dO3YsUN5eXm6ePGiBg4cqIqKCp%2B6CRMmqLS01F6ys7PtfdXV1UpJSVFVVZW2b9%2BulStXKicnR5mZmXbNsWPHlJKSov79%2B6uoqEhTp07VY489po0bN9o1q1evVkZGhubOnas9e/aoe/fucrvdOnny5PU/EQAAIOiEWJZl%2BbuJq3Hq1ClFRUVp69atuu%2B%2B%2ByR9fwWrR48eWrRoUZ2/89FHH%2BmBBx5QSUmJoqOjJUnLly/XrFmzdOrUKTkcDs2aNUsbNmzQ/v377d8bOXKkzp49q9zcXElSYmKi7r77bi1ZskSSVFNTo7i4OE2ZMkVPPfXUz/bu9XoVERGh8vJyOZ3OX3IagJtC72dy/d3CTW33C8n%2BbgEICP78%2BxuwV7B%2BqLy8XJLUrFkzn%2B1vv/22WrRooS5dumj27Nn69ttv7X0FBQXq2rWrHa4kye12y%2Bv16sCBA3ZNUlKSz5hut1sFBQWSpKqqKhUWFvrUhIaGKikpya75ocrKSnm9Xp8FAADcOur5u4GrUVNTo6lTp%2BpXv/qVunTpYm9/%2BOGH1aZNG8XGxmrv3r2aNWuWDh06pPfee0%2BS5PF4fMKVJHvd4/H8ZI3X69V3332nM2fOqLq6us6agwcP1tlvVlaW5s%2Bf/8sOGgAABK2gCFjp6enav3%2B/Pv30U5/tjz/%2BuP1z165d1apVKw0YMEBHjx5Vu3btbnSbttmzZysjI8Ne93q9iouL81s/AADgxgr4gDV58mStX79e27ZtU%2BvWrX%2ByNjExUZJ05MgRtWvXTjExMVd82q%2BsrEySFBMTY/9v7bbLa5xOpxo2bKiwsDCFhYXVWVM7xg%2BFh4crPDz86g8SAADcVAL2HizLsjR58mS9//772rRpk%2BLj43/2d4qKiiRJrVq1kiS5XC7t27fP59N%2BeXl5cjqdSkhIsGvy8/N9xsnLy5PL5ZIkORwO9erVy6empqZG%2Bfn5dg0AAMDlAvYKVnp6ulatWqU//elPatKkiX3PVEREhBo2bKijR49q1apVGjx4sJo3b669e/dq2rRpuu%2B%2B%2B9StWzdJ0sCBA5WQkKAxY8YoOztbHo9Hc%2BbMUXp6un2FaeLEiVqyZIlmzpyp8ePHa9OmTVqzZo02bNhg95KRkaHU1FT17t1bffr00aJFi1RRUaFx48bd%2BBMDAAACXsAGrGXLlkn6/lEMl1uxYoXGjh0rh8OhTz75xA47cXFxGj58uObMmWPXhoWFaf369Zo0aZJcLpcaN26s1NRUPfvss3ZNfHy8NmzYoGnTpmnx4sVq3bq1Xn/9dbndbrtmxIgROnXqlDIzM%2BXxeNSjRw/l5uZeceM7AACAFETPwQpmPAcL8MVzsK4vnoMFfI/nYAEAANxECFgAAACGEbAAAAAMI2ABAAAYRsACAAAwjIAFAABgGAELAADAMAIWAACAYQQsAAAAwwhYAAAAhhGwAAAADCNgAQAAGEbAAgAAMIyABQAAYBgBCwAAwDACFgAAgGEELAAAAMMIWAAAAIYRsAAAAAwjYAEAABhGwAIAADCMgAUAAGAYAQsAAMAwAhYAAIBhBCwAAADDCFgAAACGEbAAAAAMI2ABAAAYRsACAAAwjIAFAABgGAELAADAMAIWAACAYQQsAAAAwwhYAAAAhhGwAAAADCNgAQAAGEbAAgAAMIyABQAAYBgBCwAAwDACFgAAgGEBG7CysrJ09913q0mTJoqKitLQoUN16NAhn5oLFy4oPT1dzZs312233abhw4errKzMp6a4uFgpKSlq1KiRoqKiNGPGDF26dMmnZsuWLerZs6fCw8PVvn175eTkXNHP0qVL1bZtWzVo0ECJiYnatWuX8WMGAAA3h4ANWFu3blV6erp27NihvLw8Xbx4UQMHDlRFRYVdM23aNH3wwQdau3attm7dqpKSEg0bNszeX11drZSUFFVVVWn79u1auXKlcnJylJmZadccO3ZMKSkp6t%2B/v4qKijR16lQ99thj2rhxo12zevVqZWRkaO7cudqzZ4%2B6d%2B8ut9utkydP3piTAQAAgkqIZVmWv5u4GqdOnVJUVJS2bt2q%2B%2B67T%2BXl5WrZsqVWrVqlf/3Xf5UkHTx4UJ07d1ZBQYH69u2rjz76SA888IBKSkoUHR0tSVq%2BfLlmzZqlU6dOyeFwaNasWdqwYYP2799vzzVy5EidPXtWubm5kqTExETdfffdWrJkiSSppqZGcXFxmjJlip566qmf7d3r9SoiIkLl5eVyOp2mTw0QdHo/k%2BvvFm5qu19I9ncLQEDw59/fgL2C9UPl5eWSpGbNmkmSCgsLdfHiRSUlJdk1nTp10u23366CggJJUkFBgbp27WqHK0lyu93yer06cOCAXXP5GLU1tWNUVVWpsLDQpyY0NFRJSUl2DQAAwOXq%2BbuBq1FTU6OpU6fqV7/6lbp06SJJ8ng8cjgcioyM9KmNjo6Wx%2BOxay4PV7X7a/f9VI3X69V3332nM2fOqLq6us6agwcP1tlvZWWlKisr7XWv13uNRwwAAIJZUFzBSk9P1/79%2B/Xuu%2B/6u5WrkpWVpYiICHuJi4vzd0sAAOAGCviANXnyZK1fv16bN29W69at7e0xMTGqqqrS2bNnferLysoUExNj1/zwU4W16z9X43Q61bBhQ7Vo0UJhYWF11tSO8UOzZ89WeXm5vRw/fvzaDxwAAAStgA1YlmVp8uTJev/997Vp0ybFx8f77O/Vq5fq16%2Bv/Px8e9uhQ4dUXFwsl8slSXK5XNq3b5/Pp/3y8vLkdDqVkJBg11w%2BRm1N7RgOh0O9evXyqampqVF%2Bfr5d80Ph4eFyOp0%2BCwAAuHUE7D1Y6enpWrVqlf70pz%2BpSZMm9j1TERERatiwoSIiIpSWlqaMjAw1a9ZMTqdTU6ZMkcvlUt%2B%2BfSVJAwcOVEJCgsaMGaPs7Gx5PB7NmTNH6enpCg8PlyRNnDhRS5Ys0cyZMzV%2B/Hht2rRJa9as0YYNG%2BxeMjIylJqaqt69e6tPnz5atGiRKioqNG7cuBt/YgAAQMAL2IC1bNkySdKvf/1rn%2B0rVqzQ2LFjJUmvvPKKQkNDNXz4cFVWVsrtduu1116za8PCwrR%2B/XpNmjRJLpdLjRs3Vmpqqp599lm7Jj4%2BXhs2bNC0adO0ePFitW7dWq%2B//rrcbrddM2LECJ06dUqZmZnyeDzq0aOHcnNzr7jxHQAAQAqi52AFM56DBfjiOVjXF8/BAr7Hc7AAAABuIgQsAAAAwwhYAAAAhhGwAAAADCNgAQAAGEbAAgAAMMx4wPrb3/5mekgAAICgYjxgtW/fXv3799d///d/68KFC6aHBwAACHjGA9aePXvUrVs3ZWRkKCYmRr/97W%2B1a9cu09MAAAAELOMBq0ePHlq8eLFKSkr05ptvqrS0VPfee6%2B6dOmihQsX6tSpU6anBAAACCjX7Sb3evXqadiwYVq7dq1eeuklHTlyRNOnT1dcXJweffRRlZaWXq%2BpAQAA/Oq6Bazdu3fr3//939WqVSstXLhQ06dP19GjR5WXl6eSkhI9%2BOCD12tqAAAAv6pnesCFCxdqxYoVOnTokAYPHqy33npLgwcPVmjo91kuPj5eOTk5atu2rempAQAAAoLxgLVs2TKNHz9eY8eOVatWreqsiYqK0htvvGF6agAAgIBgPGAdPnz4Z2scDodSU1NNTw0AABAQjN%2BDtWLFCq1du/aK7WvXrtXKlStNTwcAABBwjAesrKwstWjR4ortUVFR%2BsMf/mB6OgAAgIBjPGAVFxcrPj7%2Biu1t2rRRcXGx6ekAAAACjvGAFRUVpb17916x/YsvvlDz5s1NTwcAABBwjAesUaNG6Xe/%2B502b96s6upqVVdXa9OmTXriiSc0cuRI09MBAAAEHOOfInzuuef09ddfa8CAAapX7/vha2pq9Oijj3IPFgAAuCUYD1gOh0OrV6/Wc889py%2B%2B%2BEINGzZU165d1aZNG9NTAQAABCTjAavWnXfeqTvvvPN6DQ8AABCwjAes6upq5eTkKD8/XydPnlRNTY3P/k2bNpmeEgAAIKAYD1hPPPGEcnJylJKSoi5duigkJMT0FAAAAAHNeMB69913tWbNGg0ePNj00AAAAEHB%2BGMaHA6H2rdvb3pYAACAoGE8YD355JNavHixLMsyPTQAAEBQMP4W4aeffqrNmzfro48%2B0l133aX69ev77H/vvfdMTwkAABBQjAesyMhIPfTQQ6aHBQAACBrGA9aKFStMDwkAABBUjN%2BDJUmXLl3SJ598ov/8z//UuXPnJEklJSU6f/789ZgOAAAgoBi/gvX3v/9dycnJKi4uVmVlpX7zm9%2BoSZMmeumll1RZWanly5ebnhIAACCgXJcHjfbu3VtffPGFmjdvbm9/6KGHNGHCBNPTAQB%2BoPczuf5u4artfiHZ3y0A14XxgPW///u/2r59uxwOh8/2tm3b6v/%2B7/9MTwcAABBwjN%2BDVVNTo%2Brq6iu2nzhxQk2aNDE9HQAAQMAxHrAGDhyoRYsW2eshISE6f/685s6dy9fnAACAW4LxtwgXLFggt9uthIQEXbhwQQ8//LAOHz6sFi1a6J133jE9HQAAQMAxHrBat26tL774Qu%2B%2B%2B6727t2r8%2BfPKy0tTaNHj1bDhg1NTwcAABBwjAcsSapXr54eeeSR6zE0AABAwDN%2BD9Zbb731k8vV2rZtm4YMGaLY2FiFhIRo3bp1PvvHjh2rkJAQnyU52ffjvqdPn9bo0aPldDoVGRmptLS0Kx52unfvXvXr108NGjRQXFycsrOzr%2Bhl7dq16tSpkxo0aKCuXbvqww8/vPoTAgAAbjnX5TlYl7t48aK%2B/fZbORwONWrUSI8%2B%2BuhVjVNRUaHu3btr/PjxGjZsWJ01ycnJPl/NEx4e7rN/9OjRKi0tVV5eni5evKhx48bp8ccf16pVqyRJXq9XAwcOVFJSkpYvX659%2B/Zp/PjxioyM1OOPPy5J2r59u0aNGqWsrCw98MADWrVqlYYOHao9e/aoS5cuV31eAADArcN4wDpz5swV2w4fPqxJkyZpxowZVz3OoEGDNGjQoJ%2BsCQ8PV0xMTJ37vvzyS%2BXm5uovf/mLevfuLUn64x//qMGDB%2Bs//uM/FBsbq7fffltVVVV688035XA4dNddd6moqEgLFy60A9bixYuVnJxs9/7cc88pLy9PS5Ys4an0AACgTtflHqwf6tChg1588UU98sgjOnjwoLFxt2zZoqioKDVt2lT333%2B/nn/%2Befvp8QUFBYqMjLTDlSQlJSUpNDRUO3fu1EMPPaSCggLdd999Pg9Fdbvdeumll3TmzBk1bdpUBQUFysjI8JnX7XZf8ZYl4G/B9PRuALjZ3ZCAJX1/43tJSYmx8ZKTkzVs2DDFx8fr6NGjevrppzVo0CAVFBQoLCxMHo9HUVFRV/TQrFkzeTweSZLH41F8fLxPTXR0tL2vadOm8ng89rbLa2rHqEtlZaUqKyvtda/X%2B4uOFQAABBfjAevPf/6zz7plWSotLdWSJUv0q1/9ytg8I0eOtH/u2rWrunXrpnbt2mnLli0aMGCAsXn%2BGVlZWZo/f75fewAAAP5jPGANHTrUZz0kJEQtW7bU/fffrwULFpieznbHHXeoRYsWOnLkiAYMGKCYmBidPHnSp%2BbSpUs6ffq0fd9WTEyMysrKfGpq13%2Bu5sfu/ZKk2bNn%2B7yt6PV6FRcX988fHAAACCrX5bsIL1%2Bqq6vl8Xi0atUqtWrVyvR0thMnTuibb76x53C5XDp79qwKCwvtmk2bNqmmpkaJiYl2zbZt23Tx4kW7Ji8vTx07dlTTpk3tmvz8fJ%2B58vLy5HK5frSX8PBwOZ1OnwUAANw6jAcsU86fP6%2BioiIVFRVJko4dO6aioiIVFxfr/PnzmjFjhnbs2KGvv/5a%2Bfn5evDBB9W%2BfXu53W5JUufOnZWcnKwJEyZo165d%2BuyzzzR58mSNHDlSsbGxkqSHH35YDodDaWlpOnDggFavXq3Fixf7XH164oknlJubqwULFujgwYOaN2%2Bedu/ercmTJ9/wcwIAAIKD8bcIf/iJu5%2BycOHCH923e/du9e/f/4pxU1NTtWzZMu3du1crV67U2bNnFRsbq4EDB%2Bq5557zeRbW22%2B/rcmTJ2vAgAEKDQ3V8OHD9eqrr9r7IyIi9PHHHys9PV29evVSixYtlJmZaT%2BiQZLuuecerVq1SnPmzNHTTz%2BtDh06aN26dTwDCwAA/KgQy7IskwP2799fn3/%2BuS5evKiOHTtKkr766iuFhYWpZ8%2Be///EISHatGmTyakDltfrVUREhMrLy3m7ENcNj2lAMNr9QvLPFwH/JH/%2B/TV%2BBWvIkCFq0qSJVq5cad/HdObMGY0bN079%2BvXTk08%2BaXpKAACAgGL8HqwFCxYoKyvLDleS1LRpUz3//PPX9VOEAAAAgcJ4wPJ6vTp16tQV20%2BdOqVz586Zng4AACDgGA9YDz30kMaNG6f33ntPJ06c0IkTJ/Q///M/SktL%2B9EvbQYAALiZGL8Ha/ny5Zo%2Bfboefvhh%2B/lS9erVU1paml5%2B%2BWXT0wEAAAQc4wGrUaNGeu211/Tyyy/r6NGjkqR27dqpcePGpqcCAAAISNftQaOlpaUqLS1Vhw4d1LhxYxl%2BGgQAAEDAMh6wvvnmGw0YMEB33nmnBg8erNLSUklSWloaj2gAAAC3BOMBa9q0aapfv76Ki4vVqFEje/uIESOUm8uDEAEAwM3P%2BD1YH3/8sTZu3KjWrVv7bO/QoYP%2B/ve/m54OAAAg4Bi/glVRUeFz5arW6dOnfb4nEAAA4GZlPGD169dPb731lr0eEhKimpoaZWdn%2B3x5MwAAwM3K%2BFuE2dnZGjBggHbv3q2qqirNnDlTBw4c0OnTp/XZZ5%2BZng4AACDgGL%2BC1aVLF3311Ve699579eCDD6qiokLDhg3T559/rnbt2pmeDgAAIOAYvYJ18eJFJScna/ny5XrmmWdMDg0AABA0jF7Bql%2B/vvbu3WtySAAAgKBj/C3CRx55RG%2B88YbpYQEAAIKG8ZvcL126pDfffFOffPKJevXqdcV3EC5cuND0lAAAAAHFWMD629/%2BprZt22r//v3q2bOnJOmrr77yqQkJCTE1HQAAQMAyFrA6dOig0tJSbd68WdL3X43z6quvKjo62tQUAAAAQcHYPViWZfmsf/TRR6qoqDA1PAAAQNAwfpN7rR8GLgAAgFuFsYAVEhJyxT1W3HMFAABuRcbuwbIsS2PHjrW/0PnChQuaOHHiFZ8ifO%2B990xNCQAAEJCMBazU1FSf9UceecTU0AAAAEHFWMBasWKFqaEAAACC2nW7yR0AAOBWRcACAAAwjIAFAABgGAELAADAMAIWAACAYQQsAAAAwwhYAAAAhhGwAAAADCNgAQAAGEbAAgAAMIyABQAAYBgBCwAAwDACFgAAgGEELAAAAMMIWAAAAIYFbMDatm2bhgwZotjYWIWEhGjdunU%2B%2By3LUmZmplq1aqWGDRsqKSlJhw8f9qk5ffq0Ro8eLafTqcjISKWlpen8%2BfM%2BNXv37lW/fv3UoEEDxcXFKTs7%2B4pe1q5dq06dOqlBgwbq2rWrPvzwQ%2BPHCwAAbh4BG7AqKirUvXt3LV26tM792dnZevXVV7V8%2BXLt3LlTjRs3ltvt1oULF%2Bya0aNH68CBA8rLy9P69eu1bds2Pf744/Z%2Br9ergQMHqk2bNiosLNTLL7%2BsefPm6b/%2B67/smu3bt2vUqFFKS0vT559/rqFDh2ro0KHav3//9Tt4AAAQ1EIsy7L83cTPCQkJ0fvvv6%2BhQ4dK%2Bv7qVWxsrJ588klNnz5dklReXq7o6Gjl5ORo5MiR%2BvLLL5WQkKC//OUv6t27tyQpNzdXgwcP1okTJxQbG6tly5bpmWeekcfjkcPhkCQ99dRTWrdunQ4ePChJGjFihCoqKrR%2B/Xq7n759%2B6pHjx5avnz5VfXv9XoVERGh8vJyOZ1OU6cF8NH7mVx/twBcs90vJPu7BdzE/Pn3N2CvYP2UY8eOyePxKCkpyd4WERGhxMREFRQUSJIKCgoUGRlphytJSkpKUmhoqHbu3GnX3HfffXa4kiS3261Dhw7pzJkzds3l89TW1M5Tl8rKSnm9Xp8FAADcOoIyYHk8HklSdHS0z/bo6Gh7n8fjUVRUlM/%2BevXqqVmzZj41dY1x%2BRw/VlO7vy5ZWVmKiIiwl7i4uGs9RAAAEMSCMmAFutmzZ6u8vNxejh8/7u%2BWAADADRSUASsmJkaSVFZW5rO9rKzM3hcTE6OTJ0/67L906ZJOnz7tU1PXGJfP8WM1tfvrEh4eLqfT6bMAAIBbR1AGrPj4eMXExCg/P9/e5vV6tXPnTrlcLkmSy%2BXS2bNnVVhYaNds2rRJNTU1SkxMtGu2bdumixcv2jV5eXnq2LGjmjZtatdcPk9tTe08AAAAPxSwAev8%2BfMqKipSUVGRpO9vbC8qKlJxcbFCQkI0depUPf/88/rzn/%2Bsffv26dFHH1VsbKz9ScPOnTsrOTlZEyZM0K5du/TZZ59p8uTJGjlypGJjYyVJDz/8sBwOh9LS0nTgwAGtXr1aixcvVkZGht3HE088odzcXC1YsEAHDx7UvHnztHv3bk2ePPlGnxIAABAk6vm7gR%2Bze/du9e/f316vDT2pqanKycnRzJkzVVFRoccff1xnz57Vvffeq9zcXDVo0MD%2BnbfffluTJ0/WgAEDFBoaquHDh%2BvVV1%2B190dEROjjjz9Wenq6evXqpRYtWigzM9PnWVn33HOPVq1apTlz5ujpp59Whw4dtG7dOnXp0uUGnAUAABCMguI5WMGO52DhRuA5WAhGPAcL1xPPwQIAALiJELAAAAAMI2ABAAAYRsACAAAwjIAFAABgGAELAADAMAIWAACAYQQsAAAAwwhYAAAAhhGwAAAADCNgAQAAGEbAAgAAMIyABQAAYBgBCwAAwDACFgAAgGEELAAAAMMIWAAAAIYRsAAAAAwjYAEAABhGwAIAADCMgAUAAGAYAQsAAMAwAhYAAIBhBCwAAADDCFgAAACGEbAAAAAMI2ABAAAYRsACAAAwjIAFAABgGAELAADAMAIWAACAYQQsAAAAwwhYAAAAhhGwAAAADCNgAQAAGEbAAgAAMIyABQAAYBgBCwAAwDACFgAAgGEELAAAAMOCNmDNmzdPISEhPkunTp3s/RcuXFB6erqaN2%2Bu2267TcOHD1dZWZnPGMXFxUpJSVGjRo0UFRWlGTNm6NKlSz41W7ZsUc%2BePRUeHq727dsrJyfnRhweAAAIYkEbsCTprrvuUmlpqb18%2Bumn9r5p06bpgw8%2B0Nq1a7V161aVlJRo2LBh9v7q6mqlpKSoqqpK27dv18qVK5WTk6PMzEy75tixY0pJSVH//v1VVFSkqVOn6rHHHtPGjRtv6HECAIDgUs/fDfwS9erVU0xMzBXby8vL9cYbb2jVqlW6//77JUkrVqxQ586dtWPHDvXt21cff/yx/vrXv%2BqTTz5RdHS0evTooeeee06zZs3SvHnz5HA4tHz5csXHx2vBggWSpM6dO%2BvTTz/VK6%2B8IrfbfUOPFQAABI%2BgvoJ1%2BPBhxcbG6o477tDo0aNVXFwsSSosLNTFixeVlJRk13bq1Em33367CgoKJEkFBQXq2rWroqOj7Rq32y2v16sDBw7YNZePUVtTOwYAAEBdgvYKVmJionJyctSxY0eVlpZq/vz56tevn/bv3y%2BPxyOHw6HIyEif34mOjpbH45EkeTwen3BVu79230/VeL1efffdd2rYsGGdvVVWVqqystJe93q9v%2BhYAQBAcAnagDVo0CD7527duikxMVFt2rTRmjVrfjT43ChZWVmaP3%2B%2BX3sAAAD%2BE9RvEV4uMjJSd955p44cOaKYmBhVVVXp7NmzPjVlZWX2PVsxMTFXfKqwdv3napxO50%2BGuNmzZ6u8vNxejh8//ksPDwAABJGbJmCdP39eR48eVatWrdSrVy/Vr19f%2Bfn59v5Dhw6puLhYLpdLkuRyubRv3z6dPHnSrsnLy5PT6VRCQoJdc/kYtTW1Y/yY8PBwOZ1OnwUAANw6gvYtwunTp2vIkCFq06aNSkpKNHfuXIWFhWnUqFGKiIhQWlqaMjIy1KxZMzmdTk2ZMkUul0t9%2B/aVJA0cOFAJCQkaM2aMsrOz5fF4NGfOHKWnpys8PFySNHHiRC1ZskQzZ87U%2BPHjtWnTJq1Zs0YbNmzw56EDwE2j9zO5/m7hmux%2BIdnfLSBIBG3AOnHihEaNGqVvvvlGLVu21L333qsdO3aoZcuWkqRXXnlFoaGhGj58uCorK%2BV2u/Xaa6/Zvx8WFqb169dr0qRJcrlcaty4sVJTU/Xss8/aNfHx8dqwYYOmTZumxYsXq3Xr1nr99dd5RAMAAPhJIZZlWf5u4mbn9XoVERGh8vJy3i7EdRNsVwKAYMQVrODiz7%2B/N809WAAAAIGCgAUAAGAYAQsAAMAwAhYAAIBhQfspQuB646ZxAMA/iytYAAAAhhGwAAAADCNgAQAAGEbAAgAAMIyABQAAYBgBCwAAwDACFgAAgGEELAAAAMMIWAAAAIYRsAAAAAwjYAEAABhGwAIAADCMgAUAAGAYAQsAAMAwAhYAAIBhBCwAAADDCFgAAACGEbAAAAAMI2ABAAAYRsACAAAwjIAFAABgGAELAADAMAIWAACAYQQsAAAAwwhYAAAAhhGwAAAADCNgAQAAGEbAAgAAMIyABQAAYBgBCwAAwDACFgAAgGEELAAAAMMIWAAAAIYRsAAAAAyr5%2B8GcOvo/Uyuv1sAgF8k2P4d2/1Csr9buGVxBQsAAMAwAtZVWrp0qdq2basGDRooMTFRu3bt8ndLAAAgQBGwrsLq1auVkZGhuXPnas%2BePerevbvcbrdOnjzp79YAAEAAImBdhYULF2rChAkaN26cEhIStHz5cjVq1Ehvvvmmv1sDAAABiJvcf0ZVVZUKCws1e/Zse1toaKiSkpJUUFBQ5%2B9UVlaqsrLSXi8vL5ckeb3e69tsgKuurPB3CwBwS7nV/%2B7UHr9lWTd8bgLWz/jHP/6h6upqRUdH%2B2yPjo7WwYMH6/ydrKwszZ8//4rtcXFx16VHAADqErHA3x0EhnPnzikiIuKGzknAug5mz56tjIwMe72mpkanT59W8%2BbNFRIS4sfOzPB6vYqLi9Px48fldDr93U7A43xdG87XteF8XRvO17UJ9vNlWZbOnTun2NjYGz43AetntGjRQmFhYSorK/PZXlZWppiYmDp/Jzw8XOHh4T7bIiMjr1eLfuN0OoPyPzh/4XxdG87XteF8XRvO17UJ5vN1o69c1eIm95/hcDjUq1cv5efn29tqamqUn58vl8vlx84AAECg4grWVcjIyFBqaqp69%2B6tPn36aNGiRaqoqNC4ceP83RoAAAhABKyrMGLECJ06dUqZmZnyeDzq0aOHcnNzr7jx/VYRHh6uuXPnXvE2KOrG%2Bbo2nK9rw/m6Npyva8P5%2BueFWP747CIAAMBNjHuwAAAADCNgAQAAGEbAAgAAMIyABQAAYBgBC9fkhRde0D333KNGjRr96MNTi4uLlZKSokaNGikqKkozZszQpUuXbmyjAapt27YKCQnxWV588UV/txUwli5dqrZt26pBgwZKTEzUrl27/N1SQJo3b94Vr6NOnTr5u62AsW3bNg0ZMkSxsbEKCQnRunXrfPZblqXMzEy1atVKDRs2VFJSkg4fPuyfZgPAz52vsWPHXvF6S05O9k%2BzQYSAhWtSVVWlf/u3f9OkSZPq3F9dXa2UlBRVVVVp%2B/btWrlypXJycpSZmXmDOw1czz77rEpLS%2B1lypQp/m4pIKxevVoZGRmaO3eu9uzZo%2B7du8vtduvkyZP%2Bbi0g3XXXXT6vo08//dTfLQWMiooKde/eXUuXLq1zf3Z2tl599VUtX75cO3fuVOPGjeV2u3XhwoUb3Glg%2BLnzJUnJyck%2Br7d33nnnBnYYpCzgn7BixQorIiLiiu0ffvihFRoaank8HnvbsmXLLKfTaVVWVt7ADgNTmzZtrFdeecXfbQSkPn36WOnp6fZ6dXW1FRsba2VlZfmxq8A0d%2B5cq3v37v5uIyhIst5//317vaamxoqJibFefvlle9vZs2et8PBw65133vFDh4Hlh%2BfLsiwrNTXVevDBB/3STzDjChaMKigoUNeuXX0ewup2u%2BX1enXgwAE/dhY4XnzxRTVv3lz/8i//opdffpm3T/X9ldHCwkIlJSXZ20JDQ5WUlKSCggI/dha4Dh8%2BrNjYWN1xxx0aPXq0iouL/d1SUDh27Jg8Ho/Pay0iIkKJiYm81n7Cli1bFBUVpY4dO2rSpEn65ptv/N1SwONJ7jDK4/Fc8YT72nWPx%2BOPlgLK7373O/Xs2VPNmjXT9u3bNXv2bJWWlmrhwoX%2Bbs2v/vGPf6i6urrO187Bgwf91FXgSkxMVE5Ojjp27KjS0lLNnz9f/fr10/79%2B9WkSRN/txfQav8dquu1xr9RdUtOTtawYcMUHx%2Bvo0eP6umnn9agQYNUUFCgsLAwf7cXsAhY0FNPPaWXXnrpJ2u%2B/PJLbqL9Eddy/jIyMuxt3bp1k8Ph0G9/%2B1tlZWXxVRS4aoMGDbJ/7tatmxITE9WmTRutWbNGaWlpfuwMN6ORI0faP3ft2lXdunVTu3bttGXLFg0YMMCPnQU2Ahb05JNPauzYsT9Zc8cdd1zVWDExMVd88qusrMzedzP6JecvMTFRly5d0tdff62OHTteh%2B6CQ4sWLRQWFma/VmqVlZXdtK8bkyIjI3XnnXfqyJEj/m4l4NW%2BnsrKytSqVSt7e1lZmXr06OGnroLLHXfcoRYtWujIkSMErJ9AwIJatmypli1bGhnL5XLphRde0MmTJxUVFSVJysvLk9PpVEJCgpE5As0vOX9FRUUKDQ21z9WtyuFwqFevXsrPz9fQoUMlSTU1NcrPz9fkyZP921wQOH/%2BvI4ePaoxY8b4u5WAFx8fr5iYGOXn59uByuv1aufOnT/66Wj4OnHihL755hufgIorEbBwTYqLi3X69GkVFxerurpaRUVFkqT27dvrtttu08CBA5WQkKAxY8YoOztbHo9Hc%2BbMUXp6%2Bi3/FlhBQYF27typ/v37q0mTJiooKNC0adP0yCOPqGnTpv5uz%2B8yMjKUmpqq3r17q0%2BfPlq0aJEqKio0btw4f7cWcKZPn64hQ4aoTZs2Kikp0dy5cxUWFqZRo0b5u7WAcP78eZ%2BreceOHVNRUZGaNWum22%2B/XVOnTtXzzz%2BvDh06KD4%2BXr///e8VGxtrh/tbzU%2Bdr2bNmmn%2B/PkaPny4YmJidPToUc2cOVPt27eX2%2B32Y9dBwN8fY0RwSU1NtSRdsWzevNmu%2Bfrrr61BgwZZDRs2tFq0aGE9%2BeST1sWLF/3XdIAoLCy0EhMTrYiICKtBgwZW586drT/84Q/WhQsX/N1awPjjH/9o3X777ZbD4bD69Olj7dixw98tBaQRI0ZYrVq1shwOh/X//t//s0aMGGEdOXLE320FjM2bN9f571RqaqplWd8/quH3v/%2B9FR0dbYWHh1sDBgywDh065N%2Bm/einzte3335rDRw40GrZsqVVv359q02bNtaECRN8HsWDuoVYlmX5IdcBAADctHgOFgAAgGEELAAAAMMIWAAAAIYRsAAAAAwjYAEAABhGwAIAADCMgAUAAGAYAQsAAMAwAhYAAIBhBCwAAADDCFgAAACGEbAAAAAMI2ABAAAYRsACAAAwjIAFAABgGAELAADAMAIWAACAYQQsAAAAw/4/zcg/VLqg5dUAAAAASUVORK5CYII%3D\"/>\n",
       "        </div>\n",
       "        <div role=\"tabpanel\" class=\"tab-pane col-md-12\" id=\"common-2219058519422468124\">\n",
       "            \n",
       "<table class=\"freq table table-hover\">\n",
       "    <thead>\n",
       "    <tr>\n",
       "        <td class=\"fillremaining\">Value</td>\n",
       "        <td class=\"number\">Count</td>\n",
       "        <td class=\"number\">Frequency (%)</td>\n",
       "        <td style=\"min-width:200px\">&nbsp;</td>\n",
       "    </tr>\n",
       "    </thead>\n",
       "    <tr class=\"\">\n",
       "        <td class=\"fillremaining\">5.25648066417964</td>\n",
       "        <td class=\"number\">1</td>\n",
       "        <td class=\"number\">0.0%</td>\n",
       "        <td>\n",
       "            <div class=\"bar\" style=\"width:1%\">&nbsp;</div>\n",
       "        </td>\n",
       "</tr><tr class=\"\">\n",
       "        <td class=\"fillremaining\">-1.473363353442695</td>\n",
       "        <td class=\"number\">1</td>\n",
       "        <td class=\"number\">0.0%</td>\n",
       "        <td>\n",
       "            <div class=\"bar\" style=\"width:1%\">&nbsp;</div>\n",
       "        </td>\n",
       "</tr><tr class=\"\">\n",
       "        <td class=\"fillremaining\">-0.06848487068458109</td>\n",
       "        <td class=\"number\">1</td>\n",
       "        <td class=\"number\">0.0%</td>\n",
       "        <td>\n",
       "            <div class=\"bar\" style=\"width:1%\">&nbsp;</div>\n",
       "        </td>\n",
       "</tr><tr class=\"\">\n",
       "        <td class=\"fillremaining\">0.6774586252881625</td>\n",
       "        <td class=\"number\">1</td>\n",
       "        <td class=\"number\">0.0%</td>\n",
       "        <td>\n",
       "            <div class=\"bar\" style=\"width:1%\">&nbsp;</div>\n",
       "        </td>\n",
       "</tr><tr class=\"\">\n",
       "        <td class=\"fillremaining\">5.579063370146562</td>\n",
       "        <td class=\"number\">1</td>\n",
       "        <td class=\"number\">0.0%</td>\n",
       "        <td>\n",
       "            <div class=\"bar\" style=\"width:1%\">&nbsp;</div>\n",
       "        </td>\n",
       "</tr><tr class=\"\">\n",
       "        <td class=\"fillremaining\">3.2013115252562745</td>\n",
       "        <td class=\"number\">1</td>\n",
       "        <td class=\"number\">0.0%</td>\n",
       "        <td>\n",
       "            <div class=\"bar\" style=\"width:1%\">&nbsp;</div>\n",
       "        </td>\n",
       "</tr><tr class=\"\">\n",
       "        <td class=\"fillremaining\">0.5763922587621557</td>\n",
       "        <td class=\"number\">1</td>\n",
       "        <td class=\"number\">0.0%</td>\n",
       "        <td>\n",
       "            <div class=\"bar\" style=\"width:1%\">&nbsp;</div>\n",
       "        </td>\n",
       "</tr><tr class=\"\">\n",
       "        <td class=\"fillremaining\">2.4567569978427577</td>\n",
       "        <td class=\"number\">1</td>\n",
       "        <td class=\"number\">0.0%</td>\n",
       "        <td>\n",
       "            <div class=\"bar\" style=\"width:1%\">&nbsp;</div>\n",
       "        </td>\n",
       "</tr><tr class=\"\">\n",
       "        <td class=\"fillremaining\">2.007701659962622</td>\n",
       "        <td class=\"number\">1</td>\n",
       "        <td class=\"number\">0.0%</td>\n",
       "        <td>\n",
       "            <div class=\"bar\" style=\"width:1%\">&nbsp;</div>\n",
       "        </td>\n",
       "</tr><tr class=\"\">\n",
       "        <td class=\"fillremaining\">4.671969352676323</td>\n",
       "        <td class=\"number\">1</td>\n",
       "        <td class=\"number\">0.0%</td>\n",
       "        <td>\n",
       "            <div class=\"bar\" style=\"width:1%\">&nbsp;</div>\n",
       "        </td>\n",
       "</tr><tr class=\"other\">\n",
       "        <td class=\"fillremaining\">Other values (99990)</td>\n",
       "        <td class=\"number\">99990</td>\n",
       "        <td class=\"number\">100.0%</td>\n",
       "        <td>\n",
       "            <div class=\"bar\" style=\"width:100%\">&nbsp;</div>\n",
       "        </td>\n",
       "</tr>\n",
       "</table>\n",
       "        </div>\n",
       "        <div role=\"tabpanel\" class=\"tab-pane col-md-12\"  id=\"extreme-2219058519422468124\">\n",
       "            <p class=\"h4\">Minimum 5 values</p>\n",
       "            \n",
       "<table class=\"freq table table-hover\">\n",
       "    <thead>\n",
       "    <tr>\n",
       "        <td class=\"fillremaining\">Value</td>\n",
       "        <td class=\"number\">Count</td>\n",
       "        <td class=\"number\">Frequency (%)</td>\n",
       "        <td style=\"min-width:200px\">&nbsp;</td>\n",
       "    </tr>\n",
       "    </thead>\n",
       "    <tr class=\"\">\n",
       "        <td class=\"fillremaining\">-11.97033454147699</td>\n",
       "        <td class=\"number\">1</td>\n",
       "        <td class=\"number\">0.0%</td>\n",
       "        <td>\n",
       "            <div class=\"bar\" style=\"width:100%\">&nbsp;</div>\n",
       "        </td>\n",
       "</tr><tr class=\"\">\n",
       "        <td class=\"fillremaining\">-11.611690484056375</td>\n",
       "        <td class=\"number\">1</td>\n",
       "        <td class=\"number\">0.0%</td>\n",
       "        <td>\n",
       "            <div class=\"bar\" style=\"width:100%\">&nbsp;</div>\n",
       "        </td>\n",
       "</tr><tr class=\"\">\n",
       "        <td class=\"fillremaining\">-11.407243507191572</td>\n",
       "        <td class=\"number\">1</td>\n",
       "        <td class=\"number\">0.0%</td>\n",
       "        <td>\n",
       "            <div class=\"bar\" style=\"width:100%\">&nbsp;</div>\n",
       "        </td>\n",
       "</tr><tr class=\"\">\n",
       "        <td class=\"fillremaining\">-11.210592414785532</td>\n",
       "        <td class=\"number\">1</td>\n",
       "        <td class=\"number\">0.0%</td>\n",
       "        <td>\n",
       "            <div class=\"bar\" style=\"width:100%\">&nbsp;</div>\n",
       "        </td>\n",
       "</tr><tr class=\"\">\n",
       "        <td class=\"fillremaining\">-11.186911055029515</td>\n",
       "        <td class=\"number\">1</td>\n",
       "        <td class=\"number\">0.0%</td>\n",
       "        <td>\n",
       "            <div class=\"bar\" style=\"width:100%\">&nbsp;</div>\n",
       "        </td>\n",
       "</tr>\n",
       "</table>\n",
       "            <p class=\"h4\">Maximum 5 values</p>\n",
       "            \n",
       "<table class=\"freq table table-hover\">\n",
       "    <thead>\n",
       "    <tr>\n",
       "        <td class=\"fillremaining\">Value</td>\n",
       "        <td class=\"number\">Count</td>\n",
       "        <td class=\"number\">Frequency (%)</td>\n",
       "        <td style=\"min-width:200px\">&nbsp;</td>\n",
       "    </tr>\n",
       "    </thead>\n",
       "    <tr class=\"\">\n",
       "        <td class=\"fillremaining\">16.223146439874434</td>\n",
       "        <td class=\"number\">1</td>\n",
       "        <td class=\"number\">0.0%</td>\n",
       "        <td>\n",
       "            <div class=\"bar\" style=\"width:100%\">&nbsp;</div>\n",
       "        </td>\n",
       "</tr><tr class=\"\">\n",
       "        <td class=\"fillremaining\">16.252444439252734</td>\n",
       "        <td class=\"number\">1</td>\n",
       "        <td class=\"number\">0.0%</td>\n",
       "        <td>\n",
       "            <div class=\"bar\" style=\"width:100%\">&nbsp;</div>\n",
       "        </td>\n",
       "</tr><tr class=\"\">\n",
       "        <td class=\"fillremaining\">16.313011220972406</td>\n",
       "        <td class=\"number\">1</td>\n",
       "        <td class=\"number\">0.0%</td>\n",
       "        <td>\n",
       "            <div class=\"bar\" style=\"width:100%\">&nbsp;</div>\n",
       "        </td>\n",
       "</tr><tr class=\"\">\n",
       "        <td class=\"fillremaining\">16.35764509040699</td>\n",
       "        <td class=\"number\">1</td>\n",
       "        <td class=\"number\">0.0%</td>\n",
       "        <td>\n",
       "            <div class=\"bar\" style=\"width:100%\">&nbsp;</div>\n",
       "        </td>\n",
       "</tr><tr class=\"\">\n",
       "        <td class=\"fillremaining\">16.73940205869952</td>\n",
       "        <td class=\"number\">1</td>\n",
       "        <td class=\"number\">0.0%</td>\n",
       "        <td>\n",
       "            <div class=\"bar\" style=\"width:100%\">&nbsp;</div>\n",
       "        </td>\n",
       "</tr>\n",
       "</table>\n",
       "        </div>\n",
       "    </div>\n",
       "</div>\n",
       "</div><div class=\"row variablerow\">\n",
       "    <div class=\"col-md-3 namecol\">\n",
       "        <p class=\"h4 pp-anchor\" id=\"pp_var_product\">product<br/>\n",
       "            <small>Numeric</small>\n",
       "        </p>\n",
       "    </div><div class=\"col-md-6\">\n",
       "    <div class=\"row\">\n",
       "        <div class=\"col-sm-6\">\n",
       "            <table class=\"stats \">\n",
       "                <tr>\n",
       "                    <th>Distinct count</th>\n",
       "                    <td>100000</td>\n",
       "                </tr>\n",
       "                <tr>\n",
       "                    <th>Unique (%)</th>\n",
       "                    <td>100.0%</td>\n",
       "                </tr>\n",
       "                <tr class=\"ignore\">\n",
       "                    <th>Missing (%)</th>\n",
       "                    <td>0.0%</td>\n",
       "                </tr>\n",
       "                <tr class=\"ignore\">\n",
       "                    <th>Missing (n)</th>\n",
       "                    <td>0</td>\n",
       "                </tr>\n",
       "                <tr class=\"ignore\">\n",
       "                    <th>Infinite (%)</th>\n",
       "                    <td>0.0%</td>\n",
       "                </tr>\n",
       "                <tr class=\"ignore\">\n",
       "                    <th>Infinite (n)</th>\n",
       "                    <td>0</td>\n",
       "                </tr>\n",
       "            </table>\n",
       "\n",
       "        </div>\n",
       "        <div class=\"col-sm-6\">\n",
       "            <table class=\"stats \">\n",
       "\n",
       "                <tr>\n",
       "                    <th>Mean</th>\n",
       "                    <td>95</td>\n",
       "                </tr>\n",
       "                <tr>\n",
       "                    <th>Minimum</th>\n",
       "                    <td>0</td>\n",
       "                </tr>\n",
       "                <tr>\n",
       "                    <th>Maximum</th>\n",
       "                    <td>190.03</td>\n",
       "                </tr>\n",
       "                <tr class=\"ignore\">\n",
       "                    <th>Zeros (%)</th>\n",
       "                    <td>0.0%</td>\n",
       "                </tr>\n",
       "            </table>\n",
       "        </div>\n",
       "    </div>\n",
       "</div>\n",
       "<div class=\"col-md-3 collapse in\" id=\"minihistogram1169624309565850532\">\n",
       "    <img src=\"data:image/png;base64,iVBORw0KGgoAAAANSUhEUgAAAMgAAABLCAYAAAA1fMjoAAAAOXRFWHRTb2Z0d2FyZQBNYXRwbG90bGliIHZlcnNpb24zLjUuMywgaHR0cHM6Ly9tYXRwbG90bGliLm9yZy/NK7nSAAAACXBIWXMAAA9hAAAPYQGoP6dpAAAB0UlEQVR4nO3aMa7TQBSG0euI1k4fxbtgEeyJmpL9sAh2kSgLiEVBQUwBeQ3wSyDeOI7PKZPi2pI/eWxPN8/zXI2dz%2Bcax7H1WFbudDrV8XhsOvNN02k/9X1fVT9OeBiGJQ6BFblerzWO48t109IigXRdV1VVwzA8dSBv339qMufzh3dN5iztft20tGs%2BEVZEIBAsssRaq1ZLJh6HQJ7A34a7lWeW/8ESCwKBQCAQCAQCgUAg2OxbrC2/sv2Xc9/qmy93EAgEAoFAIBAIBAKBQCAQCAQCgUDwFB8Kt/zRj9f1FIHw%2Brb69d0SCwKBQCAQCAQCgUAgEAgEAoFAIBAIBAKBQCAQCAQCgUAgeLjdvLauP49n2AHsDgKBQCAQCAQCgUAgEAgEAoFAIBAIBAKBQCAQCASL7MWa57mqqq7X6y//ffv6pfXh8EB%2Bd03cf7tfNy0tEsg0TVVVNY7jEuN5YPuPf/5vmqba7/ftDqaqunmBLG%2B3W10ul%2Br7vrquaz2elZnnuaZpqsPhULtd26eCRQKBtfCQDoFAIBAIBAKBQCAQCAQCgUAgEAgEAoFAIBAIBAKBQCAQCAQCgUAgEAgEAoFAIBAIBAKBQCAQCAQCgUDwHeebUhltSYRhAAAAAElFTkSuQmCC\">\n",
       "\n",
       "</div>\n",
       "<div class=\"col-md-12 text-right\">\n",
       "    <a role=\"button\" data-toggle=\"collapse\" data-target=\"#descriptives1169624309565850532,#minihistogram1169624309565850532\"\n",
       "       aria-expanded=\"false\" aria-controls=\"collapseExample\">\n",
       "        Toggle details\n",
       "    </a>\n",
       "</div>\n",
       "<div class=\"row collapse col-md-12\" id=\"descriptives1169624309565850532\">\n",
       "    <ul class=\"nav nav-tabs\" role=\"tablist\">\n",
       "        <li role=\"presentation\" class=\"active\"><a href=\"#quantiles1169624309565850532\"\n",
       "                                                  aria-controls=\"quantiles1169624309565850532\" role=\"tab\"\n",
       "                                                  data-toggle=\"tab\">Statistics</a></li>\n",
       "        <li role=\"presentation\"><a href=\"#histogram1169624309565850532\" aria-controls=\"histogram1169624309565850532\"\n",
       "                                   role=\"tab\" data-toggle=\"tab\">Histogram</a></li>\n",
       "        <li role=\"presentation\"><a href=\"#common1169624309565850532\" aria-controls=\"common1169624309565850532\"\n",
       "                                   role=\"tab\" data-toggle=\"tab\">Common Values</a></li>\n",
       "        <li role=\"presentation\"><a href=\"#extreme1169624309565850532\" aria-controls=\"extreme1169624309565850532\"\n",
       "                                   role=\"tab\" data-toggle=\"tab\">Extreme Values</a></li>\n",
       "\n",
       "    </ul>\n",
       "\n",
       "    <div class=\"tab-content\">\n",
       "        <div role=\"tabpanel\" class=\"tab-pane active row\" id=\"quantiles1169624309565850532\">\n",
       "            <div class=\"col-md-4 col-md-offset-1\">\n",
       "                <p class=\"h4\">Quantile statistics</p>\n",
       "                <table class=\"stats indent\">\n",
       "                    <tr>\n",
       "                        <th>Minimum</th>\n",
       "                        <td>0</td>\n",
       "                    </tr>\n",
       "                    <tr>\n",
       "                        <th>5-th percentile</th>\n",
       "                        <td>24.678</td>\n",
       "                    </tr>\n",
       "                    <tr>\n",
       "                        <th>Q1</th>\n",
       "                        <td>59.45</td>\n",
       "                    </tr>\n",
       "                    <tr>\n",
       "                        <th>Median</th>\n",
       "                        <td>94.926</td>\n",
       "                    </tr>\n",
       "                    <tr>\n",
       "                        <th>Q3</th>\n",
       "                        <td>130.6</td>\n",
       "                    </tr>\n",
       "                    <tr>\n",
       "                        <th>95-th percentile</th>\n",
       "                        <td>165.67</td>\n",
       "                    </tr>\n",
       "                    <tr>\n",
       "                        <th>Maximum</th>\n",
       "                        <td>190.03</td>\n",
       "                    </tr>\n",
       "                    <tr>\n",
       "                        <th>Range</th>\n",
       "                        <td>190.03</td>\n",
       "                    </tr>\n",
       "                    <tr>\n",
       "                        <th>Interquartile range</th>\n",
       "                        <td>71.145</td>\n",
       "                    </tr>\n",
       "                </table>\n",
       "            </div>\n",
       "            <div class=\"col-md-4 col-md-offset-2\">\n",
       "                <p class=\"h4\">Descriptive statistics</p>\n",
       "                <table class=\"stats indent\">\n",
       "                    <tr>\n",
       "                        <th>Standard deviation</th>\n",
       "                        <td>44.75</td>\n",
       "                    </tr>\n",
       "                    <tr>\n",
       "                        <th>Coef of variation</th>\n",
       "                        <td>0.47105</td>\n",
       "                    </tr>\n",
       "                    <tr>\n",
       "                        <th>Kurtosis</th>\n",
       "                        <td>-0.87842</td>\n",
       "                    </tr>\n",
       "                    <tr>\n",
       "                        <th>Mean</th>\n",
       "                        <td>95</td>\n",
       "                    </tr>\n",
       "                    <tr>\n",
       "                        <th>MAD</th>\n",
       "                        <td>37.814</td>\n",
       "                    </tr>\n",
       "                    <tr class=\"\">\n",
       "                        <th>Skewness</th>\n",
       "                        <td>0.004655</td>\n",
       "                    </tr>\n",
       "                    <tr>\n",
       "                        <th>Sum</th>\n",
       "                        <td>9500000</td>\n",
       "                    </tr>\n",
       "                    <tr>\n",
       "                        <th>Variance</th>\n",
       "                        <td>2002.6</td>\n",
       "                    </tr>\n",
       "                    <tr>\n",
       "                        <th>Memory size</th>\n",
       "                        <td>781.4 KiB</td>\n",
       "                    </tr>\n",
       "                </table>\n",
       "            </div>\n",
       "        </div>\n",
       "        <div role=\"tabpanel\" class=\"tab-pane col-md-8 col-md-offset-2\" id=\"histogram1169624309565850532\">\n",
       "            <img src=\"data:image/png;base64,iVBORw0KGgoAAAANSUhEUgAAAlgAAAGQCAYAAAByNR6YAAAAOXRFWHRTb2Z0d2FyZQBNYXRwbG90bGliIHZlcnNpb24zLjUuMywgaHR0cHM6Ly9tYXRwbG90bGliLm9yZy/NK7nSAAAACXBIWXMAAA9hAAAPYQGoP6dpAAA1/UlEQVR4nO3df1yV9f3/8edBBNQE/BEcz0Rj5fydv1jEUpfJR0jXMt2WSmnKtDYoDUtzllmrKPyo6eZkbZV2S5f5mbqyRZGmrCQVlPmjJG0mmhxoIRzBRJTr%2B0dfrlsnTPvxhsPBx/12u243r/f7da73%2B%2B0lN55e5zrXcViWZQkAAADGBPh6AgAAAM0NAQsAAMAwAhYAAIBhBCwAAADDCFgAAACGEbAAAAAMI2ABAAAYRsACAAAwjIAFAABgGAELAADAMAIWAACAYQQsAAAAwwhYAAAAhhGwAAAADCNgAQAAGEbAAgAAMIyABQAAYBgBCwAAwDACFgAAgGEELAAAAMMIWAAAAIYRsAAAAAwjYAEAABhGwAIAADCMgAUAAGAYAQsAAMAwAhYAAIBhBCwAAADDCFgAAACGEbAAAAAMI2ABAAAYRsACAAAwjIAFAABgGAELAADAMAIWAACAYQQsAAAAwwhYAAAAhhGwAAAADAv09QQuBbW1tTp%2B/Ljatm0rh8Ph6%2BkAAHBJsCxLJ0%2BelMvlUkBA415TImA1guPHjysqKsrX0wAA4JJ09OhRde7cuVHHJGA1grZt20r64gSHhob6eDYAAFwaPB6PoqKi7N/DjYmA1Qjq3hYMDQ0lYAEA0Mh8cXsON7kDAAAYRsACAAAwjIAFAABgGAELAADAMAIWAACAYQQsAAAAwwhYAAAAhjXZgJWTk6ObbrpJLpdLDodDGzZs%2BNrau%2B66Sw6HQ08//bRXe1lZmZKSkhQaGqrw8HAlJyersrLSq2bPnj0aMmSIQkJCFBUVpYyMjHrHX7t2rXr06KGQkBD17dtX//znP00sEQAANFNNNmBVVVWpX79%2BWrZs2QXr1q9fr/fee08ul6teX1JSkvbv36/s7Gxt3LhROTk5mjZtmt3v8Xg0YsQIde3aVfn5%2BVqwYIHmz5%2BvZ555xq7Ztm2bxo8fr%2BTkZO3evVujR4/W6NGjtW/fPnOLBQAAzYvlByRZ69evr9d%2B7Ngx6wc/%2BIG1b98%2Bq2vXrtbixYvtvvfff9%2BSZO3cudNue/311y2Hw2F98sknlmVZ1p/%2B9CerXbt2VnV1tV0ze/Zsq3v37vb%2Br371K2vUqFFe48bGxlp33nnnN55/RUWFJcmqqKj4xq8BAADfjy9//zbZK1gXU1tbq9tvv13333%2B/evfuXa8/NzdX4eHhiomJsdvi4%2BMVEBCg7du32zVDhw5VUFCQXZOQkKDCwkKdOHHCromPj/c6dkJCgnJzc792btXV1fJ4PF4bAAC4dPhtwHrqqacUGBioe%2B6557z9brdbERERXm2BgYFq37693G63XRMZGelVU7d/sZq6/vNJT09XWFiYvUVFRX27xQEAAL/ml1/2nJ%2BfryVLlmjXrl0%2B%2BQLHi5kzZ47S0tLs/bpv8wbgn2LmZvl6Ct9K3uOJvp4CcMnzy4D1r3/9S6WlperSpYvddu7cOc2cOVNPP/20Pv74YzmdTpWWlnq97uzZsyorK5PT6ZQkOZ1OlZSUeNXU7V%2Bspq7/fIKDgxUcHPzdFwg0c/4WWADg2/LLtwhvv/127dmzRwUFBfbmcrl0//3364033pAkxcXFqby8XPn5%2BfbrNm/erNraWsXGxto1OTk5qqmpsWuys7PVvXt3tWvXzq7ZtGmT1/jZ2dmKi4tr6GUCAAA/1WSvYFVWVurQoUP2/uHDh1VQUKD27durS5cu6tChg1d9y5Yt5XQ61b17d0lSz549lZiYqKlTpyozM1M1NTVKTU3VuHHj7Ec6TJgwQY888oiSk5M1e/Zs7du3T0uWLNHixYvt406fPl0//elPtXDhQo0aNUovvfSS8vLyvB7lAAAA8GVN9gpWXl6eBgwYoAEDBkiS0tLSNGDAAM2bN%2B8bH2PVqlXq0aOHhg8frpEjR2rw4MFewSgsLExvvvmmDh8%2BrEGDBmnmzJmaN2%2Be17OyfvKTn2j16tV65pln1K9fP/3f//2fNmzYoD59%2BphbLAAAaFYclmVZvp5Ec%2BfxeBQWFqaKigqFhob6ejqAz3EPVsPiJnfgC778/dtkr2ABAAD4KwIWAACAYQQsAAAAwwhYAAAAhhGwAAAADCNgAQAAGEbAAgAAMIyABQAAYBgBCwAAwDACFgAAgGEELAAAAMMIWAAAAIYRsAAAAAwjYAEAABhGwAIAADAs0NcTAGBGzNwsX08BAPD/cQULAADAMK5gAUAz409XM/MeT/T1FIAGwRUsAAAAwwhYAAAAhhGwAAAADCNgAQAAGEbAAgAAMIyABQAAYBgBCwAAwDACFgAAgGEELAAAAMMIWAAAAIYRsAAAAAwjYAEAABhGwAIAADCMgAUAAGAYAQsAAMCwJhuwcnJydNNNN8nlcsnhcGjDhg12X01NjWbPnq2%2BffuqTZs2crlcmjhxoo4fP%2B51jLKyMiUlJSk0NFTh4eFKTk5WZWWlV82ePXs0ZMgQhYSEKCoqShkZGfXmsnbtWvXo0UMhISHq27ev/vnPfzbImgEAQPPQZANWVVWV%2BvXrp2XLltXrO3XqlHbt2qWHHnpIu3bt0rp161RYWKif//znXnVJSUnav3%2B/srOztXHjRuXk5GjatGl2v8fj0YgRI9S1a1fl5%2BdrwYIFmj9/vp555hm7Ztu2bRo/frySk5O1e/dujR49WqNHj9a%2BffsabvEAAMCvOSzLsnw9iYtxOBxav369Ro8e/bU1O3fu1DXXXKMjR46oS5cu%2BuCDD9SrVy/t3LlTMTExkqSsrCyNHDlSx44dk8vl0vLlyzV37ly53W4FBQVJkh544AFt2LBBBw4ckCTdeuutqqqq0saNG%2B2xrr32WvXv31%2BZmZnfaP4ej0dhYWGqqKhQaGjod/xbAC4sZm6Wr6cAfGt5jyf6egpoxnz5%2B7fJXsH6tioqKuRwOBQeHi5Jys3NVXh4uB2uJCk%2BPl4BAQHavn27XTN06FA7XElSQkKCCgsLdeLECbsmPj7ea6yEhATl5uZ%2B7Vyqq6vl8Xi8NgAAcOloFgHr9OnTmj17tsaPH28nVLfbrYiICK%2B6wMBAtW/fXm63266JjIz0qqnbv1hNXf/5pKenKywszN6ioqK%2B3wIBAIBf8fuAVVNTo1/96leyLEvLly/39XQkSXPmzFFFRYW9HT161NdTAgAAjSjQ1xP4PurC1ZEjR7R582av91edTqdKS0u96s%2BePauysjI5nU67pqSkxKumbv9iNXX95xMcHKzg4ODvvjAAAODX/PYKVl24OnjwoN566y116NDBqz8uLk7l5eXKz8%2B32zZv3qza2lrFxsbaNTk5OaqpqbFrsrOz1b17d7Vr186u2bRpk9exs7OzFRcX11BLAwAAfq7JBqzKykoVFBSooKBAknT48GEVFBSoqKhINTU1%2BsUvfqG8vDytWrVK586dk9vtltvt1pkzZyRJPXv2VGJioqZOnaodO3bo3XffVWpqqsaNGyeXyyVJmjBhgoKCgpScnKz9%2B/drzZo1WrJkidLS0ux5TJ8%2BXVlZWVq4cKEOHDig%2BfPnKy8vT6mpqY3%2BdwIAAPxDk31Mw5YtWzRs2LB67ZMmTdL8%2BfMVHR193te9/fbbuv766yV98aDR1NRUvfrqqwoICNDYsWO1dOlSXXbZZXb9nj17lJKSop07d6pjx466%2B%2B67NXv2bK9jrl27Vg8%2B%2BKA%2B/vhjdevWTRkZGRo5cuQ3XguPaUBj4DEN8Ec8pgENyZe/f5tswGpOCFhoDAQs%2BCMCFhoSz8ECAABoRghYAAAAhhGwAAAADCNgAQAAGEbAAgAAMIyABQAAYBgBCwAAwDACFgAAgGEELAAAAMMIWAAAAIYRsAAAAAwjYAEAABhGwAIAADAs0NcTAJqqmLlZvp4CAMBPEbAAAD7jb/%2BRyXs80ddTgJ/gLUIAAADDCFgAAACGEbAAAAAMI2ABAAAYRsACAAAwjIAFAABgGAELAADAMAIWAACAYQQsAAAAwwhYAAAAhhGwAAAADCNgAQAAGEbAAgAAMIyABQAAYBgBCwAAwDACFgAAgGEELAAAAMOabMDKycnRTTfdJJfLJYfDoQ0bNnj1W5alefPmqVOnTmrVqpXi4%2BN18OBBr5qysjIlJSUpNDRU4eHhSk5OVmVlpVfNnj17NGTIEIWEhCgqKkoZGRn15rJ27Vr16NFDISEh6tu3r/75z38aXy8AAGg%2BmmzAqqqqUr9%2B/bRs2bLz9mdkZGjp0qXKzMzU9u3b1aZNGyUkJOj06dN2TVJSkvbv36/s7Gxt3LhROTk5mjZtmt3v8Xg0YsQIde3aVfn5%2BVqwYIHmz5%2BvZ555xq7Ztm2bxo8fr%2BTkZO3evVujR4/W6NGjtW/fvoZbPAAA8GsOy7IsX0/iYhwOh9avX6/Ro0dL%2BuLqlcvl0syZM3XfffdJkioqKhQZGakVK1Zo3Lhx%2BuCDD9SrVy/t3LlTMTExkqSsrCyNHDlSx44dk8vl0vLlyzV37ly53W4FBQVJkh544AFt2LBBBw4ckCTdeuutqqqq0saNG%2B35XHvtterfv78yMzO/0fw9Ho/CwsJUUVGh0NBQU38taGAxc7N8PQUATUze44m%2BngK%2BBV/%2B/m2yV7Au5PDhw3K73YqPj7fbwsLCFBsbq9zcXElSbm6uwsPD7XAlSfHx8QoICND27dvtmqFDh9rhSpISEhJUWFioEydO2DVfHqeupm4cAACArwr09QS%2BC7fbLUmKjIz0ao%2BMjLT73G63IiIivPoDAwPVvn17r5ro6Oh6x6jra9eundxu9wXHOZ/q6mpVV1fb%2Bx6P59ssDwAA%2BDm/vILV1KWnpyssLMzeoqKifD0lAADQiPwyYDmdTklSSUmJV3tJSYnd53Q6VVpa6tV/9uxZlZWVedWc7xhfHuPraur6z2fOnDmqqKiwt6NHj37bJQIAAD/mlwErOjpaTqdTmzZtsts8Ho%2B2b9%2BuuLg4SVJcXJzKy8uVn59v12zevFm1tbWKjY21a3JyclRTU2PXZGdnq3v37mrXrp1d8%2BVx6mrqxjmf4OBghYaGem0AAODS0WQDVmVlpQoKClRQUCDpixvbCwoKVFRUJIfDoRkzZuixxx7TK6%2B8or1792rixIlyuVz2Jw179uypxMRETZ06VTt27NC7776r1NRUjRs3Ti6XS5I0YcIEBQUFKTk5Wfv379eaNWu0ZMkSpaWl2fOYPn26srKytHDhQh04cEDz589XXl6eUlNTG/uvBAAA%2BIkme5N7Xl6ehg0bZu/XhZ5JkyZpxYoVmjVrlqqqqjRt2jSVl5dr8ODBysrKUkhIiP2aVatWKTU1VcOHD1dAQIDGjh2rpUuX2v1hYWF68803lZKSokGDBqljx46aN2%2Be17OyfvKTn2j16tV68MEH9bvf/U7dunXThg0b1KdPn0b4WwAAAP7IL56D5e94DpZ/4jlYAL6K52D5F56DBQAA0IwQsAAAAAwjYAEAABhGwAIAADCMgAUAAGAYAQsAAMAwAhYAAIBhBCwAAADDCFgAAACGEbAAAAAMI2ABAAAYRsACAAAwjIAFAABgGAELAADAMAIWAACAYQQsAAAAwwhYAAAAhhGwAAAADCNgAQAAGGY8YP3nP/8xfUgAAAC/YjxgXXXVVRo2bJhefPFFnT592vThAQAAmjzjAWvXrl26%2BuqrlZaWJqfTqTvvvFM7duwwPQwAAECTZTxg9e/fX0uWLNHx48f13HPPqbi4WIMHD1afPn20aNEiffrpp6aHBAAAaFIa7Cb3wMBAjRkzRmvXrtVTTz2lQ4cO6b777lNUVJQmTpyo4uLihhoaAADApxosYOXl5em3v/2tOnXqpEWLFum%2B%2B%2B7TRx99pOzsbB0/flw333xzQw0NAADgU4GmD7ho0SI9//zzKiws1MiRI/XCCy9o5MiRCgj4IstFR0drxYoVuuKKK0wPDQAA0CQYD1jLly/XlClTdMcdd6hTp07nrYmIiNCzzz5remgAAIAmwXjAOnjw4EVrgoKCNGnSJNNDAwAANAnG78F6/vnntXbt2nrta9eu1cqVK00PBwAA0OQYD1jp6enq2LFjvfaIiAg98cQTpocDAABocowHrKKiIkVHR9dr79q1q4qKikwPBwAA0OQYD1gRERHas2dPvfZ///vf6tChg%2BnhAAAAmhzjN7mPHz9e99xzj9q2bauhQ4dKkrZu3arp06dr3LhxpoeDH4mZm%2BXrKQAA0CiMB6zf//73%2BvjjjzV8%2BHAFBn5x%2BNraWk2cONHoPVjnzp3T/Pnz9eKLL8rtdsvlcumOO%2B7Qgw8%2BKIfDIUmyLEsPP/yw/vKXv6i8vFzXXXedli9frm7dutnHKSsr0913361XX31VAQEBGjt2rJYsWaLLLrvMrtmzZ49SUlK0c%2BdOXX755br77rs1a9YsY2sBAPgHf/uPYt7jib6ewiXLeMAKCgrSmjVr9Pvf/17//ve/1apVK/Xt21ddu3Y1Os5TTz2l5cuXa%2BXKlerdu7fy8vI0efJkhYWF6Z577pEkZWRkaOnSpVq5cqWio6P10EMPKSEhQe%2B//75CQkIkSUlJSSouLlZ2drZqamo0efJkTZs2TatXr5YkeTwejRgxQvHx8crMzNTevXs1ZcoUhYeHa9q0aUbXBAAAmgeHZVmWryfxXfzsZz9TZGSk1wNLx44dq1atWunFF1%2BUZVlyuVyaOXOm7rvvPklSRUWFIiMjtWLFCo0bN04ffPCBevXqpZ07dyomJkaSlJWVpZEjR%2BrYsWNyuVxavny55s6dK7fbraCgIEnSAw88oA0bNujAgQPfaK4ej0dhYWGqqKhQaGio4b8J/%2BFv//MDAH93qV/B8uXvX%2BM3uZ87d07PPvusJkyYoPj4eN1www1emyk/%2BclPtGnTJn344YeSvriJ/p133tGNN94oSTp8%2BLDcbrfi4%2BPt14SFhSk2Nla5ubmSpNzcXIWHh9vhSpLi4%2BMVEBCg7du32zVDhw61w5UkJSQkqLCwUCdOnDjv3Kqrq%2BXxeLw2AABw6TD%2BFuH06dO1YsUKjRo1Sn369LHvhzLtgQcekMfjUY8ePdSiRQudO3dOjz/%2BuJKSkiRJbrdbkhQZGen1usjISLvP7XYrIiLCqz8wMFDt27f3qvnqYyfqjul2u9WuXbt6c0tPT9cjjzxiYJUAAMAfGQ9YL730kl5%2B%2BWWNHDnS9KG9vPzyy1q1apVWr16t3r17q6CgQDNmzJDL5fL51/DMmTNHaWlp9r7H41FUVJQPZwQAABpTg9zkftVVV5k%2BbD3333%2B/HnjgAfvRD3379tWRI0eUnp6uSZMmyel0SpJKSkq8vnS6pKRE/fv3lyQ5nU6VlpZ6Hffs2bMqKyuzX%2B90OlVSUuJVU7dfV/NVwcHBCg4O/v6LBAAAfsn4PVgzZ87UkiVL1ND3zp86dUoBAd7Tb9GihWprayVJ0dHRcjqd2rRpk93v8Xi0fft2xcXFSZLi4uJUXl6u/Px8u2bz5s2qra1VbGysXZOTk6Oamhq7Jjs7W927dz/v24MAAADGr2C98847evvtt/X666%2Brd%2B/eatmypVf/unXrjIxz00036fHHH1eXLl3Uu3dv7d69W4sWLdKUKVMkSQ6HQzNmzNBjjz2mbt262Y9pcLlcGj16tCSpZ8%2BeSkxM1NSpU5WZmamamhqlpqZq3LhxcrlckqQJEybokUceUXJysmbPnq19%2B/ZpyZIlWrx4sZF1AACA5sd4wAoPD9ctt9xi%2BrD1/OEPf9BDDz2k3/72tyotLZXL5dKdd96pefPm2TWzZs1SVVWVpk2bpvLycg0ePFhZWVn2M7AkadWqVUpNTdXw4cPtB40uXbrU7g8LC9Obb76plJQUDRo0SB07dtS8efN4BhYAAPhafvscLH/Cc7C%2BwHOwAKBx8RysZvQcLOmLG8Xfeust/fnPf9bJkyclScePH1dlZWVDDAcAANCkGH%2BL8MiRI0pMTFRRUZGqq6v1P//zP2rbtq2eeuopVVdXKzMz0/SQAAAATYrxK1jTp09XTEyMTpw4oVatWtntt9xyi9cn%2BgAAAJor41ew/vWvf2nbtm1eXy0jSVdccYU%2B%2BeQT08MBAAA0OcavYNXW1urcuXP12o8dO6a2bduaHg4AAKDJMR6wRowYoaefftredzgcqqys1MMPP9zgX58DAADQFBh/i3DhwoVKSEhQr169dPr0aU2YMEEHDx5Ux44d9be//c30cAAAAE2O8YDVuXNn/fvf/9ZLL72kPXv2qLKyUsnJyUpKSvK66R0AAKC5Mh6wJCkwMFC33XZbQxwaAACgyTMesF544YUL9k%2BcONH0kAAAAE2K8YA1ffp0r/2amhqdOnVKQUFBat26NQELAAA0e8Y/RXjixAmvrbKyUoWFhRo8eDA3uQMAgEtCg3wX4Vd169ZNTz75ZL2rWwAAAM1RowQs6Ysb348fP95YwwEAAPiM8XuwXnnlFa99y7JUXFysP/7xj7ruuutMDwcAANDkGA9Yo0eP9tp3OBy6/PLLdcMNN2jhwoWmhwMAAGhyjAes2tpa04cEAADwK412DxYAAMClwvgVrLS0tG9cu2jRItPDAwAA%2BJzxgLV7927t3r1bNTU16t69uyTpww8/VIsWLTRw4EC7zuFwmB4aAACgSTAesG666Sa1bdtWK1euVLt27SR98fDRyZMna8iQIZo5c6bpIQEAAJoU4/dgLVy4UOnp6Xa4kqR27drpscce41OEAADgkmA8YHk8Hn366af12j/99FOdPHnS9HAAAABNjvGAdcstt2jy5Mlat26djh07pmPHjunvf/%2B7kpOTNWbMGNPDAQAANDnG78HKzMzUfffdpwkTJqimpuaLQQIDlZycrAULFpgeDgAAoMkxHrBat26tP/3pT1qwYIE%2B%2BugjSdKVV16pNm3amB4KAACgSWqwB40WFxeruLhY3bp1U5s2bWRZVkMNBQAA0KQYD1ifffaZhg8frh/96EcaOXKkiouLJUnJyck8ogEAAFwSjAese%2B%2B9Vy1btlRRUZFat25tt996663KysoyPRwAAECTY/werDfffFNvvPGGOnfu7NXerVs3HTlyxPRwAAAATY7xK1hVVVVeV67qlJWVKTg42PRwAAAATY7xgDVkyBC98MIL9r7D4VBtba0yMjI0bNgw08MBAAA0OcbfIszIyNDw4cOVl5enM2fOaNasWdq/f7/Kysr07rvvmh4OAACgyTF%2BBatPnz768MMPNXjwYN18882qqqrSmDFjtHv3bl155ZVGx/rkk0902223qUOHDmrVqpX69u2rvLw8u9%2ByLM2bN0%2BdOnVSq1atFB8fr4MHD3odo6ysTElJSQoNDVV4eLiSk5NVWVnpVbNnzx4NGTJEISEhioqKUkZGhtF1AACA5sXoFayamholJiYqMzNTc%2BfONXnoek6cOKHrrrtOw4YN0%2Buvv67LL79cBw8e9PqS6YyMDC1dulQrV65UdHS0HnroISUkJOj9999XSEiIJCkpKUnFxcXKzs5WTU2NJk%2BerGnTpmn16tWSvvhuxREjRig%2BPl6ZmZnau3evpkyZovDwcE2bNq1B1wgAAPyT0YDVsmVL7dmzx%2BQhv9ZTTz2lqKgoPf/883ZbdHS0/WfLsvT000/rwQcf1M033yxJeuGFFxQZGakNGzZo3Lhx%2BuCDD5SVlaWdO3cqJiZGkvSHP/xBI0eO1P/%2B7//K5XJp1apVOnPmjJ577jkFBQWpd%2B/eKigo0KJFiwhYAADgvIy/RXjbbbfp2WefNX3Yel555RXFxMTol7/8pSIiIjRgwAD95S9/sfsPHz4st9ut%2BPh4uy0sLEyxsbHKzc2VJOXm5io8PNwOV5IUHx%2BvgIAAbd%2B%2B3a4ZOnSogoKC7JqEhAQVFhbqxIkT551bdXW1PB6P1wYAAC4dxm9yP3v2rJ577jm99dZbGjRoUL3vIFy0aJGRcf7zn/9o%2BfLlSktL0%2B9%2B9zvt3LlT99xzj4KCgjRp0iS53W5JUmRkpNfrIiMj7T63262IiAiv/sDAQLVv396r5stXxr58TLfb7fWWZJ309HQ98sgjRtYJAAD8j7GA9Z///EdXXHGF9u3bp4EDB0qSPvzwQ68ah8NhajjV1tYqJiZGTzzxhCRpwIAB2rdvnzIzMzVp0iRj43wXc%2BbMUVpamr3v8XgUFRXlwxkBAIDGZCxgdevWTcXFxXr77bclffHVOEuXLq13BcmUTp06qVevXl5tPXv21N///ndJktPplCSVlJSoU6dOdk1JSYn69%2B9v15SWlnod4%2BzZsyorK7Nf73Q6VVJS4lVTt19X81XBwcE8VBUAgEuYsXuwLMvy2n/99ddVVVVl6vD1XHfddSosLPRq%2B/DDD9W1a1dJX9zw7nQ6tWnTJrvf4/Fo%2B/btiouLkyTFxcWpvLxc%2Bfn5ds3mzZtVW1ur2NhYuyYnJ0c1NTV2TXZ2trp3737etwcBAACM3%2BRe56uBy7R7771X7733np544gkdOnRIq1ev1jPPPKOUlBRJX7wdOWPGDD322GN65ZVXtHfvXk2cOFEul0ujR4%2BW9MUVr8TERE2dOlU7duzQu%2B%2B%2Bq9TUVI0bN04ul0uSNGHCBAUFBSk5OVn79%2B/XmjVrtGTJEq%2B3AAEAAL7M2FuEDoej3j1WJu%2B5%2Bqof//jHWr9%2BvebMmaNHH31U0dHRevrpp5WUlGTXzJo1S1VVVZo2bZrKy8s1ePBgZWVl2c/AkqRVq1YpNTVVw4cPV0BAgMaOHaulS5fa/WFhYXrzzTeVkpKiQYMGqWPHjpo3bx6PaAAAAF/LYRm61BQQEKAbb7zRvvfo1Vdf1Q033FDvU4Tr1q0zMZxf8Xg8CgsLU0VFhUJDQ309HZ%2BJmZvl6ykAwCUl7/FEX0/Bp3z5%2B9fYFayvfnLvtttuM3VoAAAAv2IsYH35ieoAAACXsga7yR0AAOBSRcACAAAwjIAFAABgGAELAADAMAIWAACAYQQsAAAAwwhYAAAAhhGwAAAADCNgAQAAGEbAAgAAMIyABQAAYBgBCwAAwDACFgAAgGEELAAAAMMIWAAAAIYRsAAAAAwjYAEAABhGwAIAADCMgAUAAGAYAQsAAMAwAhYAAIBhBCwAAADDCFgAAACGEbAAAAAMI2ABAAAYRsACAAAwjIAFAABgGAELAADAMAIWAACAYQQsAAAAw5pNwHryySflcDg0Y8YMu%2B306dNKSUlRhw4ddNlll2ns2LEqKSnxel1RUZFGjRql1q1bKyIiQvfff7/Onj3rVbNlyxYNHDhQwcHBuuqqq7RixYpGWBEAAPBXzSJg7dy5U3/%2B85919dVXe7Xfe%2B%2B9evXVV7V27Vpt3bpVx48f15gxY%2Bz%2Bc%2BfOadSoUTpz5oy2bdumlStXasWKFZo3b55dc/jwYY0aNUrDhg1TQUGBZsyYoV//%2Btd64403Gm19AADAv/h9wKqsrFRSUpL%2B8pe/qF27dnZ7RUWFnn32WS1atEg33HCDBg0apOeff17btm3Te%2B%2B9J0l688039f777%2BvFF19U//79deONN%2Br3v/%2B9li1bpjNnzkiSMjMzFR0drYULF6pnz55KTU3VL37xCy1evNgn6wUAAE2f3weslJQUjRo1SvHx8V7t%2Bfn5qqmp8Wrv0aOHunTpotzcXElSbm6u%2Bvbtq8jISLsmISFBHo9H%2B/fvt2u%2BeuyEhAT7GAAAAF8V6OsJfB8vvfSSdu3apZ07d9brc7vdCgoKUnh4uFd7ZGSk3G63XfPlcFXXX9d3oRqPx6PPP/9crVq1qjd2dXW1qqur7X2Px/PtFwcAAPyW317BOnr0qKZPn65Vq1YpJCTE19Pxkp6errCwMHuLiory9ZQAAEAj8tuAlZ%2Bfr9LSUg0cOFCBgYEKDAzU1q1btXTpUgUGBioyMlJnzpxReXm51%2BtKSkrkdDolSU6ns96nCuv2L1YTGhp63qtXkjRnzhxVVFTY29GjR00sGQAA%2BAm/DVjDhw/X3r17VVBQYG8xMTFKSkqy/9yyZUtt2rTJfk1hYaGKiooUFxcnSYqLi9PevXtVWlpq12RnZys0NFS9evWya758jLqaumOcT3BwsEJDQ702AABw6fDbe7Datm2rPn36eLW1adNGHTp0sNuTk5OVlpam9u3bKzQ0VHfffbfi4uJ07bXXSpJGjBihXr166fbbb1dGRobcbrcefPBBpaSkKDg4WJJ011136Y9//KNmzZqlKVOmaPPmzXr55Zf12muvNe6CAQD4lmLmZvl6Ct9Y3uOJvp6CUX4bsL6JxYsXKyAgQGPHjlV1dbUSEhL0pz/9ye5v0aKFNm7cqN/85jeKi4tTmzZtNGnSJD366KN2TXR0tF577TXde%2B%2B9WrJkiTp37qy//vWvSkhI8MWSAACAH3BYlmX5ehLNncfjUVhYmCoqKoy/XehP/zsBAODrNMQVrIb8/XsxfnsPFgAAQFNFwAIAADCMgAUAAGAYAQsAAMAwAhYAAIBhBCwAAADDCFgAAACGEbAAAAAMI2ABAAAYRsACAAAwjIAFAABgGAELAADAMAIWAACAYQQsAAAAwwhYAAAAhhGwAAAADCNgAQAAGEbAAgAAMIyABQAAYBgBCwAAwDACFgAAgGEELAAAAMMIWAAAAIYRsAAAAAwjYAEAABhGwAIAADCMgAUAAGAYAQsAAMAwAhYAAIBhBCwAAADDCFgAAACGEbAAAAAMI2ABAAAY5rcBKz09XT/%2B8Y/Vtm1bRUREaPTo0SosLPSqOX36tFJSUtShQwdddtllGjt2rEpKSrxqioqKNGrUKLVu3VoRERG6//77dfbsWa%2BaLVu2aODAgQoODtZVV12lFStWNPTyAACAH/PbgLV161alpKTovffeU3Z2tmpqajRixAhVVVXZNffee69effVVrV27Vlu3btXx48c1ZswYu//cuXMaNWqUzpw5o23btmnlypVasWKF5s2bZ9ccPnxYo0aN0rBhw1RQUKAZM2bo17/%2Btd54441GXS8AAPAfDsuyLF9PwoRPP/1UERER2rp1q4YOHaqKigpdfvnlWr16tX7xi19Ikg4cOKCePXsqNzdX1157rV5//XX97Gc/0/HjxxUZGSlJyszM1OzZs/Xpp58qKChIs2fP1muvvaZ9%2B/bZY40bN07l5eXKysr6RnPzeDwKCwtTRUWFQkNDja47Zu43mwMAAE1Z3uOJxo/ZkL9/L8Zvr2B9VUVFhSSpffv2kqT8/HzV1NQoPj7erunRo4e6dOmi3NxcSVJubq769u1rhytJSkhIkMfj0f79%2B%2B2aLx%2BjrqbuGOdTXV0tj8fjtQEAgEtHswhYtbW1mjFjhq677jr16dNHkuR2uxUUFKTw8HCv2sjISLndbrvmy%2BGqrr%2Bu70I1Ho9Hn3/%2B%2BXnnk56errCwMHuLior63msEAAD%2Bo1kErJSUFO3bt08vvfSSr6ciSZozZ44qKirs7ejRo76eEgAAaESBvp7A95WamqqNGzcqJydHnTt3ttudTqfOnDmj8vJyr6tYJSUlcjqdds2OHTu8jlf3KcMv13z1k4clJSUKDQ1Vq1atzjun4OBgBQcHf%2B%2B1AQAA/%2BS3V7Asy1JqaqrWr1%2BvzZs3Kzo62qt/0KBBatmypTZt2mS3FRYWqqioSHFxcZKkuLg47d27V6WlpXZNdna2QkND1atXL7vmy8eoq6k7BgAAwFf57RWslJQUrV69Wv/4xz/Utm1b%2B56psLAwtWrVSmFhYUpOTlZaWprat2%2Bv0NBQ3X333YqLi9O1114rSRoxYoR69eql22%2B/XRkZGXK73XrwwQeVkpJiX4G666679Mc//lGzZs3SlClTtHnzZr388st67bXXfLZ2AADQtPntFazly5eroqJC119/vTp16mRva9assWsWL16sn/3sZxo7dqyGDh0qp9OpdevW2f0tWrTQxo0b1aJFC8XFxem2227TxIkT9eijj9o10dHReu2115Sdna1%2B/fpp4cKF%2Butf/6qEhIRGXS8AAPAfzeY5WE0Zz8ECAODCeA4WAAAALoiABQAAYBgBCwAAwDACFgAAgGEELAAAAMMIWAAAAIYRsAAAAAwjYAEAABhGwAIAADCMgAUAAGAYAQsAAMAwAhYAAIBhBCwAAADDCFgAAACGEbAAAAAMI2ABAAAYRsACAAAwjIAFAABgGAELAADAMAIWAACAYQQsAAAAwwhYAAAAhhGwAAAADCNgAQAAGEbAAgAAMIyABQAAYBgBCwAAwDACFgAAgGEELAAAAMMIWAAAAIYRsAAAAAwjYAEAABhGwAIAADCMgPUNLVu2TFdccYVCQkIUGxurHTt2%2BHpKAACgiSJgfQNr1qxRWlqaHn74Ye3atUv9%2BvVTQkKCSktLfT01AADQBBGwvoFFixZp6tSpmjx5snr16qXMzEy1bt1azz33nK%2BnBgAAmqBAX0%2BgqTtz5ozy8/M1Z84cuy0gIEDx8fHKzc0972uqq6tVXV1t71dUVEiSPB6P8fmdq64yfkwAABpbQ/yOrDumZVnGj30xBKyL%2BO9//6tz584pMjLSqz0yMlIHDhw472vS09P1yCOP1GuPiopqkDkCAODvwhY23LFPnjypsLCwhhvgPAhYDWDOnDlKS0uz92tra1VWVqYOHTrI4XAYG8fj8SgqKkpHjx5VaGioseM2JZfCGqVLY52ssfm4FNZ5KaxRav7rtCxLJ0%2BelMvlavSxCVgX0bFjR7Vo0UIlJSVe7SUlJXI6ned9TXBwsIKDg73awsPDG2qKCg0NbZY/GF92KaxRujTWyRqbj0thnZfCGqXmvc7GvnJVh5vcLyIoKEiDBg3Spk2b7Lba2lpt2rRJcXFxPpwZAABoqriC9Q2kpaVp0qRJiomJ0TXXXKOnn35aVVVVmjx5sq%2BnBgAAmiAC1jdw66236tNPP9W8efPkdrvVv39/ZWVl1bvxvbEFBwfr4Ycfrvd2ZHNyKaxRujTWyRqbj0thnZfCGqVLZ52%2B4LB88dlFAACAZox7sAAAAAwjYAEAABhGwAIAADCMgAUAAGAYActPLVu2TFdccYVCQkIUGxurHTt2%2BHpK31l6erp%2B/OMfq23btoqIiNDo0aNVWFjoVXP99dfL4XB4bXfddZePZvzdzJ8/v94aevToYfefPn1aKSkp6tChgy677DKNHTu23gNum7orrrii3hodDodSUlIk%2Be95zMnJ0U033SSXyyWHw6ENGzZ49VuWpXnz5qlTp05q1aqV4uPjdfDgQa%2BasrIyJSUlKTQ0VOHh4UpOTlZlZWUjruLCLrTGmpoazZ49W3379lWbNm3kcrk0ceJEHT9%2B3OsY5zv/Tz75ZCOv5MIudi7vuOOOemtITEz0qvHncynpvD%2BjDodDCxYssGv84Vw2dQQsP7RmzRqlpaXp4Ycf1q5du9SvXz8lJCSotLTU11P7TrZu3aqUlBS99957ys7OVk1NjUaMGKGqKu8vsp46daqKi4vtLSMjw0cz/u569%2B7ttYZ33nnH7rv33nv16quvau3atdq6dauOHz%2BuMWPG%2BHC2397OnTu91pednS1J%2BuUvf2nX%2BON5rKqqUr9%2B/bRs2bLz9mdkZGjp0qXKzMzU9u3b1aZNGyUkJOj06dN2TVJSkvbv36/s7Gxt3LhROTk5mjZtWmMt4aIutMZTp05p165deuihh7Rr1y6tW7dOhYWF%2BvnPf16v9tFHH/U6v3fffXdjTP8bu9i5lKTExESvNfztb3/z6vfncynJa23FxcV67rnn5HA4NHbsWK%2B6pn4umzwLfueaa66xUlJS7P1z585ZLpfLSk9P9%2BGszCktLbUkWVu3brXbfvrTn1rTp0/33aQMePjhh61%2B/fqdt6%2B8vNxq2bKltXbtWrvtgw8%2BsCRZubm5jTRD86ZPn25deeWVVm1trWVZzeM8SrLWr19v79fW1lpOp9NasGCB3VZeXm4FBwdbf/vb3yzLsqz333/fkmTt3LnTrnn99dcth8NhffLJJ40292/qq2s8nx07dliSrCNHjthtXbt2tRYvXtywkzPofOucNGmSdfPNN3/ta5rjubz55putG264wavN385lU8QVLD9z5swZ5efnKz4%2B3m4LCAhQfHy8cnNzfTgzcyoqKiRJ7du392pftWqVOnbsqD59%2BmjOnDk6deqUL6b3vRw8eFAul0s//OEPlZSUpKKiIklSfn6%2BampqvM5rjx491KVLF789r2fOnNGLL76oKVOmeH3JeXM4j192%2BPBhud1ur3MXFham2NhY%2B9zl5uYqPDxcMTExdk18fLwCAgK0ffv2Rp%2BzCRUVFXI4HPW%2BZ/XJJ59Uhw4dNGDAAC1YsEBnz571zQS/hy1btigiIkLdu3fXb37zG3322Wd2X3M7lyUlJXrttdeUnJxcr685nEtf4knufua///2vzp07V%2B8p8pGRkTpw4ICPZmVObW2tZsyYoeuuu059%2BvSx2ydMmKCuXbvK5XJpz549mj17tgoLC7Vu3TofzvbbiY2N1YoVK9S9e3cVFxfrkUce0ZAhQ7Rv3z653W4FBQXV%2B2UVGRkpt9vtmwl/Txs2bFB5ebnuuOMOu605nMevqjs/5/uZrOtzu92KiIjw6g8MDFT79u398vyePn1as2fP1vjx472%2BIPiee%2B7RwIED1b59e23btk1z5sxRcXGxFi1a5MPZfjuJiYkaM2aMoqOj9dFHH%2Bl3v/udbrzxRuXm5qpFixbN7lyuXLlSbdu2rXc7QnM4l75GwEKTkpKSon379nndmyTJ6/6Gvn37qlOnTho%2BfLg%2B%2BugjXXnllY09ze/kxhtvtP989dVXKzY2Vl27dtXLL7%2BsVq1a%2BXBmDePZZ5/VjTfeKJfLZbc1h/N4qaupqdGvfvUrWZal5cuXe/WlpaXZf7766qsVFBSkO%2B%2B8U%2Bnp6X7zVSzjxo2z/9y3b19dffXVuvLKK7VlyxYNHz7chzNrGM8995ySkpIUEhLi1d4czqWv8Rahn%2BnYsaNatGhR79NlJSUlcjqdPpqVGampqdq4caPefvttde7c%2BYK1sbGxkqRDhw41xtQaRHh4uH70ox/p0KFDcjqdOnPmjMrLy71q/PW8HjlyRG%2B99ZZ%2B/etfX7CuOZzHuvNzoZ9Jp9NZ70MoZ8%2BeVVlZmV%2Bd37pwdeTIEWVnZ3tdvTqf2NhYnT17Vh9//HHjTLAB/PCHP1THjh3tf6PN5VxK0r/%2B9S8VFhZe9OdUah7nsrERsPxMUFCQBg0apE2bNtlttbW12rRpk%2BLi4nw4s%2B/OsiylpqZq/fr12rx5s6Kjoy/6moKCAklSp06dGnh2DaeyslIfffSROnXqpEGDBqlly5Ze57WwsFBFRUV%2BeV6ff/55RUREaNSoUResaw7nMTo6Wk6n0%2BvceTwebd%2B%2B3T53cXFxKi8vV35%2Bvl2zefNm1dbW2iGzqasLVwcPHtRbb72lDh06XPQ1BQUFCggIqPeWmj85duyYPvvsM/vfaHM4l3WeffZZDRo0SP369btobXM4l43O13fZ49t76aWXrODgYGvFihXW%2B%2B%2B/b02bNs0KDw%2B33G63r6f2nfzmN7%2BxwsLCrC1btljFxcX2durUKcuyLOvQoUPWo48%2BauXl5VmHDx%2B2/vGPf1g//OEPraFDh/p45t/OzJkzrS1btliHDx%2B23n33XSs%2BPt7q2LGjVVpaalmWZd11111Wly5drM2bN1t5eXlWXFycFRcX5%2BNZf3vnzp2zunTpYs2ePdur3Z/P48mTJ63du3dbu3fvtiRZixYtsnbv3m1/gu7JJ5%2B0wsPDrX/84x/Wnj17rJtvvtmKjo62Pv/8c/sYiYmJ1oABA6zt27db77zzjtWtWzdr/PjxvlpSPRda45kzZ6yf//znVufOna2CggKvn9Pq6mrLsixr27Zt1uLFi62CggLro48%2Bsl588UXr8ssvtyZOnOjjlXm70DpPnjxp3XfffVZubq51%2BPBh66233rIGDhxodevWzTp9%2BrR9DH8%2Bl3UqKiqs1q1bW8uXL6/3en85l00dActP/eEPf7C6dOliBQUFWddcc4313nvv%2BXpK35mk827PP/%2B8ZVmWVVRUZA0dOtRq3769FRwcbF111VXW/fffb1VUVPh24t/SrbfeanXq1MkKCgqyfvCDH1i33nqrdejQIbv/888/t377299a7dq1s1q3bm3dcsstVnFxsQ9n/N288cYbliSrsLDQq92fz%2BPbb7993n%2BjkyZNsizri0c1PPTQQ1ZkZKQVHBxsDR8%2BvN76P/vsM2v8%2BPHWZZddZoWGhlqTJ0%2B2Tp486YPVnN%2BF1nj48OGv/Tl9%2B%2B23LcuyrPz8fCs2NtYKCwuzQkJCrJ49e1pPPPGEVzBpCi60zlOnTlkjRoywLr/8cqtly5ZW165dralTp9b7z6s/n8s6f/7zn61WrVpZ5eXl9V7vL%2BeyqXNYlmU16CUyAACASwz3YAEAABhGwAIAADCMgAUAAGAYAQsAAMAwAhYAAIBhBCwAAADDCFgAAACGEbAAAAAMI2ABAAAYRsACAAAwjIAFAABgGAELAADAMAIWAACAYQQsAAAAwwhYAAAAhhGwAAAADCNgAQAAGEbAAgAAMOz/AQ5JiROGX1DWAAAAAElFTkSuQmCC\"/>\n",
       "        </div>\n",
       "        <div role=\"tabpanel\" class=\"tab-pane col-md-12\" id=\"common1169624309565850532\">\n",
       "            \n",
       "<table class=\"freq table table-hover\">\n",
       "    <thead>\n",
       "    <tr>\n",
       "        <td class=\"fillremaining\">Value</td>\n",
       "        <td class=\"number\">Count</td>\n",
       "        <td class=\"number\">Frequency (%)</td>\n",
       "        <td style=\"min-width:200px\">&nbsp;</td>\n",
       "    </tr>\n",
       "    </thead>\n",
       "    <tr class=\"\">\n",
       "        <td class=\"fillremaining\">133.53014063002422</td>\n",
       "        <td class=\"number\">1</td>\n",
       "        <td class=\"number\">0.0%</td>\n",
       "        <td>\n",
       "            <div class=\"bar\" style=\"width:1%\">&nbsp;</div>\n",
       "        </td>\n",
       "</tr><tr class=\"\">\n",
       "        <td class=\"fillremaining\">33.64399722190129</td>\n",
       "        <td class=\"number\">1</td>\n",
       "        <td class=\"number\">0.0%</td>\n",
       "        <td>\n",
       "            <div class=\"bar\" style=\"width:1%\">&nbsp;</div>\n",
       "        </td>\n",
       "</tr><tr class=\"\">\n",
       "        <td class=\"fillremaining\">12.24405492265435</td>\n",
       "        <td class=\"number\">1</td>\n",
       "        <td class=\"number\">0.0%</td>\n",
       "        <td>\n",
       "            <div class=\"bar\" style=\"width:1%\">&nbsp;</div>\n",
       "        </td>\n",
       "</tr><tr class=\"\">\n",
       "        <td class=\"fillremaining\">100.42823236697264</td>\n",
       "        <td class=\"number\">1</td>\n",
       "        <td class=\"number\">0.0%</td>\n",
       "        <td>\n",
       "            <div class=\"bar\" style=\"width:1%\">&nbsp;</div>\n",
       "        </td>\n",
       "</tr><tr class=\"\">\n",
       "        <td class=\"fillremaining\">44.76583519152274</td>\n",
       "        <td class=\"number\">1</td>\n",
       "        <td class=\"number\">0.0%</td>\n",
       "        <td>\n",
       "            <div class=\"bar\" style=\"width:1%\">&nbsp;</div>\n",
       "        </td>\n",
       "</tr><tr class=\"\">\n",
       "        <td class=\"fillremaining\">138.07349019500182</td>\n",
       "        <td class=\"number\">1</td>\n",
       "        <td class=\"number\">0.0%</td>\n",
       "        <td>\n",
       "            <div class=\"bar\" style=\"width:1%\">&nbsp;</div>\n",
       "        </td>\n",
       "</tr><tr class=\"\">\n",
       "        <td class=\"fillremaining\">125.1752411466423</td>\n",
       "        <td class=\"number\">1</td>\n",
       "        <td class=\"number\">0.0%</td>\n",
       "        <td>\n",
       "            <div class=\"bar\" style=\"width:1%\">&nbsp;</div>\n",
       "        </td>\n",
       "</tr><tr class=\"\">\n",
       "        <td class=\"fillremaining\">163.94556346336</td>\n",
       "        <td class=\"number\">1</td>\n",
       "        <td class=\"number\">0.0%</td>\n",
       "        <td>\n",
       "            <div class=\"bar\" style=\"width:1%\">&nbsp;</div>\n",
       "        </td>\n",
       "</tr><tr class=\"\">\n",
       "        <td class=\"fillremaining\">0.5089370073923818</td>\n",
       "        <td class=\"number\">1</td>\n",
       "        <td class=\"number\">0.0%</td>\n",
       "        <td>\n",
       "            <div class=\"bar\" style=\"width:1%\">&nbsp;</div>\n",
       "        </td>\n",
       "</tr><tr class=\"\">\n",
       "        <td class=\"fillremaining\">139.5998412082582</td>\n",
       "        <td class=\"number\">1</td>\n",
       "        <td class=\"number\">0.0%</td>\n",
       "        <td>\n",
       "            <div class=\"bar\" style=\"width:1%\">&nbsp;</div>\n",
       "        </td>\n",
       "</tr><tr class=\"other\">\n",
       "        <td class=\"fillremaining\">Other values (99990)</td>\n",
       "        <td class=\"number\">99990</td>\n",
       "        <td class=\"number\">100.0%</td>\n",
       "        <td>\n",
       "            <div class=\"bar\" style=\"width:100%\">&nbsp;</div>\n",
       "        </td>\n",
       "</tr>\n",
       "</table>\n",
       "        </div>\n",
       "        <div role=\"tabpanel\" class=\"tab-pane col-md-12\"  id=\"extreme1169624309565850532\">\n",
       "            <p class=\"h4\">Minimum 5 values</p>\n",
       "            \n",
       "<table class=\"freq table table-hover\">\n",
       "    <thead>\n",
       "    <tr>\n",
       "        <td class=\"fillremaining\">Value</td>\n",
       "        <td class=\"number\">Count</td>\n",
       "        <td class=\"number\">Frequency (%)</td>\n",
       "        <td style=\"min-width:200px\">&nbsp;</td>\n",
       "    </tr>\n",
       "    </thead>\n",
       "    <tr class=\"\">\n",
       "        <td class=\"fillremaining\">0.0</td>\n",
       "        <td class=\"number\">1</td>\n",
       "        <td class=\"number\">0.0%</td>\n",
       "        <td>\n",
       "            <div class=\"bar\" style=\"width:100%\">&nbsp;</div>\n",
       "        </td>\n",
       "</tr><tr class=\"\">\n",
       "        <td class=\"fillremaining\">0.004606000039802603</td>\n",
       "        <td class=\"number\">1</td>\n",
       "        <td class=\"number\">0.0%</td>\n",
       "        <td>\n",
       "            <div class=\"bar\" style=\"width:100%\">&nbsp;</div>\n",
       "        </td>\n",
       "</tr><tr class=\"\">\n",
       "        <td class=\"fillremaining\">0.009204111959540255</td>\n",
       "        <td class=\"number\">1</td>\n",
       "        <td class=\"number\">0.0%</td>\n",
       "        <td>\n",
       "            <div class=\"bar\" style=\"width:100%\">&nbsp;</div>\n",
       "        </td>\n",
       "</tr><tr class=\"\">\n",
       "        <td class=\"fillremaining\">0.009761404239760971</td>\n",
       "        <td class=\"number\">1</td>\n",
       "        <td class=\"number\">0.0%</td>\n",
       "        <td>\n",
       "            <div class=\"bar\" style=\"width:100%\">&nbsp;</div>\n",
       "        </td>\n",
       "</tr><tr class=\"\">\n",
       "        <td class=\"fillremaining\">0.014038923535826113</td>\n",
       "        <td class=\"number\">1</td>\n",
       "        <td class=\"number\">0.0%</td>\n",
       "        <td>\n",
       "            <div class=\"bar\" style=\"width:100%\">&nbsp;</div>\n",
       "        </td>\n",
       "</tr>\n",
       "</table>\n",
       "            <p class=\"h4\">Maximum 5 values</p>\n",
       "            \n",
       "<table class=\"freq table table-hover\">\n",
       "    <thead>\n",
       "    <tr>\n",
       "        <td class=\"fillremaining\">Value</td>\n",
       "        <td class=\"number\">Count</td>\n",
       "        <td class=\"number\">Frequency (%)</td>\n",
       "        <td style=\"min-width:200px\">&nbsp;</td>\n",
       "    </tr>\n",
       "    </thead>\n",
       "    <tr class=\"\">\n",
       "        <td class=\"fillremaining\">190.01002901362315</td>\n",
       "        <td class=\"number\">1</td>\n",
       "        <td class=\"number\">0.0%</td>\n",
       "        <td>\n",
       "            <div class=\"bar\" style=\"width:100%\">&nbsp;</div>\n",
       "        </td>\n",
       "</tr><tr class=\"\">\n",
       "        <td class=\"fillremaining\">190.0109816150991</td>\n",
       "        <td class=\"number\">1</td>\n",
       "        <td class=\"number\">0.0%</td>\n",
       "        <td>\n",
       "            <div class=\"bar\" style=\"width:100%\">&nbsp;</div>\n",
       "        </td>\n",
       "</tr><tr class=\"\">\n",
       "        <td class=\"fillremaining\">190.01172239678746</td>\n",
       "        <td class=\"number\">1</td>\n",
       "        <td class=\"number\">0.0%</td>\n",
       "        <td>\n",
       "            <div class=\"bar\" style=\"width:100%\">&nbsp;</div>\n",
       "        </td>\n",
       "</tr><tr class=\"\">\n",
       "        <td class=\"fillremaining\">190.01358899804387</td>\n",
       "        <td class=\"number\">1</td>\n",
       "        <td class=\"number\">0.0%</td>\n",
       "        <td>\n",
       "            <div class=\"bar\" style=\"width:100%\">&nbsp;</div>\n",
       "        </td>\n",
       "</tr><tr class=\"\">\n",
       "        <td class=\"fillremaining\">190.02983834335132</td>\n",
       "        <td class=\"number\">1</td>\n",
       "        <td class=\"number\">0.0%</td>\n",
       "        <td>\n",
       "            <div class=\"bar\" style=\"width:100%\">&nbsp;</div>\n",
       "        </td>\n",
       "</tr>\n",
       "</table>\n",
       "        </div>\n",
       "    </div>\n",
       "</div>\n",
       "</div>\n",
       "    <div class=\"row headerrow highlight\">\n",
       "        <h1>Correlations</h1>\n",
       "    </div>\n",
       "    <div class=\"row variablerow\">\n",
       "    <img src=\"data:image/png;base64,iVBORw0KGgoAAAANSUhEUgAAAl4AAAISCAYAAAAdu8GRAAAAOXRFWHRTb2Z0d2FyZQBNYXRwbG90bGliIHZlcnNpb24zLjUuMywgaHR0cHM6Ly9tYXRwbG90bGliLm9yZy/NK7nSAAAACXBIWXMAAA9hAAAPYQGoP6dpAABGsUlEQVR4nO3deXiNd/7/8deJyEIQZCGitbQRVY1IiGkZmtKWtlPUMrRBUZ1Wws9eTItR1aJ1IWrKlNpaqWW0xVS/tGO6oQ2ilvQrsdSaRexkk/P7I19nnCa4uZNzkuP5uK5zyfncS97nPk3Ou6/Pfd%2BxWK1WqwAAAFDq3JxdAAAAwN2CxgsAAMBBaLwAAAAchMYLAADAQWi8AAAAHITGCwAAwEFovAAAAByExgsAAMBBaLwAAAAcxN3ZBQC4fceOHdNjjz12w%2BUVK1aUj4%2BP6tWrp3bt2umFF16Qj4%2BPAysEABTHwp8MAsqf6xuvkJCQIk1VXl6esrKydPz4cUlSUFCQPvroI917770OrxUA8F80XkA5dH3jtWTJEkVFRRW73rZt2/Tqq6/q4sWLCg8P14oVKxxZJgDgdzjHC3BhUVFRGj58uCRp586d2rNnj5MrAoC7G40X4OI6dOhg%2BzopKcmJlQAAOLkecHFVqlSxfX3p0iW7ZT/99JOWLl2qHTt26OzZs6pataqaNWummJgY/eEPfyh2f%2BfPn9eKFSu0ZcsWpaSk6OLFi/L29tY999yjRx99VH369FG1atXstmnUqJEk6fvvv9fbb7%2BtzZs3y83NTU2aNNHChQvl7u6upKQkLVq0SImJicrKylKlSpVUv359tW/fXr179y724oDs7GytWLFCGzZsUEpKivLy8hQYGKiHH35Y/fv3V7169ezW37Ztm/r06aOwsDAtX75cS5cu1dq1a3XkyBFVrFhRDzzwgPr06aP27dvfyaEGgFui8QJc3JEjR2xf16pVy/b1jBkztGDBAklStWrVFBISovT0dG3evFmbN2/WSy%2B9pJEjR9rt6/Dhw%2BrXr59Onjwpd3d33XPPPapTp46OHz%2BuvXv3au/evVq/fr1Wr16typUrF6klLi5OO3fuVEhIiLKysuTv7y93d3d99dVXGjZsmPLz81W9enU1atRIly5d0u7du5WUlKTPP/9cK1assGu%2BTp06pRdffFEHDx6UJNWrV0%2BVK1dWamqqEhIStHbtWr399tvq1KlTkTry8vL00ksv6ccff1T16tXVsGFDHTp0SNu2bdO2bds0ceJE9erVy9yBB4DiWAGUO0ePHrWGhIRYQ0JCrFu3br3puqNHj7aGhIRYmzRpYs3IyLBarVbrJ598Yg0JCbFGRkZaP/vsM9u6BQUF1vXr11ubNWtmDQkJsX766ad2%2B3rhhResISEh1h49eljT0tLstvvnP/9pDQ0NtYaEhFiXLVtmt921Wh988EHr9u3brVar1Xr16lXrmTNnrFevXrU%2B8sgj1pCQEOuCBQus%2Bfn5tu327NljbdWqlTUkJMT6wQcf2Mbz8/Otzz77rDUkJMT6xBNPWPfv329bduHCBev48eNtr3nXrl22ZVu3brXV0qxZM%2Bvnn39uW3b%2B/Hlr3759rSEhIdaWLVta8/LybnpcAeBOcI4X4IKys7O1b98%2BTZgwQWvXrpUk9evXT35%2BfsrNzdWcOXMkSW%2B99Zb%2B9Kc/2bazWCzq1KmTRo0aJUmaM2eO8vPzJUmZmZk6cOCAJGny5MkKCAiw265z585q2bKlJOnXX38ttq6OHTuqRYsWkiQ3Nzf5%2BvoqKytLGRkZkqQePXqoQoUKtvWbNGmiYcOGqX379vL19bWNf/nll9q/f788PT21YMEChYaG2pb5%2BPjozTffVJs2bZSXl6eZM2cWW8uQIUP0zDPP2J5XqVLF9rrPnj2rQ4cOFbsdAJjBVCNQzvXp0%2BeW63Tv3l1Dhw6VVHh1Y2ZmpipXrnzDm7D%2B6U9/0uTJk5WWlqZ9%2B/bpoYcekp%2Bfn7Zu3ars7Gx5eXkV2ebq1au2qcDs7Oxi9xsREVFkrHr16qpWrZrOnTunkSNH6pVXXlFYWJjc3Ar/v7BHjx7q0aOH3TZff/21JCk6Olp169Yt9nu9%2BOKL%2Bvbbb7V9%2B3ZduHDB7lw3SXr00UeLbNOwYUPb1%2BfPny92vwBgBo0XUM79/gaqFotFnp6e8vX1VaNGjdS%2BfXvdd999tuXXUqu8vDw9//zzN9xvhQoVVFBQoIMHD%2Bqhhx6yjXt5een48eP65Zdf9Ntvv%2Bno0aNKTU3V/v37dfnyZUlSQUFBsfv09/cv9vuMHDlSr7/%2BurZs2aItW7aoWrVqioqK0iOPPKJ27drZnZsmyZZGNWnS5Ib1X1t29epVHTlyRA8%2B%2BKDd8sDAwCLbXN9QXr169Yb7BoA7ReMFlHN//etfb3gD1eJcuHBBkpSbm6sdO3bccv3rk5%2BDBw9qwoQJ2r59u906Pj4%2BioyMVHp6upKTk2%2B4r%2BKSMqkw1br33nu1aNEi/fDDDzp37py%2B%2BuorffXVV7JYLGrbtq0mTZpka8AuXrwoSUVSrN/XdM3vr%2BaUCv%2Bs0s1Yubc0gFJA4wXcZby9vSUVJkJr1qwxvN3p06f1wgsv6PTp0woKClKPHj30wAMPqEGDBgoODpbFYtGIESNu2njdTFRUlKKiopSdna2ff/5ZP/30k7799lvt3btX//73v/Xyyy9r7dq1slgstismrzWRxbm%2BYSzuCksAcAYaL%2BAuU79%2BfUmFt4bIz8%2BXu3vRXwNWq1Xbtm1TrVq1FBQUJA8PD61evVqnT5%2BWr6%2BvVq9erRo1ahTZLi0t7bbryc3N1dGjR3Xx4kWFhYXJy8tLrVu3VuvWrTVs2DCtX79ew4cPV3Jysn799VeFhoaqQYMG2rdvn/bu3XvD/f7yyy%2BSCqde77nnntuuCwBKA1c1AneZFi1aqEqVKrp06dINE68vvvhCffv2VceOHXXq1ClJhX8fUir8g9vFNV0pKSnatWuXpNs7P%2Bo///mPOnXqpEGDBik3N7fI8ocfftj29bX9Xjsx/uuvv9bRo0eL3e%2BSJUskSc2aNVPVqlUN1wMApYnGC7jLVKpUSYMGDZIkTZkyRatXr7Y7GX7Tpk2aMGGCpMLbP1xLixo0aCBJSk5O1saNG23rW61W/ec//9HAgQOVl5cnSbpy5Yrhev74xz%2BqevXqOnv2rMaMGaOzZ8/all28eFHvvPOOJKl27dq6//77JUlPPvmkGjVqpJycHL300kt205sXL17U66%2B/ru%2B%2B%2B07u7u5FbgILAM7EVCNwF3rppZd09OhRffrppxo3bpymT5%2Bu4OBgpaWlKT09XVLhrR%2BmTJli26Zbt276%2BOOPdeTIEQ0ZMkR16tRR9erVdfLkSZ0%2BfVoVK1ZUy5YttX379tuacvTw8NCsWbM0YMAAbdiwQZs3b9Y999wjNzc3HT16VJcvX5a3t7fefvtteXh4SJLc3d31/vvv66WXXtLBgwf17LPP2t25/totLyZNmqTIyMiSPXgAYAKNF3AXslgsmjx5sp544gmtWLFCu3btst2QtFmzZnr66afVs2dPW6MjFV4luGrVKi1YsEDffPONjh07pszMTNWqVUvt2rVT3759ValSJbVv317Jyck6ceKEgoKCDNUTFRWllStX2v5W4%2BHDh%2BXu7q5atWqpdevW6t%2B/f5F9BQcHa/Xq1frkk0/05ZdfKjU1VadOnVLt2rXVpk0bPf/880X%2BViMAOJvFyjXTAAAADsE5XgAAAA5C4wUAAOAgNF4AAMAl5Obm6umnn9a2bdtuuM6%2BffvUvXt3hYWF6bnnntOePXvslq9bt07t27dXWFiYBg8erKysrBKtkcYLAACUezk5ORo%2BfLjt79EW5/Llyxo0aJAiIyO1Zs0ahYeH6%2BWXX7b9ndndu3dr/Pjxio2NVUJCgs6fP6%2BxY8eWaJ00XgAAoFxLSUlRjx499Ntvv910vQ0bNsjT01OjR49Ww4YNNX78eFWuXFlffvmlJGnZsmXq2LGjOnfurNDQUE2bNk1btmy54Y2a7wSNFwAAKNe2b9%2BuqKgoJSQk3HS9pKQkRUREyGKxSCq8tU7z5s1tf3UjKSnJ7t5/tWvXVlBQkJKSkkqsVu7jBQAAnCo9PV0ZGRl2Y/7%2B/goICDC0fe/evQ2tl5GRofvuu89urGbNmrbpyfT09CLfs2bNmrY/nVYSaLxu5v86YpdRv7504IB0//3SoUPOrqbkXPfnblB2WeViP0%2BAEznt46mUvnHC7NmKj4%2B3G4uNjVVcXFyJfp8rV67Y3RhaKvzrGdf%2BTmx2dvZNl5cEGq%2B7ia%2BvVKFC4b8o2ywWiXsbl3m8TWUf71EJcyudM5R69uyp6OhouzF/f/8S/z6enp5Fmqjc3Fx5eXnddLm3t3eJ1UDjBQAAnCogIMDwtKIZgYGByszMtBvLzMy0fe8bLS/JJpCT6wEAgDFubqXzcJCwsDDt3LlT1/5aotVq1Y4dOxQWFmZbnpiYaFv/5MmTOnnypG15SaDxAgAALisjI0PZ2dmSpCeffFLnz5/XlClTlJKSoilTpujKlSvq2LGjJKlXr1767LPPtHLlSiUnJ2v06NFq166d6tatW2L10HgBAABjymHi1bp1a23YsEGS5OPjow8%2B%2BECJiYnq2rWrkpKSNH/%2BfFWqVEmSFB4err/97W%2BaO3euevXqpWrVqmnq1KklWo/FauW0wxtytasaw8OlHTuk5s2lnTudXU3JccWrGl3wjGBXvKrRBd8ml%2BOq75HTPp5K8CRzO1eulM5%2ByyASLwAAAAfhqkYAAGCMA0%2BEd1UcQQAAAAch8QIAAMaQeJlG4wUAAIyh8TKNIwgAAOAgJF4AAMAYEi/TOIIAAAAOQuIFAACMIfEyjcYLAAAYQ%2BNlGkcQAADAQUi8AACAMSRepnEEAQAAHITECwAAGEPiZRqNFwAAMIbGyzSOIAAAgIOQeAEAAGNIvEyj8QIAAMbQeJnGEQQAAHAQEi8AAGAMiZdpHEEAAAAHIfECAADGkHiZRuMFAACMofEyjSMIAADgICReAADAGBIv0ziCAAAADkLiBQAAjCHxMo3GCwAAGEPjZRpHEAAAwEFIvAAAgDEkXqZxBAEAAByExAsAABhD4mUajRcAADCGxss0jiAAAICDkHgBAABjSLxM4wgCAAA4CIkXAAAwhsTLNBovAABgDI2XaRxBAAAAByHxAgAAxpB4mcYRBAAAcJBym3ht3rxZkyZN0rlz5/Tuu%2B/q66%2B/1ldffSUvLy/1799f/fv3d3aJAAC4ljKaeOXk5GjSpEm37ANiYmK0ffv2IuNdu3bV1KlTde7cObVs2dJuma%2Bvr7Zt21ZitZbbxmv27Nlq3bq1Bg8erHnz5mnPnj1avHixTpw4oTFjxigoKEhPPvmks8sEAMB1lNHGa9q0aYb6gDlz5igvL8/2PCkpSf/v//0/9e7dW5KUkpIiX19frVu3zraOWwm/5nLbeF24cEERERGqXr26Pv/8cy1YsEBNmjRRkyZNdODAAS1fvpzGCwAAF3f58mWtXLnSUB/g6%2Btr%2B/rq1auaOXOmBg4cqKZNm0qSDh48qPr168vf37/U6i2brestREdH6/jx4xo3bpxatmyp/Px8hYeH25ZHREQoKSlJBQUFTqwSAAAX4%2BZWOg8TkpOT76gPWLNmjc6dO6eXXnrJNpaSkqJ69eqZqudWymXitWrVKnXp0kX9%2B/eXv7%2B/pkyZIg8PD9tyPz8/5eTk6OzZs6pRo4ahfaanpysjI8NuzL9%2BfQVc1x2Xe6Gh9v8CAFAGFPsZ7O%2BvgICAW26bkZGh6tWr31YfYLVa9Y9//EN9%2BvRR5cqVbeOpqanKz89Xt27dlJaWpsjISI0dO9ZQHUaVy8arRo0aqlChgqpUqaLc3Fy7gy3J9jw3N9fwPhMSEhQfH283Fjt0qOKGDjVfcFnz8cfOrgBGWCzOrqBEudar%2BS8Xe5tckqu9R1arE795KZ3jVexncGys4uLibrntlStXbrsP2LZtm06dOqUePXrYjR88eFA1atTQ2LFjZbVaNXPmTP3lL3/RypUrVaFChdt5STdULhuv63l6ehY5sNeee3l5Gd5Pz549FR0dbTfm/8wz0uLF5ossK0JDC5uu3r2l5GRnV1NyEhOdXUHJs1ic/Nu15FldsPVywbfJ5fAelbBSaryK/Qw2eJ7VnfQBGzdu1B//%2BEe7c74kaf369bJYLLbtrl3Il5SUpObNmxuq51bKfeMVGBioM2fOKD8/X%2B7uhS8nIyNDXl5eqlq1quH9BAQEFI0SDx0qyVLLjuRkaedOZ1cBAICkG3wGG3QnfcC3336r2NjYIuPe3t52z2vWrClfX1%2BlpaXdUW3FKZcn11%2BvcePGcnd3165du2xjiYmJatq0aYlfAgoAwF2tDJ5cf7t9QFZWlo4ePaqIiAi78YsXL6pFixbaunWrbSwtLU1nzpxRgwYNTNV4vXLfmXh7e6tz586aOHGidu/erU2bNmnhwoXq06ePs0sDAACl7FZ9QEZGhrKzs23rHzhwQJ6engoODrbbj4%2BPjyIiIjR16lTt3r1be/fu1bBhw9SmTRs1atSoxOot942XJI0dO1ZNmjRR3759NWnSJMXFxenxxx93dlkAALiWMph4STfvA1q3bq0NGzbY1j19%2BrSqVq0qSzFXXbzzzjt64IEHNGjQIMXExKhOnTqaMWOG6fquZ7FaOe3whlztUpjwcGnHDql5c9c6x8sV79fmgmcEc3I9nMFV3yOnfTx17Fg6%2B/3Xv0pnv2WQSyReAAAA5UG5v6oRAAA4CBetmcYRBAAAcBASLwAAYAyJl2k0XgAAwBgaL9M4ggAAAA5C4gUAAIwh8TKNxgsAABhD42UaRxAAAMBBSLwAAIAxJF6mcQQBAAAchMQLAAAYQ%2BJlGo0XAAAwhsbLNI4gAACAg5B4AQAAY0i8TOMIAgAAOAiJFwAAMIbEyzQaLwAAYAyNl2kcQQAAAAch8QIAAMaQeJnGEQQAAHAQEi8AAGAMiZdpNF4AAMAYGi/TOIIAAAAOQuIFAACMIfEyjSMIAADgICReAADAGBIv02i8AACAMTRepnEEAQAAHITECwAAGEPiZRpHEAAAwEFIvAAAgDEkXqbReAEAAGNovEzjCAIAADgIiRcAADCGxMs0jiAAAICDkHgBAABjSLxMo/ECAADG0HiZxhEEAABwEBIvAABgDImXaRxBAAAAB6HxAgAAxri5lc7DpJycHI0bN06RkZFq3bq1Fi5ceMN1X3nlFTVq1Mju8c0339iWf/TRR2rTpo3Cw8M1btw4XblyxXR912OqEQAAGFNGpxqnTZumPXv2aPHixTpx4oTGjBmjoKAgPfnkk0XWTU1N1fTp0/WHP/zBNlatWjVJ0saNGxUfH6/p06erZs2aGjt2rKZPn6433nijxGotm0cQAADAgMuXL2vlypUaP368mjRpog4dOmjgwIFavnx5kXVzc3N17NgxNW3aVP7%2B/raHh4eHJGnJkiXq27evHn30UT300EOaNGmSVq9eXaKpF40XAAAwpgxONSYnJys/P1/h4eG2sYiICCUlJamgoMBu3YMHD8pisahu3bpF9nP16lX98ssvioyMtI01a9ZMeXl5Sk5ONlXj9ZhqvJnfvWEuIzHR2RWUrDIafd%2Bx8HBpxw4pIkLaudPZ1ZQYi0v%2BPFlkkdXZRZQoqyzOLgF3ofT0dGVkZNiN%2Bfv7KyAg4JbbZmRkqHr16rbUSpL8/PyUk5Ojs2fPqkaNGrbxgwcPysfHR6NHj9b27dtVq1YtxcXFqW3btjp//rxycnLsvqe7u7t8fX116tSpEniV/7fPEtsTAABwbaX0P7oJCQmKj4%2B3G4uNjVVcXNwtt71y5Ypd0yXJ9jw3N9du/ODBg8rOzlbr1q01aNAg/c///I9eeeUVJSQkyM/Pz27b6/f1%2B/2YQeMFAACMKaXGq2fPnoqOjrYb8/f3N7Stp6dnkcbo2nMvLy%2B78VdffVUxMTG2k%2BlDQ0O1d%2B9effrppxo2bJjdttfvy9vb2/iLuQUaLwAA4FQBAQGGphWLExgYqDNnzig/P1/u7oVtTUZGhry8vFS1alW7dd3c3GxN1zUNGjRQSkqKfH195enpqczMTDVs2FCSlJ%2Bfr7NnzxpuAo1wsZNjAABAqSmDJ9c3btxY7u7u2rVrl20sMTFRTZs2ldvv9v3aa69p7NixdmPJyclq0KCB3Nzc1LRpUyVedx70rl275O7urtDQUFM1Xo/GCwAAlFve3t7q3LmzJk6cqN27d2vTpk1auHCh%2BvTpI6kw/crOzpYkRUdH64svvtDatWt15MgRxcfHKzExUS%2B88IIkqXfv3vrwww%2B1adMm7d69WxMnTlSPHj2YagQAAE5QRq8iHzt2rCZOnKi%2BffvKx8dHcXFxevzxxyVJrVu31tSpU9W1a1c9/vjjmjBhgubNm6cTJ07o/vvv1z/%2B8Q8FBwdLkp566ikdP35cb7zxhnJzc/X4449r1KhRJVqrxWq1uta10CXJFQ%2BNxeJ6r6uM/iK4Y9duJ9G8uUvdTsIlb8/igj9PrnY7CRd8iyQVvi6neOed0tnvmDGls98yyMU%2BsQAAAMouphoBAIAxrjbD4AQ0XgAAwBgaL9M4ggAAAA5C4gUAAIwh8TKNIwgAAOAgJF4AAMAYEi/TaLwAAIAxNF6mcQQBAAAchMQLAAAYQ%2BJlGkcQAADAQUi8AACAMSReptF4AQAAY2i8TOMIAgAAOAiJFwAAMIbEyzSOIAAAgIOQeAEAAGNIvEyj8QIAAMbQeJnGEQQAAHAQEi8AAGAMiZdpHEEAAAAHIfECAADGkHiZRuMFAACMofEyjSMIAADgICReAADAGBIv0ziCAAAADkLiBQAAjCHxMo3GCwAAGEPjZRpHEAAAwEFIvAAAgDEkXqZxBAEAAByExAsAABhD4mUajRcAADCGxss0jiAAAICDkHgBAABjSLxM4wgCAAA4CIkXAAAwhsTLNBovAABgDI2XaRxBAAAAByHxAgAAxpB4mcYRBAAAcJBy23ht3rxZf/zjHxUWFqZvv/1WkpSbm6unn35a27Ztc3J1AAC4IDe30nmYlJOTo3HjxikyMlKtW7fWwoULb7juv//9bz377LMKDw/XM888o82bN9stj4yMVKNGjewely5dMl3jNeV2qnH27Nlq3bq1Bg8erJo1ayonJ0cjRozQgQMHnF0aAACuqYxONU6bNk179uzR4sWLdeLECY0ZM0ZBQUF68skn7dZLTk5WbGysRo8erbZt2%2Bq7777T0KFDtWrVKoWGhiotLU0XLlzQpk2b5OXlZduuUqVKJVZruW28Lly4oIiICNWpU0cpKSkaMWKErFars8sCAAAOdPnyZa1cuVILFixQkyZN1KRJEx04cEDLly8v0nitW7dOrVq1Up8%2BfSRJ9957r77%2B%2Bmv961//UmhoqFJTU%2BXv76%2B6deuWWr3lsvGKjo7W8ePHNW7cOM2dO1cDBw5UVFSUhg0bpmbNmt3RPtPT05WRkWE35u/np4CAgBKoGKUqPNzZFZSs0FD7fwGgrCilxKvYz2B/f0OfwcnJycrPz1f4dZ8FERER%2Bvvf/66CggK5XVdzly5dlJeXV2QfFy5ckCSlpKSofv36d/oyDCmXjdeqVavUpUsX9e/fX88884xq1Khhep8JCQmKj4%2B3G4sdPFhxQ4aY3neZY7E4u4KStWOHsysoHR9/7OwKYISL/Ty51qsp5GJvkZw6uVNKjVexn8GxsYqLi7vlthkZGapevbo8PDxsY35%2BfsrJydHZs2fteoSGDRvabXvgwAH9%2BOOP%2BvOf/yxJSk1N1ZUrVxQTE6NDhw6pcePGGjduXIk2Y%2BWy8apRo4YqVKigKlWqlEjTJUk9e/ZUdHS03Zi/n5%2BT/wsvBRaL672miAhnV1CyQkMLm67evaXkZGdXU3ISE51dQclzwZ8nq4u1Xi74FrmkYj%2BD/f0NbXvlyhW7pkuS7Xlubu4Nt8vKylJcXJyaN2%2Buxx57TJJ08OBBnTt3TsOHD5ePj48WLFigfv36af369fLx8bmdl3RD5bLxKg0BAQFFI01%2BWsuHnTudXUHpSE523dcGoHwqpcSr2M9ggzw9PYs0WNeeX3%2BC/PUyMzP14osvymq1avbs2bbpyA8//FB5eXmqXLmyJGnGjBlq27atvvnmGz3zzDN3VN/v0XgBAIByKzAwUGfOnFF%2Bfr7c3QvbmoyMDHl5ealq1apF1k9LS7OdXL9kyRK7mTMPDw%2B79MzT01PBwcFKS0srsXrL5nWhAACg7CmD9/Fq3Lix3N3dtWvXLttYYmKimjZtandivVR4BeTAgQPl5uamZcuWKTAw0LbMarWqffv2WrNmjd36R44cUYMGDUzVeD0SLwAAYEwZvI%2BXt7e3OnfurIkTJ%2Bqtt95Senq6Fi5cqKlTp0oqTL%2BqVKkiLy8vffDBB/rtt9%2B0dOlS2zKpcEqySpUqateunebMmaM6deqoRo0amjVrlmrVqqW2bduWWL00XgAAoFwbO3asJk6cqL59%2B8rHx0dxcXF6/PHHJUmtW7fW1KlT1bVrV23cuFHZ2dnq3r273fZdunTR22%2B/rVGjRsnd3V0jRozQxYsX1apVK82fP18VKlQosVotVu46emOueGhc8RKfMvh/YKaEhxfeIqN5c9c6ub6gwNkVlDwX/HniqsbywWm3yCitP8kXFVU6%2By2DXOwTCwAAoOxiqhEAABjjajMMTkDjBQAAjKHxMo0jCAAA4CAkXgAAwBgSL9M4ggAAAA5C4gUAAIwh8TKNxgsAABhD42UaRxAAAMBBSLwAAIAxJF6mcQQBAAAchMQLAAAYQ%2BJlGo0XAAAwhsbLNI4gAACAg5B4AQAAY0i8TOMIAgAAOAiJFwAAMIbEyzQaLwAAYAyNl2kcQQAAAAch8QIAAMaQeJnGEQQAAHAQEi8AAGAMiZdpNF4AAMAYGi/TOIIAAAAOQuIFAACMIfEyjSMIAADgICReAADAGBIv02i8AACAMTRepnEEAQAAHITECwAAGEPiZRpHEAAAwEFIvAAAgDEkXqbReAEAAGNovEzjCAIAADgIiRcAADCGxMs0Gi8AAGAMjZdpHEEAAAAHIfECAADGkHiZxhEEAABwEBIvAABgDImXaTReAADAGBov0ziCAACgXMvJydG4ceMUGRmp1q1ba%2BHChTdcd9%2B%2BferevbvCwsL03HPPac%2BePXbL161bp/bt2yssLEyDBw9WVlZWidZK4wUAAIxxcyudh0nTpk3Tnj17tHjxYk2YMEHx8fH68ssvi6x3%2BfJlDRo0SJGRkVqzZo3Cw8P18ssv6/Lly5Kk3bt3a/z48YqNjVVCQoLOnz%2BvsWPHmq7vejReAACg3Lp8%2BbJWrlyp8ePHq0mTJurQoYMGDhyo5cuXF1l3w4YN8vT01OjRo9WwYUONHz9elStXtjVpy5YtU8eOHdW5c2eFhoZq2rRp2rJli44ePVpi9dJ4AQAAY0op8UpPT9fevXvtHunp6YZKSk5OVn5%2BvsLDw21jERERSkpKUkFBgd26SUlJioiIkMVikSRZLBY1b95cu3btsi2PjIy0rV%2B7dm0FBQUpKSnJ5IH7L06uvwmrLM4uocRZ5Hqvy/K7HyyXkZjo7ApKlqudlBseLu3YIUVESDt3OruaEmOZMcPZJZScgAApJkaWZUslgx/i5caIEU75tqX1%2BZGQkKD4%2BHi7sdjYWMXFxd1y24yMDFWvXl0eHh62MT8/P%2BXk5Ojs2bOqUaOG3br33Xef3fY1a9bUgQMHJEnp6ekKCAgosvzUqVO3/ZpuhMYLAAA4Vc%2BePRUdHW035u/vb2jbK1eu2DVdkmzPc3NzDa17bb3s7OybLi8JNF4AAMCQ0ppgCAgIKJI0GeXp6VmkMbr23MvLy9C619a70XJvb%2B87qq04Lpb9AwCAu0lgYKDOnDmj/Px821hGRoa8vLxUtWrVIutmZmbajWVmZtqavhstN5q%2BGUHjBQAADCkoKJ2HGY0bN5a7u7vtBHlJSkxMVNOmTeX2u3NLw8LCtHPnTlmtVkmS1WrVjh07FBYWZlueeN35tSdPntTJkydty0sCjRcAADCkLDZe3t7e6ty5syZOnKjdu3dr06ZNWrhwofr06SOpMP3Kzs6WJD355JM6f/68pkyZopSUFE2ZMkVXrlxRx44dJUm9evXSZ599ppUrVyo5OVmjR49Wu3btVLduXXNFXofGCwAAlGtjx45VkyZN1LdvX02aNElxcXF6/PHHJUmtW7fWhg0bJEk%2BPj764IMPlJiYqK5duyopKUnz589XpUqVJEnh4eH629/%2Bprlz56pXr16qVq2apk6dWqK1WqzX8jYU4YpHxmJxvddlkYu9IMk13yhXvZ1E8%2BYudTsJueDtJLSU20mUlCtXSme/JXjuepnnYr8JAQAAyi5uJwEAAAxx1ftVOxKNFwAAMITGyzymGgEAAByExAsAABhC4mUeiRcAAICDkHgBAABDSLzMo/ECAACG0HiZx1QjAACAg5B4AQAAQ0i8zCPxAgAAcBASLwAAYAiJl3k0XgAAwBAaL/OYagQAAHAQEi8AAGAIiZd5JF4AAAAOQuIFAAAMIfEyj8YLAAAYQuNlHlONAAAADkLiBQAADCHxMo/ECwAAwEFIvAAAgCEkXubReAEAAENovMxjqhEAAMBBSLwAAIAhJF7mkXgBAAA4CIkXAAAwhMTLPBovAABgCI2XeUw1AgAAOAiJFwAAMITEyzwaLwAAYAiNl3lMNQIAADgIiRcAADCExMs8Ei8AAAAHIfECAACGkHiZR%2BMFAAAMofEyj6lGAAAAByHxAgAAhpB4mUfiBQAA4CAkXgAAwBASL/NovAAAgCE0XuaV26nGzZs3649//KPCwsL0z3/%2BU0OGDFHLli3Vpk0bTZ06VTk5Oc4uEQAAOJnVatWMGTPUqlUrtWzZUtOmTVPBTTrIXbt26c9//rPCw8P1xBNPaOXKlXbL//SnP6lRo0Z2j//93/81XE%2B5Tbxmz56t1q1ba/DgwRo8eLD8/f21fPlynTt3TuPGjZObm5vGjBnj7DIBAHAZ5THxWrRokdatW6f4%2BHjl5%2Bdr1KhRqlmzpgYMGFBk3YyMDL300kvq1auX3n77be3du1djx46Vv7%2B/2rVrp6tXr%2Brw4cNatmyZ6tWrZ9uuevXqhuspt4nXhQsXFBERoezsbO3fv19Tp07V/fffr8jISA0ZMkTr1q1zdokAAMDJlixZoiFDhigyMlKtWrXSyJEjtXz58mLX3bRpk/z8/DR8%2BHDVq1dPTz31lDp37qwvvvhCknTs2DHl5eXpoYcekr%2B/v%2B3h7m48xyqXiVd0dLSOHz%2BucePGqUqVKvrHP/4hPz8/u3UuXrx4W/tMT09XRkaG3Zifn78CAgJM1wtAUni4sysoWaGh9v%2B6Clf6nVejhv2/riI93WnfurQSr%2BI%2Bg/39zX8Gp6Wl6eTJk2rRooVtLCIiQsePH1d6enqR/bdp00aNGzcusp9rPUVKSopq164tT0/PO66pXDZeq1atUpcuXdS/f38988wzqnHdD1VBQYGWLVumVq1a3dY%2BExISFB8fbzc2eHCshgyJK5GayxKLxdkVlDSXe0GFXO2N2rHD2RWUjo8/dnYFuJWnnnJ2BSXr3Xed9q1Lq/Eq7jM4NjZWcXHmPoOvNXPXN1jXgppTp04VabyCg4MVHBxse3769GmtX7/eVkdqaqoqVqyol19%2BWXv27FH9%2BvU1evRoPfTQQ4ZrKpeNV40aNVShQgVVqVLFrumSpOnTp2vfvn1atWrVbe2zZ8%2Beio6Othvz8/OX1Wq63DLFYpHrvSa52AuSXPONiohwdgUlKzS0sOnq3VtKTnZ2NSVn2DBnV1ByatQobLrWr5eyspxdDW6iuM9gf39/Q9tmZ2crLS2t2GWXL1%2BWJHl4eNjGrn2dm5t7y/3GxcXJz89PPXv2lCQdOnRI586dU/fu3TVkyBB9%2Bumn6tu3rzZs2KDatWsbqrdcNl43Mn36dC1evFgzZ85USEjIbW0bEBBQpPN1tc89wKl27nR2BaUjOdm1XpsTp7FKTVaWa74uJyitxKu4z2CjkpKS1KdPn2KXjRo1SlJhk3VtevBaw%2BXt7X3DfV66dEmvvvqqDh8%2BrI8//ti27uTJk5WdnS0fHx9J0sSJE7Vjxw599tln%2Bstf/mKoXpdpvCZPnqxPPvlE06dP1xNPPOHscgAAgANERUXp119/LXZZWlqapk%2BfroyMDNsU4rXpxxslahcvXtTAgQP122%2B/afHixXZXL7q7u9uaLkmyWCxq0KDBDRO34pTbqxqvFx8frxUrVui9997TU642lw8AQBlRUFA6j9ISGBiooKAgJSYm2sYSExMVFBRUbMJWUFCg2NhYHTt2TEuXLtX9999vtzwmJsbuXLSCggL9%2BuuvatCggeGayn3ilZqaqvfff1%2BDBg1SRESE3VURRueHAQDArZXH%2B3j16tVLM2bMUK1atSRJ7777rvr3729bnpWVJU9PT1WuXFmrVq3Stm3bNG/ePFWtWtXWU1SsWFG%2Bvr6Kjo7W3Llz1bhxY9WvX19LlizRhQsX1KVLF8P1lPvGa/Pmzbp69armzZunefPm2S27UfQIAADuDgMGDNDp06cVGxurChUqqFu3burXr59tebdu3dSlSxfFxcVp48aNKigo0Msvv2y3j5YtW2rp0qXq16%2BfcnJy9OabbyozM1NhYWFatGiR3fTjrVisVk4hvxFXPDKueLEcVzWWE24ucWbDf4WHF94io3lz1zq5fsYMZ1dQcgICpJgYaelS1zu5fsQIp3zbf/2rdPbbsWPp7LcscrHfhAAAAGVXuZ9qBAAAjlEez/Eqa2i8AACAITRe5jHVCAAA4CAkXgAAwBASL/NIvAAAAByExAsAABhC4mUejRcAADCExss8phoBAAAchMQLAAAYQuJlHokXAACAg5B4AQAAQ0i8zKPxAgAAhtB4mcdUIwAAgIOQeAEAAENIvMwj8QIAAHAQEi8AAGAIiZd5NF4AAMAQGi/zmGoEAABwEBIvAABgCImXeTReAADAEBov85hqBAAAcBASLwAAYAiJl3kkXgAAAA5C4gUAAAwh8TKPxgsAABhC42UeU40AAAAOQuIFAAAMIfEyj8QLAADAQUi8AACAISRe5tF4AQAAQ2i8zGOqEQAAwEFIvAAAgCEkXuaReAEAADgIiRcAADCExMs8Gi8AAGAIjZd5TDUCAAA4CIkXAAAwhMTLPBIvAAAAByHxAgAAhpB4mUfiBQAADCkoKJ1HabJarZoxY4ZatWqlli1batq0aSq4yTd988031ahRI7vHsmXLbMvXrVun9u3bKywsTIMHD1ZWVtZt1UPiBQAAXNaiRYu0bt06xcfHKz8/X6NGjVLNmjU1YMCAYtdPTU3ViBEj1KVLF9uYj4%2BPJGn37t0aP368Jk2apNDQUE2ZMkVjx47VBx98YLgeEi8AAGBIeUy8lixZoiFDhigyMlKtWrXSyJEjtXz58huun5qaqgceeED%2B/v62h7e3tyRp2bJl6tixozp37qzQ0FBNmzZNW7Zs0dGjRw3XQ%2BMFAABcUlpamk6ePKkWLVrYxiIiInT8%2BHGlp6cXWf/ixYtKS0tTvXr1it1fUlKSIiMjbc9r166toKAgJSUlGa6JqUYAAGBIaaVT6enpysjIsBvz9/dXQECAqf1e2%2Bf1%2B/Hz85MknTp1qsj%2BU1NTZbFY9Pe//13/%2Bc9/5OvrqxdffNE27Zienl5km5o1a%2BrUqVOGa6LxQrlnlcXZJZQ4i1zvdVlmzHB2CSXr2i/fYcOkYv7PudwaOdLZFZSc8HApJkaaOVPaudPZ1ZSsESOc8m1Lq/FKSEhQfHy83VhsbKzi4uJuuW12drbS0tKKXXb58mVJkoeHh23s2te5ublF1j948KAsFosaNGigF154QT/99JNef/11%2Bfj4qEOHDsrOzrbb17X9FbevG6HxAgAATtWzZ09FR0fbjfn7%2BxvaNikpSX369Cl22ahRoyQVNlmenp62ryXZztu6XufOnfXoo4/K19dXkhQaGqrDhw/rk08%2BUYcOHeTp6VmkycrNzS12XzdC4wUAAAwprcQrICDgjqcVo6Ki9Ouvvxa7LC0tTdOnT1dGRoaCg4Ml/Xf6sbjGzmKx2Jquaxo0aKCtW7dKkgIDA5WZmWm3PDMz03CTKHFyPQAAcFGBgYEKCgpSYmKibSwxMVFBQUHFNnqzZs1Sv3797MaSk5PVoEEDSVJYWJjdvk6ePKmTJ08qLCzMcE0kXgAAwJDyeOf6Xr16acaMGapVq5Yk6d1331X//v1ty7OysuTp6anKlSvr0Ucf1fz58/Xhhx%2BqQ4cO%2Bu6777R27VotWbLEtq%2BYmBg1a9ZMTZs21ZQpU9SuXTvVrVvXcD00XgAAwJDy2HgNGDBAp0%2BfVmxsrCpUqKBu3brZpVrdunVTly5dFBcXp4ceekizZs3S7NmzNWvWLNWpU0fvvvuuwsPDJUnh4eH629/%2BptmzZ%2BvcuXN65JFHNHny5Nuqx2K1Wq0l%2BQJdiSseGYvFNV%2BXq3HF98ny3rvOLqFkBQQUXjG3dClXNZZV4eHSjh1S8%2Baud1Wjk35BjB1bOvudOrV09lsWkXgBAABDymPiVdZwcj0AAICDkHgBAABDSLzMo/ECAACG0HiZx1QjAACAg5B4AQAAQ0i8zCPxAgAAcBASLwAAYAiJl3k0XgAAwBAaL/OYagQAAHAQEi8AAGAIiZd5NF4AAMAQGi/zmGoEAABwEBIvAABgCImXeSReAAAADkLiBQAADCHxMo/GCwAAGELjZR5TjQAAAA5C4gUAAAwh8TKPxAsAAMBBSLwAAIAhJF7m0XgBAABDaLzMY6oRAADAQUi8AACAISRe5pF4AQAAOAiJFwAAMITEyzwaLwAAYAiNl3lMNQIAADgIiRcAADCExMs8Ei8AAAAHIfECAACGkHiZR%2BMFAAAMofEyj6lGAAAAByHxAgAAhpB4mUfiBQAA4CAkXgAAwBASL/NovAAAgCE0XuYx1QgAAOAgJF4AAMAQEi/zSLwAAAAchMQLAAAYQuJlXplqvObMmaPt27dr6dKlpvZz8eJFbdq0SZ07dy6ZwgAAQLlsvKxWq959912tWrVKBQUF6tatm0aOHCk3t6KTfq%2B99pr%2B%2Bc9/FhmPiorSkiVLJEmRkZG6cOGC3fIdO3aocuXKhuopU41XSfnoo4%2B0bds2Gi8AAO5yixYt0rp16xQfH6/8/HyNGjVKNWvW1IABA4qsO378eI0YMcL2/Pjx44qJiVGfPn0kSWlpabpw4YI2bdokLy8v23qVKlUyXI9LNl5Wq9XZJQAA4HLKY%2BK1ZMkSDRkyRJGRkZKkkSNHatasWcU2XlWqVFGVKlVsz1977TU9%2BeSTat%2B%2BvSQpNTVV/v7%2Bqlu37h3Xc1sn1x87dkyNGjXSF198oTZt2igyMlJvvvmm8vPzNWfOHL366qt6/vnn1bJlS23fvl05OTmaPn262rZtq2bNmukvf/mLTp48adtfSkqKevXqpbCwMPXp00dnzpyxLVuzZo2io6Ptvn9MTIzmzJlje75o0SJFR0crPDxcAwYM0NGjR7VmzRrFx8dr%2B/btatSo0Z0eFwAAUM6lpaXp5MmTatGihW0sIiJCx48fV3p6%2Bk23/fHHH/XTTz9p%2BPDhtrGUlBTVr1/fVE13lHjFx8dr5syZys/P1%2BjRo1W5cmW5u7tr8%2BbNmjhxopo1a6b69etrwoQJ2rFjh9555x35%2BvpqxowZevXVV7V69Wrl5%2Bdr0KBBtuZt69ateuutt9S8eXNDNaxYsULx8fGaPHmyHnjgAb333nsaOnSoPv74Yx04cEA7d%2B60a9JuJT09XRkZGXZjfn7%2BCggIuK1jA%2BAGXO1nqUYN%2B39dRXi4sysoOaGh9v%2B6ip07nfatSyvxKu4z2N/f/GfwtX1evx8/Pz9J0qlTp266//nz56tLly6qXbu2bSw1NVVXrlxRTEyMDh06pMaNG2vcuHG31YzdUeM1atQoW2Q3dOhQzZgxQ7169ZKfn5969eolSTp37pw%2B%2B%2BwzLViwQK1atZIkzZgxQ%2B3atdP333%2Bvq1ev6uzZs5o4caIqVaqkhg0bavv27crKyjJUQ0JCgvr166dOnTpJkt544w19%2BOGHkgrnWitWrCh/f3/DrykhIUHx8fF2Y4MHx2rIkDjD%2BygvLBZnVwAjXO59iolxdgWl46mnnF1ByXLF9%2Bnjj51dQcly4i%2BH0mq8ivsMjo2NVVzcrT%2BDs7OzlZaWVuyyy5cvS5I8PDxsY9e%2Bzs3NveE%2Bjx49qq1bt2r8%2BPF24wcPHtS5c%2Bc0fPhw%2Bfj4aMGCBerXr5/Wr18vHx%2BfW9Yq3WHjdX0q9eCDDyorK0tnzpxRnTp1bOOHDx9WQUGBwsLCbGO%2Bvr6qX7%2B%2BUlNTlZ%2Bfr3r16tmdkNa0aVNt2bLFUA2HDh1SkyZNbM/9/Pw0ZsyYO3k5kqSePXsWmdr08/OXq50uZrHI5V6TK3LF98myzNzVymVOjRqFTdf69ZLB/2EsF2bOdHYFJSc0tLDp6t1bSk52djW4ieI%2Bg42GJ0lJSbaT339v1KhRkgqbLE9PT9vXkuTt7X3DfW7cuFGNGzfWfffdZzf%2B4YcfKi8vz3YF44wZM9S2bVt98803euaZZwzVe0eNV8WKFW1fF/xf%2B%2Bvm5mZ7UZLsvr7e1atXbdv8/iT46/drKaajz8/Pt33t7l6y1wUEBAQUiRxd7YMPcKpbnE9RbmVludZrc%2BI0VqlJTnbN1%2BUEpZV4FfcZbFRUVJR%2B/fXXYpelpaVp%2BvTpysjIUHBwsKT/Tj/erLH79ttv9dhjjxUZ9/DwsEvPPD09FRwcfMPErTh3dOf6/fv3277es2ePAgIC5Ovra7dO3bp15e7url27dtnGzpw5oyNHjqh%2B/fq6//77dfjwYbt7YVy/34oVK%2BrSpUu251arVceOHbM9v/fee5V83f/BnDlzRq1atdKxY8eKbdoAAMDdJTAwUEFBQUpMTLSNJSYmKigo6IaNntVq1S%2B//FLknHOr1ar27dtrzZo1trHLly/ryJEjatCggeGa7ig2mjJlit58801duHBBs2bN0gsvvKC8vDy7dSpXrqzu3btr8uTJmjx5sqpVq6YZM2aoVq1aeuSRR2SxWFS7dm2NHz9eQ4cOVVJSkjZs2GCbmnzwwQd19uxZLV26VO3atdPSpUt17tw52/5jYmI0depUhYSEqGHDhpo5c6aCg4MVHBwsb29vpaen69ixY7YOFwAAmFMebyfRq1cvW/8hSe%2B%2B%2B6769%2B9vW56VlSVPT0/b9OHx48d16dKlItOMFotF7dq105w5c1SnTh3VqFFDs2bNUq1atdS2bVvD9dxR4tWpUye9/PLLGj58uLp3765BgwYVu96YMWP08MMPa8iQIerVq5c8PT310UcfycPDQxUrVtQHH3ygc%2BfOqUuXLvrkk0/0/PPP27atV6%2BexowZo3nz5qlz586yWq164oknbMufffZZ9e/fX5MmTVLXrl2Vk5Oj2bNnS5I6dOiggoICPfXUUzp9%2BvSdvEQAAPA7BQWl8yhNAwYMUKdOnRQbG6uhQ4fq2WefVb9%2B/WzLu3XrpoULF9qeX%2BsbqlWrVmRfo0aN0hNPPKERI0aoe/fuys/P1/z581WhQgXD9Vist3G30WPHjumxxx7T5s2b74okyRXP8XLFk7ZdkSu%2BT5b33nV2CSUrIKDwCsClS13rHK%2BRI51dQckJD5d27JCaN3e9c7yc9AviD38onf3%2B%2BGPp7Lcscsk71wMAgJJXHqcay5o7mmoEAADA7butxCs4OPiGl2wCAADXRuJlHlONAADAEBov85hqBAAAcBASLwAAYAiJl3k0XgAAwBAaL/OYagQAAHAQEi8AAGAIiZd5JF4AAAAOQuIFAAAMIfEyj8YLAAAYQuNlHlONAAAADkLiBQAADCHxMo/ECwAAwEFIvAAAgCEkXubReAEAAENovMxjqhEAAMBBSLwAAIAhJF7mkXgBAAA4CIkXAAAwhMTLPBovAABgCI2XeUw1AgAAOAiJFwAAMITEyzwSLwAAAAch8QIAAIaQeJlH4wUAAAyh8TKPqUYAAAAHIfECAACGkHiZR%2BIFAADgICReAADAEBIv82i8AACAITRe5jHVCAAA4CAkXgAAwBASL/NIvAAAAByExAsAABhC4mUejRcAADCExss8phoBAAAchMQLAAAYQuJlHokXAACAg5B4AQAAQ0i8zCPxAgAAhhQUlM7DEaxWq/r37681a9bcdL2jR4%2BqX79%2BatasmTp16qTvvvvObvkPP/ygp59%2BWmFhYerTp4%2BOHj16W3XQeAEAAJdWUFCgN998U99///1N17NarRo8eLD8/Py0evVqPfvss4qNjdWJEyckSSdOnNDgwYPVtWtXrVq1SjVq1NCrr74qq9VquBamGgEAgCHlcaoxLS1NI0eO1LFjx1S1atWbrrt161YdPXpUK1asUKVKldSwYUP9%2BOOPWr16teLi4rRy5Uo9%2BOCD6t%2B/vyRp6tSpeuSRR7R9%2B3ZFRUUZqofECwAAuKy9e/eqdu3aWr16tapUqXLTdZOSkvTAAw%2BoUqVKtrGIiAjt2rXLtjwyMtK2zNvbW02aNLEtN4LECwAAGFJaiVd6eroyMjLsxvz9/RUQEGB639HR0YqOjja0bkZGRpHvWbNmTZ06dcrQciNovG7CYnF2BSUrPT1dCQkJ6tmzZ4n8x4zS4bLv04gRzq6gRKWnpythzhzepzLM9h59%2BaVrvUdOdBunMt2WOXMSFB8fbzcWGxuruLi4W26bnZ2ttLS0Ypf5%2B/vbpVe3cuXKFXl4eNiNeXh4KDc319ByI2i87iIZGRmKj49XdHQ0v4TKMN6n8oH3qezjPSo/evbsWSSV8vf3N7RtUlKS%2BvTpU%2ByyuXPnqn379obr8PT01NmzZ%2B3GcnNz5eXlZVv%2B%2ByYrNzf3lueOXY/GCwAAOFVAQMAdN8dRUVH69ddfS6SOwMBApaSk2I1lZmbaagsMDFRmZmaR5Y0bNzb8PTi5HgAAQFJYWJj27t2r7Oxs21hiYqLCwsJsyxMTE23Lrly5on379tmWG0HjBQAA7lpZWVm6dOmSJKlly5aqXbu2xo4dqwMHDmj%2B/PnavXu3unXrJkl67rnntGPHDs2fP18HDhzQ2LFjFRwcbPhWEhKN113F399fsbGxhufN4Ry8T%2BUD71PZx3sEI7p166aFCxdKkipUqKD3339fGRkZ6tq1qz7//HPNnTtXQUFBkqTg4GDNmTNHq1evVrdu3XT27FnNnTtXltu4Gs9ivZ3brQIAAOCOkXgBAAA4CI0XAACAg9B4AQAAOAiNFwAAgIPQeAEAADgIjRcAAICD0HgBAAA4CI0XAACAg9B4AQAAOAiNFwAAgIPQeLm4M2fOKC0tTefPn3d2KQDgVFlZWc4uAaDxckVfffWV%2BvTpo2bNmunhhx9Wu3btFBUVpfDwcMXExGjTpk3OLhEoF3JzczV9%2BnS1bdtWzZs3V2xsrFJTU%2B3WyczMVOPGjZ1UIX6vcePGxTZYx48f12OPPeaEigB77s4uACVr0aJFio%2BP18CBAxUbG6uaNWvKw8NDubm5yszM1M8//6zXXntNQ4cOVUxMjLPLvWv99NNPhtdt0aJFKVaCm3nvvff0zTffaPTo0bJarVq2bJmee%2B45zZgxQ%2B3bt7etZ7VanVgl1q5dqzVr1kgqfC8GDx6sihUr2q2Tnp4uf39/Z5QH2LFY%2BY3hUtq0aaMJEybYfSj83qZNmzR58mRt2bLFgZXhes8884xSUlIk3fxD22KxaP/%2B/Y4qC7/Ttm1bvffee4qIiJBU%2BF5NmzZNS5cu1fTp09WxY0dlZmaqTZs2vE9OdOnSJS1atEiSFB8frxdffFGVK1e2W6dSpUrq0KGD6tat64wSARsSLxeTnZ2t4ODgm64TGBioCxcuOKgiFGf16tUaPny4jh07poSEBHl6ejq7JBQjOztbvr6%2BtucWi0VjxoyRm5ubRo0aJXd3d4WHhzuvQEiSKleurNjYWElSnTp19NRTT0mSPDw8JEknTpxQUFCQ0%2BoDrsc5Xi6mQ4cOeu211/Tzzz8rPz/fbllBQYF27NihcePG6YknnnBShZAKPxDee%2B89SdLMmTOdXA1uJCoqStOmTStyztCoUaPUs2dPDRs2TB9//LGTqkNxWrRood69e2vWrFm2seeee049e/bUqVOnnFgZUIipRhezefNm/fvf/9bnn3%2Buq1evytfX13aO19mzZ1WhQgV17txZY8eOlZeXl7PLvWt9//33atGihY4ePaqffvpJf/7zn51dEoqxdu1aLV68WMnJyfrwww/18MMP2y2Pj4/XvHnzVFBQwFRjGTFw4EBVrlxZb7zxhmrWrCmp8OruCRMmKC8vT/PmzXNyhbjb0Xi5mPDwcG3YsEHVqlVTy5YtNW3aNOXl5cnT01OBgYFq3LgxDVcZEB4ern/961%2BqVauWHnvsMa1atUrVq1d3dln4nWs/T5cvX1avXr20cePGIu9TamqqNm/erEGDBjmpSlwvPDxcn332me655x678UOHDum5557Tjh07nFQZUIhzvFxM1apV9f7776t58%2Ba6evWqsrKy5OPjo%2BzsbB05ckRHjhyxrdu5c2fnFXqXq1q1qubOnavmzZvr%2BPHjWr9%2BvXx8fIpdl/fJea7/eTp//vwN36eAgAAnVIfiVK9eXfv27SvSeB08ePCGP2OAI5F4uZjNmzdrzpw5unDhgk6cOKHAwEC5uRU9lc9isWjz5s1OqBAS71N5wftU/ixatEjvv/%2B%2B%2BvXrpyZNmkiSkpOT9dFHH6l///4kk3A6Gi8XFh0drdWrVzOFVcbxPpUPvE/lx4oVK/Tpp5/q0KFDcnd317333quYmBg9%2B%2Byzzi4NoPECAABwFM7xAgC4jPj4%2BJsuv3a/L8BZaLwAAC5j27Ztds%2BvXr2qY8eO6fz589y/EGUCjRcAwGUsXbq02PG33npLFovFwdUARXGOFwDA5R09elRdu3a9rT9QD5QG/mQQAMDlbdmyhb%2BJijKBqUYAgMuIjo4uMqV46dIlnTt3TmPGjHFSVcB/MdUIAHAZa9assWu8LBaLKlasqAcffFD33nuvEysDCtF4AQAAOAhTjQCAci0mJsbwFYtLliwp5WqAm6PxAgCUa1FRUbavz5w5o4SEBLVv315NmzZVxYoVtX//fm3YsEHPP/%2B8E6sECjHVCABwGf369dPjjz%2Bu3r17242vWbNGCQkJSkhIcFJlQCFuJwEAcBm7du3SH/7whyLjYWFh%2BvXXX51QEWCPxgsA4DIeeOABzZ8/Xzk5Obaxixcvavbs2WrWrJnzCgP%2BD1ONAACXkZqaqkGDBuncuXO69957ZbVadfjwYQUFBemDDz5QnTp1nF0i7nI0XgAAl5Kbm6sff/xRKSkpkqT7779fDz/8sNzduZ4Mzsd/hQAAl%2BLh4SF3d3dVrFhRBQUFslqtImNAWUHjBQBwGadOndKrr76qQ4cOqX79%2Brp69aqOHDmioKAgLVq0SIGBgc4uEXc5phoBAC7jlVdeUX5%2BvmbMmKFq1apJKry316hRo1SpUiXNnj3byRXibkfjBQBwGeHh4UpISFBISIjdeHJysp5//nklJiY6qTKgELeTAAC4jGrVquncuXNFxs%2BfP6%2BKFSs6oSLAHo0XAMBlPPXUU/rrX/%2BqH3/8URcvXtTFixf1/fff6/XXX1enTp2cXR7AVCMAwHXk5ubqjTfe0Oeff267krFChQrq3r27xowZIy8vLydXiLsdjRcAwGX8/PPPatq0qXJycnT48GF5eHjonnvuUaVKlZxdGiCJxgsA4EKioqK0ePFihYaGOrsUoFic4wUAcBn333%2B/du/e7ewygBsi8QIAuIzBgwdr8%2BbN8vPzU3BwsDw8POyWL1myxEmVAYW4cz0AwGU0btxYjRs3ltVq1dmzZ2WxWOTr6%2BvssgAbEi8AgMu4evWqZs%2BerZUrVyorK0uSFBgYqOeff16DBg1ycnUAiRcAwIW888472rhxo0aOHKkHH3xQBQUF%2BuWXXzR79mzl5uYqNjbW2SXiLkfiBQBwGS1atNDcuXPVsmVLu/EffvhBI0eO1A8//OCkyoBCXNUIAHAZ3t7exf5poKpVq8pisTihIsAejRcAwGWMHj1a48aN0zfffKOzZ8/q4sWL%2Bvnnn/X666%2Brb9%2B%2BOnHihO0BOANTjQAAl3H9jVOvJVzXf8xZLBZZrVZZLBbt37/f4fUBNF4AAJdx/Phxw%2BvWqVOnFCsBikfjBQAA4CCc4wUAAOAgNF4AAAAOQuMFAADgIDReAAAADkLjBQAA4CA0XgAAAA5C4wUAAOAg/x9iPTfZw14/4QAAAABJRU5ErkJggg%3D%3D\" class=\"center-img\">\n",
       "    <img src=\"data:image/png;base64,iVBORw0KGgoAAAANSUhEUgAAAl4AAAISCAYAAAAdu8GRAAAAOXRFWHRTb2Z0d2FyZQBNYXRwbG90bGliIHZlcnNpb24zLjUuMywgaHR0cHM6Ly9tYXRwbG90bGliLm9yZy/NK7nSAAAACXBIWXMAAA9hAAAPYQGoP6dpAABIrUlEQVR4nO3deViVdf7/8ddBZFFUZFXEchkVNEMWlykdjbSyZVLTHCrUzGxK0Cm30JmyMbMU80oxR5s0l5zIpZpR%2Bzqj4zRTU1qgOJY4ikuuLCKoISByfn/w44wnUG%2B94Rw4PR/XdS45n3vhfe47OO9en/vcWKxWq1UAAACodW7OLgAAAOCngsYLAADAQWi8AAAAHITGCwAAwEFovAAAAByExgsAAMBBaLwAAAAchMYLAADAQWi8AAAAHMTd2QUAsJeZmal169bpyy%2B/VHZ2tkpKSuTn56cOHTqoX79%2BGjp0qLy8vJxdJgDgJlj4k0FA3bFgwQItXrxY5eXl8vHx0S233KKGDRsqNzdXJ0%2BelCS1bNlSixYtUpcuXZxcLQDgRtF4AXXE%2BvXrNW3aNDVq1EizZ8/WgAED1KBBA9vyrKwsTZs2Tbt371bz5s21efNm%2Bfn5ObFiAMCN4hovoI74wx/%2BIEmaMmWK7rvvPrumS5Lat2%2BvxYsXy9/fX2fPntXKlSudUSYAwAQaL6AOKCws1Pfffy9JioiIuOp6fn5%2B6t%2B/vyRpz549DqkNAFBzuLgeqAPc3f/3o7h9%2B3Z17tz5qusmJiZqxIgR8vf3t429%2BOKL%2Buijj5SUlKQ%2BffrozTff1DfffKPS0lLdeuutGjx4sH71q1/J09Oz2n1%2B/fXXWrVqldLT01VQUKCmTZuqW7duio%2BP189//vNqtzl37pw%2B%2BOADffbZZzp48KAuXLggb29v3XLLLbrrrrs0YsQINWvWzG6bTp06SZK%2B%2BOILvf7669q2bZvc3NzUpUsXLVu2TL/97W/10Ucf6dVXX1VMTIxSUlL01Vdf6fz58woNDdWwYcM0atQoWSwW/fWvf9WKFSu0b98%2BlZeXKywsTM8%2B%2B6z69u1bpdbi4mKtX79eW7du1f79%2B3Xu3Dl5eHgoJCREvXv31pNPPqng4GC7bWJjY3XixAlt3rxZZ86c0R//%2BEdlZGSoqKhIoaGhGjhwoJ566ik1btz4qucKAH6Ma7yAOiIuLk7p6emyWCwaNGiQHnnkEUVFRVWZcqxOZeM1ZMgQbdmyRUVFRerQoYPKysp06NAhSVJ0dLSWLFmiJk2a2G2bnJysd955R5LUrFkzhYaGKicnR7m5uZKkp59%2BWpMmTbLb5siRIxo1apROnTold3d33XLLLfL29taJEydUUFAgSWrbtq3Wr19v15hUNl5RUVHatWuXOnbsqPz8fPXs2VPz5s2zex2ffvqpysrK1L59e505c8ZWz9ixY2WxWLRkyRI1bdpUrVu31uHDh1VUVCSLxaKlS5fqF7/4he175ufna%2BTIkfrvf/8ri8WiW265RU2aNFF2drZtn/7%2B/tqwYYNatGhh266y8XryySf13nvvycPDQ23atFFhYaFOnz4tSYqMjNSaNWvk5sbkAQCDrADqhG%2B//dbarVs3a8eOHW2PqKgo69NPP21dsmSJdffu3dbLly9Xu%2B3UqVNt29x1113W7777zrYsPT3descdd1g7duxo/d3vfme33Z/%2B9Cdrx44drTExMdZPPvnENl5eXm7dtGmTrZ4PP/zQbrsnnnjC2rFjR%2Bujjz5qzc7Ottvuo48%2BsoaFhVk7duxoXb16td12lTXedttt1p07d1qtVqv18uXL1rNnz1Z5HXFxcdacnBzbOi%2B%2B%2BKK1Y8eO1rCwMGunTp2s7777ru145OfnWwcNGmTt2LGj9Yknnqj22AwYMMB6%2BPBhu2X//Oc/rREREdaOHTtaX3/9dbtld911l62WF1980Xru3Dnba1y9erVt2d/%2B9rdqzwkAVIf/TQPqiM6dO2vt2rWKjo62jV24cEGfffaZ5s2bp0cffVS9e/fW/PnzdfHixWr34ebmprffflvh4eG2scjISL3xxhuSpLVr1yo7O1uSVFpaqoULF0qSXnvtNf3yl7%2B0bWOxWHT//fdr8uTJkqSFCxeqrKxMkpSXl6cDBw5IkmbOnKmgoCC77QYNGqQePXpIkvbv319tnQMHDlT37t1tNfv6%2Btotd3d315tvvqnAwEDbOmPHjpUklZeX6%2BGHH9bo0aNtSVPz5s01YsQISdJ3331n28%2BlS5f09ddfy2KxKCkpSW3atLH7Pn369NH9998vSfrvf/9bba1hYWF67bXXbEmhxWLR448/ro4dO0qS0tLSqt0OAKpD4wXUIT/72c%2B0Zs0affzxx0pISFBkZKQaNmxoW37mzBn94Q9/0C9/%2BUvbdNeVevXqpbCwsCrjvXv3VmhoqMrLy7V9%2B3ZJ0q5du5SXl6fGjRvr7rvvrraeX/7yl3Jzc1N2dratoQkICNBXX32ljIwMW/NxpcuXL8vHx0dSxbVV1bmyuaxOp06d7Kb9JKlVq1a2r6u7jquyAbxw4YJtrGHDhtq2bZsyMjLUr1%2B/KttYrVY1atTomrX269dPFoulynj79u0lSefPn7/mawGAK3FxPVAHhYeHKzw8XImJibp48aLS09P1%2Beef65NPPtGZM2f0/fffa8KECUpNTbXb7vbbb7/qPjt16qTjx4/ryJEjkmRLrS5duqTHH3/8qts1aNBA5eXlOnTokN3%2Bvby8dOLECf3nP//R999/r2PHjikrK0v79u1TUVGRpIp0qjqVSdbVtGzZssqYh4eH7evmzZtXWX7lBxR%2BzNPTU3l5ecrIyNCRI0d0/PhxHTp0SPv27VNhYeE1a70y0btS5V8PuHz58tVfCAD8CI0XUMd5e3vrzjvv1J133qkJEyZo2rRp2rRpk3bv3q1vv/3W7g72P/4U4ZUqk51z585J%2Bl9SU1paqvT09OvWUbmdJB06dEgvv/yydu7cabeOj4%2BPYmJilJOTo8zMzKvu63p/8sjb2/uay2/kYvbc3FzNmDFDf//73%2B2aK29vb3Xt2lWXL1%2B%2B5nThlQ1fdax8PgnADaDxAuqAl156SV999ZUGDx6sZ5999qrreXl56fe//73%2B%2Bte/6tKlSzp8%2BLBd41WZNFWncgqu8jYUlc1Nly5dtGHDBsO1njlzRk888YTOnDmjkJAQPfroo%2BrcubPatWun0NBQWSwWTZw48ZqNl6OUlJRo5MiRysrKkq%2Bvr%2BLi4nTbbbepffv2uuWWW9SgQQPNnz%2Bf67QAOAyNF1AHlJSU6OjRo9q6des1Gy%2BpIlVq3LixCgoKqvzJoMrpw%2BpUNkI/%2B9nPJFXc7kGquDVEWVlZtVN1VqtVO3bsUIsWLRQSEiIPDw%2BtX79eZ86cka%2Bvr9avX1/tny2qvIDf2bZu3aqsrCy5u7srNTW1ysX1kqq9Vg4AagsX1wN1QOUnCvfu3Xvd9Onzzz9XQUGBfH19q9zl/rPPPrPdm%2BpK27dv16lTp%2BTh4aHY2FhJUvfu3dWkSRP98MMPV/2ef/nLXzRy5EgNHDjQ1qAcP35ckhQSElJt03Xw4EHt3r1bkvOvf6qstXHjxtU2XXl5efrHP/4hyfm1AvhpoPEC6oA777xT9957ryTpt7/9rWbNmmVrGiqVlJRo/fr1%2Bs1vfiNJ%2Bs1vflPlrukXL17Uc889p1OnTtnGduzYoaSkJEkVNx%2BtvC1Co0aNbLdomDVrltavX293DdTWrVv18ssvS6q4/cMtt9wiSWrXrp2kigRty5YttvWtVqv%2B%2Bc9/asyYMbp06ZKtHmeqrLWwsFArVqywux5r9%2B7devLJJ203fHV2rQB%2BGphqBOqI5ORkNWrUSB9//LFWrlyplStXKiQkRP7%2B/iopKdGRI0dUWlqqhg0bauLEiYqLi6uyjzZt2mjfvn3q37%2B/OnbsqKKiItunGB988EE988wzdus//fTTOnbsmD788ENNmzZNc%2BfOVWhoqLKzs5WTkyOp4tYPs2bNsm0zdOhQrVmzRkePHtX48ePVqlUrNW/eXKdOndKZM2fUsGFD9ejRQzt37nT6lGNsbKwiIyO1a9cuvfbaa3rnnXcUHBys3NxcZWdny2Kx6I477tC///1v5eTkyGq1VnvrCACoKTReQB3h4eGh119/XY8//rg2b96sHTt2KDs7W5mZmfL29lbbtm3Vu3dvDR061Jbk/FjXrl2VnJysBQsWKC0tTe7u7urRo4fi4uJsNwq9ksVi0cyZM3Xvvffqgw8%2B0O7du7Vv3z55enqqW7duevDBBzV8%2BHC7T/b5%2BPho3bp1euedd7R9%2B3YdP35ceXl5atGihfr166eRI0eqUaNG6t%2B/vzIzM3Xy5EmFhITU2nG7lgYNGmjFihVauXKlNm3apGPHjum///2vAgMDdf/99%2BuJJ55Q586d1bNnTxUUFCg9Pf269xgDADP4W42AC6j8G4cPPfSQkpOTnV0OAOAquMYLAADAQWi8AAAAHITGCwAAuITS0lI9%2BOCD2rFjx1XX%2Be677zRs2DBFRETokUce0d69e%2B2Wb9y4Uf3791dERITGjRun/Pz8Gq2RxgsAANR7JSUleuGFF655I%2BmioiKNHTtWMTEx2rBhgyIjI/XMM8/Y/urHnj17NH36dCUkJCg1NVXnzp2z3Y6npnBxPQAAqNcOHjyoiRMnymq1av/%2B/Vq5cqV69uxZZb1169Zp8eLF2rp1qywWi6xWq%2B699179%2Bte/1pAhQzRlyhS5ubnp9ddflySdOnVKd911l/72t7%2BpdevWNVIriRcAAKjXdu7cqZ49eyo1NfWa62VkZCg6Otp2vz6LxaKoqCjbX9vIyMhQTEyMbf2WLVsqJCREGRkZNVYr9/ECAABOlZOTU%2BXPnQUGBiooKMjQ9o899pih9XJzc21/r7aSv7%2B/bXoyJyenyvf09/ev0b/pSuN1La52B%2Bu2baUDB6QOHaTDh51dTc254s/cADDHKhf7veeinPb2VEvfOHXBAqWkpNiNJSQkKDExsUa/z8WLF%2B1uCC1V3Ly6tLRUklRcXHzN5TWBxuunxNdXatCg4l/UbRaLxOWXdR/nqc7jFNUwt9q5Qmn48OGKjY21GwsMDKzx7%2BPp6VmliSotLZWXl9c1l3t7e9dYDTReAADAqYKCggxPK5oRHBysvLw8u7G8vDzb977a8ppsArm4HgAAGOPmVjsPB4mIiNCuXbtUeUMHq9Wq9PR0RURE2JanpaXZ1j916pROnTplW14TaLwAAIDLys3NVXFxsSTpvvvu07lz5zRr1iwdPHhQs2bN0sWLFzVw4EBJUlxcnD755BOtXbtWmZmZmjJlivr161djt5KQaLwAAIBR9TDx6t27tzZv3ixJ8vHx0ZIlS5SWlqYhQ4YoIyNDS5cuVaNGjSRJkZGR%2Bv3vf69FixYpLi5OzZo10%2BzZs2u0Hm6gei2u9qnGyEgpPV2KipJ27XJ2NTXHFT/VyBXB9YMLnidX%2B1SjC54iSU58e6rBi8ztXLxYO/utg0i8AAAAHIRPNQIAAGMceCG8q%2BIIAgAAOAiJFwAAMIbEyzQaLwAAYAyNl2kcQQAAAAch8QIAAMaQeJnGEQQAAHAQEi8AAGAMiZdpNF4AAMAYGi/TOIIAAAAOQuIFAACMIfEyjSMIAADgICReAADAGBIv02i8AACAMTRepnEEAQAAHITECwAAGEPiZRqNFwAAMIbGyzSOIAAAgIOQeAEAAGNIvEzjCAIAADgIiRcAADCGxMs0Gi8AAGAMjZdpHEEAAAAHIfECAADGkHiZxhEEAABwEBIvAABgDImXaTReAADAGBov0ziCAAAADkLiBQAAjCHxMo0jCAAA4CAkXgAAwBgSL9NovAAAgDE0XqZxBAEAAByExAsAABhD4mUaRxAAAMBBSLwAAIAxJF6m0XgBAABjaLxM4wgCAAA4CIkXAAAwhsTLNI4gAACAg9TbxGvbtm165ZVXVFhYqHnz5unvf/%2B7/vrXv8rLy0ujR4/W6NGjnV0iAACupY4mXiUlJXrllVeu2wfEx8dr586dVcaHDBmi2bNnq7CwUD169LBb5uvrqx07dtRYrfW28VqwYIF69%2B6tcePGafHixdq7d69WrFihkydPaurUqQoJCdF9993n7DIBAHAddbTxmjNnjqE%2BYOHChbp06ZLteUZGhn7zm9/osccekyQdPHhQvr6%2B2rhxo20dtxp%2BzfW28Tp//ryio6PVvHlz/fnPf9Y777yjLl26qEuXLjpw4IDef/99Gi8AAFxcUVGR1q5da6gP8PX1tX19%2BfJlzZ8/X2PGjFHXrl0lSYcOHVLbtm0VGBhYa/XWzdb1OmJjY3XixAlNmzZNPXr0UFlZmSIjI23Lo6OjlZGRofLycidWCQCAi3Fzq52HCZmZmTfVB2zYsEGFhYV6%2BumnbWMHDx5UmzZtTNVzPfUy8Vq3bp0GDx6s0aNHKzAwULNmzZKHh4dteUBAgEpKSlRQUCA/Pz9D%2B8zJyVFubq7dWGDbtgq6ojuu98LC7P8FAKAOqPY9ODBQQUFB1902NzdXzZs3v6E%2BwGq16o9//KNGjBihxo0b28azsrJUVlamoUOHKjs7WzExMUpKSjJUh1H1svHy8/NTgwYN1KRJE5WWltodbEm256WlpYb3mZqaqpSUFLuxhAkTlDhhgvmC65o1a5xdAYywWJxdAYxwsfPkWq%2BmgoudIlmtTvzmtXSNV7XvwQkJSkxMvO62Fy9evOE%2BYMeOHTp9%2BrQeffRRu/FDhw7Jz89PSUlJslqtmj9/vn79619r7dq1atCgwY28pKuql43XlTw9Pasc2MrnXl5ehvczfPhwxcbG2o0FPvSQtGKF%2BSLrirCwiqbrscekzExnV1Nz0tKcXUHNs1ic/NsVhrjgebK6WOvlgqfIuWqp8ar2PdjgdVY30wds2bJFv/jFL%2Byu%2BZKkTZs2yWKx2Lar/CBfRkaGoqKiDNVzPfW%2B8QoODtbZs2dVVlYmd/eKl5ObmysvLy81bdrU8H6CgoKqRomHD9dkqXVHZqa0a5ezqwAAQNJV3oMNupk%2B4F//%2BpcSEhKqjHt7e9s99/f3l6%2Bvr7Kzs2%2BqturUy4vrrxQeHi53d3ft3r3bNpaWlqauXbvW%2BEdAAQD4SauDF9ffaB%2BQn5%2BvY8eOKTo62m78woUL6t69u7766ivbWHZ2ts6ePat27dqZqvFK9b4z8fb21qBBgzRjxgzt2bNHW7du1bJlyzRixAhnlwYAAGrZ9fqA3NxcFRcX29Y/cOCAPD09FRoaarcfHx8fRUdHa/bs2dqzZ4%2B%2B/fZbPf/88%2BrTp486depUY/XW%2B8ZLkpKSktSlSxeNHDlSr7zyihITE3XPPfc4uywAAFxLHUy8pGv3Ab1799bmzZtt6545c0ZNmzaVpZpPXbzxxhvq3Lmzxo4dq/j4eLVq1UrJycmm67uSxWrlssOrcrWPwkRGSunpUlSUa13j5Yr3a%2BOK4PrBBc8TF9fXD057exo4sHb2%2B%2BmntbPfOsglEi8AAID6oN5/qhEAADgIH1ozjSMIAADgICReAADAGBIv02i8AACAMTRepnEEAQAAHITECwAAGEPiZRqNFwAAMIbGyzSOIAAAgIOQeAEAAGNIvEzjCAIAADgIiRcAADCGxMs0Gi8AAGAMjZdpHEEAAAAHIfECAADGkHiZxhEEAABwEBIvAABgDImXaTReAADAGBov0ziCAAAADkLiBQAAjCHxMo0jCAAA4CAkXgAAwBgSL9NovAAAgDE0XqZxBAEAAByExAsAABhD4mUaRxAAAMBBSLwAAIAxJF6m0XgBAABjaLxM4wgCAAA4CIkXAAAwhsTLNI4gAACAg5B4AQAAY0i8TKPxAgAAxtB4mcYRBAAAcBASLwAAYAyJl2kcQQAAAAch8QIAAMaQeJlG4wUAAIyh8TKNIwgAAOAgJF4AAMAYEi/TOIIAAAAOQuMFAACMcXOrnYdJJSUlmjZtmmJiYtS7d28tW7bsqus%2B%2B%2Byz6tSpk91j%2B/bttuXvvfee%2BvTpo8jISE2bNk0XL140Xd%2BVmGoEAADG1NGpxjlz5mjv3r1asWKFTp48qalTpyokJET33XdflXWzsrI0d%2B5c/fznP7eNNWvWTJK0ZcsWpaSkaO7cufL391dSUpLmzp2rl156qcZqrZtHEAAAwICioiKtXbtW06dPV5cuXTRgwACNGTNG77//fpV1S0tLdfz4cXXt2lWBgYG2h4eHhyRp5cqVGjlypO666y7dfvvteuWVV7R%2B/foaTb1ovAAAgDF1cKoxMzNTZWVlioyMtI1FR0crIyND5eXlduseOnRIFotFrVu3rrKfy5cv6z//%2BY9iYmJsY926ddOlS5eUmZlpqsYrMdV4LT86YS4jLc3ZFdSsOhp937TISCk9XYqOlnbtcnY1NcdVf54AmJaTk6Pc3Fy7scDAQAUFBV1329zcXDVv3tyWWklSQECASkpKVFBQID8/P9v4oUOH5OPjoylTpmjnzp1q0aKFEhMT1bdvX507d04lJSV239Pd3V2%2Bvr46ffp0DbzK/7/PGtsTAABwbbX0P7qpqalKSUmxG0tISFBiYuJ1t7148aJd0yXJ9ry0tNRu/NChQyouLlbv3r01duxY/e1vf9Ozzz6r1NRUBQQE2G175b5%2BvB8zaLwAAIAxtdR4DR8%2BXLGxsXZjgYGBhrb19PSs0hhVPvfy8rIbf%2B655xQfH2%2B7mD4sLEzffvutPvzwQz3//PN22165L29vb%2BMv5jpovAAAgFMFBQUZmlasTnBwsM6ePauysjK5u1e0Nbm5ufLy8lLTpk3t1nVzc7M1XZXatWungwcPytfXV56ensrLy1P79u0lSWVlZSooKDDcBBrhYhfHAACAWlMHL64PDw%2BXu7u7du/ebRtLS0tT165d5fajfb/44otKSkqyG8vMzFS7du3k5uamrl27Ku2K66B3794td3d3hYWFmarxSjReAACg3vL29tagQYM0Y8YM7dmzR1u3btWyZcs0YsQISRXpV3FxsSQpNjZWf/nLX/Txxx/r6NGjSklJUVpamp544glJ0mOPPaZ3331XW7du1Z49ezRjxgw9%2BuijTDUCAAAnqKOfIk9KStKMGTM0cuRI%2Bfj4KDExUffcc48kqXfv3po9e7aGDBmie%2B65Ry%2B//LIWL16skydPqkOHDvrjH/%2Bo0NBQSdIDDzygEydO6KWXXlJpaanuueceTZ48uUZrtVitVmuN7tGVuOKhsVhc73XV0V8EN63ydhJRUdxOoq5zwZ8nqyzOLqFGueApklTxupzijTdqZ79Tp9bOfusgF3vHAgAAqLuYagQAAMa42gyDE9B4AQAAY2i8TOMIAgAAOAiJFwAAMIbEyzSOIAAAgIOQeAEAAGNIvEyj8QIAAMbQeJnGEQQAAHAQEi8AAGAMiZdpHEEAAAAHIfECAADGkHiZRuMFAACMofEyjSMIAADgICReAADAGBIv0ziCAAAADkLiBQAAjCHxMo3GCwAAGEPjZRpHEAAAwEFIvAAAgDEkXqZxBAEAAByExAsAABhD4mUajRcAADCGxss0jiAAAICDkHgBAABjSLxM4wgCAAA4CIkXAAAwhsTLNBovAABgDI2XaRxBAAAAByHxAgAAxpB4mcYRBAAAcBASLwAAYAyJl2k0XgAAwBgaL9M4ggAAAA5C4gUAAIwh8TKNIwgAAOAgJF4AAMAYEi/TaLwAAIAxNF6mcQQBAAAchMQLAAAYQ%2BJlGkcQAADAQept47Vt2zb94he/UEREhP71r39JkkpLS/Xggw9qx44dTq4OAAAX5OZWOw%2BTSkpKNG3aNMXExKh3795atmzZVdf9xz/%2BoYcffliRkZF66KGHtG3bNrvlMTEx6tSpk93jhx9%2BMF1jpXo71bhgwQL17t1b48aNk7%2B/v0pKSjRx4kQdOHDA2aUBAOCa6uhU45w5c7R3716tWLFCJ0%2Be1NSpUxUSEqL77rvPbr3MzEwlJCRoypQp6tu3rz7//HNNmDBB69atU1hYmLKzs3X%2B/Hlt3bpVXl5etu0aNWpUY7XW28br/Pnzio6OVqtWrXTw4EFNnDhRVqvV2WUBAAAHKioq0tq1a/XOO%2B%2BoS5cu6tKliw4cOKD333%2B/SuO1ceNG9erVSyNGjJAk3Xrrrfr73/%2BuTz/9VGFhYcrKylJgYKBat25da/XWy8YrNjZWJ06c0LRp07Ro0SKNGTNGPXv21PPPP69u3brd1D5zcnKUm5trNxYYEKCgoKAaqBi1KjLS2RXUrLAw%2B38BoK6opcSr2vfgwEBD78GZmZkqKytT5BXvBdHR0frDH/6g8vJyuV1R8%2BDBg3Xp0qUq%2Bzh//rwk6eDBg2rbtu3NvgxD6mXjtW7dOg0ePFijR4/WQw89JD8/P9P7TE1NVUpKit1YwrhxShw/3vS%2B6xyLxdkV1Kz0dGdXUDvWrHF2BTDCxX6eXOvVVHCxUySnTu7UUuNV7XtwQoISExOvu21ubq6aN28uDw8P21hAQIBKSkpUUFBg1yO0b9/ebtsDBw7oyy%2B/1K9%2B9StJUlZWli5evKj4%2BHgdPnxY4eHhmjZtWo02Y/Wy8fLz81ODBg3UpEmTGmm6JGn48OGKjY21GwsMCHDyf%2BG1wGJxvdcUHe3sCmpWWFhF0/XYY1JmprOrqTlpac6uoOa54M%2BT1cVaLxc8RS6p2vfgwEBD2168eNGu6ZJke15aWnrV7fLz85WYmKioqCjdfffdkqRDhw6psLBQL7zwgnx8fPTOO%2B9o1KhR2rRpk3x8fG7kJV1VvWy8akNQUFDVSJOf1vph1y5nV1A7MjNd97UBqJ9qKfGq9j3YIE9PzyoNVuXzKy%2BQv1JeXp6efPJJWa1WLViwwDYd%2Be677%2BrSpUtq3LixJCk5OVl9%2B/bV9u3b9dBDD91UfT9G4wUAAOqt4OBgnT17VmVlZXJ3r2hrcnNz5eXlpaZNm1ZZPzs723Zx/cqVK%2B1mzjw8POzSM09PT4WGhio7O7vG6q2bnwsFAAB1Tx28j1d4eLjc3d21e/du21haWpq6du1qd2G9VPEJyDFjxsjNzU2rV69WcHCwbZnValX//v21YcMGu/WPHj2qdu3amarxSiReAADAmDp4Hy9vb28NGjRIM2bM0GuvvaacnBwtW7ZMs2fPllSRfjVp0kReXl5asmSJvv/%2Be61atcq2TKqYkmzSpIn69eunhQsXqlWrVvLz89Nbb72lFi1aqG/fvjVWL40XAACo15KSkjRjxgyNHDlSPj4%2BSkxM1D333CNJ6t27t2bPnq0hQ4Zoy5YtKi4u1rBhw%2By2Hzx4sF5//XVNnjxZ7u7umjhxoi5cuKBevXpp6dKlatCgQY3VarFy19Grc8VD44of8amD/wdmSmRkxS0yoqJc6%2BL68nJnV1DzXPDniU811g9Ou0VGbf1Jvp49a2e/dZCLvWMBAADUXUw1AgAAY1xthsEJaLwAAIAxNF6mcQQBAAAchMQLAAAYQ%2BJlGkcQAADAQUi8AACAMSReptF4AQAAY2i8TOMIAgAAOAiJFwAAMIbEyzSOIAAAgIOQeAEAAGNIvEyj8QIAAMbQeJnGEQQAAHAQEi8AAGAMiZdpHEEAAAAHIfECAADGkHiZRuMFAACMofEyjSMIAADgICReAADAGBIv0ziCAAAADkLiBQAAjCHxMo3GCwAAGEPjZRpHEAAAwEFIvAAAgDEkXqZxBAEAAByExAsAABhD4mUajRcAADCGxss0jiAAAICDkHgBAABjSLxM4wgCAAA4CIkXAAAwhsTLNBovAABgDI2XaRxBAAAAByHxAgAAxpB4mUbjBQAAjKHxMo0jCAAA4CAkXgAAwBgSL9M4ggAAAA5C4gUAAIwh8TKNxgsAABhD42UaRxAAANRrJSUlmjZtmmJiYtS7d28tW7bsqut%2B9913GjZsmCIiIvTII49o7969dss3btyo/v37KyIiQuPGjVN%2Bfn6N1krjBQAAjHFzq52HSXPmzNHevXu1YsUKvfzyy0pJSdH//d//VVmvqKhIY8eOVUxMjDZs2KDIyEg988wzKioqkiTt2bNH06dPV0JCglJTU3Xu3DklJSWZru9KNF4AAKDeKioq0tq1azV9%2BnR16dJFAwYM0JgxY/T%2B%2B%2B9XWXfz5s3y9PTUlClT1L59e02fPl2NGze2NWmrV6/WwIEDNWjQIIWFhWnOnDn67LPPdOzYsRqrl8YLAAAYU0uJV05Ojr799lu7R05OjqGSMjMzVVZWpsjISNtYdHS0MjIyVF5ebrduRkaGoqOjZbFYJEkWi0VRUVHavXu3bXlMTIxt/ZYtWyokJEQZGRkmD9z/cHE96r8f/WC5jLQ0Z1dQs1ztotzISCk9XYqOlnbtcnY1NcaSnOzsEmpOUJAUHy/L6lWSwTfxemPiRKd8W6sstbLf1NRUpaSk2I0lJCQoMTHxutvm5uaqefPm8vDwsI0FBASopKREBQUF8vPzs1v3Zz/7md32/v7%2BOnDggCQpJydHQUFBVZafPn36hl/T1dB4AQAApxo%2BfLhiY2PtxgIDAw1te/HiRbumS5LteWlpqaF1K9crLi6%2B5vKaQOMFAAAMqa0JhqCgoCpJk1Genp5VGqPK515eXobWrVzvasu9vb1vqrbquFj2DwAAfkqCg4N19uxZlZWV2cZyc3Pl5eWlpk2bVlk3Ly/PbiwvL8/W9F1tudH0zQgaLwAAYEh5ee08zAgPD5e7u7vtAnlJSktLU9euXeX2o2tLIyIitGvXLlmtVkmS1WpVenq6IiIibMvTrri%2B9tSpUzp16pRteU2g8QIAAIbUxcbL29tbgwYN0owZM7Rnzx5t3bpVy5Yt04gRIyRVpF/FxcWSpPvuu0/nzp3TrFmzdPDgQc2aNUsXL17UwIEDJUlxcXH65JNPtHbtWmVmZmrKlCnq16%2BfWrduba7IK9B4AQCAei0pKUldunTRyJEj9corrygxMVH33HOPJKl3797avHmzJMnHx0dLlixRWlqahgwZooyMDC1dulSNGjWSJEVGRur3v/%2B9Fi1apLi4ODVr1kyzZ8%2Bu0Vot1sq8DVW54qGxWFzzdbkaVzxPrno7iagol7qdhFzwdhJaxe0kasrFi7Wz3xq8dr3Oc7HfhAAAAHUXt5MAAACGuOr9qh2JxgsAABhC42UeU40AAAAOQuIFAAAMIfEyj8QLAADAQUi8AACAISRe5tF4AQAAQ2i8zGOqEQAAwEFIvAAAgCEkXuaReAEAADgIiRcAADCExMs8Gi8AAGAIjZd5TDUCAAA4CIkXAAAwhMTLPBIvAAAAByHxAgAAhpB4mUfjBQAADKHxMo%2BpRgAAAAch8QIAAIaQeJlH4gUAAOAgJF4AAMAQEi/zaLwAAIAhNF7mMdUIAADgICReAADAEBIv80i8AAAAHITECwAAGELiZR6NFwAAMITGyzymGgEAAByExAsAABhC4mUejRcAADCExss8phoBAAAchMQLAAAYQuJlHokXAACAg5B4AQAAQ0i8zKPxAgAAhtB4mcdUIwAAgIOQeAEAAENIvMwj8QIAAHAQEi8AAGAIiZd5NF4AAMAQGi/z6u1U47Zt2/SLX/xCERER%2BuijjzR%2B/Hj16NFDffr00ezZs1VSUuLsEgEAgJNZrVYlJyerV69e6tGjh%2BbMmaPya3SQu3fv1q9%2B9StFRkbq3nvv1dq1a%2B2W//KXv1SnTp3sHv/9738N11NvE68FCxaod%2B/eGjdunMaNG6fAwEC9//77Kiws1LRp0%2BTm5qapU6c6u0wAAFxGfUy8li9fro0bNyolJUVlZWWaPHmy/P399dRTT1VZNzc3V08//bTi4uL0%2Buuv69tvv1VSUpICAwPVr18/Xb58WUeOHNHq1avVpk0b23bNmzc3XE%2B9TbzOnz%2Bv6OhoFRcXa9%2B%2BfZo9e7Y6dOigmJgYjR8/Xhs3bnR2iQAAwMlWrlyp8ePHKyYmRr169dKkSZP0/vvvV7vu1q1bFRAQoBdeeEFt2rTRAw88oEGDBukvf/mLJOn48eO6dOmSbr/9dgUGBtoe7u7Gc6x6mXjFxsbqxIkTmjZtmpo0aaI//vGPCggIsFvnwoULN7TPnJwc5ebm2o0FBgQoKCjIdL0AJEVGOruCmhUWZv%2Bvq3Cl33l%2Bfvb/uoqcHKd969pKvKp9Dw4MNP0enJ2drVOnTql79%2B62sejoaJ04cUI5OTlV9t%2BnTx%2BFh4dX2U9lT3Hw4EG1bNlSnp6eN11TvWy81q1bp8GDB2v06NF66KGH5HfFD1V5eblWr16tXr163dA%2BU1NTlZKSYjeWMG6cEsePr5Ga6xSLxdkVwAhXO0/p6c6uoHasWePsCnA9Dzzg7Apq1rx5TvvWtdV4VfsenJCgxMREU/utbOaubLAqg5rTp09XabxCQ0MVGhpqe37mzBlt2rTJVkdWVpYaNmyoZ555Rnv37lXbtm01ZcoU3X777YZrqpeNl5%2Bfnxo0aKAmTZrYNV2SNHfuXH333Xdat27dDe1z%2BPDhio2NtRsLDAiQrFbT9dYpFovrvSZX5IrnKTra2RXUrLCwiqbrscekzExnV1Nznn/e2RXUHD%2B/iqZr0yYpP9/Z1eAaqn0PDgw0tG1xcbGys7OrXVZUVCRJ8vDwsI1Vfl1aWnrd/SYmJiogIEDDhw%2BXJB0%2BfFiFhYUaNmyYxo8frw8//FAjR47U5s2b1bJlS0P11svG62rmzp2rFStWaP78%2BerYseMNbRsUFFQ10nS1Nz7AmXbtcnYFtSMz07VemxOnsWpNfr5rvi4nqK3Eq9r3YIMyMjI0YsSIapdNnjxZUkWTVTk9WNlweXt7X3WfP/zwg5577jkdOXJEa9assa07c%2BZMFRcXy8fHR5I0Y8YMpaen65NPPtGvf/1rQ/W6TOM1c%2BZM/elPf9LcuXN17733OrscAADgAD179tT%2B/furXZadna25c%2BcqNzfXNoVYOf14tUTtwoULGjNmjL7//nutWLHC7tOL7u7utqZLkiwWi9q1a3fVxK069fZTjVdKSUnRBx98oDfffFMPuNpcPgAAdUR5ee08aktwcLBCQkKUlpZmG0tLS1NISEi1CVt5ebkSEhJ0/PhxrVq1Sh06dLBbHh8fb3ctWnl5ufbv36927doZrqneJ15ZWVl6%2B%2B23NXbsWEVHR9t9KsLo/DAAALi%2B%2Bngfr7i4OCUnJ6tFixaSpHnz5mn06NG25fn5%2BfL09FTjxo21bt067dixQ4sXL1bTpk1tPUXDhg3l6%2Bur2NhYLVq0SOHh4Wrbtq1Wrlyp8%2BfPa/DgwYbrqfeN17Zt23T58mUtXrxYixcvtlt2tegRAAD8NDz11FM6c%2BaMEhIS1KBBAw0dOlSjRo2yLR86dKgGDx6sxMREbdmyReXl5XrmmWfs9tGjRw%2BtWrVKo0aNUklJiV599VXl5eUpIiJCy5cvt5t%2BvB6L1coV5FfliofGFT8t54pc8Ty5ucSVDf8TGVlxi4yoKNe6uD452dkV1JygICk%2BXlq1yvUurp840Snf9tNPa2e/AwfWzn7rIhf7TQgAAFB31fupRgAA4Bj18RqvuobGCwAAGELjZR5TjQAAAA5C4gUAAAwh8TKPxAsAAMBBSLwAAIAhJF7m0XgBAABDaLzMY6oRAADAQUi8AACAISRe5pF4AQAAOAiJFwAAMITEyzwaLwAAYAiNl3lMNQIAADgIiRcAADCExMs8Ei8AAAAHIfECAACGkHiZR%2BMFAAAMofEyj6lGAAAAByHxAgAAhpB4mUfjBQAADKHxMo%2BpRgAAAAch8QIAAIaQeJlH4gUAAOAgJF4AAMAQEi/zaLwAAIAhNF7mMdUIAADgICReAADAEBIv80i8AAAAHITECwAAGELiZR6NFwAAMITGyzymGgEAAByExAsAABhC4mUeiRcAAICDkHgBAABDSLzMo/ECAACG0HiZx1QjAACAg5B4AQAAQ0i8zCPxAgAAcBASLwAAYAiJl3kkXgAAwJDy8tp51Car1ark5GT16tVLPXr00Jw5c1R%2BjW/66quvqlOnTnaP1atX25Zv3LhR/fv3V0REhMaNG6f8/PwbqofECwAAuKzly5dr48aNSklJUVlZmSZPnix/f3899dRT1a6flZWliRMnavDgwbYxHx8fSdKePXs0ffp0vfLKKwoLC9OsWbOUlJSkJUuWGK6HxAsAABhSHxOvlStXavz48YqJiVGvXr00adIkvf/%2B%2B1ddPysrS507d1ZgYKDt4e3tLUlavXq1Bg4cqEGDBiksLExz5szRZ599pmPHjhmuh8YLAAC4pOzsbJ06dUrdu3e3jUVHR%2BvEiRPKycmpsv6FCxeUnZ2tNm3aVLu/jIwMxcTE2J63bNlSISEhysjIMFwTU40AAMCQ2kqncnJylJubazcWGBiooKAgU/ut3OeV%2BwkICJAknT59usr%2Bs7KyZLFY9Ic//EH//Oc/5evrqyeffNI27ZiTk1NlG39/f50%2BfdpwTTRe12CVxdkl1DiLXPN1uRpXPE%2BW5GRnl1CzKn/5Pv%2B8VM3/OddbkyY5u4KaExkpxcdL8%2BdLu3Y5u5qaNXGiU75tbTVeqampSklJsRtLSEhQYmLidbctLi5WdnZ2tcuKiookSR4eHraxyq9LS0urrH/o0CFZLBa1a9dOTzzxhL7%2B%2Bmv97ne/k4%2BPjwYMGKDi4mK7fVXur7p9XQ2NFwAAcKrhw4crNjbWbiwwMNDQthkZGRoxYkS1yyZPniyposny9PS0fS3Jdt3WlQYNGqS77rpLvr6%2BkqSwsDAdOXJEf/rTnzRgwAB5enpWabJKS0ur3dfV0HgBAABDaivxCgoKuulpxZ49e2r//v3VLsvOztbcuXOVm5ur0NBQSf%2BbfqyusbNYLLamq1K7du301VdfSZKCg4OVl5dntzwvL89wkyhxcT0AAHBRwcHBCgkJUVpamm0sLS1NISEh1TZ6b731lkaNGmU3lpmZqXbt2kmSIiIi7PZ16tQpnTp1ShEREYZrIvECAACG1Mc718fFxSk5OVktWrSQJM2bN0%2BjR4%2B2Lc/Pz5enp6caN26su%2B66S0uXLtW7776rAQMG6PPPP9fHH3%2BslStX2vYVHx%2Bvbt26qWvXrpo1a5b69eun1q1bG66HxgsAABhSHxuvp556SmfOnFFCQoIaNGigoUOH2qVaQ4cO1eDBg5WYmKjbb79db731lhYsWKC33npLrVq10rx58xQZGSlJioyM1O9//3stWLBAhYWFuvPOOzVz5swbqsditVqtNfkCXYkrHhmLxTVfl6txxfNkeXOes0uoWUFBFZ%2BYW7WKTzXWVZGRUnq6FBXlep9qdNIviKSk2tnv7Nm1s9%2B6iMQLAAAYUh8Tr7qGi%2BsBAAAchMQLAAAYQuJlHo0XAAAwhMbLPKYaAQAAHITECwAAGELiZR6JFwAAgIOQeAEAAENIvMyj8QIAAIbQeJnHVCMAAICDkHgBAABDSLzMo/ECAACG0HiZx1QjAACAg5B4AQAAQ0i8zCPxAgAAcBASLwAAYAiJl3k0XgAAwBAaL/OYagQAAHAQEi8AAGAIiZd5JF4AAAAOQuIFAAAMIfEyj8YLAAAYQuNlHlONAAAADkLiBQAADCHxMo/ECwAAwEFIvAAAgCEkXubReAEAAENovMxjqhEAAMBBSLwAAIAhJF7mkXgBAAA4CIkXAAAwhMTLPBovAABgCI2XeUw1AgAAOAiJFwAAMITEyzwSLwAAAAch8QIAAIaQeJlH4wUAAAyh8TKPqUYAAAAHIfECAACGkHiZR%2BIFAADgICReAADAEBIv8%2BpU47Vw4ULt3LlTq1atMrWfCxcuaOvWrRo0aFDNFAYAAOpl42W1WjVv3jytW7dO5eXlGjp0qCZNmiQ3t6qTfi%2B%2B%2BKI%2B%2BuijKuM9e/bUypUrJUkxMTE6f/683fL09HQ1btzYUD11qvGqKe%2B995527NhB4wUAwE/c8uXLtXHjRqWkpKisrEyTJ0%2BWv7%2B/nnrqqSrrTp8%2BXRMnTrQ9P3HihOLj4zVixAhJUnZ2ts6fP6%2BtW7fKy8vLtl6jRo0M1%2BOSjZfVanV2CQAAuJz6mHitXLlS48ePV0xMjCRp0qRJeuutt6ptvJo0aaImTZrYnr/44ou677771L9/f0lSVlaWAgMD1bp165uu54Yurj9%2B/Lg6deqkv/zlL%2BrTp49iYmL06quvqqysTAsXLtRzzz2nxx9/XD169NDOnTtVUlKiuXPnqm/fvurWrZt%2B/etf69SpU7b9HTx4UHFxcYqIiNCIESN09uxZ27INGzYoNjbW7vvHx8dr4cKFtufLly9XbGysIiMj9dRTT%2BnYsWPasGGDUlJStHPnTnXq1OlmjwsAAKjnsrOzderUKXXv3t02Fh0drRMnTignJ%2Bea23755Zf6%2Buuv9cILL9jGDh48qLZt25qq6aYSr5SUFM2fP19lZWWaMmWKGjduLHd3d23btk0zZsxQt27d1LZtW7388stKT0/XG2%2B8IV9fXyUnJ%2Bu5557T%2BvXrVVZWprFjx9qat6%2B%2B%2BkqvvfaaoqKiDNXwwQcfKCUlRTNnzlTnzp315ptvasKECVqzZo0OHDigXbt22TVp15OTk6Pc3Fy7sYCAQAUFBd3QsQFwFa72s%2BTnZ/%2Bvq4iMdHYFNScszP5fV7Frl9O%2BdW0lXtW9BwcGmn8PrtznlfsJCAiQJJ0%2Bffqa%2B1%2B6dKkGDx6sli1b2saysrJ08eJFxcfH6/DhwwoPD9e0adNuqBm7qcZr8uTJtshuwoQJSk5OVlxcnAICAhQXFydJKiws1CeffKJ33nlHvXr1kiQlJyerX79%2B%2BuKLL3T58mUVFBRoxowZatSokdq3b6%2BdO3cqPz/fUA2pqakaNWqU7r//fknSSy%2B9pHfffVdSxVxrw4YNFRgYaPg1paamKiUlxW5s3LgEjR%2BfaHgf9YXF4uwKYITLnaf4eGdXUDseeMDZFdQsVzxPa9Y4u4Ka5cRfDrXVeFX3HpyQkKDExOu/BxcXFys7O7vaZUVFRZIkDw8P21jl16WlpVfd57Fjx/TVV19p%2BvTpduOHDh1SYWGhXnjhBfn4%2BOidd97RqFGjtGnTJvn4%2BFy3VukmG68rU6nbbrtN%2Bfn5Onv2rFq1amUbP3LkiMrLyxUREWEb8/X1Vdu2bZWVlaWysjK1adPG7oK0rl276rPPPjNUw%2BHDh9WlSxfb84CAAE2dOvVmXo4kafjw4VWmNgMCAuVql4tZLHK51%2BSKXPE8WVab%2B7RynePnV9F0bdokGfwfxnph/nxnV1BzwsIqmq7HHpMyM51dDa6huvdgo%2BFJRkaG7eL3H5s8ebKkiibL09PT9rUkeXt7X3WfW7ZsUXh4uH72s5/Zjb/77ru6dOmS7ROMycnJ6tu3r7Zv366HHnrIUL031Xg1bNjQ9nX5/29/3dzcbC9Kkt3XV7p8%2BbJtmx9fBH/lfi3VdPRlZWW2r93da/ZzAUFBQVUiR1d74wOc6jrXU9Rb%2Bfmu9dqcOI1VazIzXfN1OUFtJV7VvQcb1bNnT%2B3fv7/aZdnZ2Zo7d65yc3MVGhoq6X/Tj9dq7P71r3/p7rvvrjLu4eFhl555enoqNDT0qolbdW7qzvX79u2zfb13714FBQXJ19fXbp3WrVvL3d1du3fvto2dPXtWR48eVdu2bdWhQwcdOXLE7l4YV%2B63YcOG%2BuGHH2zPrVarjh8/bnt%2B6623KvOK/4M5e/asevXqpePHj1fbtAEAgJ%2BW4OBghYSEKC0tzTaWlpamkJCQqzZ6VqtV//nPf6pcc261WtW/f39t2LDBNlZUVKSjR4%2BqXbt2hmu6qdho1qxZevXVV3X%2B/Hm99dZbeuKJJ3Tp0iW7dRo3bqxhw4Zp5syZmjlzppo1a6bk5GS1aNFCd955pywWi1q2bKnp06drwoQJysjI0ObNm21Tk7fddpsKCgq0atUq9evXT6tWrVJhYaFt//Hx8Zo9e7Y6duyo9u3ba/78%2BQoNDVVoaKi8vb2Vk5Oj48eP2zpcAABgTn28nURcXJyt/5CkefPmafTo0bbl%2Bfn58vT0tE0fnjhxQj/88EOVaUaLxaJ%2B/fpp4cKFatWqlfz8/PTWW2%2BpRYsW6tu3r%2BF6birxuv/%2B%2B/XMM8/ohRde0LBhwzR27Nhq15s6daruuOMOjR8/XnFxcfL09NR7770nDw8PNWzYUEuWLFFhYaEGDx6sP/3pT3r88cdt27Zp00ZTp07V4sWLNWjQIFmtVt1777225Q8//LBGjx6tV155RUOGDFFJSYkWLFggSRowYIDKy8v1wAMP6MyZMzfzEgEAwI%2BUl9fOozY99dRTuv/%2B%2B5WQkKAJEybo4Ycf1qhRo2zLhw4dqmXLltmeV/YNzZo1q7KvyZMn695779XEiRM1bNgwlZWVaenSpWrQoIHheizWG7jb6PHjx3X33Xdr27ZtP4kkyRWv8XLFi7ZdkSueJ8ub85xdQs0KCqr4BOCqVa51jdekSc6uoOZERkrp6VJUlOtd4%2BWkXxA//3nt7PfLL2tnv3WRS965HgAA1Lz6ONVY19zUVCMAAABu3A0lXqGhoVf9yCYAAHBtJF7mMdUIAAAMofEyj6lGAAAAByHxAgAAhpB4mUfjBQAADKHxMo%2BpRgAAAAch8QIAAIaQeJlH4gUAAOAgJF4AAMAQEi/zaLwAAIAhNF7mMdUIAADgICReAADAEBIv80i8AAAAHITECwAAGELiZR6NFwAAMITGyzymGgEAAByExAsAABhC4mUeiRcAAICDkHgBAABDSLzMo/ECAACG0HiZx1QjAACAg5B4AQAAQ0i8zCPxAgAAcBASLwAAYAiJl3k0XgAAwBAaL/OYagQAAHAQEi8AAGAIiZd5JF4AAAAOQuIFAAAMIfEyj8YLAAAYQuNlHlONAAAADkLiBQAADCHxMo/ECwAAwEFIvAAAgCEkXubReAEAAENovMxjqhEAAMBBSLwAAIAhJF7mkXgBAAA4CIkXAAAwhMTLPBIvAABgSHl57TwcwWq1avTo0dqwYcM11zt27JhGjRqlbt266f7779fnn39ut/zf//63HnzwQUVERGjEiBE6duzYDdVB4wUAAFxaeXm5Xn31VX3xxRfXXM9qtWrcuHEKCAjQ%2BvXr9fDDDyshIUEnT56UJJ08eVLjxo3TkCFDtG7dOvn5%2Bem5556T1Wo1XAtTjQAAwJD6ONWYnZ2tSZMm6fjx42ratOk11/3qq6907NgxffDBB2rUqJHat2%2BvL7/8UuvXr1diYqLWrl2r2267TaNHj5YkzZ49W3feead27typnj17GqqHxAsAALisb7/9Vi1bttT69evVpEmTa66bkZGhzp07q1GjRrax6Oho7d6927Y8JibGtszb21tdunSxLTeCxAsAABhSW4lXTk6OcnNz7cYCAwMVFBRket%2BxsbGKjY01tG5ubm6V7%2Bnv76/Tp08bWm4Ejdc1WCzOrqBm5eTkKDU1VcOHD6%2BR/5hRO1z2PE2c6OwKalROTo5SFy7kPNVhtnP0f//nWufIiW7gUqYbsnBhqlJSUuzGEhISlJiYeN1ti4uLlZ2dXe2ywMBAu/Tqei5evCgPDw%2B7MQ8PD5WWlhpabgSN109Ibm6uUlJSFBsbyy%2BhOozzVD9wnuo%2BzlH9MXz48CqpVGBgoKFtMzIyNGLEiGqXLVq0SP379zdch6enpwoKCuzGSktL5eXlZVv%2B4yartLT0uteOXYnGCwAAOFVQUNBNN8c9e/bU/v37a6SO4OBgHTx40G4sLy/PVltwcLDy8vKqLA8PDzf8Pbi4HgAAQFJERIS%2B/fZbFRcX28bS0tIUERFhW56WlmZbdvHiRX333Xe25UbQeAEAgJ%2Bs/Px8/fDDD5KkHj16qGXLlkpKStKBAwe0dOlS7dmzR0OHDpUkPfLII0pPT9fSpUt14MABJSUlKTQ01PCtJCQar5%2BUwMBAJSQkGJ43h3NwnuoHzlPdxzmCEUOHDtWyZcskSQ0aNNDbb7%2Bt3NxcDRkyRH/%2B85%2B1aNEihYSESJJCQ0O1cOFCrV%2B/XkOHDlVBQYEWLVokyw18Gs9ivZHbrQIAAOCmkXgBAAA4CI0XAACAg9B4AQAAOAiNFwAAgIPQeAEAADgIjRcAAICD0HgBAAA4CI0XAACAg9B4AQAAOAiNFwAAgIPQeLm4s2fPKjs7W%2BfOnXN2KQDgVPn5%2Bc4uAaDxckV//etfNWLECHXr1k133HGH%2BvXrp549eyoyMlLx8fHaunWrs0sE6oXS0lLNnTtXffv2VVRUlBISEpSVlWW3Tl5ensLDw51UIX4sPDy82gbrxIkTuvvuu51QEWDP3dkFoGYtX75cKSkpGjNmjBISEuTv7y8PDw%2BVlpYqLy9P33zzjV588UVNmDBB8fHxzi73J%2Bvrr782vG737t1rsRJcy5tvvqnt27drypQpslqtWr16tR555BElJyerf//%2BtvWsVqsTq8THH3%2BsDRs2SKo4F%2BPGjVPDhg3t1snJyVFgYKAzygPsWKz8xnApffr00csvv2z3pvBjW7du1cyZM/XZZ585sDJc6aGHHtLBgwclXftN22KxaN%2B%2BfY4qCz/St29fvfnmm4qOjpZUca7mzJmjVatWae7cuRo4cKDy8vLUp08fzpMT/fDDD1q%2BfLkkKSUlRU8%2B%2BaQaN25st06jRo00YMAAtW7d2hklAjYkXi6muLhYoaGh11wnODhY58%2Bfd1BFqM769ev1wgsv6Pjx40pNTZWnp6ezS0I1iouL5evra3tusVg0depUubm5afLkyXJ3d1dkZKTzCoQkqXHjxkpISJAktWrVSg888IAkycPDQ5J08uRJhYSEOK0%2B4Epc4%2BViBgwYoBdffFHffPONysrK7JaVl5crPT1d06ZN07333uukCiFVvCG8%2BeabkqT58%2Bc7uRpcTc%2BePTVnzpwq1wxNnjxZw4cP1/PPP681a9Y4qTpUp3v37nrsscf01ltv2cYeeeQRDR8%2BXKdPn3ZiZUAFphpdzLZt2/SPf/xDf/7zn3X58mX5%2BvrarvEqKChQgwYNNGjQICUlJcnLy8vZ5f5kffHFF%2BrevbuOHTumr7/%2BWr/61a%2BcXRKq8fHHH2vFihXKzMzUu%2B%2B%2BqzvuuMNueUpKihYvXqzy8nKmGuuIMWPGqHHjxnrppZfk7%2B8vqeLT3S%2B//LIuXbqkxYsXO7lC/NTReLmYyMhIbd68Wc2aNVOPHj00Z84cXbp0SZ6engoODlZ4eDgNVx0QGRmpTz/9VC1atNDdd9%2BtdevWqXnz5s4uCz9S%2BfNUVFSkuLg4bdmypcp5ysrK0rZt2zR27FgnVYkrRUZG6pNPPtEtt9xiN3748GE98sgjSk9Pd1JlQAWu8XIxTZs21dtvv62oqChdvnxZ%2Bfn58vHxUXFxsY4ePaqjR4/a1h00aJDzCv2Ja9q0qRYtWqSoqCidOHFCmzZtko%2BPT7Xrcp6c58qfp3Pnzl31PAUFBTmhOlSnefPm%2Bu6776o0XocOHbrqzxjgSCReLmbbtm1auHChzp8/r5MnTyo4OFhublUv5bNYLNq2bZsTKoTEeaovOE/1z/Lly/X2229r1KhR6tKliyQpMzNT7733nkaPHk0yCaej8XJhsbGxWr9%2BPVNYdRznqX7gPNUfH3zwgT788EMdPnxY7u7uuvXWWxUfH6%2BHH37Y2aUBNF4AAACOwjVeAACXkZKScs3llff7ApyFxgsA4DJ27Nhh9/zy5cs6fvy4zp07x/0LUSfQeAEAXMaqVauqHX/ttddksVgcXA1QFdd4AQBc3rFjxzRkyJAb%2BgP1QG3gTwYBAFzeZ599xt9ERZ3AVCMAwGXExsZWmVL84YcfVFhYqKlTpzqpKuB/mGoEALiMDRs22DVeFotFDRs21G233aZbb73ViZUBFWi8AAAAHISpRgBAvRYfH2/4E4srV66s5WqAa6PxAgDUaz179rR9ffbsWaWmpqp///7q2rWrGjZsqH379mnz5s16/PHHnVglUIGpRgCAyxg1apTuuecePfbYY3bjGzZsUGpqqlJTU51UGVCB20kAAFzG7t279fOf/7zKeEREhPbv3%2B%2BEigB7NF4AAJfRuXNnLV26VCUlJbaxCxcuaMGCBerWrZvzCgP%2BP6YaAQAuIysrS2PHjlVhYaFuvfVWWa1WHTlyRCEhIVqyZIlatWrl7BLxE0fjBQBwKaWlpfryyy918OBBSVKHDh10xx13yN2dz5PB%2BfivEADgUjw8POTu7q6GDRuqvLxcVqtVZAyoK2i8AAAu4/Tp03ruued0%2BPBhtW3bVpcvX9bRo0cVEhKi5cuXKzg42Nkl4ieOqUYAgMt49tlnVVZWpuTkZDVr1kxSxb29Jk%2BerEaNGmnBggVOrhA/dTReAACXERkZqdTUVHXs2NFuPDMzU48//rjS0tKcVBlQgdtJAABcRrNmzVRYWFhl/Ny5c2rYsKETKgLs0XgBAFzGAw88oN/%2B9rf68ssvdeHCBV24cEFffPGFfve73%2Bn%2B%2B%2B93dnkAU40AANdRWlqql156SX/%2B859tn2Rs0KCBhg0bpqlTp8rLy8vJFeKnjsYLAOAyvvnmG3Xt2lUlJSU6cuSIPDw8dMstt6hRo0bOLg2QROMFAHAhPXv21IoVKxQWFubsUoBqcY0XAMBldOjQQXv27HF2GcBVkXgBAFzGuHHjtG3bNgUEBCg0NFQeHh52y1euXOmkyoAK3LkeAOAywsPDFR4eLqvVqoKCAlksFvn6%2Bjq7LMCGxAsA4DIuX76sBQsWaO3atcrPz5ckBQcH6/HHH9fYsWOdXB1A4gUAcCFvvPGGtmzZokmTJum2225TeXm5/vOf/2jBggUqLS1VQkKCs0vETxyJFwDAZXTv3l2LFi1Sjx497Mb//e9/a9KkSfr3v//tpMqACnyqEQDgMry9vav900BNmzaVxWJxQkWAPRovAIDLmDJliqZNm6bt27eroKBAFy5c0DfffKPf/e53GjlypE6ePGl7AM7AVCMAwGVceePUyoTryrc5i8Uiq9Uqi8Wiffv2Obw%2BgMYLAOAyTpw4YXjdVq1a1WIlQPVovAAAAByEa7wAAAAchMYLAADAQWi8AAAAHITGCwAAwEFovAAAAByExgsAAMBBaLwAAAAc5P8B1FH8zQ0dqy0AAAAASUVORK5CYII%3D\" class=\"center-img\">\n",
       "</div>\n",
       "    <div class=\"row headerrow highlight\">\n",
       "        <h1>Sample</h1>\n",
       "    </div>\n",
       "    <div class=\"row variablerow\">\n",
       "    <div class=\"col-md-12\" style=\"overflow:scroll; width: 100%%; overflow-y: hidden;\">\n",
       "        <table border=\"1\" class=\"dataframe sample\">\n",
       "  <thead>\n",
       "    <tr style=\"text-align: right;\">\n",
       "      <th></th>\n",
       "      <th>id</th>\n",
       "      <th>f0</th>\n",
       "      <th>f1</th>\n",
       "      <th>f2</th>\n",
       "      <th>product</th>\n",
       "    </tr>\n",
       "  </thead>\n",
       "  <tbody>\n",
       "    <tr>\n",
       "      <th>0</th>\n",
       "      <td>fwXo0</td>\n",
       "      <td>-1.146987</td>\n",
       "      <td>0.963328</td>\n",
       "      <td>-0.828965</td>\n",
       "      <td>27.758673</td>\n",
       "    </tr>\n",
       "    <tr>\n",
       "      <th>1</th>\n",
       "      <td>WJtFt</td>\n",
       "      <td>0.262778</td>\n",
       "      <td>0.269839</td>\n",
       "      <td>-2.530187</td>\n",
       "      <td>56.069697</td>\n",
       "    </tr>\n",
       "    <tr>\n",
       "      <th>2</th>\n",
       "      <td>ovLUW</td>\n",
       "      <td>0.194587</td>\n",
       "      <td>0.289035</td>\n",
       "      <td>-5.586433</td>\n",
       "      <td>62.871910</td>\n",
       "    </tr>\n",
       "    <tr>\n",
       "      <th>3</th>\n",
       "      <td>q6cA6</td>\n",
       "      <td>2.236060</td>\n",
       "      <td>-0.553760</td>\n",
       "      <td>0.930038</td>\n",
       "      <td>114.572842</td>\n",
       "    </tr>\n",
       "    <tr>\n",
       "      <th>4</th>\n",
       "      <td>WPMUX</td>\n",
       "      <td>-0.515993</td>\n",
       "      <td>1.716266</td>\n",
       "      <td>5.899011</td>\n",
       "      <td>149.600746</td>\n",
       "    </tr>\n",
       "  </tbody>\n",
       "</table>\n",
       "    </div>\n",
       "</div>\n",
       "</div>"
      ],
      "text/plain": [
       "<pandas_profiling.ProfileReport at 0x1df154bca88>"
      ]
     },
     "execution_count": 11,
     "metadata": {},
     "output_type": "execute_result"
    }
   ],
   "source": [
    "pandas_profiling.ProfileReport(data_2) #получение отчета разведочного анализа данных для региона 2"
   ]
  },
  {
   "cell_type": "markdown",
   "metadata": {},
   "source": [
    "Предложенные таблицы по трем регионам исследования имеют одинаковую структуру: каждая содержит 5 столбцов и 10000 строк.\n",
    "\n",
    "Перечень столбцов таблиц согласно приложенному описанию включает:\n",
    "\n",
    "  - id — уникальный идентификатор скважины (категориальные данные);\n",
    "  - f0, f1, f2 — значимые парметрические признаки точек бурения (числовые данные);\n",
    "  - product — объём запасов в скважине, тыс. баррелей (числовые данные).\n"
   ]
  },
  {
   "cell_type": "markdown",
   "metadata": {},
   "source": [
    "Согласно полученным при разведочном анализе данным во всех представленных таблицах отсутвуют пропуски и нулевые значения в каких-либо столбцах.\n",
    "\n",
    "Полные дубликаты строк отсутсвуют.\n",
    "\n",
    "В каждой из таблиц в столбце иднтификатора скважины ('id') имеются дубликаты: для региона 0 - 10 неуникальных значений; для региона 1 - 4; для региона 2 - 4.\n",
    "\n",
    "Все представленные числовые данные (для каждого рассматриваемого региона) имеют преимущественно нормальное распределение значений.\n",
    "\n",
    "Для ргеиона 1 наблюдается высокий коэффициент корреляции (сильная ависимость) между столбцами 'f2' и 'product'."
   ]
  },
  {
   "cell_type": "markdown",
   "metadata": {},
   "source": [
    "### Подготовка данных"
   ]
  },
  {
   "cell_type": "markdown",
   "metadata": {},
   "source": [
    "Рассмортим значения столбцов признаков для скважин, имеющих дубликаты в 'id', оценим отличия в данных для подобных объектов."
   ]
  },
  {
   "cell_type": "code",
   "execution_count": 12,
   "metadata": {},
   "outputs": [
    {
     "name": "stdout",
     "output_type": "stream",
     "text": [
      "Region 0 :\n",
      "          id        f0        f1         f2     product\n",
      "66136  74z30  1.084962 -0.312358   6.990771  127.643327\n",
      "64022  74z30  0.741456  0.459229   5.153109  140.771492\n",
      "51970  A5aEY -0.180335  0.935548  -2.094773   33.020205\n",
      "3389   A5aEY -0.039949  0.156872   0.209861   89.249364\n",
      "69163  AGS9W -0.933795  0.116194  -3.655896   19.230453\n",
      "42529  AGS9W  1.454747 -0.479651   0.683380  126.370504\n",
      "931    HZww2  0.755284  0.368511   1.863211   30.681774\n",
      "7530   HZww2  1.061194 -0.373969  10.430210  158.828695\n",
      "63593  QcMuo  0.635635 -0.473422   0.862670   64.578675\n",
      "1949   QcMuo  0.506563 -0.323775  -2.215583   75.496502\n",
      "75715  Tdehs  0.112079  0.430296   3.218993   60.964018\n",
      "21426  Tdehs  0.829407  0.298807  -0.049563   96.035308\n",
      "92341  TtcGQ  0.110711  1.022689   0.911381  101.318008\n",
      "60140  TtcGQ  0.569276 -0.104876   6.440215   85.350186\n",
      "89582  bsk9y  0.398908 -0.400253  10.122376  163.433078\n",
      "97785  bsk9y  0.378429  0.005837   0.160827  160.637302\n",
      "41724  bxg6G -0.823752  0.546319   3.630479   93.007798\n",
      "1364   bxg6G  0.411645  0.856830  -3.653440   73.604260\n",
      "16633  fiKDv  0.157341  1.028359   5.585586   95.817889\n",
      "90815  fiKDv  0.049883  0.841313   6.394613  137.346586\n",
      "\n",
      "Region 1 :\n",
      "          id         f0         f1        f2     product\n",
      "5849   5ltQ6  -3.435401 -12.296043  1.999796   57.085625\n",
      "84461  5ltQ6  18.213839   2.191999  3.993869  107.813044\n",
      "1305   LHZR0  11.170835  -1.945066  3.002872   80.859783\n",
      "41906  LHZR0  -8.989672  -4.286607  2.009139   57.085625\n",
      "2721   bfPNe  -9.494442  -5.463692  4.006042  110.992147\n",
      "82178  bfPNe  -6.202799  -4.820045  2.995107   84.038886\n",
      "47591  wt4Uk  -9.091098  -8.109279 -0.002314    3.179103\n",
      "82873  wt4Uk  10.259972  -9.376355  4.994297  134.766305\n",
      "\n",
      "Region 2 :\n",
      "          id        f0        f1        f2     product\n",
      "45404  KUPhW  0.231846 -1.698941  4.990775   11.716299\n",
      "55967  KUPhW  1.211150  3.176408  5.543540  132.831802\n",
      "11449  VF7Jo  2.122656 -0.858275  5.746001  181.716817\n",
      "49564  VF7Jo -0.883115  0.560537  0.723601  136.233420\n",
      "44378  Vcm5J -1.229484 -2.439204  1.222909  137.968290\n",
      "95090  Vcm5J  2.587702  1.986875  2.482245   92.327572\n",
      "28039  xCHr8  1.633027  0.368135 -2.378367    6.120525\n",
      "43233  xCHr8 -0.847066  2.101796  5.597130  184.388641\n",
      "\n"
     ]
    }
   ],
   "source": [
    "#объекты таблиц с повторяющимися значениями 'id'\n",
    "\n",
    "n = 0\n",
    "for i in data_list: #пример содержания загружкнных таблиц\n",
    "    print('Region', n, ':')\n",
    "    print(i[i['id'].duplicated(keep=False)].sort_values(by='id'))\n",
    "    print()\n",
    "    n+=1"
   ]
  },
  {
   "cell_type": "markdown",
   "metadata": {},
   "source": [
    "Как видно из полученных данных, значения признаков для отдного и того же 'id' могут достаточно сильно различаться. Причиной этого может быть либо то, что данные по одной из строк записаны ошибочно (при этом, для какого именно номера строки могут быть записаны верные данные неизвестно), либо замеры сделаны для разных скважин, но данные были записаны под одним идентификатором. Либо третий вариант: для одной и той же скважины проведено два расчета, но значения расчетов неуникальны. "
   ]
  },
  {
   "cell_type": "markdown",
   "metadata": {},
   "source": [
    "В связи с невозможностью установления корректности данных для строк с повторяющимся 'id' и отнесиня этих данных к конкретному 'id' проведем их удаление.  Объем потерь данных для каждой таблицы не превысит 0,2%. "
   ]
  },
  {
   "cell_type": "code",
   "execution_count": 13,
   "metadata": {},
   "outputs": [
    {
     "name": "stdout",
     "output_type": "stream",
     "text": [
      "Region 0 :\n",
      "Колличество дубликатов в столбце \"id\": 0\n",
      "\n",
      "Region 1 :\n",
      "Колличество дубликатов в столбце \"id\": 0\n",
      "\n",
      "Region 2 :\n",
      "Колличество дубликатов в столбце \"id\": 0\n",
      "\n"
     ]
    }
   ],
   "source": [
    "#удаление строк с неуникальными идентификаторами\n",
    "\n",
    "n = 0\n",
    "for i in data_list: \n",
    "    i = i[~i['id'].duplicated(keep=False)].reset_index(drop=True) \n",
    "    print('Region', n, ':')\n",
    "    print('Колличество дубликатов в столбце \"id\":', i['id'].duplicated().sum())\n",
    "    print()\n",
    "    n+=1"
   ]
  },
  {
   "cell_type": "markdown",
   "metadata": {},
   "source": [
    "### Выводы"
   ]
  },
  {
   "cell_type": "markdown",
   "metadata": {},
   "source": [
    "Предосталеные данные - три датасета с данным о скважинах (идентификатор, значимые характеристики точек бурения и объем запасов скважины). Размер каждой таблицы 5 столбцов и 100000 срок. Полные дубликаты строк отстутсвуют, пропуски в данных отсутсвуют. В каждой из таблиц обнаружены повторы в идентификаторах скважин (для региона 0 - 10 повторов, для региона 1 и 2 - по 4 повтора). Строки, имеющие повторы в идентификаторах удалены - потеря данных незначительнв (не более 0,2%)."
   ]
  },
  {
   "cell_type": "markdown",
   "metadata": {},
   "source": [
    "## Обучение и проверка модели"
   ]
  },
  {
   "cell_type": "markdown",
   "metadata": {},
   "source": [
    "### Определение признаков и целевого признака для моделей обучения, формирование тренировочной и валидационной выборок"
   ]
  },
  {
   "cell_type": "markdown",
   "metadata": {},
   "source": [
    "В качестве целевого признака определим столбец 'product' (объем запасов в скважине), остальные столбцы таблиц (f0,f1,f2), за исключеним столбца 'id' - признаки. Идентификатор скважины представляет из себя описательную информацию и не имеет значения при обучении модели для предсказания в скважине."
   ]
  },
  {
   "cell_type": "markdown",
   "metadata": {},
   "source": [
    "Создадим функцию, в качестве аргументов которой будет предаваться массив данных (в нашем случае - датасет с данными о скважинах в рассматриваемом регионе. Функция будет производить деление датасета на признаки и целевой признак, разделять полученные данные на тренировочную и валидационную выборки, стандартизировать их, далее применяя модель линейной регрессии, провоить обучение и предсказание на валидационных данных. Результатом работы функции будет возвращаемые предсказанные значения среднего запаса объемов сырья для скважин в исследуемом регионе, RMSE модели (корень квадратный из средней квадратичной ошибки), а также массивы значений предсказанного объема сырья и фактического объема на валидационной выборке, которые понадобятся для дальнейших исследований."
   ]
  },
  {
   "cell_type": "code",
   "execution_count": 14,
   "metadata": {},
   "outputs": [],
   "source": [
    "def well_analis(data):\n",
    "    target = data['product'] #определение целевого признака и признаков и разбиение данных на выборки\n",
    "    features = data.drop(columns = ['id', 'product'], axis=1)\n",
    "    features_train, features_valid, target_train, target_valid = train_test_split(features, target, \n",
    "                                                                                        test_size=0.25, \n",
    "                                                                                        random_state = 12345)\n",
    "    \n",
    "    # подготовка и обучение модели линейной регресии\n",
    "    model = LinearRegression()\n",
    "    model.fit(features_train, target_train)\n",
    "    \n",
    "    #предсказание на обученной модели\n",
    "    predicted_valid = model.predict(features_valid)\n",
    "    \n",
    "    #получение средних значений\n",
    "    mean_predicted_product_value = pd.Series(predicted_valid).mean().round(3)\n",
    "    mean_product_value = pd.Series(target_valid).mean().round(3)\n",
    "    \n",
    "    #получение RMSE\n",
    "    rmse_predict = (mean_squared_error(target_valid, predicted_valid)**0.5).round(3)\n",
    "    \n",
    "    predict_volume_product = pd.Series(predicted_valid)\n",
    "    fact_volume_product = target_valid.reset_index(drop=True)\n",
    "            \n",
    "    return mean_predicted_product_value, mean_product_value, rmse_predict, fact_volume_product, predict_volume_product"
   ]
  },
  {
   "cell_type": "code",
   "execution_count": 15,
   "metadata": {},
   "outputs": [],
   "source": [
    "def well_analis_print(data):\n",
    "    \n",
    "    a = well_analis(data)\n",
    "    \n",
    "    print('Средний запас предсказанного объема сырья в скважине:',  a[0], 'тыс. баррелей')\n",
    "    print('Средний фактический запас объема сырья в скважине:',  a[1], 'тыс. баррелей')\n",
    "    print('Среднеквадратичная ошибка предсказания объема сырья:', a[2], 'тыс. баррелей')"
   ]
  },
  {
   "cell_type": "code",
   "execution_count": 16,
   "metadata": {},
   "outputs": [
    {
     "name": "stdout",
     "output_type": "stream",
     "text": [
      "Region 0 :\n",
      "Средний запас предсказанного объема сырья в скважине: 92.593 тыс. баррелей\n",
      "Средний фактический запас объема сырья в скважине: 92.079 тыс. баррелей\n",
      "Среднеквадратичная ошибка предсказания объема сырья: 37.579 тыс. баррелей\n",
      "\n",
      "Region 1 :\n",
      "Средний запас предсказанного объема сырья в скважине: 68.729 тыс. баррелей\n",
      "Средний фактический запас объема сырья в скважине: 68.723 тыс. баррелей\n",
      "Среднеквадратичная ошибка предсказания объема сырья: 0.893 тыс. баррелей\n",
      "\n",
      "Region 2 :\n",
      "Средний запас предсказанного объема сырья в скважине: 94.965 тыс. баррелей\n",
      "Средний фактический запас объема сырья в скважине: 94.884 тыс. баррелей\n",
      "Среднеквадратичная ошибка предсказания объема сырья: 40.03 тыс. баррелей\n",
      "\n"
     ]
    }
   ],
   "source": [
    "#подсчет характеристик запасов сырья в регионе\n",
    "\n",
    "n = 0\n",
    "for i in data_list: \n",
    "    print('Region', n, ':')\n",
    "    well_analis_print(i)\n",
    "    print()\n",
    "    n+=1"
   ]
  },
  {
   "cell_type": "markdown",
   "metadata": {},
   "source": [
    "### Выводы"
   ]
  },
  {
   "cell_type": "markdown",
   "metadata": {},
   "source": [
    "Из полученных данных видно, что наибольший предсказанный оъбем сырья характерен для региона 2, чуть меньшая величина в регоне 0, для региона 1 величина среднего предсказанного объема меньше. Однако следует учесть, что для региона 1 харакерна наименьшая среднеквадратичная ошибка - она сосавляет менее 1 тыс.баррелей, в то время, как для региона 0 и 2 RMSE значительно выше (37,579 и 40,030 соответственно). Вероятно это можно обяснить тем, что на этапе ознакомления с данным была обнаружена сильная корреляция между признаком f2 и целевым признаком product. Модель региона 1 делает наилчучшие предсказания."
   ]
  },
  {
   "cell_type": "markdown",
   "metadata": {},
   "source": [
    "## Подготовка к расчёту прибыли"
   ]
  },
  {
   "cell_type": "markdown",
   "metadata": {},
   "source": [
    "### Определение ключевых значений для расчета"
   ]
  },
  {
   "cell_type": "markdown",
   "metadata": {},
   "source": [
    "Определим ключевые показатели, необходимые для расчета прибыли."
   ]
  },
  {
   "cell_type": "code",
   "execution_count": 17,
   "metadata": {},
   "outputs": [],
   "source": [
    "BUDGET_WELL = 10**10 #бюджет разработки скважин в регионе"
   ]
  },
  {
   "cell_type": "code",
   "execution_count": 18,
   "metadata": {},
   "outputs": [],
   "source": [
    "PROFIT_THOUSAND_BARREL = 450000 #прибыль с одной тысячи баррелей"
   ]
  },
  {
   "cell_type": "code",
   "execution_count": 19,
   "metadata": {},
   "outputs": [],
   "source": [
    "WELL_N_RESEARCH = 500 #колличество исследуемых скважин в регионе"
   ]
  },
  {
   "cell_type": "code",
   "execution_count": 20,
   "metadata": {},
   "outputs": [],
   "source": [
    "WELL_N_DEVELOP = 200 #колличество разрабатываемых скважин в регионе"
   ]
  },
  {
   "cell_type": "markdown",
   "metadata": {},
   "source": [
    "### Определение объема сырья для безубыточной разработки"
   ]
  },
  {
   "cell_type": "code",
   "execution_count": 21,
   "metadata": {},
   "outputs": [],
   "source": [
    "breakeven_value = BUDGET_WELL/(PROFIT_THOUSAND_BARREL * WELL_N_DEVELOP)"
   ]
  },
  {
   "cell_type": "code",
   "execution_count": 22,
   "metadata": {},
   "outputs": [
    {
     "data": {
      "text/plain": [
       "111.11111111111111"
      ]
     },
     "execution_count": 22,
     "metadata": {},
     "output_type": "execute_result"
    }
   ],
   "source": [
    "breakeven_value"
   ]
  },
  {
   "cell_type": "markdown",
   "metadata": {},
   "source": [
    "### Выводы"
   ]
  },
  {
   "cell_type": "markdown",
   "metadata": {},
   "source": [
    "Полученный объем сырья для безубыточной вырабоки выше относительно всех средних фактических значений запасов по рассматриваемым регионам. Таким образом, выбор случайных скважин может привести к убыткам компании. Необходим подбор скважин с наилучшими предсказанными значениями запасов нефти."
   ]
  },
  {
   "cell_type": "markdown",
   "metadata": {},
   "source": [
    "## Расчёт прибыли и рисков "
   ]
  },
  {
   "cell_type": "markdown",
   "metadata": {},
   "source": [
    "### Определение фактической прибыли для лучших прогнозных скважин региона"
   ]
  },
  {
   "cell_type": "markdown",
   "metadata": {},
   "source": [
    "Для определения фактической прибыли создадим функцию работающуюю по следующей схеме: на вход подается датасет исследуемого региона, функция производит случайный отбор 500 скважин для исследования, из этих скважин отбираются 200 лучших на основе предсказных объемов содержащегося в них сырья; далее на основе фактических данных об объеме запасов подсчитывается общий объем сырья, определяется выручка (с учетом прибыли одной сважины), и , наконец, определяется прибыль для исследуемого региона на основе запланированного бюджета разработки 200 скважин региона. "
   ]
  },
  {
   "cell_type": "code",
   "execution_count": 23,
   "metadata": {},
   "outputs": [],
   "source": [
    "#получение серий фактических и предскаpанных значений запасов сырья\n",
    "mean_predicted_product_value_0, mean_product_value_0, rmse_predict_0, fact_volume_product_0, predict_volume_product_0 = well_analis(data_0)\n",
    "fact_predict_vol_product_0 =[fact_volume_product_0, predict_volume_product_0] "
   ]
  },
  {
   "cell_type": "code",
   "execution_count": 24,
   "metadata": {},
   "outputs": [],
   "source": [
    "mean_predicted_product_value_1, mean_product_value_1, rmse_predict_1, fact_volume_product_1, predict_volume_product_1 = well_analis(data_1)\n",
    "fact_predict_vol_product_1 =[fact_volume_product_1, predict_volume_product_1] "
   ]
  },
  {
   "cell_type": "code",
   "execution_count": 25,
   "metadata": {},
   "outputs": [],
   "source": [
    "mean_predicted_product_value_2, mean_product_value_2, rmse_predict_2, fact_volume_product_2, predict_volume_product_2 = well_analis(data_2)\n",
    "fact_predict_vol_product_2 =[fact_volume_product_2, predict_volume_product_2] "
   ]
  },
  {
   "cell_type": "code",
   "execution_count": 26,
   "metadata": {},
   "outputs": [],
   "source": [
    "state = np.random.RandomState(12345)"
   ]
  },
  {
   "cell_type": "code",
   "execution_count": 27,
   "metadata": {},
   "outputs": [],
   "source": [
    "def revenue(data):\n",
    "    target_sample = data[0].sample(WELL_N_RESEARCH, replace=True, random_state=state)\n",
    "    predict_sample = data[1][target_sample.index]\n",
    "    best_pedicted_index = predict_sample.sort_values(ascending = False)[:WELL_N_DEVELOP].index\n",
    "    fact_from_best_pedicted_well = data[0][best_pedicted_index]\n",
    "    total_profit = fact_from_best_pedicted_well.sum() * PROFIT_THOUSAND_BARREL\n",
    "    revenue = total_profit - BUDGET_WELL\n",
    "    return revenue"
   ]
  },
  {
   "cell_type": "markdown",
   "metadata": {},
   "source": [
    "Примеры "
   ]
  },
  {
   "cell_type": "code",
   "execution_count": 28,
   "metadata": {},
   "outputs": [
    {
     "data": {
      "text/plain": [
       "605464074.5689964"
      ]
     },
     "execution_count": 28,
     "metadata": {},
     "output_type": "execute_result"
    }
   ],
   "source": [
    "revenue(fact_predict_vol_product_0)"
   ]
  },
  {
   "cell_type": "code",
   "execution_count": 29,
   "metadata": {},
   "outputs": [
    {
     "data": {
      "text/plain": [
       "334315678.3243637"
      ]
     },
     "execution_count": 29,
     "metadata": {},
     "output_type": "execute_result"
    }
   ],
   "source": [
    "revenue(fact_predict_vol_product_1)"
   ]
  },
  {
   "cell_type": "code",
   "execution_count": 30,
   "metadata": {
    "scrolled": true
   },
   "outputs": [
    {
     "data": {
      "text/plain": [
       "626175561.5691528"
      ]
     },
     "execution_count": 30,
     "metadata": {},
     "output_type": "execute_result"
    }
   ],
   "source": [
    "revenue(fact_predict_vol_product_2)"
   ]
  },
  {
   "cell_type": "markdown",
   "metadata": {},
   "source": [
    "### Определение средней прибыли, доверительного интервала и рикска убытков"
   ]
  },
  {
   "cell_type": "markdown",
   "metadata": {},
   "source": [
    "Определение средней прибыли региона будем производить на основе распределения прибыли, получаемого техникой \"Bootstrap\" на базе 1000 выборок, с расчетами прибыли региона на основе функции, приведенной в предыдущем пункте, в качестве доверительного интервала выберем интервал в 95%, а вероятность убутков определим как сумму убытков в полученном распределении по отношению к общей сумме прибыли для распределения по региону. Создадим функцию, которая на вход будет принимать датасет с данным по региону, а возвращать среднее значение прибыли, границы доверительного интервала, а также вероятность убытков. "
   ]
  },
  {
   "cell_type": "code",
   "execution_count": 31,
   "metadata": {},
   "outputs": [],
   "source": [
    "def estimation_of_region(data):\n",
    "    values = []\n",
    "    values_loss = []\n",
    "    for i in range(1000):\n",
    "        a = revenue(data)\n",
    "        if a < 0:\n",
    "            values_loss.append(a)\n",
    "        values.append(a)\n",
    "        \n",
    "    values = pd.Series(values)\n",
    "    values_loss = pd.Series(values_loss)\n",
    "        \n",
    "    mean_revenue = values.mean()\n",
    "        \n",
    "    conf_interval_lower = values.quantile(0.025).round(1)\n",
    "    conf_interval_upper = values.quantile(0.975).round(1)\n",
    "        \n",
    "    prob_of_losses = values_loss.count()/values.count()*100\n",
    "        \n",
    "    return mean_revenue, conf_interval_lower, conf_interval_upper, prob_of_losses, values"
   ]
  },
  {
   "cell_type": "code",
   "execution_count": 32,
   "metadata": {},
   "outputs": [],
   "source": [
    " estimation_of_region_0 = estimation_of_region(fact_predict_vol_product_0)"
   ]
  },
  {
   "cell_type": "code",
   "execution_count": 33,
   "metadata": {},
   "outputs": [],
   "source": [
    " estimation_of_region_1 = estimation_of_region(fact_predict_vol_product_1)"
   ]
  },
  {
   "cell_type": "code",
   "execution_count": 34,
   "metadata": {},
   "outputs": [],
   "source": [
    " estimation_of_region_2 = estimation_of_region(fact_predict_vol_product_2)"
   ]
  },
  {
   "cell_type": "code",
   "execution_count": 35,
   "metadata": {},
   "outputs": [],
   "source": [
    "bins = []\n",
    "for i in range(-5*10**8, 19*10**8, 50000000):\n",
    "    bins.append(i)"
   ]
  },
  {
   "cell_type": "code",
   "execution_count": 36,
   "metadata": {},
   "outputs": [],
   "source": [
    "def estimation_of_region_print(data): #функция вывода данных\n",
    "       \n",
    "    print('Средняя прибыль:', data[0],'рублей')\n",
    "    print('Доверительный интервал: от', data[1], 'рублей до', data[2], 'рублей')\n",
    "    print('Вероятность убытков, %:', data[3])\n",
    "    plt.figure(figsize=(12, 4))\n",
    "    sns.histplot(data[4], bins=bins)\n",
    "    plt.title('Revenue histogram of region')\n",
    "    plt.xlabel('revenue')\n",
    "    plt.ylabel('frequency')\n",
    "    plt.xlim([-5*10**8, 1.9*10**9])\n",
    "    plt.show()"
   ]
  },
  {
   "cell_type": "code",
   "execution_count": 37,
   "metadata": {
    "scrolled": false
   },
   "outputs": [
    {
     "name": "stdout",
     "output_type": "stream",
     "text": [
      "Region 0 :\n",
      "Средняя прибыль: 395259148.7435665 рублей\n",
      "Доверительный интервал: от -111215545.9 рублей до 909766941.6 рублей\n",
      "Вероятность убытков, %: 7.000000000000001\n"
     ]
    },
    {
     "data": {
      "image/png": "[encoded data removed]",
      "text/plain": [
       "<Figure size 1200x400 with 1 Axes>"
      ]
     },
     "metadata": {},
     "output_type": "display_data"
    },
    {
     "name": "stdout",
     "output_type": "stream",
     "text": [
      "\n",
      "Region 1 :\n",
      "Средняя прибыль: 462190324.9021857 рублей\n",
      "Доверительный интервал: от 78050810.8 рублей до 862952060.3 рублей\n",
      "Вероятность убытков, %: 0.7000000000000001\n"
     ]
    },
    {
     "data": {
      "image/png": "[encoded data removed]",
      "text/plain": [
       "<Figure size 1200x400 with 1 Axes>"
      ]
     },
     "metadata": {},
     "output_type": "display_data"
    },
    {
     "name": "stdout",
     "output_type": "stream",
     "text": [
      "\n",
      "Region 2 :\n",
      "Средняя прибыль: 392446381.5803062 рублей\n",
      "Доверительный интервал: от -112227625.4 рублей до 934562914.6 рублей\n",
      "Вероятность убытков, %: 6.5\n"
     ]
    },
    {
     "data": {
      "image/png": "[encoded data removed]",
      "text/plain": [
       "<Figure size 1200x400 with 1 Axes>"
      ]
     },
     "metadata": {},
     "output_type": "display_data"
    },
    {
     "name": "stdout",
     "output_type": "stream",
     "text": [
      "\n"
     ]
    }
   ],
   "source": [
    "#вывод распределения прибыли по регонам и значений средней прибыли, \n",
    "#границ доверительного интервала и вероятности убытков\n",
    "n = 0\n",
    "for i in [estimation_of_region_0, estimation_of_region_1, estimation_of_region_2]: \n",
    "    print('Region', n, ':')\n",
    "    estimation_of_region_print(i)\n",
    "    print()\n",
    "    n+=1"
   ]
  },
  {
   "cell_type": "code",
   "execution_count": 38,
   "metadata": {},
   "outputs": [
    {
     "data": {
      "image/png": "[encoded data removed]",
      "text/plain": [
       "<Figure size 1200x400 with 1 Axes>"
      ]
     },
     "metadata": {},
     "output_type": "display_data"
    }
   ],
   "source": [
    "plt.figure(figsize=(12, 4))\n",
    "sns.histplot(estimation_of_region_0[4], bins=bins, element=\"step\", alpha=0.15, label='Region_0')\n",
    "sns.histplot(estimation_of_region_1[4], bins=bins, element=\"step\", alpha=0.15, label='Region_1')\n",
    "sns.histplot(estimation_of_region_2[4], bins=bins, element=\"step\", alpha=0.15, label='Region_2')\n",
    "plt.title('Revenue histogram of region')\n",
    "plt.xlabel('revenue')\n",
    "plt.ylabel('frequency')\n",
    "plt.xlim([-5*10**8, 1.9*10**9])\n",
    "plt.legend()\n",
    "plt.show()"
   ]
  },
  {
   "cell_type": "markdown",
   "metadata": {},
   "source": [
    "Сведем полученные результаты в таблицу. "
   ]
  },
  {
   "cell_type": "code",
   "execution_count": 39,
   "metadata": {
    "scrolled": false
   },
   "outputs": [],
   "source": [
    "df_results = pd.DataFrame({'region': ['0', '1', '2'],\n",
    "                   'mean_revenue': [estimation_of_region_0[0], estimation_of_region_1[0], estimation_of_region_2[0]],\n",
    "                   'conf_interval_lower': [estimation_of_region_0[1], estimation_of_region_1[1], estimation_of_region_2[1]],\n",
    "                   'conf_interval_upper': [estimation_of_region_0[2], estimation_of_region_1[2], estimation_of_region_2[2]],\n",
    "                   'prob_of_losses': [estimation_of_region_0[3], estimation_of_region_1[3], estimation_of_region_2[3]]})"
   ]
  },
  {
   "cell_type": "code",
   "execution_count": 40,
   "metadata": {
    "scrolled": false
   },
   "outputs": [
    {
     "data": {
      "text/html": [
       "<div>\n",
       "<style scoped>\n",
       "    .dataframe tbody tr th:only-of-type {\n",
       "        vertical-align: middle;\n",
       "    }\n",
       "\n",
       "    .dataframe tbody tr th {\n",
       "        vertical-align: top;\n",
       "    }\n",
       "\n",
       "    .dataframe thead th {\n",
       "        text-align: right;\n",
       "    }\n",
       "</style>\n",
       "<table border=\"1\" class=\"dataframe\">\n",
       "  <thead>\n",
       "    <tr style=\"text-align: right;\">\n",
       "      <th></th>\n",
       "      <th>region</th>\n",
       "      <th>mean_revenue</th>\n",
       "      <th>conf_interval_lower</th>\n",
       "      <th>conf_interval_upper</th>\n",
       "      <th>prob_of_losses</th>\n",
       "    </tr>\n",
       "  </thead>\n",
       "  <tbody>\n",
       "    <tr>\n",
       "      <th>0</th>\n",
       "      <td>0</td>\n",
       "      <td>3.952591e+08</td>\n",
       "      <td>-111215545.9</td>\n",
       "      <td>909766941.6</td>\n",
       "      <td>7.0</td>\n",
       "    </tr>\n",
       "    <tr>\n",
       "      <th>1</th>\n",
       "      <td>1</td>\n",
       "      <td>4.621903e+08</td>\n",
       "      <td>78050810.8</td>\n",
       "      <td>862952060.3</td>\n",
       "      <td>0.7</td>\n",
       "    </tr>\n",
       "    <tr>\n",
       "      <th>2</th>\n",
       "      <td>2</td>\n",
       "      <td>3.924464e+08</td>\n",
       "      <td>-112227625.4</td>\n",
       "      <td>934562914.6</td>\n",
       "      <td>6.5</td>\n",
       "    </tr>\n",
       "  </tbody>\n",
       "</table>\n",
       "</div>"
      ],
      "text/plain": [
       "  region  mean_revenue  conf_interval_lower  conf_interval_upper  \\\n",
       "0      0  3.952591e+08         -111215545.9          909766941.6   \n",
       "1      1  4.621903e+08           78050810.8          862952060.3   \n",
       "2      2  3.924464e+08         -112227625.4          934562914.6   \n",
       "\n",
       "   prob_of_losses  \n",
       "0             7.0  \n",
       "1             0.7  \n",
       "2             6.5  "
      ]
     },
     "execution_count": 40,
     "metadata": {},
     "output_type": "execute_result"
    }
   ],
   "source": [
    "df_results"
   ]
  },
  {
   "cell_type": "markdown",
   "metadata": {},
   "source": [
    "### Выводы"
   ]
  },
  {
   "cell_type": "markdown",
   "metadata": {},
   "source": [
    "Из полученных данных следует:\n",
    "\n",
    "    1. Наибольшая величина средней прибыли характера для региона 1 (больше на величину до 70 млн. по отношению другим регионам). Средняя величина прибыли для регионов 0 и 2 примерно одинакова.\n",
    "    2. Самый узкий доверительный интервал в 95% характерен для региона 1, что говорит о том, что при прочих равных условиях, вероятность получить значимую величину прибыли там выше. Далее по увеличению ширины интервала идет регион 2, самый широкий доверительный интервал - у региона 0, при этом значение ширины доверительного интервала для регионов 0 и 2 достаточно близки. Доверительный интервал региона 1 не имеет отрицательных значений - убытков.  \n",
    "    3. Самый низкий риск убытков характерен для региона 1 (0,7%), далее по возрастанию риска следует регион 2, а самый высокий риск убытков - в регионе 1."
   ]
  },
  {
   "cell_type": "markdown",
   "metadata": {},
   "source": [
    "**Таким образом, с учетом наибольшего значения средней прибыли, наимешьшей в абсолютных единицах ширины доверительного интервала и самого низкого риска убытков наиболее предподчтительным для разработки месторождений нефти является регион 1.**"
   ]
  },
  {
   "cell_type": "markdown",
   "metadata": {},
   "source": [
    "## Общий вывод"
   ]
  },
  {
   "cell_type": "markdown",
   "metadata": {},
   "source": [
    "Цель исследования: выбор локации - региона и для проведения разработки запасов нефти с учетом максимально возможной прибыли и минимизации риков убытков.\n",
    "\n",
    "База исследования - три файла с даными о пробах нефти в трёх регионах: информация о качественных параметрах нефти и объёмах её запасов.\n",
    "\n",
    "В ходе исследования проведено:\n",
    "\n",
    "1. Ознакомление с данными и их подготовка:\n",
    "    \n",
    "   - Каждый файл содержит 10000 строк и 5 столбцов со следующей информацией: 'id' - уникальный идентификатор скважины; 'f0', 'f1', 'f2' - данные о качеcтве и характеристиках нефти; 'product' - объем запасов в скважине в тыс. баррелей.\n",
    "        \n",
    "   - В ходе анализа в таблицах найдены дубликаты идентификаторов скважин с отличающимися другими параметрами скважины. Ввиду малого количества подобных дубликатов, строки содержащие их удалены.\n",
    "        \n",
    "   - Выделены целевой признак ('product') и признаки ('f0', 'f1', 'f2').\n",
    "        \n",
    "   - Данные разделены на тренировочную и валидационную выборки в соотношении 3/1.\n",
    "        \n",
    "        \n",
    "2. Обучение и проверка модели для предсказания объемов запасов в скважине. В качестве модели выбрана линейная регресссия. Найдена среднеквадратичная ошибка моделей предсказания для каждого региона.\n",
    "\n",
    "\n",
    "3. Для подготовки расчета средней прибыли определены ключевые технико-экономические значения: бюджет разработки скважин в регионе, прибыль с одной тысячи баррелей, колличество исследуемых и подлежащих разработке скважин в регионе, объем сырья в скважине для безубыточной разработки.\n",
    "\n",
    "\n",
    "4. Проведен подсчет средней прибыли для каждого региона с использованием методики 'bootstrap' 1000 случайных выборок, определено распределение возможной прибыли, подсчитаны границы верхнего и нижего доверительных интервалов распределения прибыли, подсчитана вероятность получения убытка (отрицательной прибыли).\n",
    "\n",
    "\n",
    "**На основе проведенного анализа средней прибыли, ширины доверительного интервала и вероятности риска убытков установленно, что наиболее перспективным для разработки месторождений нефти является регион 1.**"
   ]
  }
 ],
 "metadata": {
  "ExecuteTimeLog": [
   {
    "duration": 233,
    "start_time": "2022-03-13T17:31:15.967Z"
   },
   {
    "duration": 1711,
    "start_time": "2022-03-13T17:31:14.491Z"
   },
   {
    "duration": 1703,
    "start_time": "2022-03-13T17:31:14.500Z"
   },
   {
    "duration": 1687,
    "start_time": "2022-03-13T17:31:14.518Z"
   },
   {
    "duration": 1659,
    "start_time": "2022-03-13T17:31:14.547Z"
   },
   {
    "duration": 1619,
    "start_time": "2022-03-13T17:31:14.589Z"
   },
   {
    "duration": 1612,
    "start_time": "2022-03-13T17:31:14.597Z"
   },
   {
    "duration": 1595,
    "start_time": "2022-03-13T17:31:14.615Z"
   },
   {
    "duration": 1575,
    "start_time": "2022-03-13T17:31:14.637Z"
   },
   {
    "duration": 1556,
    "start_time": "2022-03-13T17:31:14.657Z"
   },
   {
    "duration": 3,
    "start_time": "2022-03-13T17:31:53.002Z"
   },
   {
    "duration": 3,
    "start_time": "2022-03-13T17:32:38.613Z"
   },
   {
    "duration": 4,
    "start_time": "2022-03-13T17:32:38.618Z"
   },
   {
    "duration": 1450,
    "start_time": "2022-03-13T17:32:38.624Z"
   },
   {
    "duration": 171,
    "start_time": "2022-03-13T17:32:40.077Z"
   },
   {
    "duration": 154,
    "start_time": "2022-03-13T17:32:40.250Z"
   },
   {
    "duration": 118,
    "start_time": "2022-03-13T17:32:40.405Z"
   },
   {
    "duration": 15,
    "start_time": "2022-03-13T17:32:40.525Z"
   },
   {
    "duration": 7,
    "start_time": "2022-03-13T17:32:40.542Z"
   },
   {
    "duration": 248,
    "start_time": "2022-03-13T17:32:40.551Z"
   },
   {
    "duration": 1912,
    "start_time": "2022-03-13T17:32:38.889Z"
   },
   {
    "duration": 116,
    "start_time": "2022-03-13T17:32:55.873Z"
   },
   {
    "duration": 8,
    "start_time": "2022-03-13T17:33:00.447Z"
   },
   {
    "duration": 45572,
    "start_time": "2022-03-13T17:44:55.990Z"
   },
   {
    "duration": 1630,
    "start_time": "2022-03-13T17:45:41.564Z"
   },
   {
    "duration": 3,
    "start_time": "2022-03-13T17:45:43.196Z"
   },
   {
    "duration": 132,
    "start_time": "2022-03-13T17:45:43.201Z"
   },
   {
    "duration": 114,
    "start_time": "2022-03-13T17:45:43.335Z"
   },
   {
    "duration": 118,
    "start_time": "2022-03-13T17:45:43.450Z"
   },
   {
    "duration": 12,
    "start_time": "2022-03-13T17:45:43.570Z"
   },
   {
    "duration": 8,
    "start_time": "2022-03-13T17:45:43.584Z"
   },
   {
    "duration": 11,
    "start_time": "2022-03-13T17:45:43.594Z"
   },
   {
    "duration": 4,
    "start_time": "2022-03-13T17:45:43.606Z"
   },
   {
    "duration": 3269,
    "start_time": "2022-03-13T17:48:16.811Z"
   },
   {
    "duration": 3734,
    "start_time": "2022-03-13T17:51:21.932Z"
   },
   {
    "duration": 3043,
    "start_time": "2022-03-13T17:53:35.115Z"
   },
   {
    "duration": 13,
    "start_time": "2022-03-13T18:26:13.458Z"
   },
   {
    "duration": 12,
    "start_time": "2022-03-13T18:26:30.705Z"
   },
   {
    "duration": 9,
    "start_time": "2022-03-13T18:27:23.908Z"
   },
   {
    "duration": 34,
    "start_time": "2022-03-13T18:27:49.379Z"
   },
   {
    "duration": 33,
    "start_time": "2022-03-13T18:28:05.706Z"
   },
   {
    "duration": 35,
    "start_time": "2022-03-13T18:28:23.773Z"
   },
   {
    "duration": 14,
    "start_time": "2022-03-13T18:28:46.844Z"
   },
   {
    "duration": 14,
    "start_time": "2022-03-13T18:29:12.836Z"
   },
   {
    "duration": 14,
    "start_time": "2022-03-13T18:29:23.362Z"
   },
   {
    "duration": 4017,
    "start_time": "2022-03-13T18:34:01.978Z"
   },
   {
    "duration": 1880,
    "start_time": "2022-03-13T18:34:05.998Z"
   },
   {
    "duration": 3,
    "start_time": "2022-03-13T18:34:07.881Z"
   },
   {
    "duration": 217,
    "start_time": "2022-03-13T18:34:07.886Z"
   },
   {
    "duration": 117,
    "start_time": "2022-03-13T18:34:08.105Z"
   },
   {
    "duration": 121,
    "start_time": "2022-03-13T18:34:08.224Z"
   },
   {
    "duration": 12,
    "start_time": "2022-03-13T18:34:08.347Z"
   },
   {
    "duration": 8,
    "start_time": "2022-03-13T18:34:08.361Z"
   },
   {
    "duration": 9,
    "start_time": "2022-03-13T18:34:08.372Z"
   },
   {
    "duration": 3367,
    "start_time": "2022-03-13T18:34:08.383Z"
   },
   {
    "duration": 3770,
    "start_time": "2022-03-13T18:34:11.751Z"
   },
   {
    "duration": 3194,
    "start_time": "2022-03-13T18:34:15.523Z"
   },
   {
    "duration": 18,
    "start_time": "2022-03-13T18:34:18.719Z"
   },
   {
    "duration": 17,
    "start_time": "2022-03-13T18:34:18.739Z"
   },
   {
    "duration": 16,
    "start_time": "2022-03-13T18:34:18.758Z"
   },
   {
    "duration": 15,
    "start_time": "2022-03-13T18:34:18.776Z"
   },
   {
    "duration": 42,
    "start_time": "2022-03-13T18:34:18.793Z"
   },
   {
    "duration": 14,
    "start_time": "2022-03-13T18:34:18.837Z"
   },
   {
    "duration": 9,
    "start_time": "2022-03-13T19:20:08.829Z"
   },
   {
    "duration": 9,
    "start_time": "2022-03-13T19:21:14.008Z"
   },
   {
    "duration": 9,
    "start_time": "2022-03-13T19:21:16.514Z"
   },
   {
    "duration": 8,
    "start_time": "2022-03-13T19:21:16.952Z"
   },
   {
    "duration": 2952,
    "start_time": "2022-03-13T19:22:02.238Z"
   },
   {
    "duration": 3152,
    "start_time": "2022-03-13T19:22:36.981Z"
   },
   {
    "duration": 21,
    "start_time": "2022-03-13T19:25:54.301Z"
   },
   {
    "duration": 14,
    "start_time": "2022-03-13T19:26:14.554Z"
   },
   {
    "duration": 14,
    "start_time": "2022-03-13T20:17:08.273Z"
   },
   {
    "duration": 16,
    "start_time": "2022-03-13T20:23:38.937Z"
   },
   {
    "duration": 15,
    "start_time": "2022-03-13T20:23:40.632Z"
   },
   {
    "duration": 296,
    "start_time": "2022-03-13T20:23:53.601Z"
   },
   {
    "duration": 193,
    "start_time": "2022-03-13T20:23:58.459Z"
   },
   {
    "duration": 26,
    "start_time": "2022-03-13T20:26:37.763Z"
   },
   {
    "duration": 15,
    "start_time": "2022-03-13T20:26:39.037Z"
   },
   {
    "duration": 21,
    "start_time": "2022-03-13T20:28:15.314Z"
   },
   {
    "duration": 4,
    "start_time": "2022-03-13T20:28:16.424Z"
   },
   {
    "duration": 175,
    "start_time": "2022-03-13T20:28:44.008Z"
   },
   {
    "duration": 3826,
    "start_time": "2022-03-13T20:29:19.972Z"
   },
   {
    "duration": 1391,
    "start_time": "2022-03-13T20:29:23.800Z"
   },
   {
    "duration": 3,
    "start_time": "2022-03-13T20:29:25.193Z"
   },
   {
    "duration": 128,
    "start_time": "2022-03-13T20:29:25.197Z"
   },
   {
    "duration": 118,
    "start_time": "2022-03-13T20:29:25.326Z"
   },
   {
    "duration": 114,
    "start_time": "2022-03-13T20:29:25.445Z"
   },
   {
    "duration": 12,
    "start_time": "2022-03-13T20:29:25.560Z"
   },
   {
    "duration": 9,
    "start_time": "2022-03-13T20:29:25.574Z"
   },
   {
    "duration": 9,
    "start_time": "2022-03-13T20:29:25.585Z"
   },
   {
    "duration": 3453,
    "start_time": "2022-03-13T20:29:25.595Z"
   },
   {
    "duration": 3856,
    "start_time": "2022-03-13T20:29:29.050Z"
   },
   {
    "duration": 3076,
    "start_time": "2022-03-13T20:29:32.908Z"
   },
   {
    "duration": 15,
    "start_time": "2022-03-13T20:29:35.986Z"
   },
   {
    "duration": 34,
    "start_time": "2022-03-13T20:29:36.003Z"
   },
   {
    "duration": 11,
    "start_time": "2022-03-13T20:29:36.039Z"
   },
   {
    "duration": 21,
    "start_time": "2022-03-13T20:29:36.052Z"
   },
   {
    "duration": 7,
    "start_time": "2022-03-13T20:29:36.075Z"
   },
   {
    "duration": 2136,
    "start_time": "2022-03-13T20:29:36.083Z"
   },
   {
    "duration": 5,
    "start_time": "2022-03-13T20:30:48.029Z"
   },
   {
    "duration": 5,
    "start_time": "2022-03-13T20:30:49.230Z"
   },
   {
    "duration": 1907,
    "start_time": "2022-03-13T20:30:50.438Z"
   },
   {
    "duration": 6973,
    "start_time": "2022-03-13T20:31:26.916Z"
   },
   {
    "duration": 1423,
    "start_time": "2022-03-13T20:31:33.892Z"
   },
   {
    "duration": 3,
    "start_time": "2022-03-13T20:31:35.317Z"
   },
   {
    "duration": 124,
    "start_time": "2022-03-13T20:31:35.322Z"
   },
   {
    "duration": 111,
    "start_time": "2022-03-13T20:31:35.448Z"
   },
   {
    "duration": 169,
    "start_time": "2022-03-13T20:31:35.561Z"
   },
   {
    "duration": 15,
    "start_time": "2022-03-13T20:31:35.732Z"
   },
   {
    "duration": 10,
    "start_time": "2022-03-13T20:31:35.750Z"
   },
   {
    "duration": 14,
    "start_time": "2022-03-13T20:31:35.762Z"
   },
   {
    "duration": 3135,
    "start_time": "2022-03-13T20:31:35.778Z"
   },
   {
    "duration": 4234,
    "start_time": "2022-03-13T20:31:38.915Z"
   },
   {
    "duration": 3182,
    "start_time": "2022-03-13T20:31:43.151Z"
   },
   {
    "duration": 18,
    "start_time": "2022-03-13T20:31:46.335Z"
   },
   {
    "duration": 16,
    "start_time": "2022-03-13T20:31:46.355Z"
   },
   {
    "duration": 13,
    "start_time": "2022-03-13T20:31:46.373Z"
   },
   {
    "duration": 69,
    "start_time": "2022-03-13T20:31:46.388Z"
   },
   {
    "duration": 22,
    "start_time": "2022-03-13T20:31:46.459Z"
   },
   {
    "duration": 3590,
    "start_time": "2022-03-13T20:31:46.483Z"
   },
   {
    "duration": 10,
    "start_time": "2022-03-13T20:35:04.346Z"
   },
   {
    "duration": 22,
    "start_time": "2022-03-13T20:35:37.622Z"
   },
   {
    "duration": 357,
    "start_time": "2022-03-13T20:35:54.158Z"
   },
   {
    "duration": 11,
    "start_time": "2022-03-13T20:36:01.604Z"
   },
   {
    "duration": 181,
    "start_time": "2022-03-13T20:40:28.822Z"
   },
   {
    "duration": 26,
    "start_time": "2022-03-13T20:41:12.586Z"
   },
   {
    "duration": 14,
    "start_time": "2022-03-13T20:41:14.747Z"
   },
   {
    "duration": 3754,
    "start_time": "2022-03-13T20:41:16.123Z"
   },
   {
    "duration": 25,
    "start_time": "2022-03-13T20:42:35.583Z"
   },
   {
    "duration": 200,
    "start_time": "2022-03-13T20:42:36.619Z"
   },
   {
    "duration": 190,
    "start_time": "2022-03-13T20:42:43.952Z"
   },
   {
    "duration": 3761,
    "start_time": "2022-03-13T20:43:34.993Z"
   },
   {
    "duration": 1386,
    "start_time": "2022-03-13T20:43:38.757Z"
   },
   {
    "duration": 2,
    "start_time": "2022-03-13T20:43:40.145Z"
   },
   {
    "duration": 125,
    "start_time": "2022-03-13T20:43:40.149Z"
   },
   {
    "duration": 122,
    "start_time": "2022-03-13T20:43:40.276Z"
   },
   {
    "duration": 117,
    "start_time": "2022-03-13T20:43:40.400Z"
   },
   {
    "duration": 16,
    "start_time": "2022-03-13T20:43:40.518Z"
   },
   {
    "duration": 15,
    "start_time": "2022-03-13T20:43:40.536Z"
   },
   {
    "duration": 9,
    "start_time": "2022-03-13T20:43:40.553Z"
   },
   {
    "duration": 3120,
    "start_time": "2022-03-13T20:43:40.564Z"
   },
   {
    "duration": 3381,
    "start_time": "2022-03-13T20:43:43.686Z"
   },
   {
    "duration": 3147,
    "start_time": "2022-03-13T20:43:47.068Z"
   },
   {
    "duration": 23,
    "start_time": "2022-03-13T20:43:50.217Z"
   },
   {
    "duration": 12,
    "start_time": "2022-03-13T20:43:50.242Z"
   },
   {
    "duration": 9,
    "start_time": "2022-03-13T20:43:50.256Z"
   },
   {
    "duration": 28,
    "start_time": "2022-03-13T20:43:50.266Z"
   },
   {
    "duration": 268,
    "start_time": "2022-03-13T20:43:50.296Z"
   },
   {
    "duration": -1050,
    "start_time": "2022-03-13T20:43:51.616Z"
   },
   {
    "duration": -1081,
    "start_time": "2022-03-13T20:43:51.648Z"
   },
   {
    "duration": 3,
    "start_time": "2022-03-13T20:44:12.736Z"
   },
   {
    "duration": 167,
    "start_time": "2022-03-13T20:44:14.032Z"
   },
   {
    "duration": 170,
    "start_time": "2022-03-13T20:44:25.034Z"
   },
   {
    "duration": 172,
    "start_time": "2022-03-13T20:44:32.364Z"
   },
   {
    "duration": 3706,
    "start_time": "2022-03-13T20:44:52.205Z"
   },
   {
    "duration": 1320,
    "start_time": "2022-03-13T20:44:55.913Z"
   },
   {
    "duration": 3,
    "start_time": "2022-03-13T20:44:57.234Z"
   },
   {
    "duration": 118,
    "start_time": "2022-03-13T20:44:57.238Z"
   },
   {
    "duration": 116,
    "start_time": "2022-03-13T20:44:57.357Z"
   },
   {
    "duration": 121,
    "start_time": "2022-03-13T20:44:57.474Z"
   },
   {
    "duration": 13,
    "start_time": "2022-03-13T20:44:57.597Z"
   },
   {
    "duration": 8,
    "start_time": "2022-03-13T20:44:57.613Z"
   },
   {
    "duration": 8,
    "start_time": "2022-03-13T20:44:57.633Z"
   },
   {
    "duration": 3212,
    "start_time": "2022-03-13T20:44:57.643Z"
   },
   {
    "duration": 3755,
    "start_time": "2022-03-13T20:45:00.857Z"
   },
   {
    "duration": 3204,
    "start_time": "2022-03-13T20:45:04.613Z"
   },
   {
    "duration": 16,
    "start_time": "2022-03-13T20:45:07.819Z"
   },
   {
    "duration": 17,
    "start_time": "2022-03-13T20:45:07.836Z"
   },
   {
    "duration": 9,
    "start_time": "2022-03-13T20:45:07.855Z"
   },
   {
    "duration": 27,
    "start_time": "2022-03-13T20:45:07.866Z"
   },
   {
    "duration": 2,
    "start_time": "2022-03-13T20:45:07.895Z"
   },
   {
    "duration": 3430,
    "start_time": "2022-03-13T20:45:07.898Z"
   },
   {
    "duration": 13,
    "start_time": "2022-03-13T20:45:11.333Z"
   },
   {
    "duration": 4050,
    "start_time": "2022-03-13T20:47:33.809Z"
   },
   {
    "duration": 1374,
    "start_time": "2022-03-13T20:47:37.861Z"
   },
   {
    "duration": 3,
    "start_time": "2022-03-13T20:47:39.237Z"
   },
   {
    "duration": 129,
    "start_time": "2022-03-13T20:47:39.242Z"
   },
   {
    "duration": 121,
    "start_time": "2022-03-13T20:47:39.373Z"
   },
   {
    "duration": 118,
    "start_time": "2022-03-13T20:47:39.496Z"
   },
   {
    "duration": 23,
    "start_time": "2022-03-13T20:47:39.615Z"
   },
   {
    "duration": 8,
    "start_time": "2022-03-13T20:47:39.641Z"
   },
   {
    "duration": 8,
    "start_time": "2022-03-13T20:47:39.651Z"
   },
   {
    "duration": 3209,
    "start_time": "2022-03-13T20:47:39.661Z"
   },
   {
    "duration": 3493,
    "start_time": "2022-03-13T20:47:42.872Z"
   },
   {
    "duration": 3179,
    "start_time": "2022-03-13T20:47:46.367Z"
   },
   {
    "duration": 12,
    "start_time": "2022-03-13T20:47:49.547Z"
   },
   {
    "duration": 13,
    "start_time": "2022-03-13T20:47:49.561Z"
   },
   {
    "duration": 8,
    "start_time": "2022-03-13T20:47:49.576Z"
   },
   {
    "duration": 53,
    "start_time": "2022-03-13T20:47:49.586Z"
   },
   {
    "duration": 3,
    "start_time": "2022-03-13T20:47:49.641Z"
   },
   {
    "duration": 2960,
    "start_time": "2022-03-13T20:47:49.646Z"
   },
   {
    "duration": 25,
    "start_time": "2022-03-13T20:47:52.608Z"
   },
   {
    "duration": 28,
    "start_time": "2022-03-13T20:49:37.283Z"
   },
   {
    "duration": 21,
    "start_time": "2022-03-13T20:52:21.840Z"
   },
   {
    "duration": 19,
    "start_time": "2022-03-13T20:52:32.286Z"
   },
   {
    "duration": 24,
    "start_time": "2022-03-13T20:59:50.639Z"
   },
   {
    "duration": 4061,
    "start_time": "2022-03-13T21:00:37.832Z"
   },
   {
    "duration": 1364,
    "start_time": "2022-03-13T21:00:41.895Z"
   },
   {
    "duration": 3,
    "start_time": "2022-03-13T21:00:43.261Z"
   },
   {
    "duration": 125,
    "start_time": "2022-03-13T21:00:43.266Z"
   },
   {
    "duration": 115,
    "start_time": "2022-03-13T21:00:43.393Z"
   },
   {
    "duration": 117,
    "start_time": "2022-03-13T21:00:43.510Z"
   },
   {
    "duration": 11,
    "start_time": "2022-03-13T21:00:43.629Z"
   },
   {
    "duration": 11,
    "start_time": "2022-03-13T21:00:43.643Z"
   },
   {
    "duration": 10,
    "start_time": "2022-03-13T21:00:43.656Z"
   },
   {
    "duration": 3355,
    "start_time": "2022-03-13T21:00:43.668Z"
   },
   {
    "duration": 3814,
    "start_time": "2022-03-13T21:00:47.025Z"
   },
   {
    "duration": 3120,
    "start_time": "2022-03-13T21:00:50.841Z"
   },
   {
    "duration": 32,
    "start_time": "2022-03-13T21:00:53.963Z"
   },
   {
    "duration": 49,
    "start_time": "2022-03-13T21:00:53.997Z"
   },
   {
    "duration": 28,
    "start_time": "2022-03-13T21:00:54.048Z"
   },
   {
    "duration": 19,
    "start_time": "2022-03-13T21:00:54.077Z"
   },
   {
    "duration": 43,
    "start_time": "2022-03-13T21:00:54.098Z"
   },
   {
    "duration": 19,
    "start_time": "2022-03-13T21:00:54.143Z"
   },
   {
    "duration": 3200,
    "start_time": "2022-03-13T21:00:54.164Z"
   },
   {
    "duration": 10,
    "start_time": "2022-03-13T21:00:57.366Z"
   },
   {
    "duration": 285,
    "start_time": "2022-03-13T21:02:21.003Z"
   },
   {
    "duration": 15,
    "start_time": "2022-03-13T21:02:27.018Z"
   },
   {
    "duration": 17,
    "start_time": "2022-03-13T21:02:32.441Z"
   },
   {
    "duration": 4262,
    "start_time": "2022-03-13T21:02:50.238Z"
   },
   {
    "duration": 1383,
    "start_time": "2022-03-13T21:02:54.502Z"
   },
   {
    "duration": 4,
    "start_time": "2022-03-13T21:02:55.887Z"
   },
   {
    "duration": 130,
    "start_time": "2022-03-13T21:02:55.893Z"
   },
   {
    "duration": 118,
    "start_time": "2022-03-13T21:02:56.025Z"
   },
   {
    "duration": 120,
    "start_time": "2022-03-13T21:02:56.144Z"
   },
   {
    "duration": 11,
    "start_time": "2022-03-13T21:02:56.266Z"
   },
   {
    "duration": 9,
    "start_time": "2022-03-13T21:02:56.279Z"
   },
   {
    "duration": 11,
    "start_time": "2022-03-13T21:02:56.290Z"
   },
   {
    "duration": 3273,
    "start_time": "2022-03-13T21:02:56.302Z"
   },
   {
    "duration": 3602,
    "start_time": "2022-03-13T21:02:59.577Z"
   },
   {
    "duration": 3129,
    "start_time": "2022-03-13T21:03:03.182Z"
   },
   {
    "duration": 33,
    "start_time": "2022-03-13T21:03:06.313Z"
   },
   {
    "duration": 21,
    "start_time": "2022-03-13T21:03:06.348Z"
   },
   {
    "duration": 21,
    "start_time": "2022-03-13T21:03:06.371Z"
   },
   {
    "duration": 43,
    "start_time": "2022-03-13T21:03:06.394Z"
   },
   {
    "duration": 21,
    "start_time": "2022-03-13T21:03:06.439Z"
   },
   {
    "duration": 20,
    "start_time": "2022-03-13T21:03:06.462Z"
   },
   {
    "duration": 3800,
    "start_time": "2022-03-13T21:03:06.483Z"
   },
   {
    "duration": 15,
    "start_time": "2022-03-13T21:03:10.286Z"
   },
   {
    "duration": 3796,
    "start_time": "2022-03-13T21:05:42.086Z"
   },
   {
    "duration": 1351,
    "start_time": "2022-03-13T21:05:45.884Z"
   },
   {
    "duration": 4,
    "start_time": "2022-03-13T21:05:47.237Z"
   },
   {
    "duration": 180,
    "start_time": "2022-03-13T21:05:47.243Z"
   },
   {
    "duration": 112,
    "start_time": "2022-03-13T21:05:47.425Z"
   },
   {
    "duration": 113,
    "start_time": "2022-03-13T21:05:47.539Z"
   },
   {
    "duration": 11,
    "start_time": "2022-03-13T21:05:47.653Z"
   },
   {
    "duration": 10,
    "start_time": "2022-03-13T21:05:47.666Z"
   },
   {
    "duration": 13,
    "start_time": "2022-03-13T21:05:47.677Z"
   },
   {
    "duration": 3106,
    "start_time": "2022-03-13T21:05:47.691Z"
   },
   {
    "duration": 3558,
    "start_time": "2022-03-13T21:05:50.799Z"
   },
   {
    "duration": 3233,
    "start_time": "2022-03-13T21:05:54.359Z"
   },
   {
    "duration": 44,
    "start_time": "2022-03-13T21:05:57.593Z"
   },
   {
    "duration": 26,
    "start_time": "2022-03-13T21:05:57.639Z"
   },
   {
    "duration": 23,
    "start_time": "2022-03-13T21:05:57.666Z"
   },
   {
    "duration": 2,
    "start_time": "2022-03-13T21:05:57.691Z"
   },
   {
    "duration": 6,
    "start_time": "2022-03-13T21:05:57.695Z"
   },
   {
    "duration": 4,
    "start_time": "2022-03-13T21:05:57.702Z"
   },
   {
    "duration": 3,
    "start_time": "2022-03-13T21:05:57.733Z"
   },
   {
    "duration": 13,
    "start_time": "2022-03-13T21:05:57.737Z"
   },
   {
    "duration": 27,
    "start_time": "2022-03-13T21:06:57.075Z"
   },
   {
    "duration": 26,
    "start_time": "2022-03-13T21:07:39.208Z"
   },
   {
    "duration": 27,
    "start_time": "2022-03-13T21:08:23.129Z"
   },
   {
    "duration": 234,
    "start_time": "2022-03-14T12:51:56.140Z"
   },
   {
    "duration": 67662,
    "start_time": "2022-03-14T12:52:10.104Z"
   },
   {
    "duration": 2840,
    "start_time": "2022-03-14T12:53:17.769Z"
   },
   {
    "duration": 3,
    "start_time": "2022-03-14T12:53:20.611Z"
   },
   {
    "duration": 160,
    "start_time": "2022-03-14T12:53:20.616Z"
   },
   {
    "duration": 123,
    "start_time": "2022-03-14T12:53:20.777Z"
   },
   {
    "duration": 120,
    "start_time": "2022-03-14T12:53:20.902Z"
   },
   {
    "duration": 17,
    "start_time": "2022-03-14T12:53:21.024Z"
   },
   {
    "duration": 18,
    "start_time": "2022-03-14T12:53:21.045Z"
   },
   {
    "duration": 24,
    "start_time": "2022-03-14T12:53:21.066Z"
   },
   {
    "duration": 28,
    "start_time": "2022-03-14T12:53:21.092Z"
   },
   {
    "duration": 23,
    "start_time": "2022-03-14T12:53:21.122Z"
   },
   {
    "duration": 27,
    "start_time": "2022-03-14T12:53:21.147Z"
   },
   {
    "duration": 45,
    "start_time": "2022-03-14T12:53:21.176Z"
   },
   {
    "duration": 54,
    "start_time": "2022-03-14T12:53:21.223Z"
   },
   {
    "duration": 48,
    "start_time": "2022-03-14T12:53:21.279Z"
   },
   {
    "duration": 6,
    "start_time": "2022-03-14T12:53:21.339Z"
   },
   {
    "duration": 28,
    "start_time": "2022-03-14T12:53:21.347Z"
   },
   {
    "duration": 21,
    "start_time": "2022-03-14T12:53:21.377Z"
   },
   {
    "duration": 23,
    "start_time": "2022-03-14T12:53:21.400Z"
   },
   {
    "duration": 35,
    "start_time": "2022-03-14T12:53:21.425Z"
   },
   {
    "duration": 31,
    "start_time": "2022-03-14T13:22:00.637Z"
   },
   {
    "duration": 29,
    "start_time": "2022-03-14T13:22:01.217Z"
   },
   {
    "duration": 27,
    "start_time": "2022-03-14T13:22:01.916Z"
   },
   {
    "duration": 29,
    "start_time": "2022-03-14T13:23:54.130Z"
   },
   {
    "duration": 25,
    "start_time": "2022-03-14T13:24:41.595Z"
   },
   {
    "duration": 17,
    "start_time": "2022-03-14T13:24:57.255Z"
   },
   {
    "duration": 18,
    "start_time": "2022-03-14T13:25:10.956Z"
   },
   {
    "duration": 17,
    "start_time": "2022-03-14T13:25:21.394Z"
   },
   {
    "duration": 15705,
    "start_time": "2022-03-14T13:31:36.854Z"
   },
   {
    "duration": 2746,
    "start_time": "2022-03-14T13:31:52.561Z"
   },
   {
    "duration": 3,
    "start_time": "2022-03-14T13:31:55.309Z"
   },
   {
    "duration": 137,
    "start_time": "2022-03-14T13:31:55.314Z"
   },
   {
    "duration": 116,
    "start_time": "2022-03-14T13:31:55.453Z"
   },
   {
    "duration": 119,
    "start_time": "2022-03-14T13:31:55.571Z"
   },
   {
    "duration": 13,
    "start_time": "2022-03-14T13:31:55.692Z"
   },
   {
    "duration": 9,
    "start_time": "2022-03-14T13:31:55.708Z"
   },
   {
    "duration": 25,
    "start_time": "2022-03-14T13:31:55.719Z"
   },
   {
    "duration": 13,
    "start_time": "2022-03-14T13:31:55.746Z"
   },
   {
    "duration": 12,
    "start_time": "2022-03-14T13:31:55.761Z"
   },
   {
    "duration": 24,
    "start_time": "2022-03-14T13:31:55.774Z"
   },
   {
    "duration": 72,
    "start_time": "2022-03-14T13:31:55.800Z"
   },
   {
    "duration": 38,
    "start_time": "2022-03-14T13:31:55.874Z"
   },
   {
    "duration": 52,
    "start_time": "2022-03-14T13:31:55.914Z"
   },
   {
    "duration": 33,
    "start_time": "2022-03-14T13:31:55.968Z"
   },
   {
    "duration": 37,
    "start_time": "2022-03-14T13:31:56.003Z"
   },
   {
    "duration": 32,
    "start_time": "2022-03-14T13:31:56.042Z"
   },
   {
    "duration": 16,
    "start_time": "2022-03-14T13:31:56.076Z"
   },
   {
    "duration": 26,
    "start_time": "2022-03-14T13:31:56.094Z"
   },
   {
    "duration": 17,
    "start_time": "2022-03-14T13:31:56.137Z"
   },
   {
    "duration": 3,
    "start_time": "2022-03-14T13:31:56.156Z"
   },
   {
    "duration": 18,
    "start_time": "2022-03-14T13:31:56.163Z"
   },
   {
    "duration": 48901,
    "start_time": "2022-03-15T03:04:55.581Z"
   },
   {
    "duration": 4544,
    "start_time": "2022-03-15T03:05:44.486Z"
   },
   {
    "duration": 4,
    "start_time": "2022-03-15T03:05:49.033Z"
   },
   {
    "duration": 165,
    "start_time": "2022-03-15T03:05:49.040Z"
   },
   {
    "duration": 158,
    "start_time": "2022-03-15T03:05:49.207Z"
   },
   {
    "duration": 149,
    "start_time": "2022-03-15T03:05:49.372Z"
   },
   {
    "duration": 21,
    "start_time": "2022-03-15T03:05:49.523Z"
   },
   {
    "duration": 26,
    "start_time": "2022-03-15T03:05:49.549Z"
   },
   {
    "duration": 19,
    "start_time": "2022-03-15T03:05:49.579Z"
   },
   {
    "duration": 23,
    "start_time": "2022-03-15T03:05:49.600Z"
   },
   {
    "duration": 59,
    "start_time": "2022-03-15T03:05:49.625Z"
   },
   {
    "duration": 17,
    "start_time": "2022-03-15T03:05:49.686Z"
   },
   {
    "duration": 71,
    "start_time": "2022-03-15T03:05:49.705Z"
   },
   {
    "duration": 44,
    "start_time": "2022-03-15T03:05:49.778Z"
   },
   {
    "duration": 70,
    "start_time": "2022-03-15T03:05:49.824Z"
   },
   {
    "duration": 39,
    "start_time": "2022-03-15T03:05:49.896Z"
   },
   {
    "duration": 40,
    "start_time": "2022-03-15T03:05:49.937Z"
   },
   {
    "duration": 36,
    "start_time": "2022-03-15T03:05:49.980Z"
   },
   {
    "duration": 25,
    "start_time": "2022-03-15T03:05:50.019Z"
   },
   {
    "duration": 32,
    "start_time": "2022-03-15T03:05:50.072Z"
   },
   {
    "duration": 26,
    "start_time": "2022-03-15T03:05:50.107Z"
   },
   {
    "duration": 5,
    "start_time": "2022-03-15T03:05:50.136Z"
   },
   {
    "duration": 22,
    "start_time": "2022-03-15T03:05:50.178Z"
   },
   {
    "duration": 21751,
    "start_time": "2022-03-15T11:01:42.551Z"
   },
   {
    "duration": 1958,
    "start_time": "2022-03-15T11:02:04.305Z"
   },
   {
    "duration": 4,
    "start_time": "2022-03-15T11:02:06.266Z"
   },
   {
    "duration": 144,
    "start_time": "2022-03-15T11:02:06.272Z"
   },
   {
    "duration": 141,
    "start_time": "2022-03-15T11:02:06.418Z"
   },
   {
    "duration": 147,
    "start_time": "2022-03-15T11:02:06.561Z"
   },
   {
    "duration": 17,
    "start_time": "2022-03-15T11:02:06.711Z"
   },
   {
    "duration": 28,
    "start_time": "2022-03-15T11:02:06.732Z"
   },
   {
    "duration": 12,
    "start_time": "2022-03-15T11:02:06.763Z"
   },
   {
    "duration": 4423,
    "start_time": "2022-03-15T11:02:06.777Z"
   },
   {
    "duration": 4743,
    "start_time": "2022-03-15T11:02:11.202Z"
   },
   {
    "duration": 3990,
    "start_time": "2022-03-15T11:02:15.951Z"
   },
   {
    "duration": 39,
    "start_time": "2022-03-15T11:02:19.951Z"
   },
   {
    "duration": 37,
    "start_time": "2022-03-15T11:02:19.992Z"
   },
   {
    "duration": 38,
    "start_time": "2022-03-15T11:02:20.051Z"
   },
   {
    "duration": 30,
    "start_time": "2022-03-15T11:02:20.092Z"
   },
   {
    "duration": 20,
    "start_time": "2022-03-15T11:02:20.152Z"
   },
   {
    "duration": 27,
    "start_time": "2022-03-15T11:02:20.175Z"
   },
   {
    "duration": 48,
    "start_time": "2022-03-15T11:02:20.204Z"
   },
   {
    "duration": 26,
    "start_time": "2022-03-15T11:02:20.255Z"
   },
   {
    "duration": 17,
    "start_time": "2022-03-15T11:02:20.283Z"
   },
   {
    "duration": 5,
    "start_time": "2022-03-15T11:02:20.302Z"
   },
   {
    "duration": 14,
    "start_time": "2022-03-15T11:02:20.351Z"
   },
   {
    "duration": 8,
    "start_time": "2022-03-15T11:34:33.510Z"
   },
   {
    "duration": 658,
    "start_time": "2022-03-15T11:35:32.146Z"
   },
   {
    "duration": 8,
    "start_time": "2022-03-15T11:35:49.109Z"
   },
   {
    "duration": 513,
    "start_time": "2022-03-15T11:35:50.067Z"
   },
   {
    "duration": 8,
    "start_time": "2022-03-15T11:36:16.075Z"
   },
   {
    "duration": 478,
    "start_time": "2022-03-15T11:36:16.845Z"
   },
   {
    "duration": 8,
    "start_time": "2022-03-15T11:37:43.284Z"
   },
   {
    "duration": 513,
    "start_time": "2022-03-15T11:37:44.470Z"
   },
   {
    "duration": 7,
    "start_time": "2022-03-15T11:42:05.502Z"
   },
   {
    "duration": 603,
    "start_time": "2022-03-15T11:42:09.669Z"
   },
   {
    "duration": 7,
    "start_time": "2022-03-15T11:48:46.280Z"
   },
   {
    "duration": 497,
    "start_time": "2022-03-15T11:48:51.400Z"
   },
   {
    "duration": 11141,
    "start_time": "2022-03-15T11:49:35.314Z"
   },
   {
    "duration": 2360,
    "start_time": "2022-03-15T11:49:46.459Z"
   },
   {
    "duration": 4,
    "start_time": "2022-03-15T11:49:48.824Z"
   },
   {
    "duration": 169,
    "start_time": "2022-03-15T11:49:48.832Z"
   },
   {
    "duration": 158,
    "start_time": "2022-03-15T11:49:49.004Z"
   },
   {
    "duration": 153,
    "start_time": "2022-03-15T11:49:49.165Z"
   },
   {
    "duration": 18,
    "start_time": "2022-03-15T11:49:49.321Z"
   },
   {
    "duration": 13,
    "start_time": "2022-03-15T11:49:49.353Z"
   },
   {
    "duration": 17,
    "start_time": "2022-03-15T11:49:49.371Z"
   },
   {
    "duration": 9,
    "start_time": "2022-03-15T11:49:49.391Z"
   },
   {
    "duration": 5,
    "start_time": "2022-03-15T11:49:49.402Z"
   },
   {
    "duration": 6,
    "start_time": "2022-03-15T11:49:49.409Z"
   },
   {
    "duration": 46,
    "start_time": "2022-03-15T11:49:49.452Z"
   },
   {
    "duration": 85,
    "start_time": "2022-03-15T11:49:49.501Z"
   },
   {
    "duration": 41,
    "start_time": "2022-03-15T11:49:49.589Z"
   },
   {
    "duration": 35,
    "start_time": "2022-03-15T11:49:49.652Z"
   },
   {
    "duration": 18,
    "start_time": "2022-03-15T11:49:49.689Z"
   },
   {
    "duration": 60,
    "start_time": "2022-03-15T11:49:49.710Z"
   },
   {
    "duration": 25,
    "start_time": "2022-03-15T11:49:49.773Z"
   },
   {
    "duration": 55,
    "start_time": "2022-03-15T11:49:49.802Z"
   },
   {
    "duration": 17,
    "start_time": "2022-03-15T11:49:49.859Z"
   },
   {
    "duration": 8,
    "start_time": "2022-03-15T11:49:49.879Z"
   },
   {
    "duration": 864,
    "start_time": "2022-03-15T11:49:49.891Z"
   },
   {
    "duration": 6,
    "start_time": "2022-03-15T11:50:09.646Z"
   },
   {
    "duration": 57,
    "start_time": "2022-03-15T11:50:11.335Z"
   },
   {
    "duration": 6,
    "start_time": "2022-03-15T11:51:16.330Z"
   },
   {
    "duration": 41,
    "start_time": "2022-03-15T11:51:18.205Z"
   },
   {
    "duration": 7,
    "start_time": "2022-03-15T12:00:58.155Z"
   },
   {
    "duration": 599,
    "start_time": "2022-03-15T12:00:59.088Z"
   },
   {
    "duration": 7,
    "start_time": "2022-03-15T12:02:52.880Z"
   },
   {
    "duration": 62,
    "start_time": "2022-03-15T12:02:53.594Z"
   },
   {
    "duration": 9,
    "start_time": "2022-03-15T12:04:42.409Z"
   },
   {
    "duration": 46,
    "start_time": "2022-03-15T12:04:43.035Z"
   },
   {
    "duration": 8,
    "start_time": "2022-03-15T12:06:25.560Z"
   },
   {
    "duration": 65,
    "start_time": "2022-03-15T12:06:25.791Z"
   },
   {
    "duration": 8,
    "start_time": "2022-03-15T12:06:43.093Z"
   },
   {
    "duration": 44,
    "start_time": "2022-03-15T12:06:43.845Z"
   },
   {
    "duration": 8,
    "start_time": "2022-03-15T12:07:02.292Z"
   },
   {
    "duration": 74,
    "start_time": "2022-03-15T12:07:05.486Z"
   },
   {
    "duration": 7,
    "start_time": "2022-03-15T12:08:11.420Z"
   },
   {
    "duration": 129,
    "start_time": "2022-03-15T12:08:11.431Z"
   },
   {
    "duration": 8,
    "start_time": "2022-03-15T12:08:37.422Z"
   },
   {
    "duration": 44,
    "start_time": "2022-03-15T12:08:38.530Z"
   },
   {
    "duration": 8,
    "start_time": "2022-03-15T12:08:59.019Z"
   },
   {
    "duration": 77,
    "start_time": "2022-03-15T12:09:00.480Z"
   },
   {
    "duration": 64,
    "start_time": "2022-03-15T12:09:23.490Z"
   },
   {
    "duration": 90,
    "start_time": "2022-03-15T12:09:34.066Z"
   },
   {
    "duration": 7,
    "start_time": "2022-03-15T12:11:14.067Z"
   },
   {
    "duration": 72,
    "start_time": "2022-03-15T12:11:14.698Z"
   },
   {
    "duration": 134,
    "start_time": "2022-03-15T12:11:15.219Z"
   },
   {
    "duration": 53,
    "start_time": "2022-03-15T12:11:15.900Z"
   },
   {
    "duration": 216,
    "start_time": "2022-03-15T18:52:52.879Z"
   },
   {
    "duration": 150,
    "start_time": "2022-03-15T18:53:05.879Z"
   },
   {
    "duration": 26174,
    "start_time": "2022-03-15T18:53:15.929Z"
   },
   {
    "duration": 2184,
    "start_time": "2022-03-15T18:53:42.106Z"
   },
   {
    "duration": 5,
    "start_time": "2022-03-15T18:53:44.294Z"
   },
   {
    "duration": 186,
    "start_time": "2022-03-15T18:53:44.302Z"
   },
   {
    "duration": 144,
    "start_time": "2022-03-15T18:53:44.490Z"
   },
   {
    "duration": 261,
    "start_time": "2022-03-15T18:53:44.636Z"
   },
   {
    "duration": 19,
    "start_time": "2022-03-15T18:53:44.900Z"
   },
   {
    "duration": 36,
    "start_time": "2022-03-15T18:53:44.922Z"
   },
   {
    "duration": 33,
    "start_time": "2022-03-15T18:53:44.961Z"
   },
   {
    "duration": 14,
    "start_time": "2022-03-15T18:53:44.996Z"
   },
   {
    "duration": 51,
    "start_time": "2022-03-15T18:53:45.013Z"
   },
   {
    "duration": 34,
    "start_time": "2022-03-15T18:53:45.067Z"
   },
   {
    "duration": 66,
    "start_time": "2022-03-15T18:53:45.103Z"
   },
   {
    "duration": 50,
    "start_time": "2022-03-15T18:53:45.172Z"
   },
   {
    "duration": 45,
    "start_time": "2022-03-15T18:53:45.225Z"
   },
   {
    "duration": 43,
    "start_time": "2022-03-15T18:53:45.272Z"
   },
   {
    "duration": 29,
    "start_time": "2022-03-15T18:53:45.317Z"
   },
   {
    "duration": 36,
    "start_time": "2022-03-15T18:53:45.350Z"
   },
   {
    "duration": 21,
    "start_time": "2022-03-15T18:53:45.389Z"
   },
   {
    "duration": 30,
    "start_time": "2022-03-15T18:53:45.413Z"
   },
   {
    "duration": 26,
    "start_time": "2022-03-15T18:53:45.445Z"
   },
   {
    "duration": 20,
    "start_time": "2022-03-15T18:53:45.474Z"
   },
   {
    "duration": 155,
    "start_time": "2022-03-15T18:53:45.498Z"
   },
   {
    "duration": 197,
    "start_time": "2022-03-15T18:53:45.657Z"
   },
   {
    "duration": 197,
    "start_time": "2022-03-15T18:53:45.857Z"
   },
   {
    "duration": 96,
    "start_time": "2022-03-15T18:53:46.057Z"
   },
   {
    "duration": 8,
    "start_time": "2022-03-15T19:06:01.925Z"
   },
   {
    "duration": 79,
    "start_time": "2022-03-15T19:06:02.981Z"
   },
   {
    "duration": 9,
    "start_time": "2022-03-15T19:07:33.385Z"
   },
   {
    "duration": 183,
    "start_time": "2022-03-15T19:07:33.971Z"
   },
   {
    "duration": 13,
    "start_time": "2022-03-15T19:08:33.858Z"
   },
   {
    "duration": 173,
    "start_time": "2022-03-15T19:08:34.380Z"
   },
   {
    "duration": 9,
    "start_time": "2022-03-15T19:09:02.796Z"
   },
   {
    "duration": 65,
    "start_time": "2022-03-15T19:09:03.300Z"
   },
   {
    "duration": 178,
    "start_time": "2022-03-15T19:09:14.879Z"
   },
   {
    "duration": 98,
    "start_time": "2022-03-15T19:09:15.156Z"
   },
   {
    "duration": 10,
    "start_time": "2022-03-15T19:13:58.388Z"
   },
   {
    "duration": 8,
    "start_time": "2022-03-15T19:15:55.344Z"
   },
   {
    "duration": 704,
    "start_time": "2022-03-15T19:15:56.127Z"
   },
   {
    "duration": 8,
    "start_time": "2022-03-15T19:16:40.195Z"
   },
   {
    "duration": 383,
    "start_time": "2022-03-15T19:16:40.940Z"
   },
   {
    "duration": 10729,
    "start_time": "2022-03-15T19:18:12.408Z"
   },
   {
    "duration": 2309,
    "start_time": "2022-03-15T19:18:23.141Z"
   },
   {
    "duration": 4,
    "start_time": "2022-03-15T19:18:25.457Z"
   },
   {
    "duration": 179,
    "start_time": "2022-03-15T19:18:25.464Z"
   },
   {
    "duration": 174,
    "start_time": "2022-03-15T19:18:25.646Z"
   },
   {
    "duration": 223,
    "start_time": "2022-03-15T19:18:25.823Z"
   },
   {
    "duration": 21,
    "start_time": "2022-03-15T19:18:26.051Z"
   },
   {
    "duration": 13,
    "start_time": "2022-03-15T19:18:26.075Z"
   },
   {
    "duration": 19,
    "start_time": "2022-03-15T19:18:26.094Z"
   },
   {
    "duration": 38,
    "start_time": "2022-03-15T19:18:26.117Z"
   },
   {
    "duration": 22,
    "start_time": "2022-03-15T19:18:26.157Z"
   },
   {
    "duration": 6,
    "start_time": "2022-03-15T19:18:26.181Z"
   },
   {
    "duration": 42,
    "start_time": "2022-03-15T19:18:26.189Z"
   },
   {
    "duration": 76,
    "start_time": "2022-03-15T19:18:26.234Z"
   },
   {
    "duration": 59,
    "start_time": "2022-03-15T19:18:26.313Z"
   },
   {
    "duration": 35,
    "start_time": "2022-03-15T19:18:26.375Z"
   },
   {
    "duration": 18,
    "start_time": "2022-03-15T19:18:26.412Z"
   },
   {
    "duration": 41,
    "start_time": "2022-03-15T19:18:26.452Z"
   },
   {
    "duration": 27,
    "start_time": "2022-03-15T19:18:26.496Z"
   },
   {
    "duration": 35,
    "start_time": "2022-03-15T19:18:26.552Z"
   },
   {
    "duration": 18,
    "start_time": "2022-03-15T19:18:26.590Z"
   },
   {
    "duration": 47,
    "start_time": "2022-03-15T19:18:26.611Z"
   },
   {
    "duration": 626,
    "start_time": "2022-03-15T19:18:26.661Z"
   },
   {
    "duration": 1649,
    "start_time": "2022-03-15T19:18:25.641Z"
   },
   {
    "duration": 1638,
    "start_time": "2022-03-15T19:18:25.654Z"
   },
   {
    "duration": 1636,
    "start_time": "2022-03-15T19:18:25.658Z"
   },
   {
    "duration": 8,
    "start_time": "2022-03-15T19:23:03.998Z"
   },
   {
    "duration": 507,
    "start_time": "2022-03-15T19:23:04.760Z"
   },
   {
    "duration": 9,
    "start_time": "2022-03-15T19:25:58.262Z"
   },
   {
    "duration": 422,
    "start_time": "2022-03-15T19:25:58.769Z"
   },
   {
    "duration": 8,
    "start_time": "2022-03-15T19:29:42.868Z"
   },
   {
    "duration": 453,
    "start_time": "2022-03-15T19:29:45.738Z"
   },
   {
    "duration": 9,
    "start_time": "2022-03-15T19:29:56.372Z"
   },
   {
    "duration": 77,
    "start_time": "2022-03-15T19:29:57.696Z"
   },
   {
    "duration": 53,
    "start_time": "2022-03-15T19:30:08.020Z"
   },
   {
    "duration": 120,
    "start_time": "2022-03-15T19:30:11.746Z"
   },
   {
    "duration": 9888,
    "start_time": "2022-03-15T19:32:59.044Z"
   },
   {
    "duration": 1916,
    "start_time": "2022-03-15T19:33:08.935Z"
   },
   {
    "duration": 4,
    "start_time": "2022-03-15T19:33:10.855Z"
   },
   {
    "duration": 166,
    "start_time": "2022-03-15T19:33:10.862Z"
   },
   {
    "duration": 158,
    "start_time": "2022-03-15T19:33:11.030Z"
   },
   {
    "duration": 151,
    "start_time": "2022-03-15T19:33:11.191Z"
   },
   {
    "duration": 23,
    "start_time": "2022-03-15T19:33:11.344Z"
   },
   {
    "duration": 13,
    "start_time": "2022-03-15T19:33:11.369Z"
   },
   {
    "duration": 12,
    "start_time": "2022-03-15T19:33:11.386Z"
   },
   {
    "duration": 3,
    "start_time": "2022-03-15T19:33:11.401Z"
   },
   {
    "duration": 6,
    "start_time": "2022-03-15T19:33:11.406Z"
   },
   {
    "duration": 7,
    "start_time": "2022-03-15T19:33:11.462Z"
   },
   {
    "duration": 45,
    "start_time": "2022-03-15T19:33:11.472Z"
   },
   {
    "duration": 55,
    "start_time": "2022-03-15T19:33:11.519Z"
   },
   {
    "duration": 39,
    "start_time": "2022-03-15T19:33:11.577Z"
   },
   {
    "duration": 61,
    "start_time": "2022-03-15T19:33:11.619Z"
   },
   {
    "duration": 18,
    "start_time": "2022-03-15T19:33:11.683Z"
   },
   {
    "duration": 60,
    "start_time": "2022-03-15T19:33:11.704Z"
   },
   {
    "duration": 20,
    "start_time": "2022-03-15T19:33:11.767Z"
   },
   {
    "duration": 34,
    "start_time": "2022-03-15T19:33:11.789Z"
   },
   {
    "duration": 40,
    "start_time": "2022-03-15T19:33:11.825Z"
   },
   {
    "duration": 9,
    "start_time": "2022-03-15T19:33:11.867Z"
   },
   {
    "duration": 180,
    "start_time": "2022-03-15T19:33:11.878Z"
   },
   {
    "duration": 98,
    "start_time": "2022-03-15T19:33:12.061Z"
   },
   {
    "duration": 207,
    "start_time": "2022-03-15T19:33:12.163Z"
   },
   {
    "duration": 5,
    "start_time": "2022-03-15T19:33:12.450Z"
   },
   {
    "duration": 10,
    "start_time": "2022-03-15T19:34:28.637Z"
   },
   {
    "duration": 608,
    "start_time": "2022-03-15T19:34:30.364Z"
   },
   {
    "duration": 58,
    "start_time": "2022-03-15T19:36:02.781Z"
   },
   {
    "duration": 8,
    "start_time": "2022-03-15T19:36:12.828Z"
   },
   {
    "duration": 81,
    "start_time": "2022-03-15T19:36:13.270Z"
   },
   {
    "duration": 4,
    "start_time": "2022-03-15T20:33:06.138Z"
   },
   {
    "duration": 4,
    "start_time": "2022-03-15T20:47:16.709Z"
   },
   {
    "duration": 4,
    "start_time": "2022-03-15T20:47:17.135Z"
   },
   {
    "duration": 3,
    "start_time": "2022-03-15T20:47:18.687Z"
   },
   {
    "duration": 164,
    "start_time": "2022-03-15T20:47:37.881Z"
   },
   {
    "duration": 4,
    "start_time": "2022-03-15T20:47:40.722Z"
   },
   {
    "duration": 5,
    "start_time": "2022-03-15T20:47:41.135Z"
   },
   {
    "duration": 173,
    "start_time": "2022-03-15T20:51:39.405Z"
   },
   {
    "duration": 4,
    "start_time": "2022-03-15T20:51:47.112Z"
   },
   {
    "duration": 4,
    "start_time": "2022-03-15T20:51:47.507Z"
   },
   {
    "duration": 4,
    "start_time": "2022-03-15T20:51:47.875Z"
   },
   {
    "duration": 4,
    "start_time": "2022-03-15T20:51:48.282Z"
   },
   {
    "duration": 3,
    "start_time": "2022-03-15T20:51:49.607Z"
   },
   {
    "duration": 5,
    "start_time": "2022-03-15T20:51:50.348Z"
   },
   {
    "duration": 4,
    "start_time": "2022-03-15T20:52:19.409Z"
   },
   {
    "duration": 4,
    "start_time": "2022-03-15T20:52:19.743Z"
   },
   {
    "duration": 3,
    "start_time": "2022-03-15T20:52:20.079Z"
   },
   {
    "duration": 3,
    "start_time": "2022-03-15T20:52:20.423Z"
   },
   {
    "duration": 4,
    "start_time": "2022-03-15T20:52:22.256Z"
   },
   {
    "duration": 5,
    "start_time": "2022-03-15T20:52:22.696Z"
   },
   {
    "duration": 4,
    "start_time": "2022-03-15T20:53:03.937Z"
   },
   {
    "duration": 4,
    "start_time": "2022-03-15T20:53:04.393Z"
   },
   {
    "duration": 4,
    "start_time": "2022-03-15T20:53:04.772Z"
   },
   {
    "duration": 4,
    "start_time": "2022-03-15T20:53:05.219Z"
   },
   {
    "duration": 3,
    "start_time": "2022-03-15T20:53:06.679Z"
   },
   {
    "duration": 6,
    "start_time": "2022-03-15T20:53:07.124Z"
   },
   {
    "duration": 8,
    "start_time": "2022-03-15T21:22:26.166Z"
   },
   {
    "duration": 101,
    "start_time": "2022-03-15T21:22:27.363Z"
   },
   {
    "duration": 54,
    "start_time": "2022-03-15T21:22:37.912Z"
   },
   {
    "duration": 83,
    "start_time": "2022-03-15T21:22:38.479Z"
   },
   {
    "duration": 123,
    "start_time": "2022-03-15T21:22:47.434Z"
   },
   {
    "duration": 8,
    "start_time": "2022-03-15T21:23:55.849Z"
   },
   {
    "duration": 24379,
    "start_time": "2022-03-16T10:05:35.892Z"
   },
   {
    "duration": 1946,
    "start_time": "2022-03-16T10:06:00.275Z"
   },
   {
    "duration": 5,
    "start_time": "2022-03-16T10:06:02.225Z"
   },
   {
    "duration": 174,
    "start_time": "2022-03-16T10:06:02.234Z"
   },
   {
    "duration": 152,
    "start_time": "2022-03-16T10:06:02.411Z"
   },
   {
    "duration": 152,
    "start_time": "2022-03-16T10:06:02.566Z"
   },
   {
    "duration": 31,
    "start_time": "2022-03-16T10:06:02.720Z"
   },
   {
    "duration": 12,
    "start_time": "2022-03-16T10:06:02.754Z"
   },
   {
    "duration": 15,
    "start_time": "2022-03-16T10:06:02.769Z"
   },
   {
    "duration": 6,
    "start_time": "2022-03-16T10:06:02.787Z"
   },
   {
    "duration": 10,
    "start_time": "2022-03-16T10:06:02.796Z"
   },
   {
    "duration": 5,
    "start_time": "2022-03-16T10:06:02.809Z"
   },
   {
    "duration": 89,
    "start_time": "2022-03-16T10:06:02.817Z"
   },
   {
    "duration": 71,
    "start_time": "2022-03-16T10:06:02.909Z"
   },
   {
    "duration": 54,
    "start_time": "2022-03-16T10:06:02.982Z"
   },
   {
    "duration": 57,
    "start_time": "2022-03-16T10:06:03.039Z"
   },
   {
    "duration": 23,
    "start_time": "2022-03-16T10:06:03.099Z"
   },
   {
    "duration": 69,
    "start_time": "2022-03-16T10:06:03.125Z"
   },
   {
    "duration": 22,
    "start_time": "2022-03-16T10:06:03.196Z"
   },
   {
    "duration": 51,
    "start_time": "2022-03-16T10:06:03.220Z"
   },
   {
    "duration": 19,
    "start_time": "2022-03-16T10:06:03.274Z"
   },
   {
    "duration": 10,
    "start_time": "2022-03-16T10:06:03.295Z"
   },
   {
    "duration": 723,
    "start_time": "2022-03-16T10:06:03.309Z"
   },
   {
    "duration": 877,
    "start_time": "2022-03-16T10:06:03.158Z"
   },
   {
    "duration": 850,
    "start_time": "2022-03-16T10:06:03.187Z"
   },
   {
    "duration": 831,
    "start_time": "2022-03-16T10:06:03.208Z"
   },
   {
    "duration": 823,
    "start_time": "2022-03-16T10:06:03.217Z"
   },
   {
    "duration": 807,
    "start_time": "2022-03-16T10:06:03.235Z"
   },
   {
    "duration": 786,
    "start_time": "2022-03-16T10:06:03.257Z"
   },
   {
    "duration": 780,
    "start_time": "2022-03-16T10:06:03.265Z"
   },
   {
    "duration": 753,
    "start_time": "2022-03-16T10:06:03.293Z"
   },
   {
    "duration": 7,
    "start_time": "2022-03-16T10:06:31.623Z"
   },
   {
    "duration": 222,
    "start_time": "2022-03-16T10:06:33.030Z"
   },
   {
    "duration": 47,
    "start_time": "2022-03-16T10:06:38.611Z"
   },
   {
    "duration": 59,
    "start_time": "2022-03-16T10:06:42.700Z"
   },
   {
    "duration": 3,
    "start_time": "2022-03-16T10:07:57.824Z"
   },
   {
    "duration": 4,
    "start_time": "2022-03-16T10:07:58.142Z"
   },
   {
    "duration": 4,
    "start_time": "2022-03-16T10:07:58.371Z"
   },
   {
    "duration": 4,
    "start_time": "2022-03-16T10:07:58.942Z"
   },
   {
    "duration": 4,
    "start_time": "2022-03-16T10:08:00.201Z"
   },
   {
    "duration": 5,
    "start_time": "2022-03-16T10:08:00.570Z"
   },
   {
    "duration": 42,
    "start_time": "2022-03-16T10:09:38.540Z"
   },
   {
    "duration": 73,
    "start_time": "2022-03-16T10:09:53.380Z"
   },
   {
    "duration": 115,
    "start_time": "2022-03-16T10:09:59.047Z"
   },
   {
    "duration": 135,
    "start_time": "2022-03-16T10:10:17.822Z"
   },
   {
    "duration": 55,
    "start_time": "2022-03-16T10:10:24.401Z"
   },
   {
    "duration": 44,
    "start_time": "2022-03-16T10:10:28.622Z"
   },
   {
    "duration": 483,
    "start_time": "2022-03-16T10:12:01.340Z"
   },
   {
    "duration": 78,
    "start_time": "2022-03-16T10:12:27.580Z"
   },
   {
    "duration": 343,
    "start_time": "2022-03-16T10:13:07.723Z"
   },
   {
    "duration": 270,
    "start_time": "2022-03-16T10:13:50.780Z"
   },
   {
    "duration": 184,
    "start_time": "2022-03-16T10:13:55.380Z"
   },
   {
    "duration": 292,
    "start_time": "2022-03-16T10:14:05.218Z"
   },
   {
    "duration": 7,
    "start_time": "2022-03-16T10:14:37.773Z"
   },
   {
    "duration": 62,
    "start_time": "2022-03-16T10:14:38.594Z"
   },
   {
    "duration": 269,
    "start_time": "2022-03-16T10:16:30.483Z"
   },
   {
    "duration": 84,
    "start_time": "2022-03-16T10:16:35.673Z"
   },
   {
    "duration": 232,
    "start_time": "2022-03-16T10:16:47.323Z"
   },
   {
    "duration": 295,
    "start_time": "2022-03-16T10:17:01.713Z"
   },
   {
    "duration": 163,
    "start_time": "2022-03-16T10:17:16.993Z"
   },
   {
    "duration": 55,
    "start_time": "2022-03-16T10:20:41.003Z"
   },
   {
    "duration": 80,
    "start_time": "2022-03-16T10:20:42.478Z"
   },
   {
    "duration": 225,
    "start_time": "2022-03-16T10:20:48.827Z"
   },
   {
    "duration": 194,
    "start_time": "2022-03-16T10:21:38.457Z"
   },
   {
    "duration": 133,
    "start_time": "2022-03-16T10:21:53.417Z"
   },
   {
    "duration": 38,
    "start_time": "2022-03-16T10:21:53.898Z"
   },
   {
    "duration": 160,
    "start_time": "2022-03-16T10:22:42.075Z"
   },
   {
    "duration": 167,
    "start_time": "2022-03-16T10:22:51.293Z"
   },
   {
    "duration": 169,
    "start_time": "2022-03-16T10:23:05.055Z"
   },
   {
    "duration": 7,
    "start_time": "2022-03-16T10:23:34.834Z"
   },
   {
    "duration": 203,
    "start_time": "2022-03-16T10:24:11.536Z"
   },
   {
    "duration": 263,
    "start_time": "2022-03-16T10:24:44.736Z"
   },
   {
    "duration": 300,
    "start_time": "2022-03-16T10:28:23.895Z"
   },
   {
    "duration": 10627,
    "start_time": "2022-03-16T10:28:42.009Z"
   },
   {
    "duration": 2047,
    "start_time": "2022-03-16T10:28:52.640Z"
   },
   {
    "duration": 4,
    "start_time": "2022-03-16T10:28:54.690Z"
   },
   {
    "duration": 174,
    "start_time": "2022-03-16T10:28:54.696Z"
   },
   {
    "duration": 160,
    "start_time": "2022-03-16T10:28:54.873Z"
   },
   {
    "duration": 166,
    "start_time": "2022-03-16T10:28:55.036Z"
   },
   {
    "duration": 25,
    "start_time": "2022-03-16T10:28:55.206Z"
   },
   {
    "duration": 33,
    "start_time": "2022-03-16T10:28:55.236Z"
   },
   {
    "duration": 16,
    "start_time": "2022-03-16T10:28:55.273Z"
   },
   {
    "duration": 5,
    "start_time": "2022-03-16T10:28:55.291Z"
   },
   {
    "duration": 6,
    "start_time": "2022-03-16T10:28:55.298Z"
   },
   {
    "duration": 5,
    "start_time": "2022-03-16T10:28:55.306Z"
   },
   {
    "duration": 76,
    "start_time": "2022-03-16T10:28:55.314Z"
   },
   {
    "duration": 61,
    "start_time": "2022-03-16T10:28:55.393Z"
   },
   {
    "duration": 44,
    "start_time": "2022-03-16T10:28:55.457Z"
   },
   {
    "duration": 62,
    "start_time": "2022-03-16T10:28:55.504Z"
   },
   {
    "duration": 18,
    "start_time": "2022-03-16T10:28:55.569Z"
   },
   {
    "duration": 63,
    "start_time": "2022-03-16T10:28:55.590Z"
   },
   {
    "duration": 23,
    "start_time": "2022-03-16T10:28:55.656Z"
   },
   {
    "duration": 32,
    "start_time": "2022-03-16T10:28:55.682Z"
   },
   {
    "duration": 48,
    "start_time": "2022-03-16T10:28:55.716Z"
   },
   {
    "duration": 9,
    "start_time": "2022-03-16T10:28:55.767Z"
   },
   {
    "duration": 80,
    "start_time": "2022-03-16T10:28:55.781Z"
   },
   {
    "duration": 191,
    "start_time": "2022-03-16T10:28:55.864Z"
   },
   {
    "duration": 199,
    "start_time": "2022-03-16T10:28:56.057Z"
   },
   {
    "duration": 6,
    "start_time": "2022-03-16T10:28:56.258Z"
   },
   {
    "duration": 89,
    "start_time": "2022-03-16T10:28:56.267Z"
   },
   {
    "duration": 9,
    "start_time": "2022-03-16T10:28:56.359Z"
   },
   {
    "duration": 15,
    "start_time": "2022-03-16T10:28:56.371Z"
   },
   {
    "duration": 5,
    "start_time": "2022-03-16T10:28:56.388Z"
   },
   {
    "duration": 5,
    "start_time": "2022-03-16T10:28:56.395Z"
   },
   {
    "duration": 153,
    "start_time": "2022-03-16T10:28:56.403Z"
   },
   {
    "duration": 559,
    "start_time": "2022-03-16T10:28:56.559Z"
   },
   {
    "duration": 7,
    "start_time": "2022-03-16T10:30:06.050Z"
   },
   {
    "duration": 217,
    "start_time": "2022-03-16T10:31:03.038Z"
   },
   {
    "duration": 109,
    "start_time": "2022-03-16T10:31:16.851Z"
   },
   {
    "duration": 101,
    "start_time": "2022-03-16T10:31:18.052Z"
   },
   {
    "duration": 67,
    "start_time": "2022-03-16T11:06:52.089Z"
   },
   {
    "duration": 11409,
    "start_time": "2022-03-16T11:07:49.106Z"
   },
   {
    "duration": 2258,
    "start_time": "2022-03-16T11:08:00.519Z"
   },
   {
    "duration": 4,
    "start_time": "2022-03-16T11:08:02.781Z"
   },
   {
    "duration": 181,
    "start_time": "2022-03-16T11:08:02.788Z"
   },
   {
    "duration": 215,
    "start_time": "2022-03-16T11:08:02.973Z"
   },
   {
    "duration": 225,
    "start_time": "2022-03-16T11:08:03.191Z"
   },
   {
    "duration": 34,
    "start_time": "2022-03-16T11:08:03.419Z"
   },
   {
    "duration": 16,
    "start_time": "2022-03-16T11:08:03.458Z"
   },
   {
    "duration": 14,
    "start_time": "2022-03-16T11:08:03.477Z"
   },
   {
    "duration": 5,
    "start_time": "2022-03-16T11:08:03.494Z"
   },
   {
    "duration": 6,
    "start_time": "2022-03-16T11:08:03.501Z"
   },
   {
    "duration": 5,
    "start_time": "2022-03-16T11:08:03.553Z"
   },
   {
    "duration": 71,
    "start_time": "2022-03-16T11:08:03.561Z"
   },
   {
    "duration": 62,
    "start_time": "2022-03-16T11:08:03.635Z"
   },
   {
    "duration": 58,
    "start_time": "2022-03-16T11:08:03.700Z"
   },
   {
    "duration": 39,
    "start_time": "2022-03-16T11:08:03.761Z"
   },
   {
    "duration": 25,
    "start_time": "2022-03-16T11:08:03.804Z"
   },
   {
    "duration": 54,
    "start_time": "2022-03-16T11:08:03.853Z"
   },
   {
    "duration": 49,
    "start_time": "2022-03-16T11:08:03.910Z"
   },
   {
    "duration": 47,
    "start_time": "2022-03-16T11:08:03.962Z"
   },
   {
    "duration": 40,
    "start_time": "2022-03-16T11:08:04.011Z"
   },
   {
    "duration": 23,
    "start_time": "2022-03-16T11:08:04.054Z"
   },
   {
    "duration": 77,
    "start_time": "2022-03-16T11:08:04.084Z"
   },
   {
    "duration": 199,
    "start_time": "2022-03-16T11:08:04.165Z"
   },
   {
    "duration": 204,
    "start_time": "2022-03-16T11:08:04.367Z"
   },
   {
    "duration": 5,
    "start_time": "2022-03-16T11:08:04.574Z"
   },
   {
    "duration": 83,
    "start_time": "2022-03-16T11:08:04.581Z"
   },
   {
    "duration": 83,
    "start_time": "2022-03-16T11:08:04.668Z"
   },
   {
    "duration": 3,
    "start_time": "2022-03-16T11:08:04.754Z"
   },
   {
    "duration": 8,
    "start_time": "2022-03-16T11:08:04.760Z"
   },
   {
    "duration": 12,
    "start_time": "2022-03-16T11:08:04.771Z"
   },
   {
    "duration": 55,
    "start_time": "2022-03-16T11:08:04.786Z"
   },
   {
    "duration": 957,
    "start_time": "2022-03-16T11:08:03.886Z"
   },
   {
    "duration": 942,
    "start_time": "2022-03-16T11:08:03.903Z"
   },
   {
    "duration": 4,
    "start_time": "2022-03-16T11:09:23.308Z"
   },
   {
    "duration": 4,
    "start_time": "2022-03-16T11:09:27.469Z"
   },
   {
    "duration": 50,
    "start_time": "2022-03-16T11:10:21.789Z"
   },
   {
    "duration": 345,
    "start_time": "2022-03-16T11:10:28.518Z"
   },
   {
    "duration": 58,
    "start_time": "2022-03-16T11:10:48.617Z"
   },
   {
    "duration": 298,
    "start_time": "2022-03-16T11:10:48.968Z"
   },
   {
    "duration": 4,
    "start_time": "2022-03-16T11:11:04.670Z"
   },
   {
    "duration": 380,
    "start_time": "2022-03-16T11:11:05.071Z"
   },
   {
    "duration": 4,
    "start_time": "2022-03-16T11:11:35.099Z"
   },
   {
    "duration": 420,
    "start_time": "2022-03-16T11:11:35.938Z"
   },
   {
    "duration": 4,
    "start_time": "2022-03-16T11:12:45.519Z"
   },
   {
    "duration": 397,
    "start_time": "2022-03-16T11:12:46.378Z"
   },
   {
    "duration": 4,
    "start_time": "2022-03-16T11:14:54.273Z"
   },
   {
    "duration": 429,
    "start_time": "2022-03-16T11:14:55.124Z"
   },
   {
    "duration": 4,
    "start_time": "2022-03-16T11:15:42.503Z"
   },
   {
    "duration": 393,
    "start_time": "2022-03-16T11:15:43.060Z"
   },
   {
    "duration": 6,
    "start_time": "2022-03-16T11:16:13.224Z"
   },
   {
    "duration": 413,
    "start_time": "2022-03-16T11:16:14.440Z"
   },
   {
    "duration": 5,
    "start_time": "2022-03-16T11:16:44.580Z"
   },
   {
    "duration": 311,
    "start_time": "2022-03-16T11:16:45.342Z"
   },
   {
    "duration": 5,
    "start_time": "2022-03-16T11:17:39.021Z"
   },
   {
    "duration": 404,
    "start_time": "2022-03-16T11:17:39.650Z"
   },
   {
    "duration": 6,
    "start_time": "2022-03-16T11:18:51.661Z"
   },
   {
    "duration": 393,
    "start_time": "2022-03-16T11:18:52.560Z"
   },
   {
    "duration": 6,
    "start_time": "2022-03-16T11:19:23.948Z"
   },
   {
    "duration": 273,
    "start_time": "2022-03-16T11:19:24.580Z"
   },
   {
    "duration": 7,
    "start_time": "2022-03-16T11:21:36.190Z"
   },
   {
    "duration": 531,
    "start_time": "2022-03-16T11:21:40.131Z"
   },
   {
    "duration": 6,
    "start_time": "2022-03-16T11:22:14.241Z"
   },
   {
    "duration": 487,
    "start_time": "2022-03-16T11:22:15.470Z"
   },
   {
    "duration": 6,
    "start_time": "2022-03-16T11:22:32.589Z"
   },
   {
    "duration": 415,
    "start_time": "2022-03-16T11:22:33.562Z"
   },
   {
    "duration": 5,
    "start_time": "2022-03-16T12:26:44.388Z"
   },
   {
    "duration": 414,
    "start_time": "2022-03-16T12:26:45.237Z"
   },
   {
    "duration": 6,
    "start_time": "2022-03-16T12:27:15.358Z"
   },
   {
    "duration": 258,
    "start_time": "2022-03-16T12:27:15.900Z"
   },
   {
    "duration": 6,
    "start_time": "2022-03-16T12:27:34.679Z"
   },
   {
    "duration": 320,
    "start_time": "2022-03-16T12:27:35.238Z"
   },
   {
    "duration": 6,
    "start_time": "2022-03-16T12:28:02.748Z"
   },
   {
    "duration": 403,
    "start_time": "2022-03-16T12:28:03.359Z"
   },
   {
    "duration": 4,
    "start_time": "2022-03-16T12:28:18.440Z"
   },
   {
    "duration": 262,
    "start_time": "2022-03-16T12:28:19.108Z"
   },
   {
    "duration": 5,
    "start_time": "2022-03-16T12:32:28.830Z"
   },
   {
    "duration": 390,
    "start_time": "2022-03-16T12:32:29.469Z"
   },
   {
    "duration": 6,
    "start_time": "2022-03-16T12:34:08.531Z"
   },
   {
    "duration": 403,
    "start_time": "2022-03-16T12:34:09.351Z"
   },
   {
    "duration": 5,
    "start_time": "2022-03-16T12:34:40.945Z"
   },
   {
    "duration": 329,
    "start_time": "2022-03-16T12:34:42.124Z"
   },
   {
    "duration": 10195,
    "start_time": "2022-03-16T12:50:10.703Z"
   },
   {
    "duration": 1989,
    "start_time": "2022-03-16T12:50:20.902Z"
   },
   {
    "duration": 3,
    "start_time": "2022-03-16T12:50:22.895Z"
   },
   {
    "duration": 161,
    "start_time": "2022-03-16T12:50:22.901Z"
   },
   {
    "duration": 147,
    "start_time": "2022-03-16T12:50:23.065Z"
   },
   {
    "duration": 155,
    "start_time": "2022-03-16T12:50:23.215Z"
   },
   {
    "duration": 17,
    "start_time": "2022-03-16T12:50:23.373Z"
   },
   {
    "duration": 13,
    "start_time": "2022-03-16T12:50:23.396Z"
   },
   {
    "duration": 47,
    "start_time": "2022-03-16T12:50:23.413Z"
   },
   {
    "duration": 6,
    "start_time": "2022-03-16T12:50:23.463Z"
   },
   {
    "duration": 7,
    "start_time": "2022-03-16T12:50:23.472Z"
   },
   {
    "duration": 8,
    "start_time": "2022-03-16T12:50:23.481Z"
   },
   {
    "duration": 89,
    "start_time": "2022-03-16T12:50:23.492Z"
   },
   {
    "duration": 52,
    "start_time": "2022-03-16T12:50:23.583Z"
   },
   {
    "duration": 52,
    "start_time": "2022-03-16T12:50:23.652Z"
   },
   {
    "duration": 65,
    "start_time": "2022-03-16T12:50:23.707Z"
   },
   {
    "duration": 24,
    "start_time": "2022-03-16T12:50:23.775Z"
   },
   {
    "duration": 55,
    "start_time": "2022-03-16T12:50:23.801Z"
   },
   {
    "duration": 17,
    "start_time": "2022-03-16T12:50:23.858Z"
   },
   {
    "duration": 33,
    "start_time": "2022-03-16T12:50:23.877Z"
   },
   {
    "duration": 42,
    "start_time": "2022-03-16T12:50:23.912Z"
   },
   {
    "duration": 7,
    "start_time": "2022-03-16T12:50:23.957Z"
   },
   {
    "duration": 89,
    "start_time": "2022-03-16T12:50:23.968Z"
   },
   {
    "duration": 196,
    "start_time": "2022-03-16T12:50:24.061Z"
   },
   {
    "duration": 195,
    "start_time": "2022-03-16T12:50:24.261Z"
   },
   {
    "duration": 94,
    "start_time": "2022-03-16T12:50:24.459Z"
   },
   {
    "duration": 12,
    "start_time": "2022-03-16T12:50:24.556Z"
   },
   {
    "duration": 8,
    "start_time": "2022-03-16T12:50:24.571Z"
   },
   {
    "duration": 8,
    "start_time": "2022-03-16T12:50:24.582Z"
   },
   {
    "duration": 6,
    "start_time": "2022-03-16T12:50:24.593Z"
   },
   {
    "duration": 9,
    "start_time": "2022-03-16T12:50:24.601Z"
   },
   {
    "duration": 7,
    "start_time": "2022-03-16T12:50:24.612Z"
   },
   {
    "duration": 332,
    "start_time": "2022-03-16T12:50:24.621Z"
   },
   {
    "duration": 290,
    "start_time": "2022-03-16T12:50:24.956Z"
   },
   {
    "duration": 5,
    "start_time": "2022-03-16T12:52:01.953Z"
   },
   {
    "duration": 269,
    "start_time": "2022-03-16T12:52:02.591Z"
   },
   {
    "duration": 5,
    "start_time": "2022-03-16T12:52:24.751Z"
   },
   {
    "duration": 271,
    "start_time": "2022-03-16T12:52:25.482Z"
   },
   {
    "duration": 6,
    "start_time": "2022-03-16T12:52:57.881Z"
   },
   {
    "duration": 351,
    "start_time": "2022-03-16T12:52:58.702Z"
   },
   {
    "duration": 6,
    "start_time": "2022-03-16T12:53:50.691Z"
   },
   {
    "duration": 5,
    "start_time": "2022-03-16T12:55:18.622Z"
   },
   {
    "duration": 305,
    "start_time": "2022-03-16T12:55:19.248Z"
   },
   {
    "duration": 5,
    "start_time": "2022-03-16T12:56:55.187Z"
   },
   {
    "duration": 174,
    "start_time": "2022-03-16T12:56:55.195Z"
   },
   {
    "duration": 9154,
    "start_time": "2022-03-16T12:57:17.364Z"
   },
   {
    "duration": 2250,
    "start_time": "2022-03-16T12:57:26.522Z"
   },
   {
    "duration": 5,
    "start_time": "2022-03-16T12:57:28.776Z"
   },
   {
    "duration": 161,
    "start_time": "2022-03-16T12:57:28.784Z"
   },
   {
    "duration": 152,
    "start_time": "2022-03-16T12:57:28.948Z"
   },
   {
    "duration": 150,
    "start_time": "2022-03-16T12:57:29.103Z"
   },
   {
    "duration": 19,
    "start_time": "2022-03-16T12:57:29.255Z"
   },
   {
    "duration": 19,
    "start_time": "2022-03-16T12:57:29.276Z"
   },
   {
    "duration": 13,
    "start_time": "2022-03-16T12:57:29.300Z"
   },
   {
    "duration": 35,
    "start_time": "2022-03-16T12:57:29.316Z"
   },
   {
    "duration": 3,
    "start_time": "2022-03-16T12:57:29.354Z"
   },
   {
    "duration": 7,
    "start_time": "2022-03-16T12:57:29.359Z"
   },
   {
    "duration": 40,
    "start_time": "2022-03-16T12:57:29.369Z"
   },
   {
    "duration": 72,
    "start_time": "2022-03-16T12:57:29.412Z"
   },
   {
    "duration": 42,
    "start_time": "2022-03-16T12:57:29.486Z"
   },
   {
    "duration": 52,
    "start_time": "2022-03-16T12:57:29.531Z"
   },
   {
    "duration": 17,
    "start_time": "2022-03-16T12:57:29.585Z"
   },
   {
    "duration": 54,
    "start_time": "2022-03-16T12:57:29.605Z"
   },
   {
    "duration": 22,
    "start_time": "2022-03-16T12:57:29.663Z"
   },
   {
    "duration": 63,
    "start_time": "2022-03-16T12:57:29.688Z"
   },
   {
    "duration": 29,
    "start_time": "2022-03-16T12:57:29.754Z"
   },
   {
    "duration": 12,
    "start_time": "2022-03-16T12:57:29.785Z"
   },
   {
    "duration": 67,
    "start_time": "2022-03-16T12:57:29.800Z"
   },
   {
    "duration": 289,
    "start_time": "2022-03-16T12:57:29.869Z"
   },
   {
    "duration": 191,
    "start_time": "2022-03-16T12:57:30.162Z"
   },
   {
    "duration": 5,
    "start_time": "2022-03-16T12:57:30.356Z"
   },
   {
    "duration": 9,
    "start_time": "2022-03-16T12:57:30.456Z"
   },
   {
    "duration": 24,
    "start_time": "2022-03-16T12:57:30.468Z"
   },
   {
    "duration": 8,
    "start_time": "2022-03-16T12:57:30.494Z"
   },
   {
    "duration": 14,
    "start_time": "2022-03-16T12:57:30.504Z"
   },
   {
    "duration": 9,
    "start_time": "2022-03-16T12:57:30.520Z"
   },
   {
    "duration": 23,
    "start_time": "2022-03-16T12:57:30.532Z"
   },
   {
    "duration": 384,
    "start_time": "2022-03-16T12:57:30.557Z"
   },
   {
    "duration": 1054,
    "start_time": "2022-03-16T12:57:29.890Z"
   },
   {
    "duration": 330,
    "start_time": "2022-03-16T12:57:47.827Z"
   },
   {
    "duration": 5,
    "start_time": "2022-03-16T12:58:29.431Z"
   },
   {
    "duration": 302,
    "start_time": "2022-03-16T12:58:29.773Z"
   },
   {
    "duration": 172,
    "start_time": "2022-03-16T12:59:20.350Z"
   },
   {
    "duration": 5,
    "start_time": "2022-03-16T12:59:27.482Z"
   },
   {
    "duration": 314,
    "start_time": "2022-03-16T12:59:28.239Z"
   },
   {
    "duration": 6,
    "start_time": "2022-03-16T12:59:35.391Z"
   },
   {
    "duration": 343,
    "start_time": "2022-03-16T12:59:36.110Z"
   },
   {
    "duration": 437,
    "start_time": "2022-03-16T13:15:03.816Z"
   },
   {
    "duration": 353,
    "start_time": "2022-03-16T13:15:04.500Z"
   },
   {
    "duration": 324,
    "start_time": "2022-03-16T13:15:05.630Z"
   },
   {
    "duration": 63,
    "start_time": "2022-03-17T11:04:04.689Z"
   },
   {
    "duration": 4,
    "start_time": "2022-03-17T11:05:09.775Z"
   },
   {
    "duration": 1882,
    "start_time": "2022-03-17T11:05:09.785Z"
   },
   {
    "duration": 4,
    "start_time": "2022-03-17T11:05:11.669Z"
   },
   {
    "duration": 154,
    "start_time": "2022-03-17T11:05:11.675Z"
   },
   {
    "duration": 135,
    "start_time": "2022-03-17T11:05:11.832Z"
   },
   {
    "duration": 135,
    "start_time": "2022-03-17T11:05:11.969Z"
   },
   {
    "duration": 16,
    "start_time": "2022-03-17T11:05:12.106Z"
   },
   {
    "duration": 12,
    "start_time": "2022-03-17T11:05:12.136Z"
   },
   {
    "duration": 20,
    "start_time": "2022-03-17T11:05:12.150Z"
   },
   {
    "duration": 5,
    "start_time": "2022-03-17T11:05:12.173Z"
   },
   {
    "duration": 7,
    "start_time": "2022-03-17T11:05:12.182Z"
   },
   {
    "duration": 10,
    "start_time": "2022-03-17T11:05:12.191Z"
   },
   {
    "duration": 59,
    "start_time": "2022-03-17T11:05:12.204Z"
   },
   {
    "duration": 53,
    "start_time": "2022-03-17T11:05:12.265Z"
   },
   {
    "duration": 49,
    "start_time": "2022-03-17T11:05:12.320Z"
   },
   {
    "duration": 32,
    "start_time": "2022-03-17T11:05:12.371Z"
   },
   {
    "duration": 30,
    "start_time": "2022-03-17T11:05:12.405Z"
   },
   {
    "duration": 35,
    "start_time": "2022-03-17T11:05:12.437Z"
   },
   {
    "duration": 23,
    "start_time": "2022-03-17T11:05:12.475Z"
   },
   {
    "duration": 65,
    "start_time": "2022-03-17T11:05:12.501Z"
   },
   {
    "duration": 20,
    "start_time": "2022-03-17T11:05:12.568Z"
   },
   {
    "duration": 6,
    "start_time": "2022-03-17T11:05:12.590Z"
   },
   {
    "duration": 59,
    "start_time": "2022-03-17T11:05:12.597Z"
   },
   {
    "duration": 195,
    "start_time": "2022-03-17T11:05:12.658Z"
   },
   {
    "duration": 294,
    "start_time": "2022-03-17T11:05:12.855Z"
   },
   {
    "duration": 7,
    "start_time": "2022-03-17T11:05:13.231Z"
   },
   {
    "duration": 16,
    "start_time": "2022-03-17T11:05:13.240Z"
   },
   {
    "duration": 8,
    "start_time": "2022-03-17T11:05:13.259Z"
   },
   {
    "duration": 3,
    "start_time": "2022-03-17T11:05:13.272Z"
   },
   {
    "duration": 5,
    "start_time": "2022-03-17T11:05:13.277Z"
   },
   {
    "duration": 6,
    "start_time": "2022-03-17T11:05:13.285Z"
   },
   {
    "duration": 9,
    "start_time": "2022-03-17T11:05:13.293Z"
   },
   {
    "duration": 247,
    "start_time": "2022-03-17T11:05:13.304Z"
   },
   {
    "duration": 288,
    "start_time": "2022-03-17T11:05:13.553Z"
   },
   {
    "duration": 318,
    "start_time": "2022-03-17T11:05:13.843Z"
   },
   {
    "duration": 345828,
    "start_time": "2022-03-17T11:05:14.240Z"
   },
   {
    "duration": 5,
    "start_time": "2022-03-17T11:13:24.333Z"
   },
   {
    "duration": 4,
    "start_time": "2022-03-17T11:13:25.852Z"
   },
   {
    "duration": 310,
    "start_time": "2022-03-17T11:13:28.334Z"
   },
   {
    "duration": 4,
    "start_time": "2022-03-17T11:13:29.772Z"
   },
   {
    "duration": 271,
    "start_time": "2022-03-17T11:13:31.871Z"
   },
   {
    "duration": 217,
    "start_time": "2022-03-17T11:13:33.131Z"
   },
   {
    "duration": 268,
    "start_time": "2022-03-17T11:13:34.272Z"
   },
   {
    "duration": 4,
    "start_time": "2022-03-17T11:15:13.855Z"
   },
   {
    "duration": 1742,
    "start_time": "2022-03-17T11:15:13.861Z"
   },
   {
    "duration": 3,
    "start_time": "2022-03-17T11:15:15.605Z"
   },
   {
    "duration": 197,
    "start_time": "2022-03-17T11:15:15.610Z"
   },
   {
    "duration": 139,
    "start_time": "2022-03-17T11:15:15.809Z"
   },
   {
    "duration": 141,
    "start_time": "2022-03-17T11:15:15.951Z"
   },
   {
    "duration": 14,
    "start_time": "2022-03-17T11:15:16.095Z"
   },
   {
    "duration": 28,
    "start_time": "2022-03-17T11:15:16.111Z"
   },
   {
    "duration": 26,
    "start_time": "2022-03-17T11:15:16.141Z"
   },
   {
    "duration": 16,
    "start_time": "2022-03-17T11:15:16.169Z"
   },
   {
    "duration": 16,
    "start_time": "2022-03-17T11:15:16.187Z"
   },
   {
    "duration": 22,
    "start_time": "2022-03-17T11:15:16.206Z"
   },
   {
    "duration": 58,
    "start_time": "2022-03-17T11:15:16.235Z"
   },
   {
    "duration": 43,
    "start_time": "2022-03-17T11:15:16.295Z"
   },
   {
    "duration": 44,
    "start_time": "2022-03-17T11:15:16.343Z"
   },
   {
    "duration": 56,
    "start_time": "2022-03-17T11:15:16.389Z"
   },
   {
    "duration": 34,
    "start_time": "2022-03-17T11:15:16.448Z"
   },
   {
    "duration": 36,
    "start_time": "2022-03-17T11:15:16.484Z"
   },
   {
    "duration": 21,
    "start_time": "2022-03-17T11:15:16.522Z"
   },
   {
    "duration": 42,
    "start_time": "2022-03-17T11:15:16.545Z"
   },
   {
    "duration": 28,
    "start_time": "2022-03-17T11:15:16.589Z"
   },
   {
    "duration": 29,
    "start_time": "2022-03-17T11:15:16.619Z"
   },
   {
    "duration": 91,
    "start_time": "2022-03-17T11:15:16.649Z"
   },
   {
    "duration": 207,
    "start_time": "2022-03-17T11:15:16.745Z"
   },
   {
    "duration": 186,
    "start_time": "2022-03-17T11:15:16.956Z"
   },
   {
    "duration": 103,
    "start_time": "2022-03-17T11:15:17.150Z"
   },
   {
    "duration": 18,
    "start_time": "2022-03-17T11:15:17.255Z"
   },
   {
    "duration": 33,
    "start_time": "2022-03-17T11:15:17.274Z"
   },
   {
    "duration": 18,
    "start_time": "2022-03-17T11:15:17.309Z"
   },
   {
    "duration": 36,
    "start_time": "2022-03-17T11:15:17.329Z"
   },
   {
    "duration": 30,
    "start_time": "2022-03-17T11:15:17.367Z"
   },
   {
    "duration": 7,
    "start_time": "2022-03-17T11:15:17.399Z"
   },
   {
    "duration": 42,
    "start_time": "2022-03-17T11:15:17.408Z"
   },
   {
    "duration": 207,
    "start_time": "2022-03-17T11:15:17.452Z"
   },
   {
    "duration": 324,
    "start_time": "2022-03-17T11:15:17.732Z"
   },
   {
    "duration": 479,
    "start_time": "2022-03-17T11:15:18.058Z"
   },
   {
    "duration": 344094,
    "start_time": "2022-03-17T11:15:18.545Z"
   },
   {
    "duration": 284,
    "start_time": "2022-03-17T11:52:13.818Z"
   },
   {
    "duration": 190,
    "start_time": "2022-03-17T11:53:06.727Z"
   },
   {
    "duration": 5,
    "start_time": "2022-03-17T11:54:10.198Z"
   },
   {
    "duration": 340,
    "start_time": "2022-03-17T11:54:11.795Z"
   },
   {
    "duration": 5,
    "start_time": "2022-03-17T11:54:58.278Z"
   },
   {
    "duration": 233,
    "start_time": "2022-03-17T11:54:59.211Z"
   },
   {
    "duration": 5,
    "start_time": "2022-03-17T11:56:49.072Z"
   },
   {
    "duration": 188,
    "start_time": "2022-03-17T11:56:50.163Z"
   },
   {
    "duration": 5,
    "start_time": "2022-03-17T11:57:42.193Z"
   },
   {
    "duration": 4,
    "start_time": "2022-03-17T11:59:09.148Z"
   },
   {
    "duration": 1717,
    "start_time": "2022-03-17T11:59:09.156Z"
   },
   {
    "duration": 3,
    "start_time": "2022-03-17T11:59:10.875Z"
   },
   {
    "duration": 169,
    "start_time": "2022-03-17T11:59:10.879Z"
   },
   {
    "duration": 136,
    "start_time": "2022-03-17T11:59:11.050Z"
   },
   {
    "duration": 137,
    "start_time": "2022-03-17T11:59:11.188Z"
   },
   {
    "duration": 21,
    "start_time": "2022-03-17T11:59:11.327Z"
   },
   {
    "duration": 17,
    "start_time": "2022-03-17T11:59:11.350Z"
   },
   {
    "duration": 14,
    "start_time": "2022-03-17T11:59:11.368Z"
   },
   {
    "duration": 7,
    "start_time": "2022-03-17T11:59:11.384Z"
   },
   {
    "duration": 6,
    "start_time": "2022-03-17T11:59:11.394Z"
   },
   {
    "duration": 8,
    "start_time": "2022-03-17T11:59:11.402Z"
   },
   {
    "duration": 53,
    "start_time": "2022-03-17T11:59:11.412Z"
   },
   {
    "duration": 37,
    "start_time": "2022-03-17T11:59:11.466Z"
   },
   {
    "duration": 52,
    "start_time": "2022-03-17T11:59:11.505Z"
   },
   {
    "duration": 29,
    "start_time": "2022-03-17T11:59:11.559Z"
   },
   {
    "duration": 15,
    "start_time": "2022-03-17T11:59:11.590Z"
   },
   {
    "duration": 54,
    "start_time": "2022-03-17T11:59:11.606Z"
   },
   {
    "duration": 19,
    "start_time": "2022-03-17T11:59:11.662Z"
   },
   {
    "duration": 33,
    "start_time": "2022-03-17T11:59:11.683Z"
   },
   {
    "duration": 33,
    "start_time": "2022-03-17T11:59:11.718Z"
   },
   {
    "duration": 6,
    "start_time": "2022-03-17T11:59:11.752Z"
   },
   {
    "duration": 75,
    "start_time": "2022-03-17T11:59:11.759Z"
   },
   {
    "duration": 202,
    "start_time": "2022-03-17T11:59:11.836Z"
   },
   {
    "duration": 204,
    "start_time": "2022-03-17T11:59:12.043Z"
   },
   {
    "duration": 4,
    "start_time": "2022-03-17T11:59:12.250Z"
   },
   {
    "duration": 105,
    "start_time": "2022-03-17T11:59:12.256Z"
   },
   {
    "duration": 9,
    "start_time": "2022-03-17T11:59:12.363Z"
   },
   {
    "duration": 8,
    "start_time": "2022-03-17T11:59:12.377Z"
   },
   {
    "duration": 7,
    "start_time": "2022-03-17T11:59:12.386Z"
   },
   {
    "duration": 7,
    "start_time": "2022-03-17T11:59:12.395Z"
   },
   {
    "duration": 9,
    "start_time": "2022-03-17T11:59:12.403Z"
   },
   {
    "duration": 8,
    "start_time": "2022-03-17T11:59:12.413Z"
   },
   {
    "duration": 212,
    "start_time": "2022-03-17T11:59:12.423Z"
   },
   {
    "duration": 320,
    "start_time": "2022-03-17T11:59:12.636Z"
   },
   {
    "duration": 329,
    "start_time": "2022-03-17T11:59:13.031Z"
   },
   {
    "duration": 10,
    "start_time": "2022-03-17T11:59:13.432Z"
   },
   {
    "duration": 340296,
    "start_time": "2022-03-17T11:59:13.444Z"
   },
   {
    "duration": 8,
    "start_time": "2022-03-17T12:17:26.468Z"
   },
   {
    "duration": 34385,
    "start_time": "2022-03-17T12:17:27.266Z"
   },
   {
    "duration": 5,
    "start_time": "2022-03-17T12:18:50.513Z"
   },
   {
    "duration": 33545,
    "start_time": "2022-03-17T12:18:51.091Z"
   },
   {
    "duration": 7,
    "start_time": "2022-03-17T12:20:18.004Z"
   },
   {
    "duration": 33528,
    "start_time": "2022-03-17T12:20:19.632Z"
   },
   {
    "duration": 7,
    "start_time": "2022-03-17T12:21:53.233Z"
   },
   {
    "duration": 34214,
    "start_time": "2022-03-17T12:21:53.952Z"
   },
   {
    "duration": 5,
    "start_time": "2022-03-17T12:23:02.978Z"
   },
   {
    "duration": 33083,
    "start_time": "2022-03-17T12:23:06.768Z"
   },
   {
    "duration": 90,
    "start_time": "2022-03-17T12:30:07.346Z"
   },
   {
    "duration": 5,
    "start_time": "2022-03-17T12:31:17.392Z"
   },
   {
    "duration": 0,
    "start_time": "2022-03-17T12:31:52.047Z"
   },
   {
    "duration": 0,
    "start_time": "2022-03-17T12:31:52.049Z"
   },
   {
    "duration": 4,
    "start_time": "2022-03-17T12:32:05.123Z"
   },
   {
    "duration": 1825,
    "start_time": "2022-03-17T12:32:05.155Z"
   },
   {
    "duration": 3,
    "start_time": "2022-03-17T12:32:06.983Z"
   },
   {
    "duration": 160,
    "start_time": "2022-03-17T12:32:06.988Z"
   },
   {
    "duration": 133,
    "start_time": "2022-03-17T12:32:07.150Z"
   },
   {
    "duration": 139,
    "start_time": "2022-03-17T12:32:07.286Z"
   },
   {
    "duration": 21,
    "start_time": "2022-03-17T12:32:07.427Z"
   },
   {
    "duration": 17,
    "start_time": "2022-03-17T12:32:07.450Z"
   },
   {
    "duration": 14,
    "start_time": "2022-03-17T12:32:07.468Z"
   },
   {
    "duration": 5,
    "start_time": "2022-03-17T12:32:07.483Z"
   },
   {
    "duration": 6,
    "start_time": "2022-03-17T12:32:07.490Z"
   },
   {
    "duration": 11,
    "start_time": "2022-03-17T12:32:07.498Z"
   },
   {
    "duration": 68,
    "start_time": "2022-03-17T12:32:07.511Z"
   },
   {
    "duration": 38,
    "start_time": "2022-03-17T12:32:07.581Z"
   },
   {
    "duration": 35,
    "start_time": "2022-03-17T12:32:07.636Z"
   },
   {
    "duration": 32,
    "start_time": "2022-03-17T12:32:07.673Z"
   },
   {
    "duration": 39,
    "start_time": "2022-03-17T12:32:07.707Z"
   },
   {
    "duration": 31,
    "start_time": "2022-03-17T12:32:07.748Z"
   },
   {
    "duration": 16,
    "start_time": "2022-03-17T12:32:07.781Z"
   },
   {
    "duration": 57,
    "start_time": "2022-03-17T12:32:07.799Z"
   },
   {
    "duration": 17,
    "start_time": "2022-03-17T12:32:07.858Z"
   },
   {
    "duration": 8,
    "start_time": "2022-03-17T12:32:07.877Z"
   },
   {
    "duration": 67,
    "start_time": "2022-03-17T12:32:07.887Z"
   },
   {
    "duration": 179,
    "start_time": "2022-03-17T12:32:07.955Z"
   },
   {
    "duration": 197,
    "start_time": "2022-03-17T12:32:08.136Z"
   },
   {
    "duration": 6,
    "start_time": "2022-03-17T12:32:08.339Z"
   },
   {
    "duration": 96,
    "start_time": "2022-03-17T12:32:08.353Z"
   },
   {
    "duration": 7,
    "start_time": "2022-03-17T12:32:08.451Z"
   },
   {
    "duration": 6,
    "start_time": "2022-03-17T12:32:08.460Z"
   },
   {
    "duration": 8,
    "start_time": "2022-03-17T12:32:08.468Z"
   },
   {
    "duration": 6,
    "start_time": "2022-03-17T12:32:08.479Z"
   },
   {
    "duration": 6,
    "start_time": "2022-03-17T12:32:08.487Z"
   },
   {
    "duration": 6,
    "start_time": "2022-03-17T12:32:08.495Z"
   },
   {
    "duration": 242,
    "start_time": "2022-03-17T12:32:08.503Z"
   },
   {
    "duration": 387,
    "start_time": "2022-03-17T12:32:08.748Z"
   },
   {
    "duration": 403,
    "start_time": "2022-03-17T12:32:09.136Z"
   },
   {
    "duration": 93,
    "start_time": "2022-03-17T12:32:09.542Z"
   },
   {
    "duration": 32916,
    "start_time": "2022-03-17T12:32:09.641Z"
   },
   {
    "duration": 7,
    "start_time": "2022-03-17T12:34:08.204Z"
   },
   {
    "duration": 34418,
    "start_time": "2022-03-17T12:34:08.959Z"
   },
   {
    "duration": 5,
    "start_time": "2022-03-17T12:40:30.115Z"
   },
   {
    "duration": 340249,
    "start_time": "2022-03-17T12:40:31.013Z"
   },
   {
    "duration": 6,
    "start_time": "2022-03-17T12:55:03.585Z"
   },
   {
    "duration": 3788,
    "start_time": "2022-03-17T12:55:04.362Z"
   },
   {
    "duration": 5,
    "start_time": "2022-03-17T12:55:20.868Z"
   },
   {
    "duration": 3893,
    "start_time": "2022-03-17T12:55:21.742Z"
   },
   {
    "duration": 6,
    "start_time": "2022-03-17T12:56:25.164Z"
   },
   {
    "duration": 3840,
    "start_time": "2022-03-17T12:56:25.742Z"
   },
   {
    "duration": 6,
    "start_time": "2022-03-17T12:56:46.456Z"
   },
   {
    "duration": 3418,
    "start_time": "2022-03-17T12:56:46.955Z"
   },
   {
    "duration": 5,
    "start_time": "2022-03-17T13:00:48.271Z"
   },
   {
    "duration": 4179,
    "start_time": "2022-03-17T13:00:49.090Z"
   },
   {
    "duration": 6,
    "start_time": "2022-03-17T13:04:19.480Z"
   },
   {
    "duration": 3556,
    "start_time": "2022-03-17T13:04:20.110Z"
   },
   {
    "duration": 6,
    "start_time": "2022-03-17T13:09:04.105Z"
   },
   {
    "duration": 3983,
    "start_time": "2022-03-17T13:09:04.873Z"
   },
   {
    "duration": 6,
    "start_time": "2022-03-17T13:09:36.271Z"
   },
   {
    "duration": 3698,
    "start_time": "2022-03-17T13:09:36.787Z"
   },
   {
    "duration": 8,
    "start_time": "2022-03-17T13:12:00.837Z"
   },
   {
    "duration": 4226,
    "start_time": "2022-03-17T13:12:01.575Z"
   },
   {
    "duration": 6,
    "start_time": "2022-03-17T13:12:38.988Z"
   },
   {
    "duration": 3758,
    "start_time": "2022-03-17T13:12:39.695Z"
   },
   {
    "duration": 6,
    "start_time": "2022-03-17T13:18:00.914Z"
   },
   {
    "duration": 4449,
    "start_time": "2022-03-17T13:18:01.712Z"
   },
   {
    "duration": 6,
    "start_time": "2022-03-17T13:18:29.070Z"
   },
   {
    "duration": 4393,
    "start_time": "2022-03-17T13:18:29.549Z"
   },
   {
    "duration": 6,
    "start_time": "2022-03-17T13:20:09.430Z"
   },
   {
    "duration": 4381,
    "start_time": "2022-03-17T13:20:09.870Z"
   },
   {
    "duration": 5,
    "start_time": "2022-03-17T13:23:40.020Z"
   },
   {
    "duration": 4434,
    "start_time": "2022-03-17T13:23:40.631Z"
   },
   {
    "duration": 5,
    "start_time": "2022-03-17T13:25:34.176Z"
   },
   {
    "duration": 399927,
    "start_time": "2022-03-17T13:25:36.270Z"
   },
   {
    "duration": 6,
    "start_time": "2022-03-17T13:43:52.890Z"
   },
   {
    "duration": 4537,
    "start_time": "2022-03-17T13:43:53.464Z"
   },
   {
    "duration": 6,
    "start_time": "2022-03-17T13:45:31.777Z"
   },
   {
    "duration": 4467,
    "start_time": "2022-03-17T13:45:32.244Z"
   },
   {
    "duration": 6,
    "start_time": "2022-03-17T13:46:30.726Z"
   },
   {
    "duration": 4367,
    "start_time": "2022-03-17T13:46:31.291Z"
   },
   {
    "duration": 6,
    "start_time": "2022-03-17T13:46:53.085Z"
   },
   {
    "duration": 4281,
    "start_time": "2022-03-17T13:46:53.363Z"
   },
   {
    "duration": 5,
    "start_time": "2022-03-17T13:47:12.206Z"
   },
   {
    "duration": 4327,
    "start_time": "2022-03-17T13:47:12.725Z"
   },
   {
    "duration": 14,
    "start_time": "2022-03-17T18:28:52.341Z"
   },
   {
    "duration": 62,
    "start_time": "2022-03-17T18:28:52.916Z"
   },
   {
    "duration": 5,
    "start_time": "2022-03-17T18:29:03.107Z"
   },
   {
    "duration": 2265,
    "start_time": "2022-03-17T18:29:03.119Z"
   },
   {
    "duration": 0,
    "start_time": "2022-03-17T18:29:05.390Z"
   },
   {
    "duration": 0,
    "start_time": "2022-03-17T18:29:05.392Z"
   },
   {
    "duration": 0,
    "start_time": "2022-03-17T18:29:05.395Z"
   },
   {
    "duration": 0,
    "start_time": "2022-03-17T18:29:05.397Z"
   },
   {
    "duration": 1,
    "start_time": "2022-03-17T18:29:05.399Z"
   },
   {
    "duration": 0,
    "start_time": "2022-03-17T18:29:05.402Z"
   },
   {
    "duration": 0,
    "start_time": "2022-03-17T18:29:05.405Z"
   },
   {
    "duration": 0,
    "start_time": "2022-03-17T18:29:05.408Z"
   },
   {
    "duration": 0,
    "start_time": "2022-03-17T18:29:05.410Z"
   },
   {
    "duration": 0,
    "start_time": "2022-03-17T18:29:05.412Z"
   },
   {
    "duration": 0,
    "start_time": "2022-03-17T18:29:05.415Z"
   },
   {
    "duration": 0,
    "start_time": "2022-03-17T18:29:05.417Z"
   },
   {
    "duration": 1,
    "start_time": "2022-03-17T18:29:05.419Z"
   },
   {
    "duration": 0,
    "start_time": "2022-03-17T18:29:05.421Z"
   },
   {
    "duration": 0,
    "start_time": "2022-03-17T18:29:05.424Z"
   },
   {
    "duration": 0,
    "start_time": "2022-03-17T18:29:05.426Z"
   },
   {
    "duration": 0,
    "start_time": "2022-03-17T18:29:05.429Z"
   },
   {
    "duration": 0,
    "start_time": "2022-03-17T18:29:05.482Z"
   },
   {
    "duration": 0,
    "start_time": "2022-03-17T18:29:05.484Z"
   },
   {
    "duration": 0,
    "start_time": "2022-03-17T18:29:05.486Z"
   },
   {
    "duration": 0,
    "start_time": "2022-03-17T18:29:05.488Z"
   },
   {
    "duration": 0,
    "start_time": "2022-03-17T18:29:05.492Z"
   },
   {
    "duration": 0,
    "start_time": "2022-03-17T18:29:05.494Z"
   },
   {
    "duration": 0,
    "start_time": "2022-03-17T18:29:05.496Z"
   },
   {
    "duration": 0,
    "start_time": "2022-03-17T18:29:05.498Z"
   },
   {
    "duration": 0,
    "start_time": "2022-03-17T18:29:05.500Z"
   },
   {
    "duration": 0,
    "start_time": "2022-03-17T18:29:05.505Z"
   },
   {
    "duration": 0,
    "start_time": "2022-03-17T18:29:05.507Z"
   },
   {
    "duration": 0,
    "start_time": "2022-03-17T18:29:05.508Z"
   },
   {
    "duration": 0,
    "start_time": "2022-03-17T18:29:05.510Z"
   },
   {
    "duration": 0,
    "start_time": "2022-03-17T18:29:05.512Z"
   },
   {
    "duration": 0,
    "start_time": "2022-03-17T18:29:05.514Z"
   },
   {
    "duration": 0,
    "start_time": "2022-03-17T18:29:05.519Z"
   },
   {
    "duration": 0,
    "start_time": "2022-03-17T18:29:05.521Z"
   },
   {
    "duration": 0,
    "start_time": "2022-03-17T18:29:05.524Z"
   },
   {
    "duration": 0,
    "start_time": "2022-03-17T18:29:05.527Z"
   },
   {
    "duration": 4,
    "start_time": "2022-03-17T18:29:20.466Z"
   },
   {
    "duration": 1761,
    "start_time": "2022-03-17T18:29:20.491Z"
   },
   {
    "duration": 0,
    "start_time": "2022-03-17T18:29:22.257Z"
   },
   {
    "duration": 0,
    "start_time": "2022-03-17T18:29:22.259Z"
   },
   {
    "duration": 0,
    "start_time": "2022-03-17T18:29:22.261Z"
   },
   {
    "duration": 0,
    "start_time": "2022-03-17T18:29:22.263Z"
   },
   {
    "duration": 0,
    "start_time": "2022-03-17T18:29:22.264Z"
   },
   {
    "duration": 0,
    "start_time": "2022-03-17T18:29:22.282Z"
   },
   {
    "duration": 0,
    "start_time": "2022-03-17T18:29:22.283Z"
   },
   {
    "duration": 0,
    "start_time": "2022-03-17T18:29:22.284Z"
   },
   {
    "duration": 0,
    "start_time": "2022-03-17T18:29:22.287Z"
   },
   {
    "duration": 0,
    "start_time": "2022-03-17T18:29:22.288Z"
   },
   {
    "duration": 0,
    "start_time": "2022-03-17T18:29:22.290Z"
   },
   {
    "duration": 0,
    "start_time": "2022-03-17T18:29:22.292Z"
   },
   {
    "duration": 0,
    "start_time": "2022-03-17T18:29:22.293Z"
   },
   {
    "duration": 0,
    "start_time": "2022-03-17T18:29:22.295Z"
   },
   {
    "duration": 0,
    "start_time": "2022-03-17T18:29:22.300Z"
   },
   {
    "duration": 0,
    "start_time": "2022-03-17T18:29:22.302Z"
   },
   {
    "duration": 0,
    "start_time": "2022-03-17T18:29:22.304Z"
   },
   {
    "duration": 0,
    "start_time": "2022-03-17T18:29:22.306Z"
   },
   {
    "duration": 0,
    "start_time": "2022-03-17T18:29:22.308Z"
   },
   {
    "duration": 0,
    "start_time": "2022-03-17T18:29:22.310Z"
   },
   {
    "duration": 0,
    "start_time": "2022-03-17T18:29:22.312Z"
   },
   {
    "duration": 0,
    "start_time": "2022-03-17T18:29:22.313Z"
   },
   {
    "duration": 0,
    "start_time": "2022-03-17T18:29:22.315Z"
   },
   {
    "duration": 0,
    "start_time": "2022-03-17T18:29:22.316Z"
   },
   {
    "duration": 0,
    "start_time": "2022-03-17T18:29:22.318Z"
   },
   {
    "duration": 0,
    "start_time": "2022-03-17T18:29:22.324Z"
   },
   {
    "duration": 0,
    "start_time": "2022-03-17T18:29:22.326Z"
   },
   {
    "duration": 0,
    "start_time": "2022-03-17T18:29:22.327Z"
   },
   {
    "duration": 0,
    "start_time": "2022-03-17T18:29:22.329Z"
   },
   {
    "duration": 0,
    "start_time": "2022-03-17T18:29:22.388Z"
   },
   {
    "duration": 0,
    "start_time": "2022-03-17T18:29:22.392Z"
   },
   {
    "duration": 0,
    "start_time": "2022-03-17T18:29:22.394Z"
   },
   {
    "duration": 0,
    "start_time": "2022-03-17T18:29:22.396Z"
   },
   {
    "duration": 0,
    "start_time": "2022-03-17T18:29:22.398Z"
   },
   {
    "duration": 0,
    "start_time": "2022-03-17T18:29:22.403Z"
   },
   {
    "duration": 0,
    "start_time": "2022-03-17T18:29:22.404Z"
   },
   {
    "duration": 5,
    "start_time": "2022-03-17T18:31:03.192Z"
   },
   {
    "duration": 1810,
    "start_time": "2022-03-17T18:31:03.201Z"
   },
   {
    "duration": 0,
    "start_time": "2022-03-17T18:31:05.015Z"
   },
   {
    "duration": 0,
    "start_time": "2022-03-17T18:31:05.017Z"
   },
   {
    "duration": 0,
    "start_time": "2022-03-17T18:31:05.019Z"
   },
   {
    "duration": 0,
    "start_time": "2022-03-17T18:31:05.021Z"
   },
   {
    "duration": 0,
    "start_time": "2022-03-17T18:31:05.023Z"
   },
   {
    "duration": 0,
    "start_time": "2022-03-17T18:31:05.024Z"
   },
   {
    "duration": 0,
    "start_time": "2022-03-17T18:31:05.026Z"
   },
   {
    "duration": 0,
    "start_time": "2022-03-17T18:31:05.028Z"
   },
   {
    "duration": 0,
    "start_time": "2022-03-17T18:31:05.030Z"
   },
   {
    "duration": 0,
    "start_time": "2022-03-17T18:31:05.032Z"
   },
   {
    "duration": 0,
    "start_time": "2022-03-17T18:31:05.035Z"
   },
   {
    "duration": 0,
    "start_time": "2022-03-17T18:31:05.036Z"
   },
   {
    "duration": 0,
    "start_time": "2022-03-17T18:31:05.040Z"
   },
   {
    "duration": 0,
    "start_time": "2022-03-17T18:31:05.083Z"
   },
   {
    "duration": 0,
    "start_time": "2022-03-17T18:31:05.085Z"
   },
   {
    "duration": 0,
    "start_time": "2022-03-17T18:31:05.089Z"
   },
   {
    "duration": 0,
    "start_time": "2022-03-17T18:31:05.092Z"
   },
   {
    "duration": 0,
    "start_time": "2022-03-17T18:31:05.094Z"
   },
   {
    "duration": 0,
    "start_time": "2022-03-17T18:31:05.099Z"
   },
   {
    "duration": 0,
    "start_time": "2022-03-17T18:31:05.101Z"
   },
   {
    "duration": 0,
    "start_time": "2022-03-17T18:31:05.103Z"
   },
   {
    "duration": 0,
    "start_time": "2022-03-17T18:31:05.105Z"
   },
   {
    "duration": 0,
    "start_time": "2022-03-17T18:31:05.107Z"
   },
   {
    "duration": 0,
    "start_time": "2022-03-17T18:31:05.109Z"
   },
   {
    "duration": 0,
    "start_time": "2022-03-17T18:31:05.112Z"
   },
   {
    "duration": 0,
    "start_time": "2022-03-17T18:31:05.114Z"
   },
   {
    "duration": 0,
    "start_time": "2022-03-17T18:31:05.117Z"
   },
   {
    "duration": 0,
    "start_time": "2022-03-17T18:31:05.119Z"
   },
   {
    "duration": 0,
    "start_time": "2022-03-17T18:31:05.121Z"
   },
   {
    "duration": 0,
    "start_time": "2022-03-17T18:31:05.123Z"
   },
   {
    "duration": 0,
    "start_time": "2022-03-17T18:31:05.125Z"
   },
   {
    "duration": 0,
    "start_time": "2022-03-17T18:31:05.183Z"
   },
   {
    "duration": 0,
    "start_time": "2022-03-17T18:31:05.186Z"
   },
   {
    "duration": 0,
    "start_time": "2022-03-17T18:31:05.188Z"
   },
   {
    "duration": 0,
    "start_time": "2022-03-17T18:31:05.190Z"
   },
   {
    "duration": 0,
    "start_time": "2022-03-17T18:31:05.192Z"
   },
   {
    "duration": 4955,
    "start_time": "2022-03-17T18:31:43.072Z"
   },
   {
    "duration": 2834,
    "start_time": "2022-03-17T18:31:48.031Z"
   },
   {
    "duration": 4,
    "start_time": "2022-03-17T18:31:50.867Z"
   },
   {
    "duration": 165,
    "start_time": "2022-03-17T18:31:50.874Z"
   },
   {
    "duration": 149,
    "start_time": "2022-03-17T18:31:51.041Z"
   },
   {
    "duration": 147,
    "start_time": "2022-03-17T18:31:51.193Z"
   },
   {
    "duration": 19,
    "start_time": "2022-03-17T18:31:51.343Z"
   },
   {
    "duration": 27,
    "start_time": "2022-03-17T18:31:51.364Z"
   },
   {
    "duration": 18,
    "start_time": "2022-03-17T18:31:51.395Z"
   },
   {
    "duration": 4,
    "start_time": "2022-03-17T18:31:51.419Z"
   },
   {
    "duration": 5,
    "start_time": "2022-03-17T18:31:51.425Z"
   },
   {
    "duration": 13,
    "start_time": "2022-03-17T18:31:51.433Z"
   },
   {
    "duration": 77,
    "start_time": "2022-03-17T18:31:51.448Z"
   },
   {
    "duration": 58,
    "start_time": "2022-03-17T18:31:51.528Z"
   },
   {
    "duration": 40,
    "start_time": "2022-03-17T18:31:51.590Z"
   },
   {
    "duration": 57,
    "start_time": "2022-03-17T18:31:51.633Z"
   },
   {
    "duration": 19,
    "start_time": "2022-03-17T18:31:51.692Z"
   },
   {
    "duration": 46,
    "start_time": "2022-03-17T18:31:51.713Z"
   },
   {
    "duration": 37,
    "start_time": "2022-03-17T18:31:51.761Z"
   },
   {
    "duration": 34,
    "start_time": "2022-03-17T18:31:51.801Z"
   },
   {
    "duration": 50,
    "start_time": "2022-03-17T18:31:51.838Z"
   },
   {
    "duration": 8,
    "start_time": "2022-03-17T18:31:51.890Z"
   },
   {
    "duration": 186,
    "start_time": "2022-03-17T18:31:51.901Z"
   },
   {
    "duration": 220,
    "start_time": "2022-03-17T18:31:52.091Z"
   },
   {
    "duration": 196,
    "start_time": "2022-03-17T18:31:52.386Z"
   },
   {
    "duration": 4,
    "start_time": "2022-03-17T18:31:52.585Z"
   },
   {
    "duration": 10,
    "start_time": "2022-03-17T18:31:52.591Z"
   },
   {
    "duration": 8,
    "start_time": "2022-03-17T18:31:52.606Z"
   },
   {
    "duration": 8,
    "start_time": "2022-03-17T18:31:52.616Z"
   },
   {
    "duration": 7,
    "start_time": "2022-03-17T18:31:52.627Z"
   },
   {
    "duration": 10,
    "start_time": "2022-03-17T18:31:52.636Z"
   },
   {
    "duration": 6,
    "start_time": "2022-03-17T18:31:52.681Z"
   },
   {
    "duration": 6,
    "start_time": "2022-03-17T18:31:52.690Z"
   },
   {
    "duration": 209,
    "start_time": "2022-03-17T18:31:52.698Z"
   },
   {
    "duration": 317,
    "start_time": "2022-03-17T18:31:52.984Z"
   },
   {
    "duration": 318,
    "start_time": "2022-03-17T18:31:53.384Z"
   },
   {
    "duration": 86,
    "start_time": "2022-03-17T18:31:53.705Z"
   },
   {
    "duration": 4372,
    "start_time": "2022-03-17T18:31:53.796Z"
   },
   {
    "duration": 11,
    "start_time": "2022-03-17T18:34:25.740Z"
   },
   {
    "duration": 4592,
    "start_time": "2022-03-17T18:34:26.759Z"
   },
   {
    "duration": 9,
    "start_time": "2022-03-17T18:40:13.695Z"
   },
   {
    "duration": 5048,
    "start_time": "2022-03-17T18:40:14.322Z"
   },
   {
    "duration": 8,
    "start_time": "2022-03-17T18:41:10.467Z"
   },
   {
    "duration": 400522,
    "start_time": "2022-03-17T18:41:11.325Z"
   },
   {
    "duration": 11,
    "start_time": "2022-03-17T18:50:19.244Z"
   },
   {
    "duration": 4363,
    "start_time": "2022-03-17T18:50:22.822Z"
   },
   {
    "duration": 11,
    "start_time": "2022-03-17T18:50:50.644Z"
   },
   {
    "duration": 4313,
    "start_time": "2022-03-17T18:50:51.307Z"
   },
   {
    "duration": 13242,
    "start_time": "2022-03-17T18:53:11.045Z"
   },
   {
    "duration": 4,
    "start_time": "2022-03-17T18:55:19.679Z"
   },
   {
    "duration": 5,
    "start_time": "2022-03-17T18:56:02.564Z"
   },
   {
    "duration": 4,
    "start_time": "2022-03-17T18:56:17.032Z"
   },
   {
    "duration": 17,
    "start_time": "2022-03-17T18:56:28.405Z"
   },
   {
    "duration": 37,
    "start_time": "2022-03-17T18:56:51.083Z"
   },
   {
    "duration": 187,
    "start_time": "2022-03-17T18:57:11.286Z"
   },
   {
    "duration": 16,
    "start_time": "2022-03-17T18:57:17.623Z"
   },
   {
    "duration": 16,
    "start_time": "2022-03-17T18:57:32.919Z"
   },
   {
    "duration": 13,
    "start_time": "2022-03-17T18:58:45.392Z"
   },
   {
    "duration": 12,
    "start_time": "2022-03-17T18:58:58.678Z"
   },
   {
    "duration": 17,
    "start_time": "2022-03-17T18:59:06.500Z"
   },
   {
    "duration": 14,
    "start_time": "2022-03-17T19:00:34.012Z"
   },
   {
    "duration": 154,
    "start_time": "2022-03-17T19:01:00.934Z"
   },
   {
    "duration": 16,
    "start_time": "2022-03-17T19:01:15.653Z"
   },
   {
    "duration": 16,
    "start_time": "2022-03-17T19:02:33.194Z"
   },
   {
    "duration": 13205,
    "start_time": "2022-03-17T19:10:20.162Z"
   },
   {
    "duration": 2789,
    "start_time": "2022-03-17T19:13:56.427Z"
   },
   {
    "duration": 4123,
    "start_time": "2022-03-17T19:14:52.726Z"
   },
   {
    "duration": 2641,
    "start_time": "2022-03-17T19:14:56.852Z"
   },
   {
    "duration": 3,
    "start_time": "2022-03-17T19:14:59.496Z"
   },
   {
    "duration": 169,
    "start_time": "2022-03-17T19:14:59.503Z"
   },
   {
    "duration": 157,
    "start_time": "2022-03-17T19:14:59.675Z"
   },
   {
    "duration": 154,
    "start_time": "2022-03-17T19:14:59.835Z"
   },
   {
    "duration": 4,
    "start_time": "2022-03-17T19:14:59.991Z"
   },
   {
    "duration": 50,
    "start_time": "2022-03-17T19:14:59.997Z"
   },
   {
    "duration": 22,
    "start_time": "2022-03-17T19:15:00.050Z"
   },
   {
    "duration": 36,
    "start_time": "2022-03-17T19:15:00.083Z"
   },
   {
    "duration": 18,
    "start_time": "2022-03-17T19:15:00.122Z"
   },
   {
    "duration": 28,
    "start_time": "2022-03-17T19:15:00.143Z"
   },
   {
    "duration": 31,
    "start_time": "2022-03-17T19:15:00.175Z"
   },
   {
    "duration": 86,
    "start_time": "2022-03-17T19:15:00.210Z"
   },
   {
    "duration": 64,
    "start_time": "2022-03-17T19:15:00.299Z"
   },
   {
    "duration": 61,
    "start_time": "2022-03-17T19:15:00.383Z"
   },
   {
    "duration": 85,
    "start_time": "2022-03-17T19:15:00.447Z"
   },
   {
    "duration": 42,
    "start_time": "2022-03-17T19:15:00.536Z"
   },
   {
    "duration": 73,
    "start_time": "2022-03-17T19:15:00.582Z"
   },
   {
    "duration": 30,
    "start_time": "2022-03-17T19:15:00.658Z"
   },
   {
    "duration": 56,
    "start_time": "2022-03-17T19:15:00.691Z"
   },
   {
    "duration": 52,
    "start_time": "2022-03-17T19:15:00.750Z"
   },
   {
    "duration": 18,
    "start_time": "2022-03-17T19:15:00.805Z"
   },
   {
    "duration": 167,
    "start_time": "2022-03-17T19:15:00.825Z"
   },
   {
    "duration": 285,
    "start_time": "2022-03-17T19:15:00.996Z"
   },
   {
    "duration": 113,
    "start_time": "2022-03-17T19:15:01.284Z"
   },
   {
    "duration": 3,
    "start_time": "2022-03-17T19:15:01.483Z"
   },
   {
    "duration": 23,
    "start_time": "2022-03-17T19:15:01.492Z"
   },
   {
    "duration": 16,
    "start_time": "2022-03-17T19:15:01.519Z"
   },
   {
    "duration": 16,
    "start_time": "2022-03-17T19:15:01.538Z"
   },
   {
    "duration": 12,
    "start_time": "2022-03-17T19:15:01.557Z"
   },
   {
    "duration": 12,
    "start_time": "2022-03-17T19:15:01.572Z"
   },
   {
    "duration": 23,
    "start_time": "2022-03-17T19:15:01.586Z"
   },
   {
    "duration": 17,
    "start_time": "2022-03-17T19:15:01.612Z"
   },
   {
    "duration": 360,
    "start_time": "2022-03-17T19:15:01.632Z"
   },
   {
    "duration": 397,
    "start_time": "2022-03-17T19:15:01.996Z"
   },
   {
    "duration": 487,
    "start_time": "2022-03-17T19:15:02.398Z"
   },
   {
    "duration": 100,
    "start_time": "2022-03-17T19:15:02.889Z"
   },
   {
    "duration": 13179,
    "start_time": "2022-03-17T19:15:02.992Z"
   },
   {
    "duration": 3061,
    "start_time": "2022-03-17T19:15:16.174Z"
   },
   {
    "duration": 13206,
    "start_time": "2022-03-17T19:16:10.164Z"
   },
   {
    "duration": 4539,
    "start_time": "2022-03-17T19:17:44.044Z"
   },
   {
    "duration": 12,
    "start_time": "2022-03-17T19:20:30.801Z"
   },
   {
    "duration": 13209,
    "start_time": "2022-03-17T19:20:31.562Z"
   },
   {
    "duration": 8,
    "start_time": "2022-03-17T19:21:17.879Z"
   },
   {
    "duration": 11927,
    "start_time": "2022-03-17T19:21:20.458Z"
   },
   {
    "duration": 3980,
    "start_time": "2022-03-17T19:22:21.912Z"
   },
   {
    "duration": 11861,
    "start_time": "2022-03-17T19:24:09.225Z"
   },
   {
    "duration": 8,
    "start_time": "2022-03-17T19:25:31.784Z"
   },
   {
    "duration": 12951,
    "start_time": "2022-03-17T19:25:32.618Z"
   },
   {
    "duration": 4547,
    "start_time": "2022-03-17T19:26:15.657Z"
   },
   {
    "duration": 8815,
    "start_time": "2022-03-17T19:27:37.561Z"
   },
   {
    "duration": 9,
    "start_time": "2022-03-17T19:46:48.251Z"
   },
   {
    "duration": 229,
    "start_time": "2022-03-17T19:46:48.264Z"
   },
   {
    "duration": 12,
    "start_time": "2022-03-17T19:48:47.100Z"
   },
   {
    "duration": 12053,
    "start_time": "2022-03-17T19:48:47.798Z"
   },
   {
    "duration": 5528,
    "start_time": "2022-03-17T19:49:28.680Z"
   },
   {
    "duration": 3670,
    "start_time": "2022-03-17T19:49:34.213Z"
   },
   {
    "duration": 4,
    "start_time": "2022-03-17T19:49:37.886Z"
   },
   {
    "duration": 279,
    "start_time": "2022-03-17T19:49:37.893Z"
   },
   {
    "duration": 221,
    "start_time": "2022-03-17T19:49:38.182Z"
   },
   {
    "duration": 234,
    "start_time": "2022-03-17T19:49:38.406Z"
   },
   {
    "duration": 5,
    "start_time": "2022-03-17T19:49:38.643Z"
   },
   {
    "duration": 42,
    "start_time": "2022-03-17T19:49:38.651Z"
   },
   {
    "duration": 21,
    "start_time": "2022-03-17T19:49:38.696Z"
   },
   {
    "duration": 15,
    "start_time": "2022-03-17T19:49:38.720Z"
   },
   {
    "duration": 17,
    "start_time": "2022-03-17T19:49:38.738Z"
   },
   {
    "duration": 6,
    "start_time": "2022-03-17T19:49:38.782Z"
   },
   {
    "duration": 8,
    "start_time": "2022-03-17T19:49:38.791Z"
   },
   {
    "duration": 83,
    "start_time": "2022-03-17T19:49:38.806Z"
   },
   {
    "duration": 61,
    "start_time": "2022-03-17T19:49:38.892Z"
   },
   {
    "duration": 88,
    "start_time": "2022-03-17T19:49:38.956Z"
   },
   {
    "duration": 63,
    "start_time": "2022-03-17T19:49:39.047Z"
   },
   {
    "duration": 33,
    "start_time": "2022-03-17T19:49:39.113Z"
   },
   {
    "duration": 78,
    "start_time": "2022-03-17T19:49:39.148Z"
   },
   {
    "duration": 28,
    "start_time": "2022-03-17T19:49:39.230Z"
   },
   {
    "duration": 67,
    "start_time": "2022-03-17T19:49:39.261Z"
   },
   {
    "duration": 32,
    "start_time": "2022-03-17T19:49:39.331Z"
   },
   {
    "duration": 13,
    "start_time": "2022-03-17T19:49:39.384Z"
   },
   {
    "duration": 185,
    "start_time": "2022-03-17T19:49:39.400Z"
   },
   {
    "duration": 198,
    "start_time": "2022-03-17T19:49:39.590Z"
   },
   {
    "duration": 192,
    "start_time": "2022-03-17T19:49:39.794Z"
   },
   {
    "duration": 4,
    "start_time": "2022-03-17T19:49:39.988Z"
   },
   {
    "duration": 25,
    "start_time": "2022-03-17T19:49:39.996Z"
   },
   {
    "duration": 59,
    "start_time": "2022-03-17T19:49:40.024Z"
   },
   {
    "duration": 12,
    "start_time": "2022-03-17T19:49:40.087Z"
   },
   {
    "duration": 13,
    "start_time": "2022-03-17T19:49:40.103Z"
   },
   {
    "duration": 11,
    "start_time": "2022-03-17T19:49:40.119Z"
   },
   {
    "duration": 12,
    "start_time": "2022-03-17T19:49:40.134Z"
   },
   {
    "duration": 11,
    "start_time": "2022-03-17T19:49:40.150Z"
   },
   {
    "duration": 321,
    "start_time": "2022-03-17T19:49:40.165Z"
   },
   {
    "duration": 397,
    "start_time": "2022-03-17T19:49:40.498Z"
   },
   {
    "duration": 379,
    "start_time": "2022-03-17T19:49:40.904Z"
   },
   {
    "duration": 13,
    "start_time": "2022-03-17T19:49:41.293Z"
   },
   {
    "duration": 13636,
    "start_time": "2022-03-17T19:49:41.382Z"
   },
   {
    "duration": 13790,
    "start_time": "2022-03-17T19:49:55.027Z"
   },
   {
    "duration": 9319,
    "start_time": "2022-03-17T19:50:08.830Z"
   },
   {
    "duration": 4682,
    "start_time": "2022-03-17T19:51:55.393Z"
   },
   {
    "duration": 2226,
    "start_time": "2022-03-17T19:52:00.078Z"
   },
   {
    "duration": 4,
    "start_time": "2022-03-17T19:52:02.307Z"
   },
   {
    "duration": 214,
    "start_time": "2022-03-17T19:52:02.315Z"
   },
   {
    "duration": 159,
    "start_time": "2022-03-17T19:52:02.532Z"
   },
   {
    "duration": 162,
    "start_time": "2022-03-17T19:52:02.698Z"
   },
   {
    "duration": 5,
    "start_time": "2022-03-17T19:52:02.863Z"
   },
   {
    "duration": 35,
    "start_time": "2022-03-17T19:52:02.870Z"
   },
   {
    "duration": 18,
    "start_time": "2022-03-17T19:52:02.908Z"
   },
   {
    "duration": 14,
    "start_time": "2022-03-17T19:52:02.930Z"
   },
   {
    "duration": 35,
    "start_time": "2022-03-17T19:52:02.946Z"
   },
   {
    "duration": 7,
    "start_time": "2022-03-17T19:52:02.984Z"
   },
   {
    "duration": 5,
    "start_time": "2022-03-17T19:52:02.994Z"
   },
   {
    "duration": 51,
    "start_time": "2022-03-17T19:52:03.001Z"
   },
   {
    "duration": 86,
    "start_time": "2022-03-17T19:52:03.055Z"
   },
   {
    "duration": 72,
    "start_time": "2022-03-17T19:52:03.144Z"
   },
   {
    "duration": 73,
    "start_time": "2022-03-17T19:52:03.219Z"
   },
   {
    "duration": 19,
    "start_time": "2022-03-17T19:52:03.295Z"
   },
   {
    "duration": 44,
    "start_time": "2022-03-17T19:52:03.316Z"
   },
   {
    "duration": 30,
    "start_time": "2022-03-17T19:52:03.363Z"
   },
   {
    "duration": 37,
    "start_time": "2022-03-17T19:52:03.396Z"
   },
   {
    "duration": 18,
    "start_time": "2022-03-17T19:52:03.436Z"
   },
   {
    "duration": 7,
    "start_time": "2022-03-17T19:52:03.483Z"
   },
   {
    "duration": 93,
    "start_time": "2022-03-17T19:52:03.493Z"
   },
   {
    "duration": 132,
    "start_time": "2022-03-17T19:52:03.589Z"
   },
   {
    "duration": 181,
    "start_time": "2022-03-17T19:52:03.724Z"
   },
   {
    "duration": 76,
    "start_time": "2022-03-17T19:52:03.908Z"
   },
   {
    "duration": 92,
    "start_time": "2022-03-17T19:52:03.992Z"
   },
   {
    "duration": 7,
    "start_time": "2022-03-17T19:52:04.087Z"
   },
   {
    "duration": 7,
    "start_time": "2022-03-17T19:52:04.096Z"
   },
   {
    "duration": 9,
    "start_time": "2022-03-17T19:52:04.105Z"
   },
   {
    "duration": 10,
    "start_time": "2022-03-17T19:52:04.117Z"
   },
   {
    "duration": 5,
    "start_time": "2022-03-17T19:52:04.130Z"
   },
   {
    "duration": 44,
    "start_time": "2022-03-17T19:52:04.138Z"
   },
   {
    "duration": 399,
    "start_time": "2022-03-17T19:52:04.185Z"
   },
   {
    "duration": 319,
    "start_time": "2022-03-17T19:52:04.588Z"
   },
   {
    "duration": 379,
    "start_time": "2022-03-17T19:52:04.918Z"
   },
   {
    "duration": 93,
    "start_time": "2022-03-17T19:52:05.303Z"
   },
   {
    "duration": 13328,
    "start_time": "2022-03-17T19:52:05.484Z"
   },
   {
    "duration": 13484,
    "start_time": "2022-03-17T19:52:18.815Z"
   },
   {
    "duration": 8902,
    "start_time": "2022-03-17T19:52:32.302Z"
   },
   {
    "duration": 14,
    "start_time": "2022-03-17T19:53:25.248Z"
   },
   {
    "duration": 4,
    "start_time": "2022-03-17T20:07:54.031Z"
   },
   {
    "duration": 139,
    "start_time": "2022-03-17T20:08:06.014Z"
   },
   {
    "duration": 488,
    "start_time": "2022-03-17T20:08:14.308Z"
   },
   {
    "duration": 79,
    "start_time": "2022-03-17T20:12:35.942Z"
   },
   {
    "duration": 85,
    "start_time": "2022-03-17T20:13:18.504Z"
   },
   {
    "duration": 111,
    "start_time": "2022-03-17T20:13:48.842Z"
   },
   {
    "duration": 5,
    "start_time": "2022-03-17T20:17:01.312Z"
   },
   {
    "duration": 5,
    "start_time": "2022-03-17T20:17:18.611Z"
   },
   {
    "duration": 784,
    "start_time": "2022-03-17T20:17:19.202Z"
   },
   {
    "duration": 9,
    "start_time": "2022-03-17T20:18:33.677Z"
   },
   {
    "duration": 9,
    "start_time": "2022-03-17T20:18:34.244Z"
   },
   {
    "duration": 718,
    "start_time": "2022-03-17T20:18:36.881Z"
   },
   {
    "duration": 17,
    "start_time": "2022-03-17T20:21:07.019Z"
   },
   {
    "duration": 148,
    "start_time": "2022-03-17T20:22:42.001Z"
   },
   {
    "duration": 159,
    "start_time": "2022-03-17T20:22:48.274Z"
   },
   {
    "duration": 17,
    "start_time": "2022-03-17T20:26:51.451Z"
   },
   {
    "duration": 22,
    "start_time": "2022-03-17T20:27:24.867Z"
   },
   {
    "duration": 267,
    "start_time": "2022-03-17T20:29:07.415Z"
   },
   {
    "duration": 24,
    "start_time": "2022-03-17T20:29:32.943Z"
   },
   {
    "duration": 20,
    "start_time": "2022-03-17T20:30:01.507Z"
   },
   {
    "duration": 18,
    "start_time": "2022-03-17T20:30:16.481Z"
   },
   {
    "duration": 86,
    "start_time": "2022-03-17T20:32:32.540Z"
   },
   {
    "duration": 145,
    "start_time": "2022-03-17T20:38:12.176Z"
   },
   {
    "duration": 74,
    "start_time": "2022-03-17T20:42:56.954Z"
   },
   {
    "duration": 3732,
    "start_time": "2022-03-17T20:43:41.816Z"
   },
   {
    "duration": 2290,
    "start_time": "2022-03-17T20:43:45.551Z"
   },
   {
    "duration": 5,
    "start_time": "2022-03-17T20:43:47.844Z"
   },
   {
    "duration": 165,
    "start_time": "2022-03-17T20:43:47.852Z"
   },
   {
    "duration": 153,
    "start_time": "2022-03-17T20:43:48.019Z"
   },
   {
    "duration": 149,
    "start_time": "2022-03-17T20:43:48.175Z"
   },
   {
    "duration": 4,
    "start_time": "2022-03-17T20:43:48.327Z"
   },
   {
    "duration": 23,
    "start_time": "2022-03-17T20:43:48.333Z"
   },
   {
    "duration": 25,
    "start_time": "2022-03-17T20:43:48.358Z"
   },
   {
    "duration": 5,
    "start_time": "2022-03-17T20:43:48.388Z"
   },
   {
    "duration": 16,
    "start_time": "2022-03-17T20:43:48.395Z"
   },
   {
    "duration": 115,
    "start_time": "2022-03-17T20:43:48.413Z"
   },
   {
    "duration": 169,
    "start_time": "2022-03-17T20:43:48.531Z"
   },
   {
    "duration": 10,
    "start_time": "2022-03-17T20:43:48.703Z"
   },
   {
    "duration": 10,
    "start_time": "2022-03-17T20:43:48.716Z"
   },
   {
    "duration": 2358,
    "start_time": "2022-03-17T20:43:48.729Z"
   },
   {
    "duration": 713,
    "start_time": "2022-03-17T20:43:51.089Z"
   },
   {
    "duration": 279,
    "start_time": "2022-03-17T20:43:51.806Z"
   },
   {
    "duration": 191,
    "start_time": "2022-03-17T20:43:52.091Z"
   },
   {
    "duration": 5,
    "start_time": "2022-03-17T20:43:52.288Z"
   },
   {
    "duration": 94,
    "start_time": "2022-03-17T20:43:52.296Z"
   },
   {
    "duration": 4,
    "start_time": "2022-03-17T20:43:52.394Z"
   },
   {
    "duration": 5,
    "start_time": "2022-03-17T20:43:52.401Z"
   },
   {
    "duration": 5,
    "start_time": "2022-03-17T20:43:52.409Z"
   },
   {
    "duration": 7,
    "start_time": "2022-03-17T20:43:52.416Z"
   },
   {
    "duration": 5,
    "start_time": "2022-03-17T20:43:52.425Z"
   },
   {
    "duration": 50,
    "start_time": "2022-03-17T20:43:52.432Z"
   },
   {
    "duration": 217,
    "start_time": "2022-03-17T20:43:52.487Z"
   },
   {
    "duration": 407,
    "start_time": "2022-03-17T20:43:52.706Z"
   },
   {
    "duration": 316,
    "start_time": "2022-03-17T20:43:53.184Z"
   },
   {
    "duration": 90,
    "start_time": "2022-03-17T20:43:53.502Z"
   },
   {
    "duration": 13534,
    "start_time": "2022-03-17T20:43:53.595Z"
   },
   {
    "duration": 13258,
    "start_time": "2022-03-17T20:44:07.132Z"
   },
   {
    "duration": 8815,
    "start_time": "2022-03-17T20:44:20.392Z"
   },
   {
    "duration": 5,
    "start_time": "2022-03-17T20:45:15.218Z"
   },
   {
    "duration": 2203,
    "start_time": "2022-03-17T20:45:16.087Z"
   },
   {
    "duration": 4883,
    "start_time": "2022-03-17T20:55:39.754Z"
   },
   {
    "duration": 4740,
    "start_time": "2022-03-17T20:57:04.892Z"
   },
   {
    "duration": 2883,
    "start_time": "2022-03-17T20:57:09.635Z"
   },
   {
    "duration": 6,
    "start_time": "2022-03-17T20:57:12.520Z"
   },
   {
    "duration": 235,
    "start_time": "2022-03-17T20:57:12.530Z"
   },
   {
    "duration": 216,
    "start_time": "2022-03-17T20:57:12.768Z"
   },
   {
    "duration": 164,
    "start_time": "2022-03-17T20:57:12.987Z"
   },
   {
    "duration": 5,
    "start_time": "2022-03-17T20:57:13.153Z"
   },
   {
    "duration": 39,
    "start_time": "2022-03-17T20:57:13.161Z"
   },
   {
    "duration": 4,
    "start_time": "2022-03-17T20:57:13.203Z"
   },
   {
    "duration": 7,
    "start_time": "2022-03-17T20:57:13.211Z"
   },
   {
    "duration": 8,
    "start_time": "2022-03-17T20:57:13.220Z"
   },
   {
    "duration": 178,
    "start_time": "2022-03-17T20:57:13.230Z"
   },
   {
    "duration": 234,
    "start_time": "2022-03-17T20:57:13.411Z"
   },
   {
    "duration": 11,
    "start_time": "2022-03-17T20:57:13.648Z"
   },
   {
    "duration": 22,
    "start_time": "2022-03-17T20:57:13.661Z"
   },
   {
    "duration": 2219,
    "start_time": "2022-03-17T20:57:13.686Z"
   },
   {
    "duration": 76,
    "start_time": "2022-03-17T20:57:15.909Z"
   },
   {
    "duration": 94,
    "start_time": "2022-03-17T20:57:15.989Z"
   },
   {
    "duration": 7,
    "start_time": "2022-03-17T20:57:16.086Z"
   },
   {
    "duration": 7,
    "start_time": "2022-03-17T20:57:16.095Z"
   },
   {
    "duration": 8,
    "start_time": "2022-03-17T20:57:16.104Z"
   },
   {
    "duration": 18,
    "start_time": "2022-03-17T20:57:16.115Z"
   },
   {
    "duration": 9,
    "start_time": "2022-03-17T20:57:16.136Z"
   },
   {
    "duration": 39,
    "start_time": "2022-03-17T20:57:16.147Z"
   },
   {
    "duration": 215,
    "start_time": "2022-03-17T20:57:16.189Z"
   },
   {
    "duration": 401,
    "start_time": "2022-03-17T20:57:16.484Z"
   },
   {
    "duration": 392,
    "start_time": "2022-03-17T20:57:16.891Z"
   },
   {
    "duration": 109,
    "start_time": "2022-03-17T20:57:17.295Z"
   },
   {
    "duration": 21,
    "start_time": "2022-03-17T20:57:17.407Z"
   },
   {
    "duration": 4638,
    "start_time": "2022-03-17T20:57:17.431Z"
   },
   {
    "duration": 0,
    "start_time": "2022-03-17T20:57:22.072Z"
   },
   {
    "duration": 0,
    "start_time": "2022-03-17T20:57:22.076Z"
   },
   {
    "duration": 0,
    "start_time": "2022-03-17T20:57:22.081Z"
   },
   {
    "duration": 6,
    "start_time": "2022-03-17T21:00:37.440Z"
   },
   {
    "duration": 8457,
    "start_time": "2022-03-17T21:00:38.107Z"
   },
   {
    "duration": 8,
    "start_time": "2022-03-17T21:00:57.094Z"
   },
   {
    "duration": 6,
    "start_time": "2022-03-17T21:00:57.591Z"
   },
   {
    "duration": 3445,
    "start_time": "2022-03-17T21:01:18.408Z"
   },
   {
    "duration": 2236,
    "start_time": "2022-03-17T21:01:21.857Z"
   },
   {
    "duration": 3,
    "start_time": "2022-03-17T21:01:24.096Z"
   },
   {
    "duration": 153,
    "start_time": "2022-03-17T21:01:24.102Z"
   },
   {
    "duration": 142,
    "start_time": "2022-03-17T21:01:24.257Z"
   },
   {
    "duration": 142,
    "start_time": "2022-03-17T21:01:24.401Z"
   },
   {
    "duration": 3,
    "start_time": "2022-03-17T21:01:24.545Z"
   },
   {
    "duration": 39,
    "start_time": "2022-03-17T21:01:24.551Z"
   },
   {
    "duration": 20,
    "start_time": "2022-03-17T21:01:24.592Z"
   },
   {
    "duration": 13,
    "start_time": "2022-03-17T21:01:24.616Z"
   },
   {
    "duration": 11,
    "start_time": "2022-03-17T21:01:24.631Z"
   },
   {
    "duration": 95,
    "start_time": "2022-03-17T21:01:24.644Z"
   },
   {
    "duration": 146,
    "start_time": "2022-03-17T21:01:24.741Z"
   },
   {
    "duration": 8,
    "start_time": "2022-03-17T21:01:24.890Z"
   },
   {
    "duration": 10,
    "start_time": "2022-03-17T21:01:24.900Z"
   },
   {
    "duration": 2186,
    "start_time": "2022-03-17T21:01:24.912Z"
   },
   {
    "duration": 87,
    "start_time": "2022-03-17T21:01:27.101Z"
   },
   {
    "duration": 92,
    "start_time": "2022-03-17T21:01:27.192Z"
   },
   {
    "duration": 9,
    "start_time": "2022-03-17T21:01:27.286Z"
   },
   {
    "duration": 7,
    "start_time": "2022-03-17T21:01:27.297Z"
   },
   {
    "duration": 12,
    "start_time": "2022-03-17T21:01:27.307Z"
   },
   {
    "duration": 10,
    "start_time": "2022-03-17T21:01:27.322Z"
   },
   {
    "duration": 10,
    "start_time": "2022-03-17T21:01:27.334Z"
   },
   {
    "duration": 10,
    "start_time": "2022-03-17T21:01:27.347Z"
   },
   {
    "duration": 325,
    "start_time": "2022-03-17T21:01:27.359Z"
   },
   {
    "duration": 319,
    "start_time": "2022-03-17T21:01:27.687Z"
   },
   {
    "duration": 329,
    "start_time": "2022-03-17T21:01:28.084Z"
   },
   {
    "duration": 99,
    "start_time": "2022-03-17T21:01:28.487Z"
   },
   {
    "duration": 13,
    "start_time": "2022-03-17T21:01:28.589Z"
   },
   {
    "duration": 81461,
    "start_time": "2022-03-17T21:01:28.604Z"
   },
   {
    "duration": 13212,
    "start_time": "2022-03-17T21:02:50.068Z"
   },
   {
    "duration": 13181,
    "start_time": "2022-03-17T21:03:03.282Z"
   },
   {
    "duration": 8894,
    "start_time": "2022-03-17T21:03:16.466Z"
   },
   {
    "duration": 3575,
    "start_time": "2022-03-17T21:03:54.053Z"
   },
   {
    "duration": 2336,
    "start_time": "2022-03-17T21:03:57.632Z"
   },
   {
    "duration": 4,
    "start_time": "2022-03-17T21:03:59.971Z"
   },
   {
    "duration": 157,
    "start_time": "2022-03-17T21:03:59.983Z"
   },
   {
    "duration": 143,
    "start_time": "2022-03-17T21:04:00.143Z"
   },
   {
    "duration": 156,
    "start_time": "2022-03-17T21:04:00.288Z"
   },
   {
    "duration": 5,
    "start_time": "2022-03-17T21:04:00.446Z"
   },
   {
    "duration": 36,
    "start_time": "2022-03-17T21:04:00.453Z"
   },
   {
    "duration": 4,
    "start_time": "2022-03-17T21:04:00.491Z"
   },
   {
    "duration": 9,
    "start_time": "2022-03-17T21:04:00.501Z"
   },
   {
    "duration": 15,
    "start_time": "2022-03-17T21:04:00.512Z"
   },
   {
    "duration": 123,
    "start_time": "2022-03-17T21:04:00.529Z"
   },
   {
    "duration": 165,
    "start_time": "2022-03-17T21:04:00.655Z"
   },
   {
    "duration": 8,
    "start_time": "2022-03-17T21:04:00.822Z"
   },
   {
    "duration": 17,
    "start_time": "2022-03-17T21:04:00.833Z"
   },
   {
    "duration": 2252,
    "start_time": "2022-03-17T21:04:00.852Z"
   },
   {
    "duration": 76,
    "start_time": "2022-03-17T21:04:03.107Z"
   },
   {
    "duration": 101,
    "start_time": "2022-03-17T21:04:03.186Z"
   },
   {
    "duration": 6,
    "start_time": "2022-03-17T21:04:03.289Z"
   },
   {
    "duration": 6,
    "start_time": "2022-03-17T21:04:03.297Z"
   },
   {
    "duration": 8,
    "start_time": "2022-03-17T21:04:03.305Z"
   },
   {
    "duration": 9,
    "start_time": "2022-03-17T21:04:03.315Z"
   },
   {
    "duration": 9,
    "start_time": "2022-03-17T21:04:03.326Z"
   },
   {
    "duration": 17,
    "start_time": "2022-03-17T21:04:03.338Z"
   },
   {
    "duration": 326,
    "start_time": "2022-03-17T21:04:03.357Z"
   },
   {
    "duration": 397,
    "start_time": "2022-03-17T21:04:03.686Z"
   },
   {
    "duration": 396,
    "start_time": "2022-03-17T21:04:04.086Z"
   },
   {
    "duration": 93,
    "start_time": "2022-03-17T21:04:04.494Z"
   },
   {
    "duration": 17,
    "start_time": "2022-03-17T21:04:04.589Z"
   },
   {
    "duration": 80875,
    "start_time": "2022-03-17T21:04:04.609Z"
   },
   {
    "duration": 4308,
    "start_time": "2022-03-17T21:05:29.992Z"
   },
   {
    "duration": 2485,
    "start_time": "2022-03-17T21:05:34.303Z"
   },
   {
    "duration": 5,
    "start_time": "2022-03-17T21:05:36.793Z"
   },
   {
    "duration": 221,
    "start_time": "2022-03-17T21:05:36.801Z"
   },
   {
    "duration": 198,
    "start_time": "2022-03-17T21:05:37.024Z"
   },
   {
    "duration": 171,
    "start_time": "2022-03-17T21:05:37.226Z"
   },
   {
    "duration": 3,
    "start_time": "2022-03-17T21:05:37.400Z"
   },
   {
    "duration": 24,
    "start_time": "2022-03-17T21:05:37.406Z"
   },
   {
    "duration": 3,
    "start_time": "2022-03-17T21:05:37.433Z"
   },
   {
    "duration": 46,
    "start_time": "2022-03-17T21:05:37.441Z"
   },
   {
    "duration": 12,
    "start_time": "2022-03-17T21:05:37.489Z"
   },
   {
    "duration": 129,
    "start_time": "2022-03-17T21:05:37.507Z"
   },
   {
    "duration": 213,
    "start_time": "2022-03-17T21:05:37.639Z"
   },
   {
    "duration": 9,
    "start_time": "2022-03-17T21:05:37.854Z"
   },
   {
    "duration": 11,
    "start_time": "2022-03-17T21:05:37.881Z"
   },
   {
    "duration": 2213,
    "start_time": "2022-03-17T21:05:37.894Z"
   },
   {
    "duration": 74,
    "start_time": "2022-03-17T21:05:40.110Z"
   },
   {
    "duration": 101,
    "start_time": "2022-03-17T21:05:40.188Z"
   },
   {
    "duration": 32,
    "start_time": "2022-03-17T21:05:40.292Z"
   },
   {
    "duration": 20,
    "start_time": "2022-03-17T21:05:40.327Z"
   },
   {
    "duration": 22,
    "start_time": "2022-03-17T21:05:40.350Z"
   },
   {
    "duration": 26,
    "start_time": "2022-03-17T21:05:40.375Z"
   },
   {
    "duration": 14,
    "start_time": "2022-03-17T21:05:40.404Z"
   },
   {
    "duration": 23,
    "start_time": "2022-03-17T21:05:40.421Z"
   },
   {
    "duration": 335,
    "start_time": "2022-03-17T21:05:40.447Z"
   },
   {
    "duration": 497,
    "start_time": "2022-03-17T21:05:40.786Z"
   },
   {
    "duration": 298,
    "start_time": "2022-03-17T21:05:41.288Z"
   },
   {
    "duration": 95,
    "start_time": "2022-03-17T21:05:41.592Z"
   },
   {
    "duration": 31,
    "start_time": "2022-03-17T21:05:41.690Z"
   },
   {
    "duration": 73264,
    "start_time": "2022-03-17T21:05:41.723Z"
   },
   {
    "duration": 93,
    "start_time": "2022-03-17T21:06:54.990Z"
   },
   {
    "duration": 11998,
    "start_time": "2022-03-17T21:06:55.085Z"
   },
   {
    "duration": 7998,
    "start_time": "2022-03-17T21:07:07.087Z"
   },
   {
    "duration": 73368,
    "start_time": "2022-03-17T21:07:20.914Z"
   },
   {
    "duration": 12046,
    "start_time": "2022-03-17T21:09:32.436Z"
   },
   {
    "duration": 7998,
    "start_time": "2022-03-17T21:09:44.486Z"
   },
   {
    "duration": 3598,
    "start_time": "2022-03-17T21:11:46.666Z"
   },
   {
    "duration": 2317,
    "start_time": "2022-03-17T21:11:50.267Z"
   },
   {
    "duration": 4,
    "start_time": "2022-03-17T21:11:52.587Z"
   },
   {
    "duration": 159,
    "start_time": "2022-03-17T21:11:52.593Z"
   },
   {
    "duration": 147,
    "start_time": "2022-03-17T21:11:52.755Z"
   },
   {
    "duration": 149,
    "start_time": "2022-03-17T21:11:52.904Z"
   },
   {
    "duration": 4,
    "start_time": "2022-03-17T21:11:53.055Z"
   },
   {
    "duration": 39,
    "start_time": "2022-03-17T21:11:53.061Z"
   },
   {
    "duration": 3,
    "start_time": "2022-03-17T21:11:53.103Z"
   },
   {
    "duration": 11,
    "start_time": "2022-03-17T21:11:53.109Z"
   },
   {
    "duration": 9,
    "start_time": "2022-03-17T21:11:53.122Z"
   },
   {
    "duration": 116,
    "start_time": "2022-03-17T21:11:53.134Z"
   },
   {
    "duration": 146,
    "start_time": "2022-03-17T21:11:53.253Z"
   },
   {
    "duration": 8,
    "start_time": "2022-03-17T21:11:53.403Z"
   },
   {
    "duration": 27,
    "start_time": "2022-03-17T21:11:53.414Z"
   },
   {
    "duration": 2261,
    "start_time": "2022-03-17T21:11:53.443Z"
   },
   {
    "duration": 78,
    "start_time": "2022-03-17T21:11:55.707Z"
   },
   {
    "duration": 104,
    "start_time": "2022-03-17T21:11:55.789Z"
   },
   {
    "duration": 6,
    "start_time": "2022-03-17T21:11:55.896Z"
   },
   {
    "duration": 12,
    "start_time": "2022-03-17T21:11:55.905Z"
   },
   {
    "duration": 6,
    "start_time": "2022-03-17T21:11:55.919Z"
   },
   {
    "duration": 10,
    "start_time": "2022-03-17T21:11:55.927Z"
   },
   {
    "duration": 5,
    "start_time": "2022-03-17T21:11:55.939Z"
   },
   {
    "duration": 6,
    "start_time": "2022-03-17T21:11:55.947Z"
   },
   {
    "duration": 327,
    "start_time": "2022-03-17T21:11:55.956Z"
   },
   {
    "duration": 399,
    "start_time": "2022-03-17T21:11:56.286Z"
   },
   {
    "duration": 316,
    "start_time": "2022-03-17T21:11:56.692Z"
   },
   {
    "duration": 9,
    "start_time": "2022-03-17T21:11:57.085Z"
   },
   {
    "duration": 103,
    "start_time": "2022-03-17T21:11:57.097Z"
   },
   {
    "duration": 73080,
    "start_time": "2022-03-17T21:11:57.203Z"
   },
   {
    "duration": 5,
    "start_time": "2022-03-17T21:13:10.287Z"
   },
   {
    "duration": 48088,
    "start_time": "2022-03-17T21:13:10.295Z"
   },
   {
    "duration": 99,
    "start_time": "2022-03-17T21:13:58.387Z"
   },
   {
    "duration": 19266,
    "start_time": "2022-03-17T21:33:32.659Z"
   },
   {
    "duration": 2303,
    "start_time": "2022-03-17T21:33:51.928Z"
   },
   {
    "duration": 4,
    "start_time": "2022-03-17T21:33:54.233Z"
   },
   {
    "duration": 167,
    "start_time": "2022-03-17T21:33:54.240Z"
   },
   {
    "duration": 149,
    "start_time": "2022-03-17T21:33:54.410Z"
   },
   {
    "duration": 163,
    "start_time": "2022-03-17T21:33:54.562Z"
   },
   {
    "duration": 3,
    "start_time": "2022-03-17T21:33:54.728Z"
   },
   {
    "duration": 24,
    "start_time": "2022-03-17T21:33:54.733Z"
   },
   {
    "duration": 2900,
    "start_time": "2022-03-17T21:33:54.760Z"
   },
   {
    "duration": 0,
    "start_time": "2022-03-17T21:33:57.663Z"
   },
   {
    "duration": 0,
    "start_time": "2022-03-17T21:33:57.665Z"
   },
   {
    "duration": 0,
    "start_time": "2022-03-17T21:33:57.667Z"
   },
   {
    "duration": 0,
    "start_time": "2022-03-17T21:33:57.668Z"
   },
   {
    "duration": 0,
    "start_time": "2022-03-17T21:33:57.670Z"
   },
   {
    "duration": 0,
    "start_time": "2022-03-17T21:33:57.682Z"
   },
   {
    "duration": 0,
    "start_time": "2022-03-17T21:33:57.684Z"
   },
   {
    "duration": 0,
    "start_time": "2022-03-17T21:33:57.685Z"
   },
   {
    "duration": 0,
    "start_time": "2022-03-17T21:33:57.687Z"
   },
   {
    "duration": 0,
    "start_time": "2022-03-17T21:33:57.688Z"
   },
   {
    "duration": 0,
    "start_time": "2022-03-17T21:33:57.689Z"
   },
   {
    "duration": 0,
    "start_time": "2022-03-17T21:33:57.690Z"
   },
   {
    "duration": 0,
    "start_time": "2022-03-17T21:33:57.692Z"
   },
   {
    "duration": 0,
    "start_time": "2022-03-17T21:33:57.694Z"
   },
   {
    "duration": 0,
    "start_time": "2022-03-17T21:33:57.696Z"
   },
   {
    "duration": 0,
    "start_time": "2022-03-17T21:33:57.698Z"
   },
   {
    "duration": 0,
    "start_time": "2022-03-17T21:33:57.700Z"
   },
   {
    "duration": 1,
    "start_time": "2022-03-17T21:33:57.702Z"
   },
   {
    "duration": 0,
    "start_time": "2022-03-17T21:33:57.705Z"
   },
   {
    "duration": 0,
    "start_time": "2022-03-17T21:33:57.707Z"
   },
   {
    "duration": 0,
    "start_time": "2022-03-17T21:33:57.709Z"
   },
   {
    "duration": 0,
    "start_time": "2022-03-17T21:33:57.711Z"
   },
   {
    "duration": 0,
    "start_time": "2022-03-17T21:33:57.713Z"
   },
   {
    "duration": 3785,
    "start_time": "2022-03-17T21:34:24.477Z"
   },
   {
    "duration": 2297,
    "start_time": "2022-03-17T21:34:28.266Z"
   },
   {
    "duration": 4,
    "start_time": "2022-03-17T21:34:30.566Z"
   },
   {
    "duration": 192,
    "start_time": "2022-03-17T21:34:30.581Z"
   },
   {
    "duration": 227,
    "start_time": "2022-03-17T21:34:30.776Z"
   },
   {
    "duration": 237,
    "start_time": "2022-03-17T21:34:31.006Z"
   },
   {
    "duration": 5,
    "start_time": "2022-03-17T21:34:31.246Z"
   },
   {
    "duration": 40,
    "start_time": "2022-03-17T21:34:31.254Z"
   },
   {
    "duration": 3072,
    "start_time": "2022-03-17T21:34:31.296Z"
   },
   {
    "duration": 0,
    "start_time": "2022-03-17T21:34:34.372Z"
   },
   {
    "duration": 0,
    "start_time": "2022-03-17T21:34:34.374Z"
   },
   {
    "duration": 0,
    "start_time": "2022-03-17T21:34:34.382Z"
   },
   {
    "duration": 0,
    "start_time": "2022-03-17T21:34:34.384Z"
   },
   {
    "duration": 0,
    "start_time": "2022-03-17T21:34:34.386Z"
   },
   {
    "duration": 0,
    "start_time": "2022-03-17T21:34:34.388Z"
   },
   {
    "duration": 0,
    "start_time": "2022-03-17T21:34:34.389Z"
   },
   {
    "duration": 0,
    "start_time": "2022-03-17T21:34:34.391Z"
   },
   {
    "duration": 0,
    "start_time": "2022-03-17T21:34:34.393Z"
   },
   {
    "duration": 0,
    "start_time": "2022-03-17T21:34:34.394Z"
   },
   {
    "duration": 0,
    "start_time": "2022-03-17T21:34:34.396Z"
   },
   {
    "duration": 0,
    "start_time": "2022-03-17T21:34:34.398Z"
   },
   {
    "duration": 0,
    "start_time": "2022-03-17T21:34:34.400Z"
   },
   {
    "duration": 0,
    "start_time": "2022-03-17T21:34:34.401Z"
   },
   {
    "duration": 0,
    "start_time": "2022-03-17T21:34:34.402Z"
   },
   {
    "duration": 0,
    "start_time": "2022-03-17T21:34:34.404Z"
   },
   {
    "duration": 0,
    "start_time": "2022-03-17T21:34:34.406Z"
   },
   {
    "duration": 0,
    "start_time": "2022-03-17T21:34:34.407Z"
   },
   {
    "duration": 0,
    "start_time": "2022-03-17T21:34:34.409Z"
   },
   {
    "duration": 0,
    "start_time": "2022-03-17T21:34:34.411Z"
   },
   {
    "duration": 0,
    "start_time": "2022-03-17T21:34:34.414Z"
   },
   {
    "duration": 0,
    "start_time": "2022-03-17T21:34:34.416Z"
   },
   {
    "duration": 0,
    "start_time": "2022-03-17T21:34:34.417Z"
   },
   {
    "duration": 4736,
    "start_time": "2022-03-17T21:35:42.321Z"
   },
   {
    "duration": 2695,
    "start_time": "2022-03-17T21:35:47.060Z"
   },
   {
    "duration": 5,
    "start_time": "2022-03-17T21:35:49.758Z"
   },
   {
    "duration": 200,
    "start_time": "2022-03-17T21:35:49.765Z"
   },
   {
    "duration": 149,
    "start_time": "2022-03-17T21:35:49.968Z"
   },
   {
    "duration": 156,
    "start_time": "2022-03-17T21:35:50.119Z"
   },
   {
    "duration": 5,
    "start_time": "2022-03-17T21:35:50.278Z"
   },
   {
    "duration": 64,
    "start_time": "2022-03-17T21:35:50.285Z"
   },
   {
    "duration": 3036,
    "start_time": "2022-03-17T21:35:50.352Z"
   },
   {
    "duration": 0,
    "start_time": "2022-03-17T21:35:53.391Z"
   },
   {
    "duration": 0,
    "start_time": "2022-03-17T21:35:53.393Z"
   },
   {
    "duration": 0,
    "start_time": "2022-03-17T21:35:53.396Z"
   },
   {
    "duration": 0,
    "start_time": "2022-03-17T21:35:53.397Z"
   },
   {
    "duration": 0,
    "start_time": "2022-03-17T21:35:53.399Z"
   },
   {
    "duration": 0,
    "start_time": "2022-03-17T21:35:53.401Z"
   },
   {
    "duration": 0,
    "start_time": "2022-03-17T21:35:53.402Z"
   },
   {
    "duration": 0,
    "start_time": "2022-03-17T21:35:53.404Z"
   },
   {
    "duration": 0,
    "start_time": "2022-03-17T21:35:53.406Z"
   },
   {
    "duration": 0,
    "start_time": "2022-03-17T21:35:53.407Z"
   },
   {
    "duration": 0,
    "start_time": "2022-03-17T21:35:53.409Z"
   },
   {
    "duration": 0,
    "start_time": "2022-03-17T21:35:53.411Z"
   },
   {
    "duration": 0,
    "start_time": "2022-03-17T21:35:53.413Z"
   },
   {
    "duration": 0,
    "start_time": "2022-03-17T21:35:53.415Z"
   },
   {
    "duration": 0,
    "start_time": "2022-03-17T21:35:53.417Z"
   },
   {
    "duration": 0,
    "start_time": "2022-03-17T21:35:53.419Z"
   },
   {
    "duration": 0,
    "start_time": "2022-03-17T21:35:53.421Z"
   },
   {
    "duration": 0,
    "start_time": "2022-03-17T21:35:53.423Z"
   },
   {
    "duration": 0,
    "start_time": "2022-03-17T21:35:53.425Z"
   },
   {
    "duration": 0,
    "start_time": "2022-03-17T21:35:53.427Z"
   },
   {
    "duration": 0,
    "start_time": "2022-03-17T21:35:53.428Z"
   },
   {
    "duration": 0,
    "start_time": "2022-03-17T21:35:53.483Z"
   },
   {
    "duration": 0,
    "start_time": "2022-03-17T21:35:53.486Z"
   },
   {
    "duration": 20182,
    "start_time": "2022-03-17T21:36:30.514Z"
   },
   {
    "duration": 2133,
    "start_time": "2022-03-17T21:36:50.700Z"
   },
   {
    "duration": 5,
    "start_time": "2022-03-17T21:36:52.835Z"
   },
   {
    "duration": 165,
    "start_time": "2022-03-17T21:36:52.843Z"
   },
   {
    "duration": 209,
    "start_time": "2022-03-17T21:36:53.011Z"
   },
   {
    "duration": 204,
    "start_time": "2022-03-17T21:36:53.223Z"
   },
   {
    "duration": 4,
    "start_time": "2022-03-17T21:36:53.429Z"
   },
   {
    "duration": 48,
    "start_time": "2022-03-17T21:36:53.436Z"
   },
   {
    "duration": 3197,
    "start_time": "2022-03-17T21:36:53.487Z"
   },
   {
    "duration": 0,
    "start_time": "2022-03-17T21:36:56.688Z"
   },
   {
    "duration": 0,
    "start_time": "2022-03-17T21:36:56.690Z"
   },
   {
    "duration": 0,
    "start_time": "2022-03-17T21:36:56.692Z"
   },
   {
    "duration": 0,
    "start_time": "2022-03-17T21:36:56.694Z"
   },
   {
    "duration": 0,
    "start_time": "2022-03-17T21:36:56.695Z"
   },
   {
    "duration": 0,
    "start_time": "2022-03-17T21:36:56.697Z"
   },
   {
    "duration": 0,
    "start_time": "2022-03-17T21:36:56.699Z"
   },
   {
    "duration": 0,
    "start_time": "2022-03-17T21:36:56.700Z"
   },
   {
    "duration": 0,
    "start_time": "2022-03-17T21:36:56.702Z"
   },
   {
    "duration": 0,
    "start_time": "2022-03-17T21:36:56.703Z"
   },
   {
    "duration": 0,
    "start_time": "2022-03-17T21:36:56.704Z"
   },
   {
    "duration": 0,
    "start_time": "2022-03-17T21:36:56.706Z"
   },
   {
    "duration": 0,
    "start_time": "2022-03-17T21:36:56.709Z"
   },
   {
    "duration": 0,
    "start_time": "2022-03-17T21:36:56.710Z"
   },
   {
    "duration": 0,
    "start_time": "2022-03-17T21:36:56.712Z"
   },
   {
    "duration": 0,
    "start_time": "2022-03-17T21:36:56.714Z"
   },
   {
    "duration": 0,
    "start_time": "2022-03-17T21:36:56.717Z"
   },
   {
    "duration": 1,
    "start_time": "2022-03-17T21:36:56.718Z"
   },
   {
    "duration": 0,
    "start_time": "2022-03-17T21:36:56.721Z"
   },
   {
    "duration": 0,
    "start_time": "2022-03-17T21:36:56.723Z"
   },
   {
    "duration": 0,
    "start_time": "2022-03-17T21:36:56.783Z"
   },
   {
    "duration": 0,
    "start_time": "2022-03-17T21:36:56.785Z"
   },
   {
    "duration": 0,
    "start_time": "2022-03-17T21:36:56.787Z"
   },
   {
    "duration": 10196,
    "start_time": "2022-03-17T21:38:14.152Z"
   },
   {
    "duration": 2206,
    "start_time": "2022-03-17T21:38:24.352Z"
   },
   {
    "duration": 4,
    "start_time": "2022-03-17T21:38:26.560Z"
   },
   {
    "duration": 171,
    "start_time": "2022-03-17T21:38:26.567Z"
   },
   {
    "duration": 148,
    "start_time": "2022-03-17T21:38:26.741Z"
   },
   {
    "duration": 227,
    "start_time": "2022-03-17T21:38:26.891Z"
   },
   {
    "duration": 5,
    "start_time": "2022-03-17T21:38:27.120Z"
   },
   {
    "duration": 23,
    "start_time": "2022-03-17T21:38:27.128Z"
   },
   {
    "duration": 3175,
    "start_time": "2022-03-17T21:38:27.153Z"
   },
   {
    "duration": 0,
    "start_time": "2022-03-17T21:38:30.333Z"
   },
   {
    "duration": 0,
    "start_time": "2022-03-17T21:38:30.335Z"
   },
   {
    "duration": 0,
    "start_time": "2022-03-17T21:38:30.338Z"
   },
   {
    "duration": 1,
    "start_time": "2022-03-17T21:38:30.339Z"
   },
   {
    "duration": 0,
    "start_time": "2022-03-17T21:38:30.342Z"
   },
   {
    "duration": 0,
    "start_time": "2022-03-17T21:38:30.343Z"
   },
   {
    "duration": 0,
    "start_time": "2022-03-17T21:38:30.345Z"
   },
   {
    "duration": 0,
    "start_time": "2022-03-17T21:38:30.347Z"
   },
   {
    "duration": 0,
    "start_time": "2022-03-17T21:38:30.348Z"
   },
   {
    "duration": 0,
    "start_time": "2022-03-17T21:38:30.350Z"
   },
   {
    "duration": 0,
    "start_time": "2022-03-17T21:38:30.384Z"
   },
   {
    "duration": 0,
    "start_time": "2022-03-17T21:38:30.386Z"
   },
   {
    "duration": 0,
    "start_time": "2022-03-17T21:38:30.388Z"
   },
   {
    "duration": 1,
    "start_time": "2022-03-17T21:38:30.390Z"
   },
   {
    "duration": 0,
    "start_time": "2022-03-17T21:38:30.393Z"
   },
   {
    "duration": 0,
    "start_time": "2022-03-17T21:38:30.395Z"
   },
   {
    "duration": 1,
    "start_time": "2022-03-17T21:38:30.396Z"
   },
   {
    "duration": 1,
    "start_time": "2022-03-17T21:38:30.398Z"
   },
   {
    "duration": 0,
    "start_time": "2022-03-17T21:38:30.401Z"
   },
   {
    "duration": 0,
    "start_time": "2022-03-17T21:38:30.402Z"
   },
   {
    "duration": 0,
    "start_time": "2022-03-17T21:38:30.404Z"
   },
   {
    "duration": 0,
    "start_time": "2022-03-17T21:38:30.405Z"
   },
   {
    "duration": 0,
    "start_time": "2022-03-17T21:38:30.407Z"
   },
   {
    "duration": 3497,
    "start_time": "2022-03-17T21:44:37.322Z"
   },
   {
    "duration": 1794,
    "start_time": "2022-03-17T21:44:47.655Z"
   },
   {
    "duration": 16574,
    "start_time": "2022-03-17T21:47:44.723Z"
   },
   {
    "duration": 3655,
    "start_time": "2022-03-17T21:51:29.444Z"
   },
   {
    "duration": 26843,
    "start_time": "2022-03-17T21:52:04.025Z"
   },
   {
    "duration": 16830,
    "start_time": "2022-03-17T21:53:38.899Z"
   },
   {
    "duration": 10737,
    "start_time": "2022-03-17T21:57:07.499Z"
   },
   {
    "duration": 6150,
    "start_time": "2022-03-17T21:59:05.856Z"
   },
   {
    "duration": 3607,
    "start_time": "2022-03-17T21:59:33.756Z"
   },
   {
    "duration": 5,
    "start_time": "2022-03-17T22:05:12.558Z"
   },
   {
    "duration": 2907,
    "start_time": "2022-03-17T22:05:12.566Z"
   },
   {
    "duration": 8,
    "start_time": "2022-03-17T22:05:15.476Z"
   },
   {
    "duration": 153,
    "start_time": "2022-03-17T22:05:15.486Z"
   },
   {
    "duration": 144,
    "start_time": "2022-03-17T22:05:15.643Z"
   },
   {
    "duration": 147,
    "start_time": "2022-03-17T22:05:15.789Z"
   },
   {
    "duration": 4,
    "start_time": "2022-03-17T22:05:15.938Z"
   },
   {
    "duration": 42,
    "start_time": "2022-03-17T22:05:15.944Z"
   },
   {
    "duration": 16,
    "start_time": "2022-03-17T22:05:15.989Z"
   },
   {
    "duration": 25,
    "start_time": "2022-03-17T22:05:16.007Z"
   },
   {
    "duration": 41,
    "start_time": "2022-03-17T22:05:16.036Z"
   },
   {
    "duration": 103,
    "start_time": "2022-03-17T22:05:16.079Z"
   },
   {
    "duration": 142,
    "start_time": "2022-03-17T22:05:16.185Z"
   },
   {
    "duration": 7,
    "start_time": "2022-03-17T22:05:16.330Z"
   },
   {
    "duration": 21,
    "start_time": "2022-03-17T22:05:16.340Z"
   },
   {
    "duration": 2238,
    "start_time": "2022-03-17T22:05:16.364Z"
   },
   {
    "duration": 81,
    "start_time": "2022-03-17T22:05:18.606Z"
   },
   {
    "duration": 93,
    "start_time": "2022-03-17T22:05:18.693Z"
   },
   {
    "duration": 8,
    "start_time": "2022-03-17T22:05:18.788Z"
   },
   {
    "duration": 9,
    "start_time": "2022-03-17T22:05:18.798Z"
   },
   {
    "duration": 8,
    "start_time": "2022-03-17T22:05:18.808Z"
   },
   {
    "duration": 10,
    "start_time": "2022-03-17T22:05:18.818Z"
   },
   {
    "duration": 6,
    "start_time": "2022-03-17T22:05:18.830Z"
   },
   {
    "duration": 6,
    "start_time": "2022-03-17T22:05:18.838Z"
   },
   {
    "duration": 338,
    "start_time": "2022-03-17T22:05:18.846Z"
   },
   {
    "duration": 314,
    "start_time": "2022-03-17T22:05:19.188Z"
   },
   {
    "duration": 401,
    "start_time": "2022-03-17T22:05:19.584Z"
   },
   {
    "duration": 96,
    "start_time": "2022-03-17T22:05:19.988Z"
   },
   {
    "duration": 15,
    "start_time": "2022-03-17T22:05:20.089Z"
   },
   {
    "duration": 398067,
    "start_time": "2022-03-17T22:05:20.106Z"
   },
   {
    "duration": 0,
    "start_time": "2022-03-17T22:11:58.176Z"
   },
   {
    "duration": 0,
    "start_time": "2022-03-17T22:11:58.182Z"
   },
   {
    "duration": 14339,
    "start_time": "2022-03-18T09:42:47.318Z"
   },
   {
    "duration": 2298,
    "start_time": "2022-03-18T09:43:01.660Z"
   },
   {
    "duration": 3,
    "start_time": "2022-03-18T09:43:03.959Z"
   },
   {
    "duration": 158,
    "start_time": "2022-03-18T09:43:03.964Z"
   },
   {
    "duration": 120,
    "start_time": "2022-03-18T09:43:04.124Z"
   },
   {
    "duration": 119,
    "start_time": "2022-03-18T09:43:04.246Z"
   },
   {
    "duration": 3,
    "start_time": "2022-03-18T09:43:04.366Z"
   },
   {
    "duration": 36,
    "start_time": "2022-03-18T09:43:04.371Z"
   },
   {
    "duration": 19,
    "start_time": "2022-03-18T09:43:04.409Z"
   },
   {
    "duration": 12,
    "start_time": "2022-03-18T09:43:04.430Z"
   },
   {
    "duration": 32,
    "start_time": "2022-03-18T09:43:04.444Z"
   },
   {
    "duration": 82,
    "start_time": "2022-03-18T09:43:04.479Z"
   },
   {
    "duration": 86,
    "start_time": "2022-03-18T09:43:04.563Z"
   },
   {
    "duration": 5,
    "start_time": "2022-03-18T09:43:04.652Z"
   },
   {
    "duration": 41,
    "start_time": "2022-03-18T09:43:04.659Z"
   },
   {
    "duration": 2179,
    "start_time": "2022-03-18T09:43:04.702Z"
   },
   {
    "duration": 5,
    "start_time": "2022-03-18T09:43:06.883Z"
   },
   {
    "duration": 106,
    "start_time": "2022-03-18T09:43:06.890Z"
   },
   {
    "duration": 21,
    "start_time": "2022-03-18T09:43:06.998Z"
   },
   {
    "duration": 18,
    "start_time": "2022-03-18T09:43:07.020Z"
   },
   {
    "duration": 20,
    "start_time": "2022-03-18T09:43:07.040Z"
   },
   {
    "duration": 16,
    "start_time": "2022-03-18T09:43:07.063Z"
   },
   {
    "duration": 36,
    "start_time": "2022-03-18T09:43:07.081Z"
   },
   {
    "duration": 18,
    "start_time": "2022-03-18T09:43:07.118Z"
   },
   {
    "duration": 347,
    "start_time": "2022-03-18T09:43:07.138Z"
   },
   {
    "duration": 308,
    "start_time": "2022-03-18T09:43:07.487Z"
   },
   {
    "duration": 396,
    "start_time": "2022-03-18T09:43:07.797Z"
   },
   {
    "duration": 90,
    "start_time": "2022-03-18T09:43:08.195Z"
   },
   {
    "duration": 111,
    "start_time": "2022-03-18T09:43:08.287Z"
   },
   {
    "duration": 361306,
    "start_time": "2022-03-18T09:43:08.400Z"
   },
   {
    "duration": 0,
    "start_time": "2022-03-18T09:49:09.708Z"
   },
   {
    "duration": 0,
    "start_time": "2022-03-18T09:49:09.709Z"
   },
   {
    "duration": 2399,
    "start_time": "2022-03-18T10:02:39.888Z"
   },
   {
    "duration": 2037,
    "start_time": "2022-03-18T10:02:42.289Z"
   },
   {
    "duration": 3,
    "start_time": "2022-03-18T10:02:44.329Z"
   },
   {
    "duration": 127,
    "start_time": "2022-03-18T10:02:44.334Z"
   },
   {
    "duration": 111,
    "start_time": "2022-03-18T10:02:44.463Z"
   },
   {
    "duration": 113,
    "start_time": "2022-03-18T10:02:44.576Z"
   },
   {
    "duration": 3,
    "start_time": "2022-03-18T10:02:44.690Z"
   },
   {
    "duration": 19,
    "start_time": "2022-03-18T10:02:44.695Z"
   },
   {
    "duration": 2,
    "start_time": "2022-03-18T10:02:44.716Z"
   },
   {
    "duration": 7,
    "start_time": "2022-03-18T10:02:44.721Z"
   },
   {
    "duration": 9,
    "start_time": "2022-03-18T10:02:44.730Z"
   },
   {
    "duration": 68,
    "start_time": "2022-03-18T10:02:44.741Z"
   },
   {
    "duration": 86,
    "start_time": "2022-03-18T10:02:44.810Z"
   },
   {
    "duration": 5,
    "start_time": "2022-03-18T10:02:44.897Z"
   },
   {
    "duration": 23,
    "start_time": "2022-03-18T10:02:44.904Z"
   },
   {
    "duration": 1861,
    "start_time": "2022-03-18T10:02:44.929Z"
   },
   {
    "duration": 3,
    "start_time": "2022-03-18T10:02:46.793Z"
   },
   {
    "duration": 184,
    "start_time": "2022-03-18T10:02:46.798Z"
   },
   {
    "duration": 4,
    "start_time": "2022-03-18T10:02:46.984Z"
   },
   {
    "duration": 5,
    "start_time": "2022-03-18T10:02:46.989Z"
   },
   {
    "duration": 4,
    "start_time": "2022-03-18T10:02:46.995Z"
   },
   {
    "duration": 6,
    "start_time": "2022-03-18T10:02:47.001Z"
   },
   {
    "duration": 5,
    "start_time": "2022-03-18T10:02:47.009Z"
   },
   {
    "duration": 5,
    "start_time": "2022-03-18T10:02:47.015Z"
   },
   {
    "duration": 170,
    "start_time": "2022-03-18T10:02:47.021Z"
   },
   {
    "duration": 394,
    "start_time": "2022-03-18T10:02:47.193Z"
   },
   {
    "duration": 399,
    "start_time": "2022-03-18T10:02:47.590Z"
   },
   {
    "duration": 90,
    "start_time": "2022-03-18T10:02:47.993Z"
   },
   {
    "duration": 104,
    "start_time": "2022-03-18T10:02:48.086Z"
   },
   {
    "duration": 532792,
    "start_time": "2022-03-18T10:02:48.192Z"
   },
   {
    "duration": 0,
    "start_time": "2022-03-18T10:11:40.987Z"
   },
   {
    "duration": 0,
    "start_time": "2022-03-18T10:11:40.988Z"
   },
   {
    "duration": 3117,
    "start_time": "2022-03-18T10:12:04.023Z"
   },
   {
    "duration": 2141,
    "start_time": "2022-03-18T10:12:07.142Z"
   },
   {
    "duration": 2,
    "start_time": "2022-03-18T10:12:09.285Z"
   },
   {
    "duration": 124,
    "start_time": "2022-03-18T10:12:09.290Z"
   },
   {
    "duration": 119,
    "start_time": "2022-03-18T10:12:09.416Z"
   },
   {
    "duration": 120,
    "start_time": "2022-03-18T10:12:09.537Z"
   },
   {
    "duration": 3,
    "start_time": "2022-03-18T10:12:09.659Z"
   },
   {
    "duration": 26,
    "start_time": "2022-03-18T10:12:09.664Z"
   },
   {
    "duration": 3,
    "start_time": "2022-03-18T10:12:09.692Z"
   },
   {
    "duration": 5,
    "start_time": "2022-03-18T10:12:09.698Z"
   },
   {
    "duration": 5,
    "start_time": "2022-03-18T10:12:09.704Z"
   },
   {
    "duration": 94,
    "start_time": "2022-03-18T10:12:09.711Z"
   },
   {
    "duration": 87,
    "start_time": "2022-03-18T10:12:09.807Z"
   },
   {
    "duration": 5,
    "start_time": "2022-03-18T10:12:09.895Z"
   },
   {
    "duration": 7,
    "start_time": "2022-03-18T10:12:09.902Z"
   },
   {
    "duration": 2071,
    "start_time": "2022-03-18T10:12:09.911Z"
   },
   {
    "duration": 4,
    "start_time": "2022-03-18T10:12:11.984Z"
   },
   {
    "duration": 98,
    "start_time": "2022-03-18T10:12:11.989Z"
   },
   {
    "duration": 6,
    "start_time": "2022-03-18T10:12:12.088Z"
   },
   {
    "duration": 5,
    "start_time": "2022-03-18T10:12:12.095Z"
   },
   {
    "duration": 6,
    "start_time": "2022-03-18T10:12:12.101Z"
   },
   {
    "duration": 9,
    "start_time": "2022-03-18T10:12:12.108Z"
   },
   {
    "duration": 8,
    "start_time": "2022-03-18T10:12:12.118Z"
   },
   {
    "duration": 10,
    "start_time": "2022-03-18T10:12:12.127Z"
   },
   {
    "duration": 252,
    "start_time": "2022-03-18T10:12:12.138Z"
   },
   {
    "duration": 395,
    "start_time": "2022-03-18T10:12:12.393Z"
   },
   {
    "duration": 403,
    "start_time": "2022-03-18T10:12:12.791Z"
   },
   {
    "duration": 86,
    "start_time": "2022-03-18T10:12:13.198Z"
   },
   {
    "duration": 96,
    "start_time": "2022-03-18T10:12:13.286Z"
   },
   {
    "duration": 69602,
    "start_time": "2022-03-18T10:12:13.384Z"
   },
   {
    "duration": 0,
    "start_time": "2022-03-18T10:24:06.548Z"
   },
   {
    "duration": 0,
    "start_time": "2022-03-18T10:24:06.549Z"
   },
   {
    "duration": 0,
    "start_time": "2022-03-18T10:24:06.550Z"
   },
   {
    "duration": 0,
    "start_time": "2022-03-18T10:24:06.551Z"
   },
   {
    "duration": 0,
    "start_time": "2022-03-18T10:24:06.553Z"
   },
   {
    "duration": 0,
    "start_time": "2022-03-18T10:24:06.554Z"
   },
   {
    "duration": 0,
    "start_time": "2022-03-18T10:24:06.555Z"
   },
   {
    "duration": 0,
    "start_time": "2022-03-18T10:24:06.555Z"
   },
   {
    "duration": 0,
    "start_time": "2022-03-18T10:24:06.556Z"
   },
   {
    "duration": 0,
    "start_time": "2022-03-18T10:24:06.581Z"
   },
   {
    "duration": 0,
    "start_time": "2022-03-18T10:24:06.582Z"
   },
   {
    "duration": 0,
    "start_time": "2022-03-18T10:24:06.583Z"
   },
   {
    "duration": 0,
    "start_time": "2022-03-18T10:24:06.585Z"
   },
   {
    "duration": 0,
    "start_time": "2022-03-18T10:24:06.586Z"
   },
   {
    "duration": 0,
    "start_time": "2022-03-18T10:24:06.588Z"
   },
   {
    "duration": 0,
    "start_time": "2022-03-18T10:24:06.589Z"
   },
   {
    "duration": 0,
    "start_time": "2022-03-18T10:24:06.591Z"
   },
   {
    "duration": 0,
    "start_time": "2022-03-18T10:24:06.592Z"
   },
   {
    "duration": 0,
    "start_time": "2022-03-18T10:24:06.593Z"
   },
   {
    "duration": 0,
    "start_time": "2022-03-18T10:24:06.594Z"
   },
   {
    "duration": 0,
    "start_time": "2022-03-18T10:24:06.596Z"
   },
   {
    "duration": 0,
    "start_time": "2022-03-18T10:24:06.597Z"
   },
   {
    "duration": 0,
    "start_time": "2022-03-18T10:24:06.598Z"
   },
   {
    "duration": 0,
    "start_time": "2022-03-18T10:24:06.600Z"
   },
   {
    "duration": 0,
    "start_time": "2022-03-18T10:24:06.601Z"
   },
   {
    "duration": 0,
    "start_time": "2022-03-18T10:24:06.603Z"
   },
   {
    "duration": 0,
    "start_time": "2022-03-18T10:24:06.604Z"
   },
   {
    "duration": 0,
    "start_time": "2022-03-18T10:24:06.605Z"
   },
   {
    "duration": 0,
    "start_time": "2022-03-18T10:24:06.607Z"
   },
   {
    "duration": 0,
    "start_time": "2022-03-18T10:24:06.608Z"
   },
   {
    "duration": 0,
    "start_time": "2022-03-18T10:24:06.610Z"
   },
   {
    "duration": 0,
    "start_time": "2022-03-18T10:24:06.611Z"
   },
   {
    "duration": 9245,
    "start_time": "2022-03-18T10:24:30.344Z"
   },
   {
    "duration": 2140,
    "start_time": "2022-03-18T10:24:39.591Z"
   },
   {
    "duration": 3,
    "start_time": "2022-03-18T10:24:41.732Z"
   },
   {
    "duration": 124,
    "start_time": "2022-03-18T10:24:41.737Z"
   },
   {
    "duration": 114,
    "start_time": "2022-03-18T10:24:41.864Z"
   },
   {
    "duration": 117,
    "start_time": "2022-03-18T10:24:41.980Z"
   },
   {
    "duration": 3,
    "start_time": "2022-03-18T10:24:42.099Z"
   },
   {
    "duration": 16,
    "start_time": "2022-03-18T10:24:42.103Z"
   },
   {
    "duration": 8538,
    "start_time": "2022-03-18T10:24:42.120Z"
   },
   {
    "duration": 8069,
    "start_time": "2022-03-18T10:24:50.660Z"
   },
   {
    "duration": 8368,
    "start_time": "2022-03-18T10:24:58.730Z"
   },
   {
    "duration": 116,
    "start_time": "2022-03-18T10:25:07.100Z"
   },
   {
    "duration": 132,
    "start_time": "2022-03-18T10:25:07.218Z"
   },
   {
    "duration": 5,
    "start_time": "2022-03-18T10:25:07.353Z"
   },
   {
    "duration": 22,
    "start_time": "2022-03-18T10:25:07.360Z"
   },
   {
    "duration": 2101,
    "start_time": "2022-03-18T10:25:07.384Z"
   },
   {
    "duration": 3,
    "start_time": "2022-03-18T10:25:09.487Z"
   },
   {
    "duration": 14,
    "start_time": "2022-03-18T10:25:09.580Z"
   },
   {
    "duration": 19,
    "start_time": "2022-03-18T10:25:09.596Z"
   },
   {
    "duration": 6,
    "start_time": "2022-03-18T10:25:09.616Z"
   },
   {
    "duration": 12,
    "start_time": "2022-03-18T10:25:09.623Z"
   },
   {
    "duration": 13,
    "start_time": "2022-03-18T10:25:09.637Z"
   },
   {
    "duration": 20,
    "start_time": "2022-03-18T10:25:09.652Z"
   },
   {
    "duration": 16,
    "start_time": "2022-03-18T10:25:09.674Z"
   },
   {
    "duration": 198,
    "start_time": "2022-03-18T10:25:09.692Z"
   },
   {
    "duration": 400,
    "start_time": "2022-03-18T10:25:09.892Z"
   },
   {
    "duration": 388,
    "start_time": "2022-03-18T10:25:10.294Z"
   },
   {
    "duration": 96,
    "start_time": "2022-03-18T10:25:10.685Z"
   },
   {
    "duration": 31,
    "start_time": "2022-03-18T10:25:10.783Z"
   },
   {
    "duration": 64076,
    "start_time": "2022-03-18T10:25:10.815Z"
   },
   {
    "duration": 39903,
    "start_time": "2022-03-18T10:26:14.988Z"
   },
   {
    "duration": 185,
    "start_time": "2022-03-18T10:26:54.896Z"
   },
   {
    "duration": 3261,
    "start_time": "2022-03-18T10:35:04.833Z"
   },
   {
    "duration": 3092,
    "start_time": "2022-03-18T10:35:08.097Z"
   },
   {
    "duration": 3503,
    "start_time": "2022-03-18T10:35:11.192Z"
   },
   {
    "duration": 4,
    "start_time": "2022-03-18T10:35:15.480Z"
   },
   {
    "duration": 4,
    "start_time": "2022-03-18T10:37:39.145Z"
   },
   {
    "duration": 3415,
    "start_time": "2022-03-18T10:37:39.675Z"
   },
   {
    "duration": 3503,
    "start_time": "2022-03-18T10:37:43.092Z"
   },
   {
    "duration": 3684,
    "start_time": "2022-03-18T10:37:46.597Z"
   },
   {
    "duration": 5,
    "start_time": "2022-03-18T10:37:50.284Z"
   },
   {
    "duration": 154,
    "start_time": "2022-03-18T10:37:50.381Z"
   },
   {
    "duration": 4,
    "start_time": "2022-03-18T10:38:00.406Z"
   },
   {
    "duration": 8,
    "start_time": "2022-03-18T10:38:09.605Z"
   },
   {
    "duration": 321,
    "start_time": "2022-03-18T10:39:49.766Z"
   },
   {
    "duration": 4,
    "start_time": "2022-03-18T10:40:47.127Z"
   },
   {
    "duration": 816,
    "start_time": "2022-03-18T10:40:49.527Z"
   },
   {
    "duration": 4,
    "start_time": "2022-03-18T10:40:59.925Z"
   },
   {
    "duration": 10,
    "start_time": "2022-03-18T10:41:01.064Z"
   },
   {
    "duration": 2441,
    "start_time": "2022-03-18T10:41:32.985Z"
   },
   {
    "duration": 2029,
    "start_time": "2022-03-18T10:41:35.429Z"
   },
   {
    "duration": 3,
    "start_time": "2022-03-18T10:41:37.459Z"
   },
   {
    "duration": 131,
    "start_time": "2022-03-18T10:41:37.463Z"
   },
   {
    "duration": 119,
    "start_time": "2022-03-18T10:41:37.596Z"
   },
   {
    "duration": 123,
    "start_time": "2022-03-18T10:41:37.717Z"
   },
   {
    "duration": 2,
    "start_time": "2022-03-18T10:41:37.841Z"
   },
   {
    "duration": 18,
    "start_time": "2022-03-18T10:41:37.845Z"
   },
   {
    "duration": 8468,
    "start_time": "2022-03-18T10:41:37.864Z"
   },
   {
    "duration": 7962,
    "start_time": "2022-03-18T10:41:46.333Z"
   },
   {
    "duration": 8223,
    "start_time": "2022-03-18T10:41:54.296Z"
   },
   {
    "duration": 100,
    "start_time": "2022-03-18T10:42:02.521Z"
   },
   {
    "duration": 133,
    "start_time": "2022-03-18T10:42:02.623Z"
   },
   {
    "duration": 21,
    "start_time": "2022-03-18T10:42:02.760Z"
   },
   {
    "duration": 13,
    "start_time": "2022-03-18T10:42:02.783Z"
   },
   {
    "duration": 2083,
    "start_time": "2022-03-18T10:42:02.797Z"
   },
   {
    "duration": 4,
    "start_time": "2022-03-18T10:42:04.883Z"
   },
   {
    "duration": 99,
    "start_time": "2022-03-18T10:42:04.889Z"
   },
   {
    "duration": 8,
    "start_time": "2022-03-18T10:42:04.990Z"
   },
   {
    "duration": 6,
    "start_time": "2022-03-18T10:42:04.999Z"
   },
   {
    "duration": 5,
    "start_time": "2022-03-18T10:42:05.006Z"
   },
   {
    "duration": 6,
    "start_time": "2022-03-18T10:42:05.012Z"
   },
   {
    "duration": 7,
    "start_time": "2022-03-18T10:42:05.019Z"
   },
   {
    "duration": 6,
    "start_time": "2022-03-18T10:42:05.027Z"
   },
   {
    "duration": 249,
    "start_time": "2022-03-18T10:42:05.034Z"
   },
   {
    "duration": 303,
    "start_time": "2022-03-18T10:42:05.285Z"
   },
   {
    "duration": 400,
    "start_time": "2022-03-18T10:42:05.590Z"
   },
   {
    "duration": 89,
    "start_time": "2022-03-18T10:42:05.993Z"
   },
   {
    "duration": 33303,
    "start_time": "2022-03-18T10:42:06.085Z"
   },
   {
    "duration": 35701,
    "start_time": "2022-03-18T10:42:39.391Z"
   },
   {
    "duration": 35587,
    "start_time": "2022-03-18T10:43:15.094Z"
   },
   {
    "duration": 6,
    "start_time": "2022-03-18T10:43:50.683Z"
   },
   {
    "duration": 922,
    "start_time": "2022-03-18T10:43:50.691Z"
   },
   {
    "duration": 4,
    "start_time": "2022-03-18T10:43:51.615Z"
   },
   {
    "duration": 14,
    "start_time": "2022-03-18T10:43:51.620Z"
   },
   {
    "duration": 2468,
    "start_time": "2022-03-18T10:44:56.439Z"
   },
   {
    "duration": 2078,
    "start_time": "2022-03-18T10:44:58.909Z"
   },
   {
    "duration": 3,
    "start_time": "2022-03-18T10:45:00.988Z"
   },
   {
    "duration": 171,
    "start_time": "2022-03-18T10:45:00.994Z"
   },
   {
    "duration": 120,
    "start_time": "2022-03-18T10:45:01.167Z"
   },
   {
    "duration": 123,
    "start_time": "2022-03-18T10:45:01.289Z"
   },
   {
    "duration": 3,
    "start_time": "2022-03-18T10:45:01.413Z"
   },
   {
    "duration": 31,
    "start_time": "2022-03-18T10:45:01.417Z"
   },
   {
    "duration": 8303,
    "start_time": "2022-03-18T10:45:01.450Z"
   },
   {
    "duration": 8041,
    "start_time": "2022-03-18T10:45:09.756Z"
   },
   {
    "duration": 8106,
    "start_time": "2022-03-18T10:45:17.799Z"
   },
   {
    "duration": 105,
    "start_time": "2022-03-18T10:45:25.907Z"
   },
   {
    "duration": 130,
    "start_time": "2022-03-18T10:45:26.014Z"
   },
   {
    "duration": 4,
    "start_time": "2022-03-18T10:45:26.146Z"
   },
   {
    "duration": 9,
    "start_time": "2022-03-18T10:45:26.152Z"
   },
   {
    "duration": 1925,
    "start_time": "2022-03-18T10:45:26.162Z"
   },
   {
    "duration": 3,
    "start_time": "2022-03-18T10:45:28.089Z"
   },
   {
    "duration": 193,
    "start_time": "2022-03-18T10:45:28.094Z"
   },
   {
    "duration": 5,
    "start_time": "2022-03-18T10:45:28.289Z"
   },
   {
    "duration": 5,
    "start_time": "2022-03-18T10:45:28.296Z"
   },
   {
    "duration": 7,
    "start_time": "2022-03-18T10:45:28.302Z"
   },
   {
    "duration": 6,
    "start_time": "2022-03-18T10:45:28.310Z"
   },
   {
    "duration": 4,
    "start_time": "2022-03-18T10:45:28.317Z"
   },
   {
    "duration": 4,
    "start_time": "2022-03-18T10:45:28.323Z"
   },
   {
    "duration": 252,
    "start_time": "2022-03-18T10:45:28.328Z"
   },
   {
    "duration": 311,
    "start_time": "2022-03-18T10:45:28.582Z"
   },
   {
    "duration": 397,
    "start_time": "2022-03-18T10:45:28.895Z"
   },
   {
    "duration": 87,
    "start_time": "2022-03-18T10:45:29.297Z"
   },
   {
    "duration": 2523,
    "start_time": "2022-03-18T10:50:17.451Z"
   },
   {
    "duration": 2217,
    "start_time": "2022-03-18T10:50:19.976Z"
   },
   {
    "duration": 3,
    "start_time": "2022-03-18T10:50:22.195Z"
   },
   {
    "duration": 130,
    "start_time": "2022-03-18T10:50:22.199Z"
   },
   {
    "duration": 123,
    "start_time": "2022-03-18T10:50:22.330Z"
   },
   {
    "duration": 122,
    "start_time": "2022-03-18T10:50:22.455Z"
   },
   {
    "duration": 3,
    "start_time": "2022-03-18T10:50:22.581Z"
   },
   {
    "duration": 16,
    "start_time": "2022-03-18T10:50:22.585Z"
   },
   {
    "duration": 8479,
    "start_time": "2022-03-18T10:50:22.602Z"
   },
   {
    "duration": 8135,
    "start_time": "2022-03-18T10:50:31.086Z"
   },
   {
    "duration": 8082,
    "start_time": "2022-03-18T10:50:39.223Z"
   },
   {
    "duration": 104,
    "start_time": "2022-03-18T10:50:47.306Z"
   },
   {
    "duration": 117,
    "start_time": "2022-03-18T10:50:47.412Z"
   },
   {
    "duration": 5,
    "start_time": "2022-03-18T10:50:47.531Z"
   },
   {
    "duration": 8,
    "start_time": "2022-03-18T10:50:47.537Z"
   },
   {
    "duration": 1946,
    "start_time": "2022-03-18T10:50:47.547Z"
   },
   {
    "duration": 91,
    "start_time": "2022-03-18T10:50:49.497Z"
   },
   {
    "duration": 96,
    "start_time": "2022-03-18T10:50:49.592Z"
   },
   {
    "duration": 5,
    "start_time": "2022-03-18T10:50:49.690Z"
   },
   {
    "duration": 9,
    "start_time": "2022-03-18T10:50:49.696Z"
   },
   {
    "duration": 10,
    "start_time": "2022-03-18T10:50:49.706Z"
   },
   {
    "duration": 8,
    "start_time": "2022-03-18T10:50:49.717Z"
   },
   {
    "duration": 9,
    "start_time": "2022-03-18T10:50:49.726Z"
   },
   {
    "duration": 6,
    "start_time": "2022-03-18T10:50:49.737Z"
   },
   {
    "duration": 243,
    "start_time": "2022-03-18T10:50:49.744Z"
   },
   {
    "duration": 399,
    "start_time": "2022-03-18T10:50:49.989Z"
   },
   {
    "duration": 397,
    "start_time": "2022-03-18T10:50:50.390Z"
   },
   {
    "duration": 91,
    "start_time": "2022-03-18T10:50:50.791Z"
   },
   {
    "duration": 351904,
    "start_time": "2022-03-18T10:50:50.884Z"
   },
   {
    "duration": 284294,
    "start_time": "2022-03-18T10:56:42.790Z"
   },
   {
    "duration": 279004,
    "start_time": "2022-03-18T11:01:27.086Z"
   },
   {
    "duration": 8,
    "start_time": "2022-03-18T11:06:06.093Z"
   },
   {
    "duration": 990,
    "start_time": "2022-03-18T11:06:06.103Z"
   },
   {
    "duration": 6,
    "start_time": "2022-03-18T11:06:07.094Z"
   },
   {
    "duration": 16,
    "start_time": "2022-03-18T11:06:07.102Z"
   },
   {
    "duration": 2585,
    "start_time": "2022-03-18T11:14:31.096Z"
   },
   {
    "duration": 2106,
    "start_time": "2022-03-18T11:14:33.683Z"
   },
   {
    "duration": 5,
    "start_time": "2022-03-18T11:14:35.790Z"
   },
   {
    "duration": 147,
    "start_time": "2022-03-18T11:14:35.796Z"
   },
   {
    "duration": 126,
    "start_time": "2022-03-18T11:14:35.945Z"
   },
   {
    "duration": 138,
    "start_time": "2022-03-18T11:14:36.073Z"
   },
   {
    "duration": 3,
    "start_time": "2022-03-18T11:14:36.213Z"
   },
   {
    "duration": 28,
    "start_time": "2022-03-18T11:14:36.217Z"
   },
   {
    "duration": 8817,
    "start_time": "2022-03-18T11:14:36.247Z"
   },
   {
    "duration": 8461,
    "start_time": "2022-03-18T11:14:45.080Z"
   },
   {
    "duration": 8603,
    "start_time": "2022-03-18T11:14:53.542Z"
   },
   {
    "duration": 145,
    "start_time": "2022-03-18T11:15:02.147Z"
   },
   {
    "duration": 124,
    "start_time": "2022-03-18T11:15:02.294Z"
   },
   {
    "duration": 4,
    "start_time": "2022-03-18T11:15:02.420Z"
   },
   {
    "duration": 9,
    "start_time": "2022-03-18T11:15:02.426Z"
   },
   {
    "duration": 1363,
    "start_time": "2022-03-18T11:15:02.437Z"
   },
   {
    "duration": 94,
    "start_time": "2022-03-18T11:15:03.802Z"
   },
   {
    "duration": 83,
    "start_time": "2022-03-18T11:15:03.901Z"
   },
   {
    "duration": 12,
    "start_time": "2022-03-18T11:15:03.986Z"
   },
   {
    "duration": 4,
    "start_time": "2022-03-18T11:15:04.000Z"
   },
   {
    "duration": 6,
    "start_time": "2022-03-18T11:15:04.005Z"
   },
   {
    "duration": 5,
    "start_time": "2022-03-18T11:15:04.013Z"
   },
   {
    "duration": 5,
    "start_time": "2022-03-18T11:15:04.020Z"
   },
   {
    "duration": 7,
    "start_time": "2022-03-18T11:15:04.026Z"
   },
   {
    "duration": 173,
    "start_time": "2022-03-18T11:15:04.035Z"
   },
   {
    "duration": 294,
    "start_time": "2022-03-18T11:15:04.287Z"
   },
   {
    "duration": 218,
    "start_time": "2022-03-18T11:15:04.587Z"
   },
   {
    "duration": 9,
    "start_time": "2022-03-18T11:15:04.882Z"
   },
   {
    "duration": 274391,
    "start_time": "2022-03-18T11:15:04.892Z"
   },
   {
    "duration": 278609,
    "start_time": "2022-03-18T11:19:39.284Z"
   },
   {
    "duration": 302693,
    "start_time": "2022-03-18T11:24:17.898Z"
   },
   {
    "duration": 90,
    "start_time": "2022-03-18T11:29:20.593Z"
   },
   {
    "duration": 971,
    "start_time": "2022-03-18T11:29:20.690Z"
   },
   {
    "duration": 19,
    "start_time": "2022-03-18T11:29:21.662Z"
   },
   {
    "duration": 9,
    "start_time": "2022-03-18T11:29:21.682Z"
   },
   {
    "duration": 4,
    "start_time": "2022-03-18T11:36:23.682Z"
   },
   {
    "duration": 2570,
    "start_time": "2022-03-18T12:47:33.666Z"
   },
   {
    "duration": 2095,
    "start_time": "2022-03-18T12:47:36.238Z"
   },
   {
    "duration": 3,
    "start_time": "2022-03-18T12:47:38.336Z"
   },
   {
    "duration": 2593,
    "start_time": "2022-03-18T12:47:38.341Z"
   },
   {
    "duration": 2129,
    "start_time": "2022-03-18T12:47:40.936Z"
   },
   {
    "duration": 2573,
    "start_time": "2022-03-18T12:47:43.066Z"
   },
   {
    "duration": 3,
    "start_time": "2022-03-18T12:47:45.641Z"
   },
   {
    "duration": 41,
    "start_time": "2022-03-18T12:47:45.645Z"
   },
   {
    "duration": 8692,
    "start_time": "2022-03-18T12:47:45.688Z"
   },
   {
    "duration": 8365,
    "start_time": "2022-03-18T12:47:54.383Z"
   },
   {
    "duration": 8359,
    "start_time": "2022-03-18T12:48:02.750Z"
   },
   {
    "duration": 186,
    "start_time": "2022-03-18T12:48:11.111Z"
   },
   {
    "duration": 97,
    "start_time": "2022-03-18T12:48:11.299Z"
   },
   {
    "duration": 5,
    "start_time": "2022-03-18T12:48:11.398Z"
   },
   {
    "duration": 9,
    "start_time": "2022-03-18T12:48:11.404Z"
   },
   {
    "duration": 1971,
    "start_time": "2022-03-18T12:48:11.414Z"
   },
   {
    "duration": 3,
    "start_time": "2022-03-18T12:48:13.386Z"
   },
   {
    "duration": 8,
    "start_time": "2022-03-18T12:48:13.482Z"
   },
   {
    "duration": 5,
    "start_time": "2022-03-18T12:48:13.493Z"
   },
   {
    "duration": 99,
    "start_time": "2022-03-18T12:48:13.500Z"
   },
   {
    "duration": 6,
    "start_time": "2022-03-18T12:48:13.601Z"
   },
   {
    "duration": 8,
    "start_time": "2022-03-18T12:48:13.608Z"
   },
   {
    "duration": 8,
    "start_time": "2022-03-18T12:48:13.618Z"
   },
   {
    "duration": 5,
    "start_time": "2022-03-18T12:48:13.627Z"
   },
   {
    "duration": 251,
    "start_time": "2022-03-18T12:48:13.633Z"
   },
   {
    "duration": 301,
    "start_time": "2022-03-18T12:48:13.886Z"
   },
   {
    "duration": 298,
    "start_time": "2022-03-18T12:48:14.190Z"
   },
   {
    "duration": 91,
    "start_time": "2022-03-18T12:48:14.492Z"
   },
   {
    "duration": 347310,
    "start_time": "2022-03-18T12:48:14.585Z"
   },
   {
    "duration": 366792,
    "start_time": "2022-03-18T12:54:01.897Z"
   },
   {
    "duration": 57225,
    "start_time": "2022-03-19T11:20:23.345Z"
   },
   {
    "duration": 41460,
    "start_time": "2022-03-19T11:29:26.633Z"
   },
   {
    "duration": 93372,
    "start_time": "2022-03-19T11:30:08.101Z"
   },
   {
    "duration": 4,
    "start_time": "2022-03-19T11:31:41.476Z"
   },
   {
    "duration": 164,
    "start_time": "2022-03-19T11:31:41.484Z"
   },
   {
    "duration": 154,
    "start_time": "2022-03-19T11:31:41.651Z"
   },
   {
    "duration": 150,
    "start_time": "2022-03-19T11:31:41.807Z"
   },
   {
    "duration": 4,
    "start_time": "2022-03-19T11:31:41.959Z"
   },
   {
    "duration": 22,
    "start_time": "2022-03-19T11:31:41.965Z"
   },
   {
    "duration": 15917,
    "start_time": "2022-03-19T11:31:41.990Z"
   },
   {
    "duration": 13270,
    "start_time": "2022-03-19T11:31:57.911Z"
   },
   {
    "duration": 14009,
    "start_time": "2022-03-19T11:32:11.183Z"
   },
   {
    "duration": 183,
    "start_time": "2022-03-19T11:32:25.196Z"
   },
   {
    "duration": 192,
    "start_time": "2022-03-19T11:32:25.382Z"
   },
   {
    "duration": 8,
    "start_time": "2022-03-19T11:32:25.576Z"
   },
   {
    "duration": 9,
    "start_time": "2022-03-19T11:32:25.588Z"
   },
   {
    "duration": 2344,
    "start_time": "2022-03-19T11:32:25.600Z"
   },
   {
    "duration": 5,
    "start_time": "2022-03-19T11:32:27.947Z"
   },
   {
    "duration": 4,
    "start_time": "2022-03-19T11:32:28.044Z"
   },
   {
    "duration": 5,
    "start_time": "2022-03-19T11:32:28.050Z"
   },
   {
    "duration": 5,
    "start_time": "2022-03-19T11:32:28.057Z"
   },
   {
    "duration": 6,
    "start_time": "2022-03-19T11:32:28.064Z"
   },
   {
    "duration": 8,
    "start_time": "2022-03-19T11:32:28.071Z"
   },
   {
    "duration": 5,
    "start_time": "2022-03-19T11:32:28.081Z"
   },
   {
    "duration": 6,
    "start_time": "2022-03-19T11:32:28.088Z"
   },
   {
    "duration": 226,
    "start_time": "2022-03-19T11:32:28.144Z"
   },
   {
    "duration": 389,
    "start_time": "2022-03-19T11:32:28.373Z"
   },
   {
    "duration": 314,
    "start_time": "2022-03-19T11:32:28.845Z"
   },
   {
    "duration": 86,
    "start_time": "2022-03-19T11:32:29.164Z"
   },
   {
    "duration": 395389,
    "start_time": "2022-03-19T11:32:29.254Z"
   },
   {
    "duration": 395506,
    "start_time": "2022-03-19T11:39:04.646Z"
   },
   {
    "duration": 393087,
    "start_time": "2022-03-19T11:45:40.156Z"
   },
   {
    "duration": 6,
    "start_time": "2022-03-19T11:52:13.245Z"
   },
   {
    "duration": 1410,
    "start_time": "2022-03-19T11:52:13.254Z"
   },
   {
    "duration": 8,
    "start_time": "2022-03-19T11:52:14.666Z"
   },
   {
    "duration": 18,
    "start_time": "2022-03-19T11:52:14.677Z"
   },
   {
    "duration": 13,
    "start_time": "2022-03-19T16:50:31.367Z"
   },
   {
    "duration": 70,
    "start_time": "2022-03-19T16:50:38.640Z"
   },
   {
    "duration": 9,
    "start_time": "2022-03-19T16:50:52.318Z"
   },
   {
    "duration": 21937,
    "start_time": "2022-03-19T16:56:19.437Z"
   },
   {
    "duration": 3498,
    "start_time": "2022-03-19T16:56:44.593Z"
   },
   {
    "duration": 5,
    "start_time": "2022-03-19T16:56:48.093Z"
   },
   {
    "duration": 172,
    "start_time": "2022-03-19T16:56:50.900Z"
   },
   {
    "duration": 238,
    "start_time": "2022-03-19T16:56:51.491Z"
   },
   {
    "duration": 232,
    "start_time": "2022-03-19T16:56:52.107Z"
   },
   {
    "duration": 4,
    "start_time": "2022-03-19T16:56:53.132Z"
   },
   {
    "duration": 21,
    "start_time": "2022-03-19T16:56:56.374Z"
   },
   {
    "duration": 5,
    "start_time": "2022-03-19T16:57:11.325Z"
   },
   {
    "duration": 171,
    "start_time": "2022-03-19T16:57:14.807Z"
   },
   {
    "duration": 10,
    "start_time": "2022-03-19T16:58:10.383Z"
   },
   {
    "duration": 5,
    "start_time": "2022-03-19T16:58:14.873Z"
   },
   {
    "duration": 515,
    "start_time": "2022-03-19T16:58:17.438Z"
   },
   {
    "duration": 4,
    "start_time": "2022-03-19T17:07:48.931Z"
   },
   {
    "duration": 13,
    "start_time": "2022-03-19T17:37:20.693Z"
   },
   {
    "duration": 251,
    "start_time": "2022-03-19T17:37:29.019Z"
   },
   {
    "duration": 15,
    "start_time": "2022-03-19T17:37:30.043Z"
   },
   {
    "duration": 205,
    "start_time": "2022-03-19T17:39:00.844Z"
   },
   {
    "duration": 8,
    "start_time": "2022-03-19T17:41:38.588Z"
   },
   {
    "duration": 23,
    "start_time": "2022-03-19T17:41:54.286Z"
   },
   {
    "duration": 6,
    "start_time": "2022-03-19T17:42:38.697Z"
   },
   {
    "duration": 28,
    "start_time": "2022-03-19T17:42:41.183Z"
   },
   {
    "duration": 3,
    "start_time": "2022-03-19T17:43:04.930Z"
   },
   {
    "duration": 3,
    "start_time": "2022-03-19T17:43:09.231Z"
   },
   {
    "duration": 9,
    "start_time": "2022-03-19T17:43:09.237Z"
   },
   {
    "duration": 17,
    "start_time": "2022-03-19T17:43:09.248Z"
   },
   {
    "duration": 4,
    "start_time": "2022-03-19T17:43:09.506Z"
   },
   {
    "duration": 4,
    "start_time": "2022-03-19T17:43:10.163Z"
   },
   {
    "duration": 5,
    "start_time": "2022-03-19T17:43:10.724Z"
   },
   {
    "duration": 3,
    "start_time": "2022-03-19T17:43:11.201Z"
   },
   {
    "duration": 12,
    "start_time": "2022-03-19T17:43:14.190Z"
   },
   {
    "duration": 5,
    "start_time": "2022-03-19T17:43:45.859Z"
   },
   {
    "duration": 5,
    "start_time": "2022-03-19T17:43:47.638Z"
   },
   {
    "duration": 5,
    "start_time": "2022-03-19T17:43:51.975Z"
   },
   {
    "duration": 210,
    "start_time": "2022-03-19T17:43:52.463Z"
   },
   {
    "duration": 282,
    "start_time": "2022-03-19T17:43:52.977Z"
   },
   {
    "duration": 174,
    "start_time": "2022-03-19T17:43:53.479Z"
   },
   {
    "duration": 6,
    "start_time": "2022-03-19T17:43:54.006Z"
   },
   {
    "duration": 9,
    "start_time": "2022-03-19T17:43:57.063Z"
   },
   {
    "duration": 4258,
    "start_time": "2022-03-19T17:43:58.674Z"
   },
   {
    "duration": 8,
    "start_time": "2022-03-19T17:44:14.427Z"
   },
   {
    "duration": 9,
    "start_time": "2022-03-19T17:44:29.558Z"
   },
   {
    "duration": 13,
    "start_time": "2022-03-19T17:53:58.540Z"
   },
   {
    "duration": 4259,
    "start_time": "2022-03-19T17:54:00.694Z"
   },
   {
    "duration": 0,
    "start_time": "2022-03-19T17:54:04.955Z"
   },
   {
    "duration": 0,
    "start_time": "2022-03-19T17:54:04.956Z"
   },
   {
    "duration": 4977,
    "start_time": "2022-03-19T17:54:42.580Z"
   },
   {
    "duration": 3035,
    "start_time": "2022-03-19T17:54:47.561Z"
   },
   {
    "duration": 4,
    "start_time": "2022-03-19T17:54:50.599Z"
   },
   {
    "duration": 196,
    "start_time": "2022-03-19T17:54:50.607Z"
   },
   {
    "duration": 189,
    "start_time": "2022-03-19T17:54:50.807Z"
   },
   {
    "duration": 185,
    "start_time": "2022-03-19T17:54:50.999Z"
   },
   {
    "duration": 4,
    "start_time": "2022-03-19T17:54:51.187Z"
   },
   {
    "duration": 29,
    "start_time": "2022-03-19T17:54:51.193Z"
   },
   {
    "duration": 14255,
    "start_time": "2022-03-19T17:54:51.246Z"
   },
   {
    "duration": 14151,
    "start_time": "2022-03-19T17:55:05.503Z"
   },
   {
    "duration": 14871,
    "start_time": "2022-03-19T17:55:19.657Z"
   },
   {
    "duration": 169,
    "start_time": "2022-03-19T17:55:34.544Z"
   },
   {
    "duration": 197,
    "start_time": "2022-03-19T17:55:34.715Z"
   },
   {
    "duration": 8,
    "start_time": "2022-03-19T17:55:34.919Z"
   },
   {
    "duration": 43,
    "start_time": "2022-03-19T17:55:34.930Z"
   },
   {
    "duration": 225,
    "start_time": "2022-03-19T17:55:34.975Z"
   },
   {
    "duration": 0,
    "start_time": "2022-03-19T17:55:35.202Z"
   },
   {
    "duration": 0,
    "start_time": "2022-03-19T17:55:35.205Z"
   },
   {
    "duration": 0,
    "start_time": "2022-03-19T17:55:35.206Z"
   },
   {
    "duration": 0,
    "start_time": "2022-03-19T17:55:35.209Z"
   },
   {
    "duration": 0,
    "start_time": "2022-03-19T17:55:35.210Z"
   },
   {
    "duration": 0,
    "start_time": "2022-03-19T17:55:35.212Z"
   },
   {
    "duration": 0,
    "start_time": "2022-03-19T17:55:35.214Z"
   },
   {
    "duration": 0,
    "start_time": "2022-03-19T17:55:35.215Z"
   },
   {
    "duration": 0,
    "start_time": "2022-03-19T17:55:35.217Z"
   },
   {
    "duration": 0,
    "start_time": "2022-03-19T17:55:35.219Z"
   },
   {
    "duration": 0,
    "start_time": "2022-03-19T17:55:35.220Z"
   },
   {
    "duration": 0,
    "start_time": "2022-03-19T17:55:35.222Z"
   },
   {
    "duration": 0,
    "start_time": "2022-03-19T17:55:35.224Z"
   },
   {
    "duration": 0,
    "start_time": "2022-03-19T17:55:35.226Z"
   },
   {
    "duration": 0,
    "start_time": "2022-03-19T17:55:35.227Z"
   },
   {
    "duration": 0,
    "start_time": "2022-03-19T17:55:35.229Z"
   },
   {
    "duration": 0,
    "start_time": "2022-03-19T17:55:35.231Z"
   },
   {
    "duration": 0,
    "start_time": "2022-03-19T17:55:35.233Z"
   },
   {
    "duration": 0,
    "start_time": "2022-03-19T17:55:35.234Z"
   },
   {
    "duration": 0,
    "start_time": "2022-03-19T17:55:35.236Z"
   },
   {
    "duration": 0,
    "start_time": "2022-03-19T17:55:35.238Z"
   },
   {
    "duration": 0,
    "start_time": "2022-03-19T17:55:35.253Z"
   },
   {
    "duration": 219,
    "start_time": "2022-03-19T17:56:09.183Z"
   },
   {
    "duration": 199,
    "start_time": "2022-03-19T17:56:36.673Z"
   },
   {
    "duration": 415,
    "start_time": "2022-03-19T17:56:45.949Z"
   },
   {
    "duration": 4855,
    "start_time": "2022-03-19T17:56:57.596Z"
   },
   {
    "duration": 3244,
    "start_time": "2022-03-19T17:57:02.455Z"
   },
   {
    "duration": 5,
    "start_time": "2022-03-19T17:57:05.702Z"
   },
   {
    "duration": 188,
    "start_time": "2022-03-19T17:57:05.711Z"
   },
   {
    "duration": 180,
    "start_time": "2022-03-19T17:57:05.902Z"
   },
   {
    "duration": 243,
    "start_time": "2022-03-19T17:57:06.084Z"
   },
   {
    "duration": 4,
    "start_time": "2022-03-19T17:57:06.330Z"
   },
   {
    "duration": 24,
    "start_time": "2022-03-19T17:57:06.352Z"
   },
   {
    "duration": 15975,
    "start_time": "2022-03-19T17:57:06.379Z"
   },
   {
    "duration": 14597,
    "start_time": "2022-03-19T17:57:22.360Z"
   },
   {
    "duration": 17809,
    "start_time": "2022-03-19T17:57:36.960Z"
   },
   {
    "duration": 191,
    "start_time": "2022-03-19T17:57:54.771Z"
   },
   {
    "duration": 211,
    "start_time": "2022-03-19T17:57:54.968Z"
   },
   {
    "duration": 11,
    "start_time": "2022-03-19T17:57:55.182Z"
   },
   {
    "duration": 9,
    "start_time": "2022-03-19T17:57:55.196Z"
   },
   {
    "duration": 469,
    "start_time": "2022-03-19T17:57:55.207Z"
   },
   {
    "duration": 72,
    "start_time": "2022-03-19T17:57:55.681Z"
   },
   {
    "duration": 18,
    "start_time": "2022-03-19T17:57:55.763Z"
   },
   {
    "duration": 7,
    "start_time": "2022-03-19T17:57:55.783Z"
   },
   {
    "duration": 65,
    "start_time": "2022-03-19T17:57:55.792Z"
   },
   {
    "duration": 14,
    "start_time": "2022-03-19T17:57:55.864Z"
   },
   {
    "duration": 6,
    "start_time": "2022-03-19T17:57:55.880Z"
   },
   {
    "duration": 187,
    "start_time": "2022-03-19T17:57:55.889Z"
   },
   {
    "duration": 388,
    "start_time": "2022-03-19T17:57:56.079Z"
   },
   {
    "duration": 408,
    "start_time": "2022-03-19T17:57:56.479Z"
   },
   {
    "duration": 4,
    "start_time": "2022-03-19T17:57:56.889Z"
   },
   {
    "duration": 149,
    "start_time": "2022-03-19T17:57:56.896Z"
   },
   {
    "duration": 26,
    "start_time": "2022-03-19T17:57:57.054Z"
   },
   {
    "duration": 11,
    "start_time": "2022-03-19T17:57:57.083Z"
   },
   {
    "duration": 9,
    "start_time": "2022-03-19T17:57:57.097Z"
   },
   {
    "duration": 10,
    "start_time": "2022-03-19T17:57:57.109Z"
   },
   {
    "duration": 4680,
    "start_time": "2022-03-19T17:57:57.148Z"
   },
   {
    "duration": 0,
    "start_time": "2022-03-19T17:58:01.831Z"
   },
   {
    "duration": 0,
    "start_time": "2022-03-19T17:58:01.834Z"
   },
   {
    "duration": 0,
    "start_time": "2022-03-19T17:58:01.836Z"
   },
   {
    "duration": 0,
    "start_time": "2022-03-19T17:58:01.838Z"
   },
   {
    "duration": 0,
    "start_time": "2022-03-19T17:58:01.841Z"
   },
   {
    "duration": 0,
    "start_time": "2022-03-19T17:58:01.843Z"
   },
   {
    "duration": 2530,
    "start_time": "2022-03-19T17:59:55.995Z"
   },
   {
    "duration": 2346,
    "start_time": "2022-03-19T18:00:08.224Z"
   },
   {
    "duration": 2351,
    "start_time": "2022-03-19T18:00:17.459Z"
   },
   {
    "duration": 6,
    "start_time": "2022-03-19T18:00:20.604Z"
   },
   {
    "duration": 1671,
    "start_time": "2022-03-19T18:00:23.185Z"
   },
   {
    "duration": 8,
    "start_time": "2022-03-19T18:00:35.293Z"
   },
   {
    "duration": 20,
    "start_time": "2022-03-19T18:00:36.300Z"
   },
   {
    "duration": 6,
    "start_time": "2022-03-19T18:04:32.914Z"
   },
   {
    "duration": 1507,
    "start_time": "2022-03-19T18:04:34.364Z"
   },
   {
    "duration": 7,
    "start_time": "2022-03-19T18:04:46.107Z"
   },
   {
    "duration": 1769,
    "start_time": "2022-03-19T18:04:46.975Z"
   },
   {
    "duration": 5,
    "start_time": "2022-03-19T18:05:37.317Z"
   },
   {
    "duration": 1480,
    "start_time": "2022-03-19T18:05:37.956Z"
   },
   {
    "duration": 9,
    "start_time": "2022-03-19T18:05:48.668Z"
   },
   {
    "duration": 10,
    "start_time": "2022-03-19T18:05:55.055Z"
   },
   {
    "duration": 1758,
    "start_time": "2022-03-19T18:05:55.610Z"
   },
   {
    "duration": 7,
    "start_time": "2022-03-19T18:07:06.602Z"
   },
   {
    "duration": 1586,
    "start_time": "2022-03-19T18:07:07.737Z"
   },
   {
    "duration": 11,
    "start_time": "2022-03-19T18:07:24.803Z"
   },
   {
    "duration": 17,
    "start_time": "2022-03-19T18:07:25.638Z"
   },
   {
    "duration": 7,
    "start_time": "2022-03-19T18:11:21.998Z"
   },
   {
    "duration": 14,
    "start_time": "2022-03-19T18:11:22.474Z"
   },
   {
    "duration": 4729,
    "start_time": "2022-03-19T18:14:25.772Z"
   },
   {
    "duration": 3127,
    "start_time": "2022-03-19T18:14:30.504Z"
   },
   {
    "duration": 11,
    "start_time": "2022-03-19T18:14:33.634Z"
   },
   {
    "duration": 300,
    "start_time": "2022-03-19T18:14:33.650Z"
   },
   {
    "duration": 196,
    "start_time": "2022-03-19T18:14:33.955Z"
   },
   {
    "duration": 197,
    "start_time": "2022-03-19T18:14:34.156Z"
   },
   {
    "duration": 7,
    "start_time": "2022-03-19T18:14:34.356Z"
   },
   {
    "duration": 42,
    "start_time": "2022-03-19T18:14:34.366Z"
   },
   {
    "duration": 17856,
    "start_time": "2022-03-19T18:14:34.411Z"
   },
   {
    "duration": 15503,
    "start_time": "2022-03-19T18:14:52.270Z"
   },
   {
    "duration": 14798,
    "start_time": "2022-03-19T18:15:07.776Z"
   },
   {
    "duration": 193,
    "start_time": "2022-03-19T18:15:22.576Z"
   },
   {
    "duration": 156,
    "start_time": "2022-03-19T18:15:22.772Z"
   },
   {
    "duration": 17,
    "start_time": "2022-03-19T18:15:22.933Z"
   },
   {
    "duration": 32,
    "start_time": "2022-03-19T18:15:22.952Z"
   },
   {
    "duration": 469,
    "start_time": "2022-03-19T18:15:22.987Z"
   },
   {
    "duration": 8,
    "start_time": "2022-03-19T18:15:23.465Z"
   },
   {
    "duration": 87,
    "start_time": "2022-03-19T18:15:23.483Z"
   },
   {
    "duration": 10,
    "start_time": "2022-03-19T18:15:23.575Z"
   },
   {
    "duration": 5,
    "start_time": "2022-03-19T18:15:23.588Z"
   },
   {
    "duration": 4,
    "start_time": "2022-03-19T18:15:23.596Z"
   },
   {
    "duration": 8,
    "start_time": "2022-03-19T18:15:23.603Z"
   },
   {
    "duration": 281,
    "start_time": "2022-03-19T18:15:23.614Z"
   },
   {
    "duration": 307,
    "start_time": "2022-03-19T18:15:23.959Z"
   },
   {
    "duration": 281,
    "start_time": "2022-03-19T18:15:24.269Z"
   },
   {
    "duration": 15,
    "start_time": "2022-03-19T18:15:24.563Z"
   },
   {
    "duration": 76,
    "start_time": "2022-03-19T18:15:24.580Z"
   },
   {
    "duration": 15,
    "start_time": "2022-03-19T18:15:24.667Z"
   },
   {
    "duration": 10,
    "start_time": "2022-03-19T18:15:24.685Z"
   },
   {
    "duration": 9,
    "start_time": "2022-03-19T18:15:24.698Z"
   },
   {
    "duration": 7,
    "start_time": "2022-03-19T18:15:24.710Z"
   },
   {
    "duration": 2017,
    "start_time": "2022-03-19T18:15:24.719Z"
   },
   {
    "duration": 1959,
    "start_time": "2022-03-19T18:15:26.739Z"
   },
   {
    "duration": 1901,
    "start_time": "2022-03-19T18:15:28.701Z"
   },
   {
    "duration": 6,
    "start_time": "2022-03-19T18:15:30.605Z"
   },
   {
    "duration": 1434,
    "start_time": "2022-03-19T18:15:30.613Z"
   },
   {
    "duration": 8,
    "start_time": "2022-03-19T18:15:32.052Z"
   },
   {
    "duration": 29,
    "start_time": "2022-03-19T18:15:32.063Z"
   },
   {
    "duration": 4091,
    "start_time": "2022-03-19T18:23:27.804Z"
   },
   {
    "duration": 3474,
    "start_time": "2022-03-19T18:23:31.898Z"
   },
   {
    "duration": 5,
    "start_time": "2022-03-19T18:23:35.375Z"
   },
   {
    "duration": 191,
    "start_time": "2022-03-19T18:23:35.384Z"
   },
   {
    "duration": 165,
    "start_time": "2022-03-19T18:23:35.578Z"
   },
   {
    "duration": 171,
    "start_time": "2022-03-19T18:23:35.748Z"
   },
   {
    "duration": 4,
    "start_time": "2022-03-19T18:23:35.922Z"
   },
   {
    "duration": 35,
    "start_time": "2022-03-19T18:23:35.929Z"
   },
   {
    "duration": 14338,
    "start_time": "2022-03-19T18:23:35.967Z"
   },
   {
    "duration": 13084,
    "start_time": "2022-03-19T18:23:50.310Z"
   },
   {
    "duration": 15551,
    "start_time": "2022-03-19T18:24:03.397Z"
   },
   {
    "duration": 146,
    "start_time": "2022-03-19T18:24:18.951Z"
   },
   {
    "duration": 178,
    "start_time": "2022-03-19T18:24:19.100Z"
   },
   {
    "duration": 11,
    "start_time": "2022-03-19T18:24:19.281Z"
   },
   {
    "duration": 12,
    "start_time": "2022-03-19T18:24:19.295Z"
   },
   {
    "duration": 357,
    "start_time": "2022-03-19T18:24:19.310Z"
   },
   {
    "duration": 93,
    "start_time": "2022-03-19T18:24:19.761Z"
   },
   {
    "duration": 10,
    "start_time": "2022-03-19T18:24:19.857Z"
   },
   {
    "duration": 11,
    "start_time": "2022-03-19T18:24:19.869Z"
   },
   {
    "duration": 8,
    "start_time": "2022-03-19T18:24:19.882Z"
   },
   {
    "duration": 7,
    "start_time": "2022-03-19T18:24:19.893Z"
   },
   {
    "duration": 8,
    "start_time": "2022-03-19T18:24:19.902Z"
   },
   {
    "duration": 259,
    "start_time": "2022-03-19T18:24:19.912Z"
   },
   {
    "duration": 308,
    "start_time": "2022-03-19T18:24:20.246Z"
   },
   {
    "duration": 308,
    "start_time": "2022-03-19T18:24:20.558Z"
   },
   {
    "duration": 83,
    "start_time": "2022-03-19T18:24:20.868Z"
   },
   {
    "duration": 124,
    "start_time": "2022-03-19T18:24:20.954Z"
   },
   {
    "duration": 40,
    "start_time": "2022-03-19T18:24:21.083Z"
   },
   {
    "duration": 17,
    "start_time": "2022-03-19T18:24:21.126Z"
   },
   {
    "duration": 66,
    "start_time": "2022-03-19T18:24:21.146Z"
   },
   {
    "duration": 47,
    "start_time": "2022-03-19T18:24:21.214Z"
   },
   {
    "duration": 1837,
    "start_time": "2022-03-19T18:24:21.264Z"
   },
   {
    "duration": 1907,
    "start_time": "2022-03-19T18:24:23.103Z"
   },
   {
    "duration": 1778,
    "start_time": "2022-03-19T18:24:25.012Z"
   },
   {
    "duration": 7,
    "start_time": "2022-03-19T18:24:26.792Z"
   },
   {
    "duration": 1362,
    "start_time": "2022-03-19T18:24:26.802Z"
   },
   {
    "duration": 7,
    "start_time": "2022-03-19T18:24:28.166Z"
   },
   {
    "duration": 15,
    "start_time": "2022-03-19T18:24:28.176Z"
   },
   {
    "duration": 101958,
    "start_time": "2022-03-20T11:43:17.193Z"
   },
   {
    "duration": 2726,
    "start_time": "2022-03-20T11:44:59.153Z"
   },
   {
    "duration": 3,
    "start_time": "2022-03-20T11:45:01.881Z"
   },
   {
    "duration": 383,
    "start_time": "2022-03-20T11:45:01.886Z"
   },
   {
    "duration": 116,
    "start_time": "2022-03-20T11:45:02.271Z"
   },
   {
    "duration": 122,
    "start_time": "2022-03-20T11:45:02.389Z"
   },
   {
    "duration": 4,
    "start_time": "2022-03-20T11:45:02.512Z"
   },
   {
    "duration": 26,
    "start_time": "2022-03-20T11:45:02.517Z"
   },
   {
    "duration": 8615,
    "start_time": "2022-03-20T11:45:02.544Z"
   },
   {
    "duration": 9956,
    "start_time": "2022-03-20T11:45:11.162Z"
   },
   {
    "duration": 8702,
    "start_time": "2022-03-20T11:45:21.120Z"
   },
   {
    "duration": 58,
    "start_time": "2022-03-20T11:45:29.833Z"
   },
   {
    "duration": 102,
    "start_time": "2022-03-20T11:45:29.933Z"
   },
   {
    "duration": 8,
    "start_time": "2022-03-20T11:45:30.038Z"
   },
   {
    "duration": 15,
    "start_time": "2022-03-20T11:45:30.048Z"
   },
   {
    "duration": 382,
    "start_time": "2022-03-20T11:45:30.065Z"
   },
   {
    "duration": 3,
    "start_time": "2022-03-20T11:45:30.449Z"
   },
   {
    "duration": 101,
    "start_time": "2022-03-20T11:45:30.533Z"
   },
   {
    "duration": 5,
    "start_time": "2022-03-20T11:45:30.636Z"
   },
   {
    "duration": 5,
    "start_time": "2022-03-20T11:45:30.643Z"
   },
   {
    "duration": 14,
    "start_time": "2022-03-20T11:45:30.650Z"
   },
   {
    "duration": 10,
    "start_time": "2022-03-20T11:45:30.666Z"
   },
   {
    "duration": 164,
    "start_time": "2022-03-20T11:45:30.678Z"
   },
   {
    "duration": 393,
    "start_time": "2022-03-20T11:45:30.844Z"
   },
   {
    "duration": 397,
    "start_time": "2022-03-20T11:45:31.239Z"
   },
   {
    "duration": 3,
    "start_time": "2022-03-20T11:45:31.638Z"
   },
   {
    "duration": 100,
    "start_time": "2022-03-20T11:45:31.643Z"
   },
   {
    "duration": 6,
    "start_time": "2022-03-20T11:45:31.833Z"
   },
   {
    "duration": 5,
    "start_time": "2022-03-20T11:45:31.840Z"
   },
   {
    "duration": 5,
    "start_time": "2022-03-20T11:45:31.847Z"
   },
   {
    "duration": 1227,
    "start_time": "2022-03-20T11:47:44.593Z"
   },
   {
    "duration": 6,
    "start_time": "2022-03-20T11:48:44.902Z"
   },
   {
    "duration": 7,
    "start_time": "2022-03-20T11:48:54.135Z"
   },
   {
    "duration": 5,
    "start_time": "2022-03-20T11:49:03.145Z"
   },
   {
    "duration": 6,
    "start_time": "2022-03-20T11:49:09.330Z"
   },
   {
    "duration": 6,
    "start_time": "2022-03-20T11:49:56.590Z"
   },
   {
    "duration": 138,
    "start_time": "2022-03-20T11:50:14.904Z"
   },
   {
    "duration": 4,
    "start_time": "2022-03-20T11:50:19.642Z"
   },
   {
    "duration": 3,
    "start_time": "2022-03-20T11:50:23.326Z"
   },
   {
    "duration": 6,
    "start_time": "2022-03-20T11:50:33.385Z"
   },
   {
    "duration": 5,
    "start_time": "2022-03-20T11:51:00.393Z"
   },
   {
    "duration": 4,
    "start_time": "2022-03-20T11:51:10.792Z"
   },
   {
    "duration": 5,
    "start_time": "2022-03-20T11:51:19.863Z"
   },
   {
    "duration": 5,
    "start_time": "2022-03-20T11:51:22.712Z"
   },
   {
    "duration": 6,
    "start_time": "2022-03-20T11:51:43.497Z"
   },
   {
    "duration": 5,
    "start_time": "2022-03-20T11:51:51.191Z"
   },
   {
    "duration": 7,
    "start_time": "2022-03-20T11:52:07.355Z"
   },
   {
    "duration": 5,
    "start_time": "2022-03-20T11:52:23.802Z"
   },
   {
    "duration": 4,
    "start_time": "2022-03-20T11:53:04.207Z"
   },
   {
    "duration": 5,
    "start_time": "2022-03-20T11:53:06.220Z"
   },
   {
    "duration": 3,
    "start_time": "2022-03-20T11:53:09.092Z"
   },
   {
    "duration": 5,
    "start_time": "2022-03-20T11:53:10.046Z"
   },
   {
    "duration": 4,
    "start_time": "2022-03-20T11:55:02.346Z"
   },
   {
    "duration": 8,
    "start_time": "2022-03-20T11:55:47.436Z"
   },
   {
    "duration": 6,
    "start_time": "2022-03-20T11:56:03.642Z"
   },
   {
    "duration": 5,
    "start_time": "2022-03-20T11:59:25.568Z"
   },
   {
    "duration": 9,
    "start_time": "2022-03-20T11:59:26.230Z"
   },
   {
    "duration": 7,
    "start_time": "2022-03-20T11:59:33.211Z"
   },
   {
    "duration": 6,
    "start_time": "2022-03-20T12:01:09.467Z"
   },
   {
    "duration": 1755,
    "start_time": "2022-03-20T12:01:40.099Z"
   },
   {
    "duration": 3,
    "start_time": "2022-03-20T12:02:09.440Z"
   },
   {
    "duration": 1034,
    "start_time": "2022-03-20T12:02:14.179Z"
   },
   {
    "duration": 1231,
    "start_time": "2022-03-20T12:04:00.002Z"
   },
   {
    "duration": 1068,
    "start_time": "2022-03-20T12:04:20.164Z"
   },
   {
    "duration": 3,
    "start_time": "2022-03-20T12:04:27.773Z"
   },
   {
    "duration": 1315,
    "start_time": "2022-03-20T12:04:32.856Z"
   },
   {
    "duration": 3,
    "start_time": "2022-03-20T12:04:53.519Z"
   },
   {
    "duration": 4,
    "start_time": "2022-03-20T12:04:54.373Z"
   },
   {
    "duration": 8,
    "start_time": "2022-03-20T12:04:58.527Z"
   },
   {
    "duration": 4,
    "start_time": "2022-03-20T12:05:03.519Z"
   },
   {
    "duration": 3,
    "start_time": "2022-03-20T12:05:06.150Z"
   },
   {
    "duration": 7,
    "start_time": "2022-03-20T12:05:07.165Z"
   },
   {
    "duration": 6,
    "start_time": "2022-03-20T12:05:56.357Z"
   },
   {
    "duration": 3,
    "start_time": "2022-03-20T12:06:20.222Z"
   },
   {
    "duration": 4,
    "start_time": "2022-03-20T12:06:26.610Z"
   },
   {
    "duration": 6,
    "start_time": "2022-03-20T12:06:35.133Z"
   },
   {
    "duration": 5,
    "start_time": "2022-03-20T12:06:36.203Z"
   },
   {
    "duration": 4,
    "start_time": "2022-03-20T12:06:42.348Z"
   },
   {
    "duration": 6,
    "start_time": "2022-03-20T12:06:52.427Z"
   },
   {
    "duration": 6,
    "start_time": "2022-03-20T12:07:32.094Z"
   },
   {
    "duration": 7,
    "start_time": "2022-03-20T12:08:33.226Z"
   },
   {
    "duration": 4,
    "start_time": "2022-03-20T12:34:35.556Z"
   },
   {
    "duration": 4,
    "start_time": "2022-03-20T12:35:33.903Z"
   },
   {
    "duration": 5,
    "start_time": "2022-03-20T12:35:41.496Z"
   },
   {
    "duration": 1055,
    "start_time": "2022-03-20T12:36:00.337Z"
   },
   {
    "duration": 3,
    "start_time": "2022-03-20T12:36:12.403Z"
   },
   {
    "duration": 1189,
    "start_time": "2022-03-20T12:36:27.724Z"
   },
   {
    "duration": 5,
    "start_time": "2022-03-20T12:47:00.332Z"
   },
   {
    "duration": 1100,
    "start_time": "2022-03-20T12:47:09.402Z"
   },
   {
    "duration": 4,
    "start_time": "2022-03-20T13:01:53.572Z"
   },
   {
    "duration": 851,
    "start_time": "2022-03-20T13:02:12.567Z"
   },
   {
    "duration": 46,
    "start_time": "2022-03-20T15:46:08.380Z"
   },
   {
    "duration": 14043,
    "start_time": "2022-03-20T15:46:17.148Z"
   },
   {
    "duration": 3071,
    "start_time": "2022-03-20T15:46:31.194Z"
   },
   {
    "duration": 3,
    "start_time": "2022-03-20T15:46:34.267Z"
   },
   {
    "duration": 162,
    "start_time": "2022-03-20T15:46:34.272Z"
   },
   {
    "duration": 119,
    "start_time": "2022-03-20T15:46:34.435Z"
   },
   {
    "duration": 120,
    "start_time": "2022-03-20T15:46:34.556Z"
   },
   {
    "duration": 3,
    "start_time": "2022-03-20T15:46:34.681Z"
   },
   {
    "duration": 34,
    "start_time": "2022-03-20T15:46:34.686Z"
   },
   {
    "duration": 8409,
    "start_time": "2022-03-20T15:46:34.722Z"
   },
   {
    "duration": 8628,
    "start_time": "2022-03-20T15:46:43.134Z"
   },
   {
    "duration": 11550,
    "start_time": "2022-03-20T15:46:51.764Z"
   },
   {
    "duration": 101,
    "start_time": "2022-03-20T15:47:03.315Z"
   },
   {
    "duration": 284,
    "start_time": "2022-03-20T15:47:03.418Z"
   },
   {
    "duration": 5,
    "start_time": "2022-03-20T15:47:03.704Z"
   },
   {
    "duration": 9,
    "start_time": "2022-03-20T15:47:03.711Z"
   },
   {
    "duration": 461,
    "start_time": "2022-03-20T15:47:03.721Z"
   },
   {
    "duration": 4,
    "start_time": "2022-03-20T15:47:04.184Z"
   },
   {
    "duration": 97,
    "start_time": "2022-03-20T15:47:04.190Z"
   },
   {
    "duration": 5,
    "start_time": "2022-03-20T15:47:04.289Z"
   },
   {
    "duration": 4,
    "start_time": "2022-03-20T15:47:04.296Z"
   },
   {
    "duration": 4,
    "start_time": "2022-03-20T15:47:04.302Z"
   },
   {
    "duration": 16,
    "start_time": "2022-03-20T15:47:04.307Z"
   },
   {
    "duration": 171,
    "start_time": "2022-03-20T15:47:04.325Z"
   },
   {
    "duration": 387,
    "start_time": "2022-03-20T15:47:04.499Z"
   },
   {
    "duration": 393,
    "start_time": "2022-03-20T15:47:04.888Z"
   },
   {
    "duration": 3,
    "start_time": "2022-03-20T15:47:05.284Z"
   },
   {
    "duration": 97,
    "start_time": "2022-03-20T15:47:05.288Z"
   },
   {
    "duration": 8,
    "start_time": "2022-03-20T15:47:05.389Z"
   },
   {
    "duration": 6,
    "start_time": "2022-03-20T15:47:05.398Z"
   },
   {
    "duration": 11,
    "start_time": "2022-03-20T15:47:05.406Z"
   },
   {
    "duration": 4,
    "start_time": "2022-03-20T15:47:05.419Z"
   },
   {
    "duration": 1067,
    "start_time": "2022-03-20T15:47:05.425Z"
   },
   {
    "duration": 1035,
    "start_time": "2022-03-20T15:47:06.493Z"
   },
   {
    "duration": 1027,
    "start_time": "2022-03-20T15:47:07.529Z"
   },
   {
    "duration": 4,
    "start_time": "2022-03-20T15:47:08.558Z"
   },
   {
    "duration": 899,
    "start_time": "2022-03-20T15:47:08.564Z"
   },
   {
    "duration": 16,
    "start_time": "2022-03-20T15:47:09.465Z"
   },
   {
    "duration": 23,
    "start_time": "2022-03-20T15:47:09.483Z"
   },
   {
    "duration": 51,
    "start_time": "2022-03-20T15:54:10.736Z"
   },
   {
    "duration": 30,
    "start_time": "2022-03-20T15:57:06.196Z"
   },
   {
    "duration": 2485,
    "start_time": "2022-03-20T15:57:48.116Z"
   },
   {
    "duration": 2035,
    "start_time": "2022-03-20T15:57:50.603Z"
   },
   {
    "duration": 2,
    "start_time": "2022-03-20T15:57:52.640Z"
   },
   {
    "duration": 124,
    "start_time": "2022-03-20T15:57:52.644Z"
   },
   {
    "duration": 112,
    "start_time": "2022-03-20T15:57:52.769Z"
   },
   {
    "duration": 114,
    "start_time": "2022-03-20T15:57:52.883Z"
   },
   {
    "duration": 2,
    "start_time": "2022-03-20T15:57:52.998Z"
   },
   {
    "duration": 15,
    "start_time": "2022-03-20T15:57:53.002Z"
   },
   {
    "duration": 7984,
    "start_time": "2022-03-20T15:57:53.019Z"
   },
   {
    "duration": 7695,
    "start_time": "2022-03-20T15:58:01.006Z"
   },
   {
    "duration": 8054,
    "start_time": "2022-03-20T15:58:08.703Z"
   },
   {
    "duration": 76,
    "start_time": "2022-03-20T15:58:16.759Z"
   },
   {
    "duration": 119,
    "start_time": "2022-03-20T15:58:16.837Z"
   },
   {
    "duration": 5,
    "start_time": "2022-03-20T15:58:16.958Z"
   },
   {
    "duration": 19,
    "start_time": "2022-03-20T15:58:16.980Z"
   },
   {
    "duration": 486,
    "start_time": "2022-03-20T15:58:17.001Z"
   },
   {
    "duration": 5,
    "start_time": "2022-03-20T15:58:17.490Z"
   },
   {
    "duration": 103,
    "start_time": "2022-03-20T15:58:17.498Z"
   },
   {
    "duration": 13,
    "start_time": "2022-03-20T15:58:17.603Z"
   },
   {
    "duration": 16,
    "start_time": "2022-03-20T15:58:17.617Z"
   },
   {
    "duration": 15,
    "start_time": "2022-03-20T15:58:17.635Z"
   },
   {
    "duration": 17,
    "start_time": "2022-03-20T15:58:17.652Z"
   },
   {
    "duration": 34,
    "start_time": "2022-03-20T15:58:17.671Z"
   },
   {
    "duration": 107,
    "start_time": "2022-03-20T15:58:17.789Z"
   },
   {
    "duration": 189,
    "start_time": "2022-03-20T15:58:17.898Z"
   },
   {
    "duration": 93,
    "start_time": "2022-03-20T15:58:18.089Z"
   },
   {
    "duration": 118,
    "start_time": "2022-03-20T15:58:18.185Z"
   },
   {
    "duration": 25,
    "start_time": "2022-03-20T15:58:18.306Z"
   },
   {
    "duration": 9,
    "start_time": "2022-03-20T15:58:18.333Z"
   },
   {
    "duration": 149,
    "start_time": "2022-03-20T15:58:18.343Z"
   },
   {
    "duration": 0,
    "start_time": "2022-03-20T15:58:18.494Z"
   },
   {
    "duration": 0,
    "start_time": "2022-03-20T15:58:18.495Z"
   },
   {
    "duration": 0,
    "start_time": "2022-03-20T15:58:18.496Z"
   },
   {
    "duration": 0,
    "start_time": "2022-03-20T15:58:18.497Z"
   },
   {
    "duration": 0,
    "start_time": "2022-03-20T15:58:18.498Z"
   },
   {
    "duration": 0,
    "start_time": "2022-03-20T15:58:18.499Z"
   },
   {
    "duration": 0,
    "start_time": "2022-03-20T15:58:18.500Z"
   },
   {
    "duration": 0,
    "start_time": "2022-03-20T15:58:18.501Z"
   },
   {
    "duration": 24,
    "start_time": "2022-03-20T15:59:10.231Z"
   },
   {
    "duration": 3,
    "start_time": "2022-03-20T15:59:10.708Z"
   },
   {
    "duration": 2496,
    "start_time": "2022-03-20T15:59:21.527Z"
   },
   {
    "duration": 2620,
    "start_time": "2022-03-20T15:59:24.027Z"
   },
   {
    "duration": 3,
    "start_time": "2022-03-20T15:59:26.649Z"
   },
   {
    "duration": 129,
    "start_time": "2022-03-20T15:59:26.654Z"
   },
   {
    "duration": 119,
    "start_time": "2022-03-20T15:59:26.785Z"
   },
   {
    "duration": 120,
    "start_time": "2022-03-20T15:59:26.906Z"
   },
   {
    "duration": 2,
    "start_time": "2022-03-20T15:59:27.028Z"
   },
   {
    "duration": 15,
    "start_time": "2022-03-20T15:59:27.032Z"
   },
   {
    "duration": 9158,
    "start_time": "2022-03-20T15:59:27.049Z"
   },
   {
    "duration": 8478,
    "start_time": "2022-03-20T15:59:36.211Z"
   },
   {
    "duration": 10005,
    "start_time": "2022-03-20T15:59:44.690Z"
   },
   {
    "duration": 105,
    "start_time": "2022-03-20T15:59:54.697Z"
   },
   {
    "duration": 92,
    "start_time": "2022-03-20T15:59:54.804Z"
   },
   {
    "duration": 5,
    "start_time": "2022-03-20T15:59:54.898Z"
   },
   {
    "duration": 7,
    "start_time": "2022-03-20T15:59:54.905Z"
   },
   {
    "duration": 467,
    "start_time": "2022-03-20T15:59:54.914Z"
   },
   {
    "duration": 3,
    "start_time": "2022-03-20T15:59:55.387Z"
   },
   {
    "duration": 95,
    "start_time": "2022-03-20T15:59:55.392Z"
   },
   {
    "duration": 7,
    "start_time": "2022-03-20T15:59:55.488Z"
   },
   {
    "duration": 6,
    "start_time": "2022-03-20T15:59:55.496Z"
   },
   {
    "duration": 6,
    "start_time": "2022-03-20T15:59:55.504Z"
   },
   {
    "duration": 7,
    "start_time": "2022-03-20T15:59:55.512Z"
   },
   {
    "duration": 65,
    "start_time": "2022-03-20T15:59:55.520Z"
   },
   {
    "duration": 109,
    "start_time": "2022-03-20T15:59:55.587Z"
   },
   {
    "duration": 283,
    "start_time": "2022-03-20T15:59:55.698Z"
   },
   {
    "duration": 4,
    "start_time": "2022-03-20T15:59:55.983Z"
   },
   {
    "duration": 111,
    "start_time": "2022-03-20T15:59:55.988Z"
   },
   {
    "duration": 11,
    "start_time": "2022-03-20T15:59:56.103Z"
   },
   {
    "duration": 10,
    "start_time": "2022-03-20T15:59:56.117Z"
   },
   {
    "duration": 9,
    "start_time": "2022-03-20T15:59:56.130Z"
   },
   {
    "duration": 6,
    "start_time": "2022-03-20T15:59:56.141Z"
   },
   {
    "duration": 1522,
    "start_time": "2022-03-20T15:59:56.149Z"
   },
   {
    "duration": 1515,
    "start_time": "2022-03-20T15:59:57.673Z"
   },
   {
    "duration": 1207,
    "start_time": "2022-03-20T15:59:59.190Z"
   },
   {
    "duration": 5,
    "start_time": "2022-03-20T16:00:00.399Z"
   },
   {
    "duration": 997,
    "start_time": "2022-03-20T16:00:00.405Z"
   },
   {
    "duration": 5,
    "start_time": "2022-03-20T16:00:01.403Z"
   },
   {
    "duration": 29,
    "start_time": "2022-03-20T16:00:01.410Z"
   },
   {
    "duration": 197,
    "start_time": "2022-03-20T16:01:15.704Z"
   },
   {
    "duration": 205,
    "start_time": "2022-03-20T16:01:19.795Z"
   },
   {
    "duration": 198,
    "start_time": "2022-03-20T16:01:37.861Z"
   },
   {
    "duration": 65,
    "start_time": "2022-03-20T16:02:33.223Z"
   },
   {
    "duration": 26,
    "start_time": "2022-03-20T16:02:58.287Z"
   },
   {
    "duration": 2482,
    "start_time": "2022-03-20T16:08:22.548Z"
   },
   {
    "duration": 2057,
    "start_time": "2022-03-20T16:08:25.032Z"
   },
   {
    "duration": 3,
    "start_time": "2022-03-20T16:08:27.091Z"
   },
   {
    "duration": 137,
    "start_time": "2022-03-20T16:08:27.095Z"
   },
   {
    "duration": 121,
    "start_time": "2022-03-20T16:08:27.234Z"
   },
   {
    "duration": 119,
    "start_time": "2022-03-20T16:08:27.357Z"
   },
   {
    "duration": 3,
    "start_time": "2022-03-20T16:08:27.480Z"
   },
   {
    "duration": 14,
    "start_time": "2022-03-20T16:08:27.484Z"
   },
   {
    "duration": 8450,
    "start_time": "2022-03-20T16:08:27.500Z"
   },
   {
    "duration": 8107,
    "start_time": "2022-03-20T16:08:35.952Z"
   },
   {
    "duration": 8072,
    "start_time": "2022-03-20T16:08:44.061Z"
   },
   {
    "duration": 147,
    "start_time": "2022-03-20T16:08:52.135Z"
   },
   {
    "duration": 135,
    "start_time": "2022-03-20T16:08:52.284Z"
   },
   {
    "duration": 6,
    "start_time": "2022-03-20T16:08:52.423Z"
   },
   {
    "duration": 26,
    "start_time": "2022-03-20T16:08:52.431Z"
   },
   {
    "duration": 430,
    "start_time": "2022-03-20T16:08:52.459Z"
   },
   {
    "duration": 4,
    "start_time": "2022-03-20T16:08:52.891Z"
   },
   {
    "duration": 100,
    "start_time": "2022-03-20T16:08:52.982Z"
   },
   {
    "duration": 19,
    "start_time": "2022-03-20T16:08:53.084Z"
   },
   {
    "duration": 21,
    "start_time": "2022-03-20T16:08:53.105Z"
   },
   {
    "duration": 14,
    "start_time": "2022-03-20T16:08:53.127Z"
   },
   {
    "duration": 19,
    "start_time": "2022-03-20T16:08:53.143Z"
   },
   {
    "duration": 31,
    "start_time": "2022-03-20T16:08:53.163Z"
   },
   {
    "duration": 196,
    "start_time": "2022-03-20T16:08:53.196Z"
   },
   {
    "duration": 197,
    "start_time": "2022-03-20T16:08:53.395Z"
   },
   {
    "duration": 88,
    "start_time": "2022-03-20T16:08:53.595Z"
   },
   {
    "duration": 100,
    "start_time": "2022-03-20T16:08:53.685Z"
   },
   {
    "duration": 8,
    "start_time": "2022-03-20T16:08:53.787Z"
   },
   {
    "duration": 4,
    "start_time": "2022-03-20T16:08:53.797Z"
   },
   {
    "duration": 6,
    "start_time": "2022-03-20T16:08:53.803Z"
   },
   {
    "duration": 6,
    "start_time": "2022-03-20T16:08:53.811Z"
   },
   {
    "duration": 1365,
    "start_time": "2022-03-20T16:08:53.819Z"
   },
   {
    "duration": 1335,
    "start_time": "2022-03-20T16:08:55.186Z"
   },
   {
    "duration": 834,
    "start_time": "2022-03-20T16:08:56.523Z"
   },
   {
    "duration": 4,
    "start_time": "2022-03-20T16:08:57.358Z"
   },
   {
    "duration": 941,
    "start_time": "2022-03-20T16:08:57.364Z"
   },
   {
    "duration": 6,
    "start_time": "2022-03-20T16:08:58.308Z"
   },
   {
    "duration": 13,
    "start_time": "2022-03-20T16:08:58.315Z"
   },
   {
    "duration": 4,
    "start_time": "2022-03-20T16:16:54.058Z"
   },
   {
    "duration": 1381,
    "start_time": "2022-03-20T16:16:55.500Z"
   },
   {
    "duration": 5,
    "start_time": "2022-03-20T16:17:09.298Z"
   },
   {
    "duration": 1123,
    "start_time": "2022-03-20T16:17:10.003Z"
   },
   {
    "duration": 5,
    "start_time": "2022-03-20T16:17:37.007Z"
   },
   {
    "duration": 1158,
    "start_time": "2022-03-20T16:17:37.433Z"
   },
   {
    "duration": 5,
    "start_time": "2022-03-20T16:22:31.507Z"
   },
   {
    "duration": 2459,
    "start_time": "2022-03-20T16:22:48.693Z"
   },
   {
    "duration": 3031,
    "start_time": "2022-03-20T16:22:51.154Z"
   },
   {
    "duration": 3,
    "start_time": "2022-03-20T16:22:54.186Z"
   },
   {
    "duration": 133,
    "start_time": "2022-03-20T16:22:54.191Z"
   },
   {
    "duration": 114,
    "start_time": "2022-03-20T16:22:54.325Z"
   },
   {
    "duration": 118,
    "start_time": "2022-03-20T16:22:54.441Z"
   },
   {
    "duration": 2,
    "start_time": "2022-03-20T16:22:54.561Z"
   },
   {
    "duration": 25,
    "start_time": "2022-03-20T16:22:54.565Z"
   },
   {
    "duration": 8023,
    "start_time": "2022-03-20T16:22:54.591Z"
   },
   {
    "duration": 7741,
    "start_time": "2022-03-20T16:23:02.618Z"
   },
   {
    "duration": 8385,
    "start_time": "2022-03-20T16:23:10.360Z"
   },
   {
    "duration": 58,
    "start_time": "2022-03-20T16:23:18.746Z"
   },
   {
    "duration": 89,
    "start_time": "2022-03-20T16:23:18.806Z"
   },
   {
    "duration": 5,
    "start_time": "2022-03-20T16:23:18.896Z"
   },
   {
    "duration": 10,
    "start_time": "2022-03-20T16:23:18.902Z"
   },
   {
    "duration": 369,
    "start_time": "2022-03-20T16:23:18.913Z"
   },
   {
    "duration": 3,
    "start_time": "2022-03-20T16:23:19.284Z"
   },
   {
    "duration": 101,
    "start_time": "2022-03-20T16:23:19.289Z"
   },
   {
    "duration": 5,
    "start_time": "2022-03-20T16:23:19.391Z"
   },
   {
    "duration": 7,
    "start_time": "2022-03-20T16:23:19.398Z"
   },
   {
    "duration": 7,
    "start_time": "2022-03-20T16:23:19.406Z"
   },
   {
    "duration": 5,
    "start_time": "2022-03-20T16:23:19.415Z"
   },
   {
    "duration": 21,
    "start_time": "2022-03-20T16:23:19.421Z"
   },
   {
    "duration": 146,
    "start_time": "2022-03-20T16:23:19.443Z"
   },
   {
    "duration": 192,
    "start_time": "2022-03-20T16:23:19.591Z"
   },
   {
    "duration": 103,
    "start_time": "2022-03-20T16:23:19.785Z"
   },
   {
    "duration": 7,
    "start_time": "2022-03-20T16:23:19.890Z"
   },
   {
    "duration": 8,
    "start_time": "2022-03-20T16:23:19.901Z"
   },
   {
    "duration": 6,
    "start_time": "2022-03-20T16:23:19.980Z"
   },
   {
    "duration": 5,
    "start_time": "2022-03-20T16:23:19.987Z"
   },
   {
    "duration": 4,
    "start_time": "2022-03-20T16:23:19.993Z"
   },
   {
    "duration": 986,
    "start_time": "2022-03-20T16:23:19.999Z"
   },
   {
    "duration": 826,
    "start_time": "2022-03-20T16:23:20.987Z"
   },
   {
    "duration": 806,
    "start_time": "2022-03-20T16:23:21.815Z"
   },
   {
    "duration": 4,
    "start_time": "2022-03-20T16:23:22.623Z"
   },
   {
    "duration": 9,
    "start_time": "2022-03-20T16:25:53.486Z"
   },
   {
    "duration": 43,
    "start_time": "2022-03-20T16:25:54.130Z"
   },
   {
    "duration": 3342,
    "start_time": "2022-03-20T16:26:05.340Z"
   },
   {
    "duration": 3224,
    "start_time": "2022-03-20T16:26:08.684Z"
   },
   {
    "duration": 3,
    "start_time": "2022-03-20T16:26:11.910Z"
   },
   {
    "duration": 127,
    "start_time": "2022-03-20T16:26:11.915Z"
   },
   {
    "duration": 121,
    "start_time": "2022-03-20T16:26:12.044Z"
   },
   {
    "duration": 123,
    "start_time": "2022-03-20T16:26:12.167Z"
   },
   {
    "duration": 3,
    "start_time": "2022-03-20T16:26:12.292Z"
   },
   {
    "duration": 16,
    "start_time": "2022-03-20T16:26:12.297Z"
   },
   {
    "duration": 8360,
    "start_time": "2022-03-20T16:26:12.314Z"
   },
   {
    "duration": 8404,
    "start_time": "2022-03-20T16:26:20.678Z"
   },
   {
    "duration": 8337,
    "start_time": "2022-03-20T16:26:29.084Z"
   },
   {
    "duration": 94,
    "start_time": "2022-03-20T16:26:37.422Z"
   },
   {
    "duration": 113,
    "start_time": "2022-03-20T16:26:37.518Z"
   },
   {
    "duration": 5,
    "start_time": "2022-03-20T16:26:37.632Z"
   },
   {
    "duration": 8,
    "start_time": "2022-03-20T16:26:37.639Z"
   },
   {
    "duration": 432,
    "start_time": "2022-03-20T16:26:37.648Z"
   },
   {
    "duration": 4,
    "start_time": "2022-03-20T16:26:38.082Z"
   },
   {
    "duration": 103,
    "start_time": "2022-03-20T16:26:38.088Z"
   },
   {
    "duration": 28,
    "start_time": "2022-03-20T16:26:38.193Z"
   },
   {
    "duration": 17,
    "start_time": "2022-03-20T16:26:38.223Z"
   },
   {
    "duration": 6,
    "start_time": "2022-03-20T16:26:38.242Z"
   },
   {
    "duration": 22,
    "start_time": "2022-03-20T16:26:38.250Z"
   },
   {
    "duration": 39,
    "start_time": "2022-03-20T16:26:38.274Z"
   },
   {
    "duration": 182,
    "start_time": "2022-03-20T16:26:38.315Z"
   },
   {
    "duration": 186,
    "start_time": "2022-03-20T16:26:38.499Z"
   },
   {
    "duration": 95,
    "start_time": "2022-03-20T16:26:38.688Z"
   },
   {
    "duration": 106,
    "start_time": "2022-03-20T16:26:38.787Z"
   },
   {
    "duration": 12,
    "start_time": "2022-03-20T16:26:38.896Z"
   },
   {
    "duration": 12,
    "start_time": "2022-03-20T16:26:38.910Z"
   },
   {
    "duration": 24,
    "start_time": "2022-03-20T16:26:38.923Z"
   },
   {
    "duration": 8,
    "start_time": "2022-03-20T16:26:38.949Z"
   },
   {
    "duration": 846,
    "start_time": "2022-03-20T16:26:38.959Z"
   },
   {
    "duration": 820,
    "start_time": "2022-03-20T16:26:39.807Z"
   },
   {
    "duration": 827,
    "start_time": "2022-03-20T16:26:40.628Z"
   },
   {
    "duration": 5,
    "start_time": "2022-03-20T16:26:41.456Z"
   },
   {
    "duration": 825,
    "start_time": "2022-03-20T16:26:41.462Z"
   },
   {
    "duration": 4,
    "start_time": "2022-03-20T16:26:42.289Z"
   },
   {
    "duration": 15,
    "start_time": "2022-03-20T16:26:42.295Z"
   },
   {
    "duration": 4,
    "start_time": "2022-03-20T16:29:08.310Z"
   },
   {
    "duration": 932,
    "start_time": "2022-03-20T16:29:09.337Z"
   },
   {
    "duration": 149,
    "start_time": "2022-03-20T16:34:02.727Z"
   },
   {
    "duration": 10,
    "start_time": "2022-03-20T16:35:38.269Z"
   },
   {
    "duration": 3,
    "start_time": "2022-03-20T16:36:06.307Z"
   },
   {
    "duration": 4,
    "start_time": "2022-03-20T16:36:07.354Z"
   },
   {
    "duration": 1778,
    "start_time": "2022-03-20T16:36:08.907Z"
   },
   {
    "duration": 3,
    "start_time": "2022-03-20T16:36:33.136Z"
   },
   {
    "duration": 4,
    "start_time": "2022-03-20T16:36:33.747Z"
   },
   {
    "duration": 916,
    "start_time": "2022-03-20T16:36:34.380Z"
   },
   {
    "duration": 3,
    "start_time": "2022-03-20T16:37:01.745Z"
   },
   {
    "duration": 4,
    "start_time": "2022-03-20T16:37:02.453Z"
   },
   {
    "duration": 921,
    "start_time": "2022-03-20T16:37:02.879Z"
   },
   {
    "duration": 4,
    "start_time": "2022-03-20T16:37:15.482Z"
   },
   {
    "duration": 1113,
    "start_time": "2022-03-20T16:37:15.488Z"
   },
   {
    "duration": 3,
    "start_time": "2022-03-20T16:37:41.966Z"
   },
   {
    "duration": 4,
    "start_time": "2022-03-20T16:37:42.581Z"
   },
   {
    "duration": 940,
    "start_time": "2022-03-20T16:37:43.164Z"
   },
   {
    "duration": 2486,
    "start_time": "2022-03-20T16:40:56.368Z"
   },
   {
    "duration": 2125,
    "start_time": "2022-03-20T16:40:58.856Z"
   },
   {
    "duration": 3,
    "start_time": "2022-03-20T16:41:00.982Z"
   },
   {
    "duration": 142,
    "start_time": "2022-03-20T16:41:00.987Z"
   },
   {
    "duration": 122,
    "start_time": "2022-03-20T16:41:01.131Z"
   },
   {
    "duration": 131,
    "start_time": "2022-03-20T16:41:01.254Z"
   },
   {
    "duration": 2,
    "start_time": "2022-03-20T16:41:01.387Z"
   },
   {
    "duration": 17,
    "start_time": "2022-03-20T16:41:01.391Z"
   },
   {
    "duration": 7969,
    "start_time": "2022-03-20T16:41:01.409Z"
   },
   {
    "duration": 7906,
    "start_time": "2022-03-20T16:41:09.382Z"
   },
   {
    "duration": 7881,
    "start_time": "2022-03-20T16:41:17.290Z"
   },
   {
    "duration": 59,
    "start_time": "2022-03-20T16:41:25.173Z"
   },
   {
    "duration": 120,
    "start_time": "2022-03-20T16:41:25.233Z"
   },
   {
    "duration": 4,
    "start_time": "2022-03-20T16:41:25.355Z"
   },
   {
    "duration": 7,
    "start_time": "2022-03-20T16:41:25.361Z"
   },
   {
    "duration": 314,
    "start_time": "2022-03-20T16:41:25.380Z"
   },
   {
    "duration": 4,
    "start_time": "2022-03-20T16:41:25.695Z"
   },
   {
    "duration": 181,
    "start_time": "2022-03-20T16:41:25.700Z"
   },
   {
    "duration": 3,
    "start_time": "2022-03-20T16:41:25.883Z"
   },
   {
    "duration": 11,
    "start_time": "2022-03-20T16:41:25.887Z"
   },
   {
    "duration": 12,
    "start_time": "2022-03-20T16:41:25.899Z"
   },
   {
    "duration": 9,
    "start_time": "2022-03-20T16:41:25.913Z"
   },
   {
    "duration": 30,
    "start_time": "2022-03-20T16:41:25.924Z"
   },
   {
    "duration": 111,
    "start_time": "2022-03-20T16:41:25.982Z"
   },
   {
    "duration": 198,
    "start_time": "2022-03-20T16:41:26.096Z"
   },
   {
    "duration": 4,
    "start_time": "2022-03-20T16:41:26.295Z"
   },
   {
    "duration": 103,
    "start_time": "2022-03-20T16:41:26.380Z"
   },
   {
    "duration": 6,
    "start_time": "2022-03-20T16:41:26.487Z"
   },
   {
    "duration": 6,
    "start_time": "2022-03-20T16:41:26.494Z"
   },
   {
    "duration": 5,
    "start_time": "2022-03-20T16:41:26.501Z"
   },
   {
    "duration": 4,
    "start_time": "2022-03-20T16:41:26.508Z"
   },
   {
    "duration": 852,
    "start_time": "2022-03-20T16:41:26.514Z"
   },
   {
    "duration": 797,
    "start_time": "2022-03-20T16:41:27.368Z"
   },
   {
    "duration": 809,
    "start_time": "2022-03-20T16:41:28.167Z"
   },
   {
    "duration": 3,
    "start_time": "2022-03-20T16:41:28.980Z"
   },
   {
    "duration": 5,
    "start_time": "2022-03-20T16:41:28.984Z"
   },
   {
    "duration": 923,
    "start_time": "2022-03-20T16:41:28.990Z"
   },
   {
    "duration": 4,
    "start_time": "2022-03-20T16:41:29.915Z"
   },
   {
    "duration": 13,
    "start_time": "2022-03-20T16:41:29.922Z"
   },
   {
    "duration": 2423,
    "start_time": "2022-03-20T16:42:56.635Z"
   },
   {
    "duration": 2110,
    "start_time": "2022-03-20T16:42:59.060Z"
   },
   {
    "duration": 3,
    "start_time": "2022-03-20T16:43:01.172Z"
   },
   {
    "duration": 131,
    "start_time": "2022-03-20T16:43:01.176Z"
   },
   {
    "duration": 125,
    "start_time": "2022-03-20T16:43:01.309Z"
   },
   {
    "duration": 126,
    "start_time": "2022-03-20T16:43:01.436Z"
   },
   {
    "duration": 3,
    "start_time": "2022-03-20T16:43:01.564Z"
   },
   {
    "duration": 22,
    "start_time": "2022-03-20T16:43:01.569Z"
   },
   {
    "duration": 8534,
    "start_time": "2022-03-20T16:43:01.593Z"
   },
   {
    "duration": 7863,
    "start_time": "2022-03-20T16:43:10.130Z"
   },
   {
    "duration": 8015,
    "start_time": "2022-03-20T16:43:17.995Z"
   },
   {
    "duration": 99,
    "start_time": "2022-03-20T16:43:26.012Z"
   },
   {
    "duration": 92,
    "start_time": "2022-03-20T16:43:26.112Z"
   },
   {
    "duration": 5,
    "start_time": "2022-03-20T16:43:26.206Z"
   },
   {
    "duration": 10,
    "start_time": "2022-03-20T16:43:26.213Z"
   },
   {
    "duration": 370,
    "start_time": "2022-03-20T16:43:26.225Z"
   },
   {
    "duration": 3,
    "start_time": "2022-03-20T16:43:26.598Z"
   },
   {
    "duration": 103,
    "start_time": "2022-03-20T16:43:26.682Z"
   },
   {
    "duration": 4,
    "start_time": "2022-03-20T16:43:26.787Z"
   },
   {
    "duration": 5,
    "start_time": "2022-03-20T16:43:26.793Z"
   },
   {
    "duration": 5,
    "start_time": "2022-03-20T16:43:26.800Z"
   },
   {
    "duration": 6,
    "start_time": "2022-03-20T16:43:26.806Z"
   },
   {
    "duration": 68,
    "start_time": "2022-03-20T16:43:26.813Z"
   },
   {
    "duration": 112,
    "start_time": "2022-03-20T16:43:26.884Z"
   },
   {
    "duration": 189,
    "start_time": "2022-03-20T16:43:26.998Z"
   },
   {
    "duration": 94,
    "start_time": "2022-03-20T16:43:27.189Z"
   },
   {
    "duration": 97,
    "start_time": "2022-03-20T16:43:27.285Z"
   },
   {
    "duration": 7,
    "start_time": "2022-03-20T16:43:27.386Z"
   },
   {
    "duration": 5,
    "start_time": "2022-03-20T16:43:27.394Z"
   },
   {
    "duration": 7,
    "start_time": "2022-03-20T16:43:27.401Z"
   },
   {
    "duration": 4,
    "start_time": "2022-03-20T16:43:27.409Z"
   },
   {
    "duration": 836,
    "start_time": "2022-03-20T16:43:27.414Z"
   },
   {
    "duration": 861,
    "start_time": "2022-03-20T16:43:28.252Z"
   },
   {
    "duration": 853,
    "start_time": "2022-03-20T16:43:29.114Z"
   },
   {
    "duration": 2,
    "start_time": "2022-03-20T16:43:29.969Z"
   },
   {
    "duration": 4,
    "start_time": "2022-03-20T16:43:29.981Z"
   },
   {
    "duration": 975,
    "start_time": "2022-03-20T16:43:29.987Z"
   },
   {
    "duration": 5,
    "start_time": "2022-03-20T16:43:30.963Z"
   },
   {
    "duration": 10,
    "start_time": "2022-03-20T16:43:30.981Z"
   }
  ],
  "kernelspec": {
   "display_name": "Python 3 (ipykernel)",
   "language": "python",
   "name": "python3"
  },
  "language_info": {
   "codemirror_mode": {
    "name": "ipython",
    "version": 3
   },
   "file_extension": ".py",
   "mimetype": "text/x-python",
   "name": "python",
   "nbconvert_exporter": "python",
   "pygments_lexer": "ipython3",
   "version": "3.7.8"
  },
  "toc": {
   "base_numbering": 1,
   "nav_menu": {},
   "number_sections": true,
   "sideBar": true,
   "skip_h1_title": true,
   "title_cell": "Table of Contents",
   "title_sidebar": "Contents",
   "toc_cell": false,
   "toc_position": {
    "height": "calc(100% - 180px)",
    "left": "10px",
    "top": "150px",
    "width": "478.351px"
   },
   "toc_section_display": true,
   "toc_window_display": true
  }
 },
 "nbformat": 4,
 "nbformat_minor": 2
}
